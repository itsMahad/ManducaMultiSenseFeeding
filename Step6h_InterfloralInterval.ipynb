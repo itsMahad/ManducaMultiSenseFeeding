{
 "cells": [
  {
   "cell_type": "code",
   "execution_count": 62,
   "metadata": {},
   "outputs": [],
   "source": [
    "import pandas as pd\n",
    "import numpy as np\n",
    "from scipy import stats\n",
    "import matplotlib.pyplot as plt\n",
    "import matplotlib as mpl\n",
    "import glob, os"
   ]
  },
  {
   "cell_type": "code",
   "execution_count": 5,
   "metadata": {},
   "outputs": [],
   "source": [
    "# get file with visit start times\n",
    "\n",
    "direc = './dataFolders/Output/Step5_v3/'\n",
    "files = glob.glob(direc + '*RawData*.csv')"
   ]
  },
  {
   "cell_type": "code",
   "execution_count": 45,
   "metadata": {},
   "outputs": [],
   "source": [
    "n = []\n",
    "isi = []\n",
    "\n",
    "for f in files:\n",
    "    df = pd.read_csv(f)\n",
    "    a, b, c, _ = os.path.basename(f).split('_')\n",
    "    name = a +'_'+ b + '_' + c\n",
    "    ISI = df.In_Frame[1:].values - df.In_Frame[0:-1].values\n",
    "    \n",
    "    n.append(name)\n",
    "    isi.append(ISI)"
   ]
  },
  {
   "cell_type": "code",
   "execution_count": 49,
   "metadata": {},
   "outputs": [],
   "source": [
    "results = pd.DataFrame({'name': n, \n",
    "                       'interVisitInterval': isi})\n",
    "new= results[\"name\"].str.split(\"_\", n = 1, expand = True)\n",
    "results['lightLevel']=new[0]"
   ]
  },
  {
   "cell_type": "code",
   "execution_count": 58,
   "metadata": {},
   "outputs": [
    {
     "data": {
      "image/png": "[encoded data removed]",
      "text/plain": [
       "<Figure size 504x378 with 2 Axes>"
      ]
     },
     "metadata": {
      "needs_background": "light"
     },
     "output_type": "display_data"
    }
   ],
   "source": [
    "f, ax = plt.subplots(1,2,\n",
    "                     sharex = True, sharey = True,\n",
    "                    figsize = (7,7/4*3))\n",
    "ax = ax.ravel()\n",
    "i = 0\n",
    "for lightlevel, subdf in results.groupby('lightLevel'):\n",
    "    ax[i].eventplot(positions = subdf.interVisitInterval.values*1/100,\n",
    "                      orientation = 'horizontal'\n",
    "                     , linelengths = 1\n",
    "                     , lineoffsets = 0.5\n",
    "                         , linewidth = 0.5)\n",
    "    ax[i].set_title(lightlevel)\n",
    "    i+=1\n",
    "\n",
    "#     ticklocs = np.arange(len(subdf))\n",
    "#     plt.yticks(locs =  ticklocs\n",
    "#                ,labels = subdf.name)\n",
    "\n",
    "f.text(0.525, 0.04, 'Time (second)', ha='center')\n",
    "f.text(0.06, 0.5, 'Moth Number', va='center', rotation='vertical')\n",
    "plt.savefig(r\"./dataFolders/Output/Proboscis/Plots/\" + 'InterVisitInterval.png')"
   ]
  },
  {
   "cell_type": "markdown",
   "metadata": {},
   "source": [
    "# plot them as distributions"
   ]
  },
  {
   "cell_type": "code",
   "execution_count": 76,
   "metadata": {},
   "outputs": [
    {
     "name": "stdout",
     "output_type": "stream",
     "text": [
      "L0.1\n",
      "L50\n"
     ]
    },
    {
     "data": {
      "image/png": "[encoded data removed]",
      "text/plain": [
       "<Figure size 720x432 with 2 Axes>"
      ]
     },
     "metadata": {
      "needs_background": "light"
     },
     "output_type": "display_data"
    }
   ],
   "source": [
    "f, ax = plt.subplots(1,2, figsize = (10,6), sharex = True, sharey = True)\n",
    "color = ['purple', 'orange']\n",
    "i =0\n",
    "for lightlevel, subdf in results.groupby('lightLevel'):\n",
    "    print(lightlevel)\n",
    "    flower_visit_intervals = subdf.interVisitInterval.values*1/100  \n",
    "    \n",
    "    all_interVisit = np.concatenate(flower_visit_intervals)\n",
    "    ax[i].hist(all_interVisit[all_interVisit<400], bins = 50, color = color[i], density = True)\n",
    "    i+=1\n",
    "    \n",
    "plt.savefig('./dataFolders/Output/Proboscis/Plots/InterVisitInterval-histogram.png')"
   ]
  },
  {
   "cell_type": "code",
   "execution_count": null,
   "metadata": {},
   "outputs": [],
   "source": []
  }
 ],
 "metadata": {
  "kernelspec": {
   "display_name": "Python 3",
   "language": "python",
   "name": "python3"
  },
  "language_info": {
   "codemirror_mode": {
    "name": "ipython",
    "version": 3
   },
   "file_extension": ".py",
   "mimetype": "text/x-python",
   "name": "python",
   "nbconvert_exporter": "python",
   "pygments_lexer": "ipython3",
   "version": "3.6.5"
  }
 },
 "nbformat": 4,
 "nbformat_minor": 2
}
