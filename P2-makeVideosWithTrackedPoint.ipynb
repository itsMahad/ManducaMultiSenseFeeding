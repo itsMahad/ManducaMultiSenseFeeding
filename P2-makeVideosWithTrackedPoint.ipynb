{
 "cells": [
  {
   "cell_type": "code",
   "execution_count": 1,
   "metadata": {},
   "outputs": [
    {
     "name": "stdout",
     "output_type": "stream",
     "text": [
      "open cv2 version: 3.3.1\n"
     ]
    }
   ],
   "source": [
    "import numpy as np\n",
    "import pandas as pd\n",
    "import matplotlib.pyplot as plt\n",
    "import os\n",
    "import glob\n",
    "import cv2\n",
    "\n",
    "print(\"open cv2 version: %s\" % cv2.__version__)"
   ]
  },
  {
   "cell_type": "code",
   "execution_count": 2,
   "metadata": {},
   "outputs": [],
   "source": [
    "def load_imgs(vidPath, firstFrame, lastFrame):\n",
    "    '''\n",
    "    Reads frames from video and stores as a list\n",
    "    \n",
    "    Parameters: \n",
    "    vidPath (string): Path to video\n",
    "    \n",
    "    Returns: \n",
    "    list of images\n",
    "    '''\n",
    "    \n",
    "    cap = cv2.VideoCapture(vidPath)\n",
    "    length = np.arange(start, stop)\n",
    "    print(len(length)) \n",
    "    imgs = []\n",
    "    for ff in length:\n",
    "        cap.set(1,ff)\n",
    "        ret, frame = cap.read()\n",
    "        if np.mod(ff, 100) == 0:\n",
    "            print(ff) # prints progress in 50 frames\n",
    "\n",
    "            # convert to grey\n",
    "            #img = cv2.cvtColor(frame, cv2.COLOR_BGR2GRAY)\n",
    "        imgs.append(frame)\n",
    "#         print(\"length of imgs: %s\" % len(imgs))\n",
    "            \n",
    "    cap.release()\n",
    "    return imgs"
   ]
  },
  {
   "cell_type": "code",
   "execution_count": 3,
   "metadata": {},
   "outputs": [],
   "source": [
    "# adjust gamma, if your vid is too dark\n",
    "def adjust_gamma(image, gamma=1.0):\n",
    "    # build a lookup table mapping the pixel values [0, 255] to\n",
    "    # their adjusted gamma values\n",
    "    invGamma = 1.0 / gamma\n",
    "    table = np.array([((i / 255.0) ** invGamma) * 255\n",
    "        for i in np.arange(0, 256)]).astype(\"uint8\")\n",
    " \n",
    "    # apply gamma correction using the lookup table\n",
    "    return cv2.LUT(image, table)"
   ]
  },
  {
   "cell_type": "code",
   "execution_count": 4,
   "metadata": {},
   "outputs": [],
   "source": [
    "def plottracks(ax, x_range, y, frameNum, prob_frame, trackColor):\n",
    "    ax.plot(x_range, y, color = trackColor)\n",
    "#     ax.plot(frameNum*1/100, prob_frame, 'o',\n",
    "#                 color = 'k')\n",
    "#     ax.set_ylim(0,5)\n",
    "    ax.axvline(x = frameNum/100, \n",
    "              color = 'k',\n",
    "              alpha = 0.5)\n",
    "    ax.set_xlabel('Time (second)')\n",
    "#     ax.set_ylabel('Relative Radial Position')"
   ]
  },
  {
   "cell_type": "code",
   "execution_count": 5,
   "metadata": {},
   "outputs": [],
   "source": [
    "# blue_hue = {'top_color': [158, 202, 225], 'bottom_color': [8,81, 156]}\n",
    "# green_hue = {'top_color': [223, 238, 218], 'bottom_color': [0, 82, 33]}\n",
    "# multiPink = {'top_color': [201, 148, 199], 'bottom_color': [152, 0, 67]}\n",
    "# orange = {'top_color': [254, 237, 222], 'bottom_color': [166, 54, 3]}\n",
    "\n",
    "# color_list = [[152, 0, 67], [166, 54, 3], [8,81, 156]]\n",
    "# from matplotlib import cm"
   ]
  },
  {
   "cell_type": "code",
   "execution_count": 6,
   "metadata": {},
   "outputs": [],
   "source": [
    "#give path to videofiles\n",
    "vidpath = r\"G:\\My Drive\\Mahad\\Light Level Experiments\\Videos Used for Analysis/\"\n",
    "export_path = r'./dataFolder/Output/Proboscis/TrackedVideos/'\n",
    "\n",
    "# the Ref provides the start and stop frames\n",
    "path_frames = glob.glob(r\"./dataFolders/Output/Step5_v3/\" + '*.csv')"
   ]
  },
  {
   "cell_type": "code",
   "execution_count": 7,
   "metadata": {},
   "outputs": [
    {
     "name": "stdout",
     "output_type": "stream",
     "text": [
      "L0.1_c-3_m10\n",
      "140688 648 488 30.0\n",
      "335\n",
      "20400\n",
      "20500\n",
      "20600\n",
      "20700\n",
      "length of section you want to read: 335\n",
      "length of the image list: 335\n",
      "length of the probsocis track: 273\n",
      "0  of  273\n",
      "100  of  273\n",
      "200  of  273\n",
      "./dataFolders\\tmpImgs\n"
     ]
    },
    {
     "ename": "FileExistsError",
     "evalue": "[WinError 183] Cannot create a file when that file already exists: './outputVid.mp4' -> './L0.1_c-3_m10_FirstVisit.mp4'",
     "output_type": "error",
     "traceback": [
      "\u001b[1;31m---------------------------------------------------------------------------\u001b[0m",
      "\u001b[1;31mFileExistsError\u001b[0m                           Traceback (most recent call last)",
      "\u001b[1;32m<ipython-input-7-665e1af10c81>\u001b[0m in \u001b[0;36m<module>\u001b[1;34m\u001b[0m\n\u001b[0;32m    101\u001b[0m \u001b[1;33m\u001b[0m\u001b[0m\n\u001b[0;32m    102\u001b[0m         \u001b[0mnameofVideo\u001b[0m \u001b[1;33m=\u001b[0m \u001b[1;34mr'./'\u001b[0m \u001b[1;33m+\u001b[0m \u001b[0mname\u001b[0m \u001b[1;33m+\u001b[0m \u001b[1;34m'_'\u001b[0m \u001b[1;33m+\u001b[0m \u001b[0mvisit\u001b[0m\u001b[1;33m[\u001b[0m\u001b[1;33m:\u001b[0m\u001b[1;33m-\u001b[0m\u001b[1;36m1\u001b[0m\u001b[1;33m]\u001b[0m \u001b[1;33m+\u001b[0m \u001b[1;34m'.mp4'\u001b[0m\u001b[1;33m\u001b[0m\u001b[0m\n\u001b[1;32m--> 103\u001b[1;33m         \u001b[0mos\u001b[0m\u001b[1;33m.\u001b[0m\u001b[0mrename\u001b[0m\u001b[1;33m(\u001b[0m\u001b[1;34mr'./outputVid.mp4'\u001b[0m\u001b[1;33m,\u001b[0m \u001b[0mnameofVideo\u001b[0m\u001b[1;33m)\u001b[0m\u001b[1;33m\u001b[0m\u001b[0m\n\u001b[0m\u001b[0;32m    104\u001b[0m         \u001b[0mos\u001b[0m\u001b[1;33m.\u001b[0m\u001b[0mchdir\u001b[0m\u001b[1;33m(\u001b[0m\u001b[1;34m'../../'\u001b[0m\u001b[1;33m)\u001b[0m\u001b[1;33m\u001b[0m\u001b[0m\n\u001b[0;32m    105\u001b[0m \u001b[1;33m\u001b[0m\u001b[0m\n",
      "\u001b[1;31mFileExistsError\u001b[0m: [WinError 183] Cannot create a file when that file already exists: './outputVid.mp4' -> './L0.1_c-3_m10_FirstVisit.mp4'"
     ]
    }
   ],
   "source": [
    "visitnum = ['FirstVisit/', 'Lastvisit/']\n",
    "\n",
    "for visit in visitnum:\n",
    "    # get the tracks\n",
    "    direc = r\"./dataFolders/Output/Proboscis/FilteredTracks/\" + visit\n",
    "    AllTracks = glob.glob(direc + \"*.csv\")\n",
    "    \n",
    "    for t in AllTracks:\n",
    "        a, b, c, d = os.path.basename(t).split('_')\n",
    "        name = a + '_' + b + '_' + c\n",
    "        print(name)\n",
    "        \n",
    "        # get the proboscis track\n",
    "        track = pd.read_csv(t)\n",
    "        track.head()\n",
    "\n",
    "        tracks = pd.DataFrame({'x':track.x,\n",
    "                                  'y':track.y})\n",
    "\n",
    "        # get the video section\n",
    "        videoPath = vidpath + name + '.mp4'\n",
    "        frame_ref = [f for f in path_frames if name+ '_' in f][0]\n",
    "        file = pd.read_csv(frame_ref)\n",
    "        \n",
    "        if visit == visitnum[0]:\n",
    "            row = 0\n",
    "        else:\n",
    "            row = -1\n",
    "        \n",
    "        select = file.iloc[row, :]\n",
    "        start = int(select['In_Frame'] + 1)\n",
    "        stop = int(select['Out_Frame'])\n",
    "        \n",
    "        \n",
    "        # get vid info\n",
    "        cap = cv2.VideoCapture(videoPath)\n",
    "\n",
    "        length = int(cap.get(cv2.CAP_PROP_FRAME_COUNT))\n",
    "        width  = int(cap.get(cv2.CAP_PROP_FRAME_WIDTH))\n",
    "        height = int(cap.get(cv2.CAP_PROP_FRAME_HEIGHT))\n",
    "        fps    = cap.get(cv2.CAP_PROP_FPS)\n",
    "\n",
    "        print(length, width, height, fps)\n",
    "        # load images\n",
    "        imList = load_imgs(videoPath, start, stop)\n",
    "        cap.release()\n",
    "\n",
    "        print(\"length of section you want to read: %s\" % int(stop - start))\n",
    "        print(\"length of the image list: %s\" % len(imList))\n",
    "        print(\"length of the probsocis track: %s\" % len(tracks))\n",
    "        \n",
    "#         lagPoints = 5 # number of points to plot on each frame\n",
    "#         alphaVals = np.flip(np.linspace(0, 0.2, lagPoints), axis = 0)\n",
    "        vidLen = len(tracks)\n",
    "        \n",
    "        # make directory to store images\n",
    "        tempImgDirectory = os.path.join(os.path.dirname(r\"./dataFolders/\"), \"tmpImgs\")\n",
    "        if not os.path.exists(tempImgDirectory):\n",
    "            os.mkdir(tempImgDirectory)\n",
    "            \n",
    "            \n",
    "        #######################################################\n",
    "        outputImgs = []\n",
    "        for frameNum in np.arange(0, vidLen):\n",
    "            \n",
    "            # adjust gamma\n",
    "            image = adjust_gamma(imList[frameNum], 1.5)\n",
    "            tt = tracks.loc[frameNum, :]\n",
    "            x = tt.x \n",
    "            y = tt.y\n",
    "            \n",
    "            output = image.copy()\n",
    "            rad_circle = 5\n",
    "            color = (0, 255, 0)\n",
    "            if np.isnan(x) or np.isnan(y):\n",
    "                continue\n",
    "            else:\n",
    "                cv2.circle(output, (int(x),int(y)),\n",
    "                           rad_circle, \n",
    "                           color,\n",
    "                           -1)\n",
    "            \n",
    "            # save img\n",
    "            cv2.imwrite(os.path.join(tempImgDirectory, str(frameNum).zfill(4) + \".png\"),\n",
    "                       output)\n",
    "#             plt.savefig(os.path.join(tempImgDirectory, str(frameNum).zfill(4) + \".png\"))\n",
    "#             plt.close()\n",
    "            \n",
    "            if np.mod(frameNum, 100) == 0:\n",
    "                print(frameNum, \" of \", vidLen)\n",
    "                \n",
    "        ##################################################################################\n",
    "        \n",
    "        # convert images to video with ffmpeg\n",
    "        os.chdir(tempImgDirectory)\n",
    "        print(tempImgDirectory)\n",
    "\n",
    "        # use ffmpeg to convert directory to video\n",
    "        # -r is output frame rate\n",
    "        os.system('ffmpeg -start_number 0 -r 20 -i %04d.png -vf \"scale=trunc(iw/2)*2:trunc(ih/2)*2\" -c:v libx264 -pix_fmt yuv420p -y outputVid.mp4')\n",
    "\n",
    "        nameofVideo = r'./' + name + '_' + visit[:-1] + '.mp4'\n",
    "        os.rename(r'./outputVid.mp4', nameofVideo)\n",
    "        os.chdir('../../')\n",
    "\n",
    "        # delete images from directory\n",
    "        delFiles = [f for f in os.listdir(tempImgDirectory) if f.endswith(\"png\")]\n",
    "        dlfs = [os.remove(os.path.join(tempImgDirectory, delFiles[ii])) for ii in range(len(delFiles))]"
   ]
  },
  {
   "cell_type": "code",
   "execution_count": null,
   "metadata": {},
   "outputs": [],
   "source": [
    "os.chdir('../../')\n",
    "os.getcwd()"
   ]
  }
 ],
 "metadata": {
  "kernelspec": {
   "display_name": "Python 3",
   "language": "python",
   "name": "python3"
  },
  "language_info": {
   "codemirror_mode": {
    "name": "ipython",
    "version": 3
   },
   "file_extension": ".py",
   "mimetype": "text/x-python",
   "name": "python",
   "nbconvert_exporter": "python",
   "pygments_lexer": "ipython3",
   "version": "3.6.5"
  }
 },
 "nbformat": 4,
 "nbformat_minor": 2
}
