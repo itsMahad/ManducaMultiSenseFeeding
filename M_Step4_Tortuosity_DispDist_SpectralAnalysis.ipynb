{
 "cells": [
  {
   "cell_type": "markdown",
   "metadata": {},
   "source": [
    "### written by Mahad \n",
    "### edited by Tanvi Deora on Oct 2\n",
    "### This code calculates tortoiusity by measuring the \n",
    "### displacement over distance measure"
   ]
  },
  {
   "cell_type": "code",
   "execution_count": 1,
   "metadata": {},
   "outputs": [],
   "source": [
    "from matplotlib import pyplot as plt\n",
    "import numpy as np\n",
    "import os\n",
    "from scipy.fftpack import fft\n",
    "import pandas as pd\n",
    "import glob\n",
    "\n",
    "from scipy import stats\n",
    "from scipy import signal\n",
    "from statsmodels.graphics.gofplots import qqplot, qqline\n",
    "# sns.set(style=\"ticks\")"
   ]
  },
  {
   "cell_type": "markdown",
   "metadata": {},
   "source": [
    "# load the centroid data"
   ]
  },
  {
   "cell_type": "code",
   "execution_count": 3,
   "metadata": {},
   "outputs": [
    {
     "data": {
      "text/html": [
       "<div>\n",
       "<style scoped>\n",
       "    .dataframe tbody tr th:only-of-type {\n",
       "        vertical-align: middle;\n",
       "    }\n",
       "\n",
       "    .dataframe tbody tr th {\n",
       "        vertical-align: top;\n",
       "    }\n",
       "\n",
       "    .dataframe thead th {\n",
       "        text-align: right;\n",
       "    }\n",
       "</style>\n",
       "<table border=\"1\" class=\"dataframe\">\n",
       "  <thead>\n",
       "    <tr style=\"text-align: right;\">\n",
       "      <th></th>\n",
       "      <th>name</th>\n",
       "      <th>visit</th>\n",
       "      <th>flower_r</th>\n",
       "      <th>flower_x</th>\n",
       "      <th>flower_y</th>\n",
       "      <th>x</th>\n",
       "      <th>y</th>\n",
       "      <th>x_pixel</th>\n",
       "      <th>y_pixel</th>\n",
       "      <th>x_filtered</th>\n",
       "      <th>y_filtered</th>\n",
       "      <th>cent_x</th>\n",
       "      <th>cent_y</th>\n",
       "      <th>distance</th>\n",
       "      <th>distanceincms</th>\n",
       "      <th>lightLevel</th>\n",
       "      <th>mothID</th>\n",
       "    </tr>\n",
       "  </thead>\n",
       "  <tbody>\n",
       "    <tr>\n",
       "      <td>0</td>\n",
       "      <td>L0.1_c-3_m10</td>\n",
       "      <td>last</td>\n",
       "      <td>74</td>\n",
       "      <td>310</td>\n",
       "      <td>233</td>\n",
       "      <td>NaN</td>\n",
       "      <td>NaN</td>\n",
       "      <td>NaN</td>\n",
       "      <td>NaN</td>\n",
       "      <td>NaN</td>\n",
       "      <td>NaN</td>\n",
       "      <td>NaN</td>\n",
       "      <td>NaN</td>\n",
       "      <td>NaN</td>\n",
       "      <td>NaN</td>\n",
       "      <td>L0.1</td>\n",
       "      <td>c-3_m10</td>\n",
       "    </tr>\n",
       "    <tr>\n",
       "      <td>1</td>\n",
       "      <td>L0.1_c-3_m10</td>\n",
       "      <td>last</td>\n",
       "      <td>74</td>\n",
       "      <td>310</td>\n",
       "      <td>233</td>\n",
       "      <td>NaN</td>\n",
       "      <td>NaN</td>\n",
       "      <td>NaN</td>\n",
       "      <td>NaN</td>\n",
       "      <td>NaN</td>\n",
       "      <td>NaN</td>\n",
       "      <td>NaN</td>\n",
       "      <td>NaN</td>\n",
       "      <td>NaN</td>\n",
       "      <td>NaN</td>\n",
       "      <td>L0.1</td>\n",
       "      <td>c-3_m10</td>\n",
       "    </tr>\n",
       "    <tr>\n",
       "      <td>2</td>\n",
       "      <td>L0.1_c-3_m10</td>\n",
       "      <td>last</td>\n",
       "      <td>74</td>\n",
       "      <td>310</td>\n",
       "      <td>233</td>\n",
       "      <td>NaN</td>\n",
       "      <td>NaN</td>\n",
       "      <td>NaN</td>\n",
       "      <td>NaN</td>\n",
       "      <td>NaN</td>\n",
       "      <td>NaN</td>\n",
       "      <td>NaN</td>\n",
       "      <td>NaN</td>\n",
       "      <td>NaN</td>\n",
       "      <td>NaN</td>\n",
       "      <td>L0.1</td>\n",
       "      <td>c-3_m10</td>\n",
       "    </tr>\n",
       "    <tr>\n",
       "      <td>3</td>\n",
       "      <td>L0.1_c-3_m10</td>\n",
       "      <td>last</td>\n",
       "      <td>74</td>\n",
       "      <td>310</td>\n",
       "      <td>233</td>\n",
       "      <td>0.810811</td>\n",
       "      <td>2.297297</td>\n",
       "      <td>24.0</td>\n",
       "      <td>68.0</td>\n",
       "      <td>23.997467</td>\n",
       "      <td>67.98341</td>\n",
       "      <td>-286.002533</td>\n",
       "      <td>-165.01659</td>\n",
       "      <td>330.193767</td>\n",
       "      <td>11.155195</td>\n",
       "      <td>L0.1</td>\n",
       "      <td>c-3_m10</td>\n",
       "    </tr>\n",
       "    <tr>\n",
       "      <td>4</td>\n",
       "      <td>L0.1_c-3_m10</td>\n",
       "      <td>last</td>\n",
       "      <td>74</td>\n",
       "      <td>310</td>\n",
       "      <td>233</td>\n",
       "      <td>1.013514</td>\n",
       "      <td>2.770270</td>\n",
       "      <td>30.0</td>\n",
       "      <td>82.0</td>\n",
       "      <td>24.708767</td>\n",
       "      <td>143.71776</td>\n",
       "      <td>-285.291233</td>\n",
       "      <td>-89.28224</td>\n",
       "      <td>298.935455</td>\n",
       "      <td>10.099171</td>\n",
       "      <td>L0.1</td>\n",
       "      <td>c-3_m10</td>\n",
       "    </tr>\n",
       "  </tbody>\n",
       "</table>\n",
       "</div>"
      ],
      "text/plain": [
       "           name visit  flower_r  flower_x  flower_y         x         y  \\\n",
       "0  L0.1_c-3_m10  last        74       310       233       NaN       NaN   \n",
       "1  L0.1_c-3_m10  last        74       310       233       NaN       NaN   \n",
       "2  L0.1_c-3_m10  last        74       310       233       NaN       NaN   \n",
       "3  L0.1_c-3_m10  last        74       310       233  0.810811  2.297297   \n",
       "4  L0.1_c-3_m10  last        74       310       233  1.013514  2.770270   \n",
       "\n",
       "   x_pixel  y_pixel  x_filtered  y_filtered      cent_x     cent_y  \\\n",
       "0      NaN      NaN         NaN         NaN         NaN        NaN   \n",
       "1      NaN      NaN         NaN         NaN         NaN        NaN   \n",
       "2      NaN      NaN         NaN         NaN         NaN        NaN   \n",
       "3     24.0     68.0   23.997467    67.98341 -286.002533 -165.01659   \n",
       "4     30.0     82.0   24.708767   143.71776 -285.291233  -89.28224   \n",
       "\n",
       "     distance  distanceincms lightLevel   mothID  \n",
       "0         NaN            NaN       L0.1  c-3_m10  \n",
       "1         NaN            NaN       L0.1  c-3_m10  \n",
       "2         NaN            NaN       L0.1  c-3_m10  \n",
       "3  330.193767      11.155195       L0.1  c-3_m10  \n",
       "4  298.935455      10.099171       L0.1  c-3_m10  "
      ]
     },
     "execution_count": 3,
     "metadata": {},
     "output_type": "execute_result"
    }
   ],
   "source": [
    "# get centroid data \n",
    "Centroids = pd.read_csv(r\"./dataFolders/Output/KinematicAnalysis_Final/LowPassFiltered_CentroidAndDistanceData.csv\")\n",
    "Centroids = Centroids.drop(columns = ['Unnamed: 0' , 'Unnamed: 0.1'])\n",
    "Centroids[['lightLevel', 'mothID']] = Centroids.name.str.split('_', n = 1, expand = True )\n",
    "Centroids.head()"
   ]
  },
  {
   "cell_type": "code",
   "execution_count": 4,
   "metadata": {},
   "outputs": [],
   "source": [
    "# remove Problematic Files\n",
    "\n",
    "listProbs = pd.read_csv(r'G:\\My Drive\\Mahad\\Light Level Experiments\\Data Output from Analysis\\VideosWithMarkers\\FirstLastTroubleVideos_v4\\names.csv')\n",
    "listProbs['name'] = listProbs['name'].str[1:]\n",
    "listProbs.head()\n",
    "\n",
    "Centroids['string'] = Centroids.name + '_' + Centroids.visit + 'Visit.csv'\n",
    "\n",
    "sub_Centroids= Centroids[pd.DataFrame(Centroids.string.tolist()).isin(listProbs.name.tolist()).any(1) == False]\n",
    "sub_Centroids= sub_Centroids.drop(columns = 'string')"
   ]
  },
  {
   "cell_type": "markdown",
   "metadata": {},
   "source": [
    "# get the tortuosity measurements"
   ]
  },
  {
   "cell_type": "code",
   "execution_count": 5,
   "metadata": {},
   "outputs": [],
   "source": [
    "def GetStartStopFrame(x):\n",
    "    m = np.concatenate(( [True], np.isnan(x), [True] ))  # Mask\n",
    "    ss = np.flatnonzero(m[1:] != m[:-1]).reshape(-1,2)   # Start-stop limits\n",
    "    start,stop = ss[(ss[:,1] - ss[:,0]).argmax()]  # Get max interval, interval limits\n",
    "    return start, stop"
   ]
  },
  {
   "cell_type": "code",
   "execution_count": 6,
   "metadata": {},
   "outputs": [],
   "source": [
    "def GetLongestFinitePath(x,y):\n",
    "    ind_s_x, ind_stp_x = GetStartStopFrame(x)\n",
    "    ind_s_y, ind_stp_y = GetStartStopFrame(y)\n",
    "    \n",
    "    strt = max([ind_s_x, ind_s_y])\n",
    "    stp = min([ind_stp_x, ind_stp_y])\n",
    "    \n",
    "    new_x = x[strt: stp]\n",
    "    new_y = y[strt: stp]\n",
    "    return new_x, new_y"
   ]
  },
  {
   "cell_type": "code",
   "execution_count": 7,
   "metadata": {},
   "outputs": [],
   "source": [
    "def Tortuosity(x, time):\n",
    "    \n",
    "    t = time/100 # filmed at 100 fps\n",
    "    Nx = len(x)  #number of points\n",
    "    Nt = Nx\n",
    "    Time = t[-1]-t[0]   #total sample time (in seconds)\n",
    "    fs = Nx/Time   # sample frequency\n",
    "    TT = 1/fs  #delta t.\n",
    " \n",
    "    meanx = np.mean(x)\n",
    "    \n",
    "    #fftxvel is complex with real and imaginary part.\n",
    "    #Nyquist spacing (first half of Fourier) -- the list of frequencies for which we have Fourier coefficients\n",
    "    fftx = fft(x-meanx) \n",
    "    xf = np.linspace(0.0, 1.0/(2.0*TT), Nx//2)  \n",
    "\n",
    "    return xf, Nx, fftx"
   ]
  },
  {
   "cell_type": "code",
   "execution_count": 8,
   "metadata": {},
   "outputs": [],
   "source": [
    "def fullDistance(x, y):\n",
    "    distance = 0\n",
    "    for i in np.arange(len(x)-1):\n",
    "        d = np.sqrt((x[i+1] - x[i])**2 + (y[i+1] - y[i])**2)\n",
    "        distance+=d\n",
    "    return distance"
   ]
  },
  {
   "cell_type": "code",
   "execution_count": 9,
   "metadata": {},
   "outputs": [],
   "source": [
    "chunksize = 40 # number of frames in each chunck"
   ]
  },
  {
   "cell_type": "markdown",
   "metadata": {},
   "source": [
    "### loop through data "
   ]
  },
  {
   "cell_type": "code",
   "execution_count": 10,
   "metadata": {},
   "outputs": [],
   "source": [
    "# all_dfs = pd.DataFrame(data = None)\n",
    "all_dfs = []\n",
    "\n",
    "for v, df in sub_Centroids.groupby('visit'):\n",
    "    for l, sub_df in df.groupby('lightLevel'):\n",
    "        for m, final_df in sub_df.groupby('mothID'):\n",
    "#             final_df.reindex()\n",
    "\n",
    "            # get the x, y coordinates of each track  \n",
    "            x = final_df.x_filtered.values\n",
    "            y = final_df.y_filtered.values\n",
    "            \n",
    "            raw_x = final_df.x_pixel\n",
    "            raw_y = final_df.y_pixel\n",
    "\n",
    "            # get the longest section without NaNs\n",
    "            new_x, new_y = GetLongestFinitePath(x,y)\n",
    "            new_raw_x, new_raw_y = GetLongestFinitePath(raw_x, raw_y)\n",
    "            if not new_x.size:\n",
    "                print('%s in %s visit and %s has path length of %i' %(m,v,l, len(new_x)))\n",
    "                continue\n",
    "                      \n",
    "#             x = new_x\n",
    "#             y = new_y            \n",
    "            time = np.arange(0,len(x)-1, 1)\n",
    "            \n",
    "            # chunk the data \n",
    "            Displ_tor = []\n",
    "            fft_amplitude = []\n",
    "\n",
    "            visit = []\n",
    "            lightLevel = []\n",
    "            mothID = []\n",
    "            \n",
    "            # do analysis on a sliding window of chunksize\n",
    "            for idx in np.arange(0,len(new_x)-chunksize, 1):\n",
    "                \n",
    "                chunk_x = new_x[idx: idx+chunksize]\n",
    "                chunk_y = new_y[idx: idx+chunksize]\n",
    "                \n",
    "                chunk_raw_x = new_raw_x[idx: idx+chunksize]\n",
    "                chunk_raw_y = new_raw_y[idx: idx+chunksize]\n",
    "                chunk_time = time[idx: idx+chunksize]\n",
    "                \n",
    "                # Method 1: Distance/displacement\n",
    "                # the net displacement of the track  \n",
    "                shortest_path = np.sqrt((chunk_x[-1]- chunk_x[0])**2 \\\n",
    "                                        + (chunk_y[-1]- chunk_y[0])**2) \n",
    "                dist = fullDistance(chunk_x, chunk_y)\n",
    "\n",
    "                # caluclate the path distance ratio\n",
    "                ratio = dist/shortest_path \n",
    "                Displ_tor.append(ratio)\n",
    "\n",
    "                # Method 2: Spectral analysis   \n",
    "                xf, Nx, fftx = Tortuosity(chunk_raw_x, chunk_time)\n",
    "#                 print(xf)\n",
    "                yf, Ny, ffty = Tortuosity(chunk_raw_y, chunk_time)\n",
    "                # linear sum of the x and y coordinates amplitude of fft\n",
    "                sum_xy = ((2.0/Ny * np.abs(ffty[0:Ny//2])) + (2.0/Nx * np.abs(fftx[0:Nx//2])))\n",
    "\n",
    "                fft_amplitude.append(sum_xy)\n",
    "            \n",
    "            length = len(new_x) - chunksize #fill in other deets about this moth\n",
    "            visit.extend([v]*length)\n",
    "            mothID.extend([m]*length)\n",
    "            lightLevel.extend([l]*length)\n",
    "            \n",
    "            df1 = pd.DataFrame({'visit': visit,\n",
    "                   'mothID': mothID,\n",
    "                   'lightLevel': lightLevel,\n",
    "                   'Displacement_tor': Displ_tor})\n",
    "            \n",
    "            df2 = pd.DataFrame(data = fft_amplitude, columns = np.round(xf, 3))\n",
    "            df = pd.concat([df1, df2], axis = 1)\n",
    "            all_dfs.append(df)"
   ]
  },
  {
   "cell_type": "code",
   "execution_count": 11,
   "metadata": {},
   "outputs": [],
   "source": [
    "# concatenate all dfs together into one single big df\n",
    "full_df = pd.concat(all_dfs)\n",
    "#                     , sort = True)\n",
    "full_df.to_csv('./dataFolders/Output/KinematicAnalysis_Final/TortousityData_Full.csv')"
   ]
  },
  {
   "cell_type": "code",
   "execution_count": 12,
   "metadata": {},
   "outputs": [],
   "source": [
    "# get averages for each visit\n",
    "visit = []\n",
    "light = []\n",
    "moth = []\n",
    "disp = []\n",
    "fft = []\n",
    "\n",
    "for v, bla in full_df.groupby('visit'):\n",
    "    for l, blu in bla.groupby('lightLevel'):\n",
    "        for m, blum in blu.groupby('mothID'):\n",
    "            disp_tor = blum.Displacement_tor.median()\n",
    "            left_over = blum.drop(columns = ['visit', 'lightLevel', 'mothID', 'Displacement_tor'])\n",
    "            med_fft = left_over.median()\n",
    "            \n",
    "            visit.append(v)\n",
    "            light.append(l)\n",
    "            moth.append(m)\n",
    "            disp.append(disp_tor)\n",
    "            fft.append(med_fft)\n",
    "            \n",
    "rest_df = pd.DataFrame({'visit': visit, \n",
    "                       'lightLevel': light,\n",
    "                       'mothID': moth,\n",
    "                       'disp_tor': disp})\n",
    "med_fft = pd.concat(fft, axis = 1)\n",
    "med_fft.T\n",
    "\n",
    "med_df = pd.concat([rest_df, med_fft.T], axis = 1)"
   ]
  },
  {
   "cell_type": "code",
   "execution_count": 13,
   "metadata": {},
   "outputs": [],
   "source": [
    "med_df.to_csv('./dataFolders/Output/KinematicAnalysis_Final/TortousityData_median.csv')"
   ]
  },
  {
   "cell_type": "markdown",
   "metadata": {},
   "source": [
    "# plot the tortuosity"
   ]
  },
  {
   "cell_type": "code",
   "execution_count": 35,
   "metadata": {},
   "outputs": [],
   "source": [
    "#define the colors for low and high light levels\n",
    "mc = {'L0.1': 'black', 'L50':'grey' }\n",
    "c = {'L0.1': 'mediumpurple', 'L50':'darkorange'}\n",
    "# boxprops = {'edgecolor': 'k', 'linewidth': 2,'alpha': 1}\n",
    "boxprops = {'edgecolor': 'k', 'linewidth': 0.75,'alpha': 1}\n",
    "lineprops = {'color': 'k', 'linewidth': 0.75}\n",
    "capprops = {'linewidth': 0}\n",
    "\n",
    "bkwargs = {'palette': c, 'order': ['L0.1', 'L50']}\n",
    "skwargs =  {'palette': mc, 'order': ['L0.1', 'L50']}\n",
    "boxplot_kwargs = dict({'boxprops': boxprops, 'medianprops': lineprops,\n",
    "                       'whiskerprops': lineprops, 'capprops': capprops,\n",
    "                       'width': 0.4},\n",
    "                      **bkwargs)\n",
    "stripplot_kwargs = dict({'linewidth': 0.6, 'size': 6, 'alpha': 0.8},\n",
    "                        **skwargs)"
   ]
  },
  {
   "cell_type": "code",
   "execution_count": 3,
   "metadata": {},
   "outputs": [],
   "source": [
    "import seaborn as sns\n",
    "from scipy import stats"
   ]
  },
  {
   "cell_type": "code",
   "execution_count": 4,
   "metadata": {},
   "outputs": [],
   "source": [
    "# Pathways\n",
    "figpath = r\"./dataFolders/Output/KinematicAnalysis_Final/Figures/Tortousity/\""
   ]
  },
  {
   "cell_type": "code",
   "execution_count": 2,
   "metadata": {},
   "outputs": [
    {
     "data": {
      "text/html": [
       "<div>\n",
       "<style scoped>\n",
       "    .dataframe tbody tr th:only-of-type {\n",
       "        vertical-align: middle;\n",
       "    }\n",
       "\n",
       "    .dataframe tbody tr th {\n",
       "        vertical-align: top;\n",
       "    }\n",
       "\n",
       "    .dataframe thead th {\n",
       "        text-align: right;\n",
       "    }\n",
       "</style>\n",
       "<table border=\"1\" class=\"dataframe\">\n",
       "  <thead>\n",
       "    <tr style=\"text-align: right;\">\n",
       "      <th></th>\n",
       "      <th>Unnamed: 0</th>\n",
       "      <th>visit</th>\n",
       "      <th>lightLevel</th>\n",
       "      <th>mothID</th>\n",
       "      <th>disp_tor</th>\n",
       "      <th>0.0</th>\n",
       "      <th>2.699</th>\n",
       "      <th>5.398</th>\n",
       "      <th>8.097</th>\n",
       "      <th>10.796</th>\n",
       "      <th>...</th>\n",
       "      <th>26.991</th>\n",
       "      <th>29.69</th>\n",
       "      <th>32.389</th>\n",
       "      <th>35.088</th>\n",
       "      <th>37.787</th>\n",
       "      <th>40.486</th>\n",
       "      <th>43.185</th>\n",
       "      <th>45.884</th>\n",
       "      <th>48.583</th>\n",
       "      <th>51.282</th>\n",
       "    </tr>\n",
       "  </thead>\n",
       "  <tbody>\n",
       "    <tr>\n",
       "      <td>0</td>\n",
       "      <td>0</td>\n",
       "      <td>first</td>\n",
       "      <td>L0.1</td>\n",
       "      <td>c-3_m2</td>\n",
       "      <td>2.382058</td>\n",
       "      <td>5.186962e-14</td>\n",
       "      <td>28.601052</td>\n",
       "      <td>12.271520</td>\n",
       "      <td>8.485338</td>\n",
       "      <td>6.781379</td>\n",
       "      <td>...</td>\n",
       "      <td>31.965877</td>\n",
       "      <td>16.004484</td>\n",
       "      <td>8.348834</td>\n",
       "      <td>6.493295</td>\n",
       "      <td>5.208975</td>\n",
       "      <td>4.293342</td>\n",
       "      <td>4.426778</td>\n",
       "      <td>5.002408</td>\n",
       "      <td>5.516080</td>\n",
       "      <td>9.435503</td>\n",
       "    </tr>\n",
       "    <tr>\n",
       "      <td>1</td>\n",
       "      <td>1</td>\n",
       "      <td>first</td>\n",
       "      <td>L0.1</td>\n",
       "      <td>c-3_m20</td>\n",
       "      <td>2.907353</td>\n",
       "      <td>3.144152e-14</td>\n",
       "      <td>33.490180</td>\n",
       "      <td>14.238385</td>\n",
       "      <td>10.645877</td>\n",
       "      <td>8.991478</td>\n",
       "      <td>...</td>\n",
       "      <td>16.215209</td>\n",
       "      <td>9.519412</td>\n",
       "      <td>7.511523</td>\n",
       "      <td>7.365684</td>\n",
       "      <td>6.017381</td>\n",
       "      <td>5.279761</td>\n",
       "      <td>5.415649</td>\n",
       "      <td>5.431269</td>\n",
       "      <td>7.841455</td>\n",
       "      <td>8.163268</td>\n",
       "    </tr>\n",
       "    <tr>\n",
       "      <td>2</td>\n",
       "      <td>2</td>\n",
       "      <td>first</td>\n",
       "      <td>L0.1</td>\n",
       "      <td>c-3_m21</td>\n",
       "      <td>2.604811</td>\n",
       "      <td>3.126388e-14</td>\n",
       "      <td>45.307159</td>\n",
       "      <td>17.622315</td>\n",
       "      <td>12.234076</td>\n",
       "      <td>10.158050</td>\n",
       "      <td>...</td>\n",
       "      <td>15.577702</td>\n",
       "      <td>13.450056</td>\n",
       "      <td>6.337152</td>\n",
       "      <td>6.808881</td>\n",
       "      <td>5.580436</td>\n",
       "      <td>6.993249</td>\n",
       "      <td>7.062502</td>\n",
       "      <td>7.580490</td>\n",
       "      <td>11.612458</td>\n",
       "      <td>8.624679</td>\n",
       "    </tr>\n",
       "    <tr>\n",
       "      <td>3</td>\n",
       "      <td>3</td>\n",
       "      <td>first</td>\n",
       "      <td>L0.1</td>\n",
       "      <td>c-3_m22</td>\n",
       "      <td>3.419387</td>\n",
       "      <td>2.984279e-14</td>\n",
       "      <td>43.942204</td>\n",
       "      <td>22.167602</td>\n",
       "      <td>15.330309</td>\n",
       "      <td>14.311207</td>\n",
       "      <td>...</td>\n",
       "      <td>29.825169</td>\n",
       "      <td>17.546565</td>\n",
       "      <td>13.617951</td>\n",
       "      <td>11.253984</td>\n",
       "      <td>9.695985</td>\n",
       "      <td>9.772052</td>\n",
       "      <td>10.050328</td>\n",
       "      <td>11.185728</td>\n",
       "      <td>9.148304</td>\n",
       "      <td>19.443699</td>\n",
       "    </tr>\n",
       "    <tr>\n",
       "      <td>4</td>\n",
       "      <td>4</td>\n",
       "      <td>first</td>\n",
       "      <td>L0.1</td>\n",
       "      <td>c-3_m23</td>\n",
       "      <td>2.888134</td>\n",
       "      <td>1.634248e-14</td>\n",
       "      <td>42.499261</td>\n",
       "      <td>16.012237</td>\n",
       "      <td>11.459246</td>\n",
       "      <td>9.657710</td>\n",
       "      <td>...</td>\n",
       "      <td>26.071134</td>\n",
       "      <td>14.338412</td>\n",
       "      <td>9.366354</td>\n",
       "      <td>7.503738</td>\n",
       "      <td>6.859627</td>\n",
       "      <td>5.573183</td>\n",
       "      <td>7.110489</td>\n",
       "      <td>8.525365</td>\n",
       "      <td>9.742188</td>\n",
       "      <td>21.160412</td>\n",
       "    </tr>\n",
       "  </tbody>\n",
       "</table>\n",
       "<p>5 rows × 25 columns</p>\n",
       "</div>"
      ],
      "text/plain": [
       "   Unnamed: 0  visit lightLevel   mothID  disp_tor           0.0      2.699  \\\n",
       "0           0  first       L0.1   c-3_m2  2.382058  5.186962e-14  28.601052   \n",
       "1           1  first       L0.1  c-3_m20  2.907353  3.144152e-14  33.490180   \n",
       "2           2  first       L0.1  c-3_m21  2.604811  3.126388e-14  45.307159   \n",
       "3           3  first       L0.1  c-3_m22  3.419387  2.984279e-14  43.942204   \n",
       "4           4  first       L0.1  c-3_m23  2.888134  1.634248e-14  42.499261   \n",
       "\n",
       "       5.398      8.097     10.796  ...     26.991      29.69     32.389  \\\n",
       "0  12.271520   8.485338   6.781379  ...  31.965877  16.004484   8.348834   \n",
       "1  14.238385  10.645877   8.991478  ...  16.215209   9.519412   7.511523   \n",
       "2  17.622315  12.234076  10.158050  ...  15.577702  13.450056   6.337152   \n",
       "3  22.167602  15.330309  14.311207  ...  29.825169  17.546565  13.617951   \n",
       "4  16.012237  11.459246   9.657710  ...  26.071134  14.338412   9.366354   \n",
       "\n",
       "      35.088    37.787    40.486     43.185     45.884     48.583     51.282  \n",
       "0   6.493295  5.208975  4.293342   4.426778   5.002408   5.516080   9.435503  \n",
       "1   7.365684  6.017381  5.279761   5.415649   5.431269   7.841455   8.163268  \n",
       "2   6.808881  5.580436  6.993249   7.062502   7.580490  11.612458   8.624679  \n",
       "3  11.253984  9.695985  9.772052  10.050328  11.185728   9.148304  19.443699  \n",
       "4   7.503738  6.859627  5.573183   7.110489   8.525365   9.742188  21.160412  \n",
       "\n",
       "[5 rows x 25 columns]"
      ]
     },
     "execution_count": 2,
     "metadata": {},
     "output_type": "execute_result"
    }
   ],
   "source": [
    "data = pd.read_csv('./dataFolders/Output/KinematicAnalysis_Final/TortousityData_median.csv')\n",
    "data.head()"
   ]
  },
  {
   "cell_type": "code",
   "execution_count": 6,
   "metadata": {},
   "outputs": [],
   "source": [
    "w = 7/3\n",
    "# w = 8\n",
    "h = w * 2"
   ]
  },
  {
   "cell_type": "markdown",
   "metadata": {},
   "source": [
    "## path length method"
   ]
  },
  {
   "cell_type": "code",
   "execution_count": 44,
   "metadata": {},
   "outputs": [
    {
     "data": {
      "image/png": "[encoded data removed]",
      "text/plain": [
       "<Figure size 252x504 with 2 Axes>"
      ]
     },
     "metadata": {
      "needs_background": "light"
     },
     "output_type": "display_data"
    }
   ],
   "source": [
    "w = 7/2\n",
    "# w = 8\n",
    "h = w * 2\n",
    "\n",
    "f, ax = plt.subplots(2,1, figsize = (w,h), sharey = True)\n",
    "\n",
    "i=0\n",
    "\n",
    "for v, sub in data.groupby('visit'):\n",
    "    sns.boxplot(ax = ax[i], x='lightLevel', y='disp_tor', data = sub, \n",
    "                fliersize = 0, **boxplot_kwargs)\n",
    "    sns.stripplot(ax = ax[i], x='lightLevel', y='disp_tor', data = sub,\n",
    "                 dodge=True, **stripplot_kwargs)\n",
    "    i+=1\n",
    "plt.savefig(figpath + 'Displacement-tor_boxplots.pdf')"
   ]
  },
  {
   "cell_type": "code",
   "execution_count": 3,
   "metadata": {},
   "outputs": [],
   "source": [
    "low_first = data[(data.lightLevel == 'L0.1') & (data.visit == 'first')].disp_tor.values\n",
    "high_first = data[(data.lightLevel == 'L50') & (data.visit == 'first')].disp_tor.values\n",
    "\n",
    "low_last = data[(data.lightLevel == 'L0.1') & (data.visit == 'last')].disp_tor.values\n",
    "high_last = data[(data.lightLevel == 'L50') & (data.visit == 'last')].disp_tor.values"
   ]
  },
  {
   "cell_type": "code",
   "execution_count": 4,
   "metadata": {},
   "outputs": [
    {
     "name": "stdout",
     "output_type": "stream",
     "text": [
      "21 18 17 18\n"
     ]
    }
   ],
   "source": [
    "print(len(low_first), len(high_first), len(low_last), len(high_last))"
   ]
  },
  {
   "cell_type": "code",
   "execution_count": 5,
   "metadata": {},
   "outputs": [
    {
     "name": "stdout",
     "output_type": "stream",
     "text": [
      "Num of moths for first and L0.1 is 21\n",
      "Num of moths for first and L50 is 18\n",
      "Num of moths for last and L0.1 is 17\n",
      "Num of moths for last and L50 is 18\n"
     ]
    }
   ],
   "source": [
    "for v, test_df in data.groupby('visit'):\n",
    "    for t, final in test_df.groupby('lightLevel'):\n",
    "        l = len(final.mothID.unique())\n",
    "        print('Num of moths for %s and %s is %i' %(v, t, l))"
   ]
  },
  {
   "cell_type": "code",
   "execution_count": 22,
   "metadata": {},
   "outputs": [
    {
     "data": {
      "text/plain": [
       "MannwhitneyuResult(statistic=182.0, pvalue=0.4273532046574666)"
      ]
     },
     "execution_count": 22,
     "metadata": {},
     "output_type": "execute_result"
    }
   ],
   "source": [
    "stats.mannwhitneyu(low_first, high_first)"
   ]
  },
  {
   "cell_type": "code",
   "execution_count": 23,
   "metadata": {},
   "outputs": [
    {
     "data": {
      "text/plain": [
       "MannwhitneyuResult(statistic=148.0, pvalue=0.44096536063897307)"
      ]
     },
     "execution_count": 23,
     "metadata": {},
     "output_type": "execute_result"
    }
   ],
   "source": [
    "stats.mannwhitneyu(low_last, high_last)"
   ]
  },
  {
   "cell_type": "markdown",
   "metadata": {},
   "source": [
    "## fft tortuosity"
   ]
  },
  {
   "cell_type": "code",
   "execution_count": 9,
   "metadata": {},
   "outputs": [],
   "source": [
    "test = data.drop(columns = ['Unnamed: 0', 'visit', 'lightLevel', 'mothID', 'disp_tor'])"
   ]
  },
  {
   "cell_type": "code",
   "execution_count": 27,
   "metadata": {},
   "outputs": [
    {
     "data": {
      "image/png": "[encoded data removed]",
      "text/plain": [
       "<Figure size 720x720 with 4 Axes>"
      ]
     },
     "metadata": {
      "needs_background": "light"
     },
     "output_type": "display_data"
    }
   ],
   "source": [
    "f,ax = plt.subplots(2,2, figsize = (10,10), sharex = True, sharey = True)\n",
    "ax = ax.ravel()\n",
    "\n",
    "i = 0\n",
    "for v, sub in data.groupby('visit'):\n",
    "    for l, subsub in sub.groupby('lightLevel'):\n",
    "        test = subsub.drop(columns = ['Unnamed: 0', 'visit', 'lightLevel', 'mothID', 'disp_tor'])\n",
    "        for index, row in test.iterrows():\n",
    "            ax[i].plot(row.index, row.values, 'o'\n",
    "                      , markersize = 2)\n",
    "            ax[i].set_title(v + '_' + l)\n",
    "        i+=1\n",
    "\n",
    "for axis in [ax[2], ax[3]]:\n",
    "    plt.setp(axis.xaxis.get_majorticklabels(), rotation=45)\n",
    "for axis in [ax[0], ax[2]]:\n",
    "    axis.set_ylabel('Amplitude')\n",
    "#     text(-0.1, 0.5, 'Amplitude', horizontalalignment='center',\n",
    "#              verticalalignment='center', \n",
    "#              rotation=90,\n",
    "#              transform=axis.transAxes,\n",
    "#             fontsize = 12)\n",
    "plt.savefig(figpath + 'fft_rawData.pdf')"
   ]
  },
  {
   "cell_type": "code",
   "execution_count": 11,
   "metadata": {},
   "outputs": [],
   "source": [
    "# low = row.index[1:5]\n",
    "# medium = row.index[5:9]\n",
    "# high = row.index[11:]\n",
    "# low, medium, high"
   ]
  },
  {
   "cell_type": "code",
   "execution_count": 12,
   "metadata": {},
   "outputs": [],
   "source": [
    "low_val = []\n",
    "med_val = []\n",
    "high_val = []\n",
    "visit_l = []\n",
    "visit_m = []\n",
    "visit_h = []\n",
    "lightLevel_l = []\n",
    "lightLevel_m = []\n",
    "lightLevel_h = []\n",
    "\n",
    "for v, sub in data.groupby('visit'):\n",
    "    for l, subsub in sub.groupby('lightLevel'):\n",
    "        test = subsub.drop(columns = ['Unnamed: 0', 'visit', 'lightLevel', 'mothID', 'disp_tor'])\n",
    "        low_freq = list(test.iloc[:,1:5].values.ravel())\n",
    "        med_freq = list(test.iloc[:,5:9].values.ravel())\n",
    "        high_freq = list(test.iloc[:,11:].values.ravel())\n",
    "        \n",
    "        low_val.extend(low_freq)\n",
    "        med_val.extend(med_freq)\n",
    "        high_val.extend(high_freq)\n",
    "        \n",
    "        visit_l.extend([v]*len(low_freq))\n",
    "        lightLevel_l.extend([l]*len(low_freq))\n",
    "        \n",
    "        visit_m.extend([v]*len(med_freq))\n",
    "        lightLevel_m.extend([l]*len(med_freq))\n",
    "        \n",
    "        visit_h.extend([v]*len(high_freq))\n",
    "        lightLevel_h.extend([l]*len(high_freq))"
   ]
  },
  {
   "cell_type": "code",
   "execution_count": 13,
   "metadata": {},
   "outputs": [],
   "source": [
    "low_fft = pd.DataFrame({'visit' : visit_l,\n",
    "                    'lightLevel': lightLevel_l,\n",
    "                    'spectraAmplitude': low_val})\n",
    "\n",
    "med_fft = pd.DataFrame({'visit' : visit_m,\n",
    "                    'lightLevel': lightLevel_m,\n",
    "                    'spectraAmplitude': med_val})\n",
    "\n",
    "high_fft = pd.DataFrame({'visit' : visit_h,\n",
    "                    'lightLevel': lightLevel_h,\n",
    "                    'spectraAmplitude': high_val})"
   ]
  },
  {
   "cell_type": "code",
   "execution_count": 37,
   "metadata": {},
   "outputs": [
    {
     "data": {
      "image/png": "[encoded data removed]",
      "text/plain": [
       "<Figure size 84x168 with 2 Axes>"
      ]
     },
     "metadata": {
      "needs_background": "light"
     },
     "output_type": "display_data"
    }
   ],
   "source": [
    "f, ax = plt.subplots(2,1, figsize = (w/2,h/2), sharey = True)\n",
    "\n",
    "i=0\n",
    "\n",
    "for v, sub in data.groupby('visit'):\n",
    "#     sns.violinplot(ax = ax[i], x='lightLevel', y='spectraAmplitude', data = low_fft, \n",
    "#                    inner = None, \n",
    "#                    palette=['mediumpurple','orange'], \n",
    "#                    linewidth = 0.5,\n",
    "#                    ax=ax[i])\n",
    "    sns.boxplot(x='lightLevel', y='spectraAmplitude', data = low_fft, \n",
    "                fliersize = 0.2, ax=ax[i], **boxplot_kwargs)\n",
    "#     sns.stripplot(x='lightLevel', y='spectraAmplitude', data = low_fft,\n",
    "#                   ax=ax[i], dodge= True, **stripplot_kwargs)\n",
    "    i+=1\n",
    "plt.savefig(figpath + 'fft_low_boxplot.pdf', bbox_inches = 'tight',\n",
    "    pad_inches = 0)"
   ]
  },
  {
   "cell_type": "code",
   "execution_count": 42,
   "metadata": {},
   "outputs": [
    {
     "data": {
      "image/png": "[encoded data removed]",
      "text/plain": [
       "<Figure size 84x168 with 2 Axes>"
      ]
     },
     "metadata": {
      "needs_background": "light"
     },
     "output_type": "display_data"
    }
   ],
   "source": [
    "f, ax = plt.subplots(2,1, figsize = (w/2,h/2), sharey = True)\n",
    "\n",
    "i=0\n",
    "\n",
    "for v, sub in data.groupby('visit'):\n",
    "#     sns.violinplot(x='lightLevel', y='spectraAmplitude', data = med_fft, \n",
    "#                    inner = None, \n",
    "#                    palette=['mediumpurple','orange'], \n",
    "#                    linewidth = 0.5,\n",
    "#                    ax=ax[i])\n",
    "    sns.boxplot(x='lightLevel', y='spectraAmplitude', data = med_fft, \n",
    "                fliersize = .2, ax=ax[i], **boxplot_kwargs)\n",
    "#     sns.stripplot(x='lightLevel', y='spectraAmplitude', data = low_fft,\n",
    "#                   ax=ax[i], dodge=True, **stripplot_kwargs)\n",
    "    i+=1\n",
    "plt.savefig(figpath + 'fft_med_boxplot.pdf', bbox_inches = 'tight',\n",
    "    pad_inches = 0)"
   ]
  },
  {
   "cell_type": "code",
   "execution_count": 43,
   "metadata": {},
   "outputs": [
    {
     "data": {
      "image/png": "[encoded data removed]",
      "text/plain": [
       "<Figure size 84x168 with 2 Axes>"
      ]
     },
     "metadata": {
      "needs_background": "light"
     },
     "output_type": "display_data"
    }
   ],
   "source": [
    "f, ax = plt.subplots(2,1, figsize = (w/2,h/2), sharey = True)\n",
    "\n",
    "i=0\n",
    "\n",
    "for v, sub in data.groupby('visit'):\n",
    "#     sns.violinplot(x='lightLevel', y='spectraAmplitude', data = high_fft, \n",
    "#                    inner = None, \n",
    "#                    palette=['mediumpurple','orange'], \n",
    "#                    linewidth = 0.5,\n",
    "#                    ax=ax[i])\n",
    "    sns.boxplot(x='lightLevel', y='spectraAmplitude', data = high_fft, \n",
    "                fliersize = .2, ax=ax[i], **boxplot_kwargs)\n",
    "#     sns.swarmplot(x='lightLevel', y='spectraAmplitude', data = low_fft,\n",
    "#                 size=2, \n",
    "#                   color=\"0.3\",\n",
    "#                   linewidth=0,\n",
    "#                   ax=ax[i])\n",
    "    i+=1\n",
    "plt.savefig(figpath + 'fft_high_boxplot.pdf', bbox_inches = 'tight',\n",
    "    pad_inches = 0)"
   ]
  },
  {
   "cell_type": "code",
   "execution_count": 34,
   "metadata": {},
   "outputs": [
    {
     "name": "stdout",
     "output_type": "stream",
     "text": [
      "low\n",
      "first visit\n",
      "MannwhitneyuResult(statistic=2929.0, pvalue=0.3684565990449329)\n",
      "last visit\n",
      "MannwhitneyuResult(statistic=2335.0, pvalue=0.31951936316876306)\n",
      "med\n",
      "first visit\n",
      "MannwhitneyuResult(statistic=2685.0, pvalue=0.11441958779542988)\n",
      "last visit\n",
      "MannwhitneyuResult(statistic=2087.0, pvalue=0.06641655440907264)\n",
      "high\n",
      "first visit\n",
      "MannwhitneyuResult(statistic=13979.0, pvalue=0.08032693920939143)\n",
      "last visit\n",
      "MannwhitneyuResult(statistic=11347.0, pvalue=0.09781541043285608)\n"
     ]
    }
   ],
   "source": [
    "string = ['low', 'med', 'high']\n",
    "for data, s in zip([low_fft, med_fft, high_fft], string):\n",
    "    low_first = data[(data.lightLevel == 'L0.1') & (data.visit == 'first')].spectraAmplitude.values\n",
    "    high_first = data[(data.lightLevel == 'L50') & (data.visit == 'first')].spectraAmplitude.values\n",
    "\n",
    "    low_last = data[(data.lightLevel == 'L0.1') & (data.visit == 'last')].spectraAmplitude.values\n",
    "    high_last = data[(data.lightLevel == 'L50') & (data.visit == 'last')].spectraAmplitude.values\n",
    "    \n",
    "    print(s)\n",
    "    print('first visit')\n",
    "    print(stats.mannwhitneyu(low_first, high_first))\n",
    "    print('last visit')\n",
    "    print(stats.mannwhitneyu(low_last, high_last))"
   ]
  }
 ],
 "metadata": {
  "kernelspec": {
   "display_name": "Python 3",
   "language": "python",
   "name": "python3"
  },
  "language_info": {
   "codemirror_mode": {
    "name": "ipython",
    "version": 3
   },
   "file_extension": ".py",
   "mimetype": "text/x-python",
   "name": "python",
   "nbconvert_exporter": "python",
   "pygments_lexer": "ipython3",
   "version": "3.6.5"
  }
 },
 "nbformat": 4,
 "nbformat_minor": 2
}
