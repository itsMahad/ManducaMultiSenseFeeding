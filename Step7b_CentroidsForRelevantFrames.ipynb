{
 "cells": [
  {
   "cell_type": "code",
   "execution_count": 1,
   "metadata": {},
   "outputs": [],
   "source": [
    "import time\n",
    "import numpy as np\n",
    "import pandas as pd\n",
    "import matplotlib.pyplot as plt\n",
    "from scipy import signal\n",
    "import os, errno\n",
    "import glob"
   ]
  },
  {
   "cell_type": "code",
   "execution_count": 2,
   "metadata": {},
   "outputs": [],
   "source": [
    "centroid_tracks = r\"E:\\Downloads\\ManducaMultiSenseData\\Step1\\\\\"\n",
    "visitInfo = r\"E:\\Downloads\\ManducaMultiSenseData\\v3\\Step5_v3\\\\\""
   ]
  },
  {
   "cell_type": "code",
   "execution_count": 3,
   "metadata": {},
   "outputs": [],
   "source": [
    "outpath = r\"E:\\Downloads\\ManducaMultiSenseData\\v3\\Centroids_Relevant_v3\\\\\""
   ]
  },
  {
   "cell_type": "code",
   "execution_count": 4,
   "metadata": {},
   "outputs": [],
   "source": [
    "mothVisit_list = glob.glob(visitInfo + \"*.csv\")\n",
    "centroids = glob.glob(centroid_tracks + \"*.csv\")\n",
    "flower_radius = pd.read_csv('E:\\Downloads\\ManducaMultiSenseData\\\\v3\\Centroids_v3\\FlowerImage\\circle_params.csv')"
   ]
  },
  {
   "cell_type": "code",
   "execution_count": 5,
   "metadata": {},
   "outputs": [
    {
     "data": {
      "text/html": [
       "<div>\n",
       "<style scoped>\n",
       "    .dataframe tbody tr th:only-of-type {\n",
       "        vertical-align: middle;\n",
       "    }\n",
       "\n",
       "    .dataframe tbody tr th {\n",
       "        vertical-align: top;\n",
       "    }\n",
       "\n",
       "    .dataframe thead th {\n",
       "        text-align: right;\n",
       "    }\n",
       "</style>\n",
       "<table border=\"1\" class=\"dataframe\">\n",
       "  <thead>\n",
       "    <tr style=\"text-align: right;\">\n",
       "      <th></th>\n",
       "      <th>Unnamed: 0</th>\n",
       "      <th>In_Frame</th>\n",
       "      <th>Out_Frame</th>\n",
       "      <th>ProboscisDetect</th>\n",
       "      <th>DiscoveryTime</th>\n",
       "    </tr>\n",
       "  </thead>\n",
       "  <tbody>\n",
       "    <tr>\n",
       "      <th>0</th>\n",
       "      <td>0.0</td>\n",
       "      <td>20377.0</td>\n",
       "      <td>20713.0</td>\n",
       "      <td>NaN</td>\n",
       "      <td>NaN</td>\n",
       "    </tr>\n",
       "    <tr>\n",
       "      <th>1</th>\n",
       "      <td>1.0</td>\n",
       "      <td>39912.0</td>\n",
       "      <td>41054.0</td>\n",
       "      <td>NaN</td>\n",
       "      <td>NaN</td>\n",
       "    </tr>\n",
       "    <tr>\n",
       "      <th>2</th>\n",
       "      <td>2.0</td>\n",
       "      <td>41723.0</td>\n",
       "      <td>41890.0</td>\n",
       "      <td>NaN</td>\n",
       "      <td>NaN</td>\n",
       "    </tr>\n",
       "    <tr>\n",
       "      <th>3</th>\n",
       "      <td>3.0</td>\n",
       "      <td>67784.0</td>\n",
       "      <td>69028.0</td>\n",
       "      <td>NaN</td>\n",
       "      <td>NaN</td>\n",
       "    </tr>\n",
       "    <tr>\n",
       "      <th>4</th>\n",
       "      <td>4.0</td>\n",
       "      <td>103803.0</td>\n",
       "      <td>104034.0</td>\n",
       "      <td>NaN</td>\n",
       "      <td>NaN</td>\n",
       "    </tr>\n",
       "  </tbody>\n",
       "</table>\n",
       "</div>"
      ],
      "text/plain": [
       "   Unnamed: 0  In_Frame  Out_Frame  ProboscisDetect  DiscoveryTime\n",
       "0         0.0   20377.0    20713.0              NaN            NaN\n",
       "1         1.0   39912.0    41054.0              NaN            NaN\n",
       "2         2.0   41723.0    41890.0              NaN            NaN\n",
       "3         3.0   67784.0    69028.0              NaN            NaN\n",
       "4         4.0  103803.0   104034.0              NaN            NaN"
      ]
     },
     "execution_count": 5,
     "metadata": {},
     "output_type": "execute_result"
    }
   ],
   "source": [
    "df = pd.read_csv(mothVisit_list[0], dtype = 'float')\n",
    "df.head()"
   ]
  },
  {
   "cell_type": "code",
   "execution_count": 6,
   "metadata": {},
   "outputs": [],
   "source": [
    "visit_num = [0, -1]"
   ]
  },
  {
   "cell_type": "code",
   "execution_count": 7,
   "metadata": {},
   "outputs": [],
   "source": [
    "pix_thresh = 500\n",
    "for file in mothVisit_list:\n",
    "    df = pd.read_csv(file)\n",
    "    \n",
    "    a,b,c,_ = os.path.basename(file).split('_')\n",
    "    name = a + '_' + b + '_' + c\n",
    "    \n",
    "    string = name + '.csv'\n",
    "    matched_file = [c for c in centroids if string in c][0]\n",
    "    cent_file = pd.read_csv(matched_file)\n",
    "    cent_filtered_x_list, cent_filtered_y_list = [], []\n",
    "    \n",
    "    for i in cent_file.index.values:\n",
    "        if cent_file.NumPixel.values[i] > pix_thresh:\n",
    "            cent_filtered_x_list.append(cent_file.Centroid_hull_x.values[i])\n",
    "            cent_filtered_y_list.append(cent_file.Centroid_hull_y.values[i])\n",
    "        else:\n",
    "            cent_filtered_x_list.append(np.nan)\n",
    "            cent_filtered_y_list.append(np.nan)\n",
    "            \n",
    "    cent_file['centroid_filtered_x'] = cent_filtered_x_list\n",
    "    cent_file['centroid_filtered_y'] = cent_filtered_y_list\n",
    "   \n",
    "    for v in visit_num:\n",
    "        row = df.iloc[v,:]\n",
    "        strt = int(row['In_Frame'])\n",
    "        end = row['ProboscisDetect']\n",
    "        \n",
    "        if np.isnan(np.asarray(end)):\n",
    "            end = row['Out_Frame']\n",
    "        end = int(end)\n",
    "        \n",
    "        # get the radius\n",
    "        r = flower_radius.loc[flower_radius.name == name, 'circ_radii'].values\n",
    "        \n",
    "        frameNums = cent_file[strt:end].index.values\n",
    "        x = cent_file[strt:end].centroid_filtered_x.values*2.5/r\n",
    "        y = cent_file[strt:end].centroid_filtered_y.values*2.5/r\n",
    "        \n",
    "        new_df = pd.DataFrame({\"FrameNumber\": frameNums, \"X_position\": x, \"Y_position\": y})\n",
    "        if v == -1:\n",
    "            visitname = 'last'\n",
    "        else:\n",
    "            visitname = 'first'\n",
    "        new_df.to_csv(outpath + \"\\\\\"+ name + \"_\" + visitname + 'Visit' + \".csv\")"
   ]
  },
  {
   "cell_type": "code",
   "execution_count": null,
   "metadata": {},
   "outputs": [],
   "source": []
  }
 ],
 "metadata": {
  "kernelspec": {
   "display_name": "Python 3",
   "language": "python",
   "name": "python3"
  },
  "language_info": {
   "codemirror_mode": {
    "name": "ipython",
    "version": 3
   },
   "file_extension": ".py",
   "mimetype": "text/x-python",
   "name": "python",
   "nbconvert_exporter": "python",
   "pygments_lexer": "ipython3",
   "version": "3.6.5"
  }
 },
 "nbformat": 4,
 "nbformat_minor": 2
}
