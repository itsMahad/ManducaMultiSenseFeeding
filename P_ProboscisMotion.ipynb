{
 "cells": [
  {
   "cell_type": "code",
   "execution_count": 8,
   "metadata": {},
   "outputs": [],
   "source": [
    "import numpy as np\n",
    "import glob\n",
    "import os\n",
    "import pandas as pd"
   ]
  },
  {
   "cell_type": "code",
   "execution_count": 15,
   "metadata": {},
   "outputs": [],
   "source": [
    "# create files containing the proboscis tracks for the first and last visits\n",
    "\n",
    "# get visit Info\n",
    "visitInfo = r\"G:/My Drive/Mahad\\Light Level Experiments\\Data Output from Analysis\\MainVideoProcessingCodes_v3\\Step5_v3/\"\n",
    "mothVisit_list = glob.glob(visitInfo + \"*.csv\")"
   ]
  },
  {
   "cell_type": "code",
   "execution_count": 10,
   "metadata": {},
   "outputs": [],
   "source": [
    "# proboscis tracks\n",
    "direc2 = r\"G:\\My Drive\\Mahad\\Light Level Experiments\\Data Output from Analysis\\DeepLabCut\\videos\\RawVideos/\"\n",
    "file_dlc = glob.glob(direc2 + r\"\\*.h5\")"
   ]
  },
  {
   "cell_type": "code",
   "execution_count": 17,
   "metadata": {},
   "outputs": [],
   "source": [
    "for file in mothVisit_list[0:1]:\n",
    "    df = pd.read_csv(file)\n",
    "    \n",
    "    a,b,c,_ = os.path.basename(file).split('_')\n",
    "    name = a + '_' + b + '_' + c\n",
    "    \n",
    "    string = name + '.csv'\n",
    "    \n",
    "    # Get the stats on DLCTracking\n",
    "    file_matched = [f for f in file_dlc if name in f]\n",
    "    temp = pd.read_hdf(file_matched[0])\n",
    "    \n",
    "    DLC = temp.loc[slice(None),(slice(None),'proboscisTip')].copy()\n",
    "    DLC.columns = DLC.columns.droplevel(level = [0,1])"
   ]
  },
  {
   "cell_type": "code",
   "execution_count": 18,
   "metadata": {},
   "outputs": [
    {
     "data": {
      "text/html": [
       "<div>\n",
       "<style scoped>\n",
       "    .dataframe tbody tr th:only-of-type {\n",
       "        vertical-align: middle;\n",
       "    }\n",
       "\n",
       "    .dataframe tbody tr th {\n",
       "        vertical-align: top;\n",
       "    }\n",
       "\n",
       "    .dataframe thead th {\n",
       "        text-align: right;\n",
       "    }\n",
       "</style>\n",
       "<table border=\"1\" class=\"dataframe\">\n",
       "  <thead>\n",
       "    <tr style=\"text-align: right;\">\n",
       "      <th>coords</th>\n",
       "      <th>x</th>\n",
       "      <th>y</th>\n",
       "      <th>likelihood</th>\n",
       "    </tr>\n",
       "  </thead>\n",
       "  <tbody>\n",
       "    <tr>\n",
       "      <td>0</td>\n",
       "      <td>291.406952</td>\n",
       "      <td>255.643814</td>\n",
       "      <td>1.0</td>\n",
       "    </tr>\n",
       "    <tr>\n",
       "      <td>1</td>\n",
       "      <td>291.951965</td>\n",
       "      <td>255.687714</td>\n",
       "      <td>1.0</td>\n",
       "    </tr>\n",
       "    <tr>\n",
       "      <td>2</td>\n",
       "      <td>291.277802</td>\n",
       "      <td>255.548431</td>\n",
       "      <td>1.0</td>\n",
       "    </tr>\n",
       "    <tr>\n",
       "      <td>3</td>\n",
       "      <td>290.815887</td>\n",
       "      <td>255.369827</td>\n",
       "      <td>1.0</td>\n",
       "    </tr>\n",
       "    <tr>\n",
       "      <td>4</td>\n",
       "      <td>291.445892</td>\n",
       "      <td>255.238281</td>\n",
       "      <td>1.0</td>\n",
       "    </tr>\n",
       "  </tbody>\n",
       "</table>\n",
       "</div>"
      ],
      "text/plain": [
       "coords           x           y  likelihood\n",
       "0       291.406952  255.643814         1.0\n",
       "1       291.951965  255.687714         1.0\n",
       "2       291.277802  255.548431         1.0\n",
       "3       290.815887  255.369827         1.0\n",
       "4       291.445892  255.238281         1.0"
      ]
     },
     "execution_count": 18,
     "metadata": {},
     "output_type": "execute_result"
    }
   ],
   "source": [
    "DLC.head()"
   ]
  },
  {
   "cell_type": "code",
   "execution_count": null,
   "metadata": {},
   "outputs": [],
   "source": []
  }
 ],
 "metadata": {
  "kernelspec": {
   "display_name": "Python 3",
   "language": "python",
   "name": "python3"
  },
  "language_info": {
   "codemirror_mode": {
    "name": "ipython",
    "version": 3
   },
   "file_extension": ".py",
   "mimetype": "text/x-python",
   "name": "python",
   "nbconvert_exporter": "python",
   "pygments_lexer": "ipython3",
   "version": "3.6.5"
  }
 },
 "nbformat": 4,
 "nbformat_minor": 2
}
