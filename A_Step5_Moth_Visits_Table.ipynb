{
 "cells": [
  {
   "cell_type": "code",
   "execution_count": 1,
   "metadata": {},
   "outputs": [],
   "source": [
    "import pandas as pd\n",
    "import glob\n",
    "import numpy as np\n",
    "import seaborn as sns\n",
    "import matplotlib.pyplot as plt\n",
    "import scipy as sc\n",
    "import statistics as stats\n",
    "plt.rcParams['font.sans-serif'] = \"Arial\"\n",
    "plt.rcParams['font.family'] = \"sans-serif\""
   ]
  },
  {
   "cell_type": "code",
   "execution_count": 13,
   "metadata": {},
   "outputs": [],
   "source": [
    "visitsPerMothPath = r\"E:\\Downloads\\ManducaMultiSenseData\\Step5\"\n",
    "duration_path = r\"E:\\Downloads\\ManducaMultiSenseData\\Moth_Visits_Information\\Duration\"\n",
    "outpath = r\"E:\\Downloads\\ManducaMultiSenseData\\Moth_Visits_Information\""
   ]
  },
  {
   "cell_type": "code",
   "execution_count": 14,
   "metadata": {},
   "outputs": [
    {
     "data": {
      "text/plain": [
       "'L0.1_c-3_m10'"
      ]
     },
     "execution_count": 14,
     "metadata": {},
     "output_type": "execute_result"
    }
   ],
   "source": [
    "moth_list_files = glob.glob(visitsPerMothPath + \"\\\\*.csv\")\n",
    "moth_list_files[0][41:-30]"
   ]
  },
  {
   "cell_type": "code",
   "execution_count": 15,
   "metadata": {},
   "outputs": [
    {
     "name": "stderr",
     "output_type": "stream",
     "text": [
      "C:\\Users\\guess\\Anaconda3\\lib\\site-packages\\ipykernel_launcher.py:11: RuntimeWarning: invalid value encountered in greater\n",
      "  # This is added back by InteractiveShellApp.init_path()\n"
     ]
    },
    {
     "data": {
      "text/plain": [
       "(['L0.1_c-3_m10',\n",
       "  'L0.1_c-3_m12',\n",
       "  'L0.1_c-3_m20',\n",
       "  'L0.1_c-3_m21',\n",
       "  'L0.1_c-3_m22',\n",
       "  'L0.1_c-3_m23',\n",
       "  'L0.1_c-3_m24',\n",
       "  'L0.1_c-3_m25',\n",
       "  'L0.1_c-3_m27',\n",
       "  'L0.1_c-3_m2',\n",
       "  'L0.1_c-3_m32',\n",
       "  'L0.1_c-3_m34',\n",
       "  'L0.1_c-3_m37',\n",
       "  'L0.1_c-3_m38',\n",
       "  'L0.1_c-3_m39',\n",
       "  'L0.1_c-3_m40',\n",
       "  'L0.1_c-3_m41',\n",
       "  'L0.1_c-3_m43',\n",
       "  'L0.1_c-3_m44',\n",
       "  'L0.1_c-3_m45',\n",
       "  'L0.1_c-3_m46',\n",
       "  'L0.1_c-3_m47',\n",
       "  'L0.1_c-3_m48',\n",
       "  'L0.1_c-3_m49',\n",
       "  'L0.1_c-3_m50',\n",
       "  'L0.1_c-3_m54',\n",
       "  'L0.1_c-3_m57',\n",
       "  'L0.1_c-3_m5',\n",
       "  'L0.1_c-3_m8',\n",
       "  'L50_c-3_m10',\n",
       "  'L50_c-3_m12',\n",
       "  'L50_c-3_m13',\n",
       "  'L50_c-3_m14',\n",
       "  'L50_c-3_m15',\n",
       "  'L50_c-3_m21',\n",
       "  'L50_c-3_m22',\n",
       "  'L50_c-3_m24',\n",
       "  'L50_c-3_m25',\n",
       "  'L50_c-3_m26',\n",
       "  'L50_c-3_m2',\n",
       "  'L50_c-3_m30',\n",
       "  'L50_c-3_m32',\n",
       "  'L50_c-3_m33',\n",
       "  'L50_c-3_m34',\n",
       "  'L50_c-3_m35',\n",
       "  'L50_c-3_m37',\n",
       "  'L50_c-3_m38',\n",
       "  'L50_c-3_m39',\n",
       "  'L50_c-3_m45',\n",
       "  'L50_c-3_m49',\n",
       "  'L50_c-3_m50',\n",
       "  'L50_c-3_m51',\n",
       "  'L50_c-3_m58',\n",
       "  'L50_c-3_m6',\n",
       "  'L50_c-3_m9'],\n",
       " [4,\n",
       "  3,\n",
       "  63,\n",
       "  63,\n",
       "  20,\n",
       "  7,\n",
       "  1,\n",
       "  2,\n",
       "  9,\n",
       "  10,\n",
       "  20,\n",
       "  26,\n",
       "  7,\n",
       "  13,\n",
       "  14,\n",
       "  25,\n",
       "  15,\n",
       "  12,\n",
       "  34,\n",
       "  47,\n",
       "  14,\n",
       "  45,\n",
       "  6,\n",
       "  35,\n",
       "  11,\n",
       "  53,\n",
       "  46,\n",
       "  38,\n",
       "  22,\n",
       "  8,\n",
       "  25,\n",
       "  22,\n",
       "  14,\n",
       "  24,\n",
       "  25,\n",
       "  49,\n",
       "  1,\n",
       "  1,\n",
       "  11,\n",
       "  2,\n",
       "  3,\n",
       "  33,\n",
       "  3,\n",
       "  4,\n",
       "  9,\n",
       "  11,\n",
       "  8,\n",
       "  32,\n",
       "  14,\n",
       "  17,\n",
       "  6,\n",
       "  10,\n",
       "  5,\n",
       "  8,\n",
       "  8],\n",
       " [0,\n",
       "  0,\n",
       "  55,\n",
       "  52,\n",
       "  19,\n",
       "  0,\n",
       "  0,\n",
       "  1,\n",
       "  0,\n",
       "  8,\n",
       "  15,\n",
       "  25,\n",
       "  1,\n",
       "  11,\n",
       "  0,\n",
       "  17,\n",
       "  12,\n",
       "  11,\n",
       "  33,\n",
       "  29,\n",
       "  10,\n",
       "  15,\n",
       "  0,\n",
       "  24,\n",
       "  9,\n",
       "  48,\n",
       "  39,\n",
       "  24,\n",
       "  10,\n",
       "  1,\n",
       "  20,\n",
       "  6,\n",
       "  11,\n",
       "  16,\n",
       "  19,\n",
       "  34,\n",
       "  0,\n",
       "  0,\n",
       "  6,\n",
       "  0,\n",
       "  0,\n",
       "  31,\n",
       "  0,\n",
       "  0,\n",
       "  0,\n",
       "  5,\n",
       "  0,\n",
       "  26,\n",
       "  4,\n",
       "  13,\n",
       "  0,\n",
       "  1,\n",
       "  0,\n",
       "  6,\n",
       "  3],\n",
       " [['no'],\n",
       "  ['no'],\n",
       "  ['yes'],\n",
       "  ['yes'],\n",
       "  ['yes'],\n",
       "  ['no'],\n",
       "  ['no'],\n",
       "  ['yes'],\n",
       "  ['no'],\n",
       "  ['yes'],\n",
       "  ['yes'],\n",
       "  ['yes'],\n",
       "  ['yes'],\n",
       "  ['yes'],\n",
       "  ['no'],\n",
       "  ['yes'],\n",
       "  ['yes'],\n",
       "  ['yes'],\n",
       "  ['yes'],\n",
       "  ['yes'],\n",
       "  ['yes'],\n",
       "  ['yes'],\n",
       "  ['no'],\n",
       "  ['yes'],\n",
       "  ['yes'],\n",
       "  ['yes'],\n",
       "  ['yes'],\n",
       "  ['yes'],\n",
       "  ['yes'],\n",
       "  ['yes'],\n",
       "  ['yes'],\n",
       "  ['yes'],\n",
       "  ['yes'],\n",
       "  ['yes'],\n",
       "  ['yes'],\n",
       "  ['yes'],\n",
       "  ['no'],\n",
       "  ['no'],\n",
       "  ['yes'],\n",
       "  ['no'],\n",
       "  ['no'],\n",
       "  ['yes'],\n",
       "  ['no'],\n",
       "  ['no'],\n",
       "  ['no'],\n",
       "  ['yes'],\n",
       "  ['no'],\n",
       "  ['yes'],\n",
       "  ['yes'],\n",
       "  ['yes'],\n",
       "  ['no'],\n",
       "  ['yes'],\n",
       "  ['no'],\n",
       "  ['yes'],\n",
       "  ['yes']],\n",
       " [['low'],\n",
       "  ['low'],\n",
       "  ['low'],\n",
       "  ['low'],\n",
       "  ['low'],\n",
       "  ['low'],\n",
       "  ['low'],\n",
       "  ['low'],\n",
       "  ['low'],\n",
       "  ['low'],\n",
       "  ['low'],\n",
       "  ['low'],\n",
       "  ['low'],\n",
       "  ['low'],\n",
       "  ['low'],\n",
       "  ['low'],\n",
       "  ['low'],\n",
       "  ['low'],\n",
       "  ['low'],\n",
       "  ['low'],\n",
       "  ['low'],\n",
       "  ['low'],\n",
       "  ['low'],\n",
       "  ['low'],\n",
       "  ['low'],\n",
       "  ['low'],\n",
       "  ['low'],\n",
       "  ['low'],\n",
       "  ['low'],\n",
       "  ['high'],\n",
       "  ['high'],\n",
       "  ['high'],\n",
       "  ['high'],\n",
       "  ['high'],\n",
       "  ['high'],\n",
       "  ['high'],\n",
       "  ['high'],\n",
       "  ['high'],\n",
       "  ['high'],\n",
       "  ['high'],\n",
       "  ['high'],\n",
       "  ['high'],\n",
       "  ['high'],\n",
       "  ['high'],\n",
       "  ['high'],\n",
       "  ['high'],\n",
       "  ['high'],\n",
       "  ['high'],\n",
       "  ['high'],\n",
       "  ['high'],\n",
       "  ['high'],\n",
       "  ['high'],\n",
       "  ['high'],\n",
       "  ['high'],\n",
       "  ['high']])"
      ]
     },
     "execution_count": 15,
     "metadata": {},
     "output_type": "execute_result"
    }
   ],
   "source": [
    "names = []\n",
    "visit_per_moth = []\n",
    "light_level = []\n",
    "successful_visits = []\n",
    "fed_status = []\n",
    "ratio_list = []\n",
    "for moth in moth_list_files:\n",
    "    df = pd.read_csv(moth)\n",
    "    name = moth[41:-30]\n",
    "    visit_number = len(df.In_Frame)\n",
    "    successful_number = len(df.ProboscisDetect[df.ProboscisDetect.values>0])\n",
    "    successful_visits.append(successful_number)\n",
    "    visit_per_moth.append(visit_number)\n",
    "    ratio_list.append(successful_number/visit_number)\n",
    "    names.append(name)\n",
    "    if name.startswith(\"L50\"):  \n",
    "        light = [\"high\"]\n",
    "\n",
    "    elif name.startswith(\"L0.1\"):\n",
    "        light = [\"low\"]\n",
    "    if successful_number > 0:\n",
    "        fed = [\"yes\"]\n",
    "    else:\n",
    "        fed = [\"no\"]\n",
    "        \n",
    "    fed_status.append(fed)\n",
    "    light_level.append(light)\n",
    "    \n",
    "    duration = []\n",
    "    pre_duration = []\n",
    "    post_duration = []\n",
    "\n",
    "    for dset in df.index:\n",
    "        dur = df.Out_Frame.values[dset] - df.In_Frame.values[dset]\n",
    "        if df.ProboscisDetect.values[dset]>0:\n",
    "            pre_dur = df.ProboscisDetect.values[dset] - df.In_Frame.values[dset]\n",
    "            post_dur = -df.ProboscisDetect.values[dset]+ df.Out_Frame.values[dset]\n",
    "        else:\n",
    "            pre_dur = dur\n",
    "            post_dur = 0\n",
    "        duration.append(dur)\n",
    "        pre_duration.append(pre_dur)\n",
    "        post_duration.append(post_dur)\n",
    "    new = pd.DataFrame({'duration': duration, 'pre_duration': pre_duration, 'post_duration': post_duration})\n",
    "    step5_duration = pd.concat([df,new], axis = 1)\n",
    "    step5_duration.to_csv(duration_path + \"\\\\\" + name + \"_duration.csv\")\n",
    "new_df = pd.DataFrame({'name' : names, 'visits' : visit_per_moth, 'ratio': ratio_list, 'successful_visits' : successful_visits,\n",
    "                        'Fed_Status': list(np.squeeze(fed_status)), 'Light_Level': list(np.squeeze(light_level))})\n",
    "new_df.to_csv(outpath + \"\\\\Moth_Visits_Table.csv\")\n",
    "names, visit_per_moth, successful_visits, fed_status, light_level"
   ]
  },
  {
   "cell_type": "code",
   "execution_count": 37,
   "metadata": {},
   "outputs": [],
   "source": [
    "moth_data = pd.read_csv(outpath + \"\\\\Moth_Visits_Table.csv\")"
   ]
  },
  {
   "cell_type": "code",
   "execution_count": 46,
   "metadata": {},
   "outputs": [
    {
     "data": {
      "text/plain": [
       "(Ks_2sampResult(statistic=0.2718832891246684, pvalue=0.20835369788239588),\n",
       " MannwhitneyuResult(statistic=492.0, pvalue=0.05338031874970472))"
      ]
     },
     "execution_count": 46,
     "metadata": {},
     "output_type": "execute_result"
    }
   ],
   "source": [
    "high_visit_list = moth_data[(moth_data.Light_Level.str.contains(\"high\")) & moth_data.visits.notnull()].visits.values\n",
    "low_visit_list = moth_data[(moth_data.Light_Level.str.contains(\"low\")) & moth_data.visits.notnull()].visits.values\n",
    "sc.stats.ks_2samp(high_visit_list, low_visit_list), sc.stats.mannwhitneyu(low_visit_list, high_visit_list, use_continuity=True, alternative='two-sided')"
   ]
  },
  {
   "cell_type": "code",
   "execution_count": 48,
   "metadata": {},
   "outputs": [
    {
     "data": {
      "text/plain": [
       "(Ks_2sampResult(statistic=0.3819628647214854, pvalue=0.02577811840914135),\n",
       " MannwhitneyuResult(statistic=489.5, pvalue=0.0551971889681918))"
      ]
     },
     "execution_count": 48,
     "metadata": {},
     "output_type": "execute_result"
    }
   ],
   "source": [
    "high_succ_list = moth_data[(moth_data.Light_Level.str.contains(\"high\"))].successful_visits.values\n",
    "low_succ_list = moth_data[(moth_data.Light_Level.str.contains(\"low\"))].successful_visits.values\n",
    "sc.stats.ks_2samp(low_succ_list, high_succ_list), sc.stats.mannwhitneyu(low_succ_list, high_succ_list, use_continuity=True, alternative='two-sided')"
   ]
  },
  {
   "cell_type": "code",
   "execution_count": 50,
   "metadata": {},
   "outputs": [
    {
     "data": {
      "text/plain": [
       "(Ks_2sampResult(statistic=0.3063660477453581, pvalue=0.11515974297431497),\n",
       " MannwhitneyuResult(statistic=501.0, pvalue=0.03455289385288322))"
      ]
     },
     "execution_count": 50,
     "metadata": {},
     "output_type": "execute_result"
    }
   ],
   "source": [
    "high_ratio_list = moth_data[(moth_data.Light_Level.str.contains(\"high\"))].ratio.values\n",
    "low_ratio_list = moth_data[(moth_data.Light_Level.str.contains(\"low\"))].ratio.values\n",
    "sc.stats.ks_2samp(low_ratio_list, high_ratio_list), sc.stats.mannwhitneyu(low_ratio_list, high_ratio_list, use_continuity=True, alternative='two-sided')"
   ]
  },
  {
   "cell_type": "code",
   "execution_count": 41,
   "metadata": {},
   "outputs": [
    {
     "data": {
      "image/png": "[encoded data removed]",
      "text/plain": [
       "<Figure size 720x720 with 1 Axes>"
      ]
     },
     "metadata": {},
     "output_type": "display_data"
    }
   ],
   "source": [
    "sns.set(style=\"ticks\")\n",
    "\n",
    "f, ax = plt.subplots(figsize=(10, 10))\n",
    "\n",
    "\n",
    "# Plot the orbital period with horizontal boxes\n",
    "sns.boxplot(x=\"Light_Level\", y=\"visits\", data=moth_data,\n",
    "           palette=['mediumpurple','orange'])\n",
    "\n",
    "# Add in points to show each observation\n",
    "sns.swarmplot(x=\"Light_Level\", y=\"visits\", data=moth_data,\n",
    "              size=6, color=\"0.2\", linewidth=0)\n",
    "\n",
    "high_visit = len(moth_data[(moth_data.Light_Level.str.contains(\"high\")) & moth_data.visits.notnull()].index)\n",
    "low_visit = len(moth_data[(moth_data.Light_Level.str.contains(\"low\")) & moth_data.visits.notnull()].index)\n",
    "\n",
    "lineb = ax.plot(np.zeros(0), '-b')\n",
    "liner = ax.plot(np.zeros(0), '-r')\n",
    "lines = (lineb,liner)\n",
    "\n",
    "\n",
    "# Tweak the visual presentation\n",
    "ax.xaxis.grid(False)\n",
    "ax.set_ylabel(\"Visits\", size = 16)\n",
    "ax.set_xlabel(\"Light Level\", size = 16)\n",
    "ax.set_title(\"Visits Per Moth\", size = 16)\n",
    "ax.set_xticklabels([\"Low\",\"High\"], size = 13)\n",
    "sns.despine(trim=True, left=True)\n",
    "# plt.savefig(outpath_fig + \"\\\\VisitsPerMoth_Box.png\")"
   ]
  },
  {
   "cell_type": "code",
   "execution_count": 27,
   "metadata": {},
   "outputs": [
    {
     "data": {
      "image/png": "[encoded data removed]",
      "text/plain": [
       "<Figure size 720x720 with 1 Axes>"
      ]
     },
     "metadata": {},
     "output_type": "display_data"
    }
   ],
   "source": [
    "sns.set(style=\"ticks\")\n",
    "\n",
    "# Initialize the figure with a logarithmic x axis\n",
    "f, ax = plt.subplots(figsize=(10, 10))\n",
    "\n",
    "\n",
    "# Plot the orbital period with horizontal boxes\n",
    "sns.boxplot(x=\"Light_Level\", y=\"successful_visits\", data=moth_data,\n",
    "           palette=['mediumpurple','orange'])\n",
    "\n",
    "# Add in points to show each observation\n",
    "sns.swarmplot(x=\"Light_Level\", y=\"successful_visits\", data=moth_data,\n",
    "              size=6, color=\"0.2\", linewidth=0)\n",
    "\n",
    "high_fed = len(moth_data[(moth_data.Light_Level.str.contains(\"high\")) & moth_data.Fed_Status.str.contains(\"yes\")].index)\n",
    "low_fed = len(moth_data[(moth_data.Light_Level.str.contains(\"low\")) & moth_data.Fed_Status.str.contains(\"yes\")].index)\n",
    "\n",
    "# Tweak the visual presentation\n",
    "ax.xaxis.grid(False)\n",
    "ax.set_ylabel(\"Successful Visits\", size = 30)\n",
    "ax.set_xlabel(\"Light Level\", size = 40)\n",
    "ax.set_xticklabels([\"Low\",\"High\"], size = 40)\n",
    "for tick in ax.get_yticklabels():\n",
    "    tick.set_fontsize(30) \n",
    "# ax.set_title(\"Ratio of Successful Visits Per Moth\", size = 40)\n",
    "ax.set_ylim(-3,60)\n",
    "ax.locator_params(nbins=4, axis = \"y\")\n",
    "\n",
    "\n",
    "# ax.text(0.66, 1.3,'N = ' +str(high_fed)  + \"/\" + str(high_visit), color = 'orange', weight = 'bold', size = 30)\n",
    "# ax.text(0.66, 1.1, 'N = ' + str(low_fed) + \"/\" + str(low_visit), color = 'mediumpurple', weight = 'bold', size = 30)\n",
    "sns.despine(trim=True, left=True)\n",
    "plt.tight_layout()\n",
    "# plt.savefig(outpath + \"//SuccessfulVisits.png\")"
   ]
  },
  {
   "cell_type": "code",
   "execution_count": 28,
   "metadata": {},
   "outputs": [
    {
     "data": {
      "image/png": "[encoded data removed]",
      "text/plain": [
       "<Figure size 720x720 with 1 Axes>"
      ]
     },
     "metadata": {},
     "output_type": "display_data"
    }
   ],
   "source": [
    "sns.set(style=\"ticks\")\n",
    "\n",
    "# Initialize the figure with a logarithmic x axis\n",
    "f, ax = plt.subplots(figsize=(10, 10))\n",
    "\n",
    "\n",
    "# Plot the orbital period with horizontal boxes\n",
    "sns.boxplot(x=\"Light_Level\", y=\"ratio\", data=moth_data,\n",
    "           palette=['mediumpurple','orange'])\n",
    "\n",
    "# Add in points to show each observation\n",
    "sns.swarmplot(x=\"Light_Level\", y=\"ratio\", data=moth_data,\n",
    "              size=6, color=\"0.2\", linewidth=0)\n",
    "\n",
    "high_fed = len(moth_data[(moth_data.Light_Level.str.contains(\"high\")) & moth_data.Fed_Status.str.contains(\"yes\")].index)\n",
    "low_fed = len(moth_data[(moth_data.Light_Level.str.contains(\"low\")) & moth_data.Fed_Status.str.contains(\"yes\")].index)\n",
    "\n",
    "# Tweak the visual presentation\n",
    "ax.xaxis.grid(False)\n",
    "ax.set_ylabel(\"Ratio of Successful to Total Visits\", size = 30)\n",
    "ax.set_xlabel(\"Light Level\", size = 40)\n",
    "ax.set_xticklabels([\"Low\",\"High\"], size = 40)\n",
    "for tick in ax.get_yticklabels():\n",
    "    tick.set_fontsize(30) \n",
    "# ax.set_title(\"Ratio of Successful Visits Per Moth\", size = 40)\n",
    "ax.set_ylim(-0.1,1.1)\n",
    "ax.locator_params(nbins=4, axis = \"y\")\n",
    "\n",
    "\n",
    "# ax.text(0.66, 1.3,'N = ' +str(high_fed)  + \"/\" + str(high_visit), color = 'orange', weight = 'bold', size = 30)\n",
    "# ax.text(0.66, 1.1, 'N = ' + str(low_fed) + \"/\" + str(low_visit), color = 'mediumpurple', weight = 'bold', size = 30)\n",
    "sns.despine(trim=True, left=True)\n",
    "plt.tight_layout()\n",
    "# plt.savefig(outpath + \"//RatioOfSuccessfulToTotalVisits.png\")"
   ]
  },
  {
   "cell_type": "code",
   "execution_count": 25,
   "metadata": {},
   "outputs": [
    {
     "data": {
      "text/plain": [
       "0.20136044609114917"
      ]
     },
     "execution_count": 25,
     "metadata": {},
     "output_type": "execute_result"
    }
   ],
   "source": [
    "test_stat = np.mean(moth_data.ratio[moth_data.Light_Level == \"low\"]) - np.mean(moth_data.ratio[moth_data.Light_Level == \"high\"])\n",
    "test_stat"
   ]
  },
  {
   "cell_type": "code",
   "execution_count": 26,
   "metadata": {},
   "outputs": [],
   "source": [
    "# resample\n",
    "def null_perm_test():\n",
    "    null_trt = np.random.choice(moth_data.Light_Level, replace = False, size = len(moth_data.Light_Level))\n",
    "    null_test_stat = np.mean(moth_data.ratio[null_trt == \"low\"]) - np.mean(moth_data.ratio[null_trt == \"high\"]) \n",
    "    return(null_test_stat)\n",
    "\n",
    "# resample 10000 times to generate sampling distribution under the null hypothesis\n",
    "null_dist = np.array([null_perm_test() for ii in range(10000)])"
   ]
  },
  {
   "cell_type": "code",
   "execution_count": 27,
   "metadata": {},
   "outputs": [
    {
     "data": {
      "image/png": "[encoded data removed]",
      "text/plain": [
       "<matplotlib.figure.Figure at 0x1a13355f28>"
      ]
     },
     "metadata": {},
     "output_type": "display_data"
    }
   ],
   "source": [
    "plt.hist(null_dist, bins= 20)\n",
    "plt.vlines(x = test_stat, ymin = 0, ymax =1000, color = \"red\")\n",
    "plt.vlines(x = -test_stat, ymin = 0, ymax =1000, color = \"red\")\n",
    "plt.show()"
   ]
  },
  {
   "cell_type": "code",
   "execution_count": 28,
   "metadata": {},
   "outputs": [
    {
     "data": {
      "text/plain": [
       "0.0461"
      ]
     },
     "execution_count": 28,
     "metadata": {},
     "output_type": "execute_result"
    }
   ],
   "source": [
    "pval = np.mean((null_dist >= test_stat) | (-test_stat >= null_dist) )\n",
    "pval"
   ]
  },
  {
   "cell_type": "code",
   "execution_count": null,
   "metadata": {},
   "outputs": [],
   "source": [
    "moth_data[(moth_data.Light_Level.str.contains(\"high\"))].values"
   ]
  },
  {
   "cell_type": "code",
   "execution_count": null,
   "metadata": {},
   "outputs": [],
   "source": [
    "moth_data = pd.read_csv(r\"C:\\Users\\Daniellab\\Documents\\TanviStuff\\MultiSensory\\Lightlevel-FlowerShape\\MothChart-LightLevel-FlowerShape.csv\")\n",
    "high_visit_flower = len(moth_data[(moth_data.Animal_Name.str.contains(\"L50_c-3\")) & moth_data.Total_trials.notnull()].index)\n",
    "low_visit_flower = len(moth_data[(moth_data.Animal_Name.str.contains(\"L0.1_c-3\")) & moth_data.Total_trials.notnull()].index)\n",
    "high_visit_flower, low_visit_flower"
   ]
  },
  {
   "cell_type": "code",
   "execution_count": null,
   "metadata": {},
   "outputs": [],
   "source": [
    "duration_list = glob.glob(duration_path + \"\\\\*duration.csv\")\n",
    "df1 = []\n",
    "df2 = []\n",
    "df3 = []\n",
    "df4 = []\n",
    "df5 = []\n",
    "df6 = []\n",
    "df7 = []\n",
    "df8 = []\n",
    "df9 = []\n",
    "\n",
    "for file in duration_list:\n",
    "    df = pd.read_csv(file)\n",
    "    nam = file[79:-13]\n",
    "    name = [nam]*len(df[\"In_Frame\"])\n",
    "    if nam.startswith(\"L50\"):\n",
    "        light = [\"high\"]*len(df[\"In_Frame\"])\n",
    "    else: \n",
    "        light = [\"low\"]*len(df[\"In_Frame\"])\n",
    "    df1.extend(name)\n",
    "    df2.extend(df.In_Frame)\n",
    "    df3.extend(df.Out_Frame)\n",
    "    df4.extend(df.ProboscisDetect)\n",
    "    df5.extend(df.DiscoveryTime)\n",
    "    df6.extend(df.duration)\n",
    "    df7.extend(df.pre_duration)\n",
    "    df8.extend(df.post_duration)\n",
    "    df9.extend(light)\n",
    "new_df = pd.DataFrame({'name': df1, 'In_Frame': df2, 'Out_Frame': df3, 'ProboscisDetect':df4, \n",
    "                      'DiscoveryTime': df5, 'duration': df6, 'pre_duration': df7, 'post_duration': df8, 'Light_Level': list(np.squeeze(df9))})\n",
    "new_df.to_csv(duration_path + \"\\\\all_moth_durations.csv\")"
   ]
  },
  {
   "cell_type": "code",
   "execution_count": null,
   "metadata": {
    "scrolled": false
   },
   "outputs": [],
   "source": [
    "duration_data = pd.read_csv(duration_path + \"\\\\all_moth_durations.csv\") \n",
    "duration_data['duration(s)'] = pd.Series(duration_data['duration'].values/100, index=duration_data.index)\n",
    "\n",
    "sns.set(style=\"ticks\")\n",
    "\n",
    "# Initialize the figure with a logarithmic x axis\n",
    "f, ax = plt.subplots(figsize=(30, 15))\n",
    "\n",
    "\n",
    "# Plot the orbital period with horizontal boxes\n",
    "sns.violinplot(x=\"name\", y=\"duration(s)\", hue = \"Light_Level\", dodge=False, data=duration_data,\n",
    "          inner=\"quart\",\n",
    "           palette=['mediumpurple','darkorange'])\n",
    "\n",
    "# Add in points to show each observation\n",
    "sns.swarmplot(x=\"name\", y=\"duration(s)\", data=duration_data,\n",
    "              size=5, color=\"0.6\", linewidth=0)\n",
    "\n",
    "# Tweak the visual presentation\n",
    "ax.xaxis.grid(True)\n",
    "ax.tick_params(axis='x', which='major', labelsize=17,  rotation=90)\n",
    "ax.tick_params(axis='y', which='major', labelsize=17)\n",
    "ax.set_ylabel(\"Duration (s)\",  size = 30, labelpad=10)\n",
    "ax.set_xlabel(\"Moth\",  size = 30, labelpad=20)\n",
    "ax.set_title(\"Duration of each visit for each moth\", size = 40)\n",
    "ax.legend(prop={'size': 20})\n",
    "sns.despine(trim=True, left=True)\n",
    "plt.savefig(outpath_fig + \"\\\\DurationPerVisitPerMoth_Violin.png\")"
   ]
  },
  {
   "cell_type": "code",
   "execution_count": null,
   "metadata": {},
   "outputs": [],
   "source": [
    "# duration without outliers\n",
    "from scipy import stats\n",
    "z = np.abs(stats.zscore(duration_data['duration(s)'].values))\n",
    "outlier_ID = z > 5\n",
    "duration_data['zscore'] = z\n",
    "duration_data['outlier_ID'] = outlier_ID\n",
    "notoutliers_dur = duration_data[duration_data.outlier_ID == False]"
   ]
  },
  {
   "cell_type": "code",
   "execution_count": null,
   "metadata": {},
   "outputs": [],
   "source": [
    "# Initialize the figure with a logarithmic x axis\n",
    "f, ax = plt.subplots(figsize=(30, 15))\n",
    "\n",
    "\n",
    "# Plot the orbital period with horizontal boxes\n",
    "sns.violinplot(x=\"name\", y=\"duration(s)\", hue = \"Light_Level\", dodge=False, data=notoutliers_dur,inner=\"quart\",\n",
    "           palette=['mediumpurple','darkorange'])\n",
    "\n",
    "# Add in points to show each observation\n",
    "sns.swarmplot(x=\"name\", y=\"duration(s)\", data=notoutliers_dur,\n",
    "              size=5, color=\"0.6\", linewidth=0)\n",
    "\n",
    "# Tweak the visual presentation\n",
    "ax.xaxis.grid(True)\n",
    "ax.tick_params(axis='x', which='major', labelsize=17,  rotation=90)\n",
    "ax.tick_params(axis='y', which='major', labelsize=17)\n",
    "ax.set_ylabel(\"Duration (s)\",  size = 30, labelpad=10)\n",
    "ax.set_xlabel(\"Moth\",  size = 30, labelpad=20)\n",
    "ax.set_title(\"Duration of each visit for each moth. No outliers\", size = 40)\n",
    "ax.legend(prop={'size': 20})\n",
    "sns.despine(trim=True, left=True)\n",
    "plt.savefig(outpath_fig + \"\\\\NoOutliers_DurationPerVisitPerMoth_Violin.png\")"
   ]
  },
  {
   "cell_type": "code",
   "execution_count": null,
   "metadata": {},
   "outputs": [],
   "source": []
  }
 ],
 "metadata": {
  "kernelspec": {
   "display_name": "Python 3",
   "language": "python",
   "name": "python3"
  },
  "language_info": {
   "codemirror_mode": {
    "name": "ipython",
    "version": 3
   },
   "file_extension": ".py",
   "mimetype": "text/x-python",
   "name": "python",
   "nbconvert_exporter": "python",
   "pygments_lexer": "ipython3",
   "version": "3.7.6"
  }
 },
 "nbformat": 4,
 "nbformat_minor": 2
}
