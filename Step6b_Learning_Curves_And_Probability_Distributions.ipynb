{
 "cells": [
  {
   "cell_type": "code",
   "execution_count": 1,
   "metadata": {},
   "outputs": [],
   "source": [
    "import pandas as pd\n",
    "from scipy import stats\n",
    "import os\n",
    "import glob\n",
    "import numpy as np"
   ]
  },
  {
   "cell_type": "code",
   "execution_count": 2,
   "metadata": {},
   "outputs": [],
   "source": [
    "path = r'G:\\My Drive\\Mahad\\Light Level Experiments\\Data Output from Analysis\\MainVideoProcessingCodes_v4\\Step6_v4\\\\'\n",
    "outpath = r'./dataFolders/Output/Step6_v4/'"
   ]
  },
  {
   "cell_type": "code",
   "execution_count": 3,
   "metadata": {},
   "outputs": [],
   "source": [
    "def in_ranges(x,bins):\n",
    "    return [((x>=y[0])&(x<=y[1])) for y in bins]"
   ]
  },
  {
   "cell_type": "code",
   "execution_count": 4,
   "metadata": {},
   "outputs": [
    {
     "data": {
      "text/html": [
       "<div>\n",
       "<style scoped>\n",
       "    .dataframe tbody tr th:only-of-type {\n",
       "        vertical-align: middle;\n",
       "    }\n",
       "\n",
       "    .dataframe tbody tr th {\n",
       "        vertical-align: top;\n",
       "    }\n",
       "\n",
       "    .dataframe thead th {\n",
       "        text-align: right;\n",
       "    }\n",
       "</style>\n",
       "<table border=\"1\" class=\"dataframe\">\n",
       "  <thead>\n",
       "    <tr style=\"text-align: right;\">\n",
       "      <th></th>\n",
       "      <th>In_Frame</th>\n",
       "      <th>Out_Frame</th>\n",
       "      <th>Proboscis</th>\n",
       "      <th>DiscoveryTime</th>\n",
       "      <th>trialNum</th>\n",
       "      <th>name</th>\n",
       "      <th>zscore</th>\n",
       "      <th>outlier_ID</th>\n",
       "      <th>condition</th>\n",
       "    </tr>\n",
       "  </thead>\n",
       "  <tbody>\n",
       "    <tr>\n",
       "      <td>0</td>\n",
       "      <td>45940</td>\n",
       "      <td>53025</td>\n",
       "      <td>46222.0</td>\n",
       "      <td>2.82</td>\n",
       "      <td>0</td>\n",
       "      <td>L0.1_c-3_m20</td>\n",
       "      <td>0.251222</td>\n",
       "      <td>False</td>\n",
       "      <td>Low</td>\n",
       "    </tr>\n",
       "    <tr>\n",
       "      <td>1</td>\n",
       "      <td>55058</td>\n",
       "      <td>60805</td>\n",
       "      <td>55341.0</td>\n",
       "      <td>2.83</td>\n",
       "      <td>1</td>\n",
       "      <td>L0.1_c-3_m20</td>\n",
       "      <td>0.249691</td>\n",
       "      <td>False</td>\n",
       "      <td>Low</td>\n",
       "    </tr>\n",
       "    <tr>\n",
       "      <td>2</td>\n",
       "      <td>67612</td>\n",
       "      <td>69165</td>\n",
       "      <td>67744.0</td>\n",
       "      <td>1.32</td>\n",
       "      <td>2</td>\n",
       "      <td>L0.1_c-3_m20</td>\n",
       "      <td>0.480929</td>\n",
       "      <td>False</td>\n",
       "      <td>Low</td>\n",
       "    </tr>\n",
       "    <tr>\n",
       "      <td>3</td>\n",
       "      <td>72461</td>\n",
       "      <td>74177</td>\n",
       "      <td>72606.0</td>\n",
       "      <td>1.45</td>\n",
       "      <td>3</td>\n",
       "      <td>L0.1_c-3_m20</td>\n",
       "      <td>0.461021</td>\n",
       "      <td>False</td>\n",
       "      <td>Low</td>\n",
       "    </tr>\n",
       "    <tr>\n",
       "      <td>4</td>\n",
       "      <td>77368</td>\n",
       "      <td>79850</td>\n",
       "      <td>77499.0</td>\n",
       "      <td>1.31</td>\n",
       "      <td>4</td>\n",
       "      <td>L0.1_c-3_m20</td>\n",
       "      <td>0.482460</td>\n",
       "      <td>False</td>\n",
       "      <td>Low</td>\n",
       "    </tr>\n",
       "  </tbody>\n",
       "</table>\n",
       "</div>"
      ],
      "text/plain": [
       "   In_Frame  Out_Frame  Proboscis  DiscoveryTime  trialNum          name  \\\n",
       "0     45940      53025    46222.0           2.82         0  L0.1_c-3_m20   \n",
       "1     55058      60805    55341.0           2.83         1  L0.1_c-3_m20   \n",
       "2     67612      69165    67744.0           1.32         2  L0.1_c-3_m20   \n",
       "3     72461      74177    72606.0           1.45         3  L0.1_c-3_m20   \n",
       "4     77368      79850    77499.0           1.31         4  L0.1_c-3_m20   \n",
       "\n",
       "     zscore  outlier_ID condition  \n",
       "0  0.251222       False       Low  \n",
       "1  0.249691       False       Low  \n",
       "2  0.480929       False       Low  \n",
       "3  0.461021       False       Low  \n",
       "4  0.482460       False       Low  "
      ]
     },
     "execution_count": 4,
     "metadata": {},
     "output_type": "execute_result"
    }
   ],
   "source": [
    "notoutliers = pd.read_csv(path + 'AllLight_EveryMoth_notOutliers.csv')\n",
    "notoutliers['DiscoveryTime'] = notoutliers.DiscoveryTime.div(100,axis = 'index')\n",
    "notoutliers = notoutliers.drop(columns = ['Unnamed: 0', 'Unnamed: 0.1', 'Unnamed: 0.1.1'])\n",
    "notoutliers.head()"
   ]
  },
  {
   "cell_type": "code",
   "execution_count": 5,
   "metadata": {},
   "outputs": [],
   "source": [
    "Bins = [(0, 10), (5, 15), (10, 20), (15, 25), (20, 30)]\n",
    "label = ['(0,10)', '(5,15)', '(10,20)', '(15,25)', '(20,30)']"
   ]
  },
  {
   "cell_type": "code",
   "execution_count": 6,
   "metadata": {},
   "outputs": [],
   "source": [
    "binned = notoutliers['trialNum'].apply(lambda x: pd.Series(in_ranges(x,Bins), label))"
   ]
  },
  {
   "cell_type": "code",
   "execution_count": 7,
   "metadata": {},
   "outputs": [
    {
     "data": {
      "text/html": [
       "<div>\n",
       "<style scoped>\n",
       "    .dataframe tbody tr th:only-of-type {\n",
       "        vertical-align: middle;\n",
       "    }\n",
       "\n",
       "    .dataframe tbody tr th {\n",
       "        vertical-align: top;\n",
       "    }\n",
       "\n",
       "    .dataframe thead th {\n",
       "        text-align: right;\n",
       "    }\n",
       "</style>\n",
       "<table border=\"1\" class=\"dataframe\">\n",
       "  <thead>\n",
       "    <tr style=\"text-align: right;\">\n",
       "      <th></th>\n",
       "      <th>(0,10)</th>\n",
       "      <th>(5,15)</th>\n",
       "      <th>(10,20)</th>\n",
       "      <th>(15,25)</th>\n",
       "      <th>(20,30)</th>\n",
       "    </tr>\n",
       "  </thead>\n",
       "  <tbody>\n",
       "    <tr>\n",
       "      <td>0</td>\n",
       "      <td>True</td>\n",
       "      <td>False</td>\n",
       "      <td>False</td>\n",
       "      <td>False</td>\n",
       "      <td>False</td>\n",
       "    </tr>\n",
       "    <tr>\n",
       "      <td>1</td>\n",
       "      <td>True</td>\n",
       "      <td>False</td>\n",
       "      <td>False</td>\n",
       "      <td>False</td>\n",
       "      <td>False</td>\n",
       "    </tr>\n",
       "    <tr>\n",
       "      <td>2</td>\n",
       "      <td>True</td>\n",
       "      <td>False</td>\n",
       "      <td>False</td>\n",
       "      <td>False</td>\n",
       "      <td>False</td>\n",
       "    </tr>\n",
       "    <tr>\n",
       "      <td>3</td>\n",
       "      <td>True</td>\n",
       "      <td>False</td>\n",
       "      <td>False</td>\n",
       "      <td>False</td>\n",
       "      <td>False</td>\n",
       "    </tr>\n",
       "    <tr>\n",
       "      <td>4</td>\n",
       "      <td>True</td>\n",
       "      <td>False</td>\n",
       "      <td>False</td>\n",
       "      <td>False</td>\n",
       "      <td>False</td>\n",
       "    </tr>\n",
       "    <tr>\n",
       "      <td>...</td>\n",
       "      <td>...</td>\n",
       "      <td>...</td>\n",
       "      <td>...</td>\n",
       "      <td>...</td>\n",
       "      <td>...</td>\n",
       "    </tr>\n",
       "    <tr>\n",
       "      <td>426</td>\n",
       "      <td>True</td>\n",
       "      <td>False</td>\n",
       "      <td>False</td>\n",
       "      <td>False</td>\n",
       "      <td>False</td>\n",
       "    </tr>\n",
       "    <tr>\n",
       "      <td>427</td>\n",
       "      <td>True</td>\n",
       "      <td>False</td>\n",
       "      <td>False</td>\n",
       "      <td>False</td>\n",
       "      <td>False</td>\n",
       "    </tr>\n",
       "    <tr>\n",
       "      <td>428</td>\n",
       "      <td>True</td>\n",
       "      <td>False</td>\n",
       "      <td>False</td>\n",
       "      <td>False</td>\n",
       "      <td>False</td>\n",
       "    </tr>\n",
       "    <tr>\n",
       "      <td>429</td>\n",
       "      <td>True</td>\n",
       "      <td>False</td>\n",
       "      <td>False</td>\n",
       "      <td>False</td>\n",
       "      <td>False</td>\n",
       "    </tr>\n",
       "    <tr>\n",
       "      <td>430</td>\n",
       "      <td>True</td>\n",
       "      <td>False</td>\n",
       "      <td>False</td>\n",
       "      <td>False</td>\n",
       "      <td>False</td>\n",
       "    </tr>\n",
       "  </tbody>\n",
       "</table>\n",
       "<p>431 rows × 5 columns</p>\n",
       "</div>"
      ],
      "text/plain": [
       "     (0,10)  (5,15)  (10,20)  (15,25)  (20,30)\n",
       "0      True   False    False    False    False\n",
       "1      True   False    False    False    False\n",
       "2      True   False    False    False    False\n",
       "3      True   False    False    False    False\n",
       "4      True   False    False    False    False\n",
       "..      ...     ...      ...      ...      ...\n",
       "426    True   False    False    False    False\n",
       "427    True   False    False    False    False\n",
       "428    True   False    False    False    False\n",
       "429    True   False    False    False    False\n",
       "430    True   False    False    False    False\n",
       "\n",
       "[431 rows x 5 columns]"
      ]
     },
     "execution_count": 7,
     "metadata": {},
     "output_type": "execute_result"
    }
   ],
   "source": [
    "binned"
   ]
  },
  {
   "cell_type": "code",
   "execution_count": 8,
   "metadata": {},
   "outputs": [],
   "source": [
    "notoutliers = notoutliers.join(binned)"
   ]
  },
  {
   "cell_type": "code",
   "execution_count": 9,
   "metadata": {},
   "outputs": [],
   "source": [
    "test = notoutliers.name.str.split('_', expand = True)\n",
    "notoutliers['lightLevel'] = test[0]"
   ]
  },
  {
   "cell_type": "code",
   "execution_count": 10,
   "metadata": {},
   "outputs": [
    {
     "data": {
      "text/html": [
       "<div>\n",
       "<style scoped>\n",
       "    .dataframe tbody tr th:only-of-type {\n",
       "        vertical-align: middle;\n",
       "    }\n",
       "\n",
       "    .dataframe tbody tr th {\n",
       "        vertical-align: top;\n",
       "    }\n",
       "\n",
       "    .dataframe thead th {\n",
       "        text-align: right;\n",
       "    }\n",
       "</style>\n",
       "<table border=\"1\" class=\"dataframe\">\n",
       "  <thead>\n",
       "    <tr style=\"text-align: right;\">\n",
       "      <th></th>\n",
       "      <th>In_Frame</th>\n",
       "      <th>Out_Frame</th>\n",
       "      <th>Proboscis</th>\n",
       "      <th>DiscoveryTime</th>\n",
       "      <th>trialNum</th>\n",
       "      <th>name</th>\n",
       "      <th>zscore</th>\n",
       "      <th>outlier_ID</th>\n",
       "      <th>condition</th>\n",
       "      <th>(0,10)</th>\n",
       "      <th>(5,15)</th>\n",
       "      <th>(10,20)</th>\n",
       "      <th>(15,25)</th>\n",
       "      <th>(20,30)</th>\n",
       "      <th>lightLevel</th>\n",
       "    </tr>\n",
       "  </thead>\n",
       "  <tbody>\n",
       "    <tr>\n",
       "      <td>0</td>\n",
       "      <td>45940</td>\n",
       "      <td>53025</td>\n",
       "      <td>46222.0</td>\n",
       "      <td>2.82</td>\n",
       "      <td>0</td>\n",
       "      <td>L0.1_c-3_m20</td>\n",
       "      <td>0.251222</td>\n",
       "      <td>False</td>\n",
       "      <td>Low</td>\n",
       "      <td>True</td>\n",
       "      <td>False</td>\n",
       "      <td>False</td>\n",
       "      <td>False</td>\n",
       "      <td>False</td>\n",
       "      <td>L0.1</td>\n",
       "    </tr>\n",
       "    <tr>\n",
       "      <td>1</td>\n",
       "      <td>55058</td>\n",
       "      <td>60805</td>\n",
       "      <td>55341.0</td>\n",
       "      <td>2.83</td>\n",
       "      <td>1</td>\n",
       "      <td>L0.1_c-3_m20</td>\n",
       "      <td>0.249691</td>\n",
       "      <td>False</td>\n",
       "      <td>Low</td>\n",
       "      <td>True</td>\n",
       "      <td>False</td>\n",
       "      <td>False</td>\n",
       "      <td>False</td>\n",
       "      <td>False</td>\n",
       "      <td>L0.1</td>\n",
       "    </tr>\n",
       "    <tr>\n",
       "      <td>2</td>\n",
       "      <td>67612</td>\n",
       "      <td>69165</td>\n",
       "      <td>67744.0</td>\n",
       "      <td>1.32</td>\n",
       "      <td>2</td>\n",
       "      <td>L0.1_c-3_m20</td>\n",
       "      <td>0.480929</td>\n",
       "      <td>False</td>\n",
       "      <td>Low</td>\n",
       "      <td>True</td>\n",
       "      <td>False</td>\n",
       "      <td>False</td>\n",
       "      <td>False</td>\n",
       "      <td>False</td>\n",
       "      <td>L0.1</td>\n",
       "    </tr>\n",
       "    <tr>\n",
       "      <td>3</td>\n",
       "      <td>72461</td>\n",
       "      <td>74177</td>\n",
       "      <td>72606.0</td>\n",
       "      <td>1.45</td>\n",
       "      <td>3</td>\n",
       "      <td>L0.1_c-3_m20</td>\n",
       "      <td>0.461021</td>\n",
       "      <td>False</td>\n",
       "      <td>Low</td>\n",
       "      <td>True</td>\n",
       "      <td>False</td>\n",
       "      <td>False</td>\n",
       "      <td>False</td>\n",
       "      <td>False</td>\n",
       "      <td>L0.1</td>\n",
       "    </tr>\n",
       "    <tr>\n",
       "      <td>4</td>\n",
       "      <td>77368</td>\n",
       "      <td>79850</td>\n",
       "      <td>77499.0</td>\n",
       "      <td>1.31</td>\n",
       "      <td>4</td>\n",
       "      <td>L0.1_c-3_m20</td>\n",
       "      <td>0.482460</td>\n",
       "      <td>False</td>\n",
       "      <td>Low</td>\n",
       "      <td>True</td>\n",
       "      <td>False</td>\n",
       "      <td>False</td>\n",
       "      <td>False</td>\n",
       "      <td>False</td>\n",
       "      <td>L0.1</td>\n",
       "    </tr>\n",
       "  </tbody>\n",
       "</table>\n",
       "</div>"
      ],
      "text/plain": [
       "   In_Frame  Out_Frame  Proboscis  DiscoveryTime  trialNum          name  \\\n",
       "0     45940      53025    46222.0           2.82         0  L0.1_c-3_m20   \n",
       "1     55058      60805    55341.0           2.83         1  L0.1_c-3_m20   \n",
       "2     67612      69165    67744.0           1.32         2  L0.1_c-3_m20   \n",
       "3     72461      74177    72606.0           1.45         3  L0.1_c-3_m20   \n",
       "4     77368      79850    77499.0           1.31         4  L0.1_c-3_m20   \n",
       "\n",
       "     zscore  outlier_ID condition  (0,10)  (5,15)  (10,20)  (15,25)  (20,30)  \\\n",
       "0  0.251222       False       Low    True   False    False    False    False   \n",
       "1  0.249691       False       Low    True   False    False    False    False   \n",
       "2  0.480929       False       Low    True   False    False    False    False   \n",
       "3  0.461021       False       Low    True   False    False    False    False   \n",
       "4  0.482460       False       Low    True   False    False    False    False   \n",
       "\n",
       "  lightLevel  \n",
       "0       L0.1  \n",
       "1       L0.1  \n",
       "2       L0.1  \n",
       "3       L0.1  \n",
       "4       L0.1  "
      ]
     },
     "execution_count": 10,
     "metadata": {},
     "output_type": "execute_result"
    }
   ],
   "source": [
    "notoutliers.head()"
   ]
  },
  {
   "cell_type": "code",
   "execution_count": 11,
   "metadata": {},
   "outputs": [
    {
     "data": {
      "text/plain": [
       "Index(['In_Frame', 'Out_Frame', 'Proboscis', 'DiscoveryTime', 'trialNum',\n",
       "       'name', 'zscore', 'outlier_ID', 'condition', '(0,10)', '(5,15)',\n",
       "       '(10,20)', '(15,25)', '(20,30)', 'lightLevel'],\n",
       "      dtype='object')"
      ]
     },
     "execution_count": 11,
     "metadata": {},
     "output_type": "execute_result"
    }
   ],
   "source": [
    "notoutliers.columns"
   ]
  },
  {
   "cell_type": "code",
   "execution_count": 12,
   "metadata": {},
   "outputs": [
    {
     "name": "stdout",
     "output_type": "stream",
     "text": [
      "L0.1 and (0,10) bin has 152 visits\n",
      "L50 and (0,10) bin has 95 visits\n",
      "L0.1 and (5,15) bin has 116 visits\n",
      "L50 and (5,15) bin has 69 visits\n",
      "L0.1 and (10,20) bin has 74 visits\n",
      "L50 and (10,20) bin has 37 visits\n",
      "L0.1 and (15,25) bin has 53 visits\n",
      "L50 and (15,25) bin has 18 visits\n",
      "L0.1 and (20,30) bin has 44 visits\n",
      "L50 and (20,30) bin has 8 visits\n"
     ]
    }
   ],
   "source": [
    "for bin_label in label:\n",
    "    sub_df = notoutliers[notoutliers[bin_label] == True]\n",
    "    for l, df in sub_df.groupby('lightLevel'):\n",
    "        n = len(df)\n",
    "        print('%s and %s bin has %i visits' %(l, bin_label, n))        "
   ]
  },
  {
   "cell_type": "markdown",
   "metadata": {},
   "source": [
    "### mark early and late visits"
   ]
  },
  {
   "cell_type": "code",
   "execution_count": 13,
   "metadata": {},
   "outputs": [
    {
     "data": {
      "text/plain": [
       "24"
      ]
     },
     "execution_count": 13,
     "metadata": {},
     "output_type": "execute_result"
    }
   ],
   "source": [
    "notoutliers.loc[notoutliers.lightLevel == 'L50', 'trialNum'].max()"
   ]
  },
  {
   "cell_type": "code",
   "execution_count": 14,
   "metadata": {},
   "outputs": [],
   "source": [
    "Bins = [(0, 4), (14,24)]\n",
    "label = ['early', 'late']"
   ]
  },
  {
   "cell_type": "code",
   "execution_count": 15,
   "metadata": {},
   "outputs": [],
   "source": [
    "earlyLate_binned = notoutliers['trialNum'].apply(lambda x: pd.Series(in_ranges(x,Bins), label))"
   ]
  },
  {
   "cell_type": "code",
   "execution_count": 16,
   "metadata": {
    "scrolled": false
   },
   "outputs": [
    {
     "data": {
      "text/html": [
       "<div>\n",
       "<style scoped>\n",
       "    .dataframe tbody tr th:only-of-type {\n",
       "        vertical-align: middle;\n",
       "    }\n",
       "\n",
       "    .dataframe tbody tr th {\n",
       "        vertical-align: top;\n",
       "    }\n",
       "\n",
       "    .dataframe thead th {\n",
       "        text-align: right;\n",
       "    }\n",
       "</style>\n",
       "<table border=\"1\" class=\"dataframe\">\n",
       "  <thead>\n",
       "    <tr style=\"text-align: right;\">\n",
       "      <th></th>\n",
       "      <th>In_Frame</th>\n",
       "      <th>Out_Frame</th>\n",
       "      <th>Proboscis</th>\n",
       "      <th>DiscoveryTime</th>\n",
       "      <th>trialNum</th>\n",
       "      <th>name</th>\n",
       "      <th>zscore</th>\n",
       "      <th>outlier_ID</th>\n",
       "      <th>condition</th>\n",
       "      <th>(0,10)</th>\n",
       "      <th>(5,15)</th>\n",
       "      <th>(10,20)</th>\n",
       "      <th>(15,25)</th>\n",
       "      <th>(20,30)</th>\n",
       "      <th>lightLevel</th>\n",
       "      <th>early</th>\n",
       "      <th>late</th>\n",
       "    </tr>\n",
       "  </thead>\n",
       "  <tbody>\n",
       "    <tr>\n",
       "      <td>0</td>\n",
       "      <td>45940</td>\n",
       "      <td>53025</td>\n",
       "      <td>46222.0</td>\n",
       "      <td>2.82</td>\n",
       "      <td>0</td>\n",
       "      <td>L0.1_c-3_m20</td>\n",
       "      <td>0.251222</td>\n",
       "      <td>False</td>\n",
       "      <td>Low</td>\n",
       "      <td>True</td>\n",
       "      <td>False</td>\n",
       "      <td>False</td>\n",
       "      <td>False</td>\n",
       "      <td>False</td>\n",
       "      <td>L0.1</td>\n",
       "      <td>True</td>\n",
       "      <td>False</td>\n",
       "    </tr>\n",
       "    <tr>\n",
       "      <td>1</td>\n",
       "      <td>55058</td>\n",
       "      <td>60805</td>\n",
       "      <td>55341.0</td>\n",
       "      <td>2.83</td>\n",
       "      <td>1</td>\n",
       "      <td>L0.1_c-3_m20</td>\n",
       "      <td>0.249691</td>\n",
       "      <td>False</td>\n",
       "      <td>Low</td>\n",
       "      <td>True</td>\n",
       "      <td>False</td>\n",
       "      <td>False</td>\n",
       "      <td>False</td>\n",
       "      <td>False</td>\n",
       "      <td>L0.1</td>\n",
       "      <td>True</td>\n",
       "      <td>False</td>\n",
       "    </tr>\n",
       "    <tr>\n",
       "      <td>2</td>\n",
       "      <td>67612</td>\n",
       "      <td>69165</td>\n",
       "      <td>67744.0</td>\n",
       "      <td>1.32</td>\n",
       "      <td>2</td>\n",
       "      <td>L0.1_c-3_m20</td>\n",
       "      <td>0.480929</td>\n",
       "      <td>False</td>\n",
       "      <td>Low</td>\n",
       "      <td>True</td>\n",
       "      <td>False</td>\n",
       "      <td>False</td>\n",
       "      <td>False</td>\n",
       "      <td>False</td>\n",
       "      <td>L0.1</td>\n",
       "      <td>True</td>\n",
       "      <td>False</td>\n",
       "    </tr>\n",
       "    <tr>\n",
       "      <td>3</td>\n",
       "      <td>72461</td>\n",
       "      <td>74177</td>\n",
       "      <td>72606.0</td>\n",
       "      <td>1.45</td>\n",
       "      <td>3</td>\n",
       "      <td>L0.1_c-3_m20</td>\n",
       "      <td>0.461021</td>\n",
       "      <td>False</td>\n",
       "      <td>Low</td>\n",
       "      <td>True</td>\n",
       "      <td>False</td>\n",
       "      <td>False</td>\n",
       "      <td>False</td>\n",
       "      <td>False</td>\n",
       "      <td>L0.1</td>\n",
       "      <td>True</td>\n",
       "      <td>False</td>\n",
       "    </tr>\n",
       "    <tr>\n",
       "      <td>4</td>\n",
       "      <td>77368</td>\n",
       "      <td>79850</td>\n",
       "      <td>77499.0</td>\n",
       "      <td>1.31</td>\n",
       "      <td>4</td>\n",
       "      <td>L0.1_c-3_m20</td>\n",
       "      <td>0.482460</td>\n",
       "      <td>False</td>\n",
       "      <td>Low</td>\n",
       "      <td>True</td>\n",
       "      <td>False</td>\n",
       "      <td>False</td>\n",
       "      <td>False</td>\n",
       "      <td>False</td>\n",
       "      <td>L0.1</td>\n",
       "      <td>True</td>\n",
       "      <td>False</td>\n",
       "    </tr>\n",
       "  </tbody>\n",
       "</table>\n",
       "</div>"
      ],
      "text/plain": [
       "   In_Frame  Out_Frame  Proboscis  DiscoveryTime  trialNum          name  \\\n",
       "0     45940      53025    46222.0           2.82         0  L0.1_c-3_m20   \n",
       "1     55058      60805    55341.0           2.83         1  L0.1_c-3_m20   \n",
       "2     67612      69165    67744.0           1.32         2  L0.1_c-3_m20   \n",
       "3     72461      74177    72606.0           1.45         3  L0.1_c-3_m20   \n",
       "4     77368      79850    77499.0           1.31         4  L0.1_c-3_m20   \n",
       "\n",
       "     zscore  outlier_ID condition  (0,10)  (5,15)  (10,20)  (15,25)  (20,30)  \\\n",
       "0  0.251222       False       Low    True   False    False    False    False   \n",
       "1  0.249691       False       Low    True   False    False    False    False   \n",
       "2  0.480929       False       Low    True   False    False    False    False   \n",
       "3  0.461021       False       Low    True   False    False    False    False   \n",
       "4  0.482460       False       Low    True   False    False    False    False   \n",
       "\n",
       "  lightLevel  early   late  \n",
       "0       L0.1   True  False  \n",
       "1       L0.1   True  False  \n",
       "2       L0.1   True  False  \n",
       "3       L0.1   True  False  \n",
       "4       L0.1   True  False  "
      ]
     },
     "execution_count": 16,
     "metadata": {},
     "output_type": "execute_result"
    }
   ],
   "source": [
    "test = notoutliers.join(earlyLate_binned)\n",
    "test.head()"
   ]
  },
  {
   "cell_type": "code",
   "execution_count": 17,
   "metadata": {},
   "outputs": [
    {
     "name": "stdout",
     "output_type": "stream",
     "text": [
      "L0.1 has 75 early visits\n",
      "L0.1 has 57 early visits\n",
      "L50 has 47 early visits\n",
      "L50 has 22 early visits\n"
     ]
    }
   ],
   "source": [
    "for l, df in test.groupby('lightLevel'):\n",
    "    n = len(df[df.early == True])\n",
    "    print('%s has %s early visits' %(l, n))\n",
    "    n = len(df[df.late == True])\n",
    "    print('%s has %s early visits' %(l, n))"
   ]
  },
  {
   "cell_type": "markdown",
   "metadata": {},
   "source": [
    "## get bins for first and last n visits"
   ]
  },
  {
   "cell_type": "code",
   "execution_count": 18,
   "metadata": {},
   "outputs": [],
   "source": [
    "high_mend = test.loc[test.lightLevel == 'L50', 'trialNum'].max()\n",
    "high_mstrt = test.loc[test.lightLevel == 'L50', 'trialNum'].max()-10\n",
    "\n",
    "low_mend = test.loc[test.lightLevel == 'L0.1', 'trialNum'].max()\n",
    "low_mstrt = test.loc[test.lightLevel == 'L0.1', 'trialNum'].max()-10"
   ]
  },
  {
   "cell_type": "code",
   "execution_count": 19,
   "metadata": {},
   "outputs": [
    {
     "data": {
      "text/plain": [
       "(24, 14)"
      ]
     },
     "execution_count": 19,
     "metadata": {},
     "output_type": "execute_result"
    }
   ],
   "source": [
    "high_mend, high_mstrt"
   ]
  },
  {
   "cell_type": "code",
   "execution_count": 20,
   "metadata": {},
   "outputs": [
    {
     "data": {
      "text/plain": [
       "(48, 38)"
      ]
     },
     "execution_count": 20,
     "metadata": {},
     "output_type": "execute_result"
    }
   ],
   "source": [
    "low_mend, low_mstrt"
   ]
  },
  {
   "cell_type": "code",
   "execution_count": null,
   "metadata": {},
   "outputs": [],
   "source": [
    "Bins = [(0, 2)]\n",
    "label = ['early3']\n",
    "\n",
    "early3 = test['trialNum'].apply(lambda x: pd.Series(in_ranges(x,Bins), label))\n",
    "test = test.join(early3)"
   ]
  },
  {
   "cell_type": "code",
   "execution_count": null,
   "metadata": {},
   "outputs": [],
   "source": [
    "Bins = [(high_mstrt, high_mend)]\n",
    "label = ['late10_high']\n",
    "\n",
    "Late10_binned_high = test.loc[test.lightLevel == 'L50', 'trialNum'].apply(lambda x: pd.Series(in_ranges(x,Bins), label))"
   ]
  },
  {
   "cell_type": "code",
   "execution_count": null,
   "metadata": {},
   "outputs": [],
   "source": [
    "Bins = [(low_mstrt, low_mend)]\n",
    "label = ['late10_low']\n",
    "\n",
    "Late10_binned_low = test.loc[test.lightLevel == 'L0.1', 'trialNum'].apply(lambda x: pd.Series(in_ranges(x,Bins), label))"
   ]
  },
  {
   "cell_type": "code",
   "execution_count": null,
   "metadata": {},
   "outputs": [],
   "source": [
    "new_test = test.join(Late10_binned_high, how='outer')\n",
    "final_test = pd.concat([new_test, Late10_binned_low], axis=1, sort=False)"
   ]
  },
  {
   "cell_type": "code",
   "execution_count": null,
   "metadata": {},
   "outputs": [],
   "source": [
    "final_test.head()"
   ]
  },
  {
   "cell_type": "code",
   "execution_count": null,
   "metadata": {},
   "outputs": [],
   "source": [
    "sub = final_test.loc[final_test.lightLevel == 'L0.1', :]\n",
    "len(sub[sub['late10_low'] == True])"
   ]
  },
  {
   "cell_type": "code",
   "execution_count": null,
   "metadata": {},
   "outputs": [],
   "source": [
    "sub = final_test.loc[final_test.lightLevel == 'L50', :]\n",
    "len(sub[sub['late10_high'] == True])"
   ]
  },
  {
   "cell_type": "code",
   "execution_count": null,
   "metadata": {},
   "outputs": [],
   "source": [
    "sub = final_test.loc[final_test.lightLevel == 'L0.1', :]\n",
    "len(sub[sub['early3'] == True])"
   ]
  },
  {
   "cell_type": "code",
   "execution_count": null,
   "metadata": {},
   "outputs": [],
   "source": [
    "sub = final_test.loc[final_test.lightLevel == 'L50', :]\n",
    "len(sub[sub['early3'] == True])"
   ]
  },
  {
   "cell_type": "code",
   "execution_count": null,
   "metadata": {},
   "outputs": [],
   "source": [
    "final_test.to_csv(outpath + 'AllLight_EveryMoth_notOutliers_withBins.csv')"
   ]
  },
  {
   "cell_type": "markdown",
   "metadata": {},
   "source": [
    "## generate and store the pde and data for plotting later"
   ]
  },
  {
   "cell_type": "code",
   "execution_count": null,
   "metadata": {},
   "outputs": [],
   "source": [
    "from scipy.stats import gaussian_kde"
   ]
  },
  {
   "cell_type": "code",
   "execution_count": null,
   "metadata": {},
   "outputs": [],
   "source": [
    "bin_center = np.linspace(0,40,100)\n",
    "delta = np.diff(bin_center)[0]"
   ]
  },
  {
   "cell_type": "code",
   "execution_count": null,
   "metadata": {},
   "outputs": [],
   "source": [
    "notoutliers = pd.read_csv(outpath + 'AllLight_EveryMoth_notOutliers_withBins.csv')"
   ]
  },
  {
   "cell_type": "markdown",
   "metadata": {},
   "source": [
    "### store the sliding window pde"
   ]
  },
  {
   "cell_type": "code",
   "execution_count": null,
   "metadata": {},
   "outputs": [],
   "source": [
    "label = ['(0,10)', '(5,15)', '(10,20)', '(15,25)', '(20,30)']\n",
    "\n",
    "SampleSize = pd.DataFrame(columns = ['L0.1', 'L50'], index = label)\n",
    "pde_df = pd.DataFrame(columns = label, index = bin_center)\n",
    "\n",
    "for l, subdf in notoutliers.groupby('lightLevel'):\n",
    "    for bin_label in label:\n",
    "        df = subdf[subdf[bin_label] == True]\n",
    "        data = df.DiscoveryTime  \n",
    "        SampleSize.loc[bin_label,l] = len(data)\n",
    "        \n",
    "        kde = gaussian_kde(data)\n",
    "        temp = kde.pdf(bin_center)\n",
    "        temp /= delta * np.sum(temp)\n",
    "        pde_df.loc[:,bin_label]=temp\n",
    "    pde_df.to_csv(outpath+ l + '_pde.csv')\n",
    "SampleSize.to_csv(outpath+ 'samplesize.csv')"
   ]
  },
  {
   "cell_type": "markdown",
   "metadata": {},
   "source": [
    "### Store the pde for early and late visits"
   ]
  },
  {
   "cell_type": "code",
   "execution_count": null,
   "metadata": {},
   "outputs": [],
   "source": [
    "label = ['early', 'late']\n",
    "\n",
    "SampleSize = pd.DataFrame(columns = ['L0.1', 'L50'], index = label)\n",
    "pde_df = pd.DataFrame(columns = label, index = bin_center)\n",
    "\n",
    "for l, subdf in notoutliers.groupby('lightLevel'):\n",
    "    for bin_label in label:\n",
    "        df = subdf[subdf[bin_label] == True]\n",
    "        data = df.DiscoveryTime  \n",
    "        SampleSize.loc[bin_label,l] = len(data)\n",
    "        \n",
    "        kde = gaussian_kde(data)\n",
    "        temp = kde.pdf(bin_center)\n",
    "        temp /= delta * np.sum(temp)\n",
    "        pde_df.loc[:,bin_label]=temp\n",
    "    pde_df.to_csv(outpath+ l + '_earlyLate_pde.csv')\n",
    "SampleSize.to_csv(outpath+ 'earlyLateSamplesize.csv')"
   ]
  },
  {
   "cell_type": "markdown",
   "metadata": {},
   "source": [
    "## store the pde for first 3 and last 10 visits"
   ]
  },
  {
   "cell_type": "code",
   "execution_count": null,
   "metadata": {},
   "outputs": [],
   "source": [
    "superlabel = ['early3', 'last10']\n",
    "SampleSize = pd.DataFrame(columns = ['L0.1', 'L50'], index = superlabel)\n",
    "pde_df = pd.DataFrame(columns = superlabel, index = bin_center)\n",
    "\n",
    "for l, subdf in notoutliers.groupby('lightLevel'):\n",
    "    if l == 'L0.1':\n",
    "        label = ['early3', 'late10_low']\n",
    "    else:\n",
    "        label = ['early3', 'late10_high']\n",
    "    \n",
    "    for bin_label, bl in zip(label, superlabel):\n",
    "        df = subdf[subdf[bin_label] == True]\n",
    "        data = df.DiscoveryTime  \n",
    "        SampleSize.loc[bl,l] = len(data)\n",
    "        \n",
    "        kde = gaussian_kde(data)\n",
    "        temp = kde.pdf(bin_center)\n",
    "        temp /= delta * np.sum(temp)\n",
    "        pde_df.loc[:,bl]=temp\n",
    "    pde_df.to_csv(outpath+ l + '_firstlast_pde.csv')\n",
    "SampleSize.to_csv(outpath+ 'firstlastSamplesize.csv')"
   ]
  },
  {
   "cell_type": "code",
   "execution_count": null,
   "metadata": {},
   "outputs": [],
   "source": []
  }
 ],
 "metadata": {
  "kernelspec": {
   "display_name": "Python 3",
   "language": "python",
   "name": "python3"
  },
  "language_info": {
   "codemirror_mode": {
    "name": "ipython",
    "version": 3
   },
   "file_extension": ".py",
   "mimetype": "text/x-python",
   "name": "python",
   "nbconvert_exporter": "python",
   "pygments_lexer": "ipython3",
   "version": "3.6.5"
  }
 },
 "nbformat": 4,
 "nbformat_minor": 2
}
