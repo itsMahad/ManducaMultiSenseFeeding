{
 "cells": [
  {
   "cell_type": "code",
   "execution_count": 3,
   "metadata": {},
   "outputs": [],
   "source": [
    "import time\n",
    "import numpy as np\n",
    "import cv2\n",
    "import pandas as pd\n",
    "import matplotlib.pyplot as plt\n",
    "from scipy import signal\n",
    "import os, errno\n",
    "import glob\n",
    "from scipy import stats"
   ]
  },
  {
   "cell_type": "code",
   "execution_count": 4,
   "metadata": {},
   "outputs": [],
   "source": [
    "def VideoPull(back_frame, current_frame, file_name, path):\n",
    "    video = [(os.path.join(root, file), file[0:-4]) \n",
    "        for root, dirs, files in os.walk(path) \n",
    "        for file in files \n",
    "        if file.endswith(file_name + '.mp4')]\n",
    "    cam = cv2.VideoCapture(video[0][0])\n",
    "    cam.set(1,back_frame)\n",
    "    ret, f = cam.read(1)\n",
    "    background = cv2.cvtColor(f, cv2.COLOR_BGR2GRAY)\n",
    "    cam.set(1,current_frame)\n",
    "    ret, c = cam.read(1)\n",
    "    current = cv2.cvtColor(c, cv2.COLOR_BGR2GRAY)\n",
    "    difference = cv2.subtract(current,background)\n",
    "\n",
    "    return background, current, difference, c"
   ]
  },
  {
   "cell_type": "code",
   "execution_count": 5,
   "metadata": {},
   "outputs": [],
   "source": [
    "video_list = r\"E:\\Downloads\\ManducaMultiSenseData\\Videos\"\n",
    "centroids = r\"E:\\Downloads\\ManducaMultiSenseData\\v3\\Centroids_Relevant_v3\\\\\""
   ]
  },
  {
   "cell_type": "code",
   "execution_count": 7,
   "metadata": {},
   "outputs": [
    {
     "data": {
      "text/plain": [
       "'E:\\\\Downloads\\\\ManducaMultiSenseData\\\\v3\\\\Centroids_Relevant_v3\\\\L0.1_c-3_m45_lastVisit.csv'"
      ]
     },
     "execution_count": 7,
     "metadata": {},
     "output_type": "execute_result"
    }
   ],
   "source": [
    "centroid_list = glob.glob(centroids + \"*c-3*.csv\")\n",
    "centroid_list[39]"
   ]
  },
  {
   "cell_type": "code",
   "execution_count": 8,
   "metadata": {},
   "outputs": [
    {
     "name": "stdout",
     "output_type": "stream",
     "text": [
      "L0.1_c-3_m45\n",
      "L0.1_c-3_m46\n",
      "L0.1_c-3_m46\n",
      "L0.1_c-3_m47\n",
      "L0.1_c-3_m47\n",
      "L0.1_c-3_m48\n",
      "L0.1_c-3_m48\n",
      "L0.1_c-3_m49\n",
      "L0.1_c-3_m49\n",
      "L0.1_c-3_m50\n",
      "L0.1_c-3_m50\n",
      "L0.1_c-3_m54\n",
      "L0.1_c-3_m54\n",
      "L0.1_c-3_m57\n",
      "L0.1_c-3_m57\n",
      "L0.1_c-3_m5\n",
      "L0.1_c-3_m5\n",
      "L0.1_c-3_m8\n",
      "L0.1_c-3_m8\n",
      "L50_c-3_m10\n",
      "L50_c-3_m10\n",
      "L50_c-3_m12\n",
      "L50_c-3_m12\n",
      "L50_c-3_m13\n",
      "L50_c-3_m13\n",
      "L50_c-3_m14\n",
      "L50_c-3_m14\n",
      "L50_c-3_m15\n",
      "L50_c-3_m15\n",
      "L50_c-3_m21\n",
      "L50_c-3_m21\n",
      "L50_c-3_m22\n",
      "L50_c-3_m22\n",
      "L50_c-3_m24\n",
      "L50_c-3_m24\n",
      "L50_c-3_m25\n",
      "L50_c-3_m25\n",
      "L50_c-3_m26\n",
      "L50_c-3_m26\n",
      "L50_c-3_m2\n",
      "L50_c-3_m2\n",
      "L50_c-3_m30\n",
      "L50_c-3_m30\n",
      "L50_c-3_m32\n",
      "L50_c-3_m32\n",
      "L50_c-3_m33\n",
      "L50_c-3_m33\n",
      "L50_c-3_m34\n",
      "L50_c-3_m34\n",
      "L50_c-3_m35\n",
      "L50_c-3_m35\n",
      "L50_c-3_m37\n",
      "L50_c-3_m37\n",
      "L50_c-3_m38\n",
      "L50_c-3_m38\n",
      "L50_c-3_m39\n",
      "L50_c-3_m39\n",
      "L50_c-3_m45\n",
      "L50_c-3_m45\n",
      "L50_c-3_m49\n",
      "L50_c-3_m49\n",
      "L50_c-3_m50\n",
      "L50_c-3_m50\n",
      "L50_c-3_m51\n",
      "L50_c-3_m51\n",
      "L50_c-3_m58\n",
      "L50_c-3_m58\n",
      "L50_c-3_m6\n",
      "L50_c-3_m6\n",
      "L50_c-3_m9\n",
      "L50_c-3_m9\n"
     ]
    }
   ],
   "source": [
    "cutoff = 60\n",
    "for centroid in centroid_list[39:]:\n",
    "    \n",
    "    df = pd.read_csv(centroid)\n",
    "    \n",
    "    name = centroid[cutoff:-4]\n",
    "    \n",
    "    \n",
    "    \n",
    "    \n",
    "        \n",
    "    \n",
    "    start,end = df.FrameNumber.values[0], df.FrameNumber.values[-1]\n",
    "\n",
    "\n",
    "\n",
    "    frameNum = np.arange(start,end)\n",
    "\n",
    "\n",
    "\n",
    "\n",
    "    x,y = df.X_position.values, df.Y_position.values\n",
    "\n",
    "    video_name = video_list +  \"\\PotentialOutlier\\\\\" + name  + '.mp4'\n",
    "\n",
    "    fourcc = cv2.VideoWriter_fourcc(*'mp4v') \n",
    "\n",
    "    video = cv2.VideoWriter(video_name, fourcc, 30, (648,488))\n",
    "\n",
    "\n",
    "\n",
    "\n",
    "    \n",
    "\n",
    "    \n",
    "    if name.endswith(\"firstVisit\"):\n",
    "        name = name[:-11]\n",
    "\n",
    "    else:\n",
    "        name = name[:-10]\n",
    "\n",
    "\n",
    "    print(name)\n",
    "\n",
    "\n",
    "\n",
    "    i = 0\n",
    "\n",
    "\n",
    "    while i < (len(x)-1):\n",
    "\n",
    "\n",
    "        back, cur, diff, f = VideoPull(0,frameNum[i], name, video_list)\n",
    "        c = [0,0,255]\n",
    "        if np.isnan(x[i]):\n",
    "            x[i], y[i] = 0,0\n",
    "            c = [0,255,0]\n",
    "        cv2.circle(f, (int(x[i]*74/2.5),int(y[i]*74/2.5)), 6, c, 3)\n",
    "\n",
    "        i+=1\n",
    "\n",
    "        video.write(f)\n",
    "\n",
    "    cv2.destroyAllWindows()\n",
    "    video.release()"
   ]
  },
  {
   "cell_type": "code",
   "execution_count": 12,
   "metadata": {},
   "outputs": [],
   "source": [
    "remove_list = r'E:\\Downloads\\ManducaMultiSenseData\\Videos\\FirstLastRemove\\\\'\n",
    "name_video_file = glob.glob(remove_list + \"*.mp4\")"
   ]
  },
  {
   "cell_type": "code",
   "execution_count": 18,
   "metadata": {},
   "outputs": [],
   "source": [
    "name_list = []\n",
    "for n in name_video_file:\n",
    "    name = \"\\\\\" + n[58:-4] + \".csv\"\n",
    "    name_list.append(name)"
   ]
  },
  {
   "cell_type": "code",
   "execution_count": 20,
   "metadata": {},
   "outputs": [],
   "source": [
    "new_df = pd.DataFrame({'name': name_list})\n",
    "new_df.to_csv(remove_list + \"\\\\names.csv\")"
   ]
  },
  {
   "cell_type": "code",
   "execution_count": null,
   "metadata": {},
   "outputs": [],
   "source": []
  }
 ],
 "metadata": {
  "kernelspec": {
   "display_name": "Python 3",
   "language": "python",
   "name": "python3"
  },
  "language_info": {
   "codemirror_mode": {
    "name": "ipython",
    "version": 3
   },
   "file_extension": ".py",
   "mimetype": "text/x-python",
   "name": "python",
   "nbconvert_exporter": "python",
   "pygments_lexer": "ipython3",
   "version": "3.7.6"
  }
 },
 "nbformat": 4,
 "nbformat_minor": 2
}
