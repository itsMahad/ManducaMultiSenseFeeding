{
 "cells": [
  {
   "cell_type": "code",
   "execution_count": 1,
   "metadata": {},
   "outputs": [],
   "source": [
    "import numpy as np\n",
    "import matplotlib.pyplot as plt\n",
    "from matplotlib import style\n",
    "style.use(\"ggplot\")\n",
    "from sklearn import svm\n",
    "import pandas as pd\n",
    "import os\n",
    "import scipy as sc"
   ]
  },
  {
   "cell_type": "code",
   "execution_count": 2,
   "metadata": {},
   "outputs": [],
   "source": [
    "# get the annotated data to build the classifier\n",
    "direc = r'C:\\Users\\Daniellab\\Desktop\\Light_level_videos_second_batch\\Data\\Step3\\Annotation'\n",
    "file = pd.read_csv(direc + '\\Mahad_ManualAnnotation_pooledAllDataTogether.csv')"
   ]
  },
  {
   "cell_type": "markdown",
   "metadata": {},
   "source": [
    "Check the distribution of the true and false trials"
   ]
  },
  {
   "cell_type": "code",
   "execution_count": 3,
   "metadata": {},
   "outputs": [
    {
     "name": "stdout",
     "output_type": "stream",
     "text": [
      "p = 0.247467\n",
      "This random distribution is normally distributed\n"
     ]
    }
   ],
   "source": [
    "mu, sigma = 0, 0.1 # mean and standard deviation\n",
    "s = np.random.normal(mu, sigma, 1000)\n",
    "\n",
    "k2_test, p_test = sc.stats.normaltest(s, axis=0, nan_policy='omit')\n",
    "print(\"p = {:g}\".format(p_test))\n",
    "\n",
    "if p_test < 0.05: # null hypothesis - the distribution is normally distributed; less than alpha - reject null hypothesis\n",
    "    print('This random distribution is not normally distributed')\n",
    "else:\n",
    "    print('This random distribution is normally distributed')"
   ]
  },
  {
   "cell_type": "code",
   "execution_count": 4,
   "metadata": {},
   "outputs": [
    {
     "name": "stdout",
     "output_type": "stream",
     "text": [
      "p = 0.045632\n",
      "the true trials are not normally distributed\n"
     ]
    }
   ],
   "source": [
    "trueTrials = file.FramesInView[file.TrialStatus == 1]\n",
    "\n",
    "k2_true, p_true = sc.stats.normaltest(np.log(trueTrials), axis=0, nan_policy='omit')\n",
    "print(\"p = {:g}\".format(p_true))\n",
    "\n",
    "if p_true < 0.05: # null hypothesis - the distribution is normally distributed; less than alpha - reject null hypothesis\n",
    "    print('the true trials are not normally distributed')\n",
    "else:\n",
    "    print('The true trials are normally distributed')"
   ]
  },
  {
   "cell_type": "code",
   "execution_count": 5,
   "metadata": {},
   "outputs": [
    {
     "name": "stdout",
     "output_type": "stream",
     "text": [
      "p = 0.000107942\n",
      "the false trials are not normally distributed\n"
     ]
    }
   ],
   "source": [
    "falseTrials = file.FramesInView[file.TrialStatus == 0]\n",
    "\n",
    "k2_false, p_false = sc.stats.normaltest(np.log(falseTrials), axis=0, nan_policy='omit')\n",
    "print(\"p = {:g}\".format(p_false)) \n",
    "\n",
    "if p_false < 0.05: # null hypothesis - the distribution is normally distributed; less than alpha - reject null hypothesis\n",
    "    print('the false trials are not normally distributed')\n",
    "else:\n",
    "    print('The false trials are normally distributed')"
   ]
  },
  {
   "cell_type": "code",
   "execution_count": 6,
   "metadata": {},
   "outputs": [
    {
     "data": {
      "text/plain": [
       "<matplotlib.collections.PathCollection at 0xb4e5b70>"
      ]
     },
     "execution_count": 6,
     "metadata": {},
     "output_type": "execute_result"
    },
    {
     "data": {
      "image/png": "[encoded data removed]",
      "text/plain": [
       "<Figure size 432x288 with 1 Axes>"
      ]
     },
     "metadata": {
      "needs_background": "light"
     },
     "output_type": "display_data"
    }
   ],
   "source": [
    "x = np.asarray(file.FramesInView)\n",
    "y = np.zeros(len(x))\n",
    "data = np.transpose(np.array([x,y]))\n",
    "Manual_Label = np.asarray(file.TrialStatus)\n",
    "\n",
    "plt.scatter(data[:,0],data[:,1], c = Manual_Label) #see what the data looks like"
   ]
  },
  {
   "cell_type": "code",
   "execution_count": 7,
   "metadata": {},
   "outputs": [
    {
     "data": {
      "text/plain": [
       "SVC(C=1.0, cache_size=200, class_weight=None, coef0=0.0,\n",
       "  decision_function_shape='ovr', degree=3, gamma='auto_deprecated',\n",
       "  kernel='linear', max_iter=-1, probability=False, random_state=None,\n",
       "  shrinking=True, tol=0.001, verbose=False)"
      ]
     },
     "execution_count": 7,
     "metadata": {},
     "output_type": "execute_result"
    }
   ],
   "source": [
    "# build the linear classifier\n",
    "clf = svm.SVC(kernel = 'linear', C = 1.0)\n",
    "clf.fit(data,Manual_Label)"
   ]
  },
  {
   "cell_type": "code",
   "execution_count": 8,
   "metadata": {},
   "outputs": [
    {
     "data": {
      "text/plain": [
       "(573,)"
      ]
     },
     "execution_count": 8,
     "metadata": {},
     "output_type": "execute_result"
    }
   ],
   "source": [
    "w = clf.coef_[0]\n",
    "y0 = clf.intercept_\n",
    "\n",
    "new_line = w[0]*data[:,0] - y0\n",
    "new_line.shape"
   ]
  },
  {
   "cell_type": "code",
   "execution_count": 9,
   "metadata": {},
   "outputs": [
    {
     "data": {
      "image/png": "[encoded data removed]",
      "text/plain": [
       "<Figure size 432x288 with 1 Axes>"
      ]
     },
     "metadata": {
      "needs_background": "light"
     },
     "output_type": "display_data"
    }
   ],
   "source": [
    "# see what the classifier did to the labels - find a way to draw a line along the \"point\" and draw \"margin\"\n",
    "\n",
    "plt.hist(trueTrials, bins =10**np.linspace(0, 4, 40), color = 'lightyellow', label = 'true trials', zorder=0)\n",
    "plt.hist(falseTrials, bins =10**np.linspace(0, 4, 40), color = 'mediumpurple', alpha=0.35, label = 'false trials', zorder=5)\n",
    "\n",
    "annotation = []\n",
    "for x,_ in data:\n",
    "    YY = clf.predict([[x,0]])[0]\n",
    "    annotation.append(YY)\n",
    "\n",
    "plt.scatter(data[:,0],data[:,1]+10, c = annotation, \n",
    "            alpha=0.3, edgecolors='none', zorder=10, label = 'post-classification')\n",
    "# plt.plot(new_line)\n",
    "plt.xscale(\"log\")\n",
    "plt.yscale('linear')\n",
    "plt.xlabel('Trial length (in frame Number)')\n",
    "plt.title('Using a Classifier to indentify true trials')\n",
    "plt.legend()\n",
    "# plt.savefig(r'C:\\Users\\Daniellab\\Desktop\\Light_level_videos_c-10\\Data\\Step3\\Annotation\\Figuers_3.svg')\n",
    "plt.tight_layout()"
   ]
  },
  {
   "cell_type": "code",
   "execution_count": 10,
   "metadata": {},
   "outputs": [
    {
     "name": "stdout",
     "output_type": "stream",
     "text": [
      "L0.1_c-3_m10_MothInOut.csv\n",
      "L0.1_c-3_m12_MothInOut.csv\n",
      "L0.1_c-3_m20_MothInOut.csv\n",
      "L0.1_c-3_m21_MothInOut.csv\n",
      "L0.1_c-3_m22_MothInOut.csv\n",
      "L0.1_c-3_m23_MothInOut.csv\n",
      "L0.1_c-3_m24_MothInOut.csv\n",
      "L0.1_c-3_m25_MothInOut.csv\n",
      "L0.1_c-3_m27_MothInOut.csv\n",
      "L0.1_c-3_m2_MothInOut.csv\n",
      "L0.1_c-3_m32_MothInOut.csv\n",
      "L0.1_c-3_m34_MothInOut.csv\n",
      "L0.1_c-3_m37_MothInOut.csv\n",
      "L0.1_c-3_m38_MothInOut.csv\n",
      "L0.1_c-3_m39_MothInOut.csv\n",
      "L0.1_c-3_m40_MothInOut.csv\n",
      "L0.1_c-3_m41_MothInOut.csv\n",
      "L0.1_c-3_m43_MothInOut.csv\n",
      "L0.1_c-3_m44_MothInOut.csv\n",
      "L0.1_c-3_m45_MothInOut.csv\n",
      "L0.1_c-3_m46_MothInOut.csv\n",
      "L0.1_c-3_m47_MothInOut.csv\n",
      "L0.1_c-3_m48_MothInOut.csv\n",
      "L0.1_c-3_m49_MothInOut.csv\n",
      "L0.1_c-3_m50_MothInOut.csv\n",
      "L0.1_c-3_m54_MothInOut.csv\n",
      "L0.1_c-3_m57_MothInOut.csv\n",
      "L0.1_c-3_m5_MothInOut.csv\n",
      "L0.1_c-3_m8_MothInOut.csv\n",
      "L50_c-3_m10_MothInOut.csv\n",
      "L50_c-3_m12_MothInOut.csv\n",
      "L50_c-3_m13_MothInOut.csv\n",
      "L50_c-3_m14_MothInOut.csv\n",
      "L50_c-3_m15_MothInOut.csv\n",
      "L50_c-3_m21_MothInOut.csv\n",
      "L50_c-3_m22_MothInOut.csv\n",
      "L50_c-3_m24_MothInOut.csv\n",
      "L50_c-3_m25_MothInOut.csv\n",
      "L50_c-3_m26_MothInOut.csv\n",
      "L50_c-3_m2_MothInOut.csv\n",
      "L50_c-3_m30_MothInOut.csv\n",
      "L50_c-3_m32_MothInOut.csv\n",
      "L50_c-3_m33_MothInOut.csv\n",
      "L50_c-3_m34_MothInOut.csv\n",
      "L50_c-3_m35_MothInOut.csv\n",
      "L50_c-3_m37_MothInOut.csv\n",
      "L50_c-3_m38_MothInOut.csv\n",
      "L50_c-3_m39_MothInOut.csv\n",
      "L50_c-3_m45_MothInOut.csv\n",
      "L50_c-3_m49_MothInOut.csv\n",
      "L50_c-3_m50_MothInOut.csv\n",
      "L50_c-3_m51_MothInOut.csv\n",
      "L50_c-3_m58_MothInOut.csv\n",
      "L50_c-3_m6_MothInOut.csv\n",
      "L50_c-3_m9_MothInOut.csv\n"
     ]
    }
   ],
   "source": [
    "# run the predictor for all dataset and annotate them\n",
    "direc = r'C:\\Users\\Daniellab\\Desktop\\Light_level_videos_second_batch\\Data\\Step2_Tanvi_Method'\n",
    "new_path = r'C:\\Users\\Daniellab\\Desktop\\Light_level_videos_second_batch\\Data\\Step3'\n",
    "\n",
    "file = [file for file in os.listdir(direc) if file.endswith('.csv')]\n",
    "# test = file[0]\n",
    "\n",
    "for item in file:\n",
    "    print(item)\n",
    "    df = pd.read_csv(direc + '/' + item)\n",
    "    label = []\n",
    "    # run the classifer on this\n",
    "    for xx in df.Frames_In_View:\n",
    "        YY = clf.predict([[xx,0]])[0]\n",
    "        label.append(YY)\n",
    "\n",
    "    df1 = pd.DataFrame({'label': label})\n",
    "    new_df = pd.concat([df, df1], axis = 1)\n",
    "#     new_df.to_csv(new_path + '/' + item[:-4] + '_labeled.csv')"
   ]
  },
  {
   "cell_type": "code",
   "execution_count": null,
   "metadata": {},
   "outputs": [],
   "source": []
  }
 ],
 "metadata": {
  "kernelspec": {
   "display_name": "Python 3",
   "language": "python",
   "name": "python3"
  },
  "language_info": {
   "codemirror_mode": {
    "name": "ipython",
    "version": 3
   },
   "file_extension": ".py",
   "mimetype": "text/x-python",
   "name": "python",
   "nbconvert_exporter": "python",
   "pygments_lexer": "ipython3",
   "version": "3.7.1"
  }
 },
 "nbformat": 4,
 "nbformat_minor": 2
}
