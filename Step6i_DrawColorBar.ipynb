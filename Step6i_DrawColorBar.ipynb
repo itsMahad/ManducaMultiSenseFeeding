{
 "cells": [
  {
   "cell_type": "code",
   "execution_count": 1,
   "metadata": {},
   "outputs": [],
   "source": [
    "import matplotlib.pyplot as plt"
   ]
  },
  {
   "cell_type": "code",
   "execution_count": 2,
   "metadata": {},
   "outputs": [],
   "source": [
    "def createMyColorMap(N, hue):\n",
    "    top_color = hue['top_color']\n",
    "    bottom_color = hue['bottom_color']\n",
    "    vals = np.ones((N, 4))\n",
    "    vals[:, 0] = np.linspace(bottom_color[0]/256, top_color[0]/256, N)\n",
    "    vals[:, 1] = np.linspace(bottom_color[1]/256, top_color[1]/256, N)\n",
    "    vals[:, 2] = np.linspace(bottom_color[2]/256, top_color[2]/256, N)\n",
    "    newcmp = ListedColormap(vals)\n",
    "    return(newcmp)"
   ]
  },
  {
   "cell_type": "code",
   "execution_count": null,
   "metadata": {},
   "outputs": [],
   "source": [
    "sun_shades = {'top_color': [158, 202, 225], \n",
    "              'bottom_color': [8,81, 156]}"
   ]
  },
  {
   "cell_type": "code",
   "execution_count": null,
   "metadata": {},
   "outputs": [],
   "source": [
    "# create and save colorbars\n",
    "\n",
    "import matplotlib as mpl\n",
    "\n",
    "\n",
    "lagPoints = np.arange(10*-4, 10*4, 10)\n",
    "cmap_proboscis = createMyColorMap(N=lagPoints, hue=multiPink)\n",
    "cmap_moth = createMyColorMap(N=lagPoints, hue=blue)\n",
    "\n",
    "fig, ax = plt.subplots(figsize=(6, 1))\n",
    "fig.subplots_adjust(bottom=0.5)\n",
    "\n",
    "cmap = cmap_moth\n",
    "# norm = mpl.colors.Normalize(vmin=(framestrt - lagPoints)/100, vmax= framestrt/100)\n",
    "\n",
    "cb1 = mpl.colorbar.ColorbarBase(ax, cmap=cmap,\n",
    "#                                 norm=norm,\n",
    "                                orientation='horizontal')\n",
    "cb1.set_label('Time')\n",
    "# fig.show()\n",
    "plt.savefig('../dataFolders/PaperPipelineOutput/Figures/v2/Paper/colorbar_moth-v1.pdf')\n",
    "\n",
    "cmap = cmap_proboscis\n",
    "cb2 = mpl.colorbar.ColorbarBase(ax, cmap=cmap,\n",
    "#                                norm=norm,\n",
    "                               orientation='horizontal')\n",
    "cb2.set_label('Time')\n",
    "plt.savefig('../dataFolders/PaperPipelineOutput/Figures/v2/Paper/colorbar_prooscis-v1.pdf')"
   ]
  }
 ],
 "metadata": {
  "kernelspec": {
   "display_name": "Python 3",
   "language": "python",
   "name": "python3"
  },
  "language_info": {
   "codemirror_mode": {
    "name": "ipython",
    "version": 3
   },
   "file_extension": ".py",
   "mimetype": "text/x-python",
   "name": "python",
   "nbconvert_exporter": "python",
   "pygments_lexer": "ipython3",
   "version": "3.6.5"
  }
 },
 "nbformat": 4,
 "nbformat_minor": 2
}
