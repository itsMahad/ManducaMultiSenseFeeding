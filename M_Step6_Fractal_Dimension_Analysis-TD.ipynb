{
 "cells": [
  {
   "cell_type": "markdown",
   "metadata": {},
   "source": [
    "# This code calculates the \"complexity\" of a path based on its box dimension\n",
    "## written by Tanvi Deora, based on original version by Mahad Ahmed\n",
    "## 2020, Sept 15"
   ]
  },
  {
   "cell_type": "code",
   "execution_count": 1,
   "metadata": {},
   "outputs": [],
   "source": [
    "import pandas as pd\n",
    "import numpy as np\n",
    "import os\n",
    "import glob\n",
    "import matplotlib.pyplot as plt\n",
    "import cv2\n",
    "import math"
   ]
  },
  {
   "cell_type": "markdown",
   "metadata": {},
   "source": [
    "# load in the data with smoothened pixels"
   ]
  },
  {
   "cell_type": "code",
   "execution_count": 2,
   "metadata": {},
   "outputs": [],
   "source": [
    "data = pd.read_csv('./dataFolders/Output/KinematicAnalysis_v5/SmoothendCentroidInPixelsSpace.csv')"
   ]
  },
  {
   "cell_type": "code",
   "execution_count": 3,
   "metadata": {},
   "outputs": [
    {
     "data": {
      "text/html": [
       "<div>\n",
       "<style scoped>\n",
       "    .dataframe tbody tr th:only-of-type {\n",
       "        vertical-align: middle;\n",
       "    }\n",
       "\n",
       "    .dataframe tbody tr th {\n",
       "        vertical-align: top;\n",
       "    }\n",
       "\n",
       "    .dataframe thead th {\n",
       "        text-align: right;\n",
       "    }\n",
       "</style>\n",
       "<table border=\"1\" class=\"dataframe\">\n",
       "  <thead>\n",
       "    <tr style=\"text-align: right;\">\n",
       "      <th></th>\n",
       "      <th>Unnamed: 0</th>\n",
       "      <th>name</th>\n",
       "      <th>visit</th>\n",
       "      <th>flower_r</th>\n",
       "      <th>flower_x</th>\n",
       "      <th>flower_y</th>\n",
       "      <th>x</th>\n",
       "      <th>y</th>\n",
       "      <th>x_pixel</th>\n",
       "      <th>y_pixel</th>\n",
       "      <th>x_smoothened</th>\n",
       "      <th>y_smoothened</th>\n",
       "    </tr>\n",
       "  </thead>\n",
       "  <tbody>\n",
       "    <tr>\n",
       "      <td>0</td>\n",
       "      <td>0</td>\n",
       "      <td>L0.1_c-3_m10</td>\n",
       "      <td>last</td>\n",
       "      <td>74</td>\n",
       "      <td>310</td>\n",
       "      <td>233</td>\n",
       "      <td>NaN</td>\n",
       "      <td>NaN</td>\n",
       "      <td>NaN</td>\n",
       "      <td>NaN</td>\n",
       "      <td>NaN</td>\n",
       "      <td>NaN</td>\n",
       "    </tr>\n",
       "    <tr>\n",
       "      <td>1</td>\n",
       "      <td>1</td>\n",
       "      <td>L0.1_c-3_m10</td>\n",
       "      <td>last</td>\n",
       "      <td>74</td>\n",
       "      <td>310</td>\n",
       "      <td>233</td>\n",
       "      <td>NaN</td>\n",
       "      <td>NaN</td>\n",
       "      <td>NaN</td>\n",
       "      <td>NaN</td>\n",
       "      <td>NaN</td>\n",
       "      <td>NaN</td>\n",
       "    </tr>\n",
       "    <tr>\n",
       "      <td>2</td>\n",
       "      <td>2</td>\n",
       "      <td>L0.1_c-3_m10</td>\n",
       "      <td>last</td>\n",
       "      <td>74</td>\n",
       "      <td>310</td>\n",
       "      <td>233</td>\n",
       "      <td>NaN</td>\n",
       "      <td>NaN</td>\n",
       "      <td>NaN</td>\n",
       "      <td>NaN</td>\n",
       "      <td>NaN</td>\n",
       "      <td>NaN</td>\n",
       "    </tr>\n",
       "    <tr>\n",
       "      <td>3</td>\n",
       "      <td>3</td>\n",
       "      <td>L0.1_c-3_m10</td>\n",
       "      <td>last</td>\n",
       "      <td>74</td>\n",
       "      <td>310</td>\n",
       "      <td>233</td>\n",
       "      <td>0.810811</td>\n",
       "      <td>2.297297</td>\n",
       "      <td>24.0</td>\n",
       "      <td>68.0</td>\n",
       "      <td>NaN</td>\n",
       "      <td>NaN</td>\n",
       "    </tr>\n",
       "    <tr>\n",
       "      <td>4</td>\n",
       "      <td>4</td>\n",
       "      <td>L0.1_c-3_m10</td>\n",
       "      <td>last</td>\n",
       "      <td>74</td>\n",
       "      <td>310</td>\n",
       "      <td>233</td>\n",
       "      <td>1.013514</td>\n",
       "      <td>2.770270</td>\n",
       "      <td>30.0</td>\n",
       "      <td>82.0</td>\n",
       "      <td>NaN</td>\n",
       "      <td>NaN</td>\n",
       "    </tr>\n",
       "  </tbody>\n",
       "</table>\n",
       "</div>"
      ],
      "text/plain": [
       "   Unnamed: 0          name visit  flower_r  flower_x  flower_y         x  \\\n",
       "0           0  L0.1_c-3_m10  last        74       310       233       NaN   \n",
       "1           1  L0.1_c-3_m10  last        74       310       233       NaN   \n",
       "2           2  L0.1_c-3_m10  last        74       310       233       NaN   \n",
       "3           3  L0.1_c-3_m10  last        74       310       233  0.810811   \n",
       "4           4  L0.1_c-3_m10  last        74       310       233  1.013514   \n",
       "\n",
       "          y  x_pixel  y_pixel  x_smoothened  y_smoothened  \n",
       "0       NaN      NaN      NaN           NaN           NaN  \n",
       "1       NaN      NaN      NaN           NaN           NaN  \n",
       "2       NaN      NaN      NaN           NaN           NaN  \n",
       "3  2.297297     24.0     68.0           NaN           NaN  \n",
       "4  2.770270     30.0     82.0           NaN           NaN  "
      ]
     },
     "execution_count": 3,
     "metadata": {},
     "output_type": "execute_result"
    }
   ],
   "source": [
    "data.head()"
   ]
  },
  {
   "cell_type": "code",
   "execution_count": 11,
   "metadata": {},
   "outputs": [
    {
     "data": {
      "text/html": [
       "<div>\n",
       "<style scoped>\n",
       "    .dataframe tbody tr th:only-of-type {\n",
       "        vertical-align: middle;\n",
       "    }\n",
       "\n",
       "    .dataframe tbody tr th {\n",
       "        vertical-align: top;\n",
       "    }\n",
       "\n",
       "    .dataframe thead th {\n",
       "        text-align: right;\n",
       "    }\n",
       "</style>\n",
       "<table border=\"1\" class=\"dataframe\">\n",
       "  <thead>\n",
       "    <tr style=\"text-align: right;\">\n",
       "      <th></th>\n",
       "      <th>Unnamed: 0</th>\n",
       "      <th>name</th>\n",
       "    </tr>\n",
       "  </thead>\n",
       "  <tbody>\n",
       "    <tr>\n",
       "      <td>0</td>\n",
       "      <td>0</td>\n",
       "      <td>L0.1_c-3_m10_first</td>\n",
       "    </tr>\n",
       "    <tr>\n",
       "      <td>1</td>\n",
       "      <td>1</td>\n",
       "      <td>L0.1_c-3_m10_last</td>\n",
       "    </tr>\n",
       "    <tr>\n",
       "      <td>2</td>\n",
       "      <td>2</td>\n",
       "      <td>L0.1_c-3_m12_first</td>\n",
       "    </tr>\n",
       "    <tr>\n",
       "      <td>3</td>\n",
       "      <td>3</td>\n",
       "      <td>L0.1_c-3_m12_last</td>\n",
       "    </tr>\n",
       "    <tr>\n",
       "      <td>4</td>\n",
       "      <td>4</td>\n",
       "      <td>L0.1_c-3_m23_last</td>\n",
       "    </tr>\n",
       "  </tbody>\n",
       "</table>\n",
       "</div>"
      ],
      "text/plain": [
       "   Unnamed: 0                name\n",
       "0           0  L0.1_c-3_m10_first\n",
       "1           1   L0.1_c-3_m10_last\n",
       "2           2  L0.1_c-3_m12_first\n",
       "3           3   L0.1_c-3_m12_last\n",
       "4           4   L0.1_c-3_m23_last"
      ]
     },
     "execution_count": 11,
     "metadata": {},
     "output_type": "execute_result"
    }
   ],
   "source": [
    "# remove the problematic moths - \n",
    "\n",
    "prob_cases = pd.read_csv(r\"G:/My Drive/Mahad/Light Level Experiments/Data Output from Analysis/\" \\\n",
    "                         r\"VideosWithMarkers/FirstLastTroubleVideos_v4/names.csv\")\n",
    "\n",
    "prob_cases['name'] = prob_cases['name'].str[1:-9]\n",
    "prob_cases.head()"
   ]
  },
  {
   "cell_type": "code",
   "execution_count": 12,
   "metadata": {},
   "outputs": [],
   "source": [
    "data['fullname'] = data['name'] + '_' + data['visit']"
   ]
  },
  {
   "cell_type": "code",
   "execution_count": 15,
   "metadata": {},
   "outputs": [],
   "source": [
    "subset = data[~data['fullname'].isin(prob_cases.name)]"
   ]
  },
  {
   "cell_type": "code",
   "execution_count": 19,
   "metadata": {},
   "outputs": [
    {
     "data": {
      "text/plain": [
       "75"
      ]
     },
     "execution_count": 19,
     "metadata": {},
     "output_type": "execute_result"
    }
   ],
   "source": [
    "len(subset.fullname.unique())"
   ]
  },
  {
   "cell_type": "markdown",
   "metadata": {},
   "source": [
    "## determine the size of track that will be printed"
   ]
  },
  {
   "cell_type": "code",
   "execution_count": 36,
   "metadata": {},
   "outputs": [
    {
     "name": "stdout",
     "output_type": "stream",
     "text": [
      "Shortest length is 24 and median length is 722\n"
     ]
    }
   ],
   "source": [
    "length = []\n",
    "n = []\n",
    "v = []\n",
    "for name, df in subset.groupby('name'):\n",
    "    for visit, sub_df in df.groupby('visit'):\n",
    "        l = len(sub_df)\n",
    "        length.extend([l])\n",
    "        n.extend([name])\n",
    "        v.extend([visit])\n",
    "\n",
    "length_df = pd.DataFrame({'name': n,\n",
    "             'visit': v,\n",
    "             'length': length})\n",
    "    \n",
    "ShortestVideo = min(length)\n",
    "medianLength = np.nanmedian(length)\n",
    "\n",
    "# divide the sortest chunk into 4 bits and that number will be the # of frames each track will be divided into \n",
    "# for box dimesnuon analysis\n",
    "\n",
    "lengthOfEachChunk = ShortestVideo/4\n",
    "print('Shortest length is %d and median length is %d' %(ShortestVideo, medianLength))"
   ]
  },
  {
   "cell_type": "code",
   "execution_count": 37,
   "metadata": {},
   "outputs": [
    {
     "data": {
      "text/html": [
       "<div>\n",
       "<style scoped>\n",
       "    .dataframe tbody tr th:only-of-type {\n",
       "        vertical-align: middle;\n",
       "    }\n",
       "\n",
       "    .dataframe tbody tr th {\n",
       "        vertical-align: top;\n",
       "    }\n",
       "\n",
       "    .dataframe thead th {\n",
       "        text-align: right;\n",
       "    }\n",
       "</style>\n",
       "<table border=\"1\" class=\"dataframe\">\n",
       "  <thead>\n",
       "    <tr style=\"text-align: right;\">\n",
       "      <th></th>\n",
       "      <th>name</th>\n",
       "      <th>visit</th>\n",
       "      <th>length</th>\n",
       "    </tr>\n",
       "  </thead>\n",
       "  <tbody>\n",
       "    <tr>\n",
       "      <td>0</td>\n",
       "      <td>L0.1_c-3_m2</td>\n",
       "      <td>first</td>\n",
       "      <td>1224</td>\n",
       "    </tr>\n",
       "    <tr>\n",
       "      <td>1</td>\n",
       "      <td>L0.1_c-3_m2</td>\n",
       "      <td>last</td>\n",
       "      <td>199</td>\n",
       "    </tr>\n",
       "    <tr>\n",
       "      <td>2</td>\n",
       "      <td>L0.1_c-3_m20</td>\n",
       "      <td>first</td>\n",
       "      <td>282</td>\n",
       "    </tr>\n",
       "    <tr>\n",
       "      <td>3</td>\n",
       "      <td>L0.1_c-3_m20</td>\n",
       "      <td>last</td>\n",
       "      <td>71</td>\n",
       "    </tr>\n",
       "    <tr>\n",
       "      <td>4</td>\n",
       "      <td>L0.1_c-3_m21</td>\n",
       "      <td>first</td>\n",
       "      <td>180</td>\n",
       "    </tr>\n",
       "  </tbody>\n",
       "</table>\n",
       "</div>"
      ],
      "text/plain": [
       "           name  visit  length\n",
       "0   L0.1_c-3_m2  first    1224\n",
       "1   L0.1_c-3_m2   last     199\n",
       "2  L0.1_c-3_m20  first     282\n",
       "3  L0.1_c-3_m20   last      71\n",
       "4  L0.1_c-3_m21  first     180"
      ]
     },
     "execution_count": 37,
     "metadata": {},
     "output_type": "execute_result"
    }
   ],
   "source": [
    "length_df.head()"
   ]
  },
  {
   "cell_type": "code",
   "execution_count": 43,
   "metadata": {},
   "outputs": [
    {
     "data": {
      "text/plain": [
       "<matplotlib.axes._subplots.AxesSubplot at 0x24458f46c18>"
      ]
     },
     "execution_count": 43,
     "metadata": {},
     "output_type": "execute_result"
    },
    {
     "data": {
      "image/png": "[encoded data removed]",
      "text/plain": [
       "<Figure size 432x288 with 1 Axes>"
      ]
     },
     "metadata": {
      "needs_background": "light"
     },
     "output_type": "display_data"
    }
   ],
   "source": [
    "import seaborn as sns\n",
    "sns.boxplot(x = 'visit' , y = 'length', data = length_df\n",
    "           , saturation = 0.2)\n",
    "sns.swarmplot(x = 'visit' , y = 'length', data = length_df)\n",
    "# x = np.random.normal(1, 0.04, size=len(y))\n",
    "# plt.boxplot(y)\n",
    "# plt.plot(x, y, 'r.', alpha=0.2)"
   ]
  },
  {
   "cell_type": "code",
   "execution_count": 52,
   "metadata": {},
   "outputs": [
    {
     "name": "stdout",
     "output_type": "stream",
     "text": [
      "71\n",
      "24\n",
      "['L0.1_c-3_m20_last', 'L0.1_c-3_m46_last']\n"
     ]
    }
   ],
   "source": [
    "n= []\n",
    "for name, df in subset.groupby('fullname'):\n",
    "    l = len(df)\n",
    "    if l < 120:\n",
    "        print(l)\n",
    "        n.append(name)\n",
    "print(n)        "
   ]
  },
  {
   "cell_type": "markdown",
   "metadata": {},
   "source": [
    "# set the length of chuck and do the rest of analysis"
   ]
  },
  {
   "cell_type": "code",
   "execution_count": 108,
   "metadata": {},
   "outputs": [],
   "source": [
    "# alternatively each chunck can be 40 frames == @100fps and @25Hz WBF is about 10 wingbeats\n",
    "lengthOfEachChunk = 40\n",
    "# lengthOfEachChunk = ShortestVideo\n",
    "# lengthOfEachChunk = 40*3"
   ]
  },
  {
   "cell_type": "markdown",
   "metadata": {},
   "source": [
    "# print out the tracks"
   ]
  },
  {
   "cell_type": "code",
   "execution_count": 109,
   "metadata": {},
   "outputs": [],
   "source": [
    "# plot the tracks\n",
    "\n",
    "def PlotTracks(x, y, ax):\n",
    "    ax.plot(x,y, c= \"k\")\n",
    "    ax.set_xlim(0, 648)\n",
    "    ax.set_ylim(0, 488)\n",
    "#     ax.set_ylabel(\"Y Position\")\n",
    "#     ax.set_xlabel(\"X Position\")\n",
    "    ax.grid(False)\n",
    "    ax.axis('off')\n",
    "#     pl.savefig(fig_path + \"\\\\test3.png\")"
   ]
  },
  {
   "cell_type": "code",
   "execution_count": 110,
   "metadata": {},
   "outputs": [],
   "source": [
    "# make file folder to keep all track image\n",
    "mystr = r\"G:/My Drive/Mahad/Light Level Experiments/Data Output from Analysis/\" \\\n",
    "                      r\"motionAnalysis_Final/FractalDimension/Tracks/\" \n",
    "filefolder = mystr + str(lengthOfEachChunk) + 'Frames/'\n",
    "try:  \n",
    "    os.mkdir(filefolder)  \n",
    "except OSError as error:  \n",
    "    print(error) "
   ]
  },
  {
   "cell_type": "code",
   "execution_count": 111,
   "metadata": {},
   "outputs": [
    {
     "data": {
      "image/png": "[encoded data removed]",
      "text/plain": [
       "<Figure size 1658.88x1249.28 with 1 Axes>"
      ]
     },
     "metadata": {
      "needs_background": "light"
     },
     "output_type": "display_data"
    }
   ],
   "source": [
    "f, ax = plt.subplots(figsize = (648*1/100,488*1/100),  dpi= 256)\n",
    "  \n",
    "for name, df in data.groupby('fullname'):\n",
    "    x = df.x_smoothened\n",
    "    y = df.y_smoothened\n",
    "    \n",
    "    PlotTracks(x,y, ax)\n",
    "    f.savefig(mystr + name + '.png')\n",
    "    ax.cla()\n",
    "    \n",
    "    chunks = len(x)/lengthOfEachChunk\n",
    "    \n",
    "    for ii in np.arange(math.ceil(chunks)):\n",
    "        ii = int(ii)\n",
    "        if lengthOfEachChunk*ii + lengthOfEachChunk > len(x):\n",
    "            x_section = x[-lengthOfEachChunk:]\n",
    "            y_Section = y[-lengthOfEachChunk:]\n",
    "#             continue\n",
    "        else:\n",
    "            x_section = x[lengthOfEachChunk*ii : lengthOfEachChunk*ii + lengthOfEachChunk]\n",
    "            y_section = y[lengthOfEachChunk*ii : lengthOfEachChunk*ii + lengthOfEachChunk]\n",
    "            \n",
    "            PlotTracks(x_section, y_section, ax)\n",
    "            figname = name+'_chunk'+str(ii)\n",
    "            f.savefig(filefolder  + figname + '.png')\n",
    "            ax.cla()"
   ]
  },
  {
   "cell_type": "markdown",
   "metadata": {},
   "source": [
    "# read in the track chunks and do the box dimension analysis"
   ]
  },
  {
   "cell_type": "code",
   "execution_count": 112,
   "metadata": {},
   "outputs": [],
   "source": [
    "# lengthOfEachChunk = ShortestVideo\n",
    "# lengthOfEachChunk = 40*3\n",
    "lengthOfEachChunk = 40\n",
    "filefolder = mystr + str(lengthOfEachChunk) + 'Frames/'"
   ]
  },
  {
   "cell_type": "code",
   "execution_count": 113,
   "metadata": {},
   "outputs": [],
   "source": [
    "from numpy.polynomial.polynomial import polyfit\n",
    "\n",
    "def boxDimension(x,y):\n",
    "    highest_power = 7 \n",
    "    scale = np.logspace(2, highest_power, num = highest_power-1, base = 2)\n",
    "    number_filled = []\n",
    "    dimension_list = []\n",
    "\n",
    "    for b in scale:\n",
    "        bins = b\n",
    "        heatmap, xedges, yedges = np.histogram2d(-y, x, bins=int(bins))\n",
    "        box_num = heatmap[heatmap > 0]\n",
    "        number_filled.append(float(len(box_num)))\n",
    "\n",
    "    number_filled = np.asarray(number_filled)\n",
    "    b, m = polyfit((np.log(scale)/np.log(2)), (np.log(number_filled)/np.log(2)), 1) \n",
    "    dimension_list.append(m)\n",
    "    dimension = np.mean(dimension_list)\n",
    "    \n",
    "    return(dimension)"
   ]
  },
  {
   "cell_type": "code",
   "execution_count": 114,
   "metadata": {},
   "outputs": [],
   "source": [
    "def convertImage2BoxDim(im):\n",
    "    im = (im < 255) * 100\n",
    "    image = cv2.cvtColor(im.astype(\"uint8\"), cv2.COLOR_BGR2GRAY)\n",
    "    x = np.where(image > 0)[1]\n",
    "    y = np.where(image > 0)[0]\n",
    "\n",
    "    d = boxDimension(x,y)\n",
    "    return(d)"
   ]
  },
  {
   "cell_type": "code",
   "execution_count": 115,
   "metadata": {},
   "outputs": [
    {
     "name": "stdout",
     "output_type": "stream",
     "text": [
      "2357 files were read\n"
     ]
    }
   ],
   "source": [
    "files = glob.glob(filefolder + '*chunk*.png')\n",
    "if not files:\n",
    "    print('No files were read')\n",
    "else:\n",
    "    print('%d files were read' %len(files))"
   ]
  },
  {
   "cell_type": "code",
   "execution_count": 127,
   "metadata": {},
   "outputs": [
    {
     "name": "stdout",
     "output_type": "stream",
     "text": [
      "110 files were read\n"
     ]
    }
   ],
   "source": [
    "# do this for the entire tracks\n",
    "\n",
    "filefolder = mystr\n",
    "\n",
    "files = glob.glob(filefolder + '*L*.png')\n",
    "if not files:\n",
    "    print('No files were read')\n",
    "else:\n",
    "    print('%d files were read' %len(files))"
   ]
  },
  {
   "cell_type": "code",
   "execution_count": 135,
   "metadata": {},
   "outputs": [
    {
     "name": "stderr",
     "output_type": "stream",
     "text": [
      "C:\\Users\\Tanvi\\AppData\\Local\\Continuum\\anaconda3\\lib\\site-packages\\ipykernel_launcher.py:16: RuntimeWarning: divide by zero encountered in log\n",
      "  app.launch_new_instance()\n"
     ]
    }
   ],
   "source": [
    "name = []\n",
    "chunk = []\n",
    "dimension = []\n",
    "\n",
    "for i,f in enumerate(files): \n",
    "#     a,b,c,d, e = os.path.basename(f).split('_')\n",
    "    a,b,c,d = os.path.basename(f).split('_')\n",
    "    n = a + '_' + b + '_' + c + '_' + d[:-4]\n",
    "#     part = e[:-4]\n",
    "    part = 'whole'\n",
    "    \n",
    "    im = cv2.imread(f)\n",
    "    \n",
    "    dim = convertImage2BoxDim(im)\n",
    "    \n",
    "    name.append(n)\n",
    "    chunk.append(part)\n",
    "    dimension.append(dim)"
   ]
  },
  {
   "cell_type": "code",
   "execution_count": 136,
   "metadata": {},
   "outputs": [
    {
     "data": {
      "text/html": [
       "<div>\n",
       "<style scoped>\n",
       "    .dataframe tbody tr th:only-of-type {\n",
       "        vertical-align: middle;\n",
       "    }\n",
       "\n",
       "    .dataframe tbody tr th {\n",
       "        vertical-align: top;\n",
       "    }\n",
       "\n",
       "    .dataframe thead th {\n",
       "        text-align: right;\n",
       "    }\n",
       "</style>\n",
       "<table border=\"1\" class=\"dataframe\">\n",
       "  <thead>\n",
       "    <tr style=\"text-align: right;\">\n",
       "      <th></th>\n",
       "      <th>name</th>\n",
       "      <th>chunk</th>\n",
       "      <th>dimension</th>\n",
       "    </tr>\n",
       "  </thead>\n",
       "  <tbody>\n",
       "    <tr>\n",
       "      <td>0</td>\n",
       "      <td>L0.1_c-3_m10_first</td>\n",
       "      <td>whole</td>\n",
       "      <td>1.574421</td>\n",
       "    </tr>\n",
       "    <tr>\n",
       "      <td>1</td>\n",
       "      <td>L0.1_c-3_m10_last</td>\n",
       "      <td>whole</td>\n",
       "      <td>1.240522</td>\n",
       "    </tr>\n",
       "    <tr>\n",
       "      <td>2</td>\n",
       "      <td>L0.1_c-3_m12_first</td>\n",
       "      <td>whole</td>\n",
       "      <td>1.583390</td>\n",
       "    </tr>\n",
       "    <tr>\n",
       "      <td>3</td>\n",
       "      <td>L0.1_c-3_m12_last</td>\n",
       "      <td>whole</td>\n",
       "      <td>1.235514</td>\n",
       "    </tr>\n",
       "    <tr>\n",
       "      <td>4</td>\n",
       "      <td>L0.1_c-3_m20_first</td>\n",
       "      <td>whole</td>\n",
       "      <td>1.402361</td>\n",
       "    </tr>\n",
       "  </tbody>\n",
       "</table>\n",
       "</div>"
      ],
      "text/plain": [
       "                 name  chunk  dimension\n",
       "0  L0.1_c-3_m10_first  whole   1.574421\n",
       "1   L0.1_c-3_m10_last  whole   1.240522\n",
       "2  L0.1_c-3_m12_first  whole   1.583390\n",
       "3   L0.1_c-3_m12_last  whole   1.235514\n",
       "4  L0.1_c-3_m20_first  whole   1.402361"
      ]
     },
     "execution_count": 136,
     "metadata": {},
     "output_type": "execute_result"
    }
   ],
   "source": [
    "df = pd.DataFrame({'name' : name,\n",
    "             'chunk' : chunk,\n",
    "             'dimension' : dimension})\n",
    "df.head()"
   ]
  },
  {
   "cell_type": "code",
   "execution_count": 137,
   "metadata": {},
   "outputs": [
    {
     "data": {
      "text/html": [
       "<div>\n",
       "<style scoped>\n",
       "    .dataframe tbody tr th:only-of-type {\n",
       "        vertical-align: middle;\n",
       "    }\n",
       "\n",
       "    .dataframe tbody tr th {\n",
       "        vertical-align: top;\n",
       "    }\n",
       "\n",
       "    .dataframe thead th {\n",
       "        text-align: right;\n",
       "    }\n",
       "</style>\n",
       "<table border=\"1\" class=\"dataframe\">\n",
       "  <thead>\n",
       "    <tr style=\"text-align: right;\">\n",
       "      <th></th>\n",
       "      <th>Unnamed: 0</th>\n",
       "      <th>name</th>\n",
       "    </tr>\n",
       "  </thead>\n",
       "  <tbody>\n",
       "    <tr>\n",
       "      <td>0</td>\n",
       "      <td>0</td>\n",
       "      <td>L0.1_c-3_m10_first</td>\n",
       "    </tr>\n",
       "    <tr>\n",
       "      <td>1</td>\n",
       "      <td>1</td>\n",
       "      <td>L0.1_c-3_m10_last</td>\n",
       "    </tr>\n",
       "    <tr>\n",
       "      <td>2</td>\n",
       "      <td>2</td>\n",
       "      <td>L0.1_c-3_m12_first</td>\n",
       "    </tr>\n",
       "    <tr>\n",
       "      <td>3</td>\n",
       "      <td>3</td>\n",
       "      <td>L0.1_c-3_m12_last</td>\n",
       "    </tr>\n",
       "    <tr>\n",
       "      <td>4</td>\n",
       "      <td>4</td>\n",
       "      <td>L0.1_c-3_m23_last</td>\n",
       "    </tr>\n",
       "  </tbody>\n",
       "</table>\n",
       "</div>"
      ],
      "text/plain": [
       "   Unnamed: 0                name\n",
       "0           0  L0.1_c-3_m10_first\n",
       "1           1   L0.1_c-3_m10_last\n",
       "2           2  L0.1_c-3_m12_first\n",
       "3           3   L0.1_c-3_m12_last\n",
       "4           4   L0.1_c-3_m23_last"
      ]
     },
     "execution_count": 137,
     "metadata": {},
     "output_type": "execute_result"
    }
   ],
   "source": [
    "# remove the problematic moths - \n",
    "\n",
    "prob_cases = pd.read_csv(r\"G:/My Drive/Mahad/Light Level Experiments/Data Output from Analysis/\" \\\n",
    "                         r\"VideosWithMarkers/FirstLastTroubleVideos_v4/names.csv\")\n",
    "\n",
    "prob_cases['name'] = prob_cases['name'].str[1:-9]\n",
    "prob_cases.head()"
   ]
  },
  {
   "cell_type": "code",
   "execution_count": 138,
   "metadata": {},
   "outputs": [],
   "source": [
    "df = df[~df['name'].isin(prob_cases.name)]"
   ]
  },
  {
   "cell_type": "code",
   "execution_count": 139,
   "metadata": {},
   "outputs": [],
   "source": [
    "name = []\n",
    "dimension = []\n",
    "for n, sub in df.groupby('name'):\n",
    "        mean_d = sub.dimension.mean()\n",
    "        name.append(n)\n",
    "        dimension.append(mean_d)  \n",
    "final_dim = pd.DataFrame({'name' : name,\n",
    "                         'dimension' : dimension})       "
   ]
  },
  {
   "cell_type": "code",
   "execution_count": 140,
   "metadata": {},
   "outputs": [
    {
     "data": {
      "text/html": [
       "<div>\n",
       "<style scoped>\n",
       "    .dataframe tbody tr th:only-of-type {\n",
       "        vertical-align: middle;\n",
       "    }\n",
       "\n",
       "    .dataframe tbody tr th {\n",
       "        vertical-align: top;\n",
       "    }\n",
       "\n",
       "    .dataframe thead th {\n",
       "        text-align: right;\n",
       "    }\n",
       "</style>\n",
       "<table border=\"1\" class=\"dataframe\">\n",
       "  <thead>\n",
       "    <tr style=\"text-align: right;\">\n",
       "      <th></th>\n",
       "      <th>name</th>\n",
       "      <th>dimension</th>\n",
       "      <th>lightLevel</th>\n",
       "      <th>mothID</th>\n",
       "      <th>flower</th>\n",
       "      <th>visit</th>\n",
       "    </tr>\n",
       "  </thead>\n",
       "  <tbody>\n",
       "    <tr>\n",
       "      <td>0</td>\n",
       "      <td>L0.1_c-3_m20_first</td>\n",
       "      <td>1.402361</td>\n",
       "      <td>L0.1</td>\n",
       "      <td>m20</td>\n",
       "      <td>c-3</td>\n",
       "      <td>first</td>\n",
       "    </tr>\n",
       "    <tr>\n",
       "      <td>1</td>\n",
       "      <td>L0.1_c-3_m20_last</td>\n",
       "      <td>1.360398</td>\n",
       "      <td>L0.1</td>\n",
       "      <td>m20</td>\n",
       "      <td>c-3</td>\n",
       "      <td>last</td>\n",
       "    </tr>\n",
       "    <tr>\n",
       "      <td>2</td>\n",
       "      <td>L0.1_c-3_m21_first</td>\n",
       "      <td>1.555929</td>\n",
       "      <td>L0.1</td>\n",
       "      <td>m21</td>\n",
       "      <td>c-3</td>\n",
       "      <td>first</td>\n",
       "    </tr>\n",
       "    <tr>\n",
       "      <td>3</td>\n",
       "      <td>L0.1_c-3_m21_last</td>\n",
       "      <td>1.466146</td>\n",
       "      <td>L0.1</td>\n",
       "      <td>m21</td>\n",
       "      <td>c-3</td>\n",
       "      <td>last</td>\n",
       "    </tr>\n",
       "    <tr>\n",
       "      <td>4</td>\n",
       "      <td>L0.1_c-3_m22_first</td>\n",
       "      <td>1.413836</td>\n",
       "      <td>L0.1</td>\n",
       "      <td>m22</td>\n",
       "      <td>c-3</td>\n",
       "      <td>first</td>\n",
       "    </tr>\n",
       "  </tbody>\n",
       "</table>\n",
       "</div>"
      ],
      "text/plain": [
       "                 name  dimension lightLevel mothID flower  visit\n",
       "0  L0.1_c-3_m20_first   1.402361       L0.1    m20    c-3  first\n",
       "1   L0.1_c-3_m20_last   1.360398       L0.1    m20    c-3   last\n",
       "2  L0.1_c-3_m21_first   1.555929       L0.1    m21    c-3  first\n",
       "3   L0.1_c-3_m21_last   1.466146       L0.1    m21    c-3   last\n",
       "4  L0.1_c-3_m22_first   1.413836       L0.1    m22    c-3  first"
      ]
     },
     "execution_count": 140,
     "metadata": {},
     "output_type": "execute_result"
    }
   ],
   "source": [
    "final_dim[['lightLevel', 'mothID']] = final_dim.name.str.split('_', n = 1, expand = True)\n",
    "final_dim[['flower', 'mothID', 'visit']] = final_dim.mothID.str.split('_', n= 2, expand = True)\n",
    "final_dim.to_csv(mystr + 'dimension_df_ChunkSize' + str(lengthOfEachChunk) + '.csv')\n",
    "final_dim.head()"
   ]
  },
  {
   "cell_type": "code",
   "execution_count": 141,
   "metadata": {},
   "outputs": [
    {
     "name": "stdout",
     "output_type": "stream",
     "text": [
      "mann Whitney U test: statistic 220.500000 and p value 0.494978\n",
      "Ks_2sampResult(statistic=0.0, pvalue=1.0)\n",
      "mann Whitney U test: statistic 134.000000 and p value 0.192133\n",
      "Ks_2sampResult(statistic=0.2777777777777778, pvalue=0.5025900605581054)\n"
     ]
    }
   ],
   "source": [
    "from scipy import stats\n",
    "low_first = final_dim.loc[(final_dim.lightLevel == 'L0.1') & (final_dim.visit == 'first')\n",
    "                          , 'dimension'].values\n",
    "high_first = final_dim.loc[(final_dim.lightLevel == 'L0.1') & (final_dim.visit == 'first')\n",
    "                           , 'dimension'].values\n",
    "low_last = final_dim.loc[(final_dim.lightLevel == 'L0.1') & (final_dim.visit == 'last')\n",
    "                          , 'dimension'].values\n",
    "high_last = final_dim.loc[(final_dim.lightLevel == 'L50') & (final_dim.visit == 'last')\n",
    "                          , 'dimension'].values\n",
    "\n",
    "s_first, p_first = stats.mannwhitneyu(low_first, high_first)\n",
    "print('mann Whitney U test: statistic %5f and p value %5f' %(s_first, p_first))\n",
    "\n",
    "print(stats.ks_2samp(low_first, high_first))\n",
    "\n",
    "s_last, p_last = stats.mannwhitneyu(low_last, high_last)\n",
    "print('mann Whitney U test: statistic %5f and p value %5f' %(s_last, p_last))\n",
    "\n",
    "print(stats.ks_2samp(low_last, high_last))\n",
    "\n",
    "p = [p_first, p_last]"
   ]
  },
  {
   "cell_type": "code",
   "execution_count": 143,
   "metadata": {},
   "outputs": [
    {
     "data": {
      "image/png": "[encoded data removed]",
      "text/plain": [
       "<Figure size 252x504 with 2 Axes>"
      ]
     },
     "metadata": {
      "needs_background": "light"
     },
     "output_type": "display_data"
    }
   ],
   "source": [
    "## make the plot\n",
    "import seaborn as sns\n",
    "\n",
    "f, ax = plt.subplots(2,1, figsize=(3.5, 3.5*2))\n",
    "ax = ax.ravel()\n",
    "i = 0\n",
    "for visit, bla in final_dim.groupby('visit'):\n",
    "    \n",
    "    sns.violinplot(x=\"lightLevel\", y=\"dimension\", \n",
    "                   data = bla, \n",
    "                   inner = None,\n",
    "                   linewidth = 0.5,\n",
    "                   palette = ['mediumpurple','orange'],\n",
    "                  ax = ax[i])\n",
    "\n",
    "    sns.boxplot(x=\"lightLevel\", y=\"dimension\", \n",
    "                data = bla,\n",
    "                linewidth = 0.5,\n",
    "                fliersize = 0,\n",
    "                width = 0.3,\n",
    "               ax = ax[i])\n",
    "\n",
    "    sns.swarmplot(x='lightLevel', y='dimension', \n",
    "                  data = bla,\n",
    "                    size=2, \n",
    "                      color=\"0.3\",\n",
    "                      linewidth=0,\n",
    "                 ax= ax[i])\n",
    "    # print the p value into the plot\n",
    "    ax[i].text(0.45, 0.90, 'p value %5f' %p[i], horizontalalignment='center',\n",
    "        verticalalignment='center', transform=ax[i].transAxes)\n",
    "#     ax[i].set_ylabel()\n",
    "#     ax[i].set_xlabel()\n",
    "    \n",
    "    i+=1\n",
    "\n",
    "# ax[1].text(0.45, 0.01, \"Light level\", size = 8, \n",
    "#           horizontalalignment='center',\n",
    "#         verticalalignment='center', transform=ax[1].transAxes)\n",
    "# ax[1].text(0.01, 1.5, \"Box Dimension\", size = 8, \n",
    "#           horizontalalignment='center',\n",
    "#         verticalalignment='center',\n",
    "#            rotation = 90,\n",
    "#            transform=ax[1].transAxes)\n",
    "\n",
    "# ax[0].set_xticklabels([], size = 8)\n",
    "# ax[1].set_xticklabels([\"Low\",\"High\"], size = 8)\n",
    "\n",
    "sns.despine(trim=True)\n",
    "\n",
    "for tick in ax[1].get_yticklabels():\n",
    "    tick.set_fontsize(8) \n",
    "# ax.xaxis.grid(False)\n",
    "\n",
    "# plt.savefig(mystr + 'BoxDimension_chunk' + str(lengthOfEachChunk) + \".pdf\")\n",
    "plt.savefig(mystr + 'BoxDimension_wholeTrack.pdf')"
   ]
  },
  {
   "cell_type": "markdown",
   "metadata": {},
   "source": [
    "# do this analysis for not chunked Data"
   ]
  },
  {
   "cell_type": "code",
   "execution_count": 125,
   "metadata": {},
   "outputs": [],
   "source": [
    "filefolder = mystr"
   ]
  },
  {
   "cell_type": "code",
   "execution_count": 126,
   "metadata": {},
   "outputs": [
    {
     "name": "stdout",
     "output_type": "stream",
     "text": [
      "110 files were read\n"
     ]
    }
   ],
   "source": [
    "files = glob.glob(filefolder + '*L*.png')\n",
    "if not files:\n",
    "    print('No files were read')\n",
    "else:\n",
    "    print('%d files were read' %len(files))"
   ]
  },
  {
   "cell_type": "code",
   "execution_count": null,
   "metadata": {},
   "outputs": [],
   "source": []
  },
  {
   "cell_type": "code",
   "execution_count": null,
   "metadata": {},
   "outputs": [],
   "source": []
  }
 ],
 "metadata": {
  "kernelspec": {
   "display_name": "Python 3",
   "language": "python",
   "name": "python3"
  },
  "language_info": {
   "codemirror_mode": {
    "name": "ipython",
    "version": 3
   },
   "file_extension": ".py",
   "mimetype": "text/x-python",
   "name": "python",
   "nbconvert_exporter": "python",
   "pygments_lexer": "ipython3",
   "version": "3.6.5"
  }
 },
 "nbformat": 4,
 "nbformat_minor": 4
}
