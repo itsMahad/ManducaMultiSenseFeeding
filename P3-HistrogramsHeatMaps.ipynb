{
 "cells": [
  {
   "cell_type": "code",
   "execution_count": 2,
   "metadata": {},
   "outputs": [],
   "source": [
    "import numpy as np\n",
    "import pandas as pd\n",
    "import glob\n",
    "import os\n",
    "import matplotlib.pyplot as plt\n",
    "from scipy import stats\n",
    "import sys"
   ]
  },
  {
   "cell_type": "markdown",
   "metadata": {},
   "source": [
    "## make histogram from a selected lot of moths"
   ]
  },
  {
   "cell_type": "code",
   "execution_count": 7,
   "metadata": {},
   "outputs": [],
   "source": [
    "names_first = ['L50_c-3_m49', 'L50_c-3_m45', 'L50_c-3_m9',\n",
    "             'L0.1_c-3_m32', 'L0.1_c-3_m43', 'L0.1_c-3_m49']\n",
    "\n",
    "automatedTracking = {'L50_c-3_m49': True, 'L50_c-3_m45': True, 'L50_c-3_m9': False,\n",
    "             'L0.1_c-3_m32': True, 'L0.1_c-3_m43': True, 'L0.1_c-3_m49': True}\n",
    "\n",
    "# names = [names_first, names_last]\n",
    "visit = 'FirstVisit/'\n",
    "figoutpath = r'./dataFolders/Output/Proboscis/Plots/RepresentativePlots/Paper/'"
   ]
  },
  {
   "cell_type": "code",
   "execution_count": 2,
   "metadata": {},
   "outputs": [],
   "source": [
    "# direc = r\"./dataFolders/Output/Proboscis/FilteredTracks/\"\n",
    "# visitnum = ['FirstVisit/', 'LastVisit/']"
   ]
  },
  {
   "cell_type": "code",
   "execution_count": 38,
   "metadata": {},
   "outputs": [
    {
     "data": {
      "image/png": "[encoded data removed]",
      "text/plain": [
       "<Figure size 504x252 with 2 Axes>"
      ]
     },
     "metadata": {
      "needs_background": "light"
     },
     "output_type": "display_data"
    }
   ],
   "source": [
    "f, ax = plt.subplots(1,2, figsize = (7,7/2), sharey = True)\n",
    "# f1, ax1 = plt.subplots(1,2, figsize = (7,7/2), sharex = True, sharey = True)\n",
    "\n",
    "ax = ax.ravel()\n",
    "# ax1 = ax1.ravel()\n",
    "listHist = pd.DataFrame()\n",
    "for light, c in zip(['L0.1', 'L50'], ['purple', 'orange']):\n",
    "    subset = [l for l in names_first if light in l]\n",
    "    uber = pd.DataFrame()\n",
    "    \n",
    "    for name in subset:\n",
    "        if automatedTracking[name] :\n",
    "            direc = os.path.join(r\"./dataFolders/Output/Proboscis/FilteredTracks/FirstVisit/\")\n",
    "            datalist = glob.glob(direc + '*.csv')\n",
    "            data = [f for f in datalist if name in f][0]\n",
    "            \n",
    "        else:\n",
    "            direc = os.path.join(r\"./dataFolders/Output/Proboscis/FilteredTracks/ManuallyTracked/\")\n",
    "            datalist = glob.glob(direc + '*.csv')\n",
    "            data = [f for f in datalist if name + '_' + visit[:-1] in f][0]\n",
    "     \n",
    "        \n",
    "        df = pd.read_csv(data)\n",
    "        uber = uber.append(df)\n",
    "       \n",
    "    for limit, axes, in zip([5, 2.5], ax):\n",
    "        r = uber.loc[uber.r < limit, 'r']\n",
    "#         kernel = stats.gaussian_kde(r)\n",
    "#         kernel.set_bandwidth(kernel.factor/3)\n",
    "\n",
    "        histogram, positions, _ = axes.hist(r, bins = 50, density = True, \n",
    "                                            color = c,\n",
    "                                           alpha = 0.6)\n",
    "        name = light + '_' + str(limit)\n",
    "        listHist[name] = histogram\n",
    "#         pde = kernel(positions)\n",
    "#         axes[i].plot(positions, pde)\n",
    "#         axes[i].set_title()\n"
   ]
  },
  {
   "cell_type": "code",
   "execution_count": 40,
   "metadata": {},
   "outputs": [
    {
     "data": {
      "text/html": [
       "<div>\n",
       "<style scoped>\n",
       "    .dataframe tbody tr th:only-of-type {\n",
       "        vertical-align: middle;\n",
       "    }\n",
       "\n",
       "    .dataframe tbody tr th {\n",
       "        vertical-align: top;\n",
       "    }\n",
       "\n",
       "    .dataframe thead th {\n",
       "        text-align: right;\n",
       "    }\n",
       "</style>\n",
       "<table border=\"1\" class=\"dataframe\">\n",
       "  <thead>\n",
       "    <tr style=\"text-align: right;\">\n",
       "      <th></th>\n",
       "      <th>L0.1_5</th>\n",
       "      <th>L0.1_2.5</th>\n",
       "      <th>L50_5</th>\n",
       "      <th>L50_2.5</th>\n",
       "    </tr>\n",
       "  </thead>\n",
       "  <tbody>\n",
       "    <tr>\n",
       "      <td>0</td>\n",
       "      <td>2.803049</td>\n",
       "      <td>4.445314</td>\n",
       "      <td>1.319292</td>\n",
       "      <td>1.824067</td>\n",
       "    </tr>\n",
       "    <tr>\n",
       "      <td>1</td>\n",
       "      <td>0.334571</td>\n",
       "      <td>0.520879</td>\n",
       "      <td>0.185294</td>\n",
       "      <td>1.074897</td>\n",
       "    </tr>\n",
       "    <tr>\n",
       "      <td>2</td>\n",
       "      <td>0.391692</td>\n",
       "      <td>0.378173</td>\n",
       "      <td>0.248294</td>\n",
       "      <td>0.260581</td>\n",
       "    </tr>\n",
       "    <tr>\n",
       "      <td>3</td>\n",
       "      <td>0.318250</td>\n",
       "      <td>0.313955</td>\n",
       "      <td>0.218647</td>\n",
       "      <td>0.154720</td>\n",
       "    </tr>\n",
       "    <tr>\n",
       "      <td>4</td>\n",
       "      <td>0.387612</td>\n",
       "      <td>0.435255</td>\n",
       "      <td>0.248294</td>\n",
       "      <td>0.358299</td>\n",
       "    </tr>\n",
       "  </tbody>\n",
       "</table>\n",
       "</div>"
      ],
      "text/plain": [
       "     L0.1_5  L0.1_2.5     L50_5   L50_2.5\n",
       "0  2.803049  4.445314  1.319292  1.824067\n",
       "1  0.334571  0.520879  0.185294  1.074897\n",
       "2  0.391692  0.378173  0.248294  0.260581\n",
       "3  0.318250  0.313955  0.218647  0.154720\n",
       "4  0.387612  0.435255  0.248294  0.358299"
      ]
     },
     "execution_count": 40,
     "metadata": {},
     "output_type": "execute_result"
    }
   ],
   "source": [
    "listHist.head()"
   ]
  },
  {
   "cell_type": "code",
   "execution_count": 43,
   "metadata": {},
   "outputs": [
    {
     "data": {
      "text/plain": [
       "[<matplotlib.lines.Line2D at 0x294f3b031d0>]"
      ]
     },
     "execution_count": 43,
     "metadata": {},
     "output_type": "execute_result"
    },
    {
     "data": {
      "image/png": "[encoded data removed]",
      "text/plain": [
       "<Figure size 432x288 with 1 Axes>"
      ]
     },
     "metadata": {
      "needs_background": "light"
     },
     "output_type": "display_data"
    }
   ],
   "source": [
    "plt.plot(listHist.index, listHist['L0.1_5'])\n",
    "plt.plot(listHist.index, listHist['L50_5'])"
   ]
  },
  {
   "cell_type": "code",
   "execution_count": 44,
   "metadata": {},
   "outputs": [
    {
     "data": {
      "text/plain": [
       "[<matplotlib.lines.Line2D at 0x294f2428518>]"
      ]
     },
     "execution_count": 44,
     "metadata": {},
     "output_type": "execute_result"
    },
    {
     "data": {
      "image/png": "[encoded data removed]",
      "text/plain": [
       "<Figure size 432x288 with 1 Axes>"
      ]
     },
     "metadata": {
      "needs_background": "light"
     },
     "output_type": "display_data"
    }
   ],
   "source": [
    "plt.plot(listHist.index, listHist['L0.1_2.5'])\n",
    "plt.plot(listHist.index, listHist['L50_2.5'])"
   ]
  },
  {
   "cell_type": "code",
   "execution_count": 47,
   "metadata": {},
   "outputs": [
    {
     "data": {
      "text/plain": [
       "Ks_2sampResult(statistic=0.32, pvalue=0.011511738725894704)"
      ]
     },
     "execution_count": 47,
     "metadata": {},
     "output_type": "execute_result"
    }
   ],
   "source": [
    "stats.ks_2samp(listHist['L0.1_5'], listHist['L50_5'])"
   ]
  },
  {
   "cell_type": "code",
   "execution_count": 48,
   "metadata": {},
   "outputs": [
    {
     "data": {
      "text/plain": [
       "Ks_2sampResult(statistic=0.28, pvalue=0.039194586195352224)"
      ]
     },
     "execution_count": 48,
     "metadata": {},
     "output_type": "execute_result"
    }
   ],
   "source": [
    "stats.ks_2samp(listHist['L0.1_2.5'], listHist['L50_2.5'])"
   ]
  },
  {
   "cell_type": "code",
   "execution_count": null,
   "metadata": {},
   "outputs": [],
   "source": []
  },
  {
   "cell_type": "markdown",
   "metadata": {},
   "source": [
    "## make histograms from All data"
   ]
  },
  {
   "cell_type": "code",
   "execution_count": 3,
   "metadata": {},
   "outputs": [],
   "source": [
    "visit = 'FirstVisit'"
   ]
  },
  {
   "cell_type": "code",
   "execution_count": 4,
   "metadata": {},
   "outputs": [
    {
     "data": {
      "text/html": [
       "<div>\n",
       "<style scoped>\n",
       "    .dataframe tbody tr th:only-of-type {\n",
       "        vertical-align: middle;\n",
       "    }\n",
       "\n",
       "    .dataframe tbody tr th {\n",
       "        vertical-align: top;\n",
       "    }\n",
       "\n",
       "    .dataframe thead th {\n",
       "        text-align: right;\n",
       "    }\n",
       "</style>\n",
       "<table border=\"1\" class=\"dataframe\">\n",
       "  <thead>\n",
       "    <tr style=\"text-align: right;\">\n",
       "      <th></th>\n",
       "      <th>name</th>\n",
       "      <th>Tracking</th>\n",
       "      <th>WithManualTracking</th>\n",
       "      <th>Unnamed: 3</th>\n",
       "    </tr>\n",
       "  </thead>\n",
       "  <tbody>\n",
       "    <tr>\n",
       "      <td>0</td>\n",
       "      <td>L0.1_c-3_m2_FirstVisit</td>\n",
       "      <td>NO</td>\n",
       "      <td>YES</td>\n",
       "      <td>NaN</td>\n",
       "    </tr>\n",
       "    <tr>\n",
       "      <td>1</td>\n",
       "      <td>L0.1_c-3_m2_Lastvisit</td>\n",
       "      <td>NO</td>\n",
       "      <td>NO</td>\n",
       "      <td>NaN</td>\n",
       "    </tr>\n",
       "    <tr>\n",
       "      <td>2</td>\n",
       "      <td>L0.1_c-3_m5_FirstVisit</td>\n",
       "      <td>YES with removal</td>\n",
       "      <td>NaN</td>\n",
       "      <td>NaN</td>\n",
       "    </tr>\n",
       "    <tr>\n",
       "      <td>3</td>\n",
       "      <td>L0.1_c-3_m5_Lastvisit</td>\n",
       "      <td>YES with removal</td>\n",
       "      <td>NaN</td>\n",
       "      <td>NaN</td>\n",
       "    </tr>\n",
       "    <tr>\n",
       "      <td>4</td>\n",
       "      <td>L0.1_c-3_m8_FirstVisit</td>\n",
       "      <td>NO</td>\n",
       "      <td>YES</td>\n",
       "      <td>NaN</td>\n",
       "    </tr>\n",
       "  </tbody>\n",
       "</table>\n",
       "</div>"
      ],
      "text/plain": [
       "                     name          Tracking WithManualTracking Unnamed: 3\n",
       "0  L0.1_c-3_m2_FirstVisit                NO                YES        NaN\n",
       "1   L0.1_c-3_m2_Lastvisit                NO                 NO        NaN\n",
       "2  L0.1_c-3_m5_FirstVisit  YES with removal                NaN        NaN\n",
       "3   L0.1_c-3_m5_Lastvisit  YES with removal                NaN        NaN\n",
       "4  L0.1_c-3_m8_FirstVisit                NO                YES        NaN"
      ]
     },
     "execution_count": 4,
     "metadata": {},
     "output_type": "execute_result"
    }
   ],
   "source": [
    "mothAnnotation = pd.read_csv('./dataFolders/Output/Proboscis/TrackingErrors.csv')\n",
    "mothAnnotation.head()"
   ]
  },
  {
   "cell_type": "code",
   "execution_count": 5,
   "metadata": {},
   "outputs": [],
   "source": [
    "mothToBeRemoved = mothAnnotation.loc[(mothAnnotation.Tracking == 'NO') & \n",
    "                                     (mothAnnotation.WithManualTracking == 'NO'),\n",
    "                                     'name']"
   ]
  },
  {
   "cell_type": "code",
   "execution_count": 6,
   "metadata": {},
   "outputs": [],
   "source": [
    "listMoth = [l for l in mothToBeRemoved if visit in l]\n",
    "# listMoth"
   ]
  },
  {
   "cell_type": "code",
   "execution_count": 7,
   "metadata": {},
   "outputs": [],
   "source": [
    "manuallyTrackedMoth = ['L50_c-3_m9_FirstVisit']"
   ]
  },
  {
   "cell_type": "code",
   "execution_count": 8,
   "metadata": {},
   "outputs": [],
   "source": [
    "direc = os.path.join(r\"./dataFolders/Output/Proboscis/FilteredTracks/FirstVisit/\")\n",
    "filelist = glob.glob(direc + '*.csv')"
   ]
  },
  {
   "cell_type": "code",
   "execution_count": 9,
   "metadata": {},
   "outputs": [],
   "source": [
    "radial_distance_low = []\n",
    "radial_distance_high = []\n",
    "name_low = []\n",
    "name_high = []\n",
    "\n",
    "for files in filelist:\n",
    "    nameOffile = os.path.basename(files)[:-4]\n",
    "    \n",
    "    if nameOffile in listMoth:\n",
    "#         print(nameOffile)\n",
    "        continue\n",
    "    elif nameOffile in manuallyTrackedMoth:\n",
    "        direc = os.path.join(r\"./dataFolders/Output/Proboscis/FilteredTracks/ManuallyTracked/\")\n",
    "        datalist = glob.glob(direc + '*.csv')\n",
    "        data = [f for f in datalist if nameOffile in f][0]\n",
    "    else:\n",
    "        data = files\n",
    "    \n",
    "    # read in the r values\n",
    "    df = pd.read_csv(data)\n",
    "    r = df.r.values\n",
    "    n = nameOffile\n",
    "\n",
    "    if 'L0.1' in nameOffile:\n",
    "        radial_distance_low.extend(r)\n",
    "        name_low.append(n)\n",
    "    elif 'L50' in nameOffile:\n",
    "        radial_distance_high.extend(r)\n",
    "        name_high.append(n)"
   ]
  },
  {
   "cell_type": "code",
   "execution_count": 10,
   "metadata": {},
   "outputs": [
    {
     "data": {
      "text/plain": [
       "['L50_c-3_m9_FirstVisit']"
      ]
     },
     "execution_count": 10,
     "metadata": {},
     "output_type": "execute_result"
    }
   ],
   "source": [
    "[l for l in name_high if l in manuallyTrackedMoth]"
   ]
  },
  {
   "cell_type": "code",
   "execution_count": 11,
   "metadata": {},
   "outputs": [
    {
     "data": {
      "image/png": "[encoded data removed]",
      "text/plain": [
       "<Figure size 504x168 with 2 Axes>"
      ]
     },
     "metadata": {
      "needs_background": "light"
     },
     "output_type": "display_data"
    }
   ],
   "source": [
    "f, ax = plt.subplots(1, 2, figsize = (7,7/3))\n",
    "ax = ax.ravel()\n",
    "\n",
    "for limit, axes, in zip([5, 2.5], ax):\n",
    "    r_high = [i for i in radial_distance_high if i < limit]\n",
    "    r_low = [i for i in radial_distance_low if i < limit]\n",
    "#         kernel = stats.gaussian_kde(r)\n",
    "#         kernel.set_bandwidth(kernel.factor/3)\n",
    "    histogram, positions, _ = axes.hist(r_low, bins = 40, density = True, \n",
    "                                        color = 'purple',\n",
    "                                       alpha = 0.6)\n",
    "    \n",
    "    histogram, positions, _ = axes.hist(r_high, bins = 40, density = True, \n",
    "                                        color = 'orange',\n",
    "                                       alpha = 0.6)\n",
    "# plt.savefig('./dataFolders/Output/Proboscis/Plots/RepresentativePlots/Histogram_RadialPosition.pdf')"
   ]
  },
  {
   "cell_type": "code",
   "execution_count": 12,
   "metadata": {},
   "outputs": [],
   "source": [
    "limit = 5\n",
    "r_high = [i for i in radial_distance_high if i < limit]\n",
    "r_low = [i for i in radial_distance_low if i < limit]"
   ]
  },
  {
   "cell_type": "code",
   "execution_count": 13,
   "metadata": {},
   "outputs": [
    {
     "data": {
      "text/plain": [
       "MannwhitneyuResult(statistic=91505028.5, pvalue=7.594258668416813e-71)"
      ]
     },
     "execution_count": 13,
     "metadata": {},
     "output_type": "execute_result"
    }
   ],
   "source": [
    "stats.mannwhitneyu(~np.isnan(radial_distance_high), ~np.isnan(radial_distance_low))"
   ]
  },
  {
   "cell_type": "code",
   "execution_count": 14,
   "metadata": {},
   "outputs": [
    {
     "data": {
      "text/plain": [
       "Ks_2sampResult(statistic=0.033775218552654654, pvalue=8.18778389529021e-07)"
      ]
     },
     "execution_count": 14,
     "metadata": {},
     "output_type": "execute_result"
    }
   ],
   "source": [
    "stats.ks_2samp(~np.isnan(radial_distance_high), ~np.isnan(radial_distance_low))"
   ]
  },
  {
   "cell_type": "code",
   "execution_count": null,
   "metadata": {},
   "outputs": [],
   "source": []
  },
  {
   "cell_type": "markdown",
   "metadata": {},
   "source": [
    "## Visualize as heat maps"
   ]
  },
  {
   "cell_type": "code",
   "execution_count": 40,
   "metadata": {},
   "outputs": [
    {
     "data": {
      "image/png": "[encoded data removed]",
      "text/plain": [
       "<Figure size 432x288 with 4 Axes>"
      ]
     },
     "metadata": {
      "needs_background": "light"
     },
     "output_type": "display_data"
    },
    {
     "data": {
      "image/png": "[encoded data removed]",
      "text/plain": [
       "<Figure size 432x288 with 4 Axes>"
      ]
     },
     "metadata": {
      "needs_background": "light"
     },
     "output_type": "display_data"
    }
   ],
   "source": [
    "f, ax = plt.subplots(2,2, sharex = True, sharey = True)\n",
    "ax = ax.ravel()\n",
    "\n",
    "f0, ax0 = plt.subplots(2,2, sharex = True, sharey = True)\n",
    "ax0 = ax0.ravel()\n",
    "\n",
    "\n",
    "i = 0\n",
    "for visit in visitnum:\n",
    "    datalist = glob.glob(direc + visit + '*.csv')\n",
    "    \n",
    "    for light in ['L0.1', 'L50']:\n",
    "        subset = [l for l in datalist if light in l]\n",
    "        df = pd.DataFrame()\n",
    "        for dd in subset:\n",
    "            ff = pd.read_csv(dd)\n",
    "            df = df.append(ff)\n",
    "            \n",
    "        x = df.loc[df.r < 5, 'x_centered']\n",
    "        y = df.loc[df.r < 5, 'y_centered']\n",
    "        ax[i].hist2d(x,y)\n",
    "        c1 = plt.Circle((0, 0), 75, \n",
    "                        facecolor='none', alpha = 0.7,\n",
    "                    edgecolor= 'black', linewidth = 1)\n",
    "        ax[i].add_artist(c1)\n",
    "        ax[i].set_aspect('equal')\n",
    "        ax[i].set_title(visit + '_' + light)\n",
    "        \n",
    "        x = df.loc[df.r < 2.5, 'x_centered']\n",
    "        y = df.loc[df.r < 2.5, 'y_centered']\n",
    "        ax0[i].hist2d(x,y)\n",
    "        c1 = plt.Circle((0, 0), 75, \n",
    "                        facecolor='none', alpha = 0.7,\n",
    "                    edgecolor= 'black', linewidth = 1)\n",
    "        ax0[i].add_artist(c1)\n",
    "        ax0[i].set_aspect('equal')\n",
    "        ax0[i].set_title(visit + '_' + light)\n",
    "        i+=1"
   ]
  }
 ],
 "metadata": {
  "kernelspec": {
   "display_name": "Python 3",
   "language": "python",
   "name": "python3"
  },
  "language_info": {
   "codemirror_mode": {
    "name": "ipython",
    "version": 3
   },
   "file_extension": ".py",
   "mimetype": "text/x-python",
   "name": "python",
   "nbconvert_exporter": "python",
   "pygments_lexer": "ipython3",
   "version": "3.6.5"
  }
 },
 "nbformat": 4,
 "nbformat_minor": 2
}
