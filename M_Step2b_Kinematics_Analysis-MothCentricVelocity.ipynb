{
 "cells": [
  {
   "cell_type": "code",
   "execution_count": 1,
   "metadata": {},
   "outputs": [],
   "source": [
    "import time\n",
    "import numpy as np\n",
    "import cv2\n",
    "import pandas as pd\n",
    "\n",
    "import matplotlib.pyplot as plt\n",
    "import matplotlib as mpl\n",
    "\n",
    "from scipy import signal\n",
    "import os, errno\n",
    "import glob"
   ]
  },
  {
   "cell_type": "markdown",
   "metadata": {},
   "source": [
    "## compute kinematic paramters - velocity (speed and angular velocity)"
   ]
  },
  {
   "cell_type": "code",
   "execution_count": 3,
   "metadata": {},
   "outputs": [
    {
     "data": {
      "text/html": [
       "<div>\n",
       "<style scoped>\n",
       "    .dataframe tbody tr th:only-of-type {\n",
       "        vertical-align: middle;\n",
       "    }\n",
       "\n",
       "    .dataframe tbody tr th {\n",
       "        vertical-align: top;\n",
       "    }\n",
       "\n",
       "    .dataframe thead th {\n",
       "        text-align: right;\n",
       "    }\n",
       "</style>\n",
       "<table border=\"1\" class=\"dataframe\">\n",
       "  <thead>\n",
       "    <tr style=\"text-align: right;\">\n",
       "      <th></th>\n",
       "      <th>Unnamed: 0</th>\n",
       "      <th>Unnamed: 0.1</th>\n",
       "      <th>name</th>\n",
       "      <th>visit</th>\n",
       "      <th>flower_r</th>\n",
       "      <th>flower_x</th>\n",
       "      <th>flower_y</th>\n",
       "      <th>x</th>\n",
       "      <th>y</th>\n",
       "      <th>x_pixel</th>\n",
       "      <th>y_pixel</th>\n",
       "      <th>x_filtered</th>\n",
       "      <th>y_filtered</th>\n",
       "      <th>cent_x</th>\n",
       "      <th>cent_y</th>\n",
       "      <th>distance</th>\n",
       "      <th>distanceincms</th>\n",
       "    </tr>\n",
       "  </thead>\n",
       "  <tbody>\n",
       "    <tr>\n",
       "      <td>0</td>\n",
       "      <td>0</td>\n",
       "      <td>0</td>\n",
       "      <td>L0.1_c-3_m10</td>\n",
       "      <td>last</td>\n",
       "      <td>74</td>\n",
       "      <td>310</td>\n",
       "      <td>233</td>\n",
       "      <td>NaN</td>\n",
       "      <td>NaN</td>\n",
       "      <td>NaN</td>\n",
       "      <td>NaN</td>\n",
       "      <td>NaN</td>\n",
       "      <td>NaN</td>\n",
       "      <td>NaN</td>\n",
       "      <td>NaN</td>\n",
       "      <td>NaN</td>\n",
       "      <td>NaN</td>\n",
       "    </tr>\n",
       "    <tr>\n",
       "      <td>1</td>\n",
       "      <td>1</td>\n",
       "      <td>1</td>\n",
       "      <td>L0.1_c-3_m10</td>\n",
       "      <td>last</td>\n",
       "      <td>74</td>\n",
       "      <td>310</td>\n",
       "      <td>233</td>\n",
       "      <td>NaN</td>\n",
       "      <td>NaN</td>\n",
       "      <td>NaN</td>\n",
       "      <td>NaN</td>\n",
       "      <td>NaN</td>\n",
       "      <td>NaN</td>\n",
       "      <td>NaN</td>\n",
       "      <td>NaN</td>\n",
       "      <td>NaN</td>\n",
       "      <td>NaN</td>\n",
       "    </tr>\n",
       "    <tr>\n",
       "      <td>2</td>\n",
       "      <td>2</td>\n",
       "      <td>2</td>\n",
       "      <td>L0.1_c-3_m10</td>\n",
       "      <td>last</td>\n",
       "      <td>74</td>\n",
       "      <td>310</td>\n",
       "      <td>233</td>\n",
       "      <td>NaN</td>\n",
       "      <td>NaN</td>\n",
       "      <td>NaN</td>\n",
       "      <td>NaN</td>\n",
       "      <td>NaN</td>\n",
       "      <td>NaN</td>\n",
       "      <td>NaN</td>\n",
       "      <td>NaN</td>\n",
       "      <td>NaN</td>\n",
       "      <td>NaN</td>\n",
       "    </tr>\n",
       "    <tr>\n",
       "      <td>3</td>\n",
       "      <td>3</td>\n",
       "      <td>3</td>\n",
       "      <td>L0.1_c-3_m10</td>\n",
       "      <td>last</td>\n",
       "      <td>74</td>\n",
       "      <td>310</td>\n",
       "      <td>233</td>\n",
       "      <td>0.810811</td>\n",
       "      <td>2.297297</td>\n",
       "      <td>24.0</td>\n",
       "      <td>68.0</td>\n",
       "      <td>23.997467</td>\n",
       "      <td>67.98341</td>\n",
       "      <td>-286.002533</td>\n",
       "      <td>-165.01659</td>\n",
       "      <td>330.193767</td>\n",
       "      <td>11.155195</td>\n",
       "    </tr>\n",
       "    <tr>\n",
       "      <td>4</td>\n",
       "      <td>4</td>\n",
       "      <td>4</td>\n",
       "      <td>L0.1_c-3_m10</td>\n",
       "      <td>last</td>\n",
       "      <td>74</td>\n",
       "      <td>310</td>\n",
       "      <td>233</td>\n",
       "      <td>1.013514</td>\n",
       "      <td>2.770270</td>\n",
       "      <td>30.0</td>\n",
       "      <td>82.0</td>\n",
       "      <td>24.708767</td>\n",
       "      <td>143.71776</td>\n",
       "      <td>-285.291233</td>\n",
       "      <td>-89.28224</td>\n",
       "      <td>298.935455</td>\n",
       "      <td>10.099171</td>\n",
       "    </tr>\n",
       "  </tbody>\n",
       "</table>\n",
       "</div>"
      ],
      "text/plain": [
       "   Unnamed: 0  Unnamed: 0.1          name visit  flower_r  flower_x  flower_y  \\\n",
       "0           0             0  L0.1_c-3_m10  last        74       310       233   \n",
       "1           1             1  L0.1_c-3_m10  last        74       310       233   \n",
       "2           2             2  L0.1_c-3_m10  last        74       310       233   \n",
       "3           3             3  L0.1_c-3_m10  last        74       310       233   \n",
       "4           4             4  L0.1_c-3_m10  last        74       310       233   \n",
       "\n",
       "          x         y  x_pixel  y_pixel  x_filtered  y_filtered      cent_x  \\\n",
       "0       NaN       NaN      NaN      NaN         NaN         NaN         NaN   \n",
       "1       NaN       NaN      NaN      NaN         NaN         NaN         NaN   \n",
       "2       NaN       NaN      NaN      NaN         NaN         NaN         NaN   \n",
       "3  0.810811  2.297297     24.0     68.0   23.997467    67.98341 -286.002533   \n",
       "4  1.013514  2.770270     30.0     82.0   24.708767   143.71776 -285.291233   \n",
       "\n",
       "      cent_y    distance  distanceincms  \n",
       "0        NaN         NaN            NaN  \n",
       "1        NaN         NaN            NaN  \n",
       "2        NaN         NaN            NaN  \n",
       "3 -165.01659  330.193767      11.155195  \n",
       "4  -89.28224  298.935455      10.099171  "
      ]
     },
     "execution_count": 3,
     "metadata": {},
     "output_type": "execute_result"
    }
   ],
   "source": [
    "# load centroid file wih distance and centroid data\n",
    "\n",
    "df = pd.read_csv('./dataFolders/Output/KinematicAnalysis_Final/LowPassFiltered_CentroidAndDistanceData.csv')\n",
    "df.head()"
   ]
  },
  {
   "cell_type": "code",
   "execution_count": 4,
   "metadata": {},
   "outputs": [
    {
     "data": {
      "text/html": [
       "<div>\n",
       "<style scoped>\n",
       "    .dataframe tbody tr th:only-of-type {\n",
       "        vertical-align: middle;\n",
       "    }\n",
       "\n",
       "    .dataframe tbody tr th {\n",
       "        vertical-align: top;\n",
       "    }\n",
       "\n",
       "    .dataframe thead th {\n",
       "        text-align: right;\n",
       "    }\n",
       "</style>\n",
       "<table border=\"1\" class=\"dataframe\">\n",
       "  <thead>\n",
       "    <tr style=\"text-align: right;\">\n",
       "      <th></th>\n",
       "      <th>Unnamed: 0</th>\n",
       "      <th>name</th>\n",
       "    </tr>\n",
       "  </thead>\n",
       "  <tbody>\n",
       "    <tr>\n",
       "      <td>0</td>\n",
       "      <td>0</td>\n",
       "      <td>L0.1_c-3_m10_firstVisit.csv</td>\n",
       "    </tr>\n",
       "    <tr>\n",
       "      <td>1</td>\n",
       "      <td>1</td>\n",
       "      <td>L0.1_c-3_m10_lastVisit.csv</td>\n",
       "    </tr>\n",
       "    <tr>\n",
       "      <td>2</td>\n",
       "      <td>2</td>\n",
       "      <td>L0.1_c-3_m12_firstVisit.csv</td>\n",
       "    </tr>\n",
       "    <tr>\n",
       "      <td>3</td>\n",
       "      <td>3</td>\n",
       "      <td>L0.1_c-3_m12_lastVisit.csv</td>\n",
       "    </tr>\n",
       "    <tr>\n",
       "      <td>4</td>\n",
       "      <td>4</td>\n",
       "      <td>L0.1_c-3_m23_lastVisit.csv</td>\n",
       "    </tr>\n",
       "  </tbody>\n",
       "</table>\n",
       "</div>"
      ],
      "text/plain": [
       "   Unnamed: 0                         name\n",
       "0           0  L0.1_c-3_m10_firstVisit.csv\n",
       "1           1   L0.1_c-3_m10_lastVisit.csv\n",
       "2           2  L0.1_c-3_m12_firstVisit.csv\n",
       "3           3   L0.1_c-3_m12_lastVisit.csv\n",
       "4           4   L0.1_c-3_m23_lastVisit.csv"
      ]
     },
     "execution_count": 4,
     "metadata": {},
     "output_type": "execute_result"
    }
   ],
   "source": [
    "# remove Problematic Files\n",
    "\n",
    "listProbs = pd.read_csv(r'G:\\My Drive\\Mahad\\Light Level Experiments\\Data Output from Analysis\\VideosWithMarkers\\FirstLastTroubleVideos_v4\\names.csv')\n",
    "listProbs['name'] = listProbs['name'].str[1:]\n",
    "listProbs.head()\n",
    "\n",
    "# df.name.str.contains(df.name + '_' + df.visitNum)"
   ]
  },
  {
   "cell_type": "code",
   "execution_count": 5,
   "metadata": {},
   "outputs": [],
   "source": [
    "df['string'] = df.name + '_' + df.visit + 'Visit.csv'\n",
    "\n",
    "sub_df= df[pd.DataFrame(df.string.tolist()).isin(listProbs.name.tolist()).any(1) == False]"
   ]
  },
  {
   "cell_type": "code",
   "execution_count": 6,
   "metadata": {},
   "outputs": [
    {
     "data": {
      "text/html": [
       "<div>\n",
       "<style scoped>\n",
       "    .dataframe tbody tr th:only-of-type {\n",
       "        vertical-align: middle;\n",
       "    }\n",
       "\n",
       "    .dataframe tbody tr th {\n",
       "        vertical-align: top;\n",
       "    }\n",
       "\n",
       "    .dataframe thead th {\n",
       "        text-align: right;\n",
       "    }\n",
       "</style>\n",
       "<table border=\"1\" class=\"dataframe\">\n",
       "  <thead>\n",
       "    <tr style=\"text-align: right;\">\n",
       "      <th></th>\n",
       "      <th>Unnamed: 0</th>\n",
       "      <th>Unnamed: 0.1</th>\n",
       "      <th>name</th>\n",
       "      <th>visit</th>\n",
       "      <th>flower_r</th>\n",
       "      <th>flower_x</th>\n",
       "      <th>flower_y</th>\n",
       "      <th>x</th>\n",
       "      <th>y</th>\n",
       "      <th>x_pixel</th>\n",
       "      <th>y_pixel</th>\n",
       "      <th>x_filtered</th>\n",
       "      <th>y_filtered</th>\n",
       "      <th>cent_x</th>\n",
       "      <th>cent_y</th>\n",
       "      <th>distance</th>\n",
       "      <th>distanceincms</th>\n",
       "      <th>string</th>\n",
       "    </tr>\n",
       "  </thead>\n",
       "  <tbody>\n",
       "    <tr>\n",
       "      <td>2818</td>\n",
       "      <td>2818</td>\n",
       "      <td>2818</td>\n",
       "      <td>L0.1_c-3_m2</td>\n",
       "      <td>first</td>\n",
       "      <td>74</td>\n",
       "      <td>309</td>\n",
       "      <td>233</td>\n",
       "      <td>NaN</td>\n",
       "      <td>NaN</td>\n",
       "      <td>NaN</td>\n",
       "      <td>NaN</td>\n",
       "      <td>NaN</td>\n",
       "      <td>NaN</td>\n",
       "      <td>NaN</td>\n",
       "      <td>NaN</td>\n",
       "      <td>NaN</td>\n",
       "      <td>NaN</td>\n",
       "      <td>L0.1_c-3_m2_firstVisit.csv</td>\n",
       "    </tr>\n",
       "    <tr>\n",
       "      <td>2819</td>\n",
       "      <td>2819</td>\n",
       "      <td>2819</td>\n",
       "      <td>L0.1_c-3_m2</td>\n",
       "      <td>first</td>\n",
       "      <td>74</td>\n",
       "      <td>309</td>\n",
       "      <td>233</td>\n",
       "      <td>NaN</td>\n",
       "      <td>NaN</td>\n",
       "      <td>NaN</td>\n",
       "      <td>NaN</td>\n",
       "      <td>NaN</td>\n",
       "      <td>NaN</td>\n",
       "      <td>NaN</td>\n",
       "      <td>NaN</td>\n",
       "      <td>NaN</td>\n",
       "      <td>NaN</td>\n",
       "      <td>L0.1_c-3_m2_firstVisit.csv</td>\n",
       "    </tr>\n",
       "    <tr>\n",
       "      <td>2820</td>\n",
       "      <td>2820</td>\n",
       "      <td>2820</td>\n",
       "      <td>L0.1_c-3_m2</td>\n",
       "      <td>first</td>\n",
       "      <td>74</td>\n",
       "      <td>309</td>\n",
       "      <td>233</td>\n",
       "      <td>14.054054</td>\n",
       "      <td>16.216216</td>\n",
       "      <td>416.0</td>\n",
       "      <td>480.0</td>\n",
       "      <td>415.991725</td>\n",
       "      <td>479.978923</td>\n",
       "      <td>106.991725</td>\n",
       "      <td>246.978923</td>\n",
       "      <td>269.157608</td>\n",
       "      <td>9.093162</td>\n",
       "      <td>L0.1_c-3_m2_firstVisit.csv</td>\n",
       "    </tr>\n",
       "    <tr>\n",
       "      <td>2821</td>\n",
       "      <td>2821</td>\n",
       "      <td>2821</td>\n",
       "      <td>L0.1_c-3_m2</td>\n",
       "      <td>first</td>\n",
       "      <td>74</td>\n",
       "      <td>309</td>\n",
       "      <td>233</td>\n",
       "      <td>12.027027</td>\n",
       "      <td>15.777027</td>\n",
       "      <td>356.0</td>\n",
       "      <td>467.0</td>\n",
       "      <td>425.584860</td>\n",
       "      <td>471.956375</td>\n",
       "      <td>116.584860</td>\n",
       "      <td>238.956375</td>\n",
       "      <td>265.880008</td>\n",
       "      <td>8.982433</td>\n",
       "      <td>L0.1_c-3_m2_firstVisit.csv</td>\n",
       "    </tr>\n",
       "    <tr>\n",
       "      <td>2822</td>\n",
       "      <td>2822</td>\n",
       "      <td>2822</td>\n",
       "      <td>L0.1_c-3_m2</td>\n",
       "      <td>first</td>\n",
       "      <td>74</td>\n",
       "      <td>309</td>\n",
       "      <td>233</td>\n",
       "      <td>17.398649</td>\n",
       "      <td>15.810811</td>\n",
       "      <td>515.0</td>\n",
       "      <td>468.0</td>\n",
       "      <td>422.540000</td>\n",
       "      <td>464.678111</td>\n",
       "      <td>113.540000</td>\n",
       "      <td>231.678111</td>\n",
       "      <td>258.004028</td>\n",
       "      <td>8.716352</td>\n",
       "      <td>L0.1_c-3_m2_firstVisit.csv</td>\n",
       "    </tr>\n",
       "  </tbody>\n",
       "</table>\n",
       "</div>"
      ],
      "text/plain": [
       "      Unnamed: 0  Unnamed: 0.1         name  visit  flower_r  flower_x  \\\n",
       "2818        2818          2818  L0.1_c-3_m2  first        74       309   \n",
       "2819        2819          2819  L0.1_c-3_m2  first        74       309   \n",
       "2820        2820          2820  L0.1_c-3_m2  first        74       309   \n",
       "2821        2821          2821  L0.1_c-3_m2  first        74       309   \n",
       "2822        2822          2822  L0.1_c-3_m2  first        74       309   \n",
       "\n",
       "      flower_y          x          y  x_pixel  y_pixel  x_filtered  \\\n",
       "2818       233        NaN        NaN      NaN      NaN         NaN   \n",
       "2819       233        NaN        NaN      NaN      NaN         NaN   \n",
       "2820       233  14.054054  16.216216    416.0    480.0  415.991725   \n",
       "2821       233  12.027027  15.777027    356.0    467.0  425.584860   \n",
       "2822       233  17.398649  15.810811    515.0    468.0  422.540000   \n",
       "\n",
       "      y_filtered      cent_x      cent_y    distance  distanceincms  \\\n",
       "2818         NaN         NaN         NaN         NaN            NaN   \n",
       "2819         NaN         NaN         NaN         NaN            NaN   \n",
       "2820  479.978923  106.991725  246.978923  269.157608       9.093162   \n",
       "2821  471.956375  116.584860  238.956375  265.880008       8.982433   \n",
       "2822  464.678111  113.540000  231.678111  258.004028       8.716352   \n",
       "\n",
       "                          string  \n",
       "2818  L0.1_c-3_m2_firstVisit.csv  \n",
       "2819  L0.1_c-3_m2_firstVisit.csv  \n",
       "2820  L0.1_c-3_m2_firstVisit.csv  \n",
       "2821  L0.1_c-3_m2_firstVisit.csv  \n",
       "2822  L0.1_c-3_m2_firstVisit.csv  "
      ]
     },
     "execution_count": 6,
     "metadata": {},
     "output_type": "execute_result"
    }
   ],
   "source": [
    "sub_df.head()"
   ]
  },
  {
   "cell_type": "code",
   "execution_count": 7,
   "metadata": {},
   "outputs": [],
   "source": [
    "df_use = sub_df.copy()\n",
    "df_use[['lightLevel', 'mothID']] =  df_use['name'].str.split('_', n = 1, expand = True)\n",
    "df_use = df_use.drop(columns = ['Unnamed: 0', 'Unnamed: 0.1', \n",
    "                                'name',\n",
    "                                'flower_x', 'flower_y',\n",
    "                                'x', 'y',\n",
    "#                                 'x_pixel', 'y_pixel',\n",
    "                                'distance', 'distanceincms',\n",
    "                                'string'\n",
    "                                ])"
   ]
  },
  {
   "cell_type": "code",
   "execution_count": 8,
   "metadata": {},
   "outputs": [
    {
     "data": {
      "text/html": [
       "<div>\n",
       "<style scoped>\n",
       "    .dataframe tbody tr th:only-of-type {\n",
       "        vertical-align: middle;\n",
       "    }\n",
       "\n",
       "    .dataframe tbody tr th {\n",
       "        vertical-align: top;\n",
       "    }\n",
       "\n",
       "    .dataframe thead th {\n",
       "        text-align: right;\n",
       "    }\n",
       "</style>\n",
       "<table border=\"1\" class=\"dataframe\">\n",
       "  <thead>\n",
       "    <tr style=\"text-align: right;\">\n",
       "      <th></th>\n",
       "      <th>visit</th>\n",
       "      <th>flower_r</th>\n",
       "      <th>x_pixel</th>\n",
       "      <th>y_pixel</th>\n",
       "      <th>x_filtered</th>\n",
       "      <th>y_filtered</th>\n",
       "      <th>cent_x</th>\n",
       "      <th>cent_y</th>\n",
       "      <th>lightLevel</th>\n",
       "      <th>mothID</th>\n",
       "    </tr>\n",
       "  </thead>\n",
       "  <tbody>\n",
       "    <tr>\n",
       "      <td>2818</td>\n",
       "      <td>first</td>\n",
       "      <td>74</td>\n",
       "      <td>NaN</td>\n",
       "      <td>NaN</td>\n",
       "      <td>NaN</td>\n",
       "      <td>NaN</td>\n",
       "      <td>NaN</td>\n",
       "      <td>NaN</td>\n",
       "      <td>L0.1</td>\n",
       "      <td>c-3_m2</td>\n",
       "    </tr>\n",
       "    <tr>\n",
       "      <td>2819</td>\n",
       "      <td>first</td>\n",
       "      <td>74</td>\n",
       "      <td>NaN</td>\n",
       "      <td>NaN</td>\n",
       "      <td>NaN</td>\n",
       "      <td>NaN</td>\n",
       "      <td>NaN</td>\n",
       "      <td>NaN</td>\n",
       "      <td>L0.1</td>\n",
       "      <td>c-3_m2</td>\n",
       "    </tr>\n",
       "    <tr>\n",
       "      <td>2820</td>\n",
       "      <td>first</td>\n",
       "      <td>74</td>\n",
       "      <td>416.0</td>\n",
       "      <td>480.0</td>\n",
       "      <td>415.991725</td>\n",
       "      <td>479.978923</td>\n",
       "      <td>106.991725</td>\n",
       "      <td>246.978923</td>\n",
       "      <td>L0.1</td>\n",
       "      <td>c-3_m2</td>\n",
       "    </tr>\n",
       "    <tr>\n",
       "      <td>2821</td>\n",
       "      <td>first</td>\n",
       "      <td>74</td>\n",
       "      <td>356.0</td>\n",
       "      <td>467.0</td>\n",
       "      <td>425.584860</td>\n",
       "      <td>471.956375</td>\n",
       "      <td>116.584860</td>\n",
       "      <td>238.956375</td>\n",
       "      <td>L0.1</td>\n",
       "      <td>c-3_m2</td>\n",
       "    </tr>\n",
       "    <tr>\n",
       "      <td>2822</td>\n",
       "      <td>first</td>\n",
       "      <td>74</td>\n",
       "      <td>515.0</td>\n",
       "      <td>468.0</td>\n",
       "      <td>422.540000</td>\n",
       "      <td>464.678111</td>\n",
       "      <td>113.540000</td>\n",
       "      <td>231.678111</td>\n",
       "      <td>L0.1</td>\n",
       "      <td>c-3_m2</td>\n",
       "    </tr>\n",
       "  </tbody>\n",
       "</table>\n",
       "</div>"
      ],
      "text/plain": [
       "      visit  flower_r  x_pixel  y_pixel  x_filtered  y_filtered      cent_x  \\\n",
       "2818  first        74      NaN      NaN         NaN         NaN         NaN   \n",
       "2819  first        74      NaN      NaN         NaN         NaN         NaN   \n",
       "2820  first        74    416.0    480.0  415.991725  479.978923  106.991725   \n",
       "2821  first        74    356.0    467.0  425.584860  471.956375  116.584860   \n",
       "2822  first        74    515.0    468.0  422.540000  464.678111  113.540000   \n",
       "\n",
       "          cent_y lightLevel  mothID  \n",
       "2818         NaN       L0.1  c-3_m2  \n",
       "2819         NaN       L0.1  c-3_m2  \n",
       "2820  246.978923       L0.1  c-3_m2  \n",
       "2821  238.956375       L0.1  c-3_m2  \n",
       "2822  231.678111       L0.1  c-3_m2  "
      ]
     },
     "execution_count": 8,
     "metadata": {},
     "output_type": "execute_result"
    }
   ],
   "source": [
    "df_use.head()"
   ]
  },
  {
   "cell_type": "code",
   "execution_count": 9,
   "metadata": {},
   "outputs": [],
   "source": [
    "outfig = r'./dataFolders/Output/KinematicAnalysis_Final/Figures/IndividualMoths/LowPass_filteredPosition/'"
   ]
  },
  {
   "cell_type": "code",
   "execution_count": 10,
   "metadata": {},
   "outputs": [],
   "source": [
    "def figureFiltered(original, filtered, ax):\n",
    "    ax = ax.ravel()\n",
    "\n",
    "    ax[0].plot(original.x_pixel)\n",
    "    ax[0].plot(filtered.x)\n",
    "    ax[0].set_title('x position (cm)')\n",
    "\n",
    "    ax[1].plot(original.y_pixel)\n",
    "    ax[1].plot(filtered.y)\n",
    "    ax[1].set_title('y position (cm)')"
   ]
  },
  {
   "cell_type": "code",
   "execution_count": 11,
   "metadata": {},
   "outputs": [
    {
     "data": {
      "image/png": "[encoded data removed]",
      "text/plain": [
       "<Figure size 432x288 with 2 Axes>"
      ]
     },
     "metadata": {
      "needs_background": "light"
     },
     "output_type": "display_data"
    },
    {
     "data": {
      "image/png": "[encoded data removed]",
      "text/plain": [
       "<Figure size 432x288 with 3 Axes>"
      ]
     },
     "metadata": {
      "needs_background": "light"
     },
     "output_type": "display_data"
    }
   ],
   "source": [
    "velocity = []\n",
    "acceleration = []\n",
    "light = []\n",
    "visit = []\n",
    "mothID = []\n",
    "\n",
    "f0, ax0 = plt.subplots(1,2)\n",
    "\n",
    "f1, ax1 = plt.subplots(3,1)\n",
    "ax1 = ax1.ravel()\n",
    "\n",
    "for l, light_sub in df_use.groupby('lightLevel'):\n",
    "    for v, visit_sub in light_sub.groupby('visit'):\n",
    "        for m, moth_sub in visit_sub.groupby('mothID'):\n",
    "\n",
    "            filtered = pd.DataFrame({'x': moth_sub.x_filtered*2.5/moth_sub.flower_r , \n",
    "                                    'y': moth_sub.y_filtered*2.5/moth_sub.flower_r})\n",
    "            \n",
    "            figureFiltered(moth_sub, filtered, ax0)\n",
    "            f0.savefig(outfig + m + '.pdf')\n",
    "            for axes in ax0:\n",
    "                axes.cla()\n",
    "            \n",
    "            filtered.x  = filtered.x*2.5/moth_sub.flower_r.unique()\n",
    "            filtered.y  = filtered.y*2.5/moth_sub.flower_r.unique()\n",
    "            \n",
    "            x_vel = np.gradient(filtered.x)\n",
    "            x_acc = np.gradient(x_vel)\n",
    "            y_vel = np.gradient(filtered.y)\n",
    "            y_acc = np.gradient(y_vel)\n",
    "            filtered.index = filtered.index*1/100\n",
    "            \n",
    "            vel = np.sqrt(x_vel**2 + y_vel**2)\n",
    "            acc = np.sqrt(x_acc**2 + y_acc**2)\n",
    "        \n",
    "            light.extend([l]*len(vel))\n",
    "            visit.extend([v]*len(vel))\n",
    "            mothID.extend([m]*len(vel))\n",
    "            velocity.extend(vel)\n",
    "            acceleration.extend(acc)\n",
    "            \n",
    "            # plot shit\n",
    "            ax1[0].plot(filtered.x)\n",
    "            ax1[0].plot(filtered.y)\n",
    "            ax1[0].set_ylabel('position (cm)')\n",
    "            \n",
    "            ax1[1].plot(x_vel)\n",
    "            ax1[1].plot(y_vel)\n",
    "            ax1[1].plot(vel, alpha = 0.5)\n",
    "            ax1[1].set_ylabel('velocity\\n ($x^{-2} cm/s$)')\n",
    "            \n",
    "            ax1[2].plot(x_acc)\n",
    "            ax1[2].plot(y_acc)\n",
    "            ax1[2].plot(acc, alpha = 0.5)\n",
    "            ax1[2].set_ylabel('acceleration\\n ($x^{-4} cm/s^2$)')\n",
    "            \n",
    "            f1.savefig('./dataFolders/Output/KinematicAnalysis_Final/Figures/velocity/' + \n",
    "                    l + '_' + m + '_' + v + '_velocity.pdf', bbox_inches = 'tight')\n",
    "            for axes in ax1:\n",
    "                axes.cla()"
   ]
  },
  {
   "cell_type": "code",
   "execution_count": 12,
   "metadata": {},
   "outputs": [],
   "source": [
    "final = pd.DataFrame({'lightLevel': light,\n",
    "                     'visit': visit,\n",
    "                     'mothID':mothID,\n",
    "                     'velocity':velocity,\n",
    "                     'acceleration': acceleration})"
   ]
  },
  {
   "cell_type": "code",
   "execution_count": 13,
   "metadata": {},
   "outputs": [
    {
     "data": {
      "text/html": [
       "<div>\n",
       "<style scoped>\n",
       "    .dataframe tbody tr th:only-of-type {\n",
       "        vertical-align: middle;\n",
       "    }\n",
       "\n",
       "    .dataframe tbody tr th {\n",
       "        vertical-align: top;\n",
       "    }\n",
       "\n",
       "    .dataframe thead th {\n",
       "        text-align: right;\n",
       "    }\n",
       "</style>\n",
       "<table border=\"1\" class=\"dataframe\">\n",
       "  <thead>\n",
       "    <tr style=\"text-align: right;\">\n",
       "      <th></th>\n",
       "      <th>lightLevel</th>\n",
       "      <th>visit</th>\n",
       "      <th>mothID</th>\n",
       "      <th>velocity</th>\n",
       "      <th>acceleration</th>\n",
       "    </tr>\n",
       "  </thead>\n",
       "  <tbody>\n",
       "    <tr>\n",
       "      <td>0</td>\n",
       "      <td>L0.1</td>\n",
       "      <td>first</td>\n",
       "      <td>c-3_m2</td>\n",
       "      <td>NaN</td>\n",
       "      <td>NaN</td>\n",
       "    </tr>\n",
       "    <tr>\n",
       "      <td>1</td>\n",
       "      <td>L0.1</td>\n",
       "      <td>first</td>\n",
       "      <td>c-3_m2</td>\n",
       "      <td>NaN</td>\n",
       "      <td>NaN</td>\n",
       "    </tr>\n",
       "    <tr>\n",
       "      <td>2</td>\n",
       "      <td>L0.1</td>\n",
       "      <td>first</td>\n",
       "      <td>c-3_m2</td>\n",
       "      <td>NaN</td>\n",
       "      <td>NaN</td>\n",
       "    </tr>\n",
       "    <tr>\n",
       "      <td>3</td>\n",
       "      <td>L0.1</td>\n",
       "      <td>first</td>\n",
       "      <td>c-3_m2</td>\n",
       "      <td>0.009498</td>\n",
       "      <td>NaN</td>\n",
       "    </tr>\n",
       "    <tr>\n",
       "      <td>4</td>\n",
       "      <td>L0.1</td>\n",
       "      <td>first</td>\n",
       "      <td>c-3_m2</td>\n",
       "      <td>0.013041</td>\n",
       "      <td>0.01065</td>\n",
       "    </tr>\n",
       "  </tbody>\n",
       "</table>\n",
       "</div>"
      ],
      "text/plain": [
       "  lightLevel  visit  mothID  velocity  acceleration\n",
       "0       L0.1  first  c-3_m2       NaN           NaN\n",
       "1       L0.1  first  c-3_m2       NaN           NaN\n",
       "2       L0.1  first  c-3_m2       NaN           NaN\n",
       "3       L0.1  first  c-3_m2  0.009498           NaN\n",
       "4       L0.1  first  c-3_m2  0.013041       0.01065"
      ]
     },
     "execution_count": 13,
     "metadata": {},
     "output_type": "execute_result"
    }
   ],
   "source": [
    "final.head()"
   ]
  },
  {
   "cell_type": "code",
   "execution_count": 14,
   "metadata": {},
   "outputs": [],
   "source": [
    "mothID = []\n",
    "visit = []\n",
    "lightLevel = []\n",
    "median_velocity = []\n",
    "median_acc = []\n",
    "\n",
    "for l, light_sub in final.groupby('lightLevel'):\n",
    "    for v, visit_sub in light_sub.groupby('visit'):\n",
    "        for m, moth_sub in visit_sub.groupby('mothID'):\n",
    "            mean_v = np.nanmedian(moth_sub.velocity)\n",
    "            mean_a = np.nanmedian(moth_sub.acceleration)\n",
    "            \n",
    "            median_velocity.append(mean_v)\n",
    "            median_acc.append(mean_a)\n",
    "            mothID.append(m)\n",
    "            visit.append(v)\n",
    "            lightLevel.append(l)\n",
    "            \n",
    "summary = pd.DataFrame({'lightLevel': lightLevel,\n",
    "                       'visit': visit,\n",
    "                       'mothID': mothID,\n",
    "                       'median_velocity': median_velocity,\n",
    "                       'median_acc': median_acc})"
   ]
  },
  {
   "cell_type": "code",
   "execution_count": 15,
   "metadata": {},
   "outputs": [
    {
     "data": {
      "text/html": [
       "<div>\n",
       "<style scoped>\n",
       "    .dataframe tbody tr th:only-of-type {\n",
       "        vertical-align: middle;\n",
       "    }\n",
       "\n",
       "    .dataframe tbody tr th {\n",
       "        vertical-align: top;\n",
       "    }\n",
       "\n",
       "    .dataframe thead th {\n",
       "        text-align: right;\n",
       "    }\n",
       "</style>\n",
       "<table border=\"1\" class=\"dataframe\">\n",
       "  <thead>\n",
       "    <tr style=\"text-align: right;\">\n",
       "      <th></th>\n",
       "      <th>lightLevel</th>\n",
       "      <th>visit</th>\n",
       "      <th>mothID</th>\n",
       "      <th>median_velocity</th>\n",
       "      <th>median_acc</th>\n",
       "    </tr>\n",
       "  </thead>\n",
       "  <tbody>\n",
       "    <tr>\n",
       "      <td>0</td>\n",
       "      <td>L0.1</td>\n",
       "      <td>first</td>\n",
       "      <td>c-3_m2</td>\n",
       "      <td>0.003173</td>\n",
       "      <td>0.001536</td>\n",
       "    </tr>\n",
       "    <tr>\n",
       "      <td>1</td>\n",
       "      <td>L0.1</td>\n",
       "      <td>first</td>\n",
       "      <td>c-3_m20</td>\n",
       "      <td>0.004449</td>\n",
       "      <td>0.002606</td>\n",
       "    </tr>\n",
       "    <tr>\n",
       "      <td>2</td>\n",
       "      <td>L0.1</td>\n",
       "      <td>first</td>\n",
       "      <td>c-3_m21</td>\n",
       "      <td>0.005255</td>\n",
       "      <td>0.003732</td>\n",
       "    </tr>\n",
       "    <tr>\n",
       "      <td>3</td>\n",
       "      <td>L0.1</td>\n",
       "      <td>first</td>\n",
       "      <td>c-3_m22</td>\n",
       "      <td>0.006052</td>\n",
       "      <td>0.004071</td>\n",
       "    </tr>\n",
       "    <tr>\n",
       "      <td>4</td>\n",
       "      <td>L0.1</td>\n",
       "      <td>first</td>\n",
       "      <td>c-3_m23</td>\n",
       "      <td>0.005908</td>\n",
       "      <td>0.003117</td>\n",
       "    </tr>\n",
       "    <tr>\n",
       "      <td>...</td>\n",
       "      <td>...</td>\n",
       "      <td>...</td>\n",
       "      <td>...</td>\n",
       "      <td>...</td>\n",
       "      <td>...</td>\n",
       "    </tr>\n",
       "    <tr>\n",
       "      <td>70</td>\n",
       "      <td>L50</td>\n",
       "      <td>last</td>\n",
       "      <td>c-3_m37</td>\n",
       "      <td>0.006039</td>\n",
       "      <td>0.003127</td>\n",
       "    </tr>\n",
       "    <tr>\n",
       "      <td>71</td>\n",
       "      <td>L50</td>\n",
       "      <td>last</td>\n",
       "      <td>c-3_m38</td>\n",
       "      <td>0.004349</td>\n",
       "      <td>0.002567</td>\n",
       "    </tr>\n",
       "    <tr>\n",
       "      <td>72</td>\n",
       "      <td>L50</td>\n",
       "      <td>last</td>\n",
       "      <td>c-3_m39</td>\n",
       "      <td>0.006592</td>\n",
       "      <td>0.003662</td>\n",
       "    </tr>\n",
       "    <tr>\n",
       "      <td>73</td>\n",
       "      <td>L50</td>\n",
       "      <td>last</td>\n",
       "      <td>c-3_m45</td>\n",
       "      <td>0.005582</td>\n",
       "      <td>0.004086</td>\n",
       "    </tr>\n",
       "    <tr>\n",
       "      <td>74</td>\n",
       "      <td>L50</td>\n",
       "      <td>last</td>\n",
       "      <td>c-3_m58</td>\n",
       "      <td>0.004633</td>\n",
       "      <td>0.002722</td>\n",
       "    </tr>\n",
       "  </tbody>\n",
       "</table>\n",
       "<p>75 rows × 5 columns</p>\n",
       "</div>"
      ],
      "text/plain": [
       "   lightLevel  visit   mothID  median_velocity  median_acc\n",
       "0        L0.1  first   c-3_m2         0.003173    0.001536\n",
       "1        L0.1  first  c-3_m20         0.004449    0.002606\n",
       "2        L0.1  first  c-3_m21         0.005255    0.003732\n",
       "3        L0.1  first  c-3_m22         0.006052    0.004071\n",
       "4        L0.1  first  c-3_m23         0.005908    0.003117\n",
       "..        ...    ...      ...              ...         ...\n",
       "70        L50   last  c-3_m37         0.006039    0.003127\n",
       "71        L50   last  c-3_m38         0.004349    0.002567\n",
       "72        L50   last  c-3_m39         0.006592    0.003662\n",
       "73        L50   last  c-3_m45         0.005582    0.004086\n",
       "74        L50   last  c-3_m58         0.004633    0.002722\n",
       "\n",
       "[75 rows x 5 columns]"
      ]
     },
     "execution_count": 15,
     "metadata": {},
     "output_type": "execute_result"
    }
   ],
   "source": [
    "summary"
   ]
  },
  {
   "cell_type": "code",
   "execution_count": 16,
   "metadata": {},
   "outputs": [],
   "source": [
    "# convert everything to m/s or m/s^2\n",
    "\n",
    "# velocity (m/s) = velocity (10^-2 cm/s) * 10^2 (100 frames per second)\n",
    "# same for acceleration\n",
    "# summary.median_velocity = summary.median_velocity\n",
    "# summary.median_acc = summary.median_acc"
   ]
  },
  {
   "cell_type": "code",
   "execution_count": 17,
   "metadata": {},
   "outputs": [],
   "source": [
    "summary.to_csv(r'./dataFolders/Output/KinematicAnalysis_Final/MothCentricVelocity.csv')"
   ]
  },
  {
   "cell_type": "code",
   "execution_count": 18,
   "metadata": {},
   "outputs": [
    {
     "data": {
      "text/html": [
       "<div>\n",
       "<style scoped>\n",
       "    .dataframe tbody tr th:only-of-type {\n",
       "        vertical-align: middle;\n",
       "    }\n",
       "\n",
       "    .dataframe tbody tr th {\n",
       "        vertical-align: top;\n",
       "    }\n",
       "\n",
       "    .dataframe thead th {\n",
       "        text-align: right;\n",
       "    }\n",
       "</style>\n",
       "<table border=\"1\" class=\"dataframe\">\n",
       "  <thead>\n",
       "    <tr style=\"text-align: right;\">\n",
       "      <th></th>\n",
       "      <th>median_velocity</th>\n",
       "      <th>median_acc</th>\n",
       "    </tr>\n",
       "    <tr>\n",
       "      <th>visit</th>\n",
       "      <th></th>\n",
       "      <th></th>\n",
       "    </tr>\n",
       "  </thead>\n",
       "  <tbody>\n",
       "    <tr>\n",
       "      <td>first</td>\n",
       "      <td>0.005152</td>\n",
       "      <td>0.00290</td>\n",
       "    </tr>\n",
       "    <tr>\n",
       "      <td>last</td>\n",
       "      <td>0.005745</td>\n",
       "      <td>0.00307</td>\n",
       "    </tr>\n",
       "  </tbody>\n",
       "</table>\n",
       "</div>"
      ],
      "text/plain": [
       "       median_velocity  median_acc\n",
       "visit                             \n",
       "first         0.005152     0.00290\n",
       "last          0.005745     0.00307"
      ]
     },
     "execution_count": 18,
     "metadata": {},
     "output_type": "execute_result"
    }
   ],
   "source": [
    "summary.groupby('visit').mean()"
   ]
  },
  {
   "cell_type": "code",
   "execution_count": 55,
   "metadata": {},
   "outputs": [],
   "source": [
    "colorScheme = {'L0.1':plt.cm.Purples_r, 'L50':plt.cm.Oranges_r}"
   ]
  },
  {
   "cell_type": "code",
   "execution_count": 56,
   "metadata": {},
   "outputs": [],
   "source": [
    "import seaborn as sns\n",
    "sns.set(style=\"ticks\")\n",
    "plt.rcParams['font.sans-serif'] = \"Arial\"\n",
    "plt.rcParams['font.family'] = \"sans-serif\"\n",
    "plt.rcParams['font.size'] = 8\n",
    "\n",
    "w = 7/2\n",
    "# w = 8\n",
    "h = w * 2"
   ]
  },
  {
   "cell_type": "code",
   "execution_count": 77,
   "metadata": {},
   "outputs": [
    {
     "data": {
      "image/png": "[encoded data removed]",
      "text/plain": [
       "<Figure size 252x504 with 2 Axes>"
      ]
     },
     "metadata": {},
     "output_type": "display_data"
    }
   ],
   "source": [
    "f, ax = plt.subplots(2,1, figsize = (w,h), sharey = True)\n",
    "\n",
    "i=0\n",
    "for v, sub in summary.groupby('visit'):\n",
    "    sns.violinplot(x='lightLevel', y='median_velocity', data = sub, \n",
    "                   inner = None, \n",
    "                   palette=['mediumpurple','orange'], \n",
    "                   linewidth = 0.5,\n",
    "                   ax=ax[i])\n",
    "    sns.boxplot(x='lightLevel', y='median_velocity', data = sub, \n",
    "                width = 0.2,\n",
    "                linewidth = 0.5,\n",
    "                fliersize = 0,\n",
    "                ax=ax[i])\n",
    "    sns.swarmplot(x='lightLevel', y='median_velocity', data = sub,\n",
    "                size=2, \n",
    "                  color=\"0.3\",\n",
    "                  linewidth=0,\n",
    "                  ax=ax[i])\n",
    "    i+=1\n",
    "plt.tight_layout()\n",
    "\n",
    "for axes in ax:\n",
    "    axes.set_yticklabels(['{:.2f}'.format(float(t.get_text())) for t in axes.get_yticklabels()[1:-1]])\n",
    "        \n",
    "f.savefig('./dataFolders/Output/KinematicAnalysis_Final/Figures/mothCentricVelocity_withoutLabels.pdf')"
   ]
  },
  {
   "cell_type": "code",
   "execution_count": 76,
   "metadata": {},
   "outputs": [
    {
     "name": "stdout",
     "output_type": "stream",
     "text": [
      "0.0\n",
      "5e-07\n",
      "1e-06\n",
      "1.5e-06\n",
      "2e-06\n"
     ]
    }
   ],
   "source": [
    "for t in axes.get_yticklabels()[1:-1]:\n",
    "#     print(t)\n",
    "    print(float(t.get_text()))"
   ]
  },
  {
   "cell_type": "code",
   "execution_count": 44,
   "metadata": {},
   "outputs": [],
   "source": [
    "low_first = summary[(summary.lightLevel == 'L0.1') & (summary.visit == 'first')].median_velocity.values\n",
    "high_first = summary[(summary.lightLevel == 'L50') & (summary.visit == 'first')].median_velocity.values\n",
    "\n",
    "low_last = summary[(summary.lightLevel == 'L0.1') & (summary.visit == 'last')].median_velocity.values\n",
    "high_last = summary[(summary.lightLevel == 'L50') & (summary.visit == 'last')].median_velocity.values"
   ]
  },
  {
   "cell_type": "code",
   "execution_count": 45,
   "metadata": {},
   "outputs": [
    {
     "data": {
      "text/plain": [
       "MannwhitneyuResult(statistic=161.0, pvalue=0.21925116633133757)"
      ]
     },
     "execution_count": 45,
     "metadata": {},
     "output_type": "execute_result"
    }
   ],
   "source": [
    "from scipy import stats\n",
    "\n",
    "stats.mannwhitneyu(low_first, high_first)"
   ]
  },
  {
   "cell_type": "code",
   "execution_count": 33,
   "metadata": {},
   "outputs": [
    {
     "data": {
      "text/plain": [
       "MannwhitneyuResult(statistic=155.0, pvalue=0.4185318077449268)"
      ]
     },
     "execution_count": 33,
     "metadata": {},
     "output_type": "execute_result"
    }
   ],
   "source": [
    "stats.mannwhitneyu(low_last, high_last)"
   ]
  },
  {
   "cell_type": "code",
   "execution_count": 34,
   "metadata": {},
   "outputs": [
    {
     "data": {
      "text/plain": [
       "Ks_2sampResult(statistic=0.2222222222222222, pvalue=0.6486347137235615)"
      ]
     },
     "execution_count": 34,
     "metadata": {},
     "output_type": "execute_result"
    }
   ],
   "source": [
    "stats.ks_2samp(low_first, high_first)"
   ]
  },
  {
   "cell_type": "code",
   "execution_count": 35,
   "metadata": {},
   "outputs": [
    {
     "data": {
      "text/plain": [
       "Ks_2sampResult(statistic=0.16666666666666666, pvalue=0.9715397823325015)"
      ]
     },
     "execution_count": 35,
     "metadata": {},
     "output_type": "execute_result"
    }
   ],
   "source": [
    "stats.ks_2samp(low_last, high_last)"
   ]
  },
  {
   "cell_type": "code",
   "execution_count": 78,
   "metadata": {},
   "outputs": [
    {
     "data": {
      "image/png": "[encoded data removed]",
      "text/plain": [
       "<Figure size 252x504 with 2 Axes>"
      ]
     },
     "metadata": {},
     "output_type": "display_data"
    }
   ],
   "source": [
    "f, ax = plt.subplots(2,1, figsize = (w,h), sharey = True)\n",
    "\n",
    "i=0\n",
    "for v, sub in summary.groupby('visit'):\n",
    "    sns.violinplot(x='lightLevel', y='median_acc', data = sub, \n",
    "                   inner = None, \n",
    "                   palette=['mediumpurple','orange'], \n",
    "                   linewidth = 0.5,\n",
    "                   ax=ax[i])\n",
    "    sns.boxplot(x='lightLevel', y='median_acc', data = sub, \n",
    "                width = 0.2,\n",
    "                linewidth = 0.5,\n",
    "                fliersize = 0,\n",
    "                ax=ax[i])\n",
    "    sns.swarmplot(x='lightLevel', y='median_acc', data = sub,\n",
    "                size=2, \n",
    "                  color=\"0.3\",\n",
    "                  linewidth=0,\n",
    "                  ax=ax[i])\n",
    "    i+=1\n",
    "plt.tight_layout()\n",
    "\n",
    "for axes in ax:\n",
    "    axes.set_yticklabels(['{:.2f}'.format(float(t.get_text())) for t in axes.get_yticklabels()[1:-1]])\n",
    "\n",
    "f.savefig('./dataFolders/Output/KinematicAnalysis_Final/Figures/mothCentricAcceleration_withoutLabels.pdf')"
   ]
  },
  {
   "cell_type": "code",
   "execution_count": 37,
   "metadata": {},
   "outputs": [
    {
     "name": "stdout",
     "output_type": "stream",
     "text": [
      "MannwhitneyuResult(statistic=170.0, pvalue=0.30112122997933066)\n",
      "MannwhitneyuResult(statistic=159.0, pvalue=0.46847793383497877)\n",
      "Ks_2sampResult(statistic=0.16666666666666666, pvalue=0.9100418854707246)\n",
      "Ks_2sampResult(statistic=0.2222222222222222, pvalue=0.7810478607409853)\n"
     ]
    }
   ],
   "source": [
    "low_first = summary[(summary.lightLevel == 'L0.1') & (summary.visit == 'first')].median_acc.values\n",
    "high_first = summary[(summary.lightLevel == 'L50') & (summary.visit == 'first')].median_acc.values\n",
    "\n",
    "low_last = summary[(summary.lightLevel == 'L0.1') & (summary.visit == 'last')].median_acc.values\n",
    "high_last = summary[(summary.lightLevel == 'L50') & (summary.visit == 'last')].median_acc.values\n",
    "\n",
    "print(stats.mannwhitneyu(low_first, high_first))\n",
    "print(stats.mannwhitneyu(low_last, high_last))\n",
    "\n",
    "print(stats.ks_2samp(low_first, high_first))\n",
    "print(stats.ks_2samp(low_last, high_last))"
   ]
  },
  {
   "cell_type": "code",
   "execution_count": 19,
   "metadata": {},
   "outputs": [
    {
     "data": {
      "text/html": [
       "<div>\n",
       "<style scoped>\n",
       "    .dataframe tbody tr th:only-of-type {\n",
       "        vertical-align: middle;\n",
       "    }\n",
       "\n",
       "    .dataframe tbody tr th {\n",
       "        vertical-align: top;\n",
       "    }\n",
       "\n",
       "    .dataframe thead th {\n",
       "        text-align: right;\n",
       "    }\n",
       "</style>\n",
       "<table border=\"1\" class=\"dataframe\">\n",
       "  <thead>\n",
       "    <tr style=\"text-align: right;\">\n",
       "      <th></th>\n",
       "      <th>Unnamed: 0</th>\n",
       "      <th>lightLevel</th>\n",
       "      <th>visit</th>\n",
       "      <th>mothID</th>\n",
       "      <th>median_velocity</th>\n",
       "      <th>median_acc</th>\n",
       "    </tr>\n",
       "  </thead>\n",
       "  <tbody>\n",
       "    <tr>\n",
       "      <td>0</td>\n",
       "      <td>0</td>\n",
       "      <td>L0.1</td>\n",
       "      <td>first</td>\n",
       "      <td>c-3_m2</td>\n",
       "      <td>0.003173</td>\n",
       "      <td>0.001536</td>\n",
       "    </tr>\n",
       "    <tr>\n",
       "      <td>1</td>\n",
       "      <td>1</td>\n",
       "      <td>L0.1</td>\n",
       "      <td>first</td>\n",
       "      <td>c-3_m20</td>\n",
       "      <td>0.004449</td>\n",
       "      <td>0.002606</td>\n",
       "    </tr>\n",
       "    <tr>\n",
       "      <td>2</td>\n",
       "      <td>2</td>\n",
       "      <td>L0.1</td>\n",
       "      <td>first</td>\n",
       "      <td>c-3_m21</td>\n",
       "      <td>0.005255</td>\n",
       "      <td>0.003732</td>\n",
       "    </tr>\n",
       "    <tr>\n",
       "      <td>3</td>\n",
       "      <td>3</td>\n",
       "      <td>L0.1</td>\n",
       "      <td>first</td>\n",
       "      <td>c-3_m22</td>\n",
       "      <td>0.006052</td>\n",
       "      <td>0.004071</td>\n",
       "    </tr>\n",
       "    <tr>\n",
       "      <td>4</td>\n",
       "      <td>4</td>\n",
       "      <td>L0.1</td>\n",
       "      <td>first</td>\n",
       "      <td>c-3_m23</td>\n",
       "      <td>0.005908</td>\n",
       "      <td>0.003117</td>\n",
       "    </tr>\n",
       "  </tbody>\n",
       "</table>\n",
       "</div>"
      ],
      "text/plain": [
       "   Unnamed: 0 lightLevel  visit   mothID  median_velocity  median_acc\n",
       "0           0       L0.1  first   c-3_m2         0.003173    0.001536\n",
       "1           1       L0.1  first  c-3_m20         0.004449    0.002606\n",
       "2           2       L0.1  first  c-3_m21         0.005255    0.003732\n",
       "3           3       L0.1  first  c-3_m22         0.006052    0.004071\n",
       "4           4       L0.1  first  c-3_m23         0.005908    0.003117"
      ]
     },
     "execution_count": 19,
     "metadata": {},
     "output_type": "execute_result"
    }
   ],
   "source": [
    "summary = pd.read_csv('./dataFolders/Output/KinematicAnalysis_Final/MothCentricVelocity.csv')\n",
    "summary.head()"
   ]
  },
  {
   "cell_type": "code",
   "execution_count": 20,
   "metadata": {},
   "outputs": [
    {
     "name": "stdout",
     "output_type": "stream",
     "text": [
      "Num of moths for first and L0.1 is 21\n",
      "Num of moths for first and L50 is 18\n",
      "Num of moths for last and L0.1 is 18\n",
      "Num of moths for last and L50 is 18\n"
     ]
    }
   ],
   "source": [
    "for v, test_df in summary.groupby('visit'):\n",
    "    for t, final in test_df.groupby('lightLevel'):\n",
    "        l = len(final.mothID.unique())\n",
    "        print('Num of moths for %s and %s is %i' %(v, t, l))"
   ]
  },
  {
   "cell_type": "markdown",
   "metadata": {},
   "source": [
    "## plot the distribution as box plots"
   ]
  },
  {
   "cell_type": "code",
   "execution_count": 11,
   "metadata": {},
   "outputs": [],
   "source": [
    "import seaborn as sns"
   ]
  },
  {
   "cell_type": "code",
   "execution_count": 23,
   "metadata": {},
   "outputs": [
    {
     "data": {
      "text/html": [
       "<div>\n",
       "<style scoped>\n",
       "    .dataframe tbody tr th:only-of-type {\n",
       "        vertical-align: middle;\n",
       "    }\n",
       "\n",
       "    .dataframe tbody tr th {\n",
       "        vertical-align: top;\n",
       "    }\n",
       "\n",
       "    .dataframe thead th {\n",
       "        text-align: right;\n",
       "    }\n",
       "</style>\n",
       "<table border=\"1\" class=\"dataframe\">\n",
       "  <thead>\n",
       "    <tr style=\"text-align: right;\">\n",
       "      <th></th>\n",
       "      <th>Unnamed: 0</th>\n",
       "      <th>lightLevel</th>\n",
       "      <th>visit</th>\n",
       "      <th>mothID</th>\n",
       "      <th>median_velocity</th>\n",
       "      <th>median_acc</th>\n",
       "    </tr>\n",
       "  </thead>\n",
       "  <tbody>\n",
       "    <tr>\n",
       "      <td>0</td>\n",
       "      <td>0</td>\n",
       "      <td>L0.1</td>\n",
       "      <td>first</td>\n",
       "      <td>c-3_m2</td>\n",
       "      <td>0.003173</td>\n",
       "      <td>0.001536</td>\n",
       "    </tr>\n",
       "    <tr>\n",
       "      <td>1</td>\n",
       "      <td>1</td>\n",
       "      <td>L0.1</td>\n",
       "      <td>first</td>\n",
       "      <td>c-3_m20</td>\n",
       "      <td>0.004449</td>\n",
       "      <td>0.002606</td>\n",
       "    </tr>\n",
       "    <tr>\n",
       "      <td>2</td>\n",
       "      <td>2</td>\n",
       "      <td>L0.1</td>\n",
       "      <td>first</td>\n",
       "      <td>c-3_m21</td>\n",
       "      <td>0.005255</td>\n",
       "      <td>0.003732</td>\n",
       "    </tr>\n",
       "    <tr>\n",
       "      <td>3</td>\n",
       "      <td>3</td>\n",
       "      <td>L0.1</td>\n",
       "      <td>first</td>\n",
       "      <td>c-3_m22</td>\n",
       "      <td>0.006052</td>\n",
       "      <td>0.004071</td>\n",
       "    </tr>\n",
       "    <tr>\n",
       "      <td>4</td>\n",
       "      <td>4</td>\n",
       "      <td>L0.1</td>\n",
       "      <td>first</td>\n",
       "      <td>c-3_m23</td>\n",
       "      <td>0.005908</td>\n",
       "      <td>0.003117</td>\n",
       "    </tr>\n",
       "  </tbody>\n",
       "</table>\n",
       "</div>"
      ],
      "text/plain": [
       "   Unnamed: 0 lightLevel  visit   mothID  median_velocity  median_acc\n",
       "0           0       L0.1  first   c-3_m2         0.003173    0.001536\n",
       "1           1       L0.1  first  c-3_m20         0.004449    0.002606\n",
       "2           2       L0.1  first  c-3_m21         0.005255    0.003732\n",
       "3           3       L0.1  first  c-3_m22         0.006052    0.004071\n",
       "4           4       L0.1  first  c-3_m23         0.005908    0.003117"
      ]
     },
     "execution_count": 23,
     "metadata": {},
     "output_type": "execute_result"
    }
   ],
   "source": [
    "summary = pd.read_csv('./dataFolders/Output/KinematicAnalysis_Final/MothCentricVelocity.csv')\n",
    "# fix the exponents - \n",
    "summary['median_velocity'] = summary['median_velocity']*1e4\n",
    "summary['median_acc'] = summary['median_acc']*1e6\n",
    "summary.head()"
   ]
  },
  {
   "cell_type": "code",
   "execution_count": 24,
   "metadata": {},
   "outputs": [
    {
     "data": {
      "text/html": [
       "<div>\n",
       "<style scoped>\n",
       "    .dataframe tbody tr th:only-of-type {\n",
       "        vertical-align: middle;\n",
       "    }\n",
       "\n",
       "    .dataframe tbody tr th {\n",
       "        vertical-align: top;\n",
       "    }\n",
       "\n",
       "    .dataframe thead th {\n",
       "        text-align: right;\n",
       "    }\n",
       "</style>\n",
       "<table border=\"1\" class=\"dataframe\">\n",
       "  <thead>\n",
       "    <tr style=\"text-align: right;\">\n",
       "      <th></th>\n",
       "      <th>Unnamed: 0</th>\n",
       "      <th>median_velocity</th>\n",
       "      <th>median_acc</th>\n",
       "    </tr>\n",
       "    <tr>\n",
       "      <th>visit</th>\n",
       "      <th></th>\n",
       "      <th></th>\n",
       "      <th></th>\n",
       "    </tr>\n",
       "  </thead>\n",
       "  <tbody>\n",
       "    <tr>\n",
       "      <td>first</td>\n",
       "      <td>27.307692</td>\n",
       "      <td>0.005152</td>\n",
       "      <td>0.00290</td>\n",
       "    </tr>\n",
       "    <tr>\n",
       "      <td>last</td>\n",
       "      <td>47.500000</td>\n",
       "      <td>0.005745</td>\n",
       "      <td>0.00307</td>\n",
       "    </tr>\n",
       "  </tbody>\n",
       "</table>\n",
       "</div>"
      ],
      "text/plain": [
       "       Unnamed: 0  median_velocity  median_acc\n",
       "visit                                         \n",
       "first   27.307692         0.005152     0.00290\n",
       "last    47.500000         0.005745     0.00307"
      ]
     },
     "execution_count": 24,
     "metadata": {},
     "output_type": "execute_result"
    }
   ],
   "source": [
    "summary.groupby('visit').mean()"
   ]
  },
  {
   "cell_type": "code",
   "execution_count": 25,
   "metadata": {},
   "outputs": [],
   "source": [
    "summary.to_csv(r'./dataFolders/Output/KinematicAnalysis_Final/MothCentricVelocity.csv')"
   ]
  },
  {
   "cell_type": "code",
   "execution_count": 6,
   "metadata": {},
   "outputs": [],
   "source": [
    "#define the colors for low and high light levels\n",
    "mc = {'L0.1': 'black', 'L50':'grey' }\n",
    "c = {'L0.1': 'mediumpurple', 'L50':'darkorange'}\n",
    "boxprops = {'edgecolor': 'k', 'linewidth': 2,'alpha': 1}\n",
    "lineprops = {'color': 'k', 'linewidth': 2}\n",
    "capprops = {'linewidth': 0}\n",
    "\n",
    "bkwargs = {'palette': c, 'order': ['L0.1', 'L50']}\n",
    "skwargs =  {'palette': mc, 'order': ['L0.1', 'L50']}\n",
    "boxplot_kwargs = dict({'boxprops': boxprops, 'medianprops': lineprops,\n",
    "                       'whiskerprops': lineprops, 'capprops': capprops,\n",
    "                       'width': 0.4},\n",
    "                      **bkwargs)\n",
    "stripplot_kwargs = dict({'linewidth': 0.6, 'size': 6, 'alpha': 0.8},\n",
    "                        **skwargs)"
   ]
  },
  {
   "cell_type": "code",
   "execution_count": 20,
   "metadata": {},
   "outputs": [],
   "source": [
    "w = 7/2\n",
    "h = w * 2"
   ]
  },
  {
   "cell_type": "code",
   "execution_count": 21,
   "metadata": {},
   "outputs": [
    {
     "data": {
      "image/png": "[encoded data removed]",
      "text/plain": [
       "<Figure size 252x504 with 2 Axes>"
      ]
     },
     "metadata": {
      "needs_background": "light"
     },
     "output_type": "display_data"
    }
   ],
   "source": [
    "f, ax = plt.subplots(2,1, figsize = (w,h), sharey = True)\n",
    "i=0\n",
    "for v, sub in summary.groupby('visit'):\n",
    "    sns.boxplot(ax = ax[i], x='lightLevel', y='median_acc', data = sub, \n",
    "                fliersize=0, **boxplot_kwargs)\n",
    "    sns.stripplot(ax= ax[i], x='lightLevel', y='median_acc', data = sub,\n",
    "                 dodge=True, **stripplot_kwargs)\n",
    "    i+=1\n",
    "plt.tight_layout()\n",
    "\n",
    "for axes in ax:\n",
    "    axes.set_yticklabels(['{:.4f}'.format(float(t.get_text())) for t in axes.get_yticklabels()[1:-1]])\n",
    "\n",
    "f.savefig('./dataFolders/Output/KinematicAnalysis_Final/Figures/mothCentricAcceleration_boxPlots.pdf')"
   ]
  },
  {
   "cell_type": "code",
   "execution_count": 17,
   "metadata": {
    "scrolled": true
   },
   "outputs": [
    {
     "data": {
      "image/png": "[encoded data removed]",
      "text/plain": [
       "<Figure size 252x504 with 2 Axes>"
      ]
     },
     "metadata": {
      "needs_background": "light"
     },
     "output_type": "display_data"
    }
   ],
   "source": [
    "f, ax = plt.subplots(2,1, figsize = (w,h), sharey = True)\n",
    "i=0\n",
    "for v, sub in summary.groupby('visit'):\n",
    "    sns.boxplot(ax = ax[i], x='lightLevel', y='median_velocity', data = sub, \n",
    "                fliersize=0, **boxplot_kwargs)\n",
    "    sns.stripplot(ax= ax[i], x='lightLevel', y='median_velocity', data = sub,\n",
    "                 dodge=True, **stripplot_kwargs)\n",
    "    i+=1\n",
    "plt.tight_layout()\n",
    "\n",
    "for axes in ax:\n",
    "    axes.set_yticklabels(['{:.4f}'.format(float(t.get_text())) for t in axes.get_yticklabels()[1:-1]])\n",
    "\n",
    "f.savefig('./dataFolders/Output/KinematicAnalysis_Final/Figures/mothCentricVelocity_boxPlots.pdf')"
   ]
  },
  {
   "cell_type": "code",
   "execution_count": null,
   "metadata": {},
   "outputs": [],
   "source": []
  }
 ],
 "metadata": {
  "kernelspec": {
   "display_name": "Python 3",
   "language": "python",
   "name": "python3"
  },
  "language_info": {
   "codemirror_mode": {
    "name": "ipython",
    "version": 3
   },
   "file_extension": ".py",
   "mimetype": "text/x-python",
   "name": "python",
   "nbconvert_exporter": "python",
   "pygments_lexer": "ipython3",
   "version": "3.6.5"
  }
 },
 "nbformat": 4,
 "nbformat_minor": 2
}
