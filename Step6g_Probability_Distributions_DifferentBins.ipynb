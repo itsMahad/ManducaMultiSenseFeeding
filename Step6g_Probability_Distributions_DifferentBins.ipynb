{
 "cells": [
  {
   "cell_type": "code",
   "execution_count": 1,
   "metadata": {},
   "outputs": [],
   "source": [
    "import pandas as pd\n",
    "from scipy import stats\n",
    "import os\n",
    "import glob\n",
    "import numpy as np"
   ]
  },
  {
   "cell_type": "code",
   "execution_count": 2,
   "metadata": {},
   "outputs": [],
   "source": [
    "path = r'G:\\My Drive\\Mahad\\Light Level Experiments\\Data Output from Analysis\\MainVideoProcessingCodes_v4\\Step6_v4\\\\'\n",
    "outpath = r'./dataFolders/Output/Step6_v4/'"
   ]
  },
  {
   "cell_type": "code",
   "execution_count": 3,
   "metadata": {},
   "outputs": [],
   "source": [
    "def in_ranges(x,bins):\n",
    "    return [((x>=y[0])&(x<=y[1])) for y in bins]"
   ]
  },
  {
   "cell_type": "code",
   "execution_count": 4,
   "metadata": {},
   "outputs": [
    {
     "data": {
      "text/html": [
       "<div>\n",
       "<style scoped>\n",
       "    .dataframe tbody tr th:only-of-type {\n",
       "        vertical-align: middle;\n",
       "    }\n",
       "\n",
       "    .dataframe tbody tr th {\n",
       "        vertical-align: top;\n",
       "    }\n",
       "\n",
       "    .dataframe thead th {\n",
       "        text-align: right;\n",
       "    }\n",
       "</style>\n",
       "<table border=\"1\" class=\"dataframe\">\n",
       "  <thead>\n",
       "    <tr style=\"text-align: right;\">\n",
       "      <th></th>\n",
       "      <th>In_Frame</th>\n",
       "      <th>Out_Frame</th>\n",
       "      <th>Proboscis</th>\n",
       "      <th>DiscoveryTime</th>\n",
       "      <th>trialNum</th>\n",
       "      <th>name</th>\n",
       "      <th>zscore</th>\n",
       "      <th>outlier_ID</th>\n",
       "      <th>condition</th>\n",
       "    </tr>\n",
       "  </thead>\n",
       "  <tbody>\n",
       "    <tr>\n",
       "      <td>0</td>\n",
       "      <td>45940</td>\n",
       "      <td>53025</td>\n",
       "      <td>46222.0</td>\n",
       "      <td>2.82</td>\n",
       "      <td>0</td>\n",
       "      <td>L0.1_c-3_m20</td>\n",
       "      <td>0.251222</td>\n",
       "      <td>False</td>\n",
       "      <td>Low</td>\n",
       "    </tr>\n",
       "    <tr>\n",
       "      <td>1</td>\n",
       "      <td>55058</td>\n",
       "      <td>60805</td>\n",
       "      <td>55341.0</td>\n",
       "      <td>2.83</td>\n",
       "      <td>1</td>\n",
       "      <td>L0.1_c-3_m20</td>\n",
       "      <td>0.249691</td>\n",
       "      <td>False</td>\n",
       "      <td>Low</td>\n",
       "    </tr>\n",
       "    <tr>\n",
       "      <td>2</td>\n",
       "      <td>67612</td>\n",
       "      <td>69165</td>\n",
       "      <td>67744.0</td>\n",
       "      <td>1.32</td>\n",
       "      <td>2</td>\n",
       "      <td>L0.1_c-3_m20</td>\n",
       "      <td>0.480929</td>\n",
       "      <td>False</td>\n",
       "      <td>Low</td>\n",
       "    </tr>\n",
       "    <tr>\n",
       "      <td>3</td>\n",
       "      <td>72461</td>\n",
       "      <td>74177</td>\n",
       "      <td>72606.0</td>\n",
       "      <td>1.45</td>\n",
       "      <td>3</td>\n",
       "      <td>L0.1_c-3_m20</td>\n",
       "      <td>0.461021</td>\n",
       "      <td>False</td>\n",
       "      <td>Low</td>\n",
       "    </tr>\n",
       "    <tr>\n",
       "      <td>4</td>\n",
       "      <td>77368</td>\n",
       "      <td>79850</td>\n",
       "      <td>77499.0</td>\n",
       "      <td>1.31</td>\n",
       "      <td>4</td>\n",
       "      <td>L0.1_c-3_m20</td>\n",
       "      <td>0.482460</td>\n",
       "      <td>False</td>\n",
       "      <td>Low</td>\n",
       "    </tr>\n",
       "  </tbody>\n",
       "</table>\n",
       "</div>"
      ],
      "text/plain": [
       "   In_Frame  Out_Frame  Proboscis  DiscoveryTime  trialNum          name  \\\n",
       "0     45940      53025    46222.0           2.82         0  L0.1_c-3_m20   \n",
       "1     55058      60805    55341.0           2.83         1  L0.1_c-3_m20   \n",
       "2     67612      69165    67744.0           1.32         2  L0.1_c-3_m20   \n",
       "3     72461      74177    72606.0           1.45         3  L0.1_c-3_m20   \n",
       "4     77368      79850    77499.0           1.31         4  L0.1_c-3_m20   \n",
       "\n",
       "     zscore  outlier_ID condition  \n",
       "0  0.251222       False       Low  \n",
       "1  0.249691       False       Low  \n",
       "2  0.480929       False       Low  \n",
       "3  0.461021       False       Low  \n",
       "4  0.482460       False       Low  "
      ]
     },
     "execution_count": 4,
     "metadata": {},
     "output_type": "execute_result"
    }
   ],
   "source": [
    "notoutliers = pd.read_csv(path + 'AllLight_EveryMoth_notOutliers.csv')\n",
    "notoutliers['DiscoveryTime'] = notoutliers.DiscoveryTime.div(100,axis = 'index')\n",
    "notoutliers = notoutliers.drop(columns = ['Unnamed: 0', 'Unnamed: 0.1', 'Unnamed: 0.1.1'])\n",
    "notoutliers.head()"
   ]
  },
  {
   "cell_type": "code",
   "execution_count": 5,
   "metadata": {},
   "outputs": [],
   "source": [
    "test = notoutliers.name.str.split('_', expand = True)\n",
    "notoutliers['lightLevel'] = test[0]"
   ]
  },
  {
   "cell_type": "code",
   "execution_count": 6,
   "metadata": {},
   "outputs": [
    {
     "data": {
      "text/plain": [
       "299     4\n",
       "313     9\n",
       "323     8\n",
       "326     2\n",
       "335     2\n",
       "341     8\n",
       "342     9\n",
       "350     2\n",
       "357    10\n",
       "362    16\n",
       "371     4\n",
       "385     1\n",
       "399    14\n",
       "411     0\n",
       "427     4\n",
       "Name: trialNum, dtype: int64"
      ]
     },
     "execution_count": 6,
     "metadata": {},
     "output_type": "execute_result"
    }
   ],
   "source": [
    "# find the visit number that have high exploratoin times\n",
    "notoutliers.loc[(notoutliers['lightLevel']=='L50') & (notoutliers['DiscoveryTime']>15), 'trialNum']"
   ]
  },
  {
   "cell_type": "code",
   "execution_count": 7,
   "metadata": {},
   "outputs": [],
   "source": [
    "Bins = [(0,4), (10,20), (12,22), (14,24), (17,24), (10, 15), (15,20), (20,25)]\n",
    "label = ['(0,4)' ,'(10,20)', '(12,22)', '(14,24)', '(17,24)', '(10, 15)', '(15,20)', '(20,25)']"
   ]
  },
  {
   "cell_type": "code",
   "execution_count": 8,
   "metadata": {},
   "outputs": [],
   "source": [
    "binned = notoutliers['trialNum'].apply(lambda x: pd.Series(in_ranges(x,Bins), label))"
   ]
  },
  {
   "cell_type": "code",
   "execution_count": 9,
   "metadata": {},
   "outputs": [],
   "source": [
    "notoutliers = notoutliers.join(binned)"
   ]
  },
  {
   "cell_type": "code",
   "execution_count": 10,
   "metadata": {},
   "outputs": [
    {
     "name": "stdout",
     "output_type": "stream",
     "text": [
      "L0.1 and (0,4) bin has 75 visits\n",
      "L0.1 and (10,20) bin has 74 visits\n",
      "L0.1 and (12,22) bin has 64 visits\n",
      "L0.1 and (14,24) bin has 57 visits\n",
      "L0.1 and (17,24) bin has 37 visits\n",
      "L0.1 and (10, 15) bin has 50 visits\n",
      "L0.1 and (15,20) bin has 31 visits\n",
      "L0.1 and (20,25) bin has 26 visits\n",
      "L50 and (0,4) bin has 47 visits\n",
      "L50 and (10,20) bin has 37 visits\n",
      "L50 and (12,22) bin has 28 visits\n",
      "L50 and (14,24) bin has 22 visits\n",
      "L50 and (17,24) bin has 14 visits\n",
      "L50 and (10, 15) bin has 27 visits\n",
      "L50 and (15,20) bin has 12 visits\n",
      "L50 and (20,25) bin has 8 visits\n"
     ]
    }
   ],
   "source": [
    "for l, sub_df in notoutliers.groupby('lightLevel'):\n",
    "    for bin_label in label:\n",
    "        sub_sub_df = sub_df[sub_df[bin_label] == True]\n",
    "        n = len(sub_sub_df)\n",
    "        print('%s and %s bin has %i visits' %(l, bin_label, n))     "
   ]
  },
  {
   "cell_type": "code",
   "execution_count": 11,
   "metadata": {},
   "outputs": [],
   "source": [
    "notoutliers = notoutliers.to_csv(outpath + 'AllLight_EveryMoth_notOutliers_withDifferentBins.csv')"
   ]
  },
  {
   "cell_type": "markdown",
   "metadata": {},
   "source": [
    "## generate and store the pde and data for plotting later"
   ]
  },
  {
   "cell_type": "code",
   "execution_count": 12,
   "metadata": {},
   "outputs": [],
   "source": [
    "from scipy.stats import gaussian_kde"
   ]
  },
  {
   "cell_type": "code",
   "execution_count": 13,
   "metadata": {},
   "outputs": [],
   "source": [
    "bin_center = np.linspace(0,40,100)\n",
    "delta = np.diff(bin_center)[0]"
   ]
  },
  {
   "cell_type": "code",
   "execution_count": 14,
   "metadata": {},
   "outputs": [],
   "source": [
    "notoutliers = pd.read_csv(outpath + 'AllLight_EveryMoth_notOutliers_withDifferentBins.csv')"
   ]
  },
  {
   "cell_type": "markdown",
   "metadata": {},
   "source": [
    "### store pde"
   ]
  },
  {
   "cell_type": "code",
   "execution_count": 15,
   "metadata": {},
   "outputs": [],
   "source": [
    "SampleSize = pd.DataFrame(columns = ['L0.1', 'L50'], index = label)\n",
    "pde_df = pd.DataFrame(columns = label, index = bin_center)\n",
    "\n",
    "for l, subdf in notoutliers.groupby('lightLevel'):\n",
    "    for bin_label in label:\n",
    "        df = subdf[subdf[bin_label] == True]\n",
    "        data = df.DiscoveryTime  \n",
    "        SampleSize.loc[bin_label,l] = len(data)\n",
    "        \n",
    "        kde = gaussian_kde(data)\n",
    "        temp = kde.pdf(bin_center)\n",
    "        temp /= delta * np.sum(temp)\n",
    "        pde_df.loc[:,bin_label]=temp\n",
    "    pde_df.to_csv(outpath+ l + '_DifferentBins_pde.csv')\n",
    "SampleSize.to_csv(outpath+ '_DifferentBins_samplesize.csv')"
   ]
  },
  {
   "cell_type": "markdown",
   "metadata": {},
   "source": [
    "## plot the different bins"
   ]
  },
  {
   "cell_type": "code",
   "execution_count": 16,
   "metadata": {},
   "outputs": [],
   "source": [
    "low_pde = pd.read_csv(outpath + 'L0.1' + '_DifferentBins_pde.csv')\n",
    "high_pde = pd.read_csv(outpath + 'L50' + '_DifferentBins_pde.csv')"
   ]
  },
  {
   "cell_type": "code",
   "execution_count": 17,
   "metadata": {},
   "outputs": [
    {
     "data": {
      "text/html": [
       "<div>\n",
       "<style scoped>\n",
       "    .dataframe tbody tr th:only-of-type {\n",
       "        vertical-align: middle;\n",
       "    }\n",
       "\n",
       "    .dataframe tbody tr th {\n",
       "        vertical-align: top;\n",
       "    }\n",
       "\n",
       "    .dataframe thead th {\n",
       "        text-align: right;\n",
       "    }\n",
       "</style>\n",
       "<table border=\"1\" class=\"dataframe\">\n",
       "  <thead>\n",
       "    <tr style=\"text-align: right;\">\n",
       "      <th></th>\n",
       "      <th>Unnamed: 0</th>\n",
       "      <th>(0,4)</th>\n",
       "      <th>(10,20)</th>\n",
       "      <th>(12,22)</th>\n",
       "      <th>(14,24)</th>\n",
       "      <th>(17,24)</th>\n",
       "      <th>(10, 15)</th>\n",
       "      <th>(15,20)</th>\n",
       "      <th>(20,25)</th>\n",
       "    </tr>\n",
       "  </thead>\n",
       "  <tbody>\n",
       "    <tr>\n",
       "      <td>0</td>\n",
       "      <td>0.000000</td>\n",
       "      <td>0.078596</td>\n",
       "      <td>0.105262</td>\n",
       "      <td>0.098388</td>\n",
       "      <td>0.113332</td>\n",
       "      <td>0.124897</td>\n",
       "      <td>0.102269</td>\n",
       "      <td>0.094643</td>\n",
       "      <td>0.124726</td>\n",
       "    </tr>\n",
       "    <tr>\n",
       "      <td>1</td>\n",
       "      <td>0.404040</td>\n",
       "      <td>0.097535</td>\n",
       "      <td>0.122409</td>\n",
       "      <td>0.114451</td>\n",
       "      <td>0.141531</td>\n",
       "      <td>0.157246</td>\n",
       "      <td>0.114098</td>\n",
       "      <td>0.116537</td>\n",
       "      <td>0.152732</td>\n",
       "    </tr>\n",
       "    <tr>\n",
       "      <td>2</td>\n",
       "      <td>0.808081</td>\n",
       "      <td>0.115776</td>\n",
       "      <td>0.137082</td>\n",
       "      <td>0.128575</td>\n",
       "      <td>0.164988</td>\n",
       "      <td>0.183555</td>\n",
       "      <td>0.124129</td>\n",
       "      <td>0.136552</td>\n",
       "      <td>0.174123</td>\n",
       "    </tr>\n",
       "    <tr>\n",
       "      <td>3</td>\n",
       "      <td>1.212121</td>\n",
       "      <td>0.131654</td>\n",
       "      <td>0.148058</td>\n",
       "      <td>0.139691</td>\n",
       "      <td>0.180565</td>\n",
       "      <td>0.199701</td>\n",
       "      <td>0.131777</td>\n",
       "      <td>0.152740</td>\n",
       "      <td>0.186418</td>\n",
       "    </tr>\n",
       "    <tr>\n",
       "      <td>4</td>\n",
       "      <td>1.616162</td>\n",
       "      <td>0.143663</td>\n",
       "      <td>0.154507</td>\n",
       "      <td>0.147011</td>\n",
       "      <td>0.186868</td>\n",
       "      <td>0.203930</td>\n",
       "      <td>0.136620</td>\n",
       "      <td>0.163698</td>\n",
       "      <td>0.189516</td>\n",
       "    </tr>\n",
       "  </tbody>\n",
       "</table>\n",
       "</div>"
      ],
      "text/plain": [
       "   Unnamed: 0     (0,4)   (10,20)   (12,22)   (14,24)   (17,24)  (10, 15)  \\\n",
       "0    0.000000  0.078596  0.105262  0.098388  0.113332  0.124897  0.102269   \n",
       "1    0.404040  0.097535  0.122409  0.114451  0.141531  0.157246  0.114098   \n",
       "2    0.808081  0.115776  0.137082  0.128575  0.164988  0.183555  0.124129   \n",
       "3    1.212121  0.131654  0.148058  0.139691  0.180565  0.199701  0.131777   \n",
       "4    1.616162  0.143663  0.154507  0.147011  0.186868  0.203930  0.136620   \n",
       "\n",
       "    (15,20)   (20,25)  \n",
       "0  0.094643  0.124726  \n",
       "1  0.116537  0.152732  \n",
       "2  0.136552  0.174123  \n",
       "3  0.152740  0.186418  \n",
       "4  0.163698  0.189516  "
      ]
     },
     "execution_count": 17,
     "metadata": {},
     "output_type": "execute_result"
    }
   ],
   "source": [
    "low_pde.head()"
   ]
  },
  {
   "cell_type": "code",
   "execution_count": 18,
   "metadata": {},
   "outputs": [
    {
     "data": {
      "text/html": [
       "<div>\n",
       "<style scoped>\n",
       "    .dataframe tbody tr th:only-of-type {\n",
       "        vertical-align: middle;\n",
       "    }\n",
       "\n",
       "    .dataframe tbody tr th {\n",
       "        vertical-align: top;\n",
       "    }\n",
       "\n",
       "    .dataframe thead th {\n",
       "        text-align: right;\n",
       "    }\n",
       "</style>\n",
       "<table border=\"1\" class=\"dataframe\">\n",
       "  <thead>\n",
       "    <tr style=\"text-align: right;\">\n",
       "      <th></th>\n",
       "      <th>L0.1</th>\n",
       "      <th>L50</th>\n",
       "    </tr>\n",
       "  </thead>\n",
       "  <tbody>\n",
       "    <tr>\n",
       "      <td>(0,4)</td>\n",
       "      <td>75</td>\n",
       "      <td>47</td>\n",
       "    </tr>\n",
       "    <tr>\n",
       "      <td>(10,20)</td>\n",
       "      <td>74</td>\n",
       "      <td>37</td>\n",
       "    </tr>\n",
       "    <tr>\n",
       "      <td>(12,22)</td>\n",
       "      <td>64</td>\n",
       "      <td>28</td>\n",
       "    </tr>\n",
       "    <tr>\n",
       "      <td>(14,24)</td>\n",
       "      <td>57</td>\n",
       "      <td>22</td>\n",
       "    </tr>\n",
       "    <tr>\n",
       "      <td>(17,24)</td>\n",
       "      <td>37</td>\n",
       "      <td>14</td>\n",
       "    </tr>\n",
       "    <tr>\n",
       "      <td>(10, 15)</td>\n",
       "      <td>50</td>\n",
       "      <td>27</td>\n",
       "    </tr>\n",
       "    <tr>\n",
       "      <td>(15,20)</td>\n",
       "      <td>31</td>\n",
       "      <td>12</td>\n",
       "    </tr>\n",
       "    <tr>\n",
       "      <td>(20,25)</td>\n",
       "      <td>26</td>\n",
       "      <td>8</td>\n",
       "    </tr>\n",
       "  </tbody>\n",
       "</table>\n",
       "</div>"
      ],
      "text/plain": [
       "          L0.1  L50\n",
       "(0,4)       75   47\n",
       "(10,20)     74   37\n",
       "(12,22)     64   28\n",
       "(14,24)     57   22\n",
       "(17,24)     37   14\n",
       "(10, 15)    50   27\n",
       "(15,20)     31   12\n",
       "(20,25)     26    8"
      ]
     },
     "execution_count": 18,
     "metadata": {},
     "output_type": "execute_result"
    }
   ],
   "source": [
    "SampleSize"
   ]
  },
  {
   "cell_type": "code",
   "execution_count": 32,
   "metadata": {},
   "outputs": [],
   "source": [
    "import matplotlib.pyplot as plt\n",
    "import matplotlib\n",
    "matplotlib.rcParams['pdf.fonttype'] = 42\n",
    "matplotlib.rcParams['ps.fonttype'] = 42\n",
    "\n",
    "plt.rcParams['font.size'] = '8'"
   ]
  },
  {
   "cell_type": "code",
   "execution_count": 45,
   "metadata": {},
   "outputs": [],
   "source": [
    "def plotPDE(ax, labels, early, late, color_early, color_late, early_data, late_data, p_value, early_N, late_N):\n",
    "    ax.plot(early, labels, color = color_early)\n",
    "    ax.plot([-0.015]*len(early_data), early_data,\n",
    "               '_',\n",
    "               ms = 5,\n",
    "    #                color = color[0], \n",
    "               mec = color_early,\n",
    "               mew = 0.3\n",
    "              )\n",
    "\n",
    "    ax.plot(late, labels, color = color_late)\n",
    "    ax.plot([-0.025]*len(late_data), late_data,\n",
    "               '_',\n",
    "               ms = 5,\n",
    "    #                color = color[0], \n",
    "               mec = color_late,\n",
    "               mew = 0.3\n",
    "              )\n",
    "    \n",
    "    ax.text(0.5, 0.5, 'p = '+'%0.3f' %p_value, transform=ax.transAxes)\n",
    "    ax.text(0.5, 0.7, 'n = ' + str(early_N), transform=ax.transAxes, color = color_early)\n",
    "    ax.text(0.5, 0.6, 'n = ' + str(late_N), transform=ax.transAxes, color = color_late)"
   ]
  },
  {
   "cell_type": "code",
   "execution_count": 63,
   "metadata": {},
   "outputs": [],
   "source": [
    "def selectlist(lst, *indices):\n",
    "    return (lst[i] for i in indices)"
   ]
  },
  {
   "cell_type": "code",
   "execution_count": 69,
   "metadata": {},
   "outputs": [
    {
     "data": {
      "image/png": "[encoded data removed]",
      "text/plain": [
       "<Figure size 504x168 with 8 Axes>"
      ]
     },
     "metadata": {
      "needs_background": "light"
     },
     "output_type": "display_data"
    }
   ],
   "source": [
    "w = 7\n",
    "h = 7/3\n",
    "f1 = plt.figure(figsize = (w,h))\n",
    "\n",
    "bins_set = ['(10,20)', '(12,22)', '(14,24)', '(17,24)']\n",
    "low_early_data=notoutliers.loc[(notoutliers['(0,4)'] == True) & (notoutliers['lightLevel'] == 'L0.1'),\n",
    "                             'DiscoveryTime'].values\n",
    "\n",
    "high_early_data=notoutliers.loc[(notoutliers['(0,4)'] == True) & (notoutliers['lightLevel'] == 'L50'),\n",
    "                             'DiscoveryTime'].values\n",
    "low_early_N = len(low_early_data)\n",
    "high_early_N = len(high_early_data)\n",
    "\n",
    "x_shift = 0\n",
    "for binlabel in bins_set:\n",
    "    high_late_data = notoutliers.loc[(notoutliers[binlabel] == True) & (notoutliers['lightLevel'] == 'L50'),\n",
    "                             'DiscoveryTime'].values\n",
    "    low_late_data = notoutliers.loc[(notoutliers[binlabel] == True) & (notoutliers['lightLevel'] == 'L0.1'),\n",
    "                             'DiscoveryTime'].values\n",
    "    high_late_N = len(high_late_data)\n",
    "    low_late_N = len(low_late_data)\n",
    "    \n",
    "    _,p_high = stats.mannwhitneyu(high_early_data, high_late_data)\n",
    "    _,p_low = stats.mannwhitneyu(low_early_data, low_late_data)\n",
    "    \n",
    "    # plot high light level\n",
    "    ax_high = f1.add_axes((0 + x_shift, 0.5 , 1/4.5, 0.45))\n",
    "    plotPDE(ax_high, high_pde['Unnamed: 0'], high_pde['(0,4)'], high_pde[binlabel], \n",
    "            'green', 'palevioletred',\n",
    "           high_early_data, high_late_data,\n",
    "           p_high, high_early_N, high_late_N)\n",
    "    \n",
    "    ax_high.set_title(binlabel)\n",
    "    \n",
    "    # plot low light level\n",
    "    ax_low = f1.add_axes((0 + x_shift, 0 , 1/4.5, 0.45))\n",
    "    plotPDE(ax_low, low_pde['Unnamed: 0'], low_pde['(0,4)'], low_pde[binlabel], \n",
    "            'green', 'palevioletred',\n",
    "           low_early_data, low_late_data,\n",
    "           p_low, low_early_N, low_late_N)\n",
    "    \n",
    "    \n",
    "    x_shift+=1/4\n",
    "\n",
    "for axes in f1.axes:\n",
    "    axes.set_xlim([-0.04, 0.22])\n",
    "    axes.set_ylim([-0.7, 30])\n",
    "    \n",
    "for axes in list(selectlist(f1.axes, 0,2,4,6)):\n",
    "    axes.set_xticks([])\n",
    "for axes in list(selectlist(f1.axes, 2, 3, 4, 5, 6, 7)):\n",
    "    axes.set_yticks([])\n",
    "f1.savefig('./dataFolders/Output/Step6_v4/Figure/Learning_differentBins.pdf',\n",
    "          bbox_inches = 'tight')"
   ]
  },
  {
   "cell_type": "code",
   "execution_count": 24,
   "metadata": {},
   "outputs": [
    {
     "data": {
      "image/png": "[encoded data removed]",
      "text/plain": [
       "<Figure size 1008x336 with 6 Axes>"
      ]
     },
     "metadata": {
      "needs_background": "light"
     },
     "output_type": "display_data"
    }
   ],
   "source": [
    "w = 7*2\n",
    "h = 7/3*2\n",
    "f2 = plt.figure(figsize = (w,h))\n",
    "\n",
    "bins_set = ['(10, 15)', '(15,20)', '(20,25)']\n",
    "low_early_data=notoutliers.loc[(notoutliers['(0,4)'] == True) & (notoutliers['lightLevel'] == 'L0.1'),\n",
    "                             'DiscoveryTime'].values\n",
    "\n",
    "high_early_data=notoutliers.loc[(notoutliers['(0,4)'] == True) & (notoutliers['lightLevel'] == 'L50'),\n",
    "                             'DiscoveryTime'].values\n",
    "low_early_N = len(low_early_data)\n",
    "high_early_N = len(high_early_data)\n",
    "\n",
    "x_shift = 0\n",
    "for binlabel in bins_set:\n",
    "    high_late_data = notoutliers.loc[(notoutliers[binlabel] == True) & (notoutliers['lightLevel'] == 'L50'),\n",
    "                             'DiscoveryTime'].values\n",
    "    low_late_data = notoutliers.loc[(notoutliers[binlabel] == True) & (notoutliers['lightLevel'] == 'L0.1'),\n",
    "                             'DiscoveryTime'].values\n",
    "    high_late_N = len(high_late_data)\n",
    "    low_late_N = len(low_late_data)\n",
    "    \n",
    "    _,p_high = stats.mannwhitneyu(high_early_data, high_late_data)\n",
    "    _,p_low = stats.mannwhitneyu(low_early_data, low_late_data)\n",
    "    \n",
    "    # plot high light level\n",
    "    ax_high = f2.add_axes((0 + x_shift, 0.5 , 1/4.5, 0.5))\n",
    "    plotPDE(ax_high, high_pde['Unnamed: 0'], high_pde['(0,4)'], high_pde[binlabel], \n",
    "            'green', 'palevioletred',\n",
    "           high_early_data, high_late_data,\n",
    "           p_high, high_early_N, high_late_N)\n",
    "    \n",
    "    ax_high.set_title(binlabel)\n",
    "    \n",
    "    # plot low light level\n",
    "    ax_low = f2.add_axes((0 + x_shift, 0 , 1/4.5, 0.5))\n",
    "    plotPDE(ax_low, low_pde['Unnamed: 0'], low_pde['(0,4)'], low_pde[binlabel], \n",
    "            'green', 'palevioletred',\n",
    "           low_early_data, low_late_data,\n",
    "           p_low, low_early_N, low_late_N)\n",
    "    \n",
    "    \n",
    "    x_shift+=1/4\n",
    "\n",
    "for axes in f1.axes:\n",
    "    axes.set_xlim([-0.04, 0.22])\n",
    "#     ax.set_ylim([y0,y1])\n",
    "#     x0,x1 = ax.get_xlim()\n",
    "    \n",
    "    # print(ax.get_xlim())\n",
    "\n",
    "#     f1.savefig('./dataFolders/Output/Step6_v4/Figure/L0.1_firstLastPDE.pdf')\n",
    "#     f1.clf()"
   ]
  },
  {
   "cell_type": "code",
   "execution_count": null,
   "metadata": {},
   "outputs": [],
   "source": []
  }
 ],
 "metadata": {
  "kernelspec": {
   "display_name": "Python 3",
   "language": "python",
   "name": "python3"
  },
  "language_info": {
   "codemirror_mode": {
    "name": "ipython",
    "version": 3
   },
   "file_extension": ".py",
   "mimetype": "text/x-python",
   "name": "python",
   "nbconvert_exporter": "python",
   "pygments_lexer": "ipython3",
   "version": "3.6.5"
  }
 },
 "nbformat": 4,
 "nbformat_minor": 2
}
