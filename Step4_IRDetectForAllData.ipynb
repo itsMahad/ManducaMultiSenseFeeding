{
 "cells": [
  {
   "cell_type": "code",
   "execution_count": 3,
   "metadata": {},
   "outputs": [],
   "source": [
    "from scipy.signal import butter, lfilter\n",
    "import os, errno\n",
    "from scipy import io\n",
    "import numpy as np\n",
    "import matplotlib.pyplot as plt\n",
    "plt.style.use('ggplot')\n",
    "import pandas as pd\n",
    "import glob"
   ]
  },
  {
   "cell_type": "code",
   "execution_count": 2,
   "metadata": {},
   "outputs": [],
   "source": [
    "def butter_bandpass(lowcut, highcut, fs, order=5):\n",
    "    nyq = 0.5 * fs\n",
    "    low = lowcut / nyq\n",
    "    high = highcut / nyq\n",
    "    b, a = butter(order, [low, high], btype='band')\n",
    "    return b, a\n",
    "\n",
    "def butter_bandpass_filter(data, lowcut, highcut, fs, order=5):\n",
    "    b, a = butter_bandpass(lowcut, highcut, fs, order=order)\n",
    "    y = lfilter(b, a, data)\n",
    "    return y\n",
    "\n",
    "def get_diff(data):\n",
    "    # Sample rate and desired cutoff frequencies (in Hz).\n",
    "    fs = 100.0\n",
    "    lowcut = 3.0\n",
    "    highcut = 49.0\n",
    "\n",
    "    filtered = butter_bandpass_filter(data, lowcut, highcut, fs, order=5)\n",
    "    dF = np.diff(filtered.reshape(-1),n = 1)\n",
    "    detect = dF >=0.1\n",
    "    return(filtered, dF, detect)"
   ]
  },
  {
   "cell_type": "code",
   "execution_count": 3,
   "metadata": {},
   "outputs": [],
   "source": [
    "# read all the data the infrared data\n",
    "\n",
    "path = r'E:\\Downloads\\ManducaMultiSenseData\\IR'\n",
    "sensor_path = [(os.path.join(root, name), name) for root,_,file in os.walk(path)\n",
    "                for name in file\n",
    "                if name.endswith('.mat')]"
   ]
  },
  {
   "cell_type": "code",
   "execution_count": 4,
   "metadata": {},
   "outputs": [
    {
     "data": {
      "image/png": "[encoded data removed]",
      "text/plain": [
       "<Figure size 1440x432 with 1 Axes>"
      ]
     },
     "metadata": {},
     "output_type": "display_data"
    },
    {
     "data": {
      "image/png": "[encoded data removed]",
      "text/plain": [
       "<Figure size 1440x432 with 2 Axes>"
      ]
     },
     "metadata": {},
     "output_type": "display_data"
    }
   ],
   "source": [
    "outpath = r'E:\\Downloads\\ManducaMultiSenseData\\Step4'\n",
    "outpath_fig = r'E:\\Downloads\\ManducaMultiSenseData\\Step4\\Figure'\n",
    "\n",
    "try:\n",
    "    os.makedirs(outpath_fig)\n",
    "except OSError as e:\n",
    "    if e.errno != errno.EEXIST:\n",
    "        raise\n",
    "\n",
    "fig1, ax0 = plt.subplots(figsize = (20,6))\n",
    "fig2, axis0 = plt.subplots(figsize = (20,6))\n",
    "axis1 = axis0.twinx()"
   ]
  },
  {
   "cell_type": "code",
   "execution_count": 5,
   "metadata": {},
   "outputs": [
    {
     "data": {
      "text/plain": [
       "[('E:\\\\Downloads\\\\ManducaMultiSenseData\\\\IR\\\\L0.1_c-3_m10.mat',\n",
       "  'L0.1_c-3_m10.mat'),\n",
       " ('E:\\\\Downloads\\\\ManducaMultiSenseData\\\\IR\\\\L0.1_c-3_m12.mat',\n",
       "  'L0.1_c-3_m12.mat'),\n",
       " ('E:\\\\Downloads\\\\ManducaMultiSenseData\\\\IR\\\\L0.1_c-3_m2.mat',\n",
       "  'L0.1_c-3_m2.mat'),\n",
       " ('E:\\\\Downloads\\\\ManducaMultiSenseData\\\\IR\\\\L0.1_c-3_m20.mat',\n",
       "  'L0.1_c-3_m20.mat'),\n",
       " ('E:\\\\Downloads\\\\ManducaMultiSenseData\\\\IR\\\\L0.1_c-3_m21.mat',\n",
       "  'L0.1_c-3_m21.mat'),\n",
       " ('E:\\\\Downloads\\\\ManducaMultiSenseData\\\\IR\\\\L0.1_c-3_m22.mat',\n",
       "  'L0.1_c-3_m22.mat'),\n",
       " ('E:\\\\Downloads\\\\ManducaMultiSenseData\\\\IR\\\\L0.1_c-3_m23.mat',\n",
       "  'L0.1_c-3_m23.mat'),\n",
       " ('E:\\\\Downloads\\\\ManducaMultiSenseData\\\\IR\\\\L0.1_c-3_m24.mat',\n",
       "  'L0.1_c-3_m24.mat'),\n",
       " ('E:\\\\Downloads\\\\ManducaMultiSenseData\\\\IR\\\\L0.1_c-3_m25.mat',\n",
       "  'L0.1_c-3_m25.mat'),\n",
       " ('E:\\\\Downloads\\\\ManducaMultiSenseData\\\\IR\\\\L0.1_c-3_m27.mat',\n",
       "  'L0.1_c-3_m27.mat'),\n",
       " ('E:\\\\Downloads\\\\ManducaMultiSenseData\\\\IR\\\\L0.1_c-3_m32.mat',\n",
       "  'L0.1_c-3_m32.mat'),\n",
       " ('E:\\\\Downloads\\\\ManducaMultiSenseData\\\\IR\\\\L0.1_c-3_m34.mat',\n",
       "  'L0.1_c-3_m34.mat'),\n",
       " ('E:\\\\Downloads\\\\ManducaMultiSenseData\\\\IR\\\\L0.1_c-3_m37.mat',\n",
       "  'L0.1_c-3_m37.mat'),\n",
       " ('E:\\\\Downloads\\\\ManducaMultiSenseData\\\\IR\\\\L0.1_c-3_m38.mat',\n",
       "  'L0.1_c-3_m38.mat'),\n",
       " ('E:\\\\Downloads\\\\ManducaMultiSenseData\\\\IR\\\\L0.1_c-3_m39.mat',\n",
       "  'L0.1_c-3_m39.mat'),\n",
       " ('E:\\\\Downloads\\\\ManducaMultiSenseData\\\\IR\\\\L0.1_c-3_m40.mat',\n",
       "  'L0.1_c-3_m40.mat'),\n",
       " ('E:\\\\Downloads\\\\ManducaMultiSenseData\\\\IR\\\\L0.1_c-3_m41.mat',\n",
       "  'L0.1_c-3_m41.mat'),\n",
       " ('E:\\\\Downloads\\\\ManducaMultiSenseData\\\\IR\\\\L0.1_c-3_m43.mat',\n",
       "  'L0.1_c-3_m43.mat'),\n",
       " ('E:\\\\Downloads\\\\ManducaMultiSenseData\\\\IR\\\\L0.1_c-3_m44.mat',\n",
       "  'L0.1_c-3_m44.mat'),\n",
       " ('E:\\\\Downloads\\\\ManducaMultiSenseData\\\\IR\\\\L0.1_c-3_m47.mat',\n",
       "  'L0.1_c-3_m47.mat'),\n",
       " ('E:\\\\Downloads\\\\ManducaMultiSenseData\\\\IR\\\\L0.1_c-3_m48.mat',\n",
       "  'L0.1_c-3_m48.mat'),\n",
       " ('E:\\\\Downloads\\\\ManducaMultiSenseData\\\\IR\\\\L0.1_c-3_m49.mat',\n",
       "  'L0.1_c-3_m49.mat'),\n",
       " ('E:\\\\Downloads\\\\ManducaMultiSenseData\\\\IR\\\\L0.1_c-3_m5.mat',\n",
       "  'L0.1_c-3_m5.mat'),\n",
       " ('E:\\\\Downloads\\\\ManducaMultiSenseData\\\\IR\\\\L0.1_c-3_m50.mat',\n",
       "  'L0.1_c-3_m50.mat'),\n",
       " ('E:\\\\Downloads\\\\ManducaMultiSenseData\\\\IR\\\\L0.1_c-3_m54.mat',\n",
       "  'L0.1_c-3_m54.mat'),\n",
       " ('E:\\\\Downloads\\\\ManducaMultiSenseData\\\\IR\\\\L0.1_c-3_m57.mat',\n",
       "  'L0.1_c-3_m57.mat'),\n",
       " ('E:\\\\Downloads\\\\ManducaMultiSenseData\\\\IR\\\\L0.1_c-3_m8.mat',\n",
       "  'L0.1_c-3_m8.mat'),\n",
       " ('E:\\\\Downloads\\\\ManducaMultiSenseData\\\\IR\\\\L50_c-3_m10.mat',\n",
       "  'L50_c-3_m10.mat'),\n",
       " ('E:\\\\Downloads\\\\ManducaMultiSenseData\\\\IR\\\\L50_c-3_m12.mat',\n",
       "  'L50_c-3_m12.mat'),\n",
       " ('E:\\\\Downloads\\\\ManducaMultiSenseData\\\\IR\\\\L50_c-3_m13.mat',\n",
       "  'L50_c-3_m13.mat'),\n",
       " ('E:\\\\Downloads\\\\ManducaMultiSenseData\\\\IR\\\\L50_c-3_m14.mat',\n",
       "  'L50_c-3_m14.mat'),\n",
       " ('E:\\\\Downloads\\\\ManducaMultiSenseData\\\\IR\\\\L50_c-3_m15.mat',\n",
       "  'L50_c-3_m15.mat'),\n",
       " ('E:\\\\Downloads\\\\ManducaMultiSenseData\\\\IR\\\\L50_c-3_m2.mat',\n",
       "  'L50_c-3_m2.mat'),\n",
       " ('E:\\\\Downloads\\\\ManducaMultiSenseData\\\\IR\\\\L50_c-3_m21.mat',\n",
       "  'L50_c-3_m21.mat'),\n",
       " ('E:\\\\Downloads\\\\ManducaMultiSenseData\\\\IR\\\\L50_c-3_m22.mat',\n",
       "  'L50_c-3_m22.mat'),\n",
       " ('E:\\\\Downloads\\\\ManducaMultiSenseData\\\\IR\\\\L50_c-3_m24.mat',\n",
       "  'L50_c-3_m24.mat'),\n",
       " ('E:\\\\Downloads\\\\ManducaMultiSenseData\\\\IR\\\\L50_c-3_m25.mat',\n",
       "  'L50_c-3_m25.mat'),\n",
       " ('E:\\\\Downloads\\\\ManducaMultiSenseData\\\\IR\\\\L50_c-3_m26.mat',\n",
       "  'L50_c-3_m26.mat'),\n",
       " ('E:\\\\Downloads\\\\ManducaMultiSenseData\\\\IR\\\\L50_c-3_m30.mat',\n",
       "  'L50_c-3_m30.mat'),\n",
       " ('E:\\\\Downloads\\\\ManducaMultiSenseData\\\\IR\\\\L50_c-3_m32.mat',\n",
       "  'L50_c-3_m32.mat'),\n",
       " ('E:\\\\Downloads\\\\ManducaMultiSenseData\\\\IR\\\\L50_c-3_m33.mat',\n",
       "  'L50_c-3_m33.mat'),\n",
       " ('E:\\\\Downloads\\\\ManducaMultiSenseData\\\\IR\\\\L50_c-3_m34.mat',\n",
       "  'L50_c-3_m34.mat'),\n",
       " ('E:\\\\Downloads\\\\ManducaMultiSenseData\\\\IR\\\\L50_c-3_m35.mat',\n",
       "  'L50_c-3_m35.mat'),\n",
       " ('E:\\\\Downloads\\\\ManducaMultiSenseData\\\\IR\\\\L50_c-3_m37.mat',\n",
       "  'L50_c-3_m37.mat'),\n",
       " ('E:\\\\Downloads\\\\ManducaMultiSenseData\\\\IR\\\\L50_c-3_m38.mat',\n",
       "  'L50_c-3_m38.mat'),\n",
       " ('E:\\\\Downloads\\\\ManducaMultiSenseData\\\\IR\\\\L50_c-3_m39.mat',\n",
       "  'L50_c-3_m39.mat'),\n",
       " ('E:\\\\Downloads\\\\ManducaMultiSenseData\\\\IR\\\\L50_c-3_m45.mat',\n",
       "  'L50_c-3_m45.mat'),\n",
       " ('E:\\\\Downloads\\\\ManducaMultiSenseData\\\\IR\\\\L50_c-3_m49.mat',\n",
       "  'L50_c-3_m49.mat'),\n",
       " ('E:\\\\Downloads\\\\ManducaMultiSenseData\\\\IR\\\\L50_c-3_m51.mat',\n",
       "  'L50_c-3_m51.mat'),\n",
       " ('E:\\\\Downloads\\\\ManducaMultiSenseData\\\\IR\\\\L50_c-3_m58.mat',\n",
       "  'L50_c-3_m58.mat'),\n",
       " ('E:\\\\Downloads\\\\ManducaMultiSenseData\\\\IR\\\\L50_c-3_m6.mat',\n",
       "  'L50_c-3_m6.mat'),\n",
       " ('E:\\\\Downloads\\\\ManducaMultiSenseData\\\\IR\\\\L50_c-3_m9.mat',\n",
       "  'L50_c-3_m9.mat')]"
      ]
     },
     "execution_count": 5,
     "metadata": {},
     "output_type": "execute_result"
    }
   ],
   "source": [
    "sensor_path"
   ]
  },
  {
   "cell_type": "code",
   "execution_count": 20,
   "metadata": {},
   "outputs": [
    {
     "name": "stdout",
     "output_type": "stream",
     "text": [
      "L0.1_c-3_m10.mat\n"
     ]
    },
    {
     "name": "stderr",
     "output_type": "stream",
     "text": [
      "C:\\Users\\guess\\Anaconda3\\lib\\site-packages\\ipykernel_launcher.py:28: UserWarning: Creating legend with loc=\"best\" can be slow with large amounts of data.\n"
     ]
    },
    {
     "name": "stdout",
     "output_type": "stream",
     "text": [
      "L0.1_c-3_m12.mat\n",
      "L0.1_c-3_m2.mat\n"
     ]
    },
    {
     "name": "stderr",
     "output_type": "stream",
     "text": [
      "C:\\Users\\guess\\Anaconda3\\lib\\site-packages\\ipykernel_launcher.py:28: UserWarning: Creating legend with loc=\"best\" can be slow with large amounts of data.\n"
     ]
    },
    {
     "name": "stdout",
     "output_type": "stream",
     "text": [
      "L0.1_c-3_m20.mat\n"
     ]
    },
    {
     "name": "stderr",
     "output_type": "stream",
     "text": [
      "C:\\Users\\guess\\Anaconda3\\lib\\site-packages\\ipykernel_launcher.py:28: UserWarning: Creating legend with loc=\"best\" can be slow with large amounts of data.\n"
     ]
    },
    {
     "name": "stdout",
     "output_type": "stream",
     "text": [
      "L0.1_c-3_m21.mat\n"
     ]
    },
    {
     "name": "stderr",
     "output_type": "stream",
     "text": [
      "C:\\Users\\guess\\Anaconda3\\lib\\site-packages\\ipykernel_launcher.py:28: UserWarning: Creating legend with loc=\"best\" can be slow with large amounts of data.\n"
     ]
    },
    {
     "name": "stdout",
     "output_type": "stream",
     "text": [
      "L0.1_c-3_m22.mat\n"
     ]
    },
    {
     "name": "stderr",
     "output_type": "stream",
     "text": [
      "C:\\Users\\guess\\Anaconda3\\lib\\site-packages\\ipykernel_launcher.py:28: UserWarning: Creating legend with loc=\"best\" can be slow with large amounts of data.\n"
     ]
    },
    {
     "name": "stdout",
     "output_type": "stream",
     "text": [
      "L0.1_c-3_m23.mat\n"
     ]
    },
    {
     "name": "stderr",
     "output_type": "stream",
     "text": [
      "C:\\Users\\guess\\Anaconda3\\lib\\site-packages\\ipykernel_launcher.py:28: UserWarning: Creating legend with loc=\"best\" can be slow with large amounts of data.\n"
     ]
    },
    {
     "name": "stdout",
     "output_type": "stream",
     "text": [
      "L0.1_c-3_m24.mat\n",
      "L0.1_c-3_m25.mat\n"
     ]
    },
    {
     "name": "stderr",
     "output_type": "stream",
     "text": [
      "C:\\Users\\guess\\Anaconda3\\lib\\site-packages\\ipykernel_launcher.py:28: UserWarning: Creating legend with loc=\"best\" can be slow with large amounts of data.\n"
     ]
    },
    {
     "name": "stdout",
     "output_type": "stream",
     "text": [
      "L0.1_c-3_m27.mat\n",
      "L0.1_c-3_m32.mat\n"
     ]
    },
    {
     "name": "stderr",
     "output_type": "stream",
     "text": [
      "C:\\Users\\guess\\Anaconda3\\lib\\site-packages\\ipykernel_launcher.py:28: UserWarning: Creating legend with loc=\"best\" can be slow with large amounts of data.\n"
     ]
    },
    {
     "name": "stdout",
     "output_type": "stream",
     "text": [
      "L0.1_c-3_m34.mat\n"
     ]
    },
    {
     "name": "stderr",
     "output_type": "stream",
     "text": [
      "C:\\Users\\guess\\Anaconda3\\lib\\site-packages\\ipykernel_launcher.py:28: UserWarning: Creating legend with loc=\"best\" can be slow with large amounts of data.\n"
     ]
    },
    {
     "name": "stdout",
     "output_type": "stream",
     "text": [
      "L0.1_c-3_m37.mat\n"
     ]
    },
    {
     "name": "stderr",
     "output_type": "stream",
     "text": [
      "C:\\Users\\guess\\Anaconda3\\lib\\site-packages\\ipykernel_launcher.py:28: UserWarning: Creating legend with loc=\"best\" can be slow with large amounts of data.\n"
     ]
    },
    {
     "name": "stdout",
     "output_type": "stream",
     "text": [
      "L0.1_c-3_m38.mat\n"
     ]
    },
    {
     "name": "stderr",
     "output_type": "stream",
     "text": [
      "C:\\Users\\guess\\Anaconda3\\lib\\site-packages\\ipykernel_launcher.py:28: UserWarning: Creating legend with loc=\"best\" can be slow with large amounts of data.\n"
     ]
    },
    {
     "name": "stdout",
     "output_type": "stream",
     "text": [
      "L0.1_c-3_m39.mat\n"
     ]
    },
    {
     "name": "stderr",
     "output_type": "stream",
     "text": [
      "C:\\Users\\guess\\Anaconda3\\lib\\site-packages\\ipykernel_launcher.py:28: UserWarning: Creating legend with loc=\"best\" can be slow with large amounts of data.\n"
     ]
    },
    {
     "name": "stdout",
     "output_type": "stream",
     "text": [
      "L0.1_c-3_m40.mat\n"
     ]
    },
    {
     "name": "stderr",
     "output_type": "stream",
     "text": [
      "C:\\Users\\guess\\Anaconda3\\lib\\site-packages\\ipykernel_launcher.py:28: UserWarning: Creating legend with loc=\"best\" can be slow with large amounts of data.\n"
     ]
    },
    {
     "name": "stdout",
     "output_type": "stream",
     "text": [
      "L0.1_c-3_m41.mat\n"
     ]
    },
    {
     "name": "stderr",
     "output_type": "stream",
     "text": [
      "C:\\Users\\guess\\Anaconda3\\lib\\site-packages\\ipykernel_launcher.py:28: UserWarning: Creating legend with loc=\"best\" can be slow with large amounts of data.\n"
     ]
    },
    {
     "name": "stdout",
     "output_type": "stream",
     "text": [
      "L0.1_c-3_m43.mat\n"
     ]
    },
    {
     "name": "stderr",
     "output_type": "stream",
     "text": [
      "C:\\Users\\guess\\Anaconda3\\lib\\site-packages\\ipykernel_launcher.py:28: UserWarning: Creating legend with loc=\"best\" can be slow with large amounts of data.\n"
     ]
    },
    {
     "name": "stdout",
     "output_type": "stream",
     "text": [
      "L0.1_c-3_m44.mat\n"
     ]
    },
    {
     "name": "stderr",
     "output_type": "stream",
     "text": [
      "C:\\Users\\guess\\Anaconda3\\lib\\site-packages\\ipykernel_launcher.py:28: UserWarning: Creating legend with loc=\"best\" can be slow with large amounts of data.\n"
     ]
    },
    {
     "name": "stdout",
     "output_type": "stream",
     "text": [
      "L0.1_c-3_m47.mat\n"
     ]
    },
    {
     "name": "stderr",
     "output_type": "stream",
     "text": [
      "C:\\Users\\guess\\Anaconda3\\lib\\site-packages\\ipykernel_launcher.py:28: UserWarning: Creating legend with loc=\"best\" can be slow with large amounts of data.\n"
     ]
    },
    {
     "name": "stdout",
     "output_type": "stream",
     "text": [
      "L0.1_c-3_m48.mat\n"
     ]
    },
    {
     "name": "stderr",
     "output_type": "stream",
     "text": [
      "C:\\Users\\guess\\Anaconda3\\lib\\site-packages\\ipykernel_launcher.py:28: UserWarning: Creating legend with loc=\"best\" can be slow with large amounts of data.\n"
     ]
    },
    {
     "name": "stdout",
     "output_type": "stream",
     "text": [
      "L0.1_c-3_m49.mat\n"
     ]
    },
    {
     "name": "stderr",
     "output_type": "stream",
     "text": [
      "C:\\Users\\guess\\Anaconda3\\lib\\site-packages\\ipykernel_launcher.py:28: UserWarning: Creating legend with loc=\"best\" can be slow with large amounts of data.\n"
     ]
    },
    {
     "name": "stdout",
     "output_type": "stream",
     "text": [
      "L0.1_c-3_m5.mat\n"
     ]
    },
    {
     "name": "stderr",
     "output_type": "stream",
     "text": [
      "C:\\Users\\guess\\Anaconda3\\lib\\site-packages\\ipykernel_launcher.py:28: UserWarning: Creating legend with loc=\"best\" can be slow with large amounts of data.\n"
     ]
    },
    {
     "name": "stdout",
     "output_type": "stream",
     "text": [
      "L0.1_c-3_m50.mat\n",
      "L0.1_c-3_m54.mat\n"
     ]
    },
    {
     "name": "stderr",
     "output_type": "stream",
     "text": [
      "C:\\Users\\guess\\Anaconda3\\lib\\site-packages\\ipykernel_launcher.py:28: UserWarning: Creating legend with loc=\"best\" can be slow with large amounts of data.\n"
     ]
    },
    {
     "name": "stdout",
     "output_type": "stream",
     "text": [
      "L0.1_c-3_m57.mat\n"
     ]
    },
    {
     "name": "stderr",
     "output_type": "stream",
     "text": [
      "C:\\Users\\guess\\Anaconda3\\lib\\site-packages\\ipykernel_launcher.py:28: UserWarning: Creating legend with loc=\"best\" can be slow with large amounts of data.\n"
     ]
    },
    {
     "name": "stdout",
     "output_type": "stream",
     "text": [
      "L0.1_c-3_m8.mat\n"
     ]
    },
    {
     "name": "stderr",
     "output_type": "stream",
     "text": [
      "C:\\Users\\guess\\Anaconda3\\lib\\site-packages\\ipykernel_launcher.py:28: UserWarning: Creating legend with loc=\"best\" can be slow with large amounts of data.\n"
     ]
    },
    {
     "name": "stdout",
     "output_type": "stream",
     "text": [
      "L50_c-3_m10.mat\n"
     ]
    },
    {
     "name": "stderr",
     "output_type": "stream",
     "text": [
      "C:\\Users\\guess\\Anaconda3\\lib\\site-packages\\ipykernel_launcher.py:28: UserWarning: Creating legend with loc=\"best\" can be slow with large amounts of data.\n"
     ]
    },
    {
     "name": "stdout",
     "output_type": "stream",
     "text": [
      "L50_c-3_m12.mat\n"
     ]
    },
    {
     "name": "stderr",
     "output_type": "stream",
     "text": [
      "C:\\Users\\guess\\Anaconda3\\lib\\site-packages\\ipykernel_launcher.py:28: UserWarning: Creating legend with loc=\"best\" can be slow with large amounts of data.\n"
     ]
    },
    {
     "name": "stdout",
     "output_type": "stream",
     "text": [
      "L50_c-3_m13.mat\n"
     ]
    },
    {
     "name": "stderr",
     "output_type": "stream",
     "text": [
      "C:\\Users\\guess\\Anaconda3\\lib\\site-packages\\ipykernel_launcher.py:28: UserWarning: Creating legend with loc=\"best\" can be slow with large amounts of data.\n"
     ]
    },
    {
     "name": "stdout",
     "output_type": "stream",
     "text": [
      "L50_c-3_m14.mat\n"
     ]
    },
    {
     "name": "stderr",
     "output_type": "stream",
     "text": [
      "C:\\Users\\guess\\Anaconda3\\lib\\site-packages\\ipykernel_launcher.py:28: UserWarning: Creating legend with loc=\"best\" can be slow with large amounts of data.\n"
     ]
    },
    {
     "name": "stdout",
     "output_type": "stream",
     "text": [
      "L50_c-3_m15.mat\n"
     ]
    },
    {
     "name": "stderr",
     "output_type": "stream",
     "text": [
      "C:\\Users\\guess\\Anaconda3\\lib\\site-packages\\ipykernel_launcher.py:28: UserWarning: Creating legend with loc=\"best\" can be slow with large amounts of data.\n"
     ]
    },
    {
     "name": "stdout",
     "output_type": "stream",
     "text": [
      "L50_c-3_m2.mat\n"
     ]
    },
    {
     "name": "stderr",
     "output_type": "stream",
     "text": [
      "C:\\Users\\guess\\Anaconda3\\lib\\site-packages\\ipykernel_launcher.py:28: UserWarning: Creating legend with loc=\"best\" can be slow with large amounts of data.\n"
     ]
    },
    {
     "name": "stdout",
     "output_type": "stream",
     "text": [
      "L50_c-3_m21.mat\n"
     ]
    },
    {
     "name": "stderr",
     "output_type": "stream",
     "text": [
      "C:\\Users\\guess\\Anaconda3\\lib\\site-packages\\ipykernel_launcher.py:28: UserWarning: Creating legend with loc=\"best\" can be slow with large amounts of data.\n"
     ]
    },
    {
     "name": "stdout",
     "output_type": "stream",
     "text": [
      "L50_c-3_m22.mat\n"
     ]
    },
    {
     "name": "stderr",
     "output_type": "stream",
     "text": [
      "C:\\Users\\guess\\Anaconda3\\lib\\site-packages\\ipykernel_launcher.py:28: UserWarning: Creating legend with loc=\"best\" can be slow with large amounts of data.\n"
     ]
    },
    {
     "name": "stdout",
     "output_type": "stream",
     "text": [
      "L50_c-3_m24.mat\n"
     ]
    },
    {
     "name": "stderr",
     "output_type": "stream",
     "text": [
      "C:\\Users\\guess\\Anaconda3\\lib\\site-packages\\ipykernel_launcher.py:28: UserWarning: Creating legend with loc=\"best\" can be slow with large amounts of data.\n"
     ]
    },
    {
     "name": "stdout",
     "output_type": "stream",
     "text": [
      "L50_c-3_m25.mat\n",
      "L50_c-3_m26.mat\n"
     ]
    },
    {
     "name": "stderr",
     "output_type": "stream",
     "text": [
      "C:\\Users\\guess\\Anaconda3\\lib\\site-packages\\ipykernel_launcher.py:28: UserWarning: Creating legend with loc=\"best\" can be slow with large amounts of data.\n"
     ]
    },
    {
     "name": "stdout",
     "output_type": "stream",
     "text": [
      "L50_c-3_m30.mat\n"
     ]
    },
    {
     "name": "stderr",
     "output_type": "stream",
     "text": [
      "C:\\Users\\guess\\Anaconda3\\lib\\site-packages\\ipykernel_launcher.py:28: UserWarning: Creating legend with loc=\"best\" can be slow with large amounts of data.\n"
     ]
    },
    {
     "name": "stdout",
     "output_type": "stream",
     "text": [
      "L50_c-3_m32.mat\n"
     ]
    },
    {
     "name": "stderr",
     "output_type": "stream",
     "text": [
      "C:\\Users\\guess\\Anaconda3\\lib\\site-packages\\ipykernel_launcher.py:28: UserWarning: Creating legend with loc=\"best\" can be slow with large amounts of data.\n"
     ]
    },
    {
     "name": "stdout",
     "output_type": "stream",
     "text": [
      "L50_c-3_m33.mat\n"
     ]
    },
    {
     "name": "stderr",
     "output_type": "stream",
     "text": [
      "C:\\Users\\guess\\Anaconda3\\lib\\site-packages\\ipykernel_launcher.py:28: UserWarning: Creating legend with loc=\"best\" can be slow with large amounts of data.\n"
     ]
    },
    {
     "name": "stdout",
     "output_type": "stream",
     "text": [
      "L50_c-3_m34.mat\n",
      "L50_c-3_m35.mat\n"
     ]
    },
    {
     "name": "stderr",
     "output_type": "stream",
     "text": [
      "C:\\Users\\guess\\Anaconda3\\lib\\site-packages\\ipykernel_launcher.py:28: UserWarning: Creating legend with loc=\"best\" can be slow with large amounts of data.\n"
     ]
    },
    {
     "name": "stdout",
     "output_type": "stream",
     "text": [
      "L50_c-3_m37.mat\n"
     ]
    },
    {
     "name": "stderr",
     "output_type": "stream",
     "text": [
      "C:\\Users\\guess\\Anaconda3\\lib\\site-packages\\ipykernel_launcher.py:28: UserWarning: Creating legend with loc=\"best\" can be slow with large amounts of data.\n"
     ]
    },
    {
     "name": "stdout",
     "output_type": "stream",
     "text": [
      "L50_c-3_m38.mat\n",
      "L50_c-3_m39.mat\n"
     ]
    },
    {
     "name": "stderr",
     "output_type": "stream",
     "text": [
      "C:\\Users\\guess\\Anaconda3\\lib\\site-packages\\ipykernel_launcher.py:28: UserWarning: Creating legend with loc=\"best\" can be slow with large amounts of data.\n"
     ]
    },
    {
     "name": "stdout",
     "output_type": "stream",
     "text": [
      "L50_c-3_m45.mat\n"
     ]
    },
    {
     "name": "stderr",
     "output_type": "stream",
     "text": [
      "C:\\Users\\guess\\Anaconda3\\lib\\site-packages\\ipykernel_launcher.py:28: UserWarning: Creating legend with loc=\"best\" can be slow with large amounts of data.\n"
     ]
    },
    {
     "name": "stdout",
     "output_type": "stream",
     "text": [
      "L50_c-3_m49.mat\n"
     ]
    },
    {
     "name": "stderr",
     "output_type": "stream",
     "text": [
      "C:\\Users\\guess\\Anaconda3\\lib\\site-packages\\ipykernel_launcher.py:28: UserWarning: Creating legend with loc=\"best\" can be slow with large amounts of data.\n"
     ]
    },
    {
     "name": "stdout",
     "output_type": "stream",
     "text": [
      "L50_c-3_m51.mat\n",
      "L50_c-3_m58.mat\n",
      "L50_c-3_m6.mat\n"
     ]
    },
    {
     "name": "stderr",
     "output_type": "stream",
     "text": [
      "C:\\Users\\guess\\Anaconda3\\lib\\site-packages\\ipykernel_launcher.py:28: UserWarning: Creating legend with loc=\"best\" can be slow with large amounts of data.\n"
     ]
    },
    {
     "name": "stdout",
     "output_type": "stream",
     "text": [
      "L50_c-3_m9.mat\n"
     ]
    },
    {
     "name": "stderr",
     "output_type": "stream",
     "text": [
      "C:\\Users\\guess\\Anaconda3\\lib\\site-packages\\ipykernel_launcher.py:28: UserWarning: Creating legend with loc=\"best\" can be slow with large amounts of data.\n"
     ]
    }
   ],
   "source": [
    "for moth in sensor_path:    \n",
    "    sensor = io.loadmat(moth[0])\n",
    "    sensor_fname = moth[1]\n",
    "    IR = sensor['IR']\n",
    "    print(moth[1])\n",
    "    \n",
    "    \n",
    "    if moth[1].startswith('L0.1_c-3_m46_3'):\n",
    "       \n",
    "        cutframe = 1988-1688\n",
    "        IR = IR[cutframe:]\n",
    "\n",
    "\n",
    "\n",
    "    filtered, diff, IRdetect = get_diff(IR)\n",
    "    np.save(outpath + \"\\\\\" + sensor_fname + '_IRdetect', arr = IRdetect)\n",
    "\n",
    "    # get variables for figure\n",
    "    loadedIRdetect = np.load(outpath + \"\\\\\" + sensor_fname + '_IRdetect.npy')\n",
    "    idx = np.where(loadedIRdetect)\n",
    "    idx = idx[0].reshape(-1)\n",
    "\n",
    "    #create filtered dataset and save the figure\n",
    "    \n",
    "    ax0.plot(IR, zorder = 1, label = 'raw IR')\n",
    "    ax0.plot(filtered, 'b', zorder = 5, label = 'filtered IR')\n",
    "    ax0.legend()\n",
    "    fig1.savefig(outpath_fig + '\\\\' + sensor_fname + '_filteredIR.svg')\n",
    "    ax0.cla()\n",
    "\n",
    "    # create figure with marked events\n",
    "    axis0.plot(filtered,c='blue', zorder = 5, label = 'High pass filtered')\n",
    "    axis0.set_ylabel('IR filtered value (volts)', color ='blue')\n",
    "    axis0.tick_params('y', color ='blue')\n",
    "\n",
    "    axis1.plot(diff, c= 'darkred', zorder = 1, label = 'differential', alpha = 0.5)\n",
    "    axis1.set_ylabel('differentiated trace', color ='darkred')\n",
    "    axis1.tick_params('y', color ='darkred')\n",
    "\n",
    "    axis1.plot(idx, diff[IRdetect], 'o', c = 'darkred')\n",
    "    \n",
    "    fig2.savefig(outpath_fig + '\\\\' + sensor_fname + '_diff_eventmarked.svg')\n",
    "    axis0.cla()\n",
    "    axis1.cla()"
   ]
  },
  {
   "cell_type": "markdown",
   "metadata": {},
   "source": [
    "For videos that are merged"
   ]
  },
  {
   "cell_type": "code",
   "execution_count": 6,
   "metadata": {},
   "outputs": [
    {
     "name": "stdout",
     "output_type": "stream",
     "text": [
      "L0.1_c-3_m37.mat\n",
      "[[0.21591797]\n",
      " [0.21914062]\n",
      " [0.21914062]\n",
      " ...\n",
      " [0.22236328]\n",
      " [0.22236328]\n",
      " [0.22236328]]\n",
      "L0.1_c-3_m38.mat\n",
      "[[0.52851564]\n",
      " [0.52851564]\n",
      " [0.525293  ]\n",
      " ...\n",
      " [0.19013672]\n",
      " [0.19013672]\n",
      " [0.19013672]]\n",
      "L0.1_c-3_m8.mat\n",
      "[[0.41572267]\n",
      " [0.41572267]\n",
      " [0.41572267]\n",
      " ...\n",
      " [0.45117188]\n",
      " [0.45117188]\n",
      " [0.4576172 ]]\n"
     ]
    }
   ],
   "source": [
    "# trouble shoot IR traces for problem visits\n",
    "IR_list = []\n",
    "for moth in sensor_path:    \n",
    "    sensor = io.loadmat(moth[0])\n",
    "    sensor_fname = moth[1]\n",
    "    IR = sensor['IR']\n",
    "    print(moth[1])\n",
    "    \n",
    "    print(sensor['IR'])\n",
    "    \n",
    "    if moth[1].startswith('L0.1_c-3_m46_3'):\n",
    "       \n",
    "        cutframe = 1988-1688\n",
    "        IR = IR[cutframe:]\n",
    "    IR_list.append((IR , sensor_fname))\n",
    "    "
   ]
  },
  {
   "cell_type": "code",
   "execution_count": 42,
   "metadata": {},
   "outputs": [],
   "source": [
    "names = ['L0.1_c-3_m37','L0.1_c-3_m38', 'L0.1_c-3_m8', 'L0.1_c-3_m8']\n",
    "prob = [40050,27933, 67219, 75799]"
   ]
  },
  {
   "cell_type": "code",
   "execution_count": 45,
   "metadata": {},
   "outputs": [
    {
     "data": {
      "text/html": [
       "<div>\n",
       "<style scoped>\n",
       "    .dataframe tbody tr th:only-of-type {\n",
       "        vertical-align: middle;\n",
       "    }\n",
       "\n",
       "    .dataframe tbody tr th {\n",
       "        vertical-align: top;\n",
       "    }\n",
       "\n",
       "    .dataframe thead th {\n",
       "        text-align: right;\n",
       "    }\n",
       "</style>\n",
       "<table border=\"1\" class=\"dataframe\">\n",
       "  <thead>\n",
       "    <tr style=\"text-align: right;\">\n",
       "      <th></th>\n",
       "      <th>pro</th>\n",
       "      <th>name</th>\n",
       "    </tr>\n",
       "  </thead>\n",
       "  <tbody>\n",
       "    <tr>\n",
       "      <th>0</th>\n",
       "      <td>40050</td>\n",
       "      <td>L0.1_c-3_m37</td>\n",
       "    </tr>\n",
       "    <tr>\n",
       "      <th>1</th>\n",
       "      <td>27933</td>\n",
       "      <td>L0.1_c-3_m38</td>\n",
       "    </tr>\n",
       "    <tr>\n",
       "      <th>2</th>\n",
       "      <td>67219</td>\n",
       "      <td>L0.1_c-3_m8</td>\n",
       "    </tr>\n",
       "    <tr>\n",
       "      <th>3</th>\n",
       "      <td>75799</td>\n",
       "      <td>L0.1_c-3_m8</td>\n",
       "    </tr>\n",
       "  </tbody>\n",
       "</table>\n",
       "</div>"
      ],
      "text/plain": [
       "     pro          name\n",
       "0  40050  L0.1_c-3_m37\n",
       "1  27933  L0.1_c-3_m38\n",
       "2  67219   L0.1_c-3_m8\n",
       "3  75799   L0.1_c-3_m8"
      ]
     },
     "execution_count": 45,
     "metadata": {},
     "output_type": "execute_result"
    }
   ],
   "source": [
    "df = pd.DataFrame({\"pro\": prob, \"name\":names})\n",
    "df"
   ]
  },
  {
   "cell_type": "code",
   "execution_count": 62,
   "metadata": {},
   "outputs": [
    {
     "name": "stdout",
     "output_type": "stream",
     "text": [
      "1 [40050]\n",
      "1 [27933]\n",
      "2 [67219 75799]\n"
     ]
    },
    {
     "data": {
      "image/png": "[encoded data removed]",
      "text/plain": [
       "<Figure size 432x288 with 1 Axes>"
      ]
     },
     "metadata": {},
     "output_type": "display_data"
    },
    {
     "data": {
      "image/png": "[encoded data removed]",
      "text/plain": [
       "<Figure size 432x288 with 1 Axes>"
      ]
     },
     "metadata": {},
     "output_type": "display_data"
    },
    {
     "data": {
      "image/png": "[encoded data removed]",
      "text/plain": [
       "<Figure size 432x288 with 1 Axes>"
      ]
     },
     "metadata": {},
     "output_type": "display_data"
    }
   ],
   "source": [
    "for name in IR_list:\n",
    "    figure = plt.figure()\n",
    "    ir = name[0]\n",
    "    \n",
    "    val = df[df.name == name[1][:-4]].pro.values\n",
    "    print(len(val), val)\n",
    "    plt.plot(ir[0:val[0]+10000])\n",
    "    plt.scatter(val, len(val)*[max(ir)], c = 'b')\n",
    "    plt.title(name[1][:-4])\n",
    "    plt.savefig(path + \"//\" + name[1][:-4] +\".png\")"
   ]
  },
  {
   "cell_type": "code",
   "execution_count": 114,
   "metadata": {},
   "outputs": [],
   "source": [
    "#used for combining sections of videos that have dropped frames\n",
    "low_45 = np.concatenate((IR_list[0][0], IR_list[1][0]), axis=0)\n",
    "low_46 = np.concatenate((IR_list[2][0], IR_list[3][0], IR_list[4][0]), axis=0)\n",
    "high_50 = np.concatenate((IR_list[-2][0], IR_list[-1][0]), axis=0)"
   ]
  },
  {
   "cell_type": "code",
   "execution_count": 115,
   "metadata": {},
   "outputs": [],
   "source": [
    "filtered, diff, IRdetect = get_diff(low_45)\n",
    "np.save(outpath + \"\\\\\" + 'L0.1_c-3_m45.mat' + '_IRdetect', arr = IRdetect)\n",
    "filtered, diff, IRdetect = get_diff(low_46)\n",
    "np.save(outpath + \"\\\\\" + 'L0.1_c-3_m46.mat' + '_IRdetect', arr = IRdetect)\n",
    "filtered, diff, IRdetect = get_diff(low_45)\n",
    "np.save(outpath + \"\\\\\" + 'L50_c-3_m50.mat' + '_IRdetect', arr = IRdetect)"
   ]
  },
  {
   "cell_type": "markdown",
   "metadata": {},
   "source": [
    "# "
   ]
  },
  {
   "cell_type": "markdown",
   "metadata": {},
   "source": [
    "## _tanvi_: redoing data for L50_c-3_m50 - that seems like it got copied wrong above"
   ]
  },
  {
   "cell_type": "code",
   "execution_count": 10,
   "metadata": {},
   "outputs": [],
   "source": [
    "data_path = r\"D:\\PaperDrafts_DanielLab\\Multisensory - Light levels Paper\\DataUploadForDryad\\MotionAnalysis_Final\\IR/\"\n",
    "sensor_path = glob.glob(data_path + 'L50_c-3_m50*.mat')"
   ]
  },
  {
   "cell_type": "code",
   "execution_count": 12,
   "metadata": {},
   "outputs": [
    {
     "data": {
      "text/plain": [
       "['D:\\\\PaperDrafts_DanielLab\\\\Multisensory - Light levels Paper\\\\DataUploadForDryad\\\\MotionAnalysis_Final\\\\IR\\\\L50_c-3_m50.mat',\n",
       " 'D:\\\\PaperDrafts_DanielLab\\\\Multisensory - Light levels Paper\\\\DataUploadForDryad\\\\MotionAnalysis_Final\\\\IR\\\\L50_c-3_m50_2.mat']"
      ]
     },
     "execution_count": 12,
     "metadata": {},
     "output_type": "execute_result"
    }
   ],
   "source": [
    "sensor_path"
   ]
  },
  {
   "cell_type": "code",
   "execution_count": 32,
   "metadata": {},
   "outputs": [
    {
     "name": "stdout",
     "output_type": "stream",
     "text": [
      "33083\n",
      "87107\n"
     ]
    }
   ],
   "source": [
    "outpath = r\"D:\\PaperDrafts_DanielLab\\Multisensory - Light levels Paper\\DataUploadForDryad\\MotionAnalysis_Final\\Step4/\"\n",
    "IRlist = []\n",
    "sensor_fname = 'L50_c-3_m50.mat'\n",
    "\n",
    "for moth in sensor_path:    \n",
    "    sensor = io.loadmat(moth)\n",
    "    IR = sensor['IR']\n",
    "    print(len(IR))\n",
    "    IRlist.append(IR)\n",
    "\n",
    "high_50 = np.concatenate((IRlist[0], IRlist[1]), axis=0)\n",
    "filtered, diff, IRdetect = get_diff(high_50)\n",
    "np.save(outpath + \"\\\\\" + sensor_fname + '_IRdetect', arr = IRdetect)\n",
    "\n",
    "#am not creating figures for this one"
   ]
  },
  {
   "cell_type": "code",
   "execution_count": 33,
   "metadata": {},
   "outputs": [
    {
     "data": {
      "text/plain": [
       "(120190, 120190)"
      ]
     },
     "execution_count": 33,
     "metadata": {},
     "output_type": "execute_result"
    }
   ],
   "source": [
    "len(high_50), 33083+87107"
   ]
  },
  {
   "cell_type": "code",
   "execution_count": 34,
   "metadata": {},
   "outputs": [
    {
     "data": {
      "text/plain": [
       "120189"
      ]
     },
     "execution_count": 34,
     "metadata": {},
     "output_type": "execute_result"
    }
   ],
   "source": [
    "len(IRdetect)"
   ]
  }
 ],
 "metadata": {
  "kernelspec": {
   "display_name": "Python 3",
   "language": "python",
   "name": "python3"
  },
  "language_info": {
   "codemirror_mode": {
    "name": "ipython",
    "version": 3
   },
   "file_extension": ".py",
   "mimetype": "text/x-python",
   "name": "python",
   "nbconvert_exporter": "python",
   "pygments_lexer": "ipython3",
   "version": "3.6.5"
  }
 },
 "nbformat": 4,
 "nbformat_minor": 2
}
