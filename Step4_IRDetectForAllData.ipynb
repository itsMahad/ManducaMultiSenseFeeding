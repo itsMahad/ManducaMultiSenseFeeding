{
 "cells": [
  {
   "cell_type": "code",
   "execution_count": 1,
   "metadata": {},
   "outputs": [],
   "source": [
    "from scipy.signal import butter, lfilter\n",
    "import os, errno\n",
    "from scipy import io\n",
    "import numpy as np\n",
    "import matplotlib.pyplot as plt\n",
    "plt.style.use('ggplot')"
   ]
  },
  {
   "cell_type": "code",
   "execution_count": 2,
   "metadata": {},
   "outputs": [],
   "source": [
    "def butter_bandpass(lowcut, highcut, fs, order=5):\n",
    "    nyq = 0.5 * fs\n",
    "    low = lowcut / nyq\n",
    "    high = highcut / nyq\n",
    "    b, a = butter(order, [low, high], btype='band')\n",
    "    return b, a\n",
    "\n",
    "def butter_bandpass_filter(data, lowcut, highcut, fs, order=5):\n",
    "    b, a = butter_bandpass(lowcut, highcut, fs, order=order)\n",
    "    y = lfilter(b, a, data)\n",
    "    return y\n",
    "\n",
    "def get_diff(data):\n",
    "    # Sample rate and desired cutoff frequencies (in Hz).\n",
    "    fs = 100.0\n",
    "    lowcut = 3.0\n",
    "    highcut = 49.0\n",
    "\n",
    "    filtered = butter_bandpass_filter(data, lowcut, highcut, fs, order=5)\n",
    "    dF = np.diff(filtered.reshape(-1),n = 1)\n",
    "    detect = dF >=0.1\n",
    "    return(filtered, dF, detect)"
   ]
  },
  {
   "cell_type": "code",
   "execution_count": 3,
   "metadata": {},
   "outputs": [],
   "source": [
    "# read all the data the infrared data\n",
    "\n",
    "path = '/Users/Mahad/Documents/GitHub/MothLearning-master/Infrared/'\n",
    "sensor_path = [(os.path.join(root, name), name) for root,_,file in os.walk(path)\n",
    "                for name in file\n",
    "                if name.endswith('.mat')]"
   ]
  },
  {
   "cell_type": "code",
   "execution_count": 4,
   "metadata": {},
   "outputs": [
    {
     "data": {
      "image/png": "[encoded data removed]",
      "text/plain": [
       "<matplotlib.figure.Figure at 0x1c0ba33940>"
      ]
     },
     "metadata": {},
     "output_type": "display_data"
    },
    {
     "data": {
      "image/png": "[encoded data removed]",
      "text/plain": [
       "<matplotlib.figure.Figure at 0x1c0ba33978>"
      ]
     },
     "metadata": {},
     "output_type": "display_data"
    }
   ],
   "source": [
    "outpath = '/Users/Mahad/Documents/GitHub/MothLearning-master/Data_From_Step_4/'\n",
    "outpath_fig = '/Users/Mahad/Documents/GitHub/MothLearning-master/Figures_4'\n",
    "\n",
    "try:\n",
    "    os.makedirs(outpath_fig)\n",
    "except OSError as e:\n",
    "    if e.errno != errno.EEXIST:\n",
    "        raise\n",
    "\n",
    "fig1, ax0 = plt.subplots(figsize = (20,6))\n",
    "fig2, axis0 = plt.subplots(figsize = (20,6))\n",
    "axis1 = axis0.twinx()"
   ]
  },
  {
   "cell_type": "code",
   "execution_count": 31,
   "metadata": {},
   "outputs": [
    {
     "name": "stdout",
     "output_type": "stream",
     "text": [
      "L0.1_c-3_m10.mat\n",
      "['__header__', '__version__', '__globals__', 'IR', 'c', 'camera_time', 'inject', 'lux', 'tDetect']\n",
      "L0.1_c-3_m12.mat\n",
      "['__header__', '__version__', '__globals__', 'IR', 'c', 'camera_time', 'inject', 'lux', 'tDetect']\n",
      "L0.1_c-3_m2.mat\n",
      "['__header__', '__version__', '__globals__', 'IR', 'c', 'camera_time', 'inject', 'lux', 'tDetect']\n",
      "L0.1_c-3_m20.mat\n",
      "['__header__', '__version__', '__globals__', 'IR', 'c', 'camera_time', 'inject', 'lux', 'tDetect']\n",
      "L0.1_c-3_m21.mat\n",
      "['__header__', '__version__', '__globals__', 'IR', 'c', 'camera_time', 'inject', 'lux', 'tDetect']\n",
      "L0.1_c-3_m22.mat\n",
      "['__header__', '__version__', '__globals__', 'IR', 'c', 'camera_time', 'inject', 'lux', 'tDetect']\n",
      "L0.1_c-3_m23.mat\n",
      "['__header__', '__version__', '__globals__', 'IR', 'c', 'camera_time', 'inject', 'lux', 'tDetect']\n",
      "L0.1_c-3_m24.mat\n",
      "['__header__', '__version__', '__globals__', 'IR', 'c', 'camera_time', 'inject', 'lux', 'tDetect']\n",
      "L0.1_c-3_m25.mat\n",
      "['__header__', '__version__', '__globals__', 'IR', 'c', 'camera_time', 'inject', 'lux', 'tDetect']\n",
      "L0.1_c-3_m5.mat\n",
      "['__header__', '__version__', '__globals__', 'IR', 'c', 'camera_time', 'inject', 'lux', 'tDetect']\n",
      "L0.1_c-3_m8.mat\n",
      "['__header__', '__version__', '__globals__', 'IR', 'c', 'camera_time', 'inject', 'lux', 'tDetect']\n",
      "L50_c-3_m10.mat\n",
      "['__header__', '__version__', '__globals__', 'IR', 'c', 'camera_time', 'inject', 'lux', 'tDetect']\n",
      "L50_c-3_m12.mat\n",
      "['__header__', '__version__', '__globals__', 'IR', 'c', 'camera_time', 'inject', 'lux', 'tDetect']\n",
      "L50_c-3_m13.mat\n",
      "['__header__', '__version__', '__globals__', 'IR', 'c', 'camera_time', 'inject', 'lux', 'tDetect']\n",
      "L50_c-3_m14.mat\n",
      "['__header__', '__version__', '__globals__', 'IR', 'c', 'camera_time', 'inject', 'lux', 'tDetect']\n",
      "L50_c-3_m15.mat\n",
      "['__header__', '__version__', '__globals__', 'IR', 'c', 'camera_time', 'inject', 'lux', 'tDetect']\n",
      "L50_c-3_m2.mat\n",
      "['__header__', '__version__', '__globals__', 'IR', 'c', 'camera_time', 'inject', 'lux', 'tDetect']\n",
      "L50_c-3_m21.mat\n",
      "['__header__', '__version__', '__globals__', 'IR', 'c', 'camera_time', 'inject', 'lux', 'tDetect']\n",
      "L50_c-3_m22.mat\n",
      "['__header__', '__version__', '__globals__', 'IR', 'c', 'camera_time', 'inject', 'lux', 'tDetect']\n",
      "L50_c-3_m24.mat\n",
      "['__header__', '__version__', '__globals__', 'IR', 'c', 'camera_time', 'inject', 'lux', 'tDetect']\n",
      "L50_c-3_m6.mat\n",
      "['__header__', '__version__', '__globals__', 'IR', 'c', 'camera_time', 'inject', 'lux', 'tDetect']\n"
     ]
    }
   ],
   "source": [
    "for moth in sensor_path:    \n",
    "    sensor = io.loadmat(moth[0])\n",
    "    sensor_fname = moth[1]\n",
    "    IR = len(sensor['IR']\n",
    "    print(moth[1])\n",
    "    print(list(sensor.keys()))\n",
    "#     print(sensor['tDetect'])\n",
    "    \n",
    "#     if moth[0] ends with cut:\n",
    "            # load the total frames of uncut video, load total frames of cut video\n",
    "            # cutFrame = diff(uncut - cut)\n",
    "            # IR = IR[cutframe:]\n",
    "    \n",
    "\n",
    "#     filtered, diff, IRdetect = get_diff(IR)\n",
    "#     np.save(outpath + sensor_fname + '_IRdetect', arr = IRdetect)\n",
    "\n",
    "#     # get variables for figure\n",
    "#     loadedIRdetect = np.load(outpath + sensor_fname + '_IRdetect.npy')\n",
    "#     idx = np.where(loadedIRdetect)\n",
    "#     idx = idx[0].reshape(-1)\n",
    "\n",
    "#     #create filtered dataset and save the figure\n",
    "    \n",
    "#     ax0.plot(IR, zorder = 1, label = 'raw IR')\n",
    "#     ax0.plot(filtered, 'b', zorder = 5, label = 'filtered IR')\n",
    "#     ax0.legend()\n",
    "#     fig1.savefig(outpath_fig + '/' + sensor_fname + '_filteredIR.svg')\n",
    "#     ax0.cla()\n",
    "\n",
    "#     # create figure with marked events\n",
    "#     axis0.plot(filtered,c='blue', zorder = 5, label = 'High pass filtered')\n",
    "#     axis0.set_ylabel('IR filtered value (volts)', color ='blue')\n",
    "#     axis0.tick_params('y', color ='blue')\n",
    "\n",
    "#     axis1.plot(diff, c= 'darkred', zorder = 1, label = 'differential', alpha = 0.5)\n",
    "#     axis1.set_ylabel('differentiated trace', color ='darkred')\n",
    "#     axis1.tick_params('y', color ='darkred')\n",
    "\n",
    "#     axis1.plot(idx, diff[IRdetect], 'o', c = 'darkred')\n",
    "    \n",
    "#     fig2.savefig(outpath_fig + '/' + sensor_fname + '_diff_eventmarked.svg')\n",
    "#     axis0.cla()\n",
    "#     axis1.cla()"
   ]
  },
  {
   "cell_type": "code",
   "execution_count": 36,
   "metadata": {},
   "outputs": [],
   "source": [
    "cutframe = 10\n",
    "IR = sensor['IR']\n",
    "IR_cut = sensor['IR'][cutframe:]"
   ]
  },
  {
   "cell_type": "code",
   "execution_count": 37,
   "metadata": {},
   "outputs": [
    {
     "name": "stdout",
     "output_type": "stream",
     "text": [
      "147828 147818\n"
     ]
    }
   ],
   "source": [
    "print(len(IR), len(IR_cut))"
   ]
  },
  {
   "cell_type": "code",
   "execution_count": null,
   "metadata": {},
   "outputs": [],
   "source": []
  }
 ],
 "metadata": {
  "kernelspec": {
   "display_name": "Python 3",
   "language": "python",
   "name": "python3"
  },
  "language_info": {
   "codemirror_mode": {
    "name": "ipython",
    "version": 3
   },
   "file_extension": ".py",
   "mimetype": "text/x-python",
   "name": "python",
   "nbconvert_exporter": "python",
   "pygments_lexer": "ipython3",
   "version": "3.6.4"
  }
 },
 "nbformat": 4,
 "nbformat_minor": 2
}
