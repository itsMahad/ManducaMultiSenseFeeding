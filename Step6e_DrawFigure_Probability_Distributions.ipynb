{
 "cells": [
  {
   "cell_type": "code",
   "execution_count": 1,
   "metadata": {},
   "outputs": [],
   "source": [
    "import pandas as pd\n",
    "import numpy as np\n",
    "from scipy import stats\n",
    "\n",
    "\n",
    "import matplotlib.pyplot as plt\n",
    "from matplotlib import style\n",
    "import seaborn as sns\n",
    "plt.rcParams['font.sans-serif'] = \"Arial\"\n",
    "plt.rcParams['font.family'] = \"sans-serif\""
   ]
  },
  {
   "cell_type": "code",
   "execution_count": 2,
   "metadata": {},
   "outputs": [],
   "source": [
    "path = r'./dataFolders/Output/Step6_v4/'\n",
    "outpath = r'./dataFolders/Output/Step6_v4/Figure/'"
   ]
  },
  {
   "cell_type": "code",
   "execution_count": 3,
   "metadata": {},
   "outputs": [
    {
     "data": {
      "text/html": [
       "<div>\n",
       "<style scoped>\n",
       "    .dataframe tbody tr th:only-of-type {\n",
       "        vertical-align: middle;\n",
       "    }\n",
       "\n",
       "    .dataframe tbody tr th {\n",
       "        vertical-align: top;\n",
       "    }\n",
       "\n",
       "    .dataframe thead th {\n",
       "        text-align: right;\n",
       "    }\n",
       "</style>\n",
       "<table border=\"1\" class=\"dataframe\">\n",
       "  <thead>\n",
       "    <tr style=\"text-align: right;\">\n",
       "      <th></th>\n",
       "      <th>Unnamed: 0</th>\n",
       "      <th>In_Frame</th>\n",
       "      <th>Out_Frame</th>\n",
       "      <th>Proboscis</th>\n",
       "      <th>DiscoveryTime</th>\n",
       "      <th>trialNum</th>\n",
       "      <th>name</th>\n",
       "      <th>zscore</th>\n",
       "      <th>outlier_ID</th>\n",
       "      <th>condition</th>\n",
       "      <th>...</th>\n",
       "      <th>(5,15)</th>\n",
       "      <th>(10,20)</th>\n",
       "      <th>(15,25)</th>\n",
       "      <th>(20,30)</th>\n",
       "      <th>lightLevel</th>\n",
       "      <th>early</th>\n",
       "      <th>late</th>\n",
       "      <th>early3</th>\n",
       "      <th>late10_high</th>\n",
       "      <th>late10_low</th>\n",
       "    </tr>\n",
       "  </thead>\n",
       "  <tbody>\n",
       "    <tr>\n",
       "      <td>0</td>\n",
       "      <td>0</td>\n",
       "      <td>45940</td>\n",
       "      <td>53025</td>\n",
       "      <td>46222.0</td>\n",
       "      <td>2.82</td>\n",
       "      <td>0</td>\n",
       "      <td>L0.1_c-3_m20</td>\n",
       "      <td>0.251222</td>\n",
       "      <td>False</td>\n",
       "      <td>Low</td>\n",
       "      <td>...</td>\n",
       "      <td>False</td>\n",
       "      <td>False</td>\n",
       "      <td>False</td>\n",
       "      <td>False</td>\n",
       "      <td>L0.1</td>\n",
       "      <td>True</td>\n",
       "      <td>False</td>\n",
       "      <td>True</td>\n",
       "      <td>NaN</td>\n",
       "      <td>False</td>\n",
       "    </tr>\n",
       "    <tr>\n",
       "      <td>1</td>\n",
       "      <td>1</td>\n",
       "      <td>55058</td>\n",
       "      <td>60805</td>\n",
       "      <td>55341.0</td>\n",
       "      <td>2.83</td>\n",
       "      <td>1</td>\n",
       "      <td>L0.1_c-3_m20</td>\n",
       "      <td>0.249691</td>\n",
       "      <td>False</td>\n",
       "      <td>Low</td>\n",
       "      <td>...</td>\n",
       "      <td>False</td>\n",
       "      <td>False</td>\n",
       "      <td>False</td>\n",
       "      <td>False</td>\n",
       "      <td>L0.1</td>\n",
       "      <td>True</td>\n",
       "      <td>False</td>\n",
       "      <td>True</td>\n",
       "      <td>NaN</td>\n",
       "      <td>False</td>\n",
       "    </tr>\n",
       "    <tr>\n",
       "      <td>2</td>\n",
       "      <td>2</td>\n",
       "      <td>67612</td>\n",
       "      <td>69165</td>\n",
       "      <td>67744.0</td>\n",
       "      <td>1.32</td>\n",
       "      <td>2</td>\n",
       "      <td>L0.1_c-3_m20</td>\n",
       "      <td>0.480929</td>\n",
       "      <td>False</td>\n",
       "      <td>Low</td>\n",
       "      <td>...</td>\n",
       "      <td>False</td>\n",
       "      <td>False</td>\n",
       "      <td>False</td>\n",
       "      <td>False</td>\n",
       "      <td>L0.1</td>\n",
       "      <td>True</td>\n",
       "      <td>False</td>\n",
       "      <td>True</td>\n",
       "      <td>NaN</td>\n",
       "      <td>False</td>\n",
       "    </tr>\n",
       "    <tr>\n",
       "      <td>3</td>\n",
       "      <td>3</td>\n",
       "      <td>72461</td>\n",
       "      <td>74177</td>\n",
       "      <td>72606.0</td>\n",
       "      <td>1.45</td>\n",
       "      <td>3</td>\n",
       "      <td>L0.1_c-3_m20</td>\n",
       "      <td>0.461021</td>\n",
       "      <td>False</td>\n",
       "      <td>Low</td>\n",
       "      <td>...</td>\n",
       "      <td>False</td>\n",
       "      <td>False</td>\n",
       "      <td>False</td>\n",
       "      <td>False</td>\n",
       "      <td>L0.1</td>\n",
       "      <td>True</td>\n",
       "      <td>False</td>\n",
       "      <td>False</td>\n",
       "      <td>NaN</td>\n",
       "      <td>False</td>\n",
       "    </tr>\n",
       "    <tr>\n",
       "      <td>4</td>\n",
       "      <td>4</td>\n",
       "      <td>77368</td>\n",
       "      <td>79850</td>\n",
       "      <td>77499.0</td>\n",
       "      <td>1.31</td>\n",
       "      <td>4</td>\n",
       "      <td>L0.1_c-3_m20</td>\n",
       "      <td>0.482460</td>\n",
       "      <td>False</td>\n",
       "      <td>Low</td>\n",
       "      <td>...</td>\n",
       "      <td>False</td>\n",
       "      <td>False</td>\n",
       "      <td>False</td>\n",
       "      <td>False</td>\n",
       "      <td>L0.1</td>\n",
       "      <td>True</td>\n",
       "      <td>False</td>\n",
       "      <td>False</td>\n",
       "      <td>NaN</td>\n",
       "      <td>False</td>\n",
       "    </tr>\n",
       "  </tbody>\n",
       "</table>\n",
       "<p>5 rows × 21 columns</p>\n",
       "</div>"
      ],
      "text/plain": [
       "   Unnamed: 0  In_Frame  Out_Frame  Proboscis  DiscoveryTime  trialNum  \\\n",
       "0           0     45940      53025    46222.0           2.82         0   \n",
       "1           1     55058      60805    55341.0           2.83         1   \n",
       "2           2     67612      69165    67744.0           1.32         2   \n",
       "3           3     72461      74177    72606.0           1.45         3   \n",
       "4           4     77368      79850    77499.0           1.31         4   \n",
       "\n",
       "           name    zscore  outlier_ID condition  ...  (5,15)  (10,20)  \\\n",
       "0  L0.1_c-3_m20  0.251222       False       Low  ...   False    False   \n",
       "1  L0.1_c-3_m20  0.249691       False       Low  ...   False    False   \n",
       "2  L0.1_c-3_m20  0.480929       False       Low  ...   False    False   \n",
       "3  L0.1_c-3_m20  0.461021       False       Low  ...   False    False   \n",
       "4  L0.1_c-3_m20  0.482460       False       Low  ...   False    False   \n",
       "\n",
       "   (15,25)  (20,30)  lightLevel early   late  early3  late10_high late10_low  \n",
       "0    False    False        L0.1  True  False    True          NaN      False  \n",
       "1    False    False        L0.1  True  False    True          NaN      False  \n",
       "2    False    False        L0.1  True  False    True          NaN      False  \n",
       "3    False    False        L0.1  True  False   False          NaN      False  \n",
       "4    False    False        L0.1  True  False   False          NaN      False  \n",
       "\n",
       "[5 rows x 21 columns]"
      ]
     },
     "execution_count": 3,
     "metadata": {},
     "output_type": "execute_result"
    }
   ],
   "source": [
    "data_df = pd.read_csv(path + 'AllLight_EveryMoth_notOutliers_withBins.csv')\n",
    "data_df.head()"
   ]
  },
  {
   "cell_type": "code",
   "execution_count": 7,
   "metadata": {},
   "outputs": [
    {
     "data": {
      "text/plain": [
       "Text(0.5, 0, 'Occurance')"
      ]
     },
     "execution_count": 7,
     "metadata": {},
     "output_type": "execute_result"
    },
    {
     "data": {
      "image/png": "[encoded data removed]",
      "text/plain": [
       "<Figure size 1440x432 with 2 Axes>"
      ]
     },
     "metadata": {
      "needs_background": "light"
     },
     "output_type": "display_data"
    }
   ],
   "source": [
    "hist, bins = np.histogram(data_df.DiscoveryTime.values, bins = 30)\n",
    "\n",
    "fig, ax = plt.subplots(1,2, figsize = (20,6))\n",
    "ax = ax.ravel()\n",
    "\n",
    "ax[0].hist(data_df.DiscoveryTime.values, bins, histtype = 'bar', orientation='horizontal')\n",
    "ax[1].hist(data_df.loc[data_df.lightLevel == 'L0.1', 'DiscoveryTime'].values, bins, \n",
    "          orientation='horizontal', alpha = 0.7, color = 'slateblue')\n",
    "ax[1].hist(data_df.loc[data_df.lightLevel == 'L50', 'DiscoveryTime'].values, bins, \n",
    "          orientation='horizontal', alpha = 0.7, color = 'darkorange')\n",
    "ax[1].set_ylabel('ExplorationTime(second)')\n",
    "ax[1].set_xlabel('Occurance')"
   ]
  },
  {
   "cell_type": "markdown",
   "metadata": {},
   "source": [
    "## plot and so stats for sliding window"
   ]
  },
  {
   "cell_type": "code",
   "execution_count": 8,
   "metadata": {},
   "outputs": [],
   "source": [
    "# get the pdes and sample sizes\n",
    "\n",
    "low_pde_df = pd.read_csv('./dataFolders/Output/Step6_v4/L0.1_pde.csv')\n",
    "high_pde_df = pd.read_csv('./dataFolders/Output/Step6_v4/L50_pde.csv')\n",
    "sample_size = pd.read_csv('./dataFolders/Output/Step6_v4/samplesize.csv')\n",
    "sample_size.index = sample_size['Unnamed: 0']"
   ]
  },
  {
   "cell_type": "code",
   "execution_count": 9,
   "metadata": {},
   "outputs": [],
   "source": [
    "bin_center = np.linspace(0,40,100)\n",
    "delta = np.diff(bin_center)[0]"
   ]
  },
  {
   "cell_type": "code",
   "execution_count": 10,
   "metadata": {},
   "outputs": [
    {
     "data": {
      "image/png": "[encoded data removed]",
      "text/plain": [
       "<Figure size 576x216 with 5 Axes>"
      ]
     },
     "metadata": {
      "needs_background": "light"
     },
     "output_type": "display_data"
    }
   ],
   "source": [
    "w = 8\n",
    "h = 3\n",
    "f, ax = plt.subplots(1,5, figsize = (w,h),\n",
    "                    sharex = True,\n",
    "                    sharey = True)\n",
    "ax = ax.ravel()\n",
    "\n",
    "label = ['(0,10)', '(5,15)', '(10,20)', '(15,25)', '(20,30)']\n",
    "color = ['indigo', 'darkorange']\n",
    "mec = ['midnightblue', 'darkred']\n",
    "\n",
    "i = 0\n",
    "for bin_label in label:\n",
    "    l_low_value = low_pde_df[bin_label]\n",
    "    l_low_data = data_df.loc[(data_df[bin_label] == True) & (data_df['lightLevel'] == 'L0.1'),\n",
    "                             'DiscoveryTime'].values\n",
    "    \n",
    "    l_high_value = high_pde_df[bin_label]\n",
    "    l_high_data = data_df.loc[(data_df[bin_label] == True) & (data_df['lightLevel'] == 'L50'),\n",
    "                             'DiscoveryTime'].values\n",
    "    \n",
    "    ax[i].plot(l_low_value, bin_center, color = color[0])\n",
    "    ax[i].plot(l_high_value, bin_center, color = color[1])\n",
    "    \n",
    "    ax[i].plot([-0.015]*len(l_low_data), l_low_data,\n",
    "               '_',\n",
    "               ms = 5,\n",
    "#                color = color[0], \n",
    "               mec = color[0],\n",
    "               mew = 0.4\n",
    "              )\n",
    "    ax[i].plot([-0.035]*len(l_high_data), l_high_data,\n",
    "               '_',\n",
    "               ms = 5,\n",
    "               mec = color[1],\n",
    "              )\n",
    "    i+=1  "
   ]
  },
  {
   "cell_type": "code",
   "execution_count": 11,
   "metadata": {},
   "outputs": [],
   "source": [
    "# edit the axis\n",
    "\n",
    "for axis in ax:\n",
    "    axis.set_ylim([-1, 30])\n",
    "    axis.set_xlim([-0.05, 0.25])\n",
    "    \n",
    "for bin_label, axis in zip(label, ax):\n",
    "    N_low = sample_size.loc[bin_label, 'L0.1']\n",
    "    N_high = sample_size.loc[bin_label, 'L50']\n",
    "    axis.text(0.09, 17, 'n =' + str(N_low), color = 'indigo',\n",
    "             weight = 'bold', size = 7)\n",
    "    axis.text(0.09, 14, 'n =' + str(N_high), color = 'orangered',\n",
    "             weight = 'bold', size = 7)"
   ]
  },
  {
   "cell_type": "code",
   "execution_count": 12,
   "metadata": {},
   "outputs": [
    {
     "data": {
      "image/png": "[encoded data removed]",
      "text/plain": [
       "<Figure size 576x216 with 5 Axes>"
      ]
     },
     "execution_count": 12,
     "metadata": {},
     "output_type": "execute_result"
    }
   ],
   "source": [
    "f"
   ]
  },
  {
   "cell_type": "code",
   "execution_count": 13,
   "metadata": {},
   "outputs": [],
   "source": [
    "f.savefig('./dataFolders/Output/Step6_v4/Figure/slidingWindow_learningCurves.pdf',\n",
    "         bbox_inches = 'tight')"
   ]
  },
  {
   "cell_type": "markdown",
   "metadata": {},
   "source": [
    "### do the stats on these groups\n",
    "### for sliding window"
   ]
  },
  {
   "cell_type": "code",
   "execution_count": 14,
   "metadata": {},
   "outputs": [],
   "source": [
    "stats_df = pd.DataFrame(index = label, columns = ['mannWhitney', 'ks'])\n",
    "\n",
    "treatment = ['L0.1', 'L50']\n",
    "for bin_label in label:\n",
    "    d1 = data_df.loc[(data_df['lightLevel'] == 'L0.1') & (data_df[bin_label] == True)\n",
    "                     ,'DiscoveryTime'].values\n",
    "    d2 = data_df.loc[(data_df['lightLevel'] == 'L50') & (data_df[bin_label] == True)\n",
    "                     ,'DiscoveryTime'].values\n",
    "    _,Mp = stats.mannwhitneyu(d1, d2)\n",
    "    stats_df.loc[bin_label, 'mannWhitney'] = Mp\n",
    "    _,ks = stats.ks_2samp(d1, d2)\n",
    "    stats_df.loc[bin_label, 'ks'] = ks"
   ]
  },
  {
   "cell_type": "code",
   "execution_count": 15,
   "metadata": {},
   "outputs": [
    {
     "data": {
      "text/html": [
       "<div>\n",
       "<style scoped>\n",
       "    .dataframe tbody tr th:only-of-type {\n",
       "        vertical-align: middle;\n",
       "    }\n",
       "\n",
       "    .dataframe tbody tr th {\n",
       "        vertical-align: top;\n",
       "    }\n",
       "\n",
       "    .dataframe thead th {\n",
       "        text-align: right;\n",
       "    }\n",
       "</style>\n",
       "<table border=\"1\" class=\"dataframe\">\n",
       "  <thead>\n",
       "    <tr style=\"text-align: right;\">\n",
       "      <th></th>\n",
       "      <th>mannWhitney</th>\n",
       "      <th>ks</th>\n",
       "    </tr>\n",
       "  </thead>\n",
       "  <tbody>\n",
       "    <tr>\n",
       "      <td>(0,10)</td>\n",
       "      <td>0.109323</td>\n",
       "      <td>0.186663</td>\n",
       "    </tr>\n",
       "    <tr>\n",
       "      <td>(5,15)</td>\n",
       "      <td>0.00911944</td>\n",
       "      <td>0.0520464</td>\n",
       "    </tr>\n",
       "    <tr>\n",
       "      <td>(10,20)</td>\n",
       "      <td>8.04282e-06</td>\n",
       "      <td>1.01849e-05</td>\n",
       "    </tr>\n",
       "    <tr>\n",
       "      <td>(15,25)</td>\n",
       "      <td>0.000301688</td>\n",
       "      <td>0.000416948</td>\n",
       "    </tr>\n",
       "    <tr>\n",
       "      <td>(20,30)</td>\n",
       "      <td>0.0160479</td>\n",
       "      <td>0.0656067</td>\n",
       "    </tr>\n",
       "  </tbody>\n",
       "</table>\n",
       "</div>"
      ],
      "text/plain": [
       "         mannWhitney           ks\n",
       "(0,10)      0.109323     0.186663\n",
       "(5,15)    0.00911944    0.0520464\n",
       "(10,20)  8.04282e-06  1.01849e-05\n",
       "(15,25)  0.000301688  0.000416948\n",
       "(20,30)    0.0160479    0.0656067"
      ]
     },
     "execution_count": 15,
     "metadata": {},
     "output_type": "execute_result"
    }
   ],
   "source": [
    "stats_df"
   ]
  },
  {
   "cell_type": "code",
   "execution_count": 16,
   "metadata": {},
   "outputs": [],
   "source": [
    "stats_df.to_csv('./dataFolders/Output/Step6_v4/slidingWindow_stats.csv')"
   ]
  },
  {
   "cell_type": "markdown",
   "metadata": {},
   "source": [
    "### do the stats on these groups\n",
    "### for early-late"
   ]
  },
  {
   "cell_type": "code",
   "execution_count": 17,
   "metadata": {},
   "outputs": [],
   "source": [
    "data_df = pd.read_csv('./dataFolders/Output/Step6_v4/AllLight_EveryMoth_notOutliers_withBins.csv')\n",
    "earlyLateStats_df = pd.DataFrame(index = ['L0.1', 'L50'], columns = ['mannWhitney', 'ks'])\n",
    "\n",
    "for l in ['L0.1', 'L50']:\n",
    "    d1 = data_df.loc[(data_df['lightLevel'] == l) & (data_df['early'] == True)\n",
    "                     ,'DiscoveryTime'].values\n",
    "    d2 = data_df.loc[(data_df['lightLevel'] == l) & (data_df['late'] == True)\n",
    "                     ,'DiscoveryTime'].values\n",
    "    \n",
    "    _,Mp = stats.mannwhitneyu(d1, d2)\n",
    "    earlyLateStats_df.loc[l, 'mannWhitney'] = Mp\n",
    "    _,ks = stats.ks_2samp(d1, d2)\n",
    "    earlyLateStats_df.loc[l, 'ks'] = ks"
   ]
  },
  {
   "cell_type": "code",
   "execution_count": 18,
   "metadata": {},
   "outputs": [
    {
     "data": {
      "text/html": [
       "<div>\n",
       "<style scoped>\n",
       "    .dataframe tbody tr th:only-of-type {\n",
       "        vertical-align: middle;\n",
       "    }\n",
       "\n",
       "    .dataframe tbody tr th {\n",
       "        vertical-align: top;\n",
       "    }\n",
       "\n",
       "    .dataframe thead th {\n",
       "        text-align: right;\n",
       "    }\n",
       "</style>\n",
       "<table border=\"1\" class=\"dataframe\">\n",
       "  <thead>\n",
       "    <tr style=\"text-align: right;\">\n",
       "      <th></th>\n",
       "      <th>mannWhitney</th>\n",
       "      <th>ks</th>\n",
       "    </tr>\n",
       "  </thead>\n",
       "  <tbody>\n",
       "    <tr>\n",
       "      <td>L0.1</td>\n",
       "      <td>0.0304354</td>\n",
       "      <td>0.100735</td>\n",
       "    </tr>\n",
       "    <tr>\n",
       "      <td>L50</td>\n",
       "      <td>0.0956147</td>\n",
       "      <td>0.113592</td>\n",
       "    </tr>\n",
       "  </tbody>\n",
       "</table>\n",
       "</div>"
      ],
      "text/plain": [
       "     mannWhitney        ks\n",
       "L0.1   0.0304354  0.100735\n",
       "L50    0.0956147  0.113592"
      ]
     },
     "execution_count": 18,
     "metadata": {},
     "output_type": "execute_result"
    }
   ],
   "source": [
    "earlyLateStats_df"
   ]
  },
  {
   "cell_type": "markdown",
   "metadata": {},
   "source": [
    "## for first-last"
   ]
  },
  {
   "cell_type": "code",
   "execution_count": 23,
   "metadata": {},
   "outputs": [],
   "source": [
    "data_df = pd.read_csv('./dataFolders/Output/Step6_v4/AllLight_EveryMoth_notOutliers_withBins.csv')\n",
    "firstLastStats_df = pd.DataFrame(index = ['L0.1', 'L50'], columns = ['mannWhitney', 'ks'])\n",
    "\n",
    "for l, bl in zip(['L0.1', 'L50'], ['late10_low', 'late10_high']):\n",
    "    d1 = data_df.loc[(data_df['lightLevel'] == l) & (data_df['early3'] == True)\n",
    "                     ,'DiscoveryTime'].values\n",
    "    d2 = data_df.loc[(data_df['lightLevel'] == l) & (data_df[bl] == True)\n",
    "                     ,'DiscoveryTime'].values\n",
    "    \n",
    "    _,Mp = stats.mannwhitneyu(d1, d2)\n",
    "    firstLastStats_df.loc[l, 'mannWhitney'] = Mp\n",
    "    _,ks = stats.ks_2samp(d1, d2)\n",
    "    firstLastStats_df.loc[l, 'ks'] = ks"
   ]
  },
  {
   "cell_type": "code",
   "execution_count": 24,
   "metadata": {},
   "outputs": [
    {
     "data": {
      "text/html": [
       "<div>\n",
       "<style scoped>\n",
       "    .dataframe tbody tr th:only-of-type {\n",
       "        vertical-align: middle;\n",
       "    }\n",
       "\n",
       "    .dataframe tbody tr th {\n",
       "        vertical-align: top;\n",
       "    }\n",
       "\n",
       "    .dataframe thead th {\n",
       "        text-align: right;\n",
       "    }\n",
       "</style>\n",
       "<table border=\"1\" class=\"dataframe\">\n",
       "  <thead>\n",
       "    <tr style=\"text-align: right;\">\n",
       "      <th></th>\n",
       "      <th>mannWhitney</th>\n",
       "      <th>ks</th>\n",
       "    </tr>\n",
       "  </thead>\n",
       "  <tbody>\n",
       "    <tr>\n",
       "      <td>L0.1</td>\n",
       "      <td>0.00168731</td>\n",
       "      <td>0.0371622</td>\n",
       "    </tr>\n",
       "    <tr>\n",
       "      <td>L50</td>\n",
       "      <td>0.0637008</td>\n",
       "      <td>0.147849</td>\n",
       "    </tr>\n",
       "  </tbody>\n",
       "</table>\n",
       "</div>"
      ],
      "text/plain": [
       "     mannWhitney         ks\n",
       "L0.1  0.00168731  0.0371622\n",
       "L50    0.0637008   0.147849"
      ]
     },
     "execution_count": 24,
     "metadata": {},
     "output_type": "execute_result"
    }
   ],
   "source": [
    "firstLastStats_df"
   ]
  },
  {
   "cell_type": "code",
   "execution_count": null,
   "metadata": {},
   "outputs": [],
   "source": []
  }
 ],
 "metadata": {
  "kernelspec": {
   "display_name": "Python 3",
   "language": "python",
   "name": "python3"
  },
  "language_info": {
   "codemirror_mode": {
    "name": "ipython",
    "version": 3
   },
   "file_extension": ".py",
   "mimetype": "text/x-python",
   "name": "python",
   "nbconvert_exporter": "python",
   "pygments_lexer": "ipython3",
   "version": "3.6.5"
  }
 },
 "nbformat": 4,
 "nbformat_minor": 2
}
