{
 "cells": [
  {
   "cell_type": "code",
   "execution_count": 1,
   "metadata": {},
   "outputs": [],
   "source": [
    "import pandas as pd\n",
    "import glob\n",
    "import numpy as np\n",
    "\n",
    "import matplotlib.pyplot as plt\n",
    "from matplotlib import style\n",
    "from matplotlib import cm\n",
    "plt.rcParams['font.sans-serif'] = \"Arial\"\n",
    "plt.rcParams['font.family'] = \"sans-serif\"\n",
    "\n",
    "import seaborn as sns\n",
    "sns.set(style=\"ticks\")\n",
    "from scipy.optimize import curve_fit"
   ]
  },
  {
   "cell_type": "code",
   "execution_count": 2,
   "metadata": {},
   "outputs": [],
   "source": [
    "# Define exponential function func,  \n",
    "# where a = alpha, b = Tau, c = y intercept\n",
    "\n",
    "def fit_to_exponential(x, a, b, c):\n",
    "     return a * np.exp(-(x / b)) + c"
   ]
  },
  {
   "cell_type": "code",
   "execution_count": 3,
   "metadata": {},
   "outputs": [],
   "source": [
    "def linearRegression(df):\n",
    "    x = df[df.DiscoveryTime.notnull()].trialNum.values\n",
    "    y = df[df.DiscoveryTime.notnull()].DiscoveryTime.values\n",
    "\n",
    "    slope, intercept, r_value, p_value, std_err = sc.stats.linregress(x, y)\n",
    "    \n",
    "    return(slope, intercept, r_value, p_value, std_err)"
   ]
  },
  {
   "cell_type": "code",
   "execution_count": 4,
   "metadata": {},
   "outputs": [],
   "source": [
    "direc = r'./dataFolders/Output/Step6_v4/'\n",
    "outpath_fig = r'./dataFolders/Output/Step6_v4/Figure/'"
   ]
  },
  {
   "cell_type": "markdown",
   "metadata": {},
   "source": [
    "# Draw the learning curves with the exponential fit"
   ]
  },
  {
   "cell_type": "code",
   "execution_count": 5,
   "metadata": {},
   "outputs": [],
   "source": [
    "def plot_LearningCurve(ax, x, y, \n",
    "                       param_df, \n",
    "                       idx):\n",
    "#                         xlimit = True, ylimit = True, label = False):\n",
    "  \n",
    "    ax.scatter(x,y,\n",
    "               s= 2,\n",
    "               alpha = 0.7,\n",
    "               c = c[idx],\n",
    "               edgecolors= 'none')\n",
    "    \n",
    "    max_trial = max(x)\n",
    "    ix = 1 # pick all the 1/4 length data from the parameter df (because 1/4 length data slope is = 0 across all shapes)\n",
    "    a0 = param_df.loc[ix,'alpha']\n",
    "    mean_y0 = param_df.loc[ix, 'y_intercept']\n",
    "    tau = param_df.loc[ix, 'tau']\n",
    "    \n",
    "    ax.plot(range(0,max_trial),\n",
    "            fit_to_exponential(range(0,max_trial), a0, tau, mean_y0), \n",
    "             color = mc[idx],\n",
    "           linewidth = 1)\n",
    "    \n",
    "    offset_label = 0.01\n",
    "    ax.text(0.47, 0.55 - offset_label\n",
    "             , 'N= ' + str(len(y)) + ' visits' \n",
    "             , transform=ax.transAxes\n",
    "             , verticalalignment='bottom'\n",
    "             , size = 8\n",
    "            , color = 'k')\n",
    "    \n",
    "    ax.set_yticks([0, 10, 20, 30])\n",
    "    ax.set_yticklabels([0, 10, 20, 30])\n",
    "    \n",
    "    ax.set_xticks([0, 10, 20, 30, 40, 50])\n",
    "    ax.set_xticklabels([0, 10, 20, 30, 40, 50])"
   ]
  },
  {
   "cell_type": "code",
   "execution_count": 6,
   "metadata": {},
   "outputs": [],
   "source": [
    "#parameters used for figure making\n",
    "\n",
    "lightLevel = ['L0.1', \"L50\"]\n",
    "\n",
    "#define the colors for low and high light levels\n",
    "mc = ['black', 'grey' ]\n",
    "c = [ 'mediumpurple', 'darkorange']"
   ]
  },
  {
   "cell_type": "code",
   "execution_count": 31,
   "metadata": {},
   "outputs": [
    {
     "data": {
      "text/plain": [
       "<Figure size 129.6x93.6 with 0 Axes>"
      ]
     },
     "metadata": {},
     "output_type": "display_data"
    }
   ],
   "source": [
    "w = 1.8\n",
    "h = 1.3\n",
    "f = plt.figure(figsize = (w,h))"
   ]
  },
  {
   "cell_type": "code",
   "execution_count": 8,
   "metadata": {},
   "outputs": [],
   "source": [
    "data_df = pd.read_csv(direc + 'AllLight_EveryMoth_notOutliers_withBins.csv')"
   ]
  },
  {
   "cell_type": "code",
   "execution_count": 32,
   "metadata": {},
   "outputs": [],
   "source": [
    "# plot the low light level\n",
    "l = lightLevel[0]\n",
    "df = data_df[(data_df.DiscoveryTime.notna()) & (data_df.lightLevel == l)]\n",
    "\n",
    "x = df.trialNum\n",
    "y = df.DiscoveryTime\n",
    "\n",
    "param_file = glob.glob(direc + l + '_FittedParameters' + '_notoutliers' + '.csv')\n",
    "param_df = pd.read_csv(param_file[0])\n",
    "\n",
    "ax = f.add_axes((0, 0 , 1, 1))\n",
    "# marked different bands for the first/last versus early/late\n",
    "ax.axvspan(0, 2, color='green', alpha=0.5)\n",
    "ax.axvspan(38, 48, color='orange', alpha=0.5)\n",
    "\n",
    "plot_LearningCurve(ax, x, y, param_df,0) \n",
    "x0, x1 = ax.get_xlim()\n",
    "y0, y1 = ax.get_ylim()\n",
    "\n",
    "f.savefig('./dataFolders/Output/Step6_v4/Figure/L0.1_learningCurves_firstLast.pdf', bbox = 'tight')\n",
    "f\n",
    "f.clf()"
   ]
  },
  {
   "cell_type": "code",
   "execution_count": 28,
   "metadata": {},
   "outputs": [],
   "source": [
    "# plot the high light level\n",
    "l = lightLevel[1]\n",
    "df = data_df[(data_df.DiscoveryTime.notna()) & (data_df.lightLevel == l)]\n",
    "\n",
    "x = df.trialNum\n",
    "y = df.DiscoveryTime\n",
    "\n",
    "param_file = glob.glob(direc + l + '_FittedParameters' + '_notoutliers' + '.csv')\n",
    "param_df = pd.read_csv(param_file[0])\n",
    "\n",
    "ax = f.add_axes((0, 0 , 1, 1))\n",
    "ax.axvspan(0, 2, color='green', alpha=0.5)\n",
    "ax.axvspan(14, 24, color='orange', alpha=0.5)\n",
    "ax.set_xlim([x0, x1])\n",
    "\n",
    "plot_LearningCurve(ax, x, y, param_df,1) \n",
    "\n",
    "f.savefig('./dataFolders/Output/Step6_v4/Figure/L50_learningCurves_firstLast.pdf', bbox = 'tight')\n",
    "f\n",
    "f.clf()"
   ]
  },
  {
   "cell_type": "markdown",
   "metadata": {},
   "source": [
    "## plot the early and late pde"
   ]
  },
  {
   "cell_type": "code",
   "execution_count": null,
   "metadata": {},
   "outputs": [],
   "source": [
    "w = 1.3\n",
    "h = 1.3\n",
    "f1 = plt.figure(figsize = (w,h))"
   ]
  },
  {
   "cell_type": "code",
   "execution_count": null,
   "metadata": {},
   "outputs": [],
   "source": [
    "low_pde_df = pd.read_csv('./dataFolders/Output/Step6_v4/L0.1_earlyLate_pde.csv')\n",
    "\n",
    "high_pde_df = pd.read_csv('./dataFolders/Output/Step6_v4/L50_earlyLate_pde.csv')\n",
    "\n",
    "sample_size = pd.read_csv('./dataFolders/Output/Step6_v4/earlyLateSamplesize.csv')\n",
    "sample_size.index = sample_size['Unnamed: 0']"
   ]
  },
  {
   "cell_type": "code",
   "execution_count": null,
   "metadata": {},
   "outputs": [],
   "source": [
    "low_early_data = data_df.loc[(data_df.lightLevel == 'L0.1') & (data_df['early'] == True),\n",
    "                            'DiscoveryTime']\n",
    "low_late_data = data_df.loc[(data_df.lightLevel == 'L0.1') & (data_df['late'] == True),\n",
    "                            'DiscoveryTime']\n",
    "high_early_data = data_df.loc[(data_df.lightLevel == 'L50') & (data_df['early'] == True),\n",
    "                            'DiscoveryTime']\n",
    "high_late_data = data_df.loc[(data_df.lightLevel == 'L50') & (data_df['late'] == True),\n",
    "                            'DiscoveryTime']"
   ]
  },
  {
   "cell_type": "code",
   "execution_count": 34,
   "metadata": {},
   "outputs": [
    {
     "name": "stderr",
     "output_type": "stream",
     "text": [
      "C:\\Users\\Tanvi\\AppData\\Local\\Continuum\\anaconda3\\lib\\site-packages\\ipykernel_launcher.py:1: MatplotlibDeprecationWarning: Adding an axes using the same arguments as a previous axes currently reuses the earlier instance.  In a future version, a new instance will always be created and returned.  Meanwhile, this warning can be suppressed, and the future behavior ensured, by passing a unique label to each axes instance.\n",
      "  \"\"\"Entry point for launching an IPython kernel.\n"
     ]
    },
    {
     "ename": "KeyError",
     "evalue": "'early'",
     "output_type": "error",
     "traceback": [
      "\u001b[1;31m---------------------------------------------------------------------------\u001b[0m",
      "\u001b[1;31mKeyError\u001b[0m                                  Traceback (most recent call last)",
      "\u001b[1;32m~\\AppData\\Local\\Continuum\\anaconda3\\lib\\site-packages\\pandas\\core\\indexes\\base.py\u001b[0m in \u001b[0;36mget_loc\u001b[1;34m(self, key, method, tolerance)\u001b[0m\n\u001b[0;32m   2896\u001b[0m             \u001b[1;32mtry\u001b[0m\u001b[1;33m:\u001b[0m\u001b[1;33m\u001b[0m\u001b[0m\n\u001b[1;32m-> 2897\u001b[1;33m                 \u001b[1;32mreturn\u001b[0m \u001b[0mself\u001b[0m\u001b[1;33m.\u001b[0m\u001b[0m_engine\u001b[0m\u001b[1;33m.\u001b[0m\u001b[0mget_loc\u001b[0m\u001b[1;33m(\u001b[0m\u001b[0mkey\u001b[0m\u001b[1;33m)\u001b[0m\u001b[1;33m\u001b[0m\u001b[0m\n\u001b[0m\u001b[0;32m   2898\u001b[0m             \u001b[1;32mexcept\u001b[0m \u001b[0mKeyError\u001b[0m\u001b[1;33m:\u001b[0m\u001b[1;33m\u001b[0m\u001b[0m\n",
      "\u001b[1;32mpandas\\_libs\\index.pyx\u001b[0m in \u001b[0;36mpandas._libs.index.IndexEngine.get_loc\u001b[1;34m()\u001b[0m\n",
      "\u001b[1;32mpandas\\_libs\\index.pyx\u001b[0m in \u001b[0;36mpandas._libs.index.IndexEngine.get_loc\u001b[1;34m()\u001b[0m\n",
      "\u001b[1;32mpandas\\_libs\\hashtable_class_helper.pxi\u001b[0m in \u001b[0;36mpandas._libs.hashtable.PyObjectHashTable.get_item\u001b[1;34m()\u001b[0m\n",
      "\u001b[1;32mpandas\\_libs\\hashtable_class_helper.pxi\u001b[0m in \u001b[0;36mpandas._libs.hashtable.PyObjectHashTable.get_item\u001b[1;34m()\u001b[0m\n",
      "\u001b[1;31mKeyError\u001b[0m: 'early'",
      "\nDuring handling of the above exception, another exception occurred:\n",
      "\u001b[1;31mKeyError\u001b[0m                                  Traceback (most recent call last)",
      "\u001b[1;32m<ipython-input-34-8bea396be96d>\u001b[0m in \u001b[0;36m<module>\u001b[1;34m\u001b[0m\n\u001b[0;32m      1\u001b[0m \u001b[0max\u001b[0m \u001b[1;33m=\u001b[0m \u001b[0mf1\u001b[0m\u001b[1;33m.\u001b[0m\u001b[0madd_axes\u001b[0m\u001b[1;33m(\u001b[0m\u001b[1;33m(\u001b[0m\u001b[1;36m0\u001b[0m\u001b[1;33m,\u001b[0m \u001b[1;36m0\u001b[0m \u001b[1;33m,\u001b[0m \u001b[1;36m1\u001b[0m\u001b[1;33m,\u001b[0m \u001b[1;36m1\u001b[0m\u001b[1;33m)\u001b[0m\u001b[1;33m)\u001b[0m\u001b[1;33m\u001b[0m\u001b[0m\n\u001b[0;32m      2\u001b[0m \u001b[1;33m\u001b[0m\u001b[0m\n\u001b[1;32m----> 3\u001b[1;33m \u001b[0max\u001b[0m\u001b[1;33m.\u001b[0m\u001b[0mplot\u001b[0m\u001b[1;33m(\u001b[0m\u001b[0mlow_pde_df\u001b[0m\u001b[1;33m[\u001b[0m\u001b[1;34m'early'\u001b[0m\u001b[1;33m]\u001b[0m\u001b[1;33m,\u001b[0m \u001b[0mlow_pde_df\u001b[0m\u001b[1;33m[\u001b[0m\u001b[1;34m'Unnamed: 0'\u001b[0m\u001b[1;33m]\u001b[0m\u001b[1;33m,\u001b[0m \u001b[0mcolor\u001b[0m \u001b[1;33m=\u001b[0m \u001b[1;34m'green'\u001b[0m\u001b[1;33m)\u001b[0m\u001b[1;33m\u001b[0m\u001b[0m\n\u001b[0m\u001b[0;32m      4\u001b[0m ax.plot([-0.015]*len(low_early_data), low_early_data,\n\u001b[0;32m      5\u001b[0m            \u001b[1;34m'_'\u001b[0m\u001b[1;33m,\u001b[0m\u001b[1;33m\u001b[0m\u001b[0m\n",
      "\u001b[1;32m~\\AppData\\Local\\Continuum\\anaconda3\\lib\\site-packages\\pandas\\core\\frame.py\u001b[0m in \u001b[0;36m__getitem__\u001b[1;34m(self, key)\u001b[0m\n\u001b[0;32m   2978\u001b[0m             \u001b[1;32mif\u001b[0m \u001b[0mself\u001b[0m\u001b[1;33m.\u001b[0m\u001b[0mcolumns\u001b[0m\u001b[1;33m.\u001b[0m\u001b[0mnlevels\u001b[0m \u001b[1;33m>\u001b[0m \u001b[1;36m1\u001b[0m\u001b[1;33m:\u001b[0m\u001b[1;33m\u001b[0m\u001b[0m\n\u001b[0;32m   2979\u001b[0m                 \u001b[1;32mreturn\u001b[0m \u001b[0mself\u001b[0m\u001b[1;33m.\u001b[0m\u001b[0m_getitem_multilevel\u001b[0m\u001b[1;33m(\u001b[0m\u001b[0mkey\u001b[0m\u001b[1;33m)\u001b[0m\u001b[1;33m\u001b[0m\u001b[0m\n\u001b[1;32m-> 2980\u001b[1;33m             \u001b[0mindexer\u001b[0m \u001b[1;33m=\u001b[0m \u001b[0mself\u001b[0m\u001b[1;33m.\u001b[0m\u001b[0mcolumns\u001b[0m\u001b[1;33m.\u001b[0m\u001b[0mget_loc\u001b[0m\u001b[1;33m(\u001b[0m\u001b[0mkey\u001b[0m\u001b[1;33m)\u001b[0m\u001b[1;33m\u001b[0m\u001b[0m\n\u001b[0m\u001b[0;32m   2981\u001b[0m             \u001b[1;32mif\u001b[0m \u001b[0mis_integer\u001b[0m\u001b[1;33m(\u001b[0m\u001b[0mindexer\u001b[0m\u001b[1;33m)\u001b[0m\u001b[1;33m:\u001b[0m\u001b[1;33m\u001b[0m\u001b[0m\n\u001b[0;32m   2982\u001b[0m                 \u001b[0mindexer\u001b[0m \u001b[1;33m=\u001b[0m \u001b[1;33m[\u001b[0m\u001b[0mindexer\u001b[0m\u001b[1;33m]\u001b[0m\u001b[1;33m\u001b[0m\u001b[0m\n",
      "\u001b[1;32m~\\AppData\\Local\\Continuum\\anaconda3\\lib\\site-packages\\pandas\\core\\indexes\\base.py\u001b[0m in \u001b[0;36mget_loc\u001b[1;34m(self, key, method, tolerance)\u001b[0m\n\u001b[0;32m   2897\u001b[0m                 \u001b[1;32mreturn\u001b[0m \u001b[0mself\u001b[0m\u001b[1;33m.\u001b[0m\u001b[0m_engine\u001b[0m\u001b[1;33m.\u001b[0m\u001b[0mget_loc\u001b[0m\u001b[1;33m(\u001b[0m\u001b[0mkey\u001b[0m\u001b[1;33m)\u001b[0m\u001b[1;33m\u001b[0m\u001b[0m\n\u001b[0;32m   2898\u001b[0m             \u001b[1;32mexcept\u001b[0m \u001b[0mKeyError\u001b[0m\u001b[1;33m:\u001b[0m\u001b[1;33m\u001b[0m\u001b[0m\n\u001b[1;32m-> 2899\u001b[1;33m                 \u001b[1;32mreturn\u001b[0m \u001b[0mself\u001b[0m\u001b[1;33m.\u001b[0m\u001b[0m_engine\u001b[0m\u001b[1;33m.\u001b[0m\u001b[0mget_loc\u001b[0m\u001b[1;33m(\u001b[0m\u001b[0mself\u001b[0m\u001b[1;33m.\u001b[0m\u001b[0m_maybe_cast_indexer\u001b[0m\u001b[1;33m(\u001b[0m\u001b[0mkey\u001b[0m\u001b[1;33m)\u001b[0m\u001b[1;33m)\u001b[0m\u001b[1;33m\u001b[0m\u001b[0m\n\u001b[0m\u001b[0;32m   2900\u001b[0m         \u001b[0mindexer\u001b[0m \u001b[1;33m=\u001b[0m \u001b[0mself\u001b[0m\u001b[1;33m.\u001b[0m\u001b[0mget_indexer\u001b[0m\u001b[1;33m(\u001b[0m\u001b[1;33m[\u001b[0m\u001b[0mkey\u001b[0m\u001b[1;33m]\u001b[0m\u001b[1;33m,\u001b[0m \u001b[0mmethod\u001b[0m\u001b[1;33m=\u001b[0m\u001b[0mmethod\u001b[0m\u001b[1;33m,\u001b[0m \u001b[0mtolerance\u001b[0m\u001b[1;33m=\u001b[0m\u001b[0mtolerance\u001b[0m\u001b[1;33m)\u001b[0m\u001b[1;33m\u001b[0m\u001b[0m\n\u001b[0;32m   2901\u001b[0m         \u001b[1;32mif\u001b[0m \u001b[0mindexer\u001b[0m\u001b[1;33m.\u001b[0m\u001b[0mndim\u001b[0m \u001b[1;33m>\u001b[0m \u001b[1;36m1\u001b[0m \u001b[1;32mor\u001b[0m \u001b[0mindexer\u001b[0m\u001b[1;33m.\u001b[0m\u001b[0msize\u001b[0m \u001b[1;33m>\u001b[0m \u001b[1;36m1\u001b[0m\u001b[1;33m:\u001b[0m\u001b[1;33m\u001b[0m\u001b[0m\n",
      "\u001b[1;32mpandas\\_libs\\index.pyx\u001b[0m in \u001b[0;36mpandas._libs.index.IndexEngine.get_loc\u001b[1;34m()\u001b[0m\n",
      "\u001b[1;32mpandas\\_libs\\index.pyx\u001b[0m in \u001b[0;36mpandas._libs.index.IndexEngine.get_loc\u001b[1;34m()\u001b[0m\n",
      "\u001b[1;32mpandas\\_libs\\hashtable_class_helper.pxi\u001b[0m in \u001b[0;36mpandas._libs.hashtable.PyObjectHashTable.get_item\u001b[1;34m()\u001b[0m\n",
      "\u001b[1;32mpandas\\_libs\\hashtable_class_helper.pxi\u001b[0m in \u001b[0;36mpandas._libs.hashtable.PyObjectHashTable.get_item\u001b[1;34m()\u001b[0m\n",
      "\u001b[1;31mKeyError\u001b[0m: 'early'"
     ]
    }
   ],
   "source": [
    "ax = f1.add_axes((0, 0 , 1, 1))\n",
    "\n",
    "ax.plot(low_pde_df['early'], low_pde_df['Unnamed: 0'], color = 'green')\n",
    "ax.plot([-0.015]*len(low_early_data), low_early_data,\n",
    "           '_',\n",
    "           ms = 5,\n",
    "#                color = color[0], \n",
    "           mec = 'green',\n",
    "           mew = 0.4\n",
    "          )\n",
    "\n",
    "ax.plot(low_pde_df['late'], low_pde_df['Unnamed: 0'], color = 'orange')\n",
    "ax.plot([-0.025]*len(low_late_data), low_late_data,\n",
    "           '_',\n",
    "           ms = 5,\n",
    "#                color = color[0], \n",
    "           mec = 'orange',\n",
    "           mew = 0.4\n",
    "          )\n",
    "\n",
    "ax.set_ylim([y0,y1])\n",
    "ax.set_xlim([-0.04, 0.2])\n",
    "# print(ax.get_xlim())\n",
    "\n",
    "# f1.savefig('./dataFolders/Output/Step6_v4/Figure/L0.1_earlyLatePDE.pdf')\n",
    "f1.clf()"
   ]
  },
  {
   "cell_type": "code",
   "execution_count": null,
   "metadata": {},
   "outputs": [],
   "source": [
    "ax = f1.add_axes((0, 0 , 1, 1))\n",
    "\n",
    "ax.plot(high_pde_df['early'], high_pde_df['Unnamed: 0'], color = 'green')\n",
    "ax.plot([-0.015]*len(high_early_data), high_early_data,\n",
    "           '_',\n",
    "           ms = 5,\n",
    "#                color = color[0], \n",
    "           mec = 'green',\n",
    "           mew = 0.4\n",
    "          )\n",
    "\n",
    "ax.plot(high_pde_df['late'], high_pde_df['Unnamed: 0'], color = 'orange')\n",
    "ax.plot([-0.025]*len(high_late_data), high_late_data,\n",
    "           '_',\n",
    "           ms = 5,\n",
    "#                color = color[0], \n",
    "           mec = 'orange',\n",
    "           mew = 0.4\n",
    "          )\n",
    "\n",
    "ax.set_ylim([y0,y1])\n",
    "ax.set_xlim([-0.04, 0.2])\n",
    "f1.savefig('./dataFolders/Output/Step6_v4/Figure/L50_earlyLatePDE.pdf')\n",
    "f1.clf()"
   ]
  },
  {
   "cell_type": "markdown",
   "metadata": {},
   "source": [
    "## plot the first and last pde"
   ]
  },
  {
   "cell_type": "code",
   "execution_count": 15,
   "metadata": {},
   "outputs": [],
   "source": [
    "low_pde_df = pd.read_csv('./dataFolders/Output/Step6_v4/L0.1_firstlast_pde.csv')\n",
    "\n",
    "high_pde_df = pd.read_csv('./dataFolders/Output/Step6_v4/L50_firstlast_pde.csv')\n",
    "\n",
    "sample_size = pd.read_csv('./dataFolders/Output/Step6_v4/firstlastSamplesize.csv')\n",
    "sample_size.index = sample_size['Unnamed: 0']"
   ]
  },
  {
   "cell_type": "code",
   "execution_count": 16,
   "metadata": {},
   "outputs": [],
   "source": [
    "low_first_data = data_df.loc[(data_df.lightLevel == 'L0.1') & (data_df['early3'] == True),\n",
    "                            'DiscoveryTime']\n",
    "low_last_data = data_df.loc[(data_df.lightLevel == 'L0.1') & (data_df['late10_low'] == True),\n",
    "                            'DiscoveryTime']\n",
    "high_first_data = data_df.loc[(data_df.lightLevel == 'L50') & (data_df['early3'] == True),\n",
    "                            'DiscoveryTime']\n",
    "high_last_data = data_df.loc[(data_df.lightLevel == 'L50') & (data_df['late10_high'] == True),\n",
    "                            'DiscoveryTime']"
   ]
  },
  {
   "cell_type": "code",
   "execution_count": 17,
   "metadata": {},
   "outputs": [
    {
     "data": {
      "text/plain": [
       "<Figure size 93.6x93.6 with 0 Axes>"
      ]
     },
     "metadata": {},
     "output_type": "display_data"
    }
   ],
   "source": [
    "w = 1.3\n",
    "h = 1.3\n",
    "f1 = plt.figure(figsize = (w,h))"
   ]
  },
  {
   "cell_type": "markdown",
   "metadata": {},
   "source": [
    "### subplot for low light level"
   ]
  },
  {
   "cell_type": "code",
   "execution_count": 36,
   "metadata": {},
   "outputs": [],
   "source": [
    "ax = f1.add_axes((0, 0 , 1, 1))\n",
    "\n",
    "ax.plot(low_pde_df['early3'], low_pde_df['Unnamed: 0'], color = 'green')\n",
    "ax.plot([-0.015]*len(low_first_data), low_first_data,\n",
    "           '_',\n",
    "           ms = 5,\n",
    "#                color = color[0], \n",
    "           mec = 'green',\n",
    "           mew = 0.4\n",
    "          )\n",
    "\n",
    "ax.plot(low_pde_df['last10'], low_pde_df['Unnamed: 0'], color = 'orange')\n",
    "ax.plot([-0.025]*len(low_last_data), low_last_data,\n",
    "           '_',\n",
    "           ms = 5,\n",
    "#                color = color[0], \n",
    "           mec = 'orange',\n",
    "           mew = 0.4\n",
    "          )\n",
    "\n",
    "ax.set_ylim([y0,y1])\n",
    "x0,x1 = ax.get_xlim()\n",
    "# ax.set_xlim([-0.04, 0.2])\n",
    "# print(ax.get_xlim())\n",
    "\n",
    "f1.savefig('./dataFolders/Output/Step6_v4/Figure/L0.1_firstLastPDE.pdf')\n",
    "f1.clf()"
   ]
  },
  {
   "cell_type": "code",
   "execution_count": 37,
   "metadata": {},
   "outputs": [],
   "source": [
    "ax = f1.add_axes((0, 0 , 1, 1))\n",
    "\n",
    "ax.plot(high_pde_df['early3'], high_pde_df['Unnamed: 0'], color = 'green')\n",
    "ax.plot([-0.015]*len(high_first_data), high_first_data,\n",
    "           '_',\n",
    "           ms = 5,\n",
    "#                color = color[0], \n",
    "           mec = 'green',\n",
    "           mew = 0.4\n",
    "          )\n",
    "\n",
    "ax.plot(high_pde_df['last10'], high_pde_df['Unnamed: 0'], color = 'orange')\n",
    "ax.plot([-0.025]*len(high_last_data), high_last_data,\n",
    "           '_',\n",
    "           ms = 5,\n",
    "#                color = color[0], \n",
    "           mec = 'orange',\n",
    "           mew = 0.4\n",
    "          )\n",
    "\n",
    "ax.set_ylim([y0,y1])\n",
    "ax.set_xlim([x0, x1])\n",
    "f1.savefig('./dataFolders/Output/Step6_v4/Figure/L50_firstLastPDE.pdf')\n",
    "f1.clf()"
   ]
  },
  {
   "cell_type": "code",
   "execution_count": null,
   "metadata": {},
   "outputs": [],
   "source": []
  },
  {
   "cell_type": "code",
   "execution_count": null,
   "metadata": {},
   "outputs": [],
   "source": []
  },
  {
   "cell_type": "markdown",
   "metadata": {},
   "source": [
    "# extra functions no longer used"
   ]
  },
  {
   "cell_type": "code",
   "execution_count": null,
   "metadata": {},
   "outputs": [],
   "source": [
    "def plot_LearningCurve(ax, Lightlevel, direc, offset_label, idx,\n",
    "                       outliers = False, xlimit = True, ylimit = True, label = False):\n",
    "  \n",
    "    if outliers:\n",
    "        suffix = ''\n",
    "    else:\n",
    "        suffix = '_notoutliers'\n",
    "    \n",
    "    path = glob.glob(direc + \"\\\\\" + Lightlevel + 'Allmoths' + suffix + '.csv')[0]\n",
    "    new_df = pd.read_csv(path)\n",
    "    \n",
    "    xdata_notnan = new_df[new_df.DiscoveryTime.notnull()].trialNum.values\n",
    "    ydata_notnan = new_df[new_df.DiscoveryTime.notnull()].DiscoveryTime.values/100\n",
    "  \n",
    "    ax.scatter(xdata_notnan,\n",
    "                ydata_notnan,\n",
    "                s= 2,\n",
    "                alpha = 0.7,\n",
    "                c = c[idx])\n",
    "    max_trial = max(new_df.trialNum)\n",
    "\n",
    "    param_file = glob.glob(direc + Lightlevel + '_FittedParameters' + suffix + '.csv')\n",
    "    param_df = pd.read_csv(param_file[0])\n",
    "\n",
    "    ix = 1 # pick all the 1/4 length data from the parameter df (because 1/4 length data slope is = 0 across all shapes)\n",
    "    a0 = param_df.loc[ix,'alpha']\n",
    "    mean_y0 = param_df.loc[ix, 'y_intercept']\n",
    "    tau = param_df.loc[ix, 'tau']\n",
    "    \n",
    "    ax.plot(range(0,max_trial),\n",
    "            fit_to_exponential(range(0,max_trial), a0, tau, mean_y0), \n",
    "             color = mc[idx],\n",
    "           linewidth = 2)    \n",
    "\n",
    "    ax.text(0.47, 0.55 - offset_label\n",
    "             , 'N= ' + str(len(ydata_notnan)) + ' visits' \n",
    "             , transform=ax.transAxes\n",
    "             , verticalalignment='bottom'\n",
    "             , size = 8\n",
    "            , color = 'k')\n",
    "    \n",
    "#     axes[0].set_xlim(-2,50)\n",
    "#     axes[0].set_ylim(-2,28)\n",
    "#     for tick in ax.get_xticklabels():\n",
    "#         tick.set_fontsize(8) \n",
    "#     for tick in ax.get_yticklabels():\n",
    "#         tick.set_fontsize(8) \n",
    "\n",
    "#     ax.set_xlabels('Visit Number', fontsize = 8)\n",
    "#     ax.set_ylabels('Exploration Time (s)', fontsize = 8)"
   ]
  }
 ],
 "metadata": {
  "kernelspec": {
   "display_name": "Python 3",
   "language": "python",
   "name": "python3"
  },
  "language_info": {
   "codemirror_mode": {
    "name": "ipython",
    "version": 3
   },
   "file_extension": ".py",
   "mimetype": "text/x-python",
   "name": "python",
   "nbconvert_exporter": "python",
   "pygments_lexer": "ipython3",
   "version": "3.6.5"
  }
 },
 "nbformat": 4,
 "nbformat_minor": 2
}
