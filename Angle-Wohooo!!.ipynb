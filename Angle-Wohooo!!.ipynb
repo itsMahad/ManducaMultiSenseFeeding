{
 "cells": [
  {
   "cell_type": "code",
   "execution_count": 1,
   "metadata": {},
   "outputs": [],
   "source": [
    "import pandas as pd\n",
    "import numpy as np\n",
    "from scipy import signal\n",
    "import matplotlib.pyplot as plt\n",
    "import matplotlib as mpl\n",
    "# import cmocean"
   ]
  },
  {
   "cell_type": "code",
   "execution_count": 2,
   "metadata": {},
   "outputs": [],
   "source": [
    "AllData = pd.read_csv('./dataFolders/compiledTrackData.csv')\n",
    "circ_params = pd.read_csv('./dataFolders/circle_parameters.csv')\n",
    "outfig = './dataFolders/Figures/Angle'"
   ]
  },
  {
   "cell_type": "code",
   "execution_count": 3,
   "metadata": {},
   "outputs": [
    {
     "data": {
      "text/html": [
       "<div>\n",
       "<style scoped>\n",
       "    .dataframe tbody tr th:only-of-type {\n",
       "        vertical-align: middle;\n",
       "    }\n",
       "\n",
       "    .dataframe tbody tr th {\n",
       "        vertical-align: top;\n",
       "    }\n",
       "\n",
       "    .dataframe thead th {\n",
       "        text-align: right;\n",
       "    }\n",
       "</style>\n",
       "<table border=\"1\" class=\"dataframe\">\n",
       "  <thead>\n",
       "    <tr style=\"text-align: right;\">\n",
       "      <th></th>\n",
       "      <th>Unnamed: 0</th>\n",
       "      <th>name</th>\n",
       "      <th>trial</th>\n",
       "      <th>xpts</th>\n",
       "      <th>ypts</th>\n",
       "      <th>radius</th>\n",
       "      <th>theta</th>\n",
       "      <th>angle</th>\n",
       "    </tr>\n",
       "  </thead>\n",
       "  <tbody>\n",
       "    <tr>\n",
       "      <th>0</th>\n",
       "      <td>0</td>\n",
       "      <td>c-1_m13</td>\n",
       "      <td>0</td>\n",
       "      <td>NaN</td>\n",
       "      <td>NaN</td>\n",
       "      <td>NaN</td>\n",
       "      <td>NaN</td>\n",
       "      <td>NaN</td>\n",
       "    </tr>\n",
       "    <tr>\n",
       "      <th>1</th>\n",
       "      <td>1</td>\n",
       "      <td>c-1_m13</td>\n",
       "      <td>0</td>\n",
       "      <td>5.011057</td>\n",
       "      <td>348.049824</td>\n",
       "      <td>321.678510</td>\n",
       "      <td>160.373100</td>\n",
       "      <td>NaN</td>\n",
       "    </tr>\n",
       "    <tr>\n",
       "      <th>2</th>\n",
       "      <td>2</td>\n",
       "      <td>c-1_m13</td>\n",
       "      <td>0</td>\n",
       "      <td>20.932432</td>\n",
       "      <td>335.463658</td>\n",
       "      <td>302.524542</td>\n",
       "      <td>161.605573</td>\n",
       "      <td>NaN</td>\n",
       "    </tr>\n",
       "    <tr>\n",
       "      <th>3</th>\n",
       "      <td>3</td>\n",
       "      <td>c-1_m13</td>\n",
       "      <td>0</td>\n",
       "      <td>40.568796</td>\n",
       "      <td>325.165885</td>\n",
       "      <td>280.664705</td>\n",
       "      <td>162.335453</td>\n",
       "      <td>NaN</td>\n",
       "    </tr>\n",
       "    <tr>\n",
       "      <th>4</th>\n",
       "      <td>4</td>\n",
       "      <td>c-1_m13</td>\n",
       "      <td>0</td>\n",
       "      <td>50.652334</td>\n",
       "      <td>323.449590</td>\n",
       "      <td>270.539563</td>\n",
       "      <td>162.033785</td>\n",
       "      <td>NaN</td>\n",
       "    </tr>\n",
       "  </tbody>\n",
       "</table>\n",
       "</div>"
      ],
      "text/plain": [
       "   Unnamed: 0     name trial       xpts        ypts      radius       theta  \\\n",
       "0           0  c-1_m13     0        NaN         NaN         NaN         NaN   \n",
       "1           1  c-1_m13     0   5.011057  348.049824  321.678510  160.373100   \n",
       "2           2  c-1_m13     0  20.932432  335.463658  302.524542  161.605573   \n",
       "3           3  c-1_m13     0  40.568796  325.165885  280.664705  162.335453   \n",
       "4           4  c-1_m13     0  50.652334  323.449590  270.539563  162.033785   \n",
       "\n",
       "   angle  \n",
       "0    NaN  \n",
       "1    NaN  \n",
       "2    NaN  \n",
       "3    NaN  \n",
       "4    NaN  "
      ]
     },
     "execution_count": 3,
     "metadata": {},
     "output_type": "execute_result"
    }
   ],
   "source": [
    "p1 = pd.Series(data = None, index = AllData.index, name = 'angle', dtype = 'float64')\n",
    "AllData = pd.concat([AllData, p1], axis = 1)\n",
    "AllData.head()"
   ]
  },
  {
   "cell_type": "code",
   "execution_count": 4,
   "metadata": {},
   "outputs": [],
   "source": [
    "names = AllData.name.unique()"
   ]
  },
  {
   "cell_type": "code",
   "execution_count": 5,
   "metadata": {},
   "outputs": [],
   "source": [
    "def Unitvector(x_gauss, y_gauss):\n",
    "    from sklearn import preprocessing\n",
    "    \n",
    "    # get the slope of the tangent\n",
    "    trajectory = np.asarray([x_gauss, y_gauss])\n",
    "    m = np.gradient(trajectory, axis = 1)\n",
    "    m_atx = m[1]/m[0]\n",
    "    \n",
    "    # get the tangent vector at x = x0 + 1\n",
    "    tangent_x = x_gauss+1\n",
    "    tangent_y = m_atx + y_gauss\n",
    "    \n",
    "    # get the unit tangent vector\n",
    "    u_x = []\n",
    "    u_y = []\n",
    "\n",
    "    for x,y,x0,y0 in zip(tangent_x, tangent_y, x_gauss, y_gauss):\n",
    "        if np.any(np.isnan([x, y])) or np.any(np.isinf([x, y])):\n",
    "            unit_x = np.nan\n",
    "            unit_y = np.nan\n",
    "        else:\n",
    "            vector = np.asarray([x-x0, y-y0]).reshape(1,-1)\n",
    "            [unit_x, unit_y] = preprocessing.normalize(vector, norm = 'l2')[0]\n",
    "        u_x.append(unit_x)\n",
    "        u_y.append(unit_y)\n",
    "    u_x = np.asarray(u_x)\n",
    "    u_y = np.asarray(u_y)\n",
    "    return(u_x, u_y)"
   ]
  },
  {
   "cell_type": "code",
   "execution_count": 6,
   "metadata": {},
   "outputs": [],
   "source": [
    "def getAngle(loc, tangent):\n",
    "    cross = np.cross(tangent, loc)\n",
    "    dot = np.dot(tangent, loc)\n",
    "    angle = np.arctan2(cross, dot)*180/np.pi\n",
    "    return(angle)"
   ]
  },
  {
   "cell_type": "code",
   "execution_count": 30,
   "metadata": {},
   "outputs": [],
   "source": [
    "def angleCorloredTrajectory(x_gauss, y_gauss, angle):\n",
    "    \n",
    "    fig = plt.subplots(figsize = (5,5))\n",
    "    plt.scatter(x_gauss, y_gauss, s=7 , c = angle, cmap = plt.cm.jet)\n",
    "    c1 = plt.Circle((0, 0), circ_r, facecolor='grey', alpha=0.3, edgecolor='none')\n",
    "    ax = plt.gca()\n",
    "    ax.add_artist(c1)\n",
    "    ax.set_aspect('equal', adjustable = 'datalim')\n",
    "    cbar = plt.colorbar()\n",
    "    \n",
    "    return(fig)"
   ]
  },
  {
   "cell_type": "code",
   "execution_count": 118,
   "metadata": {},
   "outputs": [],
   "source": [
    "def angleColoredSweepCurves(r_gauss, circ_r, angle):\n",
    "    fig = plt.subplots(figsize = (5,5))\n",
    "    t0 = np.arange(len(r_gauss))*1/100\n",
    "    plt.scatter(t0, r_gauss/circ_r, s = 10,\n",
    "                c = angle, cmap = plt.cm.jet)\n",
    "    cbar = plt.colorbar()\n",
    "    return(fig)"
   ]
  },
  {
   "cell_type": "code",
   "execution_count": 32,
   "metadata": {},
   "outputs": [
    {
     "name": "stderr",
     "output_type": "stream",
     "text": [
      "C:\\Users\\Tanvi\\AppData\\Local\\Continuum\\anaconda3\\lib\\site-packages\\ipykernel_launcher.py:7: RuntimeWarning: divide by zero encountered in true_divide\n",
      "  import sys\n",
      "C:\\Users\\Tanvi\\AppData\\Local\\Continuum\\anaconda3\\lib\\site-packages\\ipykernel_launcher.py:7: RuntimeWarning: invalid value encountered in true_divide\n",
      "  import sys\n"
     ]
    }
   ],
   "source": [
    "for name in names:\n",
    "    # get the circle parameters\n",
    "    circ_x = circ_params.circ_x[circ_params.name == name].values\n",
    "    circ_y = circ_params.circ_y[circ_params.name == name].values\n",
    "    circ_r = circ_params.circ_radii[circ_params.name == name].values\n",
    "\n",
    "    trial = ['0', 'last']\n",
    "    for trial in trial:\n",
    "        x = AllData[(AllData.name == name) & (AllData.trial == trial)].xpts.values\n",
    "        y = AllData[(AllData.name == name) & (AllData.trial == trial)].ypts.values\n",
    "        \n",
    "        # center the x and y coordinates\n",
    "        cent_x = x - circ_x\n",
    "        cent_y = y - circ_y\n",
    "        \n",
    "        win_gauss = signal.gaussian(10,3)\n",
    "        x_gauss = signal.convolve(cent_x, win_gauss, \n",
    "                                  mode='same', method = 'direct') / win_gauss.sum()\n",
    "        y_gauss = signal.convolve(cent_y, win_gauss, \n",
    "                                  mode = 'same', method = 'direct') / win_gauss.sum()\n",
    "        \n",
    "        r = np.linalg.norm([cent_x, cent_y], axis = 0)\n",
    "        r_gauss = np.linalg.norm([x_gauss, y_gauss], axis = 0)\n",
    "\n",
    "        \n",
    "        #calculate the unit tangent vectors\n",
    "        u_x, u_y = Unitvector(x_gauss, y_gauss)\n",
    "        \n",
    "        angle = []\n",
    "        for x0, y0, x, y in zip(x_gauss, y_gauss, u_x, u_y):\n",
    "            loc = [x0, y0]\n",
    "            tangent = [x, y]\n",
    "            a = getAngle(loc, tangent)\n",
    "            angle.append(a)\n",
    "\n",
    "        angle = np.absolute(angle)\n",
    "        for i,a in enumerate(angle):\n",
    "            if a > 90:\n",
    "                a = 180 - a\n",
    "                angle[i] = a\n",
    "        \n",
    "        \n",
    "        AllData.loc[(AllData.name == name) & (AllData.trial == trial), 'angle'] = angle\n",
    "        \n",
    "        f1, _ = angleCorloredTrajectory(x_gauss, y_gauss, angle)\n",
    "        f2, _ = angleColoredSweepCurves(r_gauss, circ_r, angle)\n",
    "        \n",
    "        f1.savefig(outfig + '//angleTrajectory_' + name + '_trial_' + trial + '.png')\n",
    "        f2.savefig(outfig + '//angleSweep_' + name + '_' + trial + '.png')\n",
    "        f1.clf()\n",
    "        f2.clf()\n",
    "        plt.close('all')"
   ]
  },
  {
   "cell_type": "code",
   "execution_count": 28,
   "metadata": {},
   "outputs": [],
   "source": [
    "AllData.loc[(AllData.name == name) & (AllData.trial == trial), 'angle'] = angle"
   ]
  },
  {
   "cell_type": "code",
   "execution_count": 29,
   "metadata": {},
   "outputs": [
    {
     "data": {
      "text/plain": [
       "True"
      ]
     },
     "execution_count": 29,
     "metadata": {},
     "output_type": "execute_result"
    }
   ],
   "source": [
    "np.any(AllData.angle.notnull())"
   ]
  },
  {
   "cell_type": "code",
   "execution_count": 33,
   "metadata": {},
   "outputs": [
    {
     "name": "stderr",
     "output_type": "stream",
     "text": [
      "C:\\Users\\Tanvi\\AppData\\Local\\Continuum\\anaconda3\\lib\\site-packages\\matplotlib\\axes\\_axes.py:6462: UserWarning: The 'normed' kwarg is deprecated, and has been replaced by the 'density' kwarg.\n",
      "  warnings.warn(\"The 'normed' kwarg is deprecated, and has been \"\n"
     ]
    },
    {
     "data": {
      "text/plain": [
       "<matplotlib.axes._subplots.AxesSubplot at 0x2ddaded3710>"
      ]
     },
     "execution_count": 33,
     "metadata": {},
     "output_type": "execute_result"
    },
    {
     "data": {
      "image/png": "[encoded data removed]",
      "text/plain": [
       "<Figure size 432x288 with 1 Axes>"
      ]
     },
     "metadata": {},
     "output_type": "display_data"
    }
   ],
   "source": [
    "import seaborn as sns\n",
    "sns.distplot(AllData[AllData.angle.notnull()].angle)"
   ]
  },
  {
   "cell_type": "code",
   "execution_count": 90,
   "metadata": {},
   "outputs": [
    {
     "name": "stderr",
     "output_type": "stream",
     "text": [
      "C:\\Users\\Tanvi\\AppData\\Local\\Continuum\\anaconda3\\lib\\site-packages\\matplotlib\\axes\\_axes.py:6462: UserWarning: The 'normed' kwarg is deprecated, and has been replaced by the 'density' kwarg.\n",
      "  warnings.warn(\"The 'normed' kwarg is deprecated, and has been \"\n",
      "C:\\Users\\Tanvi\\AppData\\Local\\Continuum\\anaconda3\\lib\\site-packages\\matplotlib\\axes\\_axes.py:6462: UserWarning: The 'normed' kwarg is deprecated, and has been replaced by the 'density' kwarg.\n",
      "  warnings.warn(\"The 'normed' kwarg is deprecated, and has been \"\n",
      "C:\\Users\\Tanvi\\AppData\\Local\\Continuum\\anaconda3\\lib\\site-packages\\matplotlib\\axes\\_axes.py:6462: UserWarning: The 'normed' kwarg is deprecated, and has been replaced by the 'density' kwarg.\n",
      "  warnings.warn(\"The 'normed' kwarg is deprecated, and has been \"\n",
      "C:\\Users\\Tanvi\\AppData\\Local\\Continuum\\anaconda3\\lib\\site-packages\\matplotlib\\axes\\_axes.py:6462: UserWarning: The 'normed' kwarg is deprecated, and has been replaced by the 'density' kwarg.\n",
      "  warnings.warn(\"The 'normed' kwarg is deprecated, and has been \"\n",
      "C:\\Users\\Tanvi\\AppData\\Local\\Continuum\\anaconda3\\lib\\site-packages\\matplotlib\\axes\\_axes.py:6462: UserWarning: The 'normed' kwarg is deprecated, and has been replaced by the 'density' kwarg.\n",
      "  warnings.warn(\"The 'normed' kwarg is deprecated, and has been \"\n",
      "C:\\Users\\Tanvi\\AppData\\Local\\Continuum\\anaconda3\\lib\\site-packages\\matplotlib\\axes\\_axes.py:6462: UserWarning: The 'normed' kwarg is deprecated, and has been replaced by the 'density' kwarg.\n",
      "  warnings.warn(\"The 'normed' kwarg is deprecated, and has been \"\n",
      "C:\\Users\\Tanvi\\AppData\\Local\\Continuum\\anaconda3\\lib\\site-packages\\matplotlib\\axes\\_axes.py:6462: UserWarning: The 'normed' kwarg is deprecated, and has been replaced by the 'density' kwarg.\n",
      "  warnings.warn(\"The 'normed' kwarg is deprecated, and has been \"\n",
      "C:\\Users\\Tanvi\\AppData\\Local\\Continuum\\anaconda3\\lib\\site-packages\\matplotlib\\axes\\_axes.py:6462: UserWarning: The 'normed' kwarg is deprecated, and has been replaced by the 'density' kwarg.\n",
      "  warnings.warn(\"The 'normed' kwarg is deprecated, and has been \"\n"
     ]
    },
    {
     "data": {
      "image/png": "[encoded data removed]",
      "text/plain": [
       "<Figure size 1440x720 with 8 Axes>"
      ]
     },
     "metadata": {},
     "output_type": "display_data"
    }
   ],
   "source": [
    "fig, ax = plt.subplots(2,4, figsize = (20,10), sharex = True, sharey = True)\n",
    "ax = ax.ravel()\n",
    "\n",
    "shapes = ['c-1_', 'c-2_', 'c-3_', 'c-10_']\n",
    "bins = 25\n",
    "\n",
    "for i, shape in enumerate(shapes):\n",
    "    subset = AllData.loc[(AllData.name.str.contains(shape)) & \n",
    "                         (AllData.trial == '0'), 'angle'].values\n",
    "    subset = subset[~np.isnan(subset)]\n",
    "    sns.distplot(subset, ax = ax[i], bins = bins)\n",
    "    ax[i].set_title(shape + ' first trials')\n",
    "    \n",
    "    subset = AllData.loc[(AllData.name.str.contains(shape)) & \n",
    "                         (AllData.trial == 'last'), 'angle'].values\n",
    "    subset = subset[~np.isnan(subset)]\n",
    "    sns.distplot(subset, ax = ax[i + 4], bins = bins)\n",
    "    ax[i + 4].set_title(shape + ' last trials')\n",
    "    \n",
    "ax[i].set_ylim([0, 0.029])\n",
    "fig.savefig(outfig + '//angleDistributions.png')"
   ]
  },
  {
   "cell_type": "code",
   "execution_count": 109,
   "metadata": {},
   "outputs": [],
   "source": [
    "kstest_matrix_first = pd.DataFrame(data = None, columns = shapes, index = shapes)"
   ]
  },
  {
   "cell_type": "code",
   "execution_count": 110,
   "metadata": {},
   "outputs": [],
   "source": [
    "from scipy import stats\n",
    "\n",
    "combinations = [(x,y) for x in shapes for y in shapes]\n",
    "for x,y in combinations:\n",
    "    \n",
    "    subset1 = AllData.loc[(AllData.name.str.contains(x)) & \n",
    "                         (AllData.trial == '0'), 'angle'].values    \n",
    "    subset1 = subset1[~np.isnan(subset1)]\n",
    "    \n",
    "    subset2 = AllData.loc[(AllData.name.str.contains(y)) & \n",
    "                         (AllData.trial == '0'), 'angle'].values\n",
    "    subset2 = subset2[~np.isnan(subset2)]\n",
    "    \n",
    "    D, pvalue = stats.ks_2samp(subset1, subset2)\n",
    "    kstest_matrix_first.loc[x,y] = pvalue"
   ]
  },
  {
   "cell_type": "code",
   "execution_count": 111,
   "metadata": {},
   "outputs": [
    {
     "data": {
      "text/html": [
       "<div>\n",
       "<style scoped>\n",
       "    .dataframe tbody tr th:only-of-type {\n",
       "        vertical-align: middle;\n",
       "    }\n",
       "\n",
       "    .dataframe tbody tr th {\n",
       "        vertical-align: top;\n",
       "    }\n",
       "\n",
       "    .dataframe thead th {\n",
       "        text-align: right;\n",
       "    }\n",
       "</style>\n",
       "<table border=\"1\" class=\"dataframe\">\n",
       "  <thead>\n",
       "    <tr style=\"text-align: right;\">\n",
       "      <th></th>\n",
       "      <th>c-1_</th>\n",
       "      <th>c-2_</th>\n",
       "      <th>c-3_</th>\n",
       "      <th>c-10_</th>\n",
       "    </tr>\n",
       "  </thead>\n",
       "  <tbody>\n",
       "    <tr>\n",
       "      <th>c-1_</th>\n",
       "      <td>1</td>\n",
       "      <td>0.0792343</td>\n",
       "      <td>0.0144132</td>\n",
       "      <td>0.0648945</td>\n",
       "    </tr>\n",
       "    <tr>\n",
       "      <th>c-2_</th>\n",
       "      <td>0.0792343</td>\n",
       "      <td>1</td>\n",
       "      <td>0.803209</td>\n",
       "      <td>0.128433</td>\n",
       "    </tr>\n",
       "    <tr>\n",
       "      <th>c-3_</th>\n",
       "      <td>0.0144132</td>\n",
       "      <td>0.803209</td>\n",
       "      <td>1</td>\n",
       "      <td>0.0198752</td>\n",
       "    </tr>\n",
       "    <tr>\n",
       "      <th>c-10_</th>\n",
       "      <td>0.0648945</td>\n",
       "      <td>0.128433</td>\n",
       "      <td>0.0198752</td>\n",
       "      <td>1</td>\n",
       "    </tr>\n",
       "  </tbody>\n",
       "</table>\n",
       "</div>"
      ],
      "text/plain": [
       "            c-1_       c-2_       c-3_      c-10_\n",
       "c-1_           1  0.0792343  0.0144132  0.0648945\n",
       "c-2_   0.0792343          1   0.803209   0.128433\n",
       "c-3_   0.0144132   0.803209          1  0.0198752\n",
       "c-10_  0.0648945   0.128433  0.0198752          1"
      ]
     },
     "execution_count": 111,
     "metadata": {},
     "output_type": "execute_result"
    }
   ],
   "source": [
    "kstest_matrix_first"
   ]
  },
  {
   "cell_type": "code",
   "execution_count": 102,
   "metadata": {},
   "outputs": [
    {
     "data": {
      "text/html": [
       "<div>\n",
       "<style scoped>\n",
       "    .dataframe tbody tr th:only-of-type {\n",
       "        vertical-align: middle;\n",
       "    }\n",
       "\n",
       "    .dataframe tbody tr th {\n",
       "        vertical-align: top;\n",
       "    }\n",
       "\n",
       "    .dataframe thead th {\n",
       "        text-align: right;\n",
       "    }\n",
       "</style>\n",
       "<table border=\"1\" class=\"dataframe\">\n",
       "  <thead>\n",
       "    <tr style=\"text-align: right;\">\n",
       "      <th></th>\n",
       "      <th>c-1_</th>\n",
       "      <th>c-2_</th>\n",
       "      <th>c-3_</th>\n",
       "      <th>c-10_</th>\n",
       "    </tr>\n",
       "  </thead>\n",
       "  <tbody>\n",
       "    <tr>\n",
       "      <th>c-1_</th>\n",
       "      <td>1</td>\n",
       "      <td>0.0323431</td>\n",
       "      <td>0.959762</td>\n",
       "      <td>0.895466</td>\n",
       "    </tr>\n",
       "    <tr>\n",
       "      <th>c-2_</th>\n",
       "      <td>0.0323431</td>\n",
       "      <td>1</td>\n",
       "      <td>0.0162931</td>\n",
       "      <td>0.000353001</td>\n",
       "    </tr>\n",
       "    <tr>\n",
       "      <th>c-3_</th>\n",
       "      <td>0.959762</td>\n",
       "      <td>0.0162931</td>\n",
       "      <td>1</td>\n",
       "      <td>0.362108</td>\n",
       "    </tr>\n",
       "    <tr>\n",
       "      <th>c-10_</th>\n",
       "      <td>0.895466</td>\n",
       "      <td>0.000353001</td>\n",
       "      <td>0.362108</td>\n",
       "      <td>1</td>\n",
       "    </tr>\n",
       "  </tbody>\n",
       "</table>\n",
       "</div>"
      ],
      "text/plain": [
       "            c-1_         c-2_       c-3_        c-10_\n",
       "c-1_           1    0.0323431   0.959762     0.895466\n",
       "c-2_   0.0323431            1  0.0162931  0.000353001\n",
       "c-3_    0.959762    0.0162931          1     0.362108\n",
       "c-10_   0.895466  0.000353001   0.362108            1"
      ]
     },
     "execution_count": 102,
     "metadata": {},
     "output_type": "execute_result"
    }
   ],
   "source": [
    "kstest_matrix_last = pd.DataFrame(data = None, columns = shapes, index = shapes)\n",
    "\n",
    "combinations = [(x,y) for x in shapes for y in shapes]\n",
    "for x,y in combinations:\n",
    "    \n",
    "    subset1 = AllData.loc[(AllData.name.str.contains(x)) & \n",
    "                         (AllData.trial == 'last'), 'angle'].values    \n",
    "    subset1 = subset1[~np.isnan(subset1)]\n",
    "    \n",
    "    subset2 = AllData.loc[(AllData.name.str.contains(y)) & \n",
    "                         (AllData.trial == 'last'), 'angle'].values\n",
    "    subset2 = subset2[~np.isnan(subset2)]\n",
    "    \n",
    "    D, pvalue = stats.ks_2samp(subset1, subset2)\n",
    "    kstest_matrix_last.loc[x,y] = pvalue\n",
    "kstest_matrix_last"
   ]
  },
  {
   "cell_type": "code",
   "execution_count": 117,
   "metadata": {},
   "outputs": [
    {
     "data": {
      "text/html": [
       "<div>\n",
       "<style scoped>\n",
       "    .dataframe tbody tr th:only-of-type {\n",
       "        vertical-align: middle;\n",
       "    }\n",
       "\n",
       "    .dataframe tbody tr th {\n",
       "        vertical-align: top;\n",
       "    }\n",
       "\n",
       "    .dataframe thead th {\n",
       "        text-align: right;\n",
       "    }\n",
       "</style>\n",
       "<table border=\"1\" class=\"dataframe\">\n",
       "  <thead>\n",
       "    <tr style=\"text-align: right;\">\n",
       "      <th></th>\n",
       "      <th>first-last</th>\n",
       "    </tr>\n",
       "  </thead>\n",
       "  <tbody>\n",
       "    <tr>\n",
       "      <th>c-1_</th>\n",
       "      <td>0.116353</td>\n",
       "    </tr>\n",
       "    <tr>\n",
       "      <th>c-2_</th>\n",
       "      <td>6.28743e-07</td>\n",
       "    </tr>\n",
       "    <tr>\n",
       "      <th>c-3_</th>\n",
       "      <td>0.0147897</td>\n",
       "    </tr>\n",
       "    <tr>\n",
       "      <th>c-10_</th>\n",
       "      <td>0.00098654</td>\n",
       "    </tr>\n",
       "  </tbody>\n",
       "</table>\n",
       "</div>"
      ],
      "text/plain": [
       "        first-last\n",
       "c-1_      0.116353\n",
       "c-2_   6.28743e-07\n",
       "c-3_     0.0147897\n",
       "c-10_   0.00098654"
      ]
     },
     "execution_count": 117,
     "metadata": {},
     "output_type": "execute_result"
    }
   ],
   "source": [
    "kstest_matrix_first2last = pd.DataFrame(data = None, columns = ['first-last'], index = shapes)\n",
    "\n",
    "for x in shapes:\n",
    "    \n",
    "    subset1 = AllData.loc[(AllData.name.str.contains(x)) & \n",
    "                         (AllData.trial == '0'), 'angle'].values    \n",
    "    subset1 = subset1[~np.isnan(subset1)]\n",
    "    \n",
    "    subset2 = AllData.loc[(AllData.name.str.contains(x)) & \n",
    "                         (AllData.trial == 'last'), 'angle'].values\n",
    "    subset2 = subset2[~np.isnan(subset2)]\n",
    "    \n",
    "    D, pvalue = stats.ks_2samp(subset1, subset2)\n",
    "    kstest_matrix_first2last.loc[x,'first-last'] = pvalue\n",
    "kstest_matrix_first2last"
   ]
  },
  {
   "cell_type": "code",
   "execution_count": null,
   "metadata": {},
   "outputs": [],
   "source": []
  },
  {
   "cell_type": "code",
   "execution_count": null,
   "metadata": {},
   "outputs": [],
   "source": []
  },
  {
   "cell_type": "code",
   "execution_count": null,
   "metadata": {},
   "outputs": [],
   "source": [
    "plt.plot(cent_x)\n",
    "plt.plot(x_gauss)\n",
    "\n",
    "a = plt.axes([.5, .2, .3, .3])\n",
    "plt.plot(cent_x[500:600])\n",
    "plt.plot(x_gauss[500:600])\n",
    "plt.show()\n",
    "\n",
    "plt.plot(cent_y)\n",
    "plt.plot(y_gauss)\n",
    "\n",
    "a = plt.axes([.4, .65, .2, .2])\n",
    "plt.plot(cent_y[400:500])\n",
    "plt.plot(y_gauss[400:500])\n",
    "plt.show()"
   ]
  },
  {
   "cell_type": "code",
   "execution_count": null,
   "metadata": {},
   "outputs": [],
   "source": [
    "plt.plot(cent_x, cent_y)\n",
    "plt.plot(x_gauss, y_gauss)"
   ]
  },
  {
   "cell_type": "code",
   "execution_count": null,
   "metadata": {},
   "outputs": [],
   "source": [
    "r = np.linalg.norm([cent_x, cent_y], axis = 0)\n",
    "r_gauss = np.linalg.norm([x_gauss, y_gauss], axis = 0)\n",
    "\n",
    "plt.plot(r/circ_r)\n",
    "plt.plot(r_gauss/circ_r)"
   ]
  },
  {
   "cell_type": "code",
   "execution_count": null,
   "metadata": {},
   "outputs": [],
   "source": [
    "u_x, u_y = Unitvector(x_gauss, y_gauss)\n",
    "\n",
    "# plt.style.use('default')\n",
    "strt=300\n",
    "stp=320\n",
    "x = x_gauss[strt:stp]\n",
    "y = y_gauss[strt:stp]\n",
    "x_end = u_x[strt: stp]\n",
    "y_end = u_y[strt:stp]\n",
    "plt.plot(x,y, 'o-.')\n",
    "plt.plot(x[0], y[0], 'o' ,color = 'k')\n",
    "for x0, y0, x_dash, y_dash in zip(x, y, x_end, y_end):\n",
    "    plt.arrow(x0, y0, x_dash, y_dash)"
   ]
  },
  {
   "cell_type": "code",
   "execution_count": null,
   "metadata": {},
   "outputs": [],
   "source": [
    "# test_loc = [3,0]\n",
    "# test_tang = [1,1]\n",
    "# getAngle(test_loc, test_tang)"
   ]
  },
  {
   "cell_type": "code",
   "execution_count": null,
   "metadata": {},
   "outputs": [],
   "source": [
    "angle = []\n",
    "for x0, y0, x, y in zip(x_gauss, y_gauss, u_x, u_y):\n",
    "    loc = [x0, y0]\n",
    "    tangent = [x, y]\n",
    "    a = getAngle(loc, tangent)\n",
    "    angle.append(a)\n",
    "\n",
    "angle = np.absolute(angle)\n",
    "for i,a in enumerate(angle):\n",
    "    if a > 90:\n",
    "        a = 180 - a\n",
    "        angle[i] = a\n",
    "    \n",
    "# working_angle = np.absolute(angle)\n",
    "# np.place(working_angle, working_angle>90, 180-working_angle)\n",
    "# working_angle = [ 180 - angle for angle in working_angle if angle > 90 ]"
   ]
  },
  {
   "cell_type": "code",
   "execution_count": null,
   "metadata": {},
   "outputs": [],
   "source": [
    "fig = plt.subplots(figsize = (5,5))\n",
    "plt.scatter(x_gauss, y_gauss, s=7 , c = angle, cmap = plt.cm.jet)\n",
    "c1 = plt.Circle((0, 0), circ_r, color='grey', alpha=0.3, edgecolor='none')\n",
    "ax = plt.gca()\n",
    "ax.add_artist(c1)\n",
    "ax.set_aspect('equal', adjustable = 'datalim')\n",
    "cbar = plt.colorbar()"
   ]
  },
  {
   "cell_type": "code",
   "execution_count": null,
   "metadata": {},
   "outputs": [],
   "source": [
    "fig = plt.subplots(figsize = (5,5))\n",
    "t0 = np.arange(len(r_gauss))*1/100\n",
    "plt.scatter(t0, r_gauss/circ_r, s = 10,\n",
    "            c = angle, cmap = plt.cm.jet)\n",
    "cbar = plt.colorbar()"
   ]
  },
  {
   "cell_type": "code",
   "execution_count": null,
   "metadata": {},
   "outputs": [],
   "source": [
    "import seaborn as sns\n",
    "\n",
    "angle = np.asarray(angle)\n",
    "subset = angle[~np.isnan(angle)]\n",
    "sns.distplot(np.absolute(subset))"
   ]
  },
  {
   "cell_type": "code",
   "execution_count": null,
   "metadata": {},
   "outputs": [],
   "source": []
  },
  {
   "cell_type": "code",
   "execution_count": null,
   "metadata": {},
   "outputs": [],
   "source": []
  },
  {
   "cell_type": "code",
   "execution_count": null,
   "metadata": {},
   "outputs": [],
   "source": []
  },
  {
   "cell_type": "code",
   "execution_count": null,
   "metadata": {},
   "outputs": [],
   "source": []
  },
  {
   "cell_type": "code",
   "execution_count": null,
   "metadata": {},
   "outputs": [],
   "source": []
  },
  {
   "cell_type": "code",
   "execution_count": null,
   "metadata": {},
   "outputs": [],
   "source": []
  },
  {
   "cell_type": "code",
   "execution_count": null,
   "metadata": {},
   "outputs": [],
   "source": [
    "trajectory = np.asarray([x_gauss, y_gauss])\n",
    "m = np.gradient(trajectory, axis = 1)\n",
    "m_atx = m[1]/m[0]"
   ]
  },
  {
   "cell_type": "code",
   "execution_count": null,
   "metadata": {},
   "outputs": [],
   "source": [
    "tangent_x = x_gauss+1\n",
    "tangent_y = m_atx + y_gauss\n",
    "\n",
    "u_x = []\n",
    "u_y = []\n",
    "\n",
    "from sklearn import preprocessing\n",
    "\n",
    "for x,y,x0,y0 in zip(tangent_x, tangent_y, x_gauss, y_gauss):\n",
    "#     print(x, y)\n",
    "    if np.any(np.isnan([x, y])) or np.any(np.isinf([x, y])):\n",
    "#         print('caught it')\n",
    "        unit_x = np.nan\n",
    "        unit_y = np.nan\n",
    "    else:\n",
    "        vector = np.asarray([x-x0, y-y0]).reshape(1,-1)\n",
    "        [unit_x, unit_y] = preprocessing.normalize(vector, norm = 'l2')[0]\n",
    "    u_x.append(unit_x)\n",
    "    u_y.append(unit_y)"
   ]
  },
  {
   "cell_type": "code",
   "execution_count": null,
   "metadata": {},
   "outputs": [],
   "source": [
    "# tangent_x = x_gauss+1\n",
    "# tangent_y = m_atx + y_gauss\n",
    "\n",
    "# # tangent = np.vstack((tangent_x, tangent_y))\n",
    "\n",
    "# u_x = []\n",
    "# u_y = []\n",
    "# for x, y, y0 in zip(tangent_x, m_atx, y_gauss):\n",
    "#     if x == np.nan or y == np.nan:\n",
    "#         unit_x = np.nan\n",
    "#         unit_y = np.nan\n",
    "#     else:\n",
    "#         norm = np.linalg.norm([1, y], axis = 0)\n",
    "#         unit_x = x/norm\n",
    "#         unit_y = y/norm\n",
    "#     u_x.append(unit_x)\n",
    "#     u_y.append(unit_y)"
   ]
  }
 ],
 "metadata": {
  "kernelspec": {
   "display_name": "Python 3",
   "language": "python",
   "name": "python3"
  },
  "language_info": {
   "codemirror_mode": {
    "name": "ipython",
    "version": 3
   },
   "file_extension": ".py",
   "mimetype": "text/x-python",
   "name": "python",
   "nbconvert_exporter": "python",
   "pygments_lexer": "ipython3",
   "version": "3.7.1"
  }
 },
 "nbformat": 4,
 "nbformat_minor": 2
}
