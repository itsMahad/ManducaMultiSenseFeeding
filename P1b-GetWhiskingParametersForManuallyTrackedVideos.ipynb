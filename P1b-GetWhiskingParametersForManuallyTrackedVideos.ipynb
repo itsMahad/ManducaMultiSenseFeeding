{
 "cells": [
  {
   "cell_type": "code",
   "execution_count": 1,
   "metadata": {},
   "outputs": [],
   "source": [
    "import numpy as np\n",
    "import pandas as pd\n",
    "import glob\n",
    "import os\n",
    "import matplotlib.pyplot as plt\n",
    "from scipy import signal\n",
    "import sys"
   ]
  },
  {
   "cell_type": "code",
   "execution_count": 2,
   "metadata": {},
   "outputs": [],
   "source": [
    "circ_parameters_path = glob.glob('./dataFolders/Output/Centroids_v3/circle_parameters.csv')\n",
    "circ_parameters = pd.read_csv(circ_parameters_path[0])"
   ]
  },
  {
   "cell_type": "code",
   "execution_count": 3,
   "metadata": {},
   "outputs": [],
   "source": [
    "direc = r\"./dataFolders/Output/Proboscis/ManualTracking/\""
   ]
  },
  {
   "cell_type": "code",
   "execution_count": 7,
   "metadata": {},
   "outputs": [],
   "source": [
    "outpath = os.path.join('./dataFolders/Output/Proboscis/FilteredTracks/ManuallyTracked/')"
   ]
  },
  {
   "cell_type": "code",
   "execution_count": 10,
   "metadata": {},
   "outputs": [
    {
     "name": "stdout",
     "output_type": "stream",
     "text": [
      "working on L50_c-3_m9\n"
     ]
    }
   ],
   "source": [
    "trackslist = glob.glob(direc + '*xypts.csv')\n",
    "    \n",
    "for data in trackslist:\n",
    "    tt = os.path.basename(data)\n",
    "    name = tt.split('_')[2] + '_' + tt.split('_')[3] + '_' + tt.split('_')[4]\n",
    "    visit = tt.split('_')[5][:-9]\n",
    "    print('working on ' + name)\n",
    "\n",
    "\n",
    "    file = pd.read_csv(data)\n",
    "    last_idx = file.last_valid_index()\n",
    "    x = file.pt1_cam1_X[:last_idx].values\n",
    "    y = file.pt1_cam1_Y[:last_idx].values\n",
    "\n",
    "    mothname = [n for n in circ_parameters.name if n + '_' in data][0]\n",
    "\n",
    "    circ_x = circ_parameters.loc[circ_parameters.name == mothname, 'circ_x'].values\n",
    "    circ_y = circ_parameters.loc[circ_parameters.name == mothname, 'circ_y'].values\n",
    "    circ_radii = circ_parameters.loc[circ_parameters.name == mothname, 'circ_radii'].values\n",
    "\n",
    "    r = np.linalg.norm([x - circ_x, y - circ_y], axis = 0)\n",
    "    r = r/circ_radii\n",
    "    trajectory = pd.DataFrame([x, y, r]).T\n",
    "    trajectory.columns = ['x', 'y', 'r']\n",
    "\n",
    "    trajectory['x_centered'] = trajectory.x - circ_x\n",
    "    trajectory['y_centered'] = trajectory.y - circ_y\n",
    "        \n",
    "    trajectory.to_csv(outpath + mothname + '_' + visit + '.csv')"
   ]
  },
  {
   "cell_type": "code",
   "execution_count": null,
   "metadata": {},
   "outputs": [],
   "source": []
  }
 ],
 "metadata": {
  "kernelspec": {
   "display_name": "Python 3",
   "language": "python",
   "name": "python3"
  },
  "language_info": {
   "codemirror_mode": {
    "name": "ipython",
    "version": 3
   },
   "file_extension": ".py",
   "mimetype": "text/x-python",
   "name": "python",
   "nbconvert_exporter": "python",
   "pygments_lexer": "ipython3",
   "version": "3.6.5"
  }
 },
 "nbformat": 4,
 "nbformat_minor": 2
}
