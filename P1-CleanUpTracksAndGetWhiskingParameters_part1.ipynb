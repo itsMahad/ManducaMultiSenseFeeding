{
 "cells": [
  {
   "cell_type": "code",
   "execution_count": 1,
   "metadata": {},
   "outputs": [],
   "source": [
    "import numpy as np\n",
    "import pandas as pd\n",
    "import glob\n",
    "import os\n",
    "import matplotlib.pyplot as plt\n",
    "from scipy import signal\n",
    "import sys"
   ]
  },
  {
   "cell_type": "code",
   "execution_count": 2,
   "metadata": {},
   "outputs": [],
   "source": [
    "def GetRMSE(x2, y2, x1, y1):\n",
    "    from scipy.spatial.distance import pdist\n",
    "\n",
    "    er = []\n",
    "    for idx in range(len(x2)):\n",
    "        X = np.asarray([[x1[idx], y1[idx]], \n",
    "                         [x2[idx], y2[idx]]])\n",
    "        temp_er = pdist(X,metric = 'euclidean')\n",
    "        er.append(temp_er[0])\n",
    "    er = np.asarray(er)\n",
    "    return(er)"
   ]
  },
  {
   "cell_type": "code",
   "execution_count": 3,
   "metadata": {},
   "outputs": [],
   "source": [
    "# Do this for all the raw data..\n",
    "\n",
    "# [### check list for video annotation - mannually or automated \n",
    "#### If frames are manually annotated, then read them directly and add to next folder.\n",
    "#### If automated via Deeplabcut, filter them based on filtering parameters.]"
   ]
  },
  {
   "cell_type": "code",
   "execution_count": 4,
   "metadata": {},
   "outputs": [],
   "source": [
    "# parameters used to filter data\n",
    "\n",
    "cutoff = 24\n",
    "\n",
    "interpol_order = 3 # order for polynomial interpolation\n",
    "\n",
    "# win_gauss = signal.gaussian(10,3) # gaussian kernal for smoothening interpolated data\n",
    "\n",
    "# parameters for the savitzky-golay filter\n",
    "savgol_win = 11\n",
    "savgol_polyorder = 3\n",
    "\n",
    "# window_length=7, polyorder=2,\n",
    "\n",
    "# ROLLING_WINDOW = [11, 21, 31][0]"
   ]
  },
  {
   "cell_type": "markdown",
   "metadata": {},
   "source": [
    "### remove x y points based on threshold ( of rmse distance from previous frame ) "
   ]
  },
  {
   "cell_type": "code",
   "execution_count": 5,
   "metadata": {},
   "outputs": [],
   "source": [
    "circ_parameters_path = glob.glob('./dataFolders/Output/Centroids_v3/circle_parameters.csv')\n",
    "circ_parameters = pd.read_csv(circ_parameters_path[0])"
   ]
  },
  {
   "cell_type": "code",
   "execution_count": 6,
   "metadata": {},
   "outputs": [],
   "source": [
    "direc = r\"./dataFolders/Output/Proboscis/RawTracks/\"\n",
    "visitnum = ['FirstVisit/', 'LastVisit/']"
   ]
  },
  {
   "cell_type": "code",
   "execution_count": 7,
   "metadata": {},
   "outputs": [
    {
     "name": "stdout",
     "output_type": "stream",
     "text": [
      "./dataFolders/Output/Proboscis/FilteredTracks/FirstVisit/\n",
      "./dataFolders/Output/Proboscis/FilteredTracks/LastVisit/\n"
     ]
    }
   ],
   "source": [
    "for visit in visitnum:\n",
    "    outpath = os.path.join('./dataFolders/Output/Proboscis/FilteredTracks/', visit)\n",
    "    print(outpath)\n",
    "    if not os.path.exists(outpath):\n",
    "        try:\n",
    "            os.mkdir(outpath)\n",
    "        except OSError:\n",
    "            print (\"Creation of the directory %s failed\" % outpath)"
   ]
  },
  {
   "cell_type": "code",
   "execution_count": null,
   "metadata": {},
   "outputs": [],
   "source": [
    "# def removelist(visit):\n",
    "#     if visit == 'FirstVisit/':\n",
    "#         newlist = ['c-1_m2', 'c-2_m2']\n",
    "#     elif visit == 'Later7thVisit/':\n",
    "#         newlist = ['c-10_m2_visit_6', 'c-1_m1_visit_6']\n",
    "#     elif visit == 'Later20thVisit/':\n",
    "#         newlist = ['c-1_m1_visit_19', 'c-2_m2_visit_19']\n",
    "\n",
    "#     return(newlist)"
   ]
  },
  {
   "cell_type": "code",
   "execution_count": 8,
   "metadata": {},
   "outputs": [
    {
     "name": "stdout",
     "output_type": "stream",
     "text": [
      "working on L0.1_c-3_m10_visit_0\n",
      "(273, 3)\n"
     ]
    },
    {
     "name": "stderr",
     "output_type": "stream",
     "text": [
      "C:\\Users\\Tanvi\\AppData\\Local\\Continuum\\anaconda3\\lib\\site-packages\\ipykernel_launcher.py:60: RuntimeWarning: invalid value encountered in greater\n",
      "C:\\Users\\Tanvi\\AppData\\Local\\Continuum\\anaconda3\\lib\\site-packages\\ipykernel_launcher.py:61: RuntimeWarning: invalid value encountered in greater\n"
     ]
    },
    {
     "name": "stdout",
     "output_type": "stream",
     "text": [
      "working on L0.1_c-3_m12_visit_0\n",
      "(1914, 3)\n"
     ]
    },
    {
     "name": "stderr",
     "output_type": "stream",
     "text": [
      "C:\\Users\\Tanvi\\AppData\\Local\\Continuum\\anaconda3\\lib\\site-packages\\ipykernel_launcher.py:60: RuntimeWarning: invalid value encountered in greater\n",
      "C:\\Users\\Tanvi\\AppData\\Local\\Continuum\\anaconda3\\lib\\site-packages\\ipykernel_launcher.py:61: RuntimeWarning: invalid value encountered in greater\n"
     ]
    },
    {
     "name": "stdout",
     "output_type": "stream",
     "text": [
      "working on L0.1_c-3_m20_visit_0\n",
      "(281, 3)\n",
      "working on L0.1_c-3_m21_visit_0\n",
      "(179, 3)\n",
      "working on L0.1_c-3_m22_visit_0\n",
      "(230, 3)\n"
     ]
    },
    {
     "name": "stderr",
     "output_type": "stream",
     "text": [
      "C:\\Users\\Tanvi\\AppData\\Local\\Continuum\\anaconda3\\lib\\site-packages\\ipykernel_launcher.py:60: RuntimeWarning: invalid value encountered in greater\n",
      "C:\\Users\\Tanvi\\AppData\\Local\\Continuum\\anaconda3\\lib\\site-packages\\ipykernel_launcher.py:61: RuntimeWarning: invalid value encountered in greater\n"
     ]
    },
    {
     "name": "stdout",
     "output_type": "stream",
     "text": [
      "working on L0.1_c-3_m23_visit_0\n"
     ]
    },
    {
     "name": "stderr",
     "output_type": "stream",
     "text": [
      "C:\\Users\\Tanvi\\AppData\\Local\\Continuum\\anaconda3\\lib\\site-packages\\ipykernel_launcher.py:60: RuntimeWarning: invalid value encountered in greater\n",
      "C:\\Users\\Tanvi\\AppData\\Local\\Continuum\\anaconda3\\lib\\site-packages\\ipykernel_launcher.py:61: RuntimeWarning: invalid value encountered in greater\n"
     ]
    },
    {
     "name": "stdout",
     "output_type": "stream",
     "text": [
      "(336, 3)\n",
      "working on L0.1_c-3_m27_visit_0\n",
      "(887, 3)\n"
     ]
    },
    {
     "name": "stderr",
     "output_type": "stream",
     "text": [
      "C:\\Users\\Tanvi\\AppData\\Local\\Continuum\\anaconda3\\lib\\site-packages\\ipykernel_launcher.py:60: RuntimeWarning: invalid value encountered in greater\n",
      "C:\\Users\\Tanvi\\AppData\\Local\\Continuum\\anaconda3\\lib\\site-packages\\ipykernel_launcher.py:61: RuntimeWarning: invalid value encountered in greater\n"
     ]
    },
    {
     "name": "stdout",
     "output_type": "stream",
     "text": [
      "working on L0.1_c-3_m2_visit_0\n",
      "(1181, 3)\n"
     ]
    },
    {
     "name": "stderr",
     "output_type": "stream",
     "text": [
      "C:\\Users\\Tanvi\\AppData\\Local\\Continuum\\anaconda3\\lib\\site-packages\\ipykernel_launcher.py:60: RuntimeWarning: invalid value encountered in greater\n",
      "C:\\Users\\Tanvi\\AppData\\Local\\Continuum\\anaconda3\\lib\\site-packages\\ipykernel_launcher.py:61: RuntimeWarning: invalid value encountered in greater\n"
     ]
    },
    {
     "name": "stdout",
     "output_type": "stream",
     "text": [
      "working on L0.1_c-3_m32_visit_0\n",
      "(1266, 3)\n"
     ]
    },
    {
     "name": "stderr",
     "output_type": "stream",
     "text": [
      "C:\\Users\\Tanvi\\AppData\\Local\\Continuum\\anaconda3\\lib\\site-packages\\ipykernel_launcher.py:60: RuntimeWarning: invalid value encountered in greater\n",
      "C:\\Users\\Tanvi\\AppData\\Local\\Continuum\\anaconda3\\lib\\site-packages\\ipykernel_launcher.py:61: RuntimeWarning: invalid value encountered in greater\n"
     ]
    },
    {
     "name": "stdout",
     "output_type": "stream",
     "text": [
      "working on L0.1_c-3_m34_visit_0\n",
      "(202, 3)\n",
      "working on L0.1_c-3_m37_visit_0\n",
      "(328, 3)\n"
     ]
    },
    {
     "name": "stderr",
     "output_type": "stream",
     "text": [
      "C:\\Users\\Tanvi\\AppData\\Local\\Continuum\\anaconda3\\lib\\site-packages\\ipykernel_launcher.py:60: RuntimeWarning: invalid value encountered in greater\n",
      "C:\\Users\\Tanvi\\AppData\\Local\\Continuum\\anaconda3\\lib\\site-packages\\ipykernel_launcher.py:61: RuntimeWarning: invalid value encountered in greater\n"
     ]
    },
    {
     "name": "stdout",
     "output_type": "stream",
     "text": [
      "working on L0.1_c-3_m38_visit_0\n"
     ]
    },
    {
     "name": "stderr",
     "output_type": "stream",
     "text": [
      "C:\\Users\\Tanvi\\AppData\\Local\\Continuum\\anaconda3\\lib\\site-packages\\ipykernel_launcher.py:60: RuntimeWarning: invalid value encountered in greater\n",
      "C:\\Users\\Tanvi\\AppData\\Local\\Continuum\\anaconda3\\lib\\site-packages\\ipykernel_launcher.py:61: RuntimeWarning: invalid value encountered in greater\n"
     ]
    },
    {
     "name": "stdout",
     "output_type": "stream",
     "text": [
      "(3545, 3)\n",
      "working on L0.1_c-3_m39_visit_0\n",
      "(91, 3)\n"
     ]
    },
    {
     "name": "stderr",
     "output_type": "stream",
     "text": [
      "C:\\Users\\Tanvi\\AppData\\Local\\Continuum\\anaconda3\\lib\\site-packages\\ipykernel_launcher.py:60: RuntimeWarning: invalid value encountered in greater\n",
      "C:\\Users\\Tanvi\\AppData\\Local\\Continuum\\anaconda3\\lib\\site-packages\\ipykernel_launcher.py:61: RuntimeWarning: invalid value encountered in greater\n"
     ]
    },
    {
     "name": "stdout",
     "output_type": "stream",
     "text": [
      "working on L0.1_c-3_m40_visit_0\n"
     ]
    },
    {
     "name": "stderr",
     "output_type": "stream",
     "text": [
      "C:\\Users\\Tanvi\\AppData\\Local\\Continuum\\anaconda3\\lib\\site-packages\\ipykernel_launcher.py:60: RuntimeWarning: invalid value encountered in greater\n",
      "C:\\Users\\Tanvi\\AppData\\Local\\Continuum\\anaconda3\\lib\\site-packages\\ipykernel_launcher.py:61: RuntimeWarning: invalid value encountered in greater\n"
     ]
    },
    {
     "name": "stdout",
     "output_type": "stream",
     "text": [
      "(2150, 3)\n",
      "working on L0.1_c-3_m41_visit_0\n",
      "(764, 3)\n",
      "working on L0.1_c-3_m43_visit_0\n",
      "(975, 3)\n",
      "working on L0.1_c-3_m44_visit_0\n",
      "(571, 3)\n"
     ]
    },
    {
     "name": "stderr",
     "output_type": "stream",
     "text": [
      "C:\\Users\\Tanvi\\AppData\\Local\\Continuum\\anaconda3\\lib\\site-packages\\ipykernel_launcher.py:60: RuntimeWarning: invalid value encountered in greater\n",
      "C:\\Users\\Tanvi\\AppData\\Local\\Continuum\\anaconda3\\lib\\site-packages\\ipykernel_launcher.py:61: RuntimeWarning: invalid value encountered in greater\n"
     ]
    },
    {
     "name": "stdout",
     "output_type": "stream",
     "text": [
      "working on L0.1_c-3_m45_visit_0\n"
     ]
    },
    {
     "name": "stderr",
     "output_type": "stream",
     "text": [
      "C:\\Users\\Tanvi\\AppData\\Local\\Continuum\\anaconda3\\lib\\site-packages\\ipykernel_launcher.py:60: RuntimeWarning: invalid value encountered in greater\n",
      "C:\\Users\\Tanvi\\AppData\\Local\\Continuum\\anaconda3\\lib\\site-packages\\ipykernel_launcher.py:61: RuntimeWarning: invalid value encountered in greater\n"
     ]
    },
    {
     "name": "stdout",
     "output_type": "stream",
     "text": [
      "(1129, 3)\n",
      "working on L0.1_c-3_m46_visit_0\n",
      "(157, 3)\n"
     ]
    },
    {
     "name": "stderr",
     "output_type": "stream",
     "text": [
      "C:\\Users\\Tanvi\\AppData\\Local\\Continuum\\anaconda3\\lib\\site-packages\\ipykernel_launcher.py:60: RuntimeWarning: invalid value encountered in greater\n",
      "C:\\Users\\Tanvi\\AppData\\Local\\Continuum\\anaconda3\\lib\\site-packages\\ipykernel_launcher.py:61: RuntimeWarning: invalid value encountered in greater\n"
     ]
    },
    {
     "name": "stdout",
     "output_type": "stream",
     "text": [
      "working on L0.1_c-3_m47_visit_0\n"
     ]
    },
    {
     "name": "stderr",
     "output_type": "stream",
     "text": [
      "C:\\Users\\Tanvi\\AppData\\Local\\Continuum\\anaconda3\\lib\\site-packages\\ipykernel_launcher.py:60: RuntimeWarning: invalid value encountered in greater\n",
      "C:\\Users\\Tanvi\\AppData\\Local\\Continuum\\anaconda3\\lib\\site-packages\\ipykernel_launcher.py:61: RuntimeWarning: invalid value encountered in greater\n"
     ]
    },
    {
     "name": "stdout",
     "output_type": "stream",
     "text": [
      "(3121, 3)\n",
      "working on L0.1_c-3_m48_visit_0\n"
     ]
    },
    {
     "name": "stderr",
     "output_type": "stream",
     "text": [
      "C:\\Users\\Tanvi\\AppData\\Local\\Continuum\\anaconda3\\lib\\site-packages\\ipykernel_launcher.py:60: RuntimeWarning: invalid value encountered in greater\n",
      "C:\\Users\\Tanvi\\AppData\\Local\\Continuum\\anaconda3\\lib\\site-packages\\ipykernel_launcher.py:61: RuntimeWarning: invalid value encountered in greater\n"
     ]
    },
    {
     "name": "stdout",
     "output_type": "stream",
     "text": [
      "(1249, 3)\n",
      "working on L0.1_c-3_m49_visit_0\n",
      "(641, 3)\n",
      "working on L0.1_c-3_m50_visit_0\n",
      "(281, 3)\n"
     ]
    },
    {
     "name": "stderr",
     "output_type": "stream",
     "text": [
      "C:\\Users\\Tanvi\\AppData\\Local\\Continuum\\anaconda3\\lib\\site-packages\\ipykernel_launcher.py:60: RuntimeWarning: invalid value encountered in greater\n",
      "C:\\Users\\Tanvi\\AppData\\Local\\Continuum\\anaconda3\\lib\\site-packages\\ipykernel_launcher.py:61: RuntimeWarning: invalid value encountered in greater\n"
     ]
    },
    {
     "name": "stdout",
     "output_type": "stream",
     "text": [
      "working on L0.1_c-3_m54_visit_0\n",
      "(236, 3)\n",
      "working on L0.1_c-3_m57_visit_0\n",
      "(395, 3)\n"
     ]
    },
    {
     "name": "stderr",
     "output_type": "stream",
     "text": [
      "C:\\Users\\Tanvi\\AppData\\Local\\Continuum\\anaconda3\\lib\\site-packages\\ipykernel_launcher.py:60: RuntimeWarning: invalid value encountered in greater\n",
      "C:\\Users\\Tanvi\\AppData\\Local\\Continuum\\anaconda3\\lib\\site-packages\\ipykernel_launcher.py:61: RuntimeWarning: invalid value encountered in greater\n"
     ]
    },
    {
     "name": "stdout",
     "output_type": "stream",
     "text": [
      "working on L0.1_c-3_m5_visit_0\n",
      "(1275, 3)\n"
     ]
    },
    {
     "name": "stderr",
     "output_type": "stream",
     "text": [
      "C:\\Users\\Tanvi\\AppData\\Local\\Continuum\\anaconda3\\lib\\site-packages\\ipykernel_launcher.py:60: RuntimeWarning: invalid value encountered in greater\n",
      "C:\\Users\\Tanvi\\AppData\\Local\\Continuum\\anaconda3\\lib\\site-packages\\ipykernel_launcher.py:61: RuntimeWarning: invalid value encountered in greater\n"
     ]
    },
    {
     "name": "stdout",
     "output_type": "stream",
     "text": [
      "working on L0.1_c-3_m8_visit_0\n"
     ]
    },
    {
     "name": "stderr",
     "output_type": "stream",
     "text": [
      "C:\\Users\\Tanvi\\AppData\\Local\\Continuum\\anaconda3\\lib\\site-packages\\ipykernel_launcher.py:60: RuntimeWarning: invalid value encountered in greater\n",
      "C:\\Users\\Tanvi\\AppData\\Local\\Continuum\\anaconda3\\lib\\site-packages\\ipykernel_launcher.py:61: RuntimeWarning: invalid value encountered in greater\n"
     ]
    },
    {
     "name": "stdout",
     "output_type": "stream",
     "text": [
      "(4197, 3)\n",
      "working on L50_c-3_m10_visit_0\n",
      "(216, 3)\n"
     ]
    },
    {
     "name": "stderr",
     "output_type": "stream",
     "text": [
      "C:\\Users\\Tanvi\\AppData\\Local\\Continuum\\anaconda3\\lib\\site-packages\\ipykernel_launcher.py:60: RuntimeWarning: invalid value encountered in greater\n",
      "C:\\Users\\Tanvi\\AppData\\Local\\Continuum\\anaconda3\\lib\\site-packages\\ipykernel_launcher.py:61: RuntimeWarning: invalid value encountered in greater\n"
     ]
    },
    {
     "name": "stdout",
     "output_type": "stream",
     "text": [
      "working on L50_c-3_m12_visit_0\n",
      "(119, 3)\n"
     ]
    },
    {
     "name": "stderr",
     "output_type": "stream",
     "text": [
      "C:\\Users\\Tanvi\\AppData\\Local\\Continuum\\anaconda3\\lib\\site-packages\\ipykernel_launcher.py:60: RuntimeWarning: invalid value encountered in greater\n",
      "C:\\Users\\Tanvi\\AppData\\Local\\Continuum\\anaconda3\\lib\\site-packages\\ipykernel_launcher.py:61: RuntimeWarning: invalid value encountered in greater\n"
     ]
    },
    {
     "name": "stdout",
     "output_type": "stream",
     "text": [
      "working on L50_c-3_m13_visit_0\n",
      "(177, 3)\n",
      "working on L50_c-3_m14_visit_0\n",
      "(137, 3)\n",
      "working on L50_c-3_m15_visit_0\n",
      "(156, 3)\n"
     ]
    },
    {
     "name": "stderr",
     "output_type": "stream",
     "text": [
      "C:\\Users\\Tanvi\\AppData\\Local\\Continuum\\anaconda3\\lib\\site-packages\\ipykernel_launcher.py:60: RuntimeWarning: invalid value encountered in greater\n",
      "C:\\Users\\Tanvi\\AppData\\Local\\Continuum\\anaconda3\\lib\\site-packages\\ipykernel_launcher.py:61: RuntimeWarning: invalid value encountered in greater\n"
     ]
    },
    {
     "name": "stdout",
     "output_type": "stream",
     "text": [
      "working on L50_c-3_m21_visit_0\n",
      "(894, 3)\n"
     ]
    },
    {
     "name": "stderr",
     "output_type": "stream",
     "text": [
      "C:\\Users\\Tanvi\\AppData\\Local\\Continuum\\anaconda3\\lib\\site-packages\\ipykernel_launcher.py:60: RuntimeWarning: invalid value encountered in greater\n",
      "C:\\Users\\Tanvi\\AppData\\Local\\Continuum\\anaconda3\\lib\\site-packages\\ipykernel_launcher.py:61: RuntimeWarning: invalid value encountered in greater\n"
     ]
    },
    {
     "name": "stdout",
     "output_type": "stream",
     "text": [
      "working on L50_c-3_m22_visit_0\n",
      "(598, 3)\n",
      "working on L50_c-3_m25_visit_0\n",
      "(220, 3)\n"
     ]
    },
    {
     "name": "stderr",
     "output_type": "stream",
     "text": [
      "C:\\Users\\Tanvi\\AppData\\Local\\Continuum\\anaconda3\\lib\\site-packages\\ipykernel_launcher.py:60: RuntimeWarning: invalid value encountered in greater\n",
      "C:\\Users\\Tanvi\\AppData\\Local\\Continuum\\anaconda3\\lib\\site-packages\\ipykernel_launcher.py:61: RuntimeWarning: invalid value encountered in greater\n"
     ]
    },
    {
     "name": "stdout",
     "output_type": "stream",
     "text": [
      "working on L50_c-3_m26_visit_0\n",
      "(824, 3)\n",
      "working on L50_c-3_m2_visit_0\n",
      "(247, 3)\n"
     ]
    },
    {
     "name": "stderr",
     "output_type": "stream",
     "text": [
      "C:\\Users\\Tanvi\\AppData\\Local\\Continuum\\anaconda3\\lib\\site-packages\\ipykernel_launcher.py:60: RuntimeWarning: invalid value encountered in greater\n",
      "C:\\Users\\Tanvi\\AppData\\Local\\Continuum\\anaconda3\\lib\\site-packages\\ipykernel_launcher.py:61: RuntimeWarning: invalid value encountered in greater\n"
     ]
    },
    {
     "name": "stdout",
     "output_type": "stream",
     "text": [
      "working on L50_c-3_m30_visit_0\n",
      "(62, 3)\n"
     ]
    },
    {
     "name": "stderr",
     "output_type": "stream",
     "text": [
      "C:\\Users\\Tanvi\\AppData\\Local\\Continuum\\anaconda3\\lib\\site-packages\\ipykernel_launcher.py:60: RuntimeWarning: invalid value encountered in greater\n",
      "C:\\Users\\Tanvi\\AppData\\Local\\Continuum\\anaconda3\\lib\\site-packages\\ipykernel_launcher.py:61: RuntimeWarning: invalid value encountered in greater\n"
     ]
    },
    {
     "name": "stdout",
     "output_type": "stream",
     "text": [
      "working on L50_c-3_m32_visit_0\n",
      "(593, 3)\n"
     ]
    },
    {
     "name": "stderr",
     "output_type": "stream",
     "text": [
      "C:\\Users\\Tanvi\\AppData\\Local\\Continuum\\anaconda3\\lib\\site-packages\\ipykernel_launcher.py:60: RuntimeWarning: invalid value encountered in greater\n",
      "C:\\Users\\Tanvi\\AppData\\Local\\Continuum\\anaconda3\\lib\\site-packages\\ipykernel_launcher.py:61: RuntimeWarning: invalid value encountered in greater\n"
     ]
    },
    {
     "name": "stdout",
     "output_type": "stream",
     "text": [
      "working on L50_c-3_m33_visit_0\n",
      "(332, 3)\n"
     ]
    },
    {
     "name": "stderr",
     "output_type": "stream",
     "text": [
      "C:\\Users\\Tanvi\\AppData\\Local\\Continuum\\anaconda3\\lib\\site-packages\\ipykernel_launcher.py:60: RuntimeWarning: invalid value encountered in greater\n",
      "C:\\Users\\Tanvi\\AppData\\Local\\Continuum\\anaconda3\\lib\\site-packages\\ipykernel_launcher.py:61: RuntimeWarning: invalid value encountered in greater\n"
     ]
    },
    {
     "name": "stdout",
     "output_type": "stream",
     "text": [
      "working on L50_c-3_m34_visit_0\n",
      "(852, 3)\n"
     ]
    },
    {
     "name": "stderr",
     "output_type": "stream",
     "text": [
      "C:\\Users\\Tanvi\\AppData\\Local\\Continuum\\anaconda3\\lib\\site-packages\\ipykernel_launcher.py:60: RuntimeWarning: invalid value encountered in greater\n",
      "C:\\Users\\Tanvi\\AppData\\Local\\Continuum\\anaconda3\\lib\\site-packages\\ipykernel_launcher.py:61: RuntimeWarning: invalid value encountered in greater\n"
     ]
    },
    {
     "name": "stdout",
     "output_type": "stream",
     "text": [
      "working on L50_c-3_m35_visit_0\n"
     ]
    },
    {
     "name": "stderr",
     "output_type": "stream",
     "text": [
      "C:\\Users\\Tanvi\\AppData\\Local\\Continuum\\anaconda3\\lib\\site-packages\\ipykernel_launcher.py:60: RuntimeWarning: invalid value encountered in greater\n",
      "C:\\Users\\Tanvi\\AppData\\Local\\Continuum\\anaconda3\\lib\\site-packages\\ipykernel_launcher.py:61: RuntimeWarning: invalid value encountered in greater\n"
     ]
    },
    {
     "name": "stdout",
     "output_type": "stream",
     "text": [
      "(1949, 3)\n",
      "working on L50_c-3_m37_visit_0\n",
      "(345, 3)\n"
     ]
    },
    {
     "name": "stderr",
     "output_type": "stream",
     "text": [
      "C:\\Users\\Tanvi\\AppData\\Local\\Continuum\\anaconda3\\lib\\site-packages\\ipykernel_launcher.py:60: RuntimeWarning: invalid value encountered in greater\n",
      "C:\\Users\\Tanvi\\AppData\\Local\\Continuum\\anaconda3\\lib\\site-packages\\ipykernel_launcher.py:61: RuntimeWarning: invalid value encountered in greater\n"
     ]
    },
    {
     "name": "stdout",
     "output_type": "stream",
     "text": [
      "working on L50_c-3_m38_visit_0\n",
      "(255, 3)\n"
     ]
    },
    {
     "name": "stderr",
     "output_type": "stream",
     "text": [
      "C:\\Users\\Tanvi\\AppData\\Local\\Continuum\\anaconda3\\lib\\site-packages\\ipykernel_launcher.py:60: RuntimeWarning: invalid value encountered in greater\n",
      "C:\\Users\\Tanvi\\AppData\\Local\\Continuum\\anaconda3\\lib\\site-packages\\ipykernel_launcher.py:61: RuntimeWarning: invalid value encountered in greater\n"
     ]
    },
    {
     "name": "stdout",
     "output_type": "stream",
     "text": [
      "working on L50_c-3_m39_visit_0\n",
      "(503, 3)\n",
      "working on L50_c-3_m45_visit_0\n",
      "(207, 3)\n",
      "working on L50_c-3_m49_visit_0\n",
      "(2132, 3)\n"
     ]
    },
    {
     "name": "stderr",
     "output_type": "stream",
     "text": [
      "C:\\Users\\Tanvi\\AppData\\Local\\Continuum\\anaconda3\\lib\\site-packages\\ipykernel_launcher.py:60: RuntimeWarning: invalid value encountered in greater\n",
      "C:\\Users\\Tanvi\\AppData\\Local\\Continuum\\anaconda3\\lib\\site-packages\\ipykernel_launcher.py:61: RuntimeWarning: invalid value encountered in greater\n"
     ]
    },
    {
     "name": "stdout",
     "output_type": "stream",
     "text": [
      "working on L50_c-3_m50_visit_0\n",
      "(289, 3)\n"
     ]
    },
    {
     "name": "stderr",
     "output_type": "stream",
     "text": [
      "C:\\Users\\Tanvi\\AppData\\Local\\Continuum\\anaconda3\\lib\\site-packages\\ipykernel_launcher.py:60: RuntimeWarning: invalid value encountered in greater\n",
      "C:\\Users\\Tanvi\\AppData\\Local\\Continuum\\anaconda3\\lib\\site-packages\\ipykernel_launcher.py:61: RuntimeWarning: invalid value encountered in greater\n"
     ]
    },
    {
     "name": "stdout",
     "output_type": "stream",
     "text": [
      "working on L50_c-3_m51_visit_0\n",
      "(346, 3)\n"
     ]
    },
    {
     "name": "stderr",
     "output_type": "stream",
     "text": [
      "C:\\Users\\Tanvi\\AppData\\Local\\Continuum\\anaconda3\\lib\\site-packages\\ipykernel_launcher.py:60: RuntimeWarning: invalid value encountered in greater\n",
      "C:\\Users\\Tanvi\\AppData\\Local\\Continuum\\anaconda3\\lib\\site-packages\\ipykernel_launcher.py:61: RuntimeWarning: invalid value encountered in greater\n"
     ]
    },
    {
     "name": "stdout",
     "output_type": "stream",
     "text": [
      "working on L50_c-3_m58_visit_0\n",
      "(1947, 3)\n"
     ]
    },
    {
     "name": "stderr",
     "output_type": "stream",
     "text": [
      "C:\\Users\\Tanvi\\AppData\\Local\\Continuum\\anaconda3\\lib\\site-packages\\ipykernel_launcher.py:60: RuntimeWarning: invalid value encountered in greater\n",
      "C:\\Users\\Tanvi\\AppData\\Local\\Continuum\\anaconda3\\lib\\site-packages\\ipykernel_launcher.py:61: RuntimeWarning: invalid value encountered in greater\n"
     ]
    },
    {
     "name": "stdout",
     "output_type": "stream",
     "text": [
      "working on L50_c-3_m6_visit_0\n",
      "(100, 3)\n"
     ]
    },
    {
     "name": "stderr",
     "output_type": "stream",
     "text": [
      "C:\\Users\\Tanvi\\AppData\\Local\\Continuum\\anaconda3\\lib\\site-packages\\ipykernel_launcher.py:60: RuntimeWarning: invalid value encountered in greater\n",
      "C:\\Users\\Tanvi\\AppData\\Local\\Continuum\\anaconda3\\lib\\site-packages\\ipykernel_launcher.py:61: RuntimeWarning: invalid value encountered in greater\n"
     ]
    },
    {
     "name": "stdout",
     "output_type": "stream",
     "text": [
      "working on L50_c-3_m9_visit_0\n",
      "(536, 3)\n"
     ]
    },
    {
     "name": "stderr",
     "output_type": "stream",
     "text": [
      "C:\\Users\\Tanvi\\AppData\\Local\\Continuum\\anaconda3\\lib\\site-packages\\ipykernel_launcher.py:60: RuntimeWarning: invalid value encountered in greater\n",
      "C:\\Users\\Tanvi\\AppData\\Local\\Continuum\\anaconda3\\lib\\site-packages\\ipykernel_launcher.py:61: RuntimeWarning: invalid value encountered in greater\n"
     ]
    },
    {
     "name": "stdout",
     "output_type": "stream",
     "text": [
      "working on L0.1_c-3_m10_visit_-1\n",
      "(230, 3)\n"
     ]
    },
    {
     "name": "stderr",
     "output_type": "stream",
     "text": [
      "C:\\Users\\Tanvi\\AppData\\Local\\Continuum\\anaconda3\\lib\\site-packages\\ipykernel_launcher.py:60: RuntimeWarning: invalid value encountered in greater\n",
      "C:\\Users\\Tanvi\\AppData\\Local\\Continuum\\anaconda3\\lib\\site-packages\\ipykernel_launcher.py:61: RuntimeWarning: invalid value encountered in greater\n"
     ]
    },
    {
     "name": "stdout",
     "output_type": "stream",
     "text": [
      "working on L0.1_c-3_m12_visit_-1\n",
      "(273, 3)\n"
     ]
    },
    {
     "name": "stderr",
     "output_type": "stream",
     "text": [
      "C:\\Users\\Tanvi\\AppData\\Local\\Continuum\\anaconda3\\lib\\site-packages\\ipykernel_launcher.py:60: RuntimeWarning: invalid value encountered in greater\n",
      "C:\\Users\\Tanvi\\AppData\\Local\\Continuum\\anaconda3\\lib\\site-packages\\ipykernel_launcher.py:61: RuntimeWarning: invalid value encountered in greater\n"
     ]
    },
    {
     "name": "stdout",
     "output_type": "stream",
     "text": [
      "working on L0.1_c-3_m20_visit_-1\n",
      "(57, 3)\n",
      "working on L0.1_c-3_m21_visit_-1\n",
      "(141, 3)\n",
      "working on L0.1_c-3_m22_visit_-1\n",
      "(1348, 3)\n"
     ]
    },
    {
     "name": "stderr",
     "output_type": "stream",
     "text": [
      "C:\\Users\\Tanvi\\AppData\\Local\\Continuum\\anaconda3\\lib\\site-packages\\ipykernel_launcher.py:60: RuntimeWarning: invalid value encountered in greater\n",
      "C:\\Users\\Tanvi\\AppData\\Local\\Continuum\\anaconda3\\lib\\site-packages\\ipykernel_launcher.py:61: RuntimeWarning: invalid value encountered in greater\n"
     ]
    },
    {
     "name": "stdout",
     "output_type": "stream",
     "text": [
      "working on L0.1_c-3_m23_visit_-1\n",
      "(437, 3)\n"
     ]
    },
    {
     "name": "stderr",
     "output_type": "stream",
     "text": [
      "C:\\Users\\Tanvi\\AppData\\Local\\Continuum\\anaconda3\\lib\\site-packages\\ipykernel_launcher.py:60: RuntimeWarning: invalid value encountered in greater\n",
      "C:\\Users\\Tanvi\\AppData\\Local\\Continuum\\anaconda3\\lib\\site-packages\\ipykernel_launcher.py:61: RuntimeWarning: invalid value encountered in greater\n"
     ]
    },
    {
     "name": "stdout",
     "output_type": "stream",
     "text": [
      "working on L0.1_c-3_m24_visit_-1\n",
      "(370, 3)\n"
     ]
    },
    {
     "name": "stderr",
     "output_type": "stream",
     "text": [
      "C:\\Users\\Tanvi\\AppData\\Local\\Continuum\\anaconda3\\lib\\site-packages\\ipykernel_launcher.py:60: RuntimeWarning: invalid value encountered in greater\n",
      "C:\\Users\\Tanvi\\AppData\\Local\\Continuum\\anaconda3\\lib\\site-packages\\ipykernel_launcher.py:61: RuntimeWarning: invalid value encountered in greater\n"
     ]
    },
    {
     "name": "stdout",
     "output_type": "stream",
     "text": [
      "working on L0.1_c-3_m25_visit_-1\n",
      "(620, 3)\n"
     ]
    },
    {
     "name": "stderr",
     "output_type": "stream",
     "text": [
      "C:\\Users\\Tanvi\\AppData\\Local\\Continuum\\anaconda3\\lib\\site-packages\\ipykernel_launcher.py:60: RuntimeWarning: invalid value encountered in greater\n",
      "C:\\Users\\Tanvi\\AppData\\Local\\Continuum\\anaconda3\\lib\\site-packages\\ipykernel_launcher.py:61: RuntimeWarning: invalid value encountered in greater\n"
     ]
    },
    {
     "name": "stdout",
     "output_type": "stream",
     "text": [
      "working on L0.1_c-3_m27_visit_-1\n",
      "(654, 3)\n"
     ]
    },
    {
     "name": "stderr",
     "output_type": "stream",
     "text": [
      "C:\\Users\\Tanvi\\AppData\\Local\\Continuum\\anaconda3\\lib\\site-packages\\ipykernel_launcher.py:60: RuntimeWarning: invalid value encountered in greater\n",
      "C:\\Users\\Tanvi\\AppData\\Local\\Continuum\\anaconda3\\lib\\site-packages\\ipykernel_launcher.py:61: RuntimeWarning: invalid value encountered in greater\n"
     ]
    },
    {
     "name": "stdout",
     "output_type": "stream",
     "text": [
      "working on L0.1_c-3_m2_visit_-1\n",
      "(67, 3)\n"
     ]
    },
    {
     "name": "stderr",
     "output_type": "stream",
     "text": [
      "C:\\Users\\Tanvi\\AppData\\Local\\Continuum\\anaconda3\\lib\\site-packages\\ipykernel_launcher.py:60: RuntimeWarning: invalid value encountered in greater\n",
      "C:\\Users\\Tanvi\\AppData\\Local\\Continuum\\anaconda3\\lib\\site-packages\\ipykernel_launcher.py:61: RuntimeWarning: invalid value encountered in greater\n"
     ]
    },
    {
     "name": "stdout",
     "output_type": "stream",
     "text": [
      "working on L0.1_c-3_m32_visit_-1\n",
      "(1662, 3)"
     ]
    },
    {
     "name": "stderr",
     "output_type": "stream",
     "text": [
      "C:\\Users\\Tanvi\\AppData\\Local\\Continuum\\anaconda3\\lib\\site-packages\\ipykernel_launcher.py:60: RuntimeWarning: invalid value encountered in greater\n",
      "C:\\Users\\Tanvi\\AppData\\Local\\Continuum\\anaconda3\\lib\\site-packages\\ipykernel_launcher.py:61: RuntimeWarning: invalid value encountered in greater\n"
     ]
    },
    {
     "name": "stdout",
     "output_type": "stream",
     "text": [
      "\n",
      "working on L0.1_c-3_m34_visit_-1\n",
      "(186, 3)\n"
     ]
    },
    {
     "name": "stderr",
     "output_type": "stream",
     "text": [
      "C:\\Users\\Tanvi\\AppData\\Local\\Continuum\\anaconda3\\lib\\site-packages\\ipykernel_launcher.py:60: RuntimeWarning: invalid value encountered in greater\n",
      "C:\\Users\\Tanvi\\AppData\\Local\\Continuum\\anaconda3\\lib\\site-packages\\ipykernel_launcher.py:61: RuntimeWarning: invalid value encountered in greater\n"
     ]
    },
    {
     "name": "stdout",
     "output_type": "stream",
     "text": [
      "working on L0.1_c-3_m37_visit_-1\n",
      "(606, 3)\n"
     ]
    },
    {
     "name": "stderr",
     "output_type": "stream",
     "text": [
      "C:\\Users\\Tanvi\\AppData\\Local\\Continuum\\anaconda3\\lib\\site-packages\\ipykernel_launcher.py:60: RuntimeWarning: invalid value encountered in greater\n",
      "C:\\Users\\Tanvi\\AppData\\Local\\Continuum\\anaconda3\\lib\\site-packages\\ipykernel_launcher.py:61: RuntimeWarning: invalid value encountered in greater\n"
     ]
    },
    {
     "name": "stdout",
     "output_type": "stream",
     "text": [
      "working on L0.1_c-3_m38_visit_-1\n",
      "(1647, 3)\n"
     ]
    },
    {
     "name": "stderr",
     "output_type": "stream",
     "text": [
      "C:\\Users\\Tanvi\\AppData\\Local\\Continuum\\anaconda3\\lib\\site-packages\\ipykernel_launcher.py:60: RuntimeWarning: invalid value encountered in greater\n",
      "C:\\Users\\Tanvi\\AppData\\Local\\Continuum\\anaconda3\\lib\\site-packages\\ipykernel_launcher.py:61: RuntimeWarning: invalid value encountered in greater\n"
     ]
    },
    {
     "name": "stdout",
     "output_type": "stream",
     "text": [
      "working on L0.1_c-3_m39_visit_-1\n",
      "(384, 3)\n"
     ]
    },
    {
     "name": "stderr",
     "output_type": "stream",
     "text": [
      "C:\\Users\\Tanvi\\AppData\\Local\\Continuum\\anaconda3\\lib\\site-packages\\ipykernel_launcher.py:60: RuntimeWarning: invalid value encountered in greater\n",
      "C:\\Users\\Tanvi\\AppData\\Local\\Continuum\\anaconda3\\lib\\site-packages\\ipykernel_launcher.py:61: RuntimeWarning: invalid value encountered in greater\n"
     ]
    },
    {
     "name": "stdout",
     "output_type": "stream",
     "text": [
      "working on L0.1_c-3_m40_visit_-1\n",
      "(282, 3)\n"
     ]
    },
    {
     "name": "stderr",
     "output_type": "stream",
     "text": [
      "C:\\Users\\Tanvi\\AppData\\Local\\Continuum\\anaconda3\\lib\\site-packages\\ipykernel_launcher.py:60: RuntimeWarning: invalid value encountered in greater\n",
      "C:\\Users\\Tanvi\\AppData\\Local\\Continuum\\anaconda3\\lib\\site-packages\\ipykernel_launcher.py:61: RuntimeWarning: invalid value encountered in greater\n"
     ]
    },
    {
     "name": "stdout",
     "output_type": "stream",
     "text": [
      "working on L0.1_c-3_m41_visit_-1\n",
      "(149, 3)\n"
     ]
    },
    {
     "name": "stderr",
     "output_type": "stream",
     "text": [
      "C:\\Users\\Tanvi\\AppData\\Local\\Continuum\\anaconda3\\lib\\site-packages\\ipykernel_launcher.py:60: RuntimeWarning: invalid value encountered in greater\n",
      "C:\\Users\\Tanvi\\AppData\\Local\\Continuum\\anaconda3\\lib\\site-packages\\ipykernel_launcher.py:61: RuntimeWarning: invalid value encountered in greater\n"
     ]
    },
    {
     "name": "stdout",
     "output_type": "stream",
     "text": [
      "working on L0.1_c-3_m43_visit_-1\n",
      "(708, 3)\n"
     ]
    },
    {
     "name": "stderr",
     "output_type": "stream",
     "text": [
      "C:\\Users\\Tanvi\\AppData\\Local\\Continuum\\anaconda3\\lib\\site-packages\\ipykernel_launcher.py:60: RuntimeWarning: invalid value encountered in greater\n",
      "C:\\Users\\Tanvi\\AppData\\Local\\Continuum\\anaconda3\\lib\\site-packages\\ipykernel_launcher.py:61: RuntimeWarning: invalid value encountered in greater\n"
     ]
    },
    {
     "name": "stdout",
     "output_type": "stream",
     "text": [
      "working on L0.1_c-3_m44_visit_-1\n",
      "(2188, 3)\n"
     ]
    },
    {
     "name": "stderr",
     "output_type": "stream",
     "text": [
      "C:\\Users\\Tanvi\\AppData\\Local\\Continuum\\anaconda3\\lib\\site-packages\\ipykernel_launcher.py:60: RuntimeWarning: invalid value encountered in greater\n",
      "C:\\Users\\Tanvi\\AppData\\Local\\Continuum\\anaconda3\\lib\\site-packages\\ipykernel_launcher.py:61: RuntimeWarning: invalid value encountered in greater\n"
     ]
    },
    {
     "name": "stdout",
     "output_type": "stream",
     "text": [
      "working on L0.1_c-3_m45_visit_-1\n",
      "(1310, 3)\n"
     ]
    },
    {
     "name": "stderr",
     "output_type": "stream",
     "text": [
      "C:\\Users\\Tanvi\\AppData\\Local\\Continuum\\anaconda3\\lib\\site-packages\\ipykernel_launcher.py:60: RuntimeWarning: invalid value encountered in greater\n",
      "C:\\Users\\Tanvi\\AppData\\Local\\Continuum\\anaconda3\\lib\\site-packages\\ipykernel_launcher.py:61: RuntimeWarning: invalid value encountered in greater\n"
     ]
    },
    {
     "name": "stdout",
     "output_type": "stream",
     "text": [
      "working on L0.1_c-3_m46_visit_-1\n",
      "(23, 3)\n",
      "working on L0.1_c-3_m47_visit_-1\n",
      "(274, 3)\n",
      "working on L0.1_c-3_m48_visit_-1\n",
      "(1306, 3)\n"
     ]
    },
    {
     "name": "stderr",
     "output_type": "stream",
     "text": [
      "C:\\Users\\Tanvi\\AppData\\Local\\Continuum\\anaconda3\\lib\\site-packages\\ipykernel_launcher.py:60: RuntimeWarning: invalid value encountered in greater\n",
      "C:\\Users\\Tanvi\\AppData\\Local\\Continuum\\anaconda3\\lib\\site-packages\\ipykernel_launcher.py:61: RuntimeWarning: invalid value encountered in greater\n"
     ]
    },
    {
     "name": "stdout",
     "output_type": "stream",
     "text": [
      "working on L0.1_c-3_m49_visit_-1\n",
      "(704, 3)\n"
     ]
    },
    {
     "name": "stderr",
     "output_type": "stream",
     "text": [
      "C:\\Users\\Tanvi\\AppData\\Local\\Continuum\\anaconda3\\lib\\site-packages\\ipykernel_launcher.py:60: RuntimeWarning: invalid value encountered in greater\n",
      "C:\\Users\\Tanvi\\AppData\\Local\\Continuum\\anaconda3\\lib\\site-packages\\ipykernel_launcher.py:61: RuntimeWarning: invalid value encountered in greater\n"
     ]
    },
    {
     "name": "stdout",
     "output_type": "stream",
     "text": [
      "working on L0.1_c-3_m50_visit_-1\n",
      "(221, 3)\n"
     ]
    },
    {
     "name": "stderr",
     "output_type": "stream",
     "text": [
      "C:\\Users\\Tanvi\\AppData\\Local\\Continuum\\anaconda3\\lib\\site-packages\\ipykernel_launcher.py:60: RuntimeWarning: invalid value encountered in greater\n",
      "C:\\Users\\Tanvi\\AppData\\Local\\Continuum\\anaconda3\\lib\\site-packages\\ipykernel_launcher.py:61: RuntimeWarning: invalid value encountered in greater\n"
     ]
    },
    {
     "name": "stdout",
     "output_type": "stream",
     "text": [
      "working on L0.1_c-3_m54_visit_-1\n",
      "(160, 3)\n",
      "working on L0.1_c-3_m57_visit_-1\n",
      "(124, 3)\n",
      "working on L0.1_c-3_m5_visit_-1\n",
      "(954, 3)\n"
     ]
    },
    {
     "name": "stderr",
     "output_type": "stream",
     "text": [
      "C:\\Users\\Tanvi\\AppData\\Local\\Continuum\\anaconda3\\lib\\site-packages\\ipykernel_launcher.py:60: RuntimeWarning: invalid value encountered in greater\n",
      "C:\\Users\\Tanvi\\AppData\\Local\\Continuum\\anaconda3\\lib\\site-packages\\ipykernel_launcher.py:61: RuntimeWarning: invalid value encountered in greater\n"
     ]
    },
    {
     "name": "stdout",
     "output_type": "stream",
     "text": [
      "working on L0.1_c-3_m8_visit_-1\n",
      "(165, 3)\n",
      "working on L50_c-3_m10_visit_-1\n"
     ]
    },
    {
     "name": "stderr",
     "output_type": "stream",
     "text": [
      "C:\\Users\\Tanvi\\AppData\\Local\\Continuum\\anaconda3\\lib\\site-packages\\ipykernel_launcher.py:60: RuntimeWarning: invalid value encountered in greater\n",
      "C:\\Users\\Tanvi\\AppData\\Local\\Continuum\\anaconda3\\lib\\site-packages\\ipykernel_launcher.py:61: RuntimeWarning: invalid value encountered in greater\n"
     ]
    },
    {
     "name": "stdout",
     "output_type": "stream",
     "text": [
      "(2507, 3)\n",
      "working on L50_c-3_m12_visit_-1\n",
      "(201, 3)\n"
     ]
    },
    {
     "name": "stderr",
     "output_type": "stream",
     "text": [
      "C:\\Users\\Tanvi\\AppData\\Local\\Continuum\\anaconda3\\lib\\site-packages\\ipykernel_launcher.py:60: RuntimeWarning: invalid value encountered in greater\n",
      "C:\\Users\\Tanvi\\AppData\\Local\\Continuum\\anaconda3\\lib\\site-packages\\ipykernel_launcher.py:61: RuntimeWarning: invalid value encountered in greater\n"
     ]
    },
    {
     "name": "stdout",
     "output_type": "stream",
     "text": [
      "working on L50_c-3_m13_visit_-1\n",
      "(1151, 3)\n"
     ]
    },
    {
     "name": "stderr",
     "output_type": "stream",
     "text": [
      "C:\\Users\\Tanvi\\AppData\\Local\\Continuum\\anaconda3\\lib\\site-packages\\ipykernel_launcher.py:60: RuntimeWarning: invalid value encountered in greater\n",
      "C:\\Users\\Tanvi\\AppData\\Local\\Continuum\\anaconda3\\lib\\site-packages\\ipykernel_launcher.py:61: RuntimeWarning: invalid value encountered in greater\n"
     ]
    },
    {
     "name": "stdout",
     "output_type": "stream",
     "text": [
      "working on L50_c-3_m14_visit_-1\n",
      "(476, 3)\n",
      "working on L50_c-3_m15_visit_-1\n",
      "(1215, 3)\n"
     ]
    },
    {
     "name": "stderr",
     "output_type": "stream",
     "text": [
      "C:\\Users\\Tanvi\\AppData\\Local\\Continuum\\anaconda3\\lib\\site-packages\\ipykernel_launcher.py:60: RuntimeWarning: invalid value encountered in greater\n",
      "C:\\Users\\Tanvi\\AppData\\Local\\Continuum\\anaconda3\\lib\\site-packages\\ipykernel_launcher.py:61: RuntimeWarning: invalid value encountered in greater\n"
     ]
    },
    {
     "name": "stdout",
     "output_type": "stream",
     "text": [
      "working on L50_c-3_m21_visit_-1\n",
      "(32, 3)\n",
      "working on L50_c-3_m22_visit_-1\n",
      "(907, 3)\n",
      "working on L50_c-3_m24_visit_-1\n",
      "(1419, 3)\n"
     ]
    },
    {
     "name": "stderr",
     "output_type": "stream",
     "text": [
      "C:\\Users\\Tanvi\\AppData\\Local\\Continuum\\anaconda3\\lib\\site-packages\\ipykernel_launcher.py:60: RuntimeWarning: invalid value encountered in greater\n",
      "C:\\Users\\Tanvi\\AppData\\Local\\Continuum\\anaconda3\\lib\\site-packages\\ipykernel_launcher.py:61: RuntimeWarning: invalid value encountered in greater\n"
     ]
    },
    {
     "name": "stdout",
     "output_type": "stream",
     "text": [
      "working on L50_c-3_m25_visit_-1\n",
      "(151, 3)\n"
     ]
    },
    {
     "name": "stderr",
     "output_type": "stream",
     "text": [
      "C:\\Users\\Tanvi\\AppData\\Local\\Continuum\\anaconda3\\lib\\site-packages\\ipykernel_launcher.py:60: RuntimeWarning: invalid value encountered in greater\n",
      "C:\\Users\\Tanvi\\AppData\\Local\\Continuum\\anaconda3\\lib\\site-packages\\ipykernel_launcher.py:61: RuntimeWarning: invalid value encountered in greater\n"
     ]
    },
    {
     "name": "stdout",
     "output_type": "stream",
     "text": [
      "working on L50_c-3_m26_visit_-1\n",
      "(985, 3)\n",
      "working on L50_c-3_m2_visit_-1\n",
      "(878, 3)\n"
     ]
    },
    {
     "name": "stderr",
     "output_type": "stream",
     "text": [
      "C:\\Users\\Tanvi\\AppData\\Local\\Continuum\\anaconda3\\lib\\site-packages\\ipykernel_launcher.py:60: RuntimeWarning: invalid value encountered in greater\n",
      "C:\\Users\\Tanvi\\AppData\\Local\\Continuum\\anaconda3\\lib\\site-packages\\ipykernel_launcher.py:61: RuntimeWarning: invalid value encountered in greater\n"
     ]
    },
    {
     "name": "stdout",
     "output_type": "stream",
     "text": [
      "working on L50_c-3_m30_visit_-1\n",
      "(161, 3)\n"
     ]
    },
    {
     "name": "stderr",
     "output_type": "stream",
     "text": [
      "C:\\Users\\Tanvi\\AppData\\Local\\Continuum\\anaconda3\\lib\\site-packages\\ipykernel_launcher.py:60: RuntimeWarning: invalid value encountered in greater\n",
      "C:\\Users\\Tanvi\\AppData\\Local\\Continuum\\anaconda3\\lib\\site-packages\\ipykernel_launcher.py:61: RuntimeWarning: invalid value encountered in greater\n"
     ]
    },
    {
     "name": "stdout",
     "output_type": "stream",
     "text": [
      "working on L50_c-3_m32_visit_-1\n",
      "(251, 3)\n"
     ]
    },
    {
     "name": "stderr",
     "output_type": "stream",
     "text": [
      "C:\\Users\\Tanvi\\AppData\\Local\\Continuum\\anaconda3\\lib\\site-packages\\ipykernel_launcher.py:60: RuntimeWarning: invalid value encountered in greater\n",
      "C:\\Users\\Tanvi\\AppData\\Local\\Continuum\\anaconda3\\lib\\site-packages\\ipykernel_launcher.py:61: RuntimeWarning: invalid value encountered in greater\n"
     ]
    },
    {
     "name": "stdout",
     "output_type": "stream",
     "text": [
      "working on L50_c-3_m33_visit_-1\n",
      "(47, 3)\n"
     ]
    },
    {
     "name": "stderr",
     "output_type": "stream",
     "text": [
      "C:\\Users\\Tanvi\\AppData\\Local\\Continuum\\anaconda3\\lib\\site-packages\\ipykernel_launcher.py:60: RuntimeWarning: invalid value encountered in greater\n",
      "C:\\Users\\Tanvi\\AppData\\Local\\Continuum\\anaconda3\\lib\\site-packages\\ipykernel_launcher.py:61: RuntimeWarning: invalid value encountered in greater\n"
     ]
    },
    {
     "name": "stdout",
     "output_type": "stream",
     "text": [
      "working on L50_c-3_m34_visit_-1\n",
      "(152, 3)\n"
     ]
    },
    {
     "name": "stderr",
     "output_type": "stream",
     "text": [
      "C:\\Users\\Tanvi\\AppData\\Local\\Continuum\\anaconda3\\lib\\site-packages\\ipykernel_launcher.py:60: RuntimeWarning: invalid value encountered in greater\n",
      "C:\\Users\\Tanvi\\AppData\\Local\\Continuum\\anaconda3\\lib\\site-packages\\ipykernel_launcher.py:61: RuntimeWarning: invalid value encountered in greater\n"
     ]
    },
    {
     "name": "stdout",
     "output_type": "stream",
     "text": [
      "working on L50_c-3_m35_visit_-1\n",
      "(308, 3)\n"
     ]
    },
    {
     "name": "stderr",
     "output_type": "stream",
     "text": [
      "C:\\Users\\Tanvi\\AppData\\Local\\Continuum\\anaconda3\\lib\\site-packages\\ipykernel_launcher.py:60: RuntimeWarning: invalid value encountered in greater\n",
      "C:\\Users\\Tanvi\\AppData\\Local\\Continuum\\anaconda3\\lib\\site-packages\\ipykernel_launcher.py:61: RuntimeWarning: invalid value encountered in greater\n"
     ]
    },
    {
     "name": "stdout",
     "output_type": "stream",
     "text": [
      "working on L50_c-3_m37_visit_-1\n",
      "(174, 3)\n"
     ]
    },
    {
     "name": "stderr",
     "output_type": "stream",
     "text": [
      "C:\\Users\\Tanvi\\AppData\\Local\\Continuum\\anaconda3\\lib\\site-packages\\ipykernel_launcher.py:60: RuntimeWarning: invalid value encountered in greater\n",
      "C:\\Users\\Tanvi\\AppData\\Local\\Continuum\\anaconda3\\lib\\site-packages\\ipykernel_launcher.py:61: RuntimeWarning: invalid value encountered in greater\n"
     ]
    },
    {
     "name": "stdout",
     "output_type": "stream",
     "text": [
      "working on L50_c-3_m38_visit_-1\n",
      "(689, 3)\n"
     ]
    },
    {
     "name": "stderr",
     "output_type": "stream",
     "text": [
      "C:\\Users\\Tanvi\\AppData\\Local\\Continuum\\anaconda3\\lib\\site-packages\\ipykernel_launcher.py:60: RuntimeWarning: invalid value encountered in greater\n",
      "C:\\Users\\Tanvi\\AppData\\Local\\Continuum\\anaconda3\\lib\\site-packages\\ipykernel_launcher.py:61: RuntimeWarning: invalid value encountered in greater\n"
     ]
    },
    {
     "name": "stdout",
     "output_type": "stream",
     "text": [
      "working on L50_c-3_m39_visit_-1\n",
      "(120, 3)\n",
      "working on L50_c-3_m45_visit_-1\n",
      "(1314, 3)\n"
     ]
    },
    {
     "name": "stderr",
     "output_type": "stream",
     "text": [
      "C:\\Users\\Tanvi\\AppData\\Local\\Continuum\\anaconda3\\lib\\site-packages\\ipykernel_launcher.py:60: RuntimeWarning: invalid value encountered in greater\n",
      "C:\\Users\\Tanvi\\AppData\\Local\\Continuum\\anaconda3\\lib\\site-packages\\ipykernel_launcher.py:61: RuntimeWarning: invalid value encountered in greater\n"
     ]
    },
    {
     "name": "stdout",
     "output_type": "stream",
     "text": [
      "working on L50_c-3_m49_visit_-1\n",
      "(436, 3)\n"
     ]
    },
    {
     "name": "stderr",
     "output_type": "stream",
     "text": [
      "C:\\Users\\Tanvi\\AppData\\Local\\Continuum\\anaconda3\\lib\\site-packages\\ipykernel_launcher.py:60: RuntimeWarning: invalid value encountered in greater\n",
      "C:\\Users\\Tanvi\\AppData\\Local\\Continuum\\anaconda3\\lib\\site-packages\\ipykernel_launcher.py:61: RuntimeWarning: invalid value encountered in greater\n"
     ]
    },
    {
     "name": "stdout",
     "output_type": "stream",
     "text": [
      "working on L50_c-3_m50_visit_-1\n",
      "(5, 3)\n"
     ]
    },
    {
     "ename": "ValueError",
     "evalue": "If mode is 'interp', window_length must be less than or equal to the size of x.",
     "output_type": "error",
     "traceback": [
      "\u001b[1;31m---------------------------------------------------------------------------\u001b[0m",
      "\u001b[1;31mValueError\u001b[0m                                Traceback (most recent call last)",
      "\u001b[1;32m<ipython-input-8-972c7dea35f9>\u001b[0m in \u001b[0;36m<module>\u001b[1;34m\u001b[0m\n\u001b[0;32m     88\u001b[0m                                                               \u001b[0mwindow_length\u001b[0m\u001b[1;33m=\u001b[0m\u001b[0msavgol_win\u001b[0m\u001b[1;33m,\u001b[0m\u001b[1;33m\u001b[0m\u001b[0m\n\u001b[0;32m     89\u001b[0m                                                               \u001b[0mpolyorder\u001b[0m\u001b[1;33m=\u001b[0m\u001b[0msavgol_polyorder\u001b[0m\u001b[1;33m,\u001b[0m\u001b[1;33m\u001b[0m\u001b[0m\n\u001b[1;32m---> 90\u001b[1;33m                                                               axis=0)\n\u001b[0m\u001b[0;32m     91\u001b[0m             \u001b[0mtrajectory\u001b[0m\u001b[1;33m.\u001b[0m\u001b[0mloc\u001b[0m\u001b[1;33m[\u001b[0m\u001b[0mnans\u001b[0m\u001b[1;33m,\u001b[0m \u001b[0mcolname\u001b[0m\u001b[1;33m]\u001b[0m\u001b[1;33m=\u001b[0m \u001b[0mnp\u001b[0m\u001b[1;33m.\u001b[0m\u001b[0mnan\u001b[0m\u001b[1;33m\u001b[0m\u001b[0m\n\u001b[0;32m     92\u001b[0m \u001b[1;33m\u001b[0m\u001b[0m\n",
      "\u001b[1;32m~\\AppData\\Local\\Continuum\\anaconda3\\lib\\site-packages\\scipy\\signal\\_savitzky_golay.py\u001b[0m in \u001b[0;36msavgol_filter\u001b[1;34m(x, window_length, polyorder, deriv, delta, axis, mode, cval)\u001b[0m\n\u001b[0;32m    339\u001b[0m     \u001b[1;32mif\u001b[0m \u001b[0mmode\u001b[0m \u001b[1;33m==\u001b[0m \u001b[1;34m\"interp\"\u001b[0m\u001b[1;33m:\u001b[0m\u001b[1;33m\u001b[0m\u001b[0m\n\u001b[0;32m    340\u001b[0m         \u001b[1;32mif\u001b[0m \u001b[0mwindow_length\u001b[0m \u001b[1;33m>\u001b[0m \u001b[0mx\u001b[0m\u001b[1;33m.\u001b[0m\u001b[0msize\u001b[0m\u001b[1;33m:\u001b[0m\u001b[1;33m\u001b[0m\u001b[0m\n\u001b[1;32m--> 341\u001b[1;33m             raise ValueError(\"If mode is 'interp', window_length must be less \"\n\u001b[0m\u001b[0;32m    342\u001b[0m                              \"than or equal to the size of x.\")\n\u001b[0;32m    343\u001b[0m \u001b[1;33m\u001b[0m\u001b[0m\n",
      "\u001b[1;31mValueError\u001b[0m: If mode is 'interp', window_length must be less than or equal to the size of x."
     ]
    }
   ],
   "source": [
    "for visit in visitnum:\n",
    "    path = os.path.join(direc, visit)\n",
    "    trackslist = glob.glob(path + '*.csv')\n",
    "    \n",
    "#     # remove problem cases\n",
    "#     n_remove = removelist(visit)\n",
    "#     newlist = []\n",
    "#     for n in trackslist:\n",
    "#         m_temp = os.path.basename(n)[:-4]\n",
    "#         a = m_temp.split('_')[0]\n",
    "#         b = m_temp.split('_')[1]\n",
    "#         m = a+'_'+b\n",
    "#         m in n_remove\n",
    "#         if m not in n_remove:\n",
    "#             newlist.append(n)\n",
    "    \n",
    "    newlist = trackslist\n",
    "    outpath = os.path.join('./dataFolders/Output/Proboscis/FilteredTracks/', visit)\n",
    "    outpathfig = os.path.join('./dataFolders/Output/Proboscis/FilteredTracks/Figures', visit)\n",
    "    \n",
    "    for data in newlist:\n",
    "#     data = trackslist[0]\n",
    "        name = os.path.basename(data)[:-4]\n",
    "        print('working on ' + name)\n",
    "\n",
    "\n",
    "        file = pd.read_csv(data)\n",
    "        x = file.x.values\n",
    "        y = file.y.values\n",
    "        p = file.likelihood\n",
    "\n",
    "        x_notinView = x <=5\n",
    "        y_notinView = y <=5\n",
    "\n",
    "        x[x_notinView & y_notinView]=np.nan\n",
    "        y[x_notinView & y_notinView]=np.nan\n",
    "\n",
    "\n",
    "        # add filter for DLC likelihood\n",
    "        med = file['likelihood'].rolling(11).median()\n",
    "        x[med < 0.6] = np.nan\n",
    "        y[med < 0.6] = np.nan\n",
    "\n",
    "        if x.size == 0 or y.size == 0:\n",
    "            print(name + 'has emtpy x y tracks')\n",
    "            continue\n",
    "\n",
    "        mothname = [n for n in circ_parameters.name if n + '_' in data][0]\n",
    "\n",
    "        circ_x = circ_parameters.loc[circ_parameters.name == mothname, 'circ_x'].values\n",
    "        circ_y = circ_parameters.loc[circ_parameters.name == mothname, 'circ_y'].values\n",
    "        circ_radii = circ_parameters.loc[circ_parameters.name == mothname, 'circ_radii'].values\n",
    "\n",
    "        # get rmse values for subsequent frames\n",
    "        rmse = GetRMSE(x[1:], y[1:], x[:-1], y[:-1])\n",
    "\n",
    "        filtered_x = np.copy(x[1:])\n",
    "        filtered_y = np.copy(y[1:])\n",
    "\n",
    "        filtered_x[(rmse > cutoff) | (rmse == np.nan)] = np.nan\n",
    "        filtered_y[(rmse > cutoff) | (rmse == np.nan)] = np.nan\n",
    "\n",
    "        filtered_r = np.linalg.norm([filtered_x - circ_x, filtered_y - circ_y], axis = 0)\n",
    "        filtered_r = filtered_r/circ_radii\n",
    "        filt_trajectory = pd.DataFrame([filtered_x, filtered_y, filtered_r]).T\n",
    "        filt_trajectory.columns = ['x', 'y', 'r']\n",
    "\n",
    "        t = (pd.Series(filtered_x).rolling(30).median(center=True))\n",
    "        t_reverse = t[::-1]\n",
    "        t_reverse\n",
    "        s = np.argmax([ ~np.isnan(t) for t in t_reverse ] )\n",
    "        trim = len(t)-s\n",
    "\n",
    "        # Apply filters\n",
    "        trajectory = filt_trajectory.copy()\n",
    "        trajectory = trajectory.loc[0:trim, :]\n",
    "        print(trajectory.shape)\n",
    "\n",
    "        for colname in trajectory.columns:\n",
    "    #         print(colname)\n",
    "            trajectory.loc[:, colname] = signal.medfilt(trajectory.loc[:, colname], kernel_size=11)\n",
    "            trajectory.loc[:, colname] = trajectory.loc[:, colname].interpolate(method = 'polynomial'\n",
    "                                                                                ,order = 3, limit = 40)\n",
    "\n",
    "            nans = trajectory.loc[:,colname].isnull()\n",
    "            trajectory.loc[:,colname] = trajectory.loc[:,colname].interpolate(method = 'pad')\n",
    "            trajectory.loc[:, colname] = signal.savgol_filter(trajectory.loc[:, colname],\n",
    "                                                              window_length=savgol_win,\n",
    "                                                              polyorder=savgol_polyorder,\n",
    "                                                              axis=0)\n",
    "            trajectory.loc[nans, colname]= np.nan\n",
    "\n",
    "        trajectory_r = np.linalg.norm([trajectory.loc[:,'x'].values - circ_x, trajectory.loc[:,'y'].values - circ_y], axis = 0)\n",
    "        trajectory['r'] = trajectory_r/circ_radii\n",
    "        trajectory['x_centered'] = trajectory.x - circ_x\n",
    "        trajectory['y_centered'] = trajectory.y - circ_y\n",
    "        \n",
    "\n",
    "    #     fig = plt.figure()\n",
    "        axes = pd.concat([filt_trajectory, trajectory], axis = 1).plot(subplots = True, figsize = (15,8))\n",
    "        fig = plt.gcf()\n",
    "    #     .get_figure()\n",
    "        fig.savefig(outpathfig + mothname + '_' + visit[:-1] + '.pdf')\n",
    "        plt.close() \n",
    "\n",
    "        trajectory.to_csv(outpath + mothname + '_' + visit[:-1] + '.csv')"
   ]
  },
  {
   "cell_type": "code",
   "execution_count": null,
   "metadata": {},
   "outputs": [],
   "source": []
  }
 ],
 "metadata": {
  "kernelspec": {
   "display_name": "Python 3",
   "language": "python",
   "name": "python3"
  },
  "language_info": {
   "codemirror_mode": {
    "name": "ipython",
    "version": 3
   },
   "file_extension": ".py",
   "mimetype": "text/x-python",
   "name": "python",
   "nbconvert_exporter": "python",
   "pygments_lexer": "ipython3",
   "version": "3.6.5"
  }
 },
 "nbformat": 4,
 "nbformat_minor": 2
}
