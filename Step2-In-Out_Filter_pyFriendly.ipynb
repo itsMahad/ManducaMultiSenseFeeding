{
 "cells": [
  {
   "cell_type": "code",
   "execution_count": 5,
   "metadata": {},
   "outputs": [
    {
     "name": "stdout",
     "output_type": "stream",
     "text": [
      "working on L0.1_c-3_m12\n",
      "done with L0.1_c-3_m12\n",
      "working on L0.1_c-3_m2\n",
      "done with L0.1_c-3_m2\n",
      "working on L0.1_c-3_m20\n",
      "done with L0.1_c-3_m20\n",
      "working on L0.1_c-3_m21\n",
      "done with L0.1_c-3_m21\n",
      "working on L0.1_c-3_m22\n",
      "done with L0.1_c-3_m22\n",
      "working on L0.1_c-3_m23\n",
      "done with L0.1_c-3_m23\n",
      "working on L0.1_c-3_m24\n",
      "done with L0.1_c-3_m24\n",
      "working on L0.1_c-3_m25\n",
      "done with L0.1_c-3_m25\n"
     ]
    }
   ],
   "source": [
    "import time\n",
    "import pandas as pd\n",
    "import os\n",
    "import numpy as np\n",
    "from scipy import signal\n",
    "\n",
    "\n",
    "def smooth(pix_num):\n",
    "    win_gauss = signal.gaussian(10,3)\n",
    "    smooth_pix_num = signal.convolve(pix_num, win_gauss, mode='same', method = 'direct') / win_gauss.sum()\n",
    "    return(smooth_pix_num)\n",
    "def edge_detect(smooth_pix_num):\n",
    "    pixel_count = np.asarray(smooth_pix_num)\n",
    "    pixel_thresh = 500\n",
    "    motion = (pixel_count > pixel_thresh)\n",
    "    frames = np.array(range(len(motion)-1))\n",
    "    In_frame = frames[motion[1:] & ~motion[:-1]]+1\n",
    "    Out_frame = frames[~motion[1:] & motion[:-1]]+1\n",
    "    return(In_frame, Out_frame)\n",
    "\n",
    "\n",
    "path = '/Users/Mahad/Documents/Python_Folder/Lightlevel-FlowerShape/Data'\n",
    "output_path = '/Users/Mahad/Documents/Python_Folder/Lightlevel-FlowerShape/DataStep2/'\n",
    "data = [(os.path.join(root, name), name[0:-4])\n",
    "               for root, dirs, files in os.walk(path)\n",
    "               for name in files\n",
    "               if name.endswith('.csv')]\n",
    "\n",
    "\n",
    "for video in data:\n",
    "\n",
    "    df = pd.read_csv(video[0])\n",
    "    filename = video[1]\n",
    "    \n",
    "    print('working on ' + filename)\n",
    "    with open(os.path.join(output_path, 'Step2_SummaryFile.txt'), 'a') as log_text:\n",
    "        log_text.write('\\n' + 'working on ' + filename + '\\t' + str(time.asctime()) + '\\n')\n",
    "    \n",
    "    pix_per_frame = df.NumPixel.values\n",
    "    smooth_pix_num = smooth(pix_per_frame)\n",
    "    In, Out = edge_detect(smooth_pix_num)\n",
    "    \n",
    "    if In.size > Out.size:\n",
    "        In = In[:Out.size]\n",
    "    elif In.size < Out.size:\n",
    "        Out = Out[1:]\n",
    "    \n",
    "    frames_in_view = Out - In\n",
    "     \n",
    "    nd = {'In_Frame': In, 'Out_Frame': Out, 'Frames_In_View': frames_in_view}\n",
    "    new_df = pd.DataFrame(data=nd)\n",
    "    new_df.to_csv(output_path + filename + '_MothInOut.csv')\n",
    "    \n",
    "    if frames_in_view.size == 0:\n",
    "        print('no moth movement detected ' + filename)\n",
    "        with open(os.path.join(output_path, 'Step2_SummaryFile.txt'), 'a') as log_text:\n",
    "            log_text.write('\\n' + 'no moth movement detected ' + filename + '\\t' + str(time.asctime()) + '\\n')\n",
    "    else:\n",
    "        print('done with ' + filename)\n",
    "        with open(os.path.join(output_path, 'Step2_SummaryFile.txt'), 'a') as log_text:\n",
    "            log_text.write('done with ' + filename + '\\t' + str(time.asctime()) + '\\n')"
   ]
  },
  {
   "cell_type": "code",
   "execution_count": null,
   "metadata": {},
   "outputs": [],
   "source": []
  },
  {
   "cell_type": "code",
   "execution_count": null,
   "metadata": {},
   "outputs": [],
   "source": []
  }
 ],
 "metadata": {
  "kernelspec": {
   "display_name": "Python 3",
   "language": "python",
   "name": "python3"
  },
  "language_info": {
   "codemirror_mode": {
    "name": "ipython",
    "version": 3
   },
   "file_extension": ".py",
   "mimetype": "text/x-python",
   "name": "python",
   "nbconvert_exporter": "python",
   "pygments_lexer": "ipython3",
   "version": "3.6.4"
  }
 },
 "nbformat": 4,
 "nbformat_minor": 2
}
