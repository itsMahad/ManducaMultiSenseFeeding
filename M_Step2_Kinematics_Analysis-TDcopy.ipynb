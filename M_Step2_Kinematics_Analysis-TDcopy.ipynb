{
 "cells": [
  {
   "cell_type": "code",
   "execution_count": 33,
   "metadata": {},
   "outputs": [],
   "source": [
    "import time\n",
    "import numpy as np\n",
    "import cv2\n",
    "import pandas as pd\n",
    "\n",
    "import matplotlib.pyplot as plt\n",
    "import matplotlib as mpl\n",
    "\n",
    "from scipy import signal\n",
    "import os, errno\n",
    "import glob"
   ]
  },
  {
   "cell_type": "code",
   "execution_count": 2,
   "metadata": {},
   "outputs": [],
   "source": [
    "## get first and last centroids to 1) Draw tracks 2) do calculate radial distance from flower center"
   ]
  },
  {
   "cell_type": "code",
   "execution_count": 3,
   "metadata": {},
   "outputs": [],
   "source": [
    "Centroidfiles_direc = r'G:\\My Drive\\Mahad\\Light Level Experiments\\Data Output from Analysis/motionAnalysis_v4/Centroids_Relevant_v4/'\n",
    "centroid_files = glob.glob(Centroidfiles_direc + 'L*.csv')"
   ]
  },
  {
   "cell_type": "code",
   "execution_count": 4,
   "metadata": {},
   "outputs": [],
   "source": [
    "treatments = ['L0.1' , 'L50']\n",
    "visits = ['first', 'last']"
   ]
  },
  {
   "cell_type": "code",
   "execution_count": 5,
   "metadata": {},
   "outputs": [
    {
     "name": "stdout",
     "output_type": "stream",
     "text": [
      "number of moths in first and L0.1 is 0\n",
      "number of moths in first and L50 is 0\n",
      "number of moths in last and L0.1 is 0\n",
      "number of moths in last and L50 is 0\n"
     ]
    }
   ],
   "source": [
    "for v in visits:\n",
    "    relevantfiles = [f for f in centroid_files if v in f]\n",
    "    for l in treatments:\n",
    "        subsetFiles = [f for f in relevantfiles if 'L' + l in f]\n",
    "        print('number of moths in %s and %s is %d' %(v, l, len(subsetFiles)))"
   ]
  },
  {
   "cell_type": "code",
   "execution_count": 6,
   "metadata": {},
   "outputs": [],
   "source": [
    "df = pd.DataFrame(data = None, columns = ['lightLevel', 'visitNum', 'flower', 'mothID', 'x', 'y'])\n",
    "\n",
    "lux = []\n",
    "flower = []\n",
    "moth = []\n",
    "visitNum = []\n",
    "centroids_x = []\n",
    "centroids_y = []\n",
    "\n",
    "for f in centroid_files:\n",
    "    \n",
    "    cent = pd.read_csv(f)\n",
    "    x_pos = cent.X_position\n",
    "    y_pos = cent.Y_position\n",
    "    \n",
    "    n = len(x_pos)\n",
    "    l, c, m, v = os.path.basename(f).split('_')\n",
    "    padded_l = [l]*n\n",
    "    padded_c = [c]*n\n",
    "    padded_m = [m]*n\n",
    "    padded_v = [v]*n\n",
    "    \n",
    "    lux.extend(padded_l)\n",
    "    flower.extend(padded_c)\n",
    "    moth.extend(padded_m)\n",
    "    visitNum.extend(padded_v)\n",
    "    centroids_x.extend(x_pos)\n",
    "    centroids_y.extend(y_pos)\n",
    "\n",
    "df = pd.DataFrame({'lightLevel': lux\n",
    "                   , 'visitNum': visitNum\n",
    "                   , 'flower' : flower\n",
    "                   , 'mothID': moth\n",
    "                   , 'x': centroids_x\n",
    "                   , 'y': centroids_y\n",
    "                  })\n",
    "\n",
    "df['visitNum'] = df['visitNum'].replace({'lastVisit.csv':'last', 'firstVisit.csv':'first'})"
   ]
  },
  {
   "cell_type": "code",
   "execution_count": 7,
   "metadata": {},
   "outputs": [
    {
     "name": "stdout",
     "output_type": "stream",
     "text": [
      "number of moths in first and L0.1 is 29\n",
      "number of moths in first and L50 is 26\n",
      "number of moths in last and L0.1 is 29\n",
      "number of moths in last and L50 is 26\n"
     ]
    }
   ],
   "source": [
    "for v, subdf in df.groupby('visitNum'):\n",
    "    for l, subsubdf in subdf.groupby('lightLevel'):\n",
    "        totalMoths = subsubdf.mothID.unique()\n",
    "        print('number of moths in %s and %s is %d' %(v, l, len(totalMoths)))"
   ]
  },
  {
   "cell_type": "code",
   "execution_count": 8,
   "metadata": {},
   "outputs": [
    {
     "data": {
      "text/html": [
       "<div>\n",
       "<style scoped>\n",
       "    .dataframe tbody tr th:only-of-type {\n",
       "        vertical-align: middle;\n",
       "    }\n",
       "\n",
       "    .dataframe tbody tr th {\n",
       "        vertical-align: top;\n",
       "    }\n",
       "\n",
       "    .dataframe thead th {\n",
       "        text-align: right;\n",
       "    }\n",
       "</style>\n",
       "<table border=\"1\" class=\"dataframe\">\n",
       "  <thead>\n",
       "    <tr style=\"text-align: right;\">\n",
       "      <th></th>\n",
       "      <th>lightLevel</th>\n",
       "      <th>visitNum</th>\n",
       "      <th>flower</th>\n",
       "      <th>mothID</th>\n",
       "      <th>x</th>\n",
       "      <th>y</th>\n",
       "    </tr>\n",
       "  </thead>\n",
       "  <tbody>\n",
       "    <tr>\n",
       "      <td>0</td>\n",
       "      <td>L50</td>\n",
       "      <td>first</td>\n",
       "      <td>c-3</td>\n",
       "      <td>m9</td>\n",
       "      <td>NaN</td>\n",
       "      <td>NaN</td>\n",
       "    </tr>\n",
       "    <tr>\n",
       "      <td>1</td>\n",
       "      <td>L50</td>\n",
       "      <td>first</td>\n",
       "      <td>c-3</td>\n",
       "      <td>m9</td>\n",
       "      <td>NaN</td>\n",
       "      <td>NaN</td>\n",
       "    </tr>\n",
       "    <tr>\n",
       "      <td>2</td>\n",
       "      <td>L50</td>\n",
       "      <td>first</td>\n",
       "      <td>c-3</td>\n",
       "      <td>m9</td>\n",
       "      <td>NaN</td>\n",
       "      <td>NaN</td>\n",
       "    </tr>\n",
       "    <tr>\n",
       "      <td>3</td>\n",
       "      <td>L50</td>\n",
       "      <td>first</td>\n",
       "      <td>c-3</td>\n",
       "      <td>m9</td>\n",
       "      <td>3.108108</td>\n",
       "      <td>14.256757</td>\n",
       "    </tr>\n",
       "    <tr>\n",
       "      <td>4</td>\n",
       "      <td>L50</td>\n",
       "      <td>first</td>\n",
       "      <td>c-3</td>\n",
       "      <td>m9</td>\n",
       "      <td>9.222973</td>\n",
       "      <td>15.236486</td>\n",
       "    </tr>\n",
       "  </tbody>\n",
       "</table>\n",
       "</div>"
      ],
      "text/plain": [
       "  lightLevel visitNum flower mothID         x          y\n",
       "0        L50    first    c-3     m9       NaN        NaN\n",
       "1        L50    first    c-3     m9       NaN        NaN\n",
       "2        L50    first    c-3     m9       NaN        NaN\n",
       "3        L50    first    c-3     m9  3.108108  14.256757\n",
       "4        L50    first    c-3     m9  9.222973  15.236486"
      ]
     },
     "execution_count": 8,
     "metadata": {},
     "output_type": "execute_result"
    }
   ],
   "source": [
    "df.head()"
   ]
  },
  {
   "cell_type": "code",
   "execution_count": 9,
   "metadata": {},
   "outputs": [],
   "source": [
    "# add the distance measurement to all points"
   ]
  },
  {
   "cell_type": "code",
   "execution_count": 10,
   "metadata": {},
   "outputs": [
    {
     "data": {
      "text/html": [
       "<div>\n",
       "<style scoped>\n",
       "    .dataframe tbody tr th:only-of-type {\n",
       "        vertical-align: middle;\n",
       "    }\n",
       "\n",
       "    .dataframe tbody tr th {\n",
       "        vertical-align: top;\n",
       "    }\n",
       "\n",
       "    .dataframe thead th {\n",
       "        text-align: right;\n",
       "    }\n",
       "</style>\n",
       "<table border=\"1\" class=\"dataframe\">\n",
       "  <thead>\n",
       "    <tr style=\"text-align: right;\">\n",
       "      <th></th>\n",
       "      <th>Unnamed: 0</th>\n",
       "      <th>name</th>\n",
       "      <th>circ_x</th>\n",
       "      <th>circ_y</th>\n",
       "      <th>circ_radii</th>\n",
       "    </tr>\n",
       "  </thead>\n",
       "  <tbody>\n",
       "    <tr>\n",
       "      <td>0</td>\n",
       "      <td>0</td>\n",
       "      <td>L0.1_c-3_m27</td>\n",
       "      <td>311</td>\n",
       "      <td>233</td>\n",
       "      <td>74</td>\n",
       "    </tr>\n",
       "    <tr>\n",
       "      <td>1</td>\n",
       "      <td>1</td>\n",
       "      <td>L0.1_c-3_m25</td>\n",
       "      <td>309</td>\n",
       "      <td>232</td>\n",
       "      <td>74</td>\n",
       "    </tr>\n",
       "    <tr>\n",
       "      <td>2</td>\n",
       "      <td>2</td>\n",
       "      <td>L0.1_c-3_m24</td>\n",
       "      <td>310</td>\n",
       "      <td>233</td>\n",
       "      <td>74</td>\n",
       "    </tr>\n",
       "    <tr>\n",
       "      <td>3</td>\n",
       "      <td>3</td>\n",
       "      <td>L0.1_c-3_m23</td>\n",
       "      <td>310</td>\n",
       "      <td>233</td>\n",
       "      <td>74</td>\n",
       "    </tr>\n",
       "    <tr>\n",
       "      <td>4</td>\n",
       "      <td>4</td>\n",
       "      <td>L0.1_c-3_m22</td>\n",
       "      <td>310</td>\n",
       "      <td>232</td>\n",
       "      <td>74</td>\n",
       "    </tr>\n",
       "  </tbody>\n",
       "</table>\n",
       "</div>"
      ],
      "text/plain": [
       "   Unnamed: 0          name  circ_x  circ_y  circ_radii\n",
       "0           0  L0.1_c-3_m27     311     233          74\n",
       "1           1  L0.1_c-3_m25     309     232          74\n",
       "2           2  L0.1_c-3_m24     310     233          74\n",
       "3           3  L0.1_c-3_m23     310     233          74\n",
       "4           4  L0.1_c-3_m22     310     232          74"
      ]
     },
     "execution_count": 10,
     "metadata": {},
     "output_type": "execute_result"
    }
   ],
   "source": [
    "circ_parameters = pd.read_csv('G:\\My Drive\\Mahad\\Light Level Experiments\\Data Output from Analysis\\motionAnalysis_v3\\circle_parameters.csv')\n",
    "circ_parameters.head()"
   ]
  },
  {
   "cell_type": "code",
   "execution_count": 11,
   "metadata": {},
   "outputs": [],
   "source": [
    "df['name'] = df['lightLevel'] + '_' + df['flower'] + '_' + df['mothID']\n",
    "df[\"flower_x\"] = np.nan\n",
    "df[\"flower_y\"] = np.nan"
   ]
  },
  {
   "cell_type": "code",
   "execution_count": 12,
   "metadata": {},
   "outputs": [],
   "source": [
    "for n,subdf in df.groupby('name'):\n",
    "    r = circ_parameters.loc[circ_parameters.name == n, 'circ_radii'].values\n",
    "    circ_x =  circ_parameters.loc[circ_parameters.name == n, 'circ_x'].values*2.5/r\n",
    "    circ_y =  circ_parameters.loc[circ_parameters.name == n, 'circ_y'].values*2.5/r\n",
    "    \n",
    "    l = len(subdf)\n",
    "    f_x = [circ_x]*l\n",
    "    f_y = [circ_y]*l\n",
    "    \n",
    "    df.loc[df.name == n, 'flower_x'] = f_x\n",
    "    df.loc[df.name == n, 'flower_y'] = f_y\n",
    "#     df['f_x'] = circ_parameters.loc[circ_parameters.name == df['name'], 'circ_x']"
   ]
  },
  {
   "cell_type": "code",
   "execution_count": 13,
   "metadata": {},
   "outputs": [
    {
     "data": {
      "text/html": [
       "<div>\n",
       "<style scoped>\n",
       "    .dataframe tbody tr th:only-of-type {\n",
       "        vertical-align: middle;\n",
       "    }\n",
       "\n",
       "    .dataframe tbody tr th {\n",
       "        vertical-align: top;\n",
       "    }\n",
       "\n",
       "    .dataframe thead th {\n",
       "        text-align: right;\n",
       "    }\n",
       "</style>\n",
       "<table border=\"1\" class=\"dataframe\">\n",
       "  <thead>\n",
       "    <tr style=\"text-align: right;\">\n",
       "      <th></th>\n",
       "      <th>lightLevel</th>\n",
       "      <th>visitNum</th>\n",
       "      <th>flower</th>\n",
       "      <th>mothID</th>\n",
       "      <th>x</th>\n",
       "      <th>y</th>\n",
       "      <th>name</th>\n",
       "      <th>flower_x</th>\n",
       "      <th>flower_y</th>\n",
       "    </tr>\n",
       "  </thead>\n",
       "  <tbody>\n",
       "    <tr>\n",
       "      <td>0</td>\n",
       "      <td>L50</td>\n",
       "      <td>first</td>\n",
       "      <td>c-3</td>\n",
       "      <td>m9</td>\n",
       "      <td>NaN</td>\n",
       "      <td>NaN</td>\n",
       "      <td>L50_c-3_m9</td>\n",
       "      <td>10.472973</td>\n",
       "      <td>7.871622</td>\n",
       "    </tr>\n",
       "    <tr>\n",
       "      <td>1</td>\n",
       "      <td>L50</td>\n",
       "      <td>first</td>\n",
       "      <td>c-3</td>\n",
       "      <td>m9</td>\n",
       "      <td>NaN</td>\n",
       "      <td>NaN</td>\n",
       "      <td>L50_c-3_m9</td>\n",
       "      <td>10.472973</td>\n",
       "      <td>7.871622</td>\n",
       "    </tr>\n",
       "    <tr>\n",
       "      <td>2</td>\n",
       "      <td>L50</td>\n",
       "      <td>first</td>\n",
       "      <td>c-3</td>\n",
       "      <td>m9</td>\n",
       "      <td>NaN</td>\n",
       "      <td>NaN</td>\n",
       "      <td>L50_c-3_m9</td>\n",
       "      <td>10.472973</td>\n",
       "      <td>7.871622</td>\n",
       "    </tr>\n",
       "    <tr>\n",
       "      <td>3</td>\n",
       "      <td>L50</td>\n",
       "      <td>first</td>\n",
       "      <td>c-3</td>\n",
       "      <td>m9</td>\n",
       "      <td>3.108108</td>\n",
       "      <td>14.256757</td>\n",
       "      <td>L50_c-3_m9</td>\n",
       "      <td>10.472973</td>\n",
       "      <td>7.871622</td>\n",
       "    </tr>\n",
       "    <tr>\n",
       "      <td>4</td>\n",
       "      <td>L50</td>\n",
       "      <td>first</td>\n",
       "      <td>c-3</td>\n",
       "      <td>m9</td>\n",
       "      <td>9.222973</td>\n",
       "      <td>15.236486</td>\n",
       "      <td>L50_c-3_m9</td>\n",
       "      <td>10.472973</td>\n",
       "      <td>7.871622</td>\n",
       "    </tr>\n",
       "  </tbody>\n",
       "</table>\n",
       "</div>"
      ],
      "text/plain": [
       "  lightLevel visitNum flower mothID         x          y        name  \\\n",
       "0        L50    first    c-3     m9       NaN        NaN  L50_c-3_m9   \n",
       "1        L50    first    c-3     m9       NaN        NaN  L50_c-3_m9   \n",
       "2        L50    first    c-3     m9       NaN        NaN  L50_c-3_m9   \n",
       "3        L50    first    c-3     m9  3.108108  14.256757  L50_c-3_m9   \n",
       "4        L50    first    c-3     m9  9.222973  15.236486  L50_c-3_m9   \n",
       "\n",
       "    flower_x  flower_y  \n",
       "0  10.472973  7.871622  \n",
       "1  10.472973  7.871622  \n",
       "2  10.472973  7.871622  \n",
       "3  10.472973  7.871622  \n",
       "4  10.472973  7.871622  "
      ]
     },
     "execution_count": 13,
     "metadata": {},
     "output_type": "execute_result"
    }
   ],
   "source": [
    "df.head()"
   ]
  },
  {
   "cell_type": "code",
   "execution_count": 14,
   "metadata": {},
   "outputs": [],
   "source": [
    "df['cent_x'] = df['flower_x'] - df['x']\n",
    "df['cent_y'] = df['flower_y'] - df['y']"
   ]
  },
  {
   "cell_type": "code",
   "execution_count": 15,
   "metadata": {},
   "outputs": [],
   "source": [
    "df['distance'] = df.loc[:,['cent_x', 'cent_y']].apply(np.linalg.norm, axis=1, ord = 2)"
   ]
  },
  {
   "cell_type": "code",
   "execution_count": 16,
   "metadata": {},
   "outputs": [
    {
     "data": {
      "text/html": [
       "<div>\n",
       "<style scoped>\n",
       "    .dataframe tbody tr th:only-of-type {\n",
       "        vertical-align: middle;\n",
       "    }\n",
       "\n",
       "    .dataframe tbody tr th {\n",
       "        vertical-align: top;\n",
       "    }\n",
       "\n",
       "    .dataframe thead th {\n",
       "        text-align: right;\n",
       "    }\n",
       "</style>\n",
       "<table border=\"1\" class=\"dataframe\">\n",
       "  <thead>\n",
       "    <tr style=\"text-align: right;\">\n",
       "      <th></th>\n",
       "      <th>lightLevel</th>\n",
       "      <th>visitNum</th>\n",
       "      <th>flower</th>\n",
       "      <th>mothID</th>\n",
       "      <th>x</th>\n",
       "      <th>y</th>\n",
       "      <th>name</th>\n",
       "      <th>flower_x</th>\n",
       "      <th>flower_y</th>\n",
       "      <th>cent_x</th>\n",
       "      <th>cent_y</th>\n",
       "      <th>distance</th>\n",
       "    </tr>\n",
       "  </thead>\n",
       "  <tbody>\n",
       "    <tr>\n",
       "      <td>0</td>\n",
       "      <td>L50</td>\n",
       "      <td>first</td>\n",
       "      <td>c-3</td>\n",
       "      <td>m9</td>\n",
       "      <td>NaN</td>\n",
       "      <td>NaN</td>\n",
       "      <td>L50_c-3_m9</td>\n",
       "      <td>10.472973</td>\n",
       "      <td>7.871622</td>\n",
       "      <td>NaN</td>\n",
       "      <td>NaN</td>\n",
       "      <td>NaN</td>\n",
       "    </tr>\n",
       "    <tr>\n",
       "      <td>1</td>\n",
       "      <td>L50</td>\n",
       "      <td>first</td>\n",
       "      <td>c-3</td>\n",
       "      <td>m9</td>\n",
       "      <td>NaN</td>\n",
       "      <td>NaN</td>\n",
       "      <td>L50_c-3_m9</td>\n",
       "      <td>10.472973</td>\n",
       "      <td>7.871622</td>\n",
       "      <td>NaN</td>\n",
       "      <td>NaN</td>\n",
       "      <td>NaN</td>\n",
       "    </tr>\n",
       "    <tr>\n",
       "      <td>2</td>\n",
       "      <td>L50</td>\n",
       "      <td>first</td>\n",
       "      <td>c-3</td>\n",
       "      <td>m9</td>\n",
       "      <td>NaN</td>\n",
       "      <td>NaN</td>\n",
       "      <td>L50_c-3_m9</td>\n",
       "      <td>10.472973</td>\n",
       "      <td>7.871622</td>\n",
       "      <td>NaN</td>\n",
       "      <td>NaN</td>\n",
       "      <td>NaN</td>\n",
       "    </tr>\n",
       "    <tr>\n",
       "      <td>3</td>\n",
       "      <td>L50</td>\n",
       "      <td>first</td>\n",
       "      <td>c-3</td>\n",
       "      <td>m9</td>\n",
       "      <td>3.108108</td>\n",
       "      <td>14.256757</td>\n",
       "      <td>L50_c-3_m9</td>\n",
       "      <td>10.472973</td>\n",
       "      <td>7.871622</td>\n",
       "      <td>7.364865</td>\n",
       "      <td>-6.385135</td>\n",
       "      <td>9.747368</td>\n",
       "    </tr>\n",
       "    <tr>\n",
       "      <td>4</td>\n",
       "      <td>L50</td>\n",
       "      <td>first</td>\n",
       "      <td>c-3</td>\n",
       "      <td>m9</td>\n",
       "      <td>9.222973</td>\n",
       "      <td>15.236486</td>\n",
       "      <td>L50_c-3_m9</td>\n",
       "      <td>10.472973</td>\n",
       "      <td>7.871622</td>\n",
       "      <td>1.250000</td>\n",
       "      <td>-7.364865</td>\n",
       "      <td>7.470190</td>\n",
       "    </tr>\n",
       "  </tbody>\n",
       "</table>\n",
       "</div>"
      ],
      "text/plain": [
       "  lightLevel visitNum flower mothID         x          y        name  \\\n",
       "0        L50    first    c-3     m9       NaN        NaN  L50_c-3_m9   \n",
       "1        L50    first    c-3     m9       NaN        NaN  L50_c-3_m9   \n",
       "2        L50    first    c-3     m9       NaN        NaN  L50_c-3_m9   \n",
       "3        L50    first    c-3     m9  3.108108  14.256757  L50_c-3_m9   \n",
       "4        L50    first    c-3     m9  9.222973  15.236486  L50_c-3_m9   \n",
       "\n",
       "    flower_x  flower_y    cent_x    cent_y  distance  \n",
       "0  10.472973  7.871622       NaN       NaN       NaN  \n",
       "1  10.472973  7.871622       NaN       NaN       NaN  \n",
       "2  10.472973  7.871622       NaN       NaN       NaN  \n",
       "3  10.472973  7.871622  7.364865 -6.385135  9.747368  \n",
       "4  10.472973  7.871622  1.250000 -7.364865  7.470190  "
      ]
     },
     "execution_count": 16,
     "metadata": {},
     "output_type": "execute_result"
    }
   ],
   "source": [
    "df.head()"
   ]
  },
  {
   "cell_type": "code",
   "execution_count": 17,
   "metadata": {},
   "outputs": [],
   "source": [
    "df.to_csv('./dataFolders/Output/KinematicAnalysis_v5/CentroidAndDistanceData.csv')"
   ]
  },
  {
   "cell_type": "markdown",
   "metadata": {},
   "source": [
    "## compute paramters and draw plots"
   ]
  },
  {
   "cell_type": "code",
   "execution_count": 18,
   "metadata": {},
   "outputs": [
    {
     "data": {
      "text/html": [
       "<div>\n",
       "<style scoped>\n",
       "    .dataframe tbody tr th:only-of-type {\n",
       "        vertical-align: middle;\n",
       "    }\n",
       "\n",
       "    .dataframe tbody tr th {\n",
       "        vertical-align: top;\n",
       "    }\n",
       "\n",
       "    .dataframe thead th {\n",
       "        text-align: right;\n",
       "    }\n",
       "</style>\n",
       "<table border=\"1\" class=\"dataframe\">\n",
       "  <thead>\n",
       "    <tr style=\"text-align: right;\">\n",
       "      <th></th>\n",
       "      <th>Unnamed: 0</th>\n",
       "      <th>name</th>\n",
       "    </tr>\n",
       "  </thead>\n",
       "  <tbody>\n",
       "    <tr>\n",
       "      <td>0</td>\n",
       "      <td>0</td>\n",
       "      <td>L0.1_c-3_m10_firstVisit.csv</td>\n",
       "    </tr>\n",
       "    <tr>\n",
       "      <td>1</td>\n",
       "      <td>1</td>\n",
       "      <td>L0.1_c-3_m10_lastVisit.csv</td>\n",
       "    </tr>\n",
       "    <tr>\n",
       "      <td>2</td>\n",
       "      <td>2</td>\n",
       "      <td>L0.1_c-3_m12_firstVisit.csv</td>\n",
       "    </tr>\n",
       "    <tr>\n",
       "      <td>3</td>\n",
       "      <td>3</td>\n",
       "      <td>L0.1_c-3_m12_lastVisit.csv</td>\n",
       "    </tr>\n",
       "    <tr>\n",
       "      <td>4</td>\n",
       "      <td>4</td>\n",
       "      <td>L0.1_c-3_m23_lastVisit.csv</td>\n",
       "    </tr>\n",
       "  </tbody>\n",
       "</table>\n",
       "</div>"
      ],
      "text/plain": [
       "   Unnamed: 0                         name\n",
       "0           0  L0.1_c-3_m10_firstVisit.csv\n",
       "1           1   L0.1_c-3_m10_lastVisit.csv\n",
       "2           2  L0.1_c-3_m12_firstVisit.csv\n",
       "3           3   L0.1_c-3_m12_lastVisit.csv\n",
       "4           4   L0.1_c-3_m23_lastVisit.csv"
      ]
     },
     "execution_count": 18,
     "metadata": {},
     "output_type": "execute_result"
    }
   ],
   "source": [
    "# remove Problematic Files\n",
    "\n",
    "listProbs = pd.read_csv(r'G:\\My Drive\\Mahad\\Light Level Experiments\\Data Output from Analysis\\VideosWithMarkers\\FirstLastTroubleVideos_v4\\names.csv')\n",
    "listProbs['name'] = listProbs['name'].str[1:]\n",
    "listProbs.head()\n",
    "\n",
    "# df.name.str.contains(df.name + '_' + df.visitNum)"
   ]
  },
  {
   "cell_type": "code",
   "execution_count": 19,
   "metadata": {},
   "outputs": [],
   "source": [
    "df['string'] = df.name + '_' + df.visitNum + 'Visit.csv'\n",
    "\n",
    "sub_df= df[pd.DataFrame(df.string.tolist()).isin(listProbs.name.tolist()).any(1) == False]"
   ]
  },
  {
   "cell_type": "code",
   "execution_count": 20,
   "metadata": {},
   "outputs": [
    {
     "data": {
      "text/html": [
       "<div>\n",
       "<style scoped>\n",
       "    .dataframe tbody tr th:only-of-type {\n",
       "        vertical-align: middle;\n",
       "    }\n",
       "\n",
       "    .dataframe tbody tr th {\n",
       "        vertical-align: top;\n",
       "    }\n",
       "\n",
       "    .dataframe thead th {\n",
       "        text-align: right;\n",
       "    }\n",
       "</style>\n",
       "<table border=\"1\" class=\"dataframe\">\n",
       "  <thead>\n",
       "    <tr style=\"text-align: right;\">\n",
       "      <th></th>\n",
       "      <th>lightLevel</th>\n",
       "      <th>visitNum</th>\n",
       "      <th>flower</th>\n",
       "      <th>mothID</th>\n",
       "      <th>x</th>\n",
       "      <th>y</th>\n",
       "      <th>name</th>\n",
       "      <th>flower_x</th>\n",
       "      <th>flower_y</th>\n",
       "      <th>cent_x</th>\n",
       "      <th>cent_y</th>\n",
       "      <th>distance</th>\n",
       "      <th>string</th>\n",
       "    </tr>\n",
       "  </thead>\n",
       "  <tbody>\n",
       "    <tr>\n",
       "      <td>1843</td>\n",
       "      <td>L50</td>\n",
       "      <td>first</td>\n",
       "      <td>c-3</td>\n",
       "      <td>m49</td>\n",
       "      <td>0.608974</td>\n",
       "      <td>14.967949</td>\n",
       "      <td>L50_c-3_m49</td>\n",
       "      <td>9.679487</td>\n",
       "      <td>6.923077</td>\n",
       "      <td>9.070513</td>\n",
       "      <td>-8.044872</td>\n",
       "      <td>12.124115</td>\n",
       "      <td>L50_c-3_m49_firstVisit.csv</td>\n",
       "    </tr>\n",
       "    <tr>\n",
       "      <td>1844</td>\n",
       "      <td>L50</td>\n",
       "      <td>first</td>\n",
       "      <td>c-3</td>\n",
       "      <td>m49</td>\n",
       "      <td>NaN</td>\n",
       "      <td>NaN</td>\n",
       "      <td>L50_c-3_m49</td>\n",
       "      <td>9.679487</td>\n",
       "      <td>6.923077</td>\n",
       "      <td>NaN</td>\n",
       "      <td>NaN</td>\n",
       "      <td>NaN</td>\n",
       "      <td>L50_c-3_m49_firstVisit.csv</td>\n",
       "    </tr>\n",
       "    <tr>\n",
       "      <td>1845</td>\n",
       "      <td>L50</td>\n",
       "      <td>first</td>\n",
       "      <td>c-3</td>\n",
       "      <td>m49</td>\n",
       "      <td>NaN</td>\n",
       "      <td>NaN</td>\n",
       "      <td>L50_c-3_m49</td>\n",
       "      <td>9.679487</td>\n",
       "      <td>6.923077</td>\n",
       "      <td>NaN</td>\n",
       "      <td>NaN</td>\n",
       "      <td>NaN</td>\n",
       "      <td>L50_c-3_m49_firstVisit.csv</td>\n",
       "    </tr>\n",
       "    <tr>\n",
       "      <td>1846</td>\n",
       "      <td>L50</td>\n",
       "      <td>first</td>\n",
       "      <td>c-3</td>\n",
       "      <td>m49</td>\n",
       "      <td>NaN</td>\n",
       "      <td>NaN</td>\n",
       "      <td>L50_c-3_m49</td>\n",
       "      <td>9.679487</td>\n",
       "      <td>6.923077</td>\n",
       "      <td>NaN</td>\n",
       "      <td>NaN</td>\n",
       "      <td>NaN</td>\n",
       "      <td>L50_c-3_m49_firstVisit.csv</td>\n",
       "    </tr>\n",
       "    <tr>\n",
       "      <td>1847</td>\n",
       "      <td>L50</td>\n",
       "      <td>first</td>\n",
       "      <td>c-3</td>\n",
       "      <td>m49</td>\n",
       "      <td>1.057692</td>\n",
       "      <td>14.711538</td>\n",
       "      <td>L50_c-3_m49</td>\n",
       "      <td>9.679487</td>\n",
       "      <td>6.923077</td>\n",
       "      <td>8.621795</td>\n",
       "      <td>-7.788462</td>\n",
       "      <td>11.618756</td>\n",
       "      <td>L50_c-3_m49_firstVisit.csv</td>\n",
       "    </tr>\n",
       "  </tbody>\n",
       "</table>\n",
       "</div>"
      ],
      "text/plain": [
       "     lightLevel visitNum flower mothID         x          y         name  \\\n",
       "1843        L50    first    c-3    m49  0.608974  14.967949  L50_c-3_m49   \n",
       "1844        L50    first    c-3    m49       NaN        NaN  L50_c-3_m49   \n",
       "1845        L50    first    c-3    m49       NaN        NaN  L50_c-3_m49   \n",
       "1846        L50    first    c-3    m49       NaN        NaN  L50_c-3_m49   \n",
       "1847        L50    first    c-3    m49  1.057692  14.711538  L50_c-3_m49   \n",
       "\n",
       "      flower_x  flower_y    cent_x    cent_y   distance  \\\n",
       "1843  9.679487  6.923077  9.070513 -8.044872  12.124115   \n",
       "1844  9.679487  6.923077       NaN       NaN        NaN   \n",
       "1845  9.679487  6.923077       NaN       NaN        NaN   \n",
       "1846  9.679487  6.923077       NaN       NaN        NaN   \n",
       "1847  9.679487  6.923077  8.621795 -7.788462  11.618756   \n",
       "\n",
       "                          string  \n",
       "1843  L50_c-3_m49_firstVisit.csv  \n",
       "1844  L50_c-3_m49_firstVisit.csv  \n",
       "1845  L50_c-3_m49_firstVisit.csv  \n",
       "1846  L50_c-3_m49_firstVisit.csv  \n",
       "1847  L50_c-3_m49_firstVisit.csv  "
      ]
     },
     "execution_count": 20,
     "metadata": {},
     "output_type": "execute_result"
    }
   ],
   "source": [
    "sub_df.head()"
   ]
  },
  {
   "cell_type": "code",
   "execution_count": 21,
   "metadata": {},
   "outputs": [
    {
     "data": {
      "text/plain": [
       "(110, 75)"
      ]
     },
     "execution_count": 21,
     "metadata": {},
     "output_type": "execute_result"
    }
   ],
   "source": [
    "len(df.string.unique()), len(sub_df.string.unique())"
   ]
  },
  {
   "cell_type": "code",
   "execution_count": 22,
   "metadata": {},
   "outputs": [
    {
     "data": {
      "text/plain": [
       "35"
      ]
     },
     "execution_count": 22,
     "metadata": {},
     "output_type": "execute_result"
    }
   ],
   "source": [
    "len(listProbs.name.values)"
   ]
  },
  {
   "cell_type": "code",
   "execution_count": 23,
   "metadata": {},
   "outputs": [],
   "source": [
    "colorScheme = {'L0.1':plt.cm.Purples_r, 'L50':plt.cm.Oranges_r}"
   ]
  },
  {
   "cell_type": "code",
   "execution_count": 24,
   "metadata": {},
   "outputs": [],
   "source": [
    "def slicePandas(df, lightLevel, visitNum):\n",
    "    subdf = df[df.visitNum == visitNum]\n",
    "    subsubdf = subdf[subdf.lightLevel == lightLevel]\n",
    "    return(subsubdf)"
   ]
  },
  {
   "cell_type": "code",
   "execution_count": 25,
   "metadata": {},
   "outputs": [],
   "source": [
    "def addAllHist(df):\n",
    "    h = np.zeros((50,50))\n",
    "    \n",
    "    for m, test in df.groupby('mothID'):\n",
    "        x = test.loc[test.x.notna(), 'x'] \n",
    "        y = test.loc[test.y.notna(), 'y']\n",
    "\n",
    "        heatmap, xedges, yedges = np.histogram2d(x, y, bins = 50)\n",
    "        heatmap = heatmap/heatmap.max()\n",
    "        h = h + heatmap\n",
    "    return(h)"
   ]
  },
  {
   "cell_type": "code",
   "execution_count": 26,
   "metadata": {},
   "outputs": [],
   "source": [
    "def plotHist(heatmap, cmap, ax):\n",
    "    \n",
    "    cmap.set_under(color='black')\n",
    "    im = ax.imshow(heatmap/heatmap.max()\n",
    "                 ,  extent = [0, 648, 488, 0]\n",
    "                 , origin = 'upper'\n",
    "                 , cmap = cmap\n",
    "                 , vmin = 0.1)\n",
    "    ax.axis('off')\n",
    "    # ax[ii].set_title(v + '_' + l)\n",
    "#     clr = plt.colorbar(im)"
   ]
  },
  {
   "cell_type": "code",
   "execution_count": 27,
   "metadata": {},
   "outputs": [],
   "source": [
    "new_df = slicePandas(sub_df, 'L0.1', 'first')\n",
    "low_first = addAllHist(new_df)\n",
    "\n",
    "new_df = slicePandas(sub_df, 'L0.1', 'last')\n",
    "low_last = addAllHist(new_df)\n",
    "\n",
    "new_df = slicePandas(sub_df, 'L50', 'first')\n",
    "high_first = addAllHist(new_df)\n",
    "\n",
    "new_df = slicePandas(sub_df, 'L50', 'last')\n",
    "high_last = addAllHist(new_df)\n",
    "\n",
    "allhist = [low_first, low_last, high_first, high_last]"
   ]
  },
  {
   "cell_type": "code",
   "execution_count": 127,
   "metadata": {},
   "outputs": [
    {
     "data": {
      "image/png": "[encoded data removed]",
      "text/plain": [
       "<Figure size 168x168 with 1 Axes>"
      ]
     },
     "metadata": {
      "needs_background": "light"
     },
     "output_type": "display_data"
    },
    {
     "data": {
      "image/png": "[encoded data removed]",
      "text/plain": [
       "<Figure size 168x168 with 1 Axes>"
      ]
     },
     "metadata": {
      "needs_background": "light"
     },
     "output_type": "display_data"
    },
    {
     "data": {
      "image/png": "[encoded data removed]",
      "text/plain": [
       "<Figure size 168x168 with 1 Axes>"
      ]
     },
     "metadata": {
      "needs_background": "light"
     },
     "output_type": "display_data"
    },
    {
     "data": {
      "image/png": "[encoded data removed]",
      "text/plain": [
       "<Figure size 168x168 with 1 Axes>"
      ]
     },
     "metadata": {
      "needs_background": "light"
     },
     "output_type": "display_data"
    }
   ],
   "source": [
    "## plot the histograms and save the figures\n",
    "w = 7/3 \n",
    "h = w\n",
    "\n",
    "ii = 0\n",
    "vv = 0\n",
    "for listHist in allhist:\n",
    "    if ii == 0 or ii == 1:\n",
    "        cmap = colorScheme['L0.1']\n",
    "        if vv == 0:\n",
    "            name = 'low_first'\n",
    "        else: \n",
    "            name = 'low_last'\n",
    "    else:\n",
    "        cmap = colorScheme['L50']\n",
    "        if vv == 2:\n",
    "            name = 'high_first'\n",
    "        else:\n",
    "            name = 'high_last'\n",
    "\n",
    "    \n",
    "    f, ax = plt.subplots(figsize = (w,h))\n",
    "    plotHist(listHist, cmap, ax)\n",
    "    plt.savefig('./dataFolders/Output/KinematicAnalysis_v5/Figures/' + 'heatmap_' + name + '.pdf')\n",
    "    ii+=1\n",
    "    vv+=1"
   ]
  },
  {
   "cell_type": "code",
   "execution_count": 125,
   "metadata": {},
   "outputs": [
    {
     "data": {
      "image/png": "[encoded data removed]",
      "text/plain": [
       "<Figure size 432x72 with 1 Axes>"
      ]
     },
     "metadata": {
      "needs_background": "light"
     },
     "output_type": "display_data"
    }
   ],
   "source": [
    "# cmap = plt.cm.Purples_r\n",
    "# cmap.set_under(color='black')\n",
    "figname = ['low', 'high']\n",
    "fig, ax = plt.subplots(figsize=(6, 1))\n",
    "fig.subplots_adjust(bottom=0.5)\n",
    "\n",
    "norm = mpl.colors.Normalize(vmin=0.1, vmax=1)\n",
    "\n",
    "for i, c in enumerate(colorScheme):\n",
    "#     print(c)\n",
    "    cmap = colorScheme[c]\n",
    "    cb1 = mpl.colorbar.ColorbarBase(ax, cmap=cmap,\n",
    "                                    norm = norm,\n",
    "                                    orientation='horizontal')\n",
    "    plt.savefig('./dataFolders/Output/KinematicAnalysis_v5/Figures/' + figname[i] + '_colorbar.pdf')"
   ]
  },
  {
   "cell_type": "code",
   "execution_count": 48,
   "metadata": {},
   "outputs": [],
   "source": [
    "# plot individual moth histrogram and see why is first visit looking like a big glob!\n",
    "\n",
    "for moth, sub in df.groupby('name'):\n",
    "    for v, specific in sub.groupby('visitNum'):\n",
    "        f, ax = plt.subplots()\n",
    "        x = specific.loc[specific.x.notna(), 'x'] \n",
    "        y = specific.loc[specific.y.notna(), 'y']\n",
    "\n",
    "        heatmap, xedges, yedges = np.histogram2d(x, y, bins = 50)\n",
    "        heatmap = heatmap/heatmap.max()\n",
    "\n",
    "        if 'L50' in moth:\n",
    "            cmap = colorScheme['L50']\n",
    "        else:\n",
    "            cmap = colorScheme['L0.1']\n",
    "\n",
    "        cmap.set_under(color='black')\n",
    "\n",
    "        im = ax.imshow(heatmap/heatmap.max()\n",
    "                     ,  extent = [0, 648, 488, 0]\n",
    "                     , origin = 'upper'\n",
    "                     , cmap = cmap\n",
    "                     , vmin = 0.01)\n",
    "        ax.axis('off')\n",
    "\n",
    "        f.colorbar(im, ax = ax)\n",
    "    #     cb1 = mpl.colorbar.ColorbarBase(ax, cmap=cmap,\n",
    "    #                                 orientation='vertical')\n",
    "\n",
    "        plt.savefig('./dataFolders/Output/KinematicAnalysis_v5/Figures/IndividualMoths/' + moth + '_' + v + '_heatmap.pdf')\n",
    "        plt.close(f)"
   ]
  },
  {
   "cell_type": "code",
   "execution_count": 49,
   "metadata": {},
   "outputs": [
    {
     "data": {
      "text/html": [
       "<div>\n",
       "<style scoped>\n",
       "    .dataframe tbody tr th:only-of-type {\n",
       "        vertical-align: middle;\n",
       "    }\n",
       "\n",
       "    .dataframe tbody tr th {\n",
       "        vertical-align: top;\n",
       "    }\n",
       "\n",
       "    .dataframe thead th {\n",
       "        text-align: right;\n",
       "    }\n",
       "</style>\n",
       "<table border=\"1\" class=\"dataframe\">\n",
       "  <thead>\n",
       "    <tr style=\"text-align: right;\">\n",
       "      <th></th>\n",
       "      <th>Unnamed: 0</th>\n",
       "      <th>name</th>\n",
       "    </tr>\n",
       "  </thead>\n",
       "  <tbody>\n",
       "    <tr>\n",
       "      <td>0</td>\n",
       "      <td>0</td>\n",
       "      <td>L0.1_c-3_m10_firstVisit.csv</td>\n",
       "    </tr>\n",
       "    <tr>\n",
       "      <td>2</td>\n",
       "      <td>2</td>\n",
       "      <td>L0.1_c-3_m12_firstVisit.csv</td>\n",
       "    </tr>\n",
       "    <tr>\n",
       "      <td>7</td>\n",
       "      <td>7</td>\n",
       "      <td>L0.1_c-3_m45_firstVisit.csv</td>\n",
       "    </tr>\n",
       "    <tr>\n",
       "      <td>9</td>\n",
       "      <td>9</td>\n",
       "      <td>L0.1_c-3_m47_firstVisit.csv</td>\n",
       "    </tr>\n",
       "    <tr>\n",
       "      <td>11</td>\n",
       "      <td>11</td>\n",
       "      <td>L0.1_c-3_m50_firstVisit.csv</td>\n",
       "    </tr>\n",
       "    <tr>\n",
       "      <td>13</td>\n",
       "      <td>13</td>\n",
       "      <td>L0.1_c-3_m54_firstVisit.csv</td>\n",
       "    </tr>\n",
       "    <tr>\n",
       "      <td>14</td>\n",
       "      <td>14</td>\n",
       "      <td>L0.1_c-3_m57_firstVisit.csv</td>\n",
       "    </tr>\n",
       "    <tr>\n",
       "      <td>16</td>\n",
       "      <td>16</td>\n",
       "      <td>L0.1_c-3_m5_firstVisit.csv</td>\n",
       "    </tr>\n",
       "  </tbody>\n",
       "</table>\n",
       "</div>"
      ],
      "text/plain": [
       "    Unnamed: 0                         name\n",
       "0            0  L0.1_c-3_m10_firstVisit.csv\n",
       "2            2  L0.1_c-3_m12_firstVisit.csv\n",
       "7            7  L0.1_c-3_m45_firstVisit.csv\n",
       "9            9  L0.1_c-3_m47_firstVisit.csv\n",
       "11          11  L0.1_c-3_m50_firstVisit.csv\n",
       "13          13  L0.1_c-3_m54_firstVisit.csv\n",
       "14          14  L0.1_c-3_m57_firstVisit.csv\n",
       "16          16   L0.1_c-3_m5_firstVisit.csv"
      ]
     },
     "execution_count": 49,
     "metadata": {},
     "output_type": "execute_result"
    }
   ],
   "source": [
    "listProbs[listProbs.name.str.contains('first') & listProbs.name.str.contains('L0.1')]"
   ]
  },
  {
   "cell_type": "code",
   "execution_count": 114,
   "metadata": {},
   "outputs": [],
   "source": [
    "# plot distance from flower center\n",
    "# get average distance for each moth\n",
    "# dataFrame = mothID, first, last, low, high\n",
    "\n",
    "Dist_df = pd.DataFrame(data = None, columns = ['mothID', 'visit', 'lightLevel', 'distance'])\n",
    "i = 0\n",
    "for v, sub in sub_df.groupby('visitNum'):\n",
    "    for tt, specific in sub.groupby('lightLevel'):\n",
    "        for moth, final in specific.groupby('mothID'):\n",
    "            mean_dist = final.distance.median()\n",
    "            Dist_df.loc[i,'distance'] = mean_dist\n",
    "            Dist_df.loc[i, 'mothID'] = moth\n",
    "            Dist_df.loc[i, 'lightLevel'] = tt\n",
    "            Dist_df.loc[i, 'visit'] = v\n",
    "            i+=1   "
   ]
  },
  {
   "cell_type": "code",
   "execution_count": 115,
   "metadata": {},
   "outputs": [
    {
     "data": {
      "text/html": [
       "<div>\n",
       "<style scoped>\n",
       "    .dataframe tbody tr th:only-of-type {\n",
       "        vertical-align: middle;\n",
       "    }\n",
       "\n",
       "    .dataframe tbody tr th {\n",
       "        vertical-align: top;\n",
       "    }\n",
       "\n",
       "    .dataframe thead th {\n",
       "        text-align: right;\n",
       "    }\n",
       "</style>\n",
       "<table border=\"1\" class=\"dataframe\">\n",
       "  <thead>\n",
       "    <tr style=\"text-align: right;\">\n",
       "      <th></th>\n",
       "      <th>mothID</th>\n",
       "      <th>visit</th>\n",
       "      <th>lightLevel</th>\n",
       "      <th>distance</th>\n",
       "    </tr>\n",
       "  </thead>\n",
       "  <tbody>\n",
       "    <tr>\n",
       "      <td>0</td>\n",
       "      <td>m2</td>\n",
       "      <td>first</td>\n",
       "      <td>L0.1</td>\n",
       "      <td>5.34243</td>\n",
       "    </tr>\n",
       "    <tr>\n",
       "      <td>1</td>\n",
       "      <td>m20</td>\n",
       "      <td>first</td>\n",
       "      <td>L0.1</td>\n",
       "      <td>5.45428</td>\n",
       "    </tr>\n",
       "    <tr>\n",
       "      <td>2</td>\n",
       "      <td>m21</td>\n",
       "      <td>first</td>\n",
       "      <td>L0.1</td>\n",
       "      <td>5.88808</td>\n",
       "    </tr>\n",
       "    <tr>\n",
       "      <td>3</td>\n",
       "      <td>m22</td>\n",
       "      <td>first</td>\n",
       "      <td>L0.1</td>\n",
       "      <td>7.89471</td>\n",
       "    </tr>\n",
       "    <tr>\n",
       "      <td>4</td>\n",
       "      <td>m23</td>\n",
       "      <td>first</td>\n",
       "      <td>L0.1</td>\n",
       "      <td>8.83754</td>\n",
       "    </tr>\n",
       "  </tbody>\n",
       "</table>\n",
       "</div>"
      ],
      "text/plain": [
       "  mothID  visit lightLevel distance\n",
       "0     m2  first       L0.1  5.34243\n",
       "1    m20  first       L0.1  5.45428\n",
       "2    m21  first       L0.1  5.88808\n",
       "3    m22  first       L0.1  7.89471\n",
       "4    m23  first       L0.1  8.83754"
      ]
     },
     "execution_count": 115,
     "metadata": {},
     "output_type": "execute_result"
    }
   ],
   "source": [
    "Dist_df.head()"
   ]
  },
  {
   "cell_type": "code",
   "execution_count": 116,
   "metadata": {},
   "outputs": [],
   "source": [
    "Dist_df['distance']=Dist_df['distance'].astype('float64')"
   ]
  },
  {
   "cell_type": "code",
   "execution_count": 132,
   "metadata": {},
   "outputs": [],
   "source": [
    "sns.set(style=\"ticks\")\n",
    "plt.rcParams['font.sans-serif'] = \"Arial\"\n",
    "plt.rcParams['font.family'] = \"sans-serif\"\n",
    "plt.rcParams['font.size'] = 8\n",
    "\n",
    "w = 7/3\n",
    "# w = 8\n",
    "h = w * 2"
   ]
  },
  {
   "cell_type": "code",
   "execution_count": 133,
   "metadata": {},
   "outputs": [
    {
     "data": {
      "image/png": "[encoded data removed]",
      "text/plain": [
       "<Figure size 168x336 with 2 Axes>"
      ]
     },
     "metadata": {},
     "output_type": "display_data"
    }
   ],
   "source": [
    "import seaborn as sns\n",
    "f, ax = plt.subplots(2,1, figsize = (w,h))\n",
    "\n",
    "i=0\n",
    "for v, sub in Dist_df.groupby('visit'):\n",
    "    sns.violinplot(x='lightLevel', y='distance', data = sub, \n",
    "                   inner = None, \n",
    "                   palette=['mediumpurple','orange'], \n",
    "                   linewidth = 0.5,\n",
    "                   ax=ax[i])\n",
    "    sns.boxplot(x='lightLevel', y='distance', data = sub, \n",
    "                width = 0.2,\n",
    "                linewidth = 0.5,\n",
    "                fliersize = 0,\n",
    "                ax=ax[i])\n",
    "    sns.swarmplot(x='lightLevel', y='distance', data = sub,\n",
    "                size=2, \n",
    "                  color=\"0.3\",\n",
    "                  linewidth=0,\n",
    "                  ax=ax[i])\n",
    "\n",
    "#     plt.ylim(-1.5,15)\n",
    "#     ax.xaxis.grid(False)\n",
    "#     plt.yticks(size = 8)\n",
    "#     plt.xticks([0,1], size = 8)\n",
    "#     plt.xlabel('Light Level', size = 8)\n",
    "#     plt.ylabel('Distance From Nectary (cm)', size = 8)\n",
    "#     sns.despine(trim=True, left=True)\n",
    "    i+=1\n",
    "plt.tight_layout()\n",
    "plt.savefig('./dataFolders/Output/KinematicAnalysis_v5/Figures/distance.pdf')"
   ]
  },
  {
   "cell_type": "code",
   "execution_count": 118,
   "metadata": {},
   "outputs": [],
   "source": [
    "low_first = Dist_df[(Dist_df.lightLevel == 'L0.1') & (Dist_df.visit == 'first')].distance.values\n",
    "high_first = Dist_df[(Dist_df.lightLevel == 'L50') & (Dist_df.visit == 'first')].distance.values\n",
    "\n",
    "low_last = Dist_df[(Dist_df.lightLevel == 'L0.1') & (Dist_df.visit == 'last')].distance.values\n",
    "high_last = Dist_df[(Dist_df.lightLevel == 'L50') & (Dist_df.visit == 'last')].distance.values"
   ]
  },
  {
   "cell_type": "code",
   "execution_count": 135,
   "metadata": {},
   "outputs": [
    {
     "data": {
      "text/plain": [
       "MannwhitneyuResult(statistic=130.0, pvalue=0.04967112392673264)"
      ]
     },
     "execution_count": 135,
     "metadata": {},
     "output_type": "execute_result"
    }
   ],
   "source": [
    "from scipy import stats\n",
    "\n",
    "stats.mannwhitneyu(low_first, high_first)"
   ]
  },
  {
   "cell_type": "code",
   "execution_count": 136,
   "metadata": {},
   "outputs": [
    {
     "data": {
      "text/plain": [
       "MannwhitneyuResult(statistic=94.0, pvalue=0.016355791764910223)"
      ]
     },
     "execution_count": 136,
     "metadata": {},
     "output_type": "execute_result"
    }
   ],
   "source": [
    "stats.mannwhitneyu(low_last, high_last)"
   ]
  },
  {
   "cell_type": "code",
   "execution_count": null,
   "metadata": {},
   "outputs": [],
   "source": []
  }
 ],
 "metadata": {
  "kernelspec": {
   "display_name": "Python 3",
   "language": "python",
   "name": "python3"
  },
  "language_info": {
   "codemirror_mode": {
    "name": "ipython",
    "version": 3
   },
   "file_extension": ".py",
   "mimetype": "text/x-python",
   "name": "python",
   "nbconvert_exporter": "python",
   "pygments_lexer": "ipython3",
   "version": "3.6.5"
  }
 },
 "nbformat": 4,
 "nbformat_minor": 2
}
