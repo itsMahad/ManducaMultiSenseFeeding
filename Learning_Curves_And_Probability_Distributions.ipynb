{
 "cells": [
  {
   "cell_type": "code",
   "execution_count": 1,
   "metadata": {},
   "outputs": [],
   "source": [
    "import pandas as pd\n",
    "import matplotlib.pyplot as plt\n",
    "from matplotlib import style\n",
    "style.use(\"ggplot\")\n",
    "from scipy import stats\n",
    "import os\n",
    "import numpy as np\n",
    "import glob"
   ]
  },
  {
   "cell_type": "code",
   "execution_count": 2,
   "metadata": {},
   "outputs": [],
   "source": [
    "path = './'"
   ]
  },
  {
   "cell_type": "code",
   "execution_count": 3,
   "metadata": {},
   "outputs": [
    {
     "data": {
      "text/html": [
       "<div>\n",
       "<style scoped>\n",
       "    .dataframe tbody tr th:only-of-type {\n",
       "        vertical-align: middle;\n",
       "    }\n",
       "\n",
       "    .dataframe tbody tr th {\n",
       "        vertical-align: top;\n",
       "    }\n",
       "\n",
       "    .dataframe thead th {\n",
       "        text-align: right;\n",
       "    }\n",
       "</style>\n",
       "<table border=\"1\" class=\"dataframe\">\n",
       "  <thead>\n",
       "    <tr style=\"text-align: right;\">\n",
       "      <th></th>\n",
       "      <th>Unnamed: 0</th>\n",
       "      <th>Unnamed: 0.1</th>\n",
       "      <th>DiscoveryTime</th>\n",
       "      <th>In_Frame</th>\n",
       "      <th>Out_Frame</th>\n",
       "      <th>Proboscis</th>\n",
       "      <th>name</th>\n",
       "      <th>trialNum</th>\n",
       "    </tr>\n",
       "  </thead>\n",
       "  <tbody>\n",
       "    <tr>\n",
       "      <th>0</th>\n",
       "      <td>0</td>\n",
       "      <td>0</td>\n",
       "      <td>NaN</td>\n",
       "      <td>26059</td>\n",
       "      <td>27412</td>\n",
       "      <td>NaN</td>\n",
       "      <td>L0.1_c-3_m12</td>\n",
       "      <td>0</td>\n",
       "    </tr>\n",
       "    <tr>\n",
       "      <th>1</th>\n",
       "      <td>1</td>\n",
       "      <td>1</td>\n",
       "      <td>NaN</td>\n",
       "      <td>27622</td>\n",
       "      <td>28036</td>\n",
       "      <td>NaN</td>\n",
       "      <td>L0.1_c-3_m12</td>\n",
       "      <td>1</td>\n",
       "    </tr>\n",
       "    <tr>\n",
       "      <th>2</th>\n",
       "      <td>2</td>\n",
       "      <td>2</td>\n",
       "      <td>NaN</td>\n",
       "      <td>29811</td>\n",
       "      <td>30085</td>\n",
       "      <td>NaN</td>\n",
       "      <td>L0.1_c-3_m12</td>\n",
       "      <td>2</td>\n",
       "    </tr>\n",
       "    <tr>\n",
       "      <th>3</th>\n",
       "      <td>3</td>\n",
       "      <td>3</td>\n",
       "      <td>282.0</td>\n",
       "      <td>45940</td>\n",
       "      <td>52780</td>\n",
       "      <td>46222.0</td>\n",
       "      <td>L0.1_c-3_m20</td>\n",
       "      <td>0</td>\n",
       "    </tr>\n",
       "    <tr>\n",
       "      <th>4</th>\n",
       "      <td>4</td>\n",
       "      <td>4</td>\n",
       "      <td>283.0</td>\n",
       "      <td>55058</td>\n",
       "      <td>60805</td>\n",
       "      <td>55341.0</td>\n",
       "      <td>L0.1_c-3_m20</td>\n",
       "      <td>1</td>\n",
       "    </tr>\n",
       "  </tbody>\n",
       "</table>\n",
       "</div>"
      ],
      "text/plain": [
       "   Unnamed: 0  Unnamed: 0.1  DiscoveryTime  In_Frame  Out_Frame  Proboscis  \\\n",
       "0           0             0            NaN     26059      27412        NaN   \n",
       "1           1             1            NaN     27622      28036        NaN   \n",
       "2           2             2            NaN     29811      30085        NaN   \n",
       "3           3             3          282.0     45940      52780    46222.0   \n",
       "4           4             4          283.0     55058      60805    55341.0   \n",
       "\n",
       "           name  trialNum  \n",
       "0  L0.1_c-3_m12         0  \n",
       "1  L0.1_c-3_m12         1  \n",
       "2  L0.1_c-3_m12         2  \n",
       "3  L0.1_c-3_m20         0  \n",
       "4  L0.1_c-3_m20         1  "
      ]
     },
     "execution_count": 3,
     "metadata": {},
     "output_type": "execute_result"
    }
   ],
   "source": [
    "AllData = pd.read_csv(path + 'AllLight_AllMoths.csv')\n",
    "AllData.head()"
   ]
  },
  {
   "cell_type": "code",
   "execution_count": 4,
   "metadata": {},
   "outputs": [
    {
     "data": {
      "text/plain": [
       "[<matplotlib.lines.Line2D at 0x15ed9de43c8>]"
      ]
     },
     "execution_count": 4,
     "metadata": {},
     "output_type": "execute_result"
    },
    {
     "data": {
      "image/png": "[encoded data removed]",
      "text/plain": [
       "<Figure size 432x288 with 1 Axes>"
      ]
     },
     "metadata": {},
     "output_type": "display_data"
    }
   ],
   "source": [
    "plt.plot(AllData.DiscoveryTime/100, 'o')"
   ]
  },
  {
   "cell_type": "code",
   "execution_count": 5,
   "metadata": {},
   "outputs": [
    {
     "name": "stderr",
     "output_type": "stream",
     "text": [
      "C:\\Users\\Tanvi\\AppData\\Local\\Continuum\\anaconda3\\lib\\site-packages\\ipykernel_launcher.py:6: SettingWithCopyWarning: \n",
      "A value is trying to be set on a copy of a slice from a DataFrame.\n",
      "Try using .loc[row_indexer,col_indexer] = value instead\n",
      "\n",
      "See the caveats in the documentation: http://pandas.pydata.org/pandas-docs/stable/indexing.html#indexing-view-versus-copy\n",
      "  \n",
      "C:\\Users\\Tanvi\\AppData\\Local\\Continuum\\anaconda3\\lib\\site-packages\\ipykernel_launcher.py:7: SettingWithCopyWarning: \n",
      "A value is trying to be set on a copy of a slice from a DataFrame.\n",
      "Try using .loc[row_indexer,col_indexer] = value instead\n",
      "\n",
      "See the caveats in the documentation: http://pandas.pydata.org/pandas-docs/stable/indexing.html#indexing-view-versus-copy\n",
      "  import sys\n"
     ]
    },
    {
     "data": {
      "image/png": "[encoded data removed]",
      "text/plain": [
       "<Figure size 432x288 with 1 Axes>"
      ]
     },
     "metadata": {},
     "output_type": "display_data"
    }
   ],
   "source": [
    "AllData_notnull = AllData[AllData.DiscoveryTime.notnull()].copy()\n",
    "z = np.abs(stats.zscore(AllData_notnull.DiscoveryTime.values))\n",
    "outlier_ID = z > 5\n",
    "plt.plot(z, 'o') \n",
    "\n",
    "AllData_notnull.loc[:,'zscore'] = pd.Series(data = z, index = AllData_notnull.index)\n",
    "AllData_notnull.loc[:,'outlier_ID'] = pd.Series(data = outlier_ID, index = AllData_notnull.index)"
   ]
  },
  {
   "cell_type": "code",
   "execution_count": 11,
   "metadata": {},
   "outputs": [
    {
     "data": {
      "text/plain": [
       "[<matplotlib.lines.Line2D at 0x15edb00f828>]"
      ]
     },
     "execution_count": 11,
     "metadata": {},
     "output_type": "execute_result"
    },
    {
     "data": {
      "image/png": "[encoded data removed]",
      "text/plain": [
       "<Figure size 432x288 with 1 Axes>"
      ]
     },
     "metadata": {},
     "output_type": "display_data"
    }
   ],
   "source": [
    "plt.plot(AllData_notnull.DiscoveryTime[AllData_notnull.outlier_ID == True]/100, 'o', color = 'red')\n",
    "plt.plot(AllData_notnull.DiscoveryTime[AllData_notnull.outlier_ID == False]/100, 'o', color = 'blue')"
   ]
  },
  {
   "cell_type": "code",
   "execution_count": 28,
   "metadata": {},
   "outputs": [
    {
     "name": "stderr",
     "output_type": "stream",
     "text": [
      "C:\\Users\\Tanvi\\AppData\\Local\\Continuum\\anaconda3\\lib\\site-packages\\ipykernel_launcher.py:2: SettingWithCopyWarning: \n",
      "A value is trying to be set on a copy of a slice from a DataFrame.\n",
      "Try using .loc[row_indexer,col_indexer] = value instead\n",
      "\n",
      "See the caveats in the documentation: http://pandas.pydata.org/pandas-docs/stable/indexing.html#indexing-view-versus-copy\n",
      "  \n"
     ]
    },
    {
     "data": {
      "text/plain": [
       "[<matplotlib.lines.Line2D at 0x15edce2bdd8>]"
      ]
     },
     "execution_count": 28,
     "metadata": {},
     "output_type": "execute_result"
    },
    {
     "data": {
      "image/png": "[encoded data removed]",
      "text/plain": [
       "<Figure size 432x288 with 1 Axes>"
      ]
     },
     "metadata": {},
     "output_type": "display_data"
    }
   ],
   "source": [
    "notoutliers = AllData_notnull[AllData_notnull.outlier_ID == False]\n",
    "notoutliers['DiscoveryTime'] = notoutliers.DiscoveryTime.div(100, axis = 'index')\n",
    "plt.plot(notoutliers['DiscoveryTime'], 'o')"
   ]
  },
  {
   "cell_type": "code",
   "execution_count": 52,
   "metadata": {},
   "outputs": [
    {
     "data": {
      "text/plain": [
       "Text(0.5,0,'Occurance')"
      ]
     },
     "execution_count": 52,
     "metadata": {},
     "output_type": "execute_result"
    },
    {
     "data": {
      "image/png": "[encoded data removed]",
      "text/plain": [
       "<Figure size 1440x432 with 2 Axes>"
      ]
     },
     "metadata": {},
     "output_type": "display_data"
    }
   ],
   "source": [
    "hist, bins = np.histogram(notoutliers.DiscoveryTime.values, bins = 30)\n",
    "\n",
    "fig, ax = plt.subplots(1,2, figsize = (20,6))\n",
    "ax = ax.ravel()\n",
    "\n",
    "ax[0].hist(notoutliers.DiscoveryTime.values, bins, histtype = 'bar', orientation='horizontal')\n",
    "ax[1].hist(notoutliers.DiscoveryTime[notoutliers.name.str.contains('L0.1_')].values, bins, \n",
    "          orientation='horizontal', alpha = 0.7, color = 'slateblue')\n",
    "ax[1].hist(notoutliers.DiscoveryTime[notoutliers.name.str.contains('L50_')].values, bins, \n",
    "          orientation='horizontal', alpha = 0.7, color = 'darkorange')\n",
    "ax[1].set_ylabel('ExplorationTime(second)')\n",
    "ax[1].set_xlabel('Occurance')"
   ]
  },
  {
   "cell_type": "code",
   "execution_count": 47,
   "metadata": {},
   "outputs": [
    {
     "data": {
      "text/plain": [
       "<matplotlib.legend.Legend at 0x15ee074ab00>"
      ]
     },
     "execution_count": 47,
     "metadata": {},
     "output_type": "execute_result"
    },
    {
     "data": {
      "image/png": "[encoded data removed]",
      "text/plain": [
       "<Figure size 432x288 with 1 Axes>"
      ]
     },
     "metadata": {},
     "output_type": "display_data"
    }
   ],
   "source": [
    "plt.plot(notoutliers[notoutliers.name.str.contains('L0.1')].trialNum, \n",
    "         notoutliers[notoutliers.name.str.contains('L0.1')].DiscoveryTime,\n",
    "         'o', color = 'slateblue', label = 'low light (0.1 lux)')\n",
    "plt.plot(notoutliers[notoutliers.name.str.contains('L50')].trialNum, \n",
    "         notoutliers[notoutliers.name.str.contains('L50')].DiscoveryTime, \n",
    "         'o', color = 'darkorange', label = 'bright light (50 lux)')\n",
    "plt.ylabel('Exploration Time (second)')\n",
    "plt.xlabel('Visit Number')\n",
    "plt.legend()\n",
    "\n",
    "# add exponential curves - color: L50 - chocolate or saddle brown, L0.1 - darkslateblue, or blue violet"
   ]
  },
  {
   "cell_type": "code",
   "execution_count": 79,
   "metadata": {},
   "outputs": [
    {
     "name": "stderr",
     "output_type": "stream",
     "text": [
      "C:\\Users\\Tanvi\\AppData\\Local\\Continuum\\anaconda3\\lib\\site-packages\\ipykernel_launcher.py:7: SettingWithCopyWarning: \n",
      "A value is trying to be set on a copy of a slice from a DataFrame.\n",
      "Try using .loc[row_indexer,col_indexer] = value instead\n",
      "\n",
      "See the caveats in the documentation: http://pandas.pydata.org/pandas-docs/stable/indexing.html#indexing-view-versus-copy\n",
      "  import sys\n",
      "C:\\Users\\Tanvi\\AppData\\Local\\Continuum\\anaconda3\\lib\\site-packages\\ipykernel_launcher.py:11: SettingWithCopyWarning: \n",
      "A value is trying to be set on a copy of a slice from a DataFrame.\n",
      "Try using .loc[row_indexer,col_indexer] = value instead\n",
      "\n",
      "See the caveats in the documentation: http://pandas.pydata.org/pandas-docs/stable/indexing.html#indexing-view-versus-copy\n",
      "  # This is added back by InteractiveShellApp.init_path()\n"
     ]
    },
    {
     "data": {
      "text/html": [
       "<div>\n",
       "<style scoped>\n",
       "    .dataframe tbody tr th:only-of-type {\n",
       "        vertical-align: middle;\n",
       "    }\n",
       "\n",
       "    .dataframe tbody tr th {\n",
       "        vertical-align: top;\n",
       "    }\n",
       "\n",
       "    .dataframe thead th {\n",
       "        text-align: right;\n",
       "    }\n",
       "</style>\n",
       "<table border=\"1\" class=\"dataframe\">\n",
       "  <thead>\n",
       "    <tr style=\"text-align: right;\">\n",
       "      <th></th>\n",
       "      <th>Unnamed: 0</th>\n",
       "      <th>Unnamed: 0.1</th>\n",
       "      <th>DiscoveryTime</th>\n",
       "      <th>In_Frame</th>\n",
       "      <th>Out_Frame</th>\n",
       "      <th>Proboscis</th>\n",
       "      <th>name</th>\n",
       "      <th>trialNum</th>\n",
       "      <th>zscore</th>\n",
       "      <th>outlier_ID</th>\n",
       "      <th>binLabel</th>\n",
       "      <th>lightLevel</th>\n",
       "    </tr>\n",
       "  </thead>\n",
       "  <tbody>\n",
       "    <tr>\n",
       "      <th>3</th>\n",
       "      <td>3</td>\n",
       "      <td>3</td>\n",
       "      <td>2.82</td>\n",
       "      <td>45940</td>\n",
       "      <td>52780</td>\n",
       "      <td>46222.0</td>\n",
       "      <td>L0.1_c-3_m20</td>\n",
       "      <td>0</td>\n",
       "      <td>0.243607</td>\n",
       "      <td>False</td>\n",
       "      <td>0-9</td>\n",
       "      <td>low</td>\n",
       "    </tr>\n",
       "    <tr>\n",
       "      <th>4</th>\n",
       "      <td>4</td>\n",
       "      <td>4</td>\n",
       "      <td>2.83</td>\n",
       "      <td>55058</td>\n",
       "      <td>60805</td>\n",
       "      <td>55341.0</td>\n",
       "      <td>L0.1_c-3_m20</td>\n",
       "      <td>1</td>\n",
       "      <td>0.241560</td>\n",
       "      <td>False</td>\n",
       "      <td>0-9</td>\n",
       "      <td>low</td>\n",
       "    </tr>\n",
       "    <tr>\n",
       "      <th>5</th>\n",
       "      <td>5</td>\n",
       "      <td>5</td>\n",
       "      <td>1.32</td>\n",
       "      <td>67612</td>\n",
       "      <td>69165</td>\n",
       "      <td>67744.0</td>\n",
       "      <td>L0.1_c-3_m20</td>\n",
       "      <td>2</td>\n",
       "      <td>0.550704</td>\n",
       "      <td>False</td>\n",
       "      <td>0-9</td>\n",
       "      <td>low</td>\n",
       "    </tr>\n",
       "    <tr>\n",
       "      <th>6</th>\n",
       "      <td>6</td>\n",
       "      <td>6</td>\n",
       "      <td>1.45</td>\n",
       "      <td>72461</td>\n",
       "      <td>74177</td>\n",
       "      <td>72606.0</td>\n",
       "      <td>L0.1_c-3_m20</td>\n",
       "      <td>3</td>\n",
       "      <td>0.524089</td>\n",
       "      <td>False</td>\n",
       "      <td>0-9</td>\n",
       "      <td>low</td>\n",
       "    </tr>\n",
       "    <tr>\n",
       "      <th>7</th>\n",
       "      <td>7</td>\n",
       "      <td>7</td>\n",
       "      <td>1.31</td>\n",
       "      <td>77368</td>\n",
       "      <td>78421</td>\n",
       "      <td>77499.0</td>\n",
       "      <td>L0.1_c-3_m20</td>\n",
       "      <td>4</td>\n",
       "      <td>0.552752</td>\n",
       "      <td>False</td>\n",
       "      <td>0-9</td>\n",
       "      <td>low</td>\n",
       "    </tr>\n",
       "  </tbody>\n",
       "</table>\n",
       "</div>"
      ],
      "text/plain": [
       "   Unnamed: 0  Unnamed: 0.1  DiscoveryTime  In_Frame  Out_Frame  Proboscis  \\\n",
       "3           3             3           2.82     45940      52780    46222.0   \n",
       "4           4             4           2.83     55058      60805    55341.0   \n",
       "5           5             5           1.32     67612      69165    67744.0   \n",
       "6           6             6           1.45     72461      74177    72606.0   \n",
       "7           7             7           1.31     77368      78421    77499.0   \n",
       "\n",
       "           name  trialNum    zscore  outlier_ID binLabel lightLevel  \n",
       "3  L0.1_c-3_m20         0  0.243607       False      0-9        low  \n",
       "4  L0.1_c-3_m20         1  0.241560       False      0-9        low  \n",
       "5  L0.1_c-3_m20         2  0.550704       False      0-9        low  \n",
       "6  L0.1_c-3_m20         3  0.524089       False      0-9        low  \n",
       "7  L0.1_c-3_m20         4  0.552752       False      0-9        low  "
      ]
     },
     "execution_count": 79,
     "metadata": {},
     "output_type": "execute_result"
    }
   ],
   "source": [
    "# BinnedDataSet\n",
    "# binsize = 10\n",
    "# new_column = binLabel \n",
    "\n",
    "notoutliers['binLabel'] = ['0-9' if value <= 9 \n",
    "                           else ('10-19' if (value > 9) & (value <= 19) else '20andAbove') \n",
    "                           for value in notoutliers['trialNum']]\n",
    "\n",
    "notoutliers['lightLevel'] = ['low' if 'L0.1' in value \n",
    "                           else 'high' for value in notoutliers['name']]\n",
    "\n",
    "notoutliers.head()"
   ]
  },
  {
   "cell_type": "code",
   "execution_count": 80,
   "metadata": {},
   "outputs": [
    {
     "data": {
      "text/plain": [
       "array(['0-9', '10-19', '20andAbove'], dtype=object)"
      ]
     },
     "execution_count": 80,
     "metadata": {},
     "output_type": "execute_result"
    }
   ],
   "source": [
    "notoutliers.binLabel.unique()"
   ]
  },
  {
   "cell_type": "code",
   "execution_count": 117,
   "metadata": {},
   "outputs": [
    {
     "data": {
      "text/plain": [
       "Text(0.5,0,'Probability')"
      ]
     },
     "execution_count": 117,
     "metadata": {},
     "output_type": "execute_result"
    },
    {
     "data": {
      "image/png": "[encoded data removed]",
      "text/plain": [
       "<Figure size 1440x432 with 3 Axes>"
      ]
     },
     "metadata": {},
     "output_type": "display_data"
    }
   ],
   "source": [
    "fig, ax = plt.subplots(1,3, figsize = (20,6))\n",
    "ax = ax.ravel()\n",
    "\n",
    "hist_10_lowlight, _, _ = ax[0].hist(notoutliers.DiscoveryTime[(notoutliers.name.str.contains('L0.1_')) & \n",
    "                                     (notoutliers.binLabel == '0-9')].values,\n",
    "           bins, orientation='horizontal', alpha = 0.7, color = 'slateblue', density = True)\n",
    "hist_10_Highlight, _, _ = ax[0].hist(notoutliers.DiscoveryTime[(notoutliers.name.str.contains('L50_')) & \n",
    "                                     (notoutliers.binLabel == '0-9')].values, \n",
    "           bins, orientation='horizontal', alpha = 0.7, color = 'darkorange', density = True)\n",
    "ax[0].set_title('First 10 visits')\n",
    "\n",
    "hist_20_lowlight, _, _ = ax[1].hist(notoutliers.DiscoveryTime[(notoutliers.name.str.contains('L0.1_')) & \n",
    "                                     (notoutliers.binLabel != '20andAbove')].values,\n",
    "           bins, orientation='horizontal', alpha = 0.7, color = 'slateblue', density = True)\n",
    "hist_20_highlight, _, _ = ax[1].hist(notoutliers.DiscoveryTime[(notoutliers.name.str.contains('L50_')) & \n",
    "                                     (notoutliers.binLabel != '20andAbove')].values, \n",
    "           bins, orientation='horizontal', alpha = 0.7, color = 'darkorange', density = True)\n",
    "ax[1].set_title('First 20 visits')\n",
    "\n",
    "\n",
    "hist_all_lowlight,_, _ = ax[2].hist(notoutliers.DiscoveryTime[notoutliers.name.str.contains('L0.1_')].values, bins, \n",
    "          orientation='horizontal', alpha = 0.7, color = 'slateblue', density = True)\n",
    "hist_all_highlight, _, _ =ax[2].hist(notoutliers.DiscoveryTime[notoutliers.name.str.contains('L50_')].values, bins, \n",
    "          orientation='horizontal', alpha = 0.7, color = 'darkorange', density = True)\n",
    "ax[2].set_title('All visits')\n",
    "\n",
    "ax[0].set_ylabel('ExplorationTime (second)')\n",
    "ax[0].set_xlabel('Probability')\n",
    "ax[1].set_xlabel('Probability')\n",
    "ax[2].set_xlabel('Probability')"
   ]
  },
  {
   "cell_type": "code",
   "execution_count": 99,
   "metadata": {},
   "outputs": [
    {
     "data": {
      "image/png": "[encoded data removed]",
      "text/plain": [
       "<Figure size 432x288 with 1 Axes>"
      ]
     },
     "metadata": {},
     "output_type": "display_data"
    }
   ],
   "source": [
    "hist_20_lowlight, _, _ = plt.hist(notoutliers.DiscoveryTime[(notoutliers.name.str.contains('L0.1_')) & \n",
    "                                     (notoutliers.binLabel != '20andAbove')].values,\n",
    "        bins, density=True, histtype='step', color = 'slateblue',\n",
    "        cumulative=True, label='lowLight', orientation = 'horizontal')\n",
    "\n",
    "hist_20_highlight, _, _ = plt.hist(notoutliers.DiscoveryTime[(notoutliers.name.str.contains('L50_')) & \n",
    "                                     (notoutliers.binLabel != '20andAbove')].values,\n",
    "        bins, density=True, histtype='step', color = 'darkorange',\n",
    "        cumulative=True, label='highLight', orientation = 'horizontal')\n",
    "\n",
    "\n",
    "hist_10_lowlight, _, _ = plt.hist(notoutliers.DiscoveryTime[(notoutliers.name.str.contains('L0.1_')) & \n",
    "                                     (notoutliers.binLabel == '0-9')].values,\n",
    "        bins, density=True, histtype='step', color = 'slateblue',\n",
    "        cumulative=True, label='lowLight', orientation = 'horizontal')\n",
    "\n",
    "hist_10_highlight, _, _ = plt.hist(notoutliers.DiscoveryTime[(notoutliers.name.str.contains('L50_')) & \n",
    "                                     (notoutliers.binLabel == '0-9')].values,\n",
    "        bins, density=True, histtype='step', color = 'darkorange',\n",
    "        cumulative=True, label='highLight', orientation = 'horizontal')\n",
    "\n",
    "hist_all_lowlight, _, _ = plt.hist(notoutliers.DiscoveryTime[notoutliers.name.str.contains('L0.1_')].values,\n",
    "        bins, density=True, histtype='step', color = 'slateblue',\n",
    "        cumulative=True, label='lowLight', orientation = 'horizontal')\n",
    "\n",
    "hist_all_highlight, _, _ = plt.hist(notoutliers.DiscoveryTime[notoutliers.name.str.contains('L50_')].values,\n",
    "        bins, density=True, histtype='step', color = 'darkorange',\n",
    "        cumulative=True, label='highLight', orientation = 'horizontal')"
   ]
  },
  {
   "cell_type": "code",
   "execution_count": 106,
   "metadata": {},
   "outputs": [],
   "source": [
    "def KL(P,Q, epsilon):\n",
    "# \"\"\" Epsilon is used here to avoid conditional code for\n",
    "# checking that neither P nor Q is equal to 0. \"\"\"\n",
    "#      epsilon = 1e-20\n",
    "     # You may want to instead make copies to avoid changing the np arrays.\n",
    "     P = P+epsilon\n",
    "     Q = Q+epsilon\n",
    "     divergence = np.sum(P*np.log(P/Q))\n",
    "     return divergence"
   ]
  },
  {
   "cell_type": "code",
   "execution_count": 100,
   "metadata": {},
   "outputs": [
    {
     "data": {
      "text/plain": [
       "3.6281681325250204"
      ]
     },
     "execution_count": 100,
     "metadata": {},
     "output_type": "execute_result"
    }
   ],
   "source": [
    "KL(hist_20_lowlight, hist_20_highlight, 1e-30)"
   ]
  },
  {
   "cell_type": "code",
   "execution_count": 101,
   "metadata": {},
   "outputs": [
    {
     "data": {
      "text/plain": [
       "3.3804771499547837"
      ]
     },
     "execution_count": 101,
     "metadata": {},
     "output_type": "execute_result"
    }
   ],
   "source": [
    "KL(hist_10_lowlight, hist_10_highlight, 1e-30)"
   ]
  },
  {
   "cell_type": "code",
   "execution_count": 102,
   "metadata": {},
   "outputs": [
    {
     "data": {
      "text/plain": [
       "3.9978880462924358"
      ]
     },
     "execution_count": 102,
     "metadata": {},
     "output_type": "execute_result"
    }
   ],
   "source": [
    "KL(hist_all_lowlight, hist_all_highlight, 1e-30)"
   ]
  },
  {
   "cell_type": "code",
   "execution_count": 103,
   "metadata": {},
   "outputs": [
    {
     "data": {
      "text/plain": [
       "Ks_2sampResult(statistic=0.39999999999999997, pvalue=0.011313647722167215)"
      ]
     },
     "execution_count": 103,
     "metadata": {},
     "output_type": "execute_result"
    }
   ],
   "source": [
    "stats.ks_2samp(hist_20_highlight,hist_20_lowlight)"
   ]
  },
  {
   "cell_type": "code",
   "execution_count": 104,
   "metadata": {},
   "outputs": [
    {
     "data": {
      "text/plain": [
       "Ks_2sampResult(statistic=0.39999999999999997, pvalue=0.011313647722167215)"
      ]
     },
     "execution_count": 104,
     "metadata": {},
     "output_type": "execute_result"
    }
   ],
   "source": [
    "stats.ks_2samp(hist_10_highlight,hist_10_lowlight)"
   ]
  },
  {
   "cell_type": "code",
   "execution_count": 105,
   "metadata": {},
   "outputs": [
    {
     "data": {
      "text/plain": [
       "Ks_2sampResult(statistic=0.5, pvalue=0.000615779027922126)"
      ]
     },
     "execution_count": 105,
     "metadata": {},
     "output_type": "execute_result"
    }
   ],
   "source": [
    "stats.ks_2samp(hist_all_highlight,hist_all_lowlight)"
   ]
  },
  {
   "cell_type": "code",
   "execution_count": 82,
   "metadata": {},
   "outputs": [
    {
     "data": {
      "text/plain": [
       "<matplotlib.axes._subplots.AxesSubplot at 0x15ee18e4cc0>"
      ]
     },
     "execution_count": 82,
     "metadata": {},
     "output_type": "execute_result"
    },
    {
     "data": {
      "image/png": "[encoded data removed]",
      "text/plain": [
       "<Figure size 432x288 with 1 Axes>"
      ]
     },
     "metadata": {},
     "output_type": "display_data"
    }
   ],
   "source": [
    "import seaborn as sns\n",
    "df = sns.load_dataset('tips')\n",
    " \n",
    "# Grouped boxplot\n",
    "sns.boxplot(x=\"lightLevel\", y=\"DiscoveryTime\", hue=\"binLabel\", data=notoutliers, palette=\"Set1\")\n",
    "# sns.plt.show()"
   ]
  },
  {
   "cell_type": "code",
   "execution_count": 113,
   "metadata": {},
   "outputs": [],
   "source": [
    "notoutliers.to_csv(path + 'notoutliers.csv')"
   ]
  },
  {
   "cell_type": "code",
   "execution_count": null,
   "metadata": {},
   "outputs": [],
   "source": []
  }
 ],
 "metadata": {
  "kernelspec": {
   "display_name": "Python 3",
   "language": "python",
   "name": "python3"
  },
  "language_info": {
   "codemirror_mode": {
    "name": "ipython",
    "version": 3
   },
   "file_extension": ".py",
   "mimetype": "text/x-python",
   "name": "python",
   "nbconvert_exporter": "python",
   "pygments_lexer": "ipython3",
   "version": "3.6.5"
  }
 },
 "nbformat": 4,
 "nbformat_minor": 2
}
