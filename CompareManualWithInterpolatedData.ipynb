{
 "cells": [
  {
   "cell_type": "code",
   "execution_count": 1,
   "metadata": {},
   "outputs": [],
   "source": [
    "import pandas as pd\n",
    "import glob\n",
    "import matplotlib.pyplot as plt\n",
    "import numpy as np"
   ]
  },
  {
   "cell_type": "code",
   "execution_count": 81,
   "metadata": {},
   "outputs": [],
   "source": [
    "AllData = pd.read_csv('./dataFolders/compiledTrackData.csv')\n",
    "circ_params = pd.read_csv('./dataFolders/circle_parameters.csv')\n",
    "outfig = './dataFolders/Figures/compareTrueAndGaussian/'"
   ]
  },
  {
   "cell_type": "code",
   "execution_count": 3,
   "metadata": {},
   "outputs": [
    {
     "data": {
      "text/html": [
       "<div>\n",
       "<style scoped>\n",
       "    .dataframe tbody tr th:only-of-type {\n",
       "        vertical-align: middle;\n",
       "    }\n",
       "\n",
       "    .dataframe tbody tr th {\n",
       "        vertical-align: top;\n",
       "    }\n",
       "\n",
       "    .dataframe thead th {\n",
       "        text-align: right;\n",
       "    }\n",
       "</style>\n",
       "<table border=\"1\" class=\"dataframe\">\n",
       "  <thead>\n",
       "    <tr style=\"text-align: right;\">\n",
       "      <th></th>\n",
       "      <th>Unnamed: 0</th>\n",
       "      <th>name</th>\n",
       "      <th>trial</th>\n",
       "      <th>xpts</th>\n",
       "      <th>ypts</th>\n",
       "      <th>radius</th>\n",
       "      <th>theta</th>\n",
       "    </tr>\n",
       "  </thead>\n",
       "  <tbody>\n",
       "    <tr>\n",
       "      <th>0</th>\n",
       "      <td>0</td>\n",
       "      <td>c-1_m13</td>\n",
       "      <td>0</td>\n",
       "      <td>NaN</td>\n",
       "      <td>NaN</td>\n",
       "      <td>NaN</td>\n",
       "      <td>NaN</td>\n",
       "    </tr>\n",
       "    <tr>\n",
       "      <th>1</th>\n",
       "      <td>1</td>\n",
       "      <td>c-1_m13</td>\n",
       "      <td>0</td>\n",
       "      <td>5.011057</td>\n",
       "      <td>348.049824</td>\n",
       "      <td>321.678510</td>\n",
       "      <td>160.373100</td>\n",
       "    </tr>\n",
       "    <tr>\n",
       "      <th>2</th>\n",
       "      <td>2</td>\n",
       "      <td>c-1_m13</td>\n",
       "      <td>0</td>\n",
       "      <td>20.932432</td>\n",
       "      <td>335.463658</td>\n",
       "      <td>302.524542</td>\n",
       "      <td>161.605573</td>\n",
       "    </tr>\n",
       "    <tr>\n",
       "      <th>3</th>\n",
       "      <td>3</td>\n",
       "      <td>c-1_m13</td>\n",
       "      <td>0</td>\n",
       "      <td>40.568796</td>\n",
       "      <td>325.165885</td>\n",
       "      <td>280.664705</td>\n",
       "      <td>162.335453</td>\n",
       "    </tr>\n",
       "    <tr>\n",
       "      <th>4</th>\n",
       "      <td>4</td>\n",
       "      <td>c-1_m13</td>\n",
       "      <td>0</td>\n",
       "      <td>50.652334</td>\n",
       "      <td>323.449590</td>\n",
       "      <td>270.539563</td>\n",
       "      <td>162.033785</td>\n",
       "    </tr>\n",
       "  </tbody>\n",
       "</table>\n",
       "</div>"
      ],
      "text/plain": [
       "   Unnamed: 0     name trial       xpts        ypts      radius       theta\n",
       "0           0  c-1_m13     0        NaN         NaN         NaN         NaN\n",
       "1           1  c-1_m13     0   5.011057  348.049824  321.678510  160.373100\n",
       "2           2  c-1_m13     0  20.932432  335.463658  302.524542  161.605573\n",
       "3           3  c-1_m13     0  40.568796  325.165885  280.664705  162.335453\n",
       "4           4  c-1_m13     0  50.652334  323.449590  270.539563  162.033785"
      ]
     },
     "execution_count": 3,
     "metadata": {},
     "output_type": "execute_result"
    }
   ],
   "source": [
    "AllData.head()"
   ]
  },
  {
   "cell_type": "code",
   "execution_count": 4,
   "metadata": {},
   "outputs": [
    {
     "data": {
      "text/plain": [
       "array(['c-1_m13', 'c-2_m5', 'c-3_m10', 'c-10_m11', 'c-1_m2', 'c-1_m6',\n",
       "       'c-2_m1', 'c-2_m11', 'c-3_m1', 'c-3_m6', 'c-10_m3', 'c-10_m6'],\n",
       "      dtype=object)"
      ]
     },
     "execution_count": 4,
     "metadata": {},
     "output_type": "execute_result"
    }
   ],
   "source": [
    "names = AllData.name.unique()\n",
    "names"
   ]
  },
  {
   "cell_type": "code",
   "execution_count": 44,
   "metadata": {},
   "outputs": [],
   "source": [
    "# read in the tracked and data\n",
    "\n",
    "path = './dataFolders/Final Tracking xypts/AngleAndRadiusIncluded/'\n",
    "dlc_file = glob.glob(path + '**.csv')"
   ]
  },
  {
   "cell_type": "code",
   "execution_count": 76,
   "metadata": {},
   "outputs": [],
   "source": [
    "def comparisionFig(manual, dlc, gaussian):\n",
    "    fig, ax = plt.subplots(figsize = (20,10))\n",
    "\n",
    "    plt.plot(manual, label = 'true')\n",
    "    plt.plot(dlc, label = 'dlc')\n",
    "    # plt.plot(dlc_data.interpol_x, 'o', label = 'interpolated')\n",
    "    plt.plot(gaussian, linewidth = 3, label = 'gaussian')\n",
    "    plt.legend()\n",
    "    return(fig, ax)"
   ]
  },
  {
   "cell_type": "code",
   "execution_count": 66,
   "metadata": {},
   "outputs": [],
   "source": []
  },
  {
   "cell_type": "code",
   "execution_count": 85,
   "metadata": {},
   "outputs": [],
   "source": [
    "for name in names:\n",
    "\n",
    "    # read the manual data\n",
    "    circ_x = circ_params.circ_x[circ_params.name == name].values\n",
    "    circ_y = circ_params.circ_y[circ_params.name == name].values\n",
    "    circ_r = circ_params.circ_radii[circ_params.name == name].values\n",
    "\n",
    "    for trial in ['first', 'last']:\n",
    "        if trial == 'first':\n",
    "            var = '0'\n",
    "        else:\n",
    "            var = 'last'\n",
    "\n",
    "        x = AllData[(AllData.name == name) & (AllData.trial == var)].xpts.values\n",
    "        y = AllData[(AllData.name == name) & (AllData.trial == var)].ypts.values\n",
    "        # correct for inversion\n",
    "\n",
    "        y = 488 - y\n",
    "\n",
    "        # center the x and y coordinates\n",
    "        cent_x = x - circ_x\n",
    "        cent_y = y - circ_y\n",
    "        r = np.linalg.norm([cent_x, cent_y], axis = 0)\n",
    "        r = r/circ_r\n",
    "\n",
    "        # read the dlc data\n",
    "        file = [f for f in dlc_file if (name in f) & (trial in f)][0]\n",
    "        dlc_data = pd.read_csv(file)\n",
    "\n",
    "        f1, ax1 = comparisionFig(cent_x, dlc_data.cent_x, dlc_data.x_gauss)\n",
    "        f1.savefig(outfig + name + '_' + trial + '_x.png')\n",
    "        f2, ax2 = comparisionFig(cent_y, dlc_data.cent_y, dlc_data.y_gauss)\n",
    "        f2.savefig(outfig + name + '_' + trial + '_y.png')\n",
    "        f3, ax3 = comparisionFig(r, dlc_data.radius_interpol, dlc_data.r_gauss)\n",
    "        f3.savefig(outfig + name + '_' + trial + '_radius.png')\n",
    "        plt.close('all')"
   ]
  },
  {
   "cell_type": "code",
   "execution_count": null,
   "metadata": {},
   "outputs": [],
   "source": []
  },
  {
   "cell_type": "code",
   "execution_count": 68,
   "metadata": {},
   "outputs": [],
   "source": []
  },
  {
   "cell_type": "code",
   "execution_count": null,
   "metadata": {},
   "outputs": [],
   "source": []
  }
 ],
 "metadata": {
  "kernelspec": {
   "display_name": "Python 3",
   "language": "python",
   "name": "python3"
  },
  "language_info": {
   "codemirror_mode": {
    "name": "ipython",
    "version": 3
   },
   "file_extension": ".py",
   "mimetype": "text/x-python",
   "name": "python",
   "nbconvert_exporter": "python",
   "pygments_lexer": "ipython3",
   "version": "3.6.5"
  }
 },
 "nbformat": 4,
 "nbformat_minor": 2
}
