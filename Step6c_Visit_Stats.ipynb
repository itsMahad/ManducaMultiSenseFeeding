{
 "cells": [
  {
   "cell_type": "code",
   "execution_count": 2,
   "metadata": {},
   "outputs": [],
   "source": [
    "#need to remove outliers\n",
    "import pandas as pd\n",
    "import glob\n",
    "import numpy as np\n",
    "import seaborn as sns\n",
    "import matplotlib.pyplot as plt\n",
    "import scipy as sc\n",
    "\n",
    "plt.rcParams['font.sans-serif'] = \"Arial\"\n",
    "plt.rcParams['font.family'] = \"sans-serif\"\n",
    "import matplotlib as mpl\n",
    "mpl.rcParams['pdf.fonttype'] = 42"
   ]
  },
  {
   "cell_type": "code",
   "execution_count": 3,
   "metadata": {},
   "outputs": [
    {
     "data": {
      "text/html": [
       "<div>\n",
       "<style scoped>\n",
       "    .dataframe tbody tr th:only-of-type {\n",
       "        vertical-align: middle;\n",
       "    }\n",
       "\n",
       "    .dataframe tbody tr th {\n",
       "        vertical-align: top;\n",
       "    }\n",
       "\n",
       "    .dataframe thead th {\n",
       "        text-align: right;\n",
       "    }\n",
       "</style>\n",
       "<table border=\"1\" class=\"dataframe\">\n",
       "  <thead>\n",
       "    <tr style=\"text-align: right;\">\n",
       "      <th></th>\n",
       "      <th>In_Frame</th>\n",
       "      <th>Out_Frame</th>\n",
       "      <th>Proboscis</th>\n",
       "      <th>DiscoveryTime</th>\n",
       "      <th>trialNum</th>\n",
       "      <th>name</th>\n",
       "    </tr>\n",
       "  </thead>\n",
       "  <tbody>\n",
       "    <tr>\n",
       "      <td>0</td>\n",
       "      <td>20377</td>\n",
       "      <td>20713</td>\n",
       "      <td>NaN</td>\n",
       "      <td>NaN</td>\n",
       "      <td>0</td>\n",
       "      <td>L0.1_c-3_m10</td>\n",
       "    </tr>\n",
       "    <tr>\n",
       "      <td>1</td>\n",
       "      <td>39912</td>\n",
       "      <td>41054</td>\n",
       "      <td>NaN</td>\n",
       "      <td>NaN</td>\n",
       "      <td>1</td>\n",
       "      <td>L0.1_c-3_m10</td>\n",
       "    </tr>\n",
       "    <tr>\n",
       "      <td>2</td>\n",
       "      <td>41723</td>\n",
       "      <td>41890</td>\n",
       "      <td>NaN</td>\n",
       "      <td>NaN</td>\n",
       "      <td>2</td>\n",
       "      <td>L0.1_c-3_m10</td>\n",
       "    </tr>\n",
       "    <tr>\n",
       "      <td>3</td>\n",
       "      <td>67784</td>\n",
       "      <td>69028</td>\n",
       "      <td>NaN</td>\n",
       "      <td>NaN</td>\n",
       "      <td>3</td>\n",
       "      <td>L0.1_c-3_m10</td>\n",
       "    </tr>\n",
       "    <tr>\n",
       "      <td>4</td>\n",
       "      <td>103803</td>\n",
       "      <td>104034</td>\n",
       "      <td>NaN</td>\n",
       "      <td>NaN</td>\n",
       "      <td>4</td>\n",
       "      <td>L0.1_c-3_m10</td>\n",
       "    </tr>\n",
       "  </tbody>\n",
       "</table>\n",
       "</div>"
      ],
      "text/plain": [
       "   In_Frame  Out_Frame  Proboscis  DiscoveryTime  trialNum          name\n",
       "0     20377      20713        NaN            NaN         0  L0.1_c-3_m10\n",
       "1     39912      41054        NaN            NaN         1  L0.1_c-3_m10\n",
       "2     41723      41890        NaN            NaN         2  L0.1_c-3_m10\n",
       "3     67784      69028        NaN            NaN         3  L0.1_c-3_m10\n",
       "4    103803     104034        NaN            NaN         4  L0.1_c-3_m10"
      ]
     },
     "execution_count": 3,
     "metadata": {},
     "output_type": "execute_result"
    }
   ],
   "source": [
    "path = r\"./dataFolders/Output/Step6_v5/\"\n",
    "learning_data = pd.read_csv(path + 'AllLight_EveryMoth.csv')\n",
    "learning_data = learning_data.drop(columns = ['Unnamed: 0', 'Unnamed: 0.1'])\n",
    "learning_data.head()"
   ]
  },
  {
   "cell_type": "code",
   "execution_count": 4,
   "metadata": {},
   "outputs": [],
   "source": [
    "temp = learning_data['name'].str.split('_', 1, expand = True)\n",
    "learning_data['lightLevel'] = temp[0]"
   ]
  },
  {
   "cell_type": "code",
   "execution_count": 5,
   "metadata": {},
   "outputs": [
    {
     "data": {
      "text/html": [
       "<div>\n",
       "<style scoped>\n",
       "    .dataframe tbody tr th:only-of-type {\n",
       "        vertical-align: middle;\n",
       "    }\n",
       "\n",
       "    .dataframe tbody tr th {\n",
       "        vertical-align: top;\n",
       "    }\n",
       "\n",
       "    .dataframe thead th {\n",
       "        text-align: right;\n",
       "    }\n",
       "</style>\n",
       "<table border=\"1\" class=\"dataframe\">\n",
       "  <thead>\n",
       "    <tr style=\"text-align: right;\">\n",
       "      <th></th>\n",
       "      <th>In_Frame</th>\n",
       "      <th>Out_Frame</th>\n",
       "      <th>Proboscis</th>\n",
       "      <th>DiscoveryTime</th>\n",
       "      <th>trialNum</th>\n",
       "      <th>name</th>\n",
       "      <th>lightLevel</th>\n",
       "    </tr>\n",
       "  </thead>\n",
       "  <tbody>\n",
       "    <tr>\n",
       "      <td>0</td>\n",
       "      <td>20377</td>\n",
       "      <td>20713</td>\n",
       "      <td>NaN</td>\n",
       "      <td>NaN</td>\n",
       "      <td>0</td>\n",
       "      <td>L0.1_c-3_m10</td>\n",
       "      <td>L0.1</td>\n",
       "    </tr>\n",
       "    <tr>\n",
       "      <td>1</td>\n",
       "      <td>39912</td>\n",
       "      <td>41054</td>\n",
       "      <td>NaN</td>\n",
       "      <td>NaN</td>\n",
       "      <td>1</td>\n",
       "      <td>L0.1_c-3_m10</td>\n",
       "      <td>L0.1</td>\n",
       "    </tr>\n",
       "    <tr>\n",
       "      <td>2</td>\n",
       "      <td>41723</td>\n",
       "      <td>41890</td>\n",
       "      <td>NaN</td>\n",
       "      <td>NaN</td>\n",
       "      <td>2</td>\n",
       "      <td>L0.1_c-3_m10</td>\n",
       "      <td>L0.1</td>\n",
       "    </tr>\n",
       "    <tr>\n",
       "      <td>3</td>\n",
       "      <td>67784</td>\n",
       "      <td>69028</td>\n",
       "      <td>NaN</td>\n",
       "      <td>NaN</td>\n",
       "      <td>3</td>\n",
       "      <td>L0.1_c-3_m10</td>\n",
       "      <td>L0.1</td>\n",
       "    </tr>\n",
       "    <tr>\n",
       "      <td>4</td>\n",
       "      <td>103803</td>\n",
       "      <td>104034</td>\n",
       "      <td>NaN</td>\n",
       "      <td>NaN</td>\n",
       "      <td>4</td>\n",
       "      <td>L0.1_c-3_m10</td>\n",
       "      <td>L0.1</td>\n",
       "    </tr>\n",
       "  </tbody>\n",
       "</table>\n",
       "</div>"
      ],
      "text/plain": [
       "   In_Frame  Out_Frame  Proboscis  DiscoveryTime  trialNum          name  \\\n",
       "0     20377      20713        NaN            NaN         0  L0.1_c-3_m10   \n",
       "1     39912      41054        NaN            NaN         1  L0.1_c-3_m10   \n",
       "2     41723      41890        NaN            NaN         2  L0.1_c-3_m10   \n",
       "3     67784      69028        NaN            NaN         3  L0.1_c-3_m10   \n",
       "4    103803     104034        NaN            NaN         4  L0.1_c-3_m10   \n",
       "\n",
       "  lightLevel  \n",
       "0       L0.1  \n",
       "1       L0.1  \n",
       "2       L0.1  \n",
       "3       L0.1  \n",
       "4       L0.1  "
      ]
     },
     "execution_count": 5,
     "metadata": {},
     "output_type": "execute_result"
    }
   ],
   "source": [
    "learning_data.head()"
   ]
  },
  {
   "cell_type": "code",
   "execution_count": 6,
   "metadata": {},
   "outputs": [
    {
     "name": "stdout",
     "output_type": "stream",
     "text": [
      "L0.1 has 29 number of moths interact with flowers\n",
      "L50 has 26 number of moths interact with flowers\n"
     ]
    }
   ],
   "source": [
    "for l, light_df in learning_data.groupby('lightLevel'):\n",
    "    N = len(light_df.name.unique())\n",
    "    print('%s has %i number of moths interact with flowers' %(l, N))"
   ]
  },
  {
   "cell_type": "markdown",
   "metadata": {},
   "source": [
    "## create visit stats"
   ]
  },
  {
   "cell_type": "code",
   "execution_count": 13,
   "metadata": {},
   "outputs": [],
   "source": [
    "moth = []\n",
    "n = []\n",
    "s = []\n",
    "for m, moth_df in learning_data.groupby('name'):\n",
    "    totalVisit = np.max(moth_df.trialNum)+1\n",
    "    suc = moth_df['DiscoveryTime'].count() / moth_df['trialNum'].count()\n",
    "    \n",
    "    moth.append(m)\n",
    "    n.append(totalVisit)\n",
    "    s.append(suc)"
   ]
  },
  {
   "cell_type": "code",
   "execution_count": 14,
   "metadata": {},
   "outputs": [],
   "source": [
    "temp = pd.DataFrame({'name': moth,\n",
    "             'num_visit': n,\n",
    "             'fraction_successful': s})\n",
    "temp['lightLevel'] = temp.name.str.split('_', n = 2, expand = True)[0]"
   ]
  },
  {
   "cell_type": "code",
   "execution_count": 16,
   "metadata": {},
   "outputs": [],
   "source": [
    "temp.to_csv(path + 'VisitInfo.csv')"
   ]
  },
  {
   "cell_type": "markdown",
   "metadata": {},
   "source": [
    "## stats on data"
   ]
  },
  {
   "cell_type": "code",
   "execution_count": 18,
   "metadata": {},
   "outputs": [],
   "source": [
    "data = pd.read_csv(path + 'VisitInfo.csv')"
   ]
  },
  {
   "cell_type": "code",
   "execution_count": 19,
   "metadata": {},
   "outputs": [
    {
     "name": "stdout",
     "output_type": "stream",
     "text": [
      "KstestResult(statistic=0.3050397877984085, pvalue=0.12053515381272795)\n",
      "MannwhitneyuResult(statistic=290.5, pvalue=0.07310017888999944)\n"
     ]
    }
   ],
   "source": [
    "low_visit_num = data.loc[data.lightLevel == 'L0.1', 'num_visit'].values\n",
    "high_visit_num = data.loc[data.lightLevel == 'L50', 'num_visit'].values\n",
    "\n",
    "print(sc.stats.ks_2samp(low_visit_num, high_visit_num))\n",
    "print(sc.stats.mannwhitneyu(low_visit_num, high_visit_num))"
   ]
  },
  {
   "cell_type": "code",
   "execution_count": 21,
   "metadata": {},
   "outputs": [
    {
     "name": "stdout",
     "output_type": "stream",
     "text": [
      "KstestResult(statistic=0.3169761273209549, pvalue=0.09826619619156529)\n",
      "MannwhitneyuResult(statistic=254.5, pvalue=0.0183374265267733)\n"
     ]
    }
   ],
   "source": [
    "low_fraction = data.loc[data.lightLevel == 'L0.1', 'fraction_successful'].values\n",
    "high_fraction = data.loc[data.lightLevel == 'L50', 'fraction_successful'].values\n",
    "\n",
    "print(sc.stats.ks_2samp(low_fraction, high_fraction))\n",
    "print(sc.stats.mannwhitneyu(low_fraction, high_fraction))"
   ]
  },
  {
   "cell_type": "markdown",
   "metadata": {},
   "source": [
    "# plot this Data"
   ]
  },
  {
   "cell_type": "code",
   "execution_count": 22,
   "metadata": {},
   "outputs": [],
   "source": [
    "import matplotlib\n",
    "matplotlib.rcParams['pdf.fonttype'] = 42\n",
    "matplotlib.rcParams['ps.fonttype'] = 42"
   ]
  },
  {
   "cell_type": "code",
   "execution_count": 23,
   "metadata": {},
   "outputs": [],
   "source": [
    "#define the colors for low and high light levels\n",
    "mc = {'L0.1': 'black', 'L50':'grey' }\n",
    "c = {'L0.1': 'mediumpurple', 'L50':'darkorange'}\n",
    "boxprops = {'edgecolor': 'k', 'linewidth': 2,'alpha': 1}\n",
    "lineprops = {'color': 'k', 'linewidth': 2}\n",
    "capprops = {'linewidth': 0}\n",
    "\n",
    "bkwargs = {'palette': c, 'order': ['L0.1', 'L50']}\n",
    "skwargs =  {'palette': mc, 'order': ['L0.1', 'L50']}\n",
    "boxplot_kwargs = dict({'boxprops': boxprops, 'medianprops': lineprops,\n",
    "                       'whiskerprops': lineprops, 'capprops': capprops,\n",
    "                       'width': 0.4},\n",
    "                      **bkwargs)\n",
    "stripplot_kwargs = dict({'linewidth': 0.6, 'size': 6, 'alpha': 0.8},\n",
    "                        **skwargs)"
   ]
  },
  {
   "cell_type": "code",
   "execution_count": 24,
   "metadata": {},
   "outputs": [
    {
     "data": {
      "image/png": "[encoded data removed]",
      "text/plain": [
       "<Figure size 504x252 with 2 Axes>"
      ]
     },
     "metadata": {
      "needs_background": "light"
     },
     "output_type": "display_data"
    }
   ],
   "source": [
    "w = 7\n",
    "h = 7/2\n",
    "f, [ax0, ax1] = plt.subplots(1,2, figsize = (w,h))"
   ]
  },
  {
   "cell_type": "code",
   "execution_count": 25,
   "metadata": {},
   "outputs": [
    {
     "data": {
      "text/plain": [
       "<AxesSubplot:xlabel='lightLevel', ylabel='num_visit'>"
      ]
     },
     "execution_count": 25,
     "metadata": {},
     "output_type": "execute_result"
    }
   ],
   "source": [
    "# plot graph for number of visit\n",
    "\n",
    "sns.boxplot(ax = ax0, x = 'lightLevel', y = 'num_visit', data = data,\n",
    "           fliersize=0, **boxplot_kwargs)\n",
    "sns.stripplot(ax = ax0, x = 'lightLevel', y = 'num_visit', data = data,\n",
    "              dodge=True, **stripplot_kwargs)"
   ]
  },
  {
   "cell_type": "code",
   "execution_count": 26,
   "metadata": {},
   "outputs": [
    {
     "data": {
      "text/plain": [
       "<AxesSubplot:xlabel='lightLevel', ylabel='fraction_successful'>"
      ]
     },
     "execution_count": 26,
     "metadata": {},
     "output_type": "execute_result"
    }
   ],
   "source": [
    "# plot graph for fraction successful\n",
    "\n",
    "sns.boxplot(ax = ax1, x = 'lightLevel', y = 'fraction_successful', data = data,\n",
    "           fliersize=0, **boxplot_kwargs)\n",
    "sns.stripplot(ax = ax1, x = 'lightLevel', y = 'fraction_successful', data = data,\n",
    "              dodge=True, **stripplot_kwargs)"
   ]
  },
  {
   "cell_type": "code",
   "execution_count": 27,
   "metadata": {},
   "outputs": [
    {
     "data": {
      "image/png": "[encoded data removed]",
      "text/plain": [
       "<Figure size 504x252 with 2 Axes>"
      ]
     },
     "execution_count": 27,
     "metadata": {},
     "output_type": "execute_result"
    }
   ],
   "source": [
    "f"
   ]
  },
  {
   "cell_type": "code",
   "execution_count": 29,
   "metadata": {},
   "outputs": [],
   "source": [
    "f.savefig(path + 'Figure/visitInfo.pdf')"
   ]
  },
  {
   "cell_type": "code",
   "execution_count": null,
   "metadata": {},
   "outputs": [],
   "source": []
  }
 ],
 "metadata": {
  "kernelspec": {
   "display_name": "Python 3",
   "language": "python",
   "name": "python3"
  },
  "language_info": {
   "codemirror_mode": {
    "name": "ipython",
    "version": 3
   },
   "file_extension": ".py",
   "mimetype": "text/x-python",
   "name": "python",
   "nbconvert_exporter": "python",
   "pygments_lexer": "ipython3",
   "version": "3.6.5"
  }
 },
 "nbformat": 4,
 "nbformat_minor": 2
}
