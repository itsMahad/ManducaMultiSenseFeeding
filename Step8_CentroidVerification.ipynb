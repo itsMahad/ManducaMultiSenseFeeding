{
 "cells": [
  {
   "cell_type": "code",
   "execution_count": 1,
   "metadata": {},
   "outputs": [],
   "source": [
    "import time\n",
    "import numpy as np\n",
    "import cv2\n",
    "import pandas as pd\n",
    "import matplotlib.pyplot as plt\n",
    "from scipy import signal\n",
    "import os, errno\n",
    "import glob"
   ]
  },
  {
   "cell_type": "code",
   "execution_count": 2,
   "metadata": {},
   "outputs": [],
   "source": [
    "source = r\"E:\\Downloads\\ManducaMultiSenseData\\v3\\Centroids_Relevant_v3\"\n",
    "window = r\"E:\\Downloads\\ManducaMultiSenseData\\v3\\Centroids_Filtered_v3\\window\"\n",
    "outpath = r\"E:\\Downloads\\ManducaMultiSenseData\\v3\\Centroids_Filtered_v3\""
   ]
  },
  {
   "cell_type": "code",
   "execution_count": 5,
   "metadata": {},
   "outputs": [
    {
     "data": {
      "text/plain": [
       "'L0.1_c-3_m10_0_20377.csv'"
      ]
     },
     "execution_count": 5,
     "metadata": {},
     "output_type": "execute_result"
    }
   ],
   "source": [
    "csv_list = glob.glob(source + \"\\\\*c-3*.csv\")\n",
    "csv_list[0][60:]"
   ]
  },
  {
   "cell_type": "code",
   "execution_count": 4,
   "metadata": {},
   "outputs": [
    {
     "data": {
      "text/plain": [
       "(1017, 94, 924)"
      ]
     },
     "execution_count": 4,
     "metadata": {},
     "output_type": "execute_result"
    }
   ],
   "source": [
    "# removal_list = [source + \"\\\\L0.1_c-3_m23_6_66939.csv\",\n",
    "#  source +'\\\\L0.1_c-3_m37_0_36557.csv',\n",
    "#  source +'\\\\L0.1_c-3_m38_0_24374.csv',\n",
    "#  source +'\\\\L0.1_c-3_m39_10_40618.csv',\n",
    "#  source +'\\\\L0.1_c-3_m39_11_41749.csv',\n",
    "#  source +'\\\\L0.1_c-3_m39_12_43448.csv',\n",
    "#  source + '\\\\L0.1_c-3_m39_13_44002.csv',\n",
    "#  source + '\\\\L0.1_c-3_m39_2_31673.csv',\n",
    "#  source + '\\\\L0.1_c-3_m39_3_32250.csv',\n",
    "#  source + '\\\\L0.1_c-3_m39_4_35326.csv',\n",
    "#  source + '\\\\L0.1_c-3_m39_5_35876.csv',\n",
    "#  source + '\\\\L0.1_c-3_m39_6_37544.csv',\n",
    "#  source + '\\\\L0.1_c-3_m39_7_37856.csv',\n",
    "#  source + '\\\\L0.1_c-3_m39_8_39080.csv',\n",
    "#  source + '\\\\L0.1_c-3_m39_9_40013.csv',\n",
    "#  source + '\\\\L0.1_c-3_m8_0_22337.csv',\n",
    "#  source + '\\\\L0.1_c-3_m8_15_90616.csv',\n",
    "#  source + '\\\\L0.1_c-3_m8_16_98587.csv',\n",
    "#  source + '\\\\L0.1_c-3_m8_17_100492.csv',\n",
    "#  source + '\\\\L0.1_c-3_m8_18_102479.csv',\n",
    "#  source + '\\\\L0.1_c-3_m8_19_106089.csv',\n",
    "#  source + '\\\\L0.1_c-3_m8_1_23140.csv',\n",
    "#  source + '\\\\L0.1_c-3_m8_20_106502.csv',\n",
    "#  source + '\\\\L0.1_c-3_m8_21_107279.csv',\n",
    "#  source + '\\\\L0.1_c-3_m8_7_43199.csv',\n",
    "#  source + '\\\\L0.1_c-3_m8_9_62769.csv',\n",
    "#  source + '\\\\L50_c-3_m35_6_48609.csv',\n",
    "#  source + '\\\\L50_c-3_m35_8_108348.csv',\n",
    "#  source + '\\\\L50_c-3_m37_10_91542.csv',\n",
    "#  source + '\\\\L50_c-3_m38_2_26800.csv',\n",
    "#  source + '\\\\L50_c-3_m38_3_36898.csv',\n",
    "#  source + '\\\\L50_c-3_m38_4_37353.csv',\n",
    "#  source + '\\\\L50_c-3_m38_5_37845.csv',\n",
    "#  source + '\\\\L50_c-3_m38_6_38887.csv',\n",
    "#  source + '\\\\L50_c-3_m45_10_66189.csv',\n",
    "#  source + '\\\\L50_c-3_m45_11_67921.csv',\n",
    "#  source + '\\\\L50_c-3_m45_12_68640.csv',\n",
    "#  source + '\\\\L50_c-3_m45_13_159057.csv',\n",
    "#  source + '\\\\L50_c-3_m45_6_55130.csv',\n",
    "#  source + '\\\\L50_c-3_m45_7_63697.csv',\n",
    "#  source + '\\\\L50_c-3_m45_8_64916.csv',\n",
    "#  source + '\\\\L50_c-3_m45_9_65576.csv',\n",
    "#  source + '\\\\L0.1_c-3_m34_20_71520.csv',\n",
    "#  source + '\\\\L0.1_c-3_m34_21_74562.csv',\n",
    "#  source + '\\\\L0.1_c-3_m34_22_75820.csv',\n",
    "#  source + '\\\\L0.1_c-3_m34_23_77113.csv',\n",
    "#  source + '\\\\L0.1_c-3_m34_24_81816.csv',\n",
    "#  source + '\\\\L0.1_c-3_m43_4_41544.csv',\n",
    "#  source + '\\\\L0.1_c-3_m46_11_39359.csv',\n",
    "#  source + '\\\\L0.1_c-3_m5_16_59859.csv',\n",
    "#  source + '\\\\L0.1_c-3_m5_34_87945.csv',\n",
    "#  source + '\\\\L50_c-3_m25_0_37236.csv',\n",
    "#  source + '\\\\L0.1_c-3_m23_6_66939.csv',\n",
    "#  source + '\\\\L0.1_c-3_m32_16_149643.csv',\n",
    "#  source + '\\\\L0.1_c-3_m32_17_154000.csv',\n",
    "#  source + '\\\\L0.1_c-3_m34_11_45114.csv',\n",
    "#  source + '\\\\L0.1_c-3_m34_14_51383.csv',\n",
    "#  source + '\\\\L0.1_c-3_m34_19_67675.csv',\n",
    "#  source + '\\\\L0.1_c-3_m34_19_68612.csv',\n",
    "#  source + '\\\\L0.1_c-3_m34_2_29617.csv',\n",
    "#  source + '\\\\L0.1_c-3_m37_0_36557.csv',\n",
    "#  source + '\\\\L0.1_c-3_m38_0_24374.csv',\n",
    "#  source + '\\\\L0.1_c-3_m39_10_40618.csv',\n",
    "#  source + '\\\\L0.1_c-3_m39_11_41749.csv',\n",
    "#  source + '\\\\L0.1_c-3_m39_12_43448.csv',\n",
    "#  source + '\\\\L0.1_c-3_m39_13_44002.csv',\n",
    "#  source + '\\\\L0.1_c-3_m39_2_31673.csv',\n",
    "#  source + '\\\\L0.1_c-3_m39_3_32250.csv',\n",
    "#  source + '\\\\L0.1_c-3_m39_4_35326.csv',\n",
    "#  source + '\\\\L0.1_c-3_m39_5_35876.csv',\n",
    "#  source + '\\\\L0.1_c-3_m39_6_37544.csv',\n",
    "#  source + '\\\\L0.1_c-3_m39_7_37856.csv',\n",
    "#  source + '\\\\L0.1_c-3_m39_8_39080.csv',\n",
    "#  source + '\\\\L0.1_c-3_m39_9_40013.csv',\n",
    "#  source + '\\\\L0.1_c-3_m45_22_72759.csv',\n",
    "#  source + '\\\\L0.1_c-3_m45_5_40142.csv',\n",
    "#  source + '\\\\L0.1_c-3_m46_13_47364.csv',\n",
    "#  source + '\\\\L0.1_c-3_m47_3_21452.csv',\n",
    "#  source + '\\\\L0.1_c-3_m47_4_22585.csv',\n",
    "#  source + '\\\\L0.1_c-3_m57_16_84843.csv',\n",
    "#  source + '\\\\L0.1_c-3_m5_0_26767.csv',\n",
    "#  source + '\\\\L0.1_c-3_m5_10_51462.csv',\n",
    "#  source + '\\\\L0.1_c-3_m5_12_54487.csv',\n",
    "#  source + '\\\\L0.1_c-3_m5_15_58748.csv',\n",
    "#  source + '\\\\L0.1_c-3_m5_17_60830.csv',\n",
    "#  source + '\\\\L0.1_c-3_m5_18_62363.csv',\n",
    "#  source + '\\\\L0.1_c-3_m5_20_64412.csv',\n",
    "#  source + '\\\\L0.1_c-3_m5_22_67013.csv',\n",
    "#  source + '\\\\L0.1_c-3_m5_23_68970.csv',\n",
    "#  source + '\\\\L0.1_c-3_m5_25_70531.csv',\n",
    "#  source + '\\\\L0.1_c-3_m5_26_73715.csv',\n",
    "#  source + '\\\\L0.1_c-3_m5_28_77295.csv',\n",
    "#  source + '\\\\L0.1_c-3_m5_29_79654.csv',\n",
    "#  source + '\\\\L0.1_c-3_m5_30_81737.csv',\n",
    "#  source + '\\\\L0.1_c-3_m5_31_83229.csv',\n",
    "#  source + '\\\\L0.1_c-3_m5_32_84803.csv',\n",
    "#  source + '\\\\L0.1_c-3_m5_36_98169.csv',\n",
    "#  source + '\\\\L0.1_c-3_m5_37_99770.csv',\n",
    "#  source + '\\\\L0.1_c-3_m5_3_36270.csv',\n",
    "#  source + '\\\\L0.1_c-3_m5_4_41258.csv',\n",
    "#  source + '\\\\L0.1_c-3_m5_7_47239.csv',\n",
    "#  source + '\\\\L0.1_c-3_m5_8_48961.csv',\n",
    "#  source + '\\\\L0.1_c-3_m8_0_22337.csv',\n",
    "#  source + '\\\\L0.1_c-3_m8_15_90616.csv',\n",
    "#  source + '\\\\L0.1_c-3_m8_16_98587.csv',\n",
    "#  source + '\\\\L0.1_c-3_m8_17_100492.csv',\n",
    "#  source + '\\\\L0.1_c-3_m8_18_102479.csv',\n",
    "#  source + '\\\\L0.1_c-3_m8_19_106089.csv',\n",
    "#  source + '\\\\L0.1_c-3_m8_1_23140.csv',\n",
    "#  source + '\\\\L0.1_c-3_m8_20_106502.csv',\n",
    "#  source + '\\\\L0.1_c-3_m8_21_107279.csv',\n",
    "#  source + '\\\\L0.1_c-3_m8_7_43199.csv',\n",
    "#  source + '\\\\L0.1_c-3_m8_9_62769.csv',\n",
    "#  source + '\\\\L50_c-3_m15_1_19341.csv',\n",
    "#  source + '\\\\L50_c-3_m15_3_24522.csv',\n",
    "#  source + '\\\\L50_c-3_m22_19_82619.csv',\n",
    "#  source + '\\\\L50_c-3_m35_0_34946.csv',\n",
    "#  source + '\\\\L50_c-3_m35_6_48609.csv',\n",
    "#  source + '\\\\L50_c-3_m35_7_49157.csv',\n",
    "#  source + '\\\\L50_c-3_m35_8_108348.csv',\n",
    "#  source + '\\\\L50_c-3_m37_10_91542.csv',\n",
    "#  source + '\\\\L50_c-3_m38_2_26800.csv',\n",
    "#  source + '\\\\L50_c-3_m38_3_36898.csv',\n",
    "#  source + '\\\\L50_c-3_m38_4_37353.csv',\n",
    "#  source + '\\\\L50_c-3_m38_5_37845.csv',\n",
    "#  source + '\\\\L50_c-3_m38_6_38887.csv',\n",
    "#  source + '\\\\L50_c-3_m45_10_66189.csv',\n",
    "#  source + '\\\\L50_c-3_m45_11_67921.csv',\n",
    "#  source + '\\\\L50_c-3_m45_12_68640.csv',\n",
    "#  source + '\\\\L50_c-3_m45_13_159057.csv',\n",
    "#  source + '\\\\L50_c-3_m45_1_24243.csv',\n",
    "#  source + '\\\\L50_c-3_m45_6_55130.csv',\n",
    "#  source + '\\\\L50_c-3_m45_7_63697.csv',\n",
    "#  source + '\\\\L50_c-3_m45_8_64916.csv',\n",
    "#  source + '\\\\L50_c-3_m45_9_65576.csv',\n",
    "#  source + '\\\\L50_c-3_m51_8_39608.csv']\n",
    "# removal_list = list(set(removal_list))\n",
    "# new_list = [elem for elem in csv_list if elem not in removal_list]\n",
    "# len(csv_list), len(removal_list), len(new_list)"
   ]
  },
  {
   "cell_type": "code",
   "execution_count": 6,
   "metadata": {},
   "outputs": [
    {
     "data": {
      "text/plain": [
       "391"
      ]
     },
     "execution_count": 6,
     "metadata": {},
     "output_type": "execute_result"
    }
   ],
   "source": [
    "csv_list.index(source + '\\\\L0.1_c-3_m57_8_74673.csv')"
   ]
  },
  {
   "cell_type": "code",
   "execution_count": 7,
   "metadata": {},
   "outputs": [
    {
     "name": "stdout",
     "output_type": "stream",
     "text": [
      "L0.1_c-3_m57_8_74673 [1890 1893 1894 1897 1901 1905 1909 1910 1913 1914 1915 1916 1917 1918\n",
      " 1919 1920 1921 1922 1925 1926 1944 1947 1948 1949 1950 1951 1952 1953\n",
      " 1954 1955 1956 1958 1976 1979 1983 1984 1985 1986 1987 1988 1989 1990\n",
      " 1991 1992 1993 1994 1995 1996 1997 1998 2005 2006 2009 2010 2011 2012\n",
      " 2013 2014 2015 2016 2017 2018 2019 2020 2021 2022 2023 2024 2025 2026\n",
      " 2027 2028 2029 2030 2031 2032 2033 2034 2035 2036 2037 2038 2039 2040\n",
      " 2041 2042 2043 2044 2045 2046 2047 2048 2049 2050 2051 2052 2053 2054\n",
      " 2055 2056 2057 2058 2059 2060 2061 2062 2063 2064 2065 2066 2067 2068\n",
      " 2069 2070 2071 2072 2073 2074 2075 2076 2077 2078 2079 2080 2081 2082\n",
      " 2083 2084 2085 2086 2089 2090 2092 2093 2094 2095 2096 2097 2098 2099\n",
      " 2100 2101 2102 2103 2104 2105 2106 2109 2116 2130 2131 2132 2133 2134\n",
      " 2135 2136 2137 2141 2864 2872 2879 2882 2883 2886 2890 2901 2909 2912\n",
      " 2916]\n"
     ]
    }
   ],
   "source": [
    "start_list = []\n",
    "end_list = []\n",
    "name_list = []\n",
    "cutoff = 60\n",
    "\n",
    "# trim_list = np.asarray([\n",
    "#     ('L0.1_c-3_m40_10_35319', 50, 100), ('L0.1_c-3_m40_12_38758', 50, 100), ('L0.1_c-3_m40_13_42800',50, 100), \n",
    "#                 ('L0.1_c-3_m40_19_71339', 50 ,100), \n",
    "#     ('L50_c-3_m22_46_164536', 50, 500), ('L50_c-3_m32_6_60884', 50, 1900)])\n",
    "                       \n",
    "\n",
    "for element in csv_list[391:392]:\n",
    "    df = pd.read_csv(source + \"\\\\\" + element[cutoff:])\n",
    "   \n",
    "    start, end = 0, len(df.X_position.values)\n",
    "    \n",
    "    if np.any(df.X_position.isnull()):\n",
    "        \n",
    "        print(element[cutoff:-4], np.asarray(np.where(df.X_position.isnull())).ravel())\n",
    "        a = np.asarray(np.where(df.X_position.isnull())).ravel()\n",
    "        b = a[1:]\n",
    "        c = a[:-1]\n",
    "        d = b-c\n",
    "        \n",
    "        if (len(df.X_position.values) - a[-1]) > 200:\n",
    "            \n",
    "            start = a[-1] + 1\n",
    "            end = len(df.X_position.values)\n",
    "            \n",
    "        elif np.any(d) and max(d) > 200:\n",
    "            \n",
    "            start = a[np.argmax(d)]+1\n",
    "            end = a[np.argmax(d)+1]\n",
    "\n",
    "        \n",
    "        else:\n",
    "            \n",
    "            if a[0] == 0:\n",
    "                start = a[-1] + 1\n",
    "                end = len(df.X_position)\n",
    "\n",
    "            else:\n",
    "                start = 0\n",
    "                end = a[0]\n",
    "    #exclude edge cases where visits only made it to true trial threshold due to Gaussian NaN padding\n",
    "    \n",
    "#     if element[cutoff:-4] in trim_list[:,0]:\n",
    "        \n",
    "#         start = start + int(trim_list[int(np.where(element[cutoff:-4] == trim_list[:,0])[0])][1])\n",
    "#         end = end - int(trim_list[int(np.where(element[cutoff:-4] == trim_list[:,0])[0])][2])\n",
    "    \n",
    "    if (end-start) > 150:\n",
    "        \n",
    "        new_df = df[start:end]\n",
    "        start_list.append(new_df.FrameNumber.values[0])\n",
    "        end_list.append(new_df.FrameNumber.values[-1])\n",
    "        name_list.append(element[cutoff:-4])\n",
    "#         new_df = new_df.reset_index()\n",
    "#         new_df = new_df.drop(columns=['Unnamed: 0', 'index'])\n",
    "#         new_df.to_csv(outpath + \"\\\\\" + element[cutoff:])"
   ]
  },
  {
   "cell_type": "code",
   "execution_count": 10,
   "metadata": {},
   "outputs": [
    {
     "data": {
      "text/plain": [
       "([77590], [78083])"
      ]
     },
     "execution_count": 10,
     "metadata": {},
     "output_type": "execute_result"
    }
   ],
   "source": [
    "start_list, end_list"
   ]
  },
  {
   "cell_type": "code",
   "execution_count": 33,
   "metadata": {},
   "outputs": [],
   "source": [
    "#check first last frames for tanvi's new analysis\n",
    "\n",
    "cutoff = 55\n",
    "name_list = []\n",
    "start_list = []\n",
    "end_list = []\n",
    "for element in centroid_v3_list:\n",
    "    df = pd.read_csv(element)\n",
    "    name_list.append(element[cutoff:-9])\n",
    "    start_list.append(df.FrameNumber.values[0])\n",
    "    end_list.append(df.FrameNumber.values[-1])"
   ]
  },
  {
   "cell_type": "code",
   "execution_count": 5,
   "metadata": {},
   "outputs": [],
   "source": [
    "df_window  = pd.DataFrame({\"start_frame\": start_list, \"end_frame\": end_list, \"name\": name_list})\n",
    "df_window = df_window[[\"start_frame\", \"end_frame\", \"name\"]]"
   ]
  },
  {
   "cell_type": "code",
   "execution_count": 7,
   "metadata": {},
   "outputs": [
    {
     "data": {
      "text/html": [
       "<div>\n",
       "<style scoped>\n",
       "    .dataframe tbody tr th:only-of-type {\n",
       "        vertical-align: middle;\n",
       "    }\n",
       "\n",
       "    .dataframe tbody tr th {\n",
       "        vertical-align: top;\n",
       "    }\n",
       "\n",
       "    .dataframe thead th {\n",
       "        text-align: right;\n",
       "    }\n",
       "</style>\n",
       "<table border=\"1\" class=\"dataframe\">\n",
       "  <thead>\n",
       "    <tr style=\"text-align: right;\">\n",
       "      <th></th>\n",
       "      <th>start_frame</th>\n",
       "      <th>end_frame</th>\n",
       "      <th>name</th>\n",
       "    </tr>\n",
       "  </thead>\n",
       "  <tbody>\n",
       "    <tr>\n",
       "      <th>0</th>\n",
       "      <td>20379</td>\n",
       "      <td>20712</td>\n",
       "      <td>L0.1_c-3_m10_0_20377</td>\n",
       "    </tr>\n",
       "    <tr>\n",
       "      <th>1</th>\n",
       "      <td>39912</td>\n",
       "      <td>41052</td>\n",
       "      <td>L0.1_c-3_m10_1_39912</td>\n",
       "    </tr>\n",
       "    <tr>\n",
       "      <th>2</th>\n",
       "      <td>41723</td>\n",
       "      <td>41889</td>\n",
       "      <td>L0.1_c-3_m10_2_41723</td>\n",
       "    </tr>\n",
       "    <tr>\n",
       "      <th>3</th>\n",
       "      <td>68730</td>\n",
       "      <td>69027</td>\n",
       "      <td>L0.1_c-3_m10_3_67784</td>\n",
       "    </tr>\n",
       "    <tr>\n",
       "      <th>4</th>\n",
       "      <td>103803</td>\n",
       "      <td>104030</td>\n",
       "      <td>L0.1_c-3_m10_4_103803</td>\n",
       "    </tr>\n",
       "    <tr>\n",
       "      <th>...</th>\n",
       "      <td>...</td>\n",
       "      <td>...</td>\n",
       "      <td>...</td>\n",
       "    </tr>\n",
       "    <tr>\n",
       "      <th>608</th>\n",
       "      <td>40680</td>\n",
       "      <td>41461</td>\n",
       "      <td>L50_c-3_m9_1_39710</td>\n",
       "    </tr>\n",
       "    <tr>\n",
       "      <th>609</th>\n",
       "      <td>43070</td>\n",
       "      <td>43294</td>\n",
       "      <td>L50_c-3_m9_2_42157</td>\n",
       "    </tr>\n",
       "    <tr>\n",
       "      <th>610</th>\n",
       "      <td>53412</td>\n",
       "      <td>54098</td>\n",
       "      <td>L50_c-3_m9_3_53412</td>\n",
       "    </tr>\n",
       "    <tr>\n",
       "      <th>611</th>\n",
       "      <td>55397</td>\n",
       "      <td>55842</td>\n",
       "      <td>L50_c-3_m9_4_55397</td>\n",
       "    </tr>\n",
       "    <tr>\n",
       "      <th>612</th>\n",
       "      <td>65729</td>\n",
       "      <td>66192</td>\n",
       "      <td>L50_c-3_m9_5_64992</td>\n",
       "    </tr>\n",
       "  </tbody>\n",
       "</table>\n",
       "<p>613 rows × 3 columns</p>\n",
       "</div>"
      ],
      "text/plain": [
       "     start_frame  end_frame                   name\n",
       "0          20379      20712   L0.1_c-3_m10_0_20377\n",
       "1          39912      41052   L0.1_c-3_m10_1_39912\n",
       "2          41723      41889   L0.1_c-3_m10_2_41723\n",
       "3          68730      69027   L0.1_c-3_m10_3_67784\n",
       "4         103803     104030  L0.1_c-3_m10_4_103803\n",
       "..           ...        ...                    ...\n",
       "608        40680      41461     L50_c-3_m9_1_39710\n",
       "609        43070      43294     L50_c-3_m9_2_42157\n",
       "610        53412      54098     L50_c-3_m9_3_53412\n",
       "611        55397      55842     L50_c-3_m9_4_55397\n",
       "612        65729      66192     L50_c-3_m9_5_64992\n",
       "\n",
       "[613 rows x 3 columns]"
      ]
     },
     "execution_count": 7,
     "metadata": {},
     "output_type": "execute_result"
    }
   ],
   "source": [
    "df_window"
   ]
  },
  {
   "cell_type": "code",
   "execution_count": 8,
   "metadata": {},
   "outputs": [],
   "source": [
    "df_window.to_csv(window + \"\\\\filteredFrameWindow.csv\")"
   ]
  },
  {
   "cell_type": "code",
   "execution_count": 9,
   "metadata": {},
   "outputs": [],
   "source": [
    "#how many on the flower feeding visits are there?"
   ]
  }
 ],
 "metadata": {
  "kernelspec": {
   "display_name": "Python 3",
   "language": "python",
   "name": "python3"
  },
  "language_info": {
   "codemirror_mode": {
    "name": "ipython",
    "version": 3
   },
   "file_extension": ".py",
   "mimetype": "text/x-python",
   "name": "python",
   "nbconvert_exporter": "python",
   "pygments_lexer": "ipython3",
   "version": "3.6.5"
  }
 },
 "nbformat": 4,
 "nbformat_minor": 2
}
