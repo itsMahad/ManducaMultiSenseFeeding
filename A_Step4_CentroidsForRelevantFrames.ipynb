{
 "cells": [
  {
   "cell_type": "code",
   "execution_count": 1,
   "metadata": {},
   "outputs": [],
   "source": [
    "import time\n",
    "import numpy as np\n",
    "import cv2\n",
    "import pandas as pd\n",
    "import matplotlib.pyplot as plt\n",
    "from scipy import signal\n",
    "import os, errno\n",
    "import glob"
   ]
  },
  {
   "cell_type": "code",
   "execution_count": 2,
   "metadata": {},
   "outputs": [],
   "source": [
    "source = r\"E:\\Downloads\\ManducaMultiSenseData\\Step1\"\n",
    "window = r\"E:\\Downloads\\ManducaMultiSenseData\\Step3\"\n",
    "outpath = r\"E:\\Downloads\\ManducaMultiSenseData\\Centroids_Relevant\""
   ]
  },
  {
   "cell_type": "code",
   "execution_count": 3,
   "metadata": {},
   "outputs": [],
   "source": [
    "csv_list = glob.glob(source + \"\\*.csv\")\n",
    "# csv_list = csv_list[:7] + csv_list[9:]"
   ]
  },
  {
   "cell_type": "code",
   "execution_count": 8,
   "metadata": {},
   "outputs": [
    {
     "data": {
      "text/plain": [
       "'L0.1_c-3_m10'"
      ]
     },
     "execution_count": 8,
     "metadata": {},
     "output_type": "execute_result"
    }
   ],
   "source": [
    "csv_list[0][41:-4]"
   ]
  },
  {
   "cell_type": "code",
   "execution_count": 10,
   "metadata": {},
   "outputs": [],
   "source": [
    "for element in csv_list:\n",
    "    df = pd.read_csv(element)\n",
    "    \n",
    "    win = pd.read_csv(window + \"\\\\\" + element[41:-4] + \"_MothInOut_labeled.csv\")\n",
    "    \n",
    "    In = win[(win.label.values>0)].In_Frame.values\n",
    "    Out = win[(win.label.values>0)].Out_Frame.values\n",
    "    i = 0\n",
    "    while i < len(In):\n",
    "        start = In[i]\n",
    "        end = Out[i]\n",
    "        frame = df[start:end].index.values\n",
    "        x = df[start:end].Centroid_hull_x.values*2.5/74\n",
    "        y = df[start:end].Centroid_hull_y.values*2.5/74\n",
    "        \n",
    "        new_df = pd.DataFrame({\"FrameNumber\": frame, \"X_position\": x, \"Y_position\": y, \"VisitNumber\": [i]*len(x)})\n",
    "        new_df.to_csv(outpath + \"\\\\\"+ element[41:-4] + \"_\" + str(i) + \"_\" + str(In[i]) + \".csv\")\n",
    "        \n",
    "        i+=1"
   ]
  },
  {
   "cell_type": "code",
   "execution_count": null,
   "metadata": {},
   "outputs": [],
   "source": []
  }
 ],
 "metadata": {
  "kernelspec": {
   "display_name": "Python 3",
   "language": "python",
   "name": "python3"
  },
  "language_info": {
   "codemirror_mode": {
    "name": "ipython",
    "version": 3
   },
   "file_extension": ".py",
   "mimetype": "text/x-python",
   "name": "python",
   "nbconvert_exporter": "python",
   "pygments_lexer": "ipython3",
   "version": "3.7.6"
  }
 },
 "nbformat": 4,
 "nbformat_minor": 2
}
