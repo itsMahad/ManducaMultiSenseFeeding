{
 "cells": [
  {
   "cell_type": "code",
   "execution_count": 1,
   "metadata": {},
   "outputs": [],
   "source": [
    "import pandas as pd\n",
    "import numpy as np\n",
    "from scipy import signal\n",
    "import matplotlib.pyplot as plt\n",
    "import matplotlib as mpl\n",
    "import glob"
   ]
  },
  {
   "cell_type": "code",
   "execution_count": 2,
   "metadata": {},
   "outputs": [],
   "source": [
    "data_path = './dataFolders/Final Tracking xypts/AngleAndRadiusIncluded/'"
   ]
  },
  {
   "cell_type": "code",
   "execution_count": 31,
   "metadata": {},
   "outputs": [],
   "source": [
    "def angleCorloredTrajectory(x_gauss, y_gauss, circ_r, angle):\n",
    "    \n",
    "    ax = plt.gca()\n",
    "    ax.set_facecolor('black')\n",
    "\n",
    "    c1 = plt.Circle((0, 0), circ_r, facecolor='linen', alpha = 0.7, \n",
    "                    edgecolor='none', zorder = -3)\n",
    "    ax.add_artist(c1)\n",
    "\n",
    "    plt.scatter(x_gauss, y_gauss, s=7 , c = angle, cmap = plt.cm.jet, \n",
    "               zorder = 1)\n",
    "    ax.set_aspect('equal', adjustable = 'datalim')\n",
    "    ax.tick_params(axis = 'both',\n",
    "                which = 'both',\n",
    "                bottom = False,\n",
    "                left = False,\n",
    "                labelbottom = False,\n",
    "                  labelleft = False)\n",
    "\n",
    "    cbar = plt.colorbar()\n",
    "    \n",
    "    return(fig)\n",
    "\n",
    "def angleColoredSweepCurves(r_gauss, circ_r, angle):\n",
    "    fig = plt.subplots(figsize = (5,5))\n",
    "    t0 = np.arange(len(r_gauss))*1/100\n",
    "    plt.scatter(t0, r_gauss/circ_r, s = 10,\n",
    "                c = angle, cmap = plt.cm.jet)\n",
    "    cbar = plt.colorbar()\n",
    "    return(fig)"
   ]
  },
  {
   "cell_type": "code",
   "execution_count": 4,
   "metadata": {},
   "outputs": [],
   "source": [
    "datalist = glob.glob(data_path + '**.csv')\n",
    "circ_parameters = pd.read_csv('./dataFolders/circle_parameters.csv')"
   ]
  },
  {
   "cell_type": "code",
   "execution_count": 5,
   "metadata": {},
   "outputs": [],
   "source": [
    "shapes = ['c-1_', 'c-2_', 'c-3_', 'c-10_']"
   ]
  },
  {
   "cell_type": "code",
   "execution_count": 6,
   "metadata": {},
   "outputs": [],
   "source": [
    "handpicked = ['c-1_m13',\n",
    "              'c-2_m11',\n",
    "              'c-3_m10',\n",
    "              'c-10_m11']"
   ]
  },
  {
   "cell_type": "code",
   "execution_count": 7,
   "metadata": {},
   "outputs": [],
   "source": [
    "fig_path = './dataFolders/Figures/figuresForDepartmentTalk/'"
   ]
  },
  {
   "cell_type": "code",
   "execution_count": null,
   "metadata": {},
   "outputs": [],
   "source": [
    "trial = ['first', 'last']\n",
    "\n",
    "plt.style.use('seaborn')\n",
    "\n",
    "fig, ax = plt.subplots(2,4, figsize = (20,10), sharex = True, sharey = True)\n",
    "\n",
    "cc = 0\n",
    "for name in handpicked:\n",
    "    path = [data for data in datalist if name in data]\n",
    "    \n",
    "    ii = 0\n",
    "    for tt in trial:\n",
    "        p = [x for x in path if tt in x][0]\n",
    "        \n",
    "        file = pd.read_csv(p)\n",
    "        r = file.loc[:,'r_gauss'].values\n",
    "#       print(ii, cc)\n",
    "        t = np.arange(0,len(r))\n",
    "        ax[ii, cc].plot(t*1/100, r, color = 'dimgrey')\n",
    "        ax[ii, cc].tick_params(axis='both', which='major', labelsize=10)\n",
    "        ii+=1\n",
    "    cc+=1\n",
    "\n",
    "\n",
    "fig.savefig(fig_path + 'radialSweepsAllFlowers.png')"
   ]
  },
  {
   "cell_type": "code",
   "execution_count": null,
   "metadata": {},
   "outputs": [],
   "source": [
    "trial = ['first', 'last']\n",
    "\n",
    "fig, ax = plt.subplots(1,2, figsize = (20,10), sharex = True, sharey = True)\n",
    "\n",
    "cc = 0\n",
    "for name in handpicked[2:3]:\n",
    "    path = [data for data in datalist if name in data]\n",
    "    \n",
    "    ii = 0\n",
    "    for tt in trial:\n",
    "        p = [x for x in path if tt in x][0]\n",
    "        \n",
    "        file = pd.read_csv(p)\n",
    "        r = file.loc[:,'r_gauss'].values\n",
    "#       print(ii, cc)\n",
    "        t = np.arange(0,len(r))\n",
    "        ax[ii].plot(t*1/100, r, 'o-', color = 'dimgrey', markersize = 3)\n",
    "        ax[ii].tick_params(axis='both', which='major', labelsize=22)\n",
    "        ii+=1\n",
    "    cc+=1\n",
    "    \n",
    "fig.savefig(fig_path + 'radialSweeps_c3Example.png')"
   ]
  },
  {
   "cell_type": "code",
   "execution_count": null,
   "metadata": {},
   "outputs": [],
   "source": [
    "trial = ['first', 'last']\n",
    "\n",
    "plt.style.use('seaborn')\n",
    "\n",
    "fig, ax = plt.subplots(2,4, figsize = (20,10), sharex = True, sharey = True)\n",
    "\n",
    "cc = 0\n",
    "for name in handpicked:\n",
    "    path = [data for data in datalist if name in data]\n",
    "    \n",
    "    ii = 0\n",
    "    for tt in trial:\n",
    "        p = [x for x in path if tt in x][0]\n",
    "        \n",
    "        file = pd.read_csv(p)\n",
    "        r = file.loc[:,'r_gauss'].values\n",
    "        t0 = np.arange(len(r))*1/100\n",
    "        blu = ax[ii, cc].scatter(t0, r, s = 10,\n",
    "                        c = file.loc[:,'angle'].values,\n",
    "                        cmap = plt.cm.jet)\n",
    "        ax[ii, cc].tick_params(axis='both', which='major', labelsize=11)\n",
    "        ii+=1\n",
    "    cc+=1\n",
    "\n",
    "fig.subplots_adjust(right=0.8)\n",
    "cbar_ax = fig.add_axes([0.81, 0.2, 0.01, 0.5])\n",
    "fig.colorbar(blu, cax = cbar_ax)\n",
    "\n",
    "fig.savefig(fig_path + 'radialSweepsAngleAllFlowers.png')"
   ]
  },
  {
   "cell_type": "code",
   "execution_count": null,
   "metadata": {},
   "outputs": [],
   "source": [
    "trial = ['first', 'last']\n",
    "\n",
    "fig, ax = plt.subplots(1,2, figsize = (20,10), sharex = True, sharey = True)\n",
    "\n",
    "cc = 0\n",
    "for name in handpicked[0:1]:\n",
    "    path = [data for data in datalist if name in data]\n",
    "    \n",
    "    ii = 0\n",
    "    for tt in trial:\n",
    "        p = [x for x in path if tt in x][0]\n",
    "        \n",
    "        file = pd.read_csv(p)\n",
    "        r = file.loc[:,'r_gauss'].values\n",
    "        t0 = np.arange(len(r))*1/100\n",
    "        blu = ax[ii].scatter(t0, r, s = 12,\n",
    "                        c = file.loc[:,'angle'].values,\n",
    "                        cmap = plt.cm.jet)\n",
    "        ax[ii].tick_params(axis='both', which='major', labelsize=22)\n",
    "        ii+=1\n",
    "    cc+=1\n",
    "fig.subplots_adjust(right=0.8)\n",
    "cbar_ax = fig.add_axes([0.81, 0.2, 0.01, 0.5])\n",
    "fig.colorbar(blu, cax = cbar_ax)\n",
    "\n",
    "fig.savefig(fig_path + 'radialSweepsAnglec-1Example.png')"
   ]
  },
  {
   "cell_type": "code",
   "execution_count": 34,
   "metadata": {},
   "outputs": [
    {
     "data": {
      "image/png": "[encoded data removed]",
      "text/plain": [
       "<Figure size 432x288 with 2 Axes>"
      ]
     },
     "metadata": {},
     "output_type": "display_data"
    }
   ],
   "source": [
    "name = handpicked[0:1][0]\n",
    "circ_r = circ_parameters.loc[circ_parameters.name == name, 'circ_radii'].values\n",
    "\n",
    "path = [data for data in datalist if name in data]\n",
    "p = [x for x in path if 'first' in x][0]\n",
    "file = pd.read_csv(p)\n",
    "\n",
    "x_gauss = file.loc[:, 'x_gauss'].values\n",
    "y_gauss = file.loc[:, 'y_gauss'].values\n",
    "angle = file.loc[:,'angle'].values\n",
    "\n",
    "f1, _ = angleCorloredTrajectory(x_gauss, y_gauss, circ_r, angle)\n",
    "f1.savefig(fig_path + 'AngleColoredTrajectory_c1Example.svg')"
   ]
  },
  {
   "cell_type": "code",
   "execution_count": null,
   "metadata": {},
   "outputs": [],
   "source": []
  }
 ],
 "metadata": {
  "kernelspec": {
   "display_name": "Python 3",
   "language": "python",
   "name": "python3"
  },
  "language_info": {
   "codemirror_mode": {
    "name": "ipython",
    "version": 3
   },
   "file_extension": ".py",
   "mimetype": "text/x-python",
   "name": "python",
   "nbconvert_exporter": "python",
   "pygments_lexer": "ipython3",
   "version": "3.6.5"
  }
 },
 "nbformat": 4,
 "nbformat_minor": 2
}
