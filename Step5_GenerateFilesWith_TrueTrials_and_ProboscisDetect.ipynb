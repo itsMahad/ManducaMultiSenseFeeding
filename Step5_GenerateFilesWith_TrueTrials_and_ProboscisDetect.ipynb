{
 "cells": [
  {
   "cell_type": "code",
   "execution_count": 1,
   "metadata": {},
   "outputs": [],
   "source": [
    "import pandas as pd\n",
    "import numpy as np\n",
    "from scipy import io\n",
    "import os, errno"
   ]
  },
  {
   "cell_type": "code",
   "execution_count": 2,
   "metadata": {},
   "outputs": [],
   "source": [
    "# consolidate the true trials tDetect and exploration time across ALL the data.\n",
    "\n",
    "direc1 = '/Users/Mahad/Documents/GitHub/ManducaMultiSenseFeeding/Data_From_Step_3'\n",
    "files = [file for file in os.listdir(direc1) if file.endswith('.csv')]\n",
    "\n",
    "\n",
    "# load all the files with IRdtect data\n",
    "direc2 = '/Users/Mahad/Documents/GitHub/ManducaMultiSenseFeeding/Data_From_Step_4'\n",
    "IR_data_files = [file for file in os.listdir(direc2)]"
   ]
  },
  {
   "cell_type": "code",
   "execution_count": 3,
   "metadata": {},
   "outputs": [
    {
     "name": "stdout",
     "output_type": "stream",
     "text": [
      "L0.1_c-3_m12.mat_IRdetect.npy\n",
      "L0.1_c-3_m20.mat_IRdetect.npy\n",
      "L0.1_c-3_m21.mat_IRdetect.npy\n",
      "L0.1_c-3_m22.mat_IRdetect.npy\n",
      "L0.1_c-3_m23.mat_IRdetect.npy\n",
      "L0.1_c-3_m24.mat_IRdetect.npy\n",
      "L0.1_c-3_m25.mat_IRdetect.npy\n",
      "L0.1_c-3_m2.mat_IRdetect.npy\n",
      "L0.1_c-3_m8.mat_IRdetect.npy\n",
      "L50_c-3_m10.mat_IRdetect.npy\n",
      "L50_c-3_m12.mat_IRdetect.npy\n",
      "L50_c-3_m13.mat_IRdetect.npy\n",
      "L50_c-3_m14.mat_IRdetect.npy\n",
      "L50_c-3_m15.mat_IRdetect.npy\n",
      "L50_c-3_m21.mat_IRdetect.npy\n",
      "L50_c-3_m22.mat_IRdetect.npy\n",
      "L50_c-3_m24.mat_IRdetect.npy\n",
      "L50_c-3_m2.mat_IRdetect.npy\n",
      "L50_c-3_m6.mat_IRdetect.npy\n"
     ]
    }
   ],
   "source": [
    "new_path = '/Users/Mahad/Documents/GitHub/ManducaMultiSenseFeeding/Data_From_Step_5/'\n",
    "\n",
    "try:\n",
    "    os.makedirs(new_path)\n",
    "except OSError as e:\n",
    "    if e.errno != errno.EEXIST:\n",
    "        raise\n",
    "\n",
    "for fname in files:\n",
    "    df = pd.read_csv(direc1 + '/' + fname)\n",
    "    # pull out all the trueTrials and reset the index to default to get true trial #\n",
    "    trueTrials = df[df.label == 1].loc[:, ['In_Frame', 'Out_Frame']].reset_index(drop = True)\n",
    "    \n",
    "    # remove \"cropped\" from filename to match IR file\n",
    "    if fname.find('_cut') :\n",
    "        new_fname = fname.replace('_cut','')\n",
    "    else: \n",
    "        new_fname = fname\n",
    "    \n",
    "    # load IR files and get indices of all the frames where IRDetect == 1\n",
    "    IR_detect_file = [file for file in IR_data_files if new_fname[:-22] in file]\n",
    "    print(IR_detect_file[0])\n",
    "    loadedIRdetect = np.load(direc2 + '/' + IR_detect_file[0])\n",
    "    indx = np.where(loadedIRdetect)\n",
    "    indx = indx[0].reshape(-1)\n",
    "    \n",
    "    # for each true trial, find the first frame where IRDetect == True\n",
    "    proboscisDetect = []\n",
    "    discoveryTime = []\n",
    "    for framein, frameout in zip(trueTrials.In_Frame, trueTrials.Out_Frame):\n",
    "        allframes = [frame for frame in indx if framein < frame < frameout]\n",
    "        if allframes == []:\n",
    "            detect = np.nan\n",
    "        else:\n",
    "            detect = min(allframes)\n",
    "        Time  = detect - framein\n",
    "        proboscisDetect.append(detect)\n",
    "        discoveryTime.append(Time)\n",
    "\n",
    "    df1 = pd.DataFrame({'ProboscisDetect': proboscisDetect})\n",
    "    df2 = pd.DataFrame({'DiscoveryTime' : discoveryTime})\n",
    "\n",
    "    new_data = pd.concat([trueTrials, df1, df2], axis = 1)\n",
    "    new_data.to_csv(new_path + fname[:-22] + '_RawDataForExplorationTime.csv')"
   ]
  },
  {
   "cell_type": "code",
   "execution_count": 4,
   "metadata": {},
   "outputs": [
    {
     "data": {
      "text/plain": [
       "'L50_c-3_m6_MothInOut_labeled.csv'"
      ]
     },
     "execution_count": 4,
     "metadata": {},
     "output_type": "execute_result"
    }
   ],
   "source": [
    "fname"
   ]
  },
  {
   "cell_type": "code",
   "execution_count": null,
   "metadata": {},
   "outputs": [],
   "source": []
  }
 ],
 "metadata": {
  "kernelspec": {
   "display_name": "Python 3",
   "language": "python",
   "name": "python3"
  },
  "language_info": {
   "codemirror_mode": {
    "name": "ipython",
    "version": 3
   },
   "file_extension": ".py",
   "mimetype": "text/x-python",
   "name": "python",
   "nbconvert_exporter": "python",
   "pygments_lexer": "ipython3",
   "version": "3.6.4"
  }
 },
 "nbformat": 4,
 "nbformat_minor": 2
}
