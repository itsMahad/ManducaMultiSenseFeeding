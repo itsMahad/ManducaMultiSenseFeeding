{
 "cells": [
  {
   "cell_type": "code",
   "execution_count": 1,
   "metadata": {},
   "outputs": [],
   "source": [
    "import pandas as pd\n",
    "import numpy as np\n",
    "from scipy import io\n",
    "import os, errno\n",
    "import glob"
   ]
  },
  {
   "cell_type": "code",
   "execution_count": 2,
   "metadata": {},
   "outputs": [],
   "source": [
    "# consolidate the true trials tDetect and exploration time across ALL the data.\n",
    "\n",
    "#direc1 = r'E:\\Downloads\\ManducaMultiSenseData\\Step3'\n",
    "direc1 = r'./dataFolders/Output/Step3_v3/'\n",
    "files = glob.glob(direc1 + 'L*.csv')\n",
    "# files = [file for file in os.listdir(direc1) if file.endswith('.csv')]\n",
    "# print(files)\n",
    "\n",
    "\n",
    "# load all the files with IRdtect data \n",
    "#L0.1_c-3_m45, L0.1_c-3_m46, L50_c-3_m50 all have their IR data stitched together so either manually stitch back together with code at bottom of script or use stitched step 4 files on lab computre\n",
    "direc2 = \"G:/My Drive/Mahad/Light Level Experiments/Data Output from Analysis/Step 4/\"\n",
    "IR_data_files = glob.glob(direc2 + '*.npy')"
   ]
  },
  {
   "cell_type": "code",
   "execution_count": 3,
   "metadata": {},
   "outputs": [],
   "source": [
    "new_path = r'./dataFolders/Output/Step5_v3'\n",
    "\n",
    "try:\n",
    "    os.makedirs(new_path)\n",
    "except OSError as e:\n",
    "    if e.errno != errno.EEXIST:\n",
    "        raise"
   ]
  },
  {
   "cell_type": "code",
   "execution_count": 4,
   "metadata": {},
   "outputs": [],
   "source": [
    "for fname in files:\n",
    "    df = pd.read_csv(fname)\n",
    "   \n",
    "    a,b, c, _ = os.path.basename(fname).split(\"_\")\n",
    "    name = a + \"_\" + b + \"_\" + c\n",
    "   \n",
    "    # pull out all the trueTrials and reset the index to default to get true trial #\n",
    "    #trueTrials = df[df.label == 1].loc[:, ['In_Frame', 'Out_Frame']].reset_index(drop = True)\n",
    "    \n",
    "    trueTrials = df.loc[:,'In_Frame':'Out_Frame']\n",
    "    \n",
    "    \n",
    "    # load IR files and get indices of all the frames where IRDetect == 1\n",
    "    strng = name + '.mat'\n",
    "    IR_detect_file = [file for file in IR_data_files if strng in file]\n",
    "\n",
    "#     print(IR_detect_file[0])\n",
    "    loadedIRdetect = np.load(IR_detect_file[0])\n",
    "    indx = np.where(loadedIRdetect)\n",
    "    indx = indx[0].reshape(-1)\n",
    "\n",
    "    # for each true trial, find the first frame where IRDetect == True\n",
    "    proboscisDetect = []\n",
    "    discoveryTime = []\n",
    "    for framein, frameout in zip(trueTrials.In_Frame, trueTrials.Out_Frame):\n",
    "        allframes = [frame for frame in indx if framein < frame < frameout]\n",
    "        if allframes == []:\n",
    "            detect = np.nan\n",
    "        else:\n",
    "            detect = min(allframes)\n",
    "        Time  = detect - framein\n",
    "        proboscisDetect.append(detect)\n",
    "        discoveryTime.append(Time)\n",
    "\n",
    "    df1 = pd.DataFrame({'ProboscisDetect': proboscisDetect})\n",
    "    df2 = pd.DataFrame({'DiscoveryTime' : discoveryTime})\n",
    "\n",
    "    new_data = pd.concat([trueTrials, df1, df2], axis = 1)\n",
    "    new_data.to_csv(new_path + \"\\\\\" + name + '_RawDataForExplorationTime.csv')"
   ]
  }
 ],
 "metadata": {
  "kernelspec": {
   "display_name": "Python 3",
   "language": "python",
   "name": "python3"
  },
  "language_info": {
   "codemirror_mode": {
    "name": "ipython",
    "version": 3
   },
   "file_extension": ".py",
   "mimetype": "text/x-python",
   "name": "python",
   "nbconvert_exporter": "python",
   "pygments_lexer": "ipython3",
   "version": "3.6.5"
  }
 },
 "nbformat": 4,
 "nbformat_minor": 2
}
