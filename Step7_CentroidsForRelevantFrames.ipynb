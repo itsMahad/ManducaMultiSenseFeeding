{
 "cells": [
  {
   "cell_type": "code",
   "execution_count": 8,
   "metadata": {},
   "outputs": [],
   "source": [
    "import time\n",
    "import numpy as np\n",
    "import cv2\n",
    "import pandas as pd\n",
    "import matplotlib.pyplot as plt\n",
    "from scipy import signal\n",
    "import os, errno\n",
    "import glob"
   ]
  },
  {
   "cell_type": "code",
   "execution_count": 14,
   "metadata": {},
   "outputs": [],
   "source": [
    "source = r\"E:\\Downloads\\ManducaMultiSenseData\\Step1\"\n",
    "window = r\"E:\\Downloads\\ManducaMultiSenseData\\Step3\"\n",
    "outpath = r\"E:\\Downloads\\ManducaMultiSenseData\\Motion\\Centroids_Relevant\""
   ]
  },
  {
   "cell_type": "code",
   "execution_count": 15,
   "metadata": {},
   "outputs": [],
   "source": [
    "csv_list = glob.glob(source + \"\\*.csv\")\n",
    "# csv_list = csv_list[:7] + csv_list[9:]"
   ]
  },
  {
   "cell_type": "code",
   "execution_count": 16,
   "metadata": {},
   "outputs": [
    {
     "data": {
      "text/plain": [
       "'L0.1_c-3_m10'"
      ]
     },
     "execution_count": 16,
     "metadata": {},
     "output_type": "execute_result"
    }
   ],
   "source": [
    "csv_list[0][41:-4]"
   ]
  },
  {
   "cell_type": "code",
   "execution_count": 17,
   "metadata": {},
   "outputs": [
    {
     "data": {
      "text/html": [
       "<div>\n",
       "<style scoped>\n",
       "    .dataframe tbody tr th:only-of-type {\n",
       "        vertical-align: middle;\n",
       "    }\n",
       "\n",
       "    .dataframe tbody tr th {\n",
       "        vertical-align: top;\n",
       "    }\n",
       "\n",
       "    .dataframe thead th {\n",
       "        text-align: right;\n",
       "    }\n",
       "</style>\n",
       "<table border=\"1\" class=\"dataframe\">\n",
       "  <thead>\n",
       "    <tr style=\"text-align: right;\">\n",
       "      <th></th>\n",
       "      <th>FrameNumber</th>\n",
       "      <th>X_position</th>\n",
       "      <th>Y_position</th>\n",
       "      <th>VisitNumber</th>\n",
       "    </tr>\n",
       "  </thead>\n",
       "  <tbody>\n",
       "    <tr>\n",
       "      <th>0</th>\n",
       "      <td>20377</td>\n",
       "      <td>1.756757</td>\n",
       "      <td>14.290541</td>\n",
       "      <td>0</td>\n",
       "    </tr>\n",
       "    <tr>\n",
       "      <th>1</th>\n",
       "      <td>20378</td>\n",
       "      <td>NaN</td>\n",
       "      <td>NaN</td>\n",
       "      <td>0</td>\n",
       "    </tr>\n",
       "    <tr>\n",
       "      <th>2</th>\n",
       "      <td>20379</td>\n",
       "      <td>5.912162</td>\n",
       "      <td>15.236486</td>\n",
       "      <td>0</td>\n",
       "    </tr>\n",
       "    <tr>\n",
       "      <th>3</th>\n",
       "      <td>20380</td>\n",
       "      <td>2.263514</td>\n",
       "      <td>12.702703</td>\n",
       "      <td>0</td>\n",
       "    </tr>\n",
       "    <tr>\n",
       "      <th>4</th>\n",
       "      <td>20381</td>\n",
       "      <td>2.905405</td>\n",
       "      <td>13.581081</td>\n",
       "      <td>0</td>\n",
       "    </tr>\n",
       "    <tr>\n",
       "      <th>...</th>\n",
       "      <td>...</td>\n",
       "      <td>...</td>\n",
       "      <td>...</td>\n",
       "      <td>...</td>\n",
       "    </tr>\n",
       "    <tr>\n",
       "      <th>331</th>\n",
       "      <td>20708</td>\n",
       "      <td>0.270270</td>\n",
       "      <td>11.216216</td>\n",
       "      <td>0</td>\n",
       "    </tr>\n",
       "    <tr>\n",
       "      <th>332</th>\n",
       "      <td>20709</td>\n",
       "      <td>0.574324</td>\n",
       "      <td>13.209459</td>\n",
       "      <td>0</td>\n",
       "    </tr>\n",
       "    <tr>\n",
       "      <th>333</th>\n",
       "      <td>20710</td>\n",
       "      <td>0.270270</td>\n",
       "      <td>8.716216</td>\n",
       "      <td>0</td>\n",
       "    </tr>\n",
       "    <tr>\n",
       "      <th>334</th>\n",
       "      <td>20711</td>\n",
       "      <td>0.236486</td>\n",
       "      <td>8.648649</td>\n",
       "      <td>0</td>\n",
       "    </tr>\n",
       "    <tr>\n",
       "      <th>335</th>\n",
       "      <td>20712</td>\n",
       "      <td>0.202703</td>\n",
       "      <td>8.614865</td>\n",
       "      <td>0</td>\n",
       "    </tr>\n",
       "  </tbody>\n",
       "</table>\n",
       "<p>336 rows × 4 columns</p>\n",
       "</div>"
      ],
      "text/plain": [
       "     FrameNumber  X_position  Y_position  VisitNumber\n",
       "0          20377    1.756757   14.290541            0\n",
       "1          20378         NaN         NaN            0\n",
       "2          20379    5.912162   15.236486            0\n",
       "3          20380    2.263514   12.702703            0\n",
       "4          20381    2.905405   13.581081            0\n",
       "..           ...         ...         ...          ...\n",
       "331        20708    0.270270   11.216216            0\n",
       "332        20709    0.574324   13.209459            0\n",
       "333        20710    0.270270    8.716216            0\n",
       "334        20711    0.236486    8.648649            0\n",
       "335        20712    0.202703    8.614865            0\n",
       "\n",
       "[336 rows x 4 columns]"
      ]
     },
     "execution_count": 17,
     "metadata": {},
     "output_type": "execute_result"
    }
   ],
   "source": [
    "new_df"
   ]
  },
  {
   "cell_type": "code",
   "execution_count": 18,
   "metadata": {},
   "outputs": [],
   "source": [
    "for element in csv_list:\n",
    "    df = pd.read_csv(element)\n",
    "    \n",
    "    win = pd.read_csv(window + \"\\\\\" + element[41:-4] + \"_MothInOut_labeled.csv\")\n",
    "    \n",
    "    In = win[(win.label.values>0)].In_Frame.values\n",
    "    Out = win[(win.label.values>0)].Out_Frame.values\n",
    "    i = 0\n",
    "    while i < len(In):\n",
    "        start = In[i]\n",
    "        end = Out[i]\n",
    "        frame = df[start:end].index.values\n",
    "        x = df[start:end].Centroid_hull_x.values*2.5/74\n",
    "        y = df[start:end].Centroid_hull_y.values*2.5/74\n",
    "        \n",
    "        new_df = pd.DataFrame({\"FrameNumber\": frame, \"X_position\": x, \"Y_position\": y, \"VisitNumber\": [i]*len(x)})\n",
    "        new_df.to_csv(outpath + \"\\\\\"+ element[41:-4] + \"_\" + str(i) + \"_\" + str(In[i]) + \".csv\")\n",
    "        \n",
    "        i+=1"
   ]
  },
  {
   "cell_type": "code",
   "execution_count": null,
   "metadata": {},
   "outputs": [],
   "source": []
  },
  {
   "cell_type": "code",
   "execution_count": null,
   "metadata": {},
   "outputs": [],
   "source": []
  }
 ],
 "metadata": {
  "kernelspec": {
   "display_name": "Python 3",
   "language": "python",
   "name": "python3"
  },
  "language_info": {
   "codemirror_mode": {
    "name": "ipython",
    "version": 3
   },
   "file_extension": ".py",
   "mimetype": "text/x-python",
   "name": "python",
   "nbconvert_exporter": "python",
   "pygments_lexer": "ipython3",
   "version": "3.7.6"
  }
 },
 "nbformat": 4,
 "nbformat_minor": 2
}
