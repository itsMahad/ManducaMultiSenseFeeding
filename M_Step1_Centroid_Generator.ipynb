{
 "cells": [
  {
   "cell_type": "code",
   "execution_count": 1,
   "metadata": {},
   "outputs": [],
   "source": [
    "# centroids generated from this step do not go through the pixel filter!\n",
    "# but centroids from first half were generated via this step soooooooooooooooooo\n",
    "# I could generate some centroids from the first half and compare to current values\n",
    "# looks like I already generated those values\n",
    "#so why is second half getting flagged? differently\n",
    "#doesnt explain why there are half differences but does explain the fact the flower is getting picked up p frequ. \n",
    "#one filter only saves centroid values for objects with a contour larger than x\n",
    "#the other filter saves in and out values for "
   ]
  },
  {
   "cell_type": "code",
   "execution_count": 2,
   "metadata": {},
   "outputs": [],
   "source": [
    "import time\n",
    "import numpy as np\n",
    "import cv2\n",
    "import pandas as pd\n",
    "import matplotlib.pyplot as plt\n",
    "from scipy import signal\n",
    "import os, errno\n",
    "import glob"
   ]
  },
  {
   "cell_type": "code",
   "execution_count": 3,
   "metadata": {},
   "outputs": [],
   "source": [
    "def FrameSequence(file_name, path):\n",
    "    video = [(os.path.join(root, file), file[0:-4]) \n",
    "        for root, dirs, files in os.walk(path) \n",
    "        for file in files \n",
    "        if file.endswith(file_name + '.mp4')]\n",
    "    cam = cv2.VideoCapture(video[0][0])\n",
    "    cam.set(1,0)\n",
    "    frame_sequence = list(range(0,int(cam.get(cv2.CAP_PROP_FRAME_COUNT))))\n",
    "\n",
    "    return frame_sequence"
   ]
  },
  {
   "cell_type": "code",
   "execution_count": 4,
   "metadata": {},
   "outputs": [],
   "source": [
    "file_truet = r\"C:\\Users\\Daniellab\\Desktop\\Jorge_Analysis\\In_Out_Refined\\Post\\AllMoths.csv\"\n",
    "location = r'C:\\Users\\Daniellab\\Desktop\\Jorge_Analysis\\Centroids_Raw'\n",
    "outpath = r'C:\\Users\\Daniellab\\Desktop\\Jorge_Analysis\\Centroids_Final\\Raw_NG'\n",
    "video = r\"C:\\Users\\Daniellab\\Desktop\\Jorge_Analysis\\Videos\""
   ]
  },
  {
   "cell_type": "code",
   "execution_count": 5,
   "metadata": {},
   "outputs": [],
   "source": [
    "# open data frame with all true trial info\n",
    "# pull out each video based on a name from a list\n",
    "# for each name pull out all start and end trials that also have true trials\n",
    "# choose the start and end frame for the first and last entry\n",
    "# use those integers to loop through (one loop for first centroid and one for last centroid - seperate cells to generate seperate csv w/o altering the visit type)\n",
    "#     end_frame: list_start/finish[len(list_start/finish)-1]"
   ]
  },
  {
   "cell_type": "code",
   "execution_count": 6,
   "metadata": {},
   "outputs": [
    {
     "name": "stdout",
     "output_type": "stream",
     "text": [
      "3 Experimental_1\n",
      "2 Experimental_2\n",
      "1 Experimental_3\n",
      "2 Experimental_4\n",
      "2 Experimental_5\n",
      "4 Experimental_7\n",
      "1 Pseudo_1\n",
      "5 Pseudo_2\n",
      "1 Sham_10\n",
      "2 Sham_11\n",
      "2 Sham_14\n",
      "5 Sham_15\n",
      "2 Sham_16\n",
      "1 Sham_17\n",
      "1 Sham_18\n",
      "7 Sham_1\n",
      "3 Sham_2\n",
      "4 Sham_3\n",
      "3 Sham_4\n",
      "6 Sham_6\n",
      "7 Sham_7\n"
     ]
    }
   ],
   "source": [
    "dFrame = pd.read_csv(file_truet)\n",
    "list_videos = dFrame.name.unique()\n",
    "\n",
    "for name in list_videos:\n",
    "    i = 0\n",
    "    In_frame = list(dFrame[(dFrame.name == name) & (dFrame.In_Frame.notnull())].In_Frame)\n",
    "    \n",
    "    Out_frame = list(dFrame[(dFrame.name == name) & (dFrame.Out_Frame.notnull())].Out_Frame)\n",
    "    print(len(In_frame), name)"
   ]
  },
  {
   "cell_type": "code",
   "execution_count": 7,
   "metadata": {},
   "outputs": [
    {
     "data": {
      "text/plain": [
       "array(['Experimental_1', 'Experimental_2', 'Experimental_3',\n",
       "       'Experimental_4', 'Experimental_5', 'Experimental_7', 'Pseudo_1',\n",
       "       'Pseudo_2', 'Sham_10', 'Sham_11', 'Sham_14', 'Sham_15', 'Sham_16',\n",
       "       'Sham_17', 'Sham_18', 'Sham_1', 'Sham_2', 'Sham_3', 'Sham_4',\n",
       "       'Sham_6', 'Sham_7'], dtype=object)"
      ]
     },
     "execution_count": 7,
     "metadata": {},
     "output_type": "execute_result"
    }
   ],
   "source": [
    "dFrame = pd.read_csv(file_truet)\n",
    "list_videos = dFrame.name.unique()\n",
    "list_videos"
   ]
  },
  {
   "cell_type": "code",
   "execution_count": 8,
   "metadata": {},
   "outputs": [
    {
     "data": {
      "text/plain": [
       "[54387, 56021, 59103, 59901, 63837, 64471, 64994]"
      ]
     },
     "execution_count": 8,
     "metadata": {},
     "output_type": "execute_result"
    }
   ],
   "source": [
    "In_frame"
   ]
  },
  {
   "cell_type": "code",
   "execution_count": 9,
   "metadata": {},
   "outputs": [
    {
     "data": {
      "text/plain": [
       "[0]"
      ]
     },
     "execution_count": 9,
     "metadata": {},
     "output_type": "execute_result"
    }
   ],
   "source": [
    "visit_number = 0\n",
    "visit_number_list = []\n",
    "visit_number_list.append(visit_number)\n",
    "visit_number_list"
   ]
  },
  {
   "cell_type": "code",
   "execution_count": 17,
   "metadata": {
    "scrolled": true
   },
   "outputs": [
    {
     "name": "stdout",
     "output_type": "stream",
     "text": [
      "3 Experimental_1\n",
      "Experimental_1\n",
      "0\n",
      "1\n",
      "2\n",
      "2 Experimental_2\n",
      "Experimental_2\n",
      "0\n",
      "1\n",
      "1 Experimental_3\n",
      "Experimental_3\n",
      "0\n",
      "2 Experimental_4\n",
      "Experimental_4\n",
      "0\n",
      "1\n",
      "2 Experimental_5\n",
      "Experimental_5\n",
      "0\n",
      "1\n",
      "4 Experimental_7\n",
      "Experimental_7\n",
      "0\n",
      "1\n",
      "2\n",
      "3\n",
      "1 Pseudo_1\n",
      "Pseudo_1\n",
      "0\n",
      "5 Pseudo_2\n",
      "Pseudo_2\n",
      "0\n",
      "1\n",
      "2\n",
      "3\n",
      "4\n",
      "1 Sham_10\n",
      "Sham_10\n",
      "0\n",
      "2 Sham_11\n",
      "Sham_11\n",
      "0\n",
      "1\n",
      "2 Sham_14\n",
      "Sham_14\n",
      "0\n",
      "1\n",
      "5 Sham_15\n",
      "Sham_15\n",
      "0\n",
      "1\n",
      "2\n",
      "3\n",
      "4\n",
      "2 Sham_16\n",
      "Sham_16\n",
      "0\n",
      "1\n",
      "1 Sham_17\n",
      "Sham_17\n",
      "0\n",
      "1 Sham_18\n",
      "Sham_18\n",
      "0\n",
      "7 Sham_1\n",
      "Sham_1\n",
      "0\n",
      "1\n",
      "2\n",
      "3\n",
      "4\n",
      "5\n",
      "6\n",
      "3 Sham_2\n",
      "Sham_2\n",
      "0\n",
      "1\n",
      "2\n",
      "4 Sham_3\n",
      "Sham_3\n",
      "0\n",
      "1\n",
      "2\n",
      "3\n",
      "3 Sham_4\n",
      "Sham_4\n",
      "0\n",
      "1\n",
      "2\n",
      "6 Sham_6\n",
      "Sham_6\n",
      "0\n",
      "1\n",
      "2\n",
      "3\n",
      "4\n",
      "5\n",
      "7 Sham_7\n",
      "Sham_7\n",
      "0\n",
      "1\n",
      "2\n",
      "3\n",
      "4\n",
      "5\n",
      "6\n"
     ]
    }
   ],
   "source": [
    "i = 0\n",
    "for name in list_videos:\n",
    "\n",
    "    In_frame = list(dFrame[(dFrame.name == name) & (dFrame.In_Frame.notnull())].In_Frame)\n",
    "    \n",
    "    Out_frame = list(dFrame[(dFrame.name == name) & (dFrame.Out_Frame.notnull())].Out_Frame)\n",
    "    print(len(In_frame), name)\n",
    "    \n",
    "    print(name)\n",
    "    frames = FrameSequence(name, video)\n",
    "    i = 0\n",
    "    df  = pd.read_csv(location + \"\\\\\" + name + \".csv\")\n",
    "    for visit in Out_frame:\n",
    "        visit_number = i\n",
    "        print(visit_number)\n",
    "        start_frame = In_frame[i]\n",
    "        end_frame = visit\n",
    "        frameNum = frames[start_frame:end_frame]\n",
    "        contours = []\n",
    "        centroids_x = []\n",
    "        centroids_y = []\n",
    "        contours_hull = []\n",
    "        centroids_hull_x = []\n",
    "        centroids_hull_y = []\n",
    "        frame_ = []\n",
    "\n",
    "        \n",
    "        name_ = str(name) + \"_\" + str(start_frame)\n",
    "        i+=1\n",
    "        for frame in frameNum:\n",
    "            cent_x = df[(df.index == frame)].Centroid_hull_x\n",
    "            cent_y = df[(df.index == frame)].Centroid_hull_y\n",
    "            centroids_hull_x.append(np.squeeze(np.asarray(cent_x)))\n",
    "            centroids_hull_y.append(np.squeeze(np.asarray(cent_y)))\n",
    "            frame_.append(frame)\n",
    "\n",
    "        gauss = signal.gaussian(10,3)\n",
    "        x_gauss = signal.convolve(centroids_hull_x, gauss, mode='same', method = 'direct') / gauss.sum()\n",
    "        y_gauss = signal.convolve(centroids_hull_y, gauss, mode = 'same', method = 'direct') / gauss.sum()\n",
    "\n",
    "        new_df = (pd.DataFrame({'FrameNumber' : frame_, 'Name': name_, 'X_position' : x_gauss, \n",
    "                                    'Y_position' : y_gauss, 'visit_number': visit_number}))\n",
    "\n",
    "        new_df.to_csv(outpath + \"//\" + 'Centroids_Final_' + name_ + '.csv')"
   ]
  },
  {
   "cell_type": "code",
   "execution_count": null,
   "metadata": {},
   "outputs": [],
   "source": []
  },
  {
   "cell_type": "code",
   "execution_count": null,
   "metadata": {},
   "outputs": [],
   "source": [
    "asdf"
   ]
  },
  {
   "cell_type": "code",
   "execution_count": null,
   "metadata": {},
   "outputs": [],
   "source": [
    "gauss = signal.gaussian(3,3)\n",
    "x_gauss = signal.convolve(centroids_hull_x, gauss, mode='same', method = 'direct') / gauss.sum()\n",
    "y_gauss = signal.convolve(centroids_hull_y, gauss, mode = 'same', method = 'direct') / gauss.sum()"
   ]
  },
  {
   "cell_type": "code",
   "execution_count": null,
   "metadata": {},
   "outputs": [],
   "source": [
    "for name in list_videos:\n",
    "\n",
    "    In_frame = list(dFrame[(dFrame.name == name) & (dFrame.In_Frame.notnull())].In_Frame)\n",
    "    \n",
    "    Out_frame = list(dFrame[(dFrame.name == name) & (dFrame.Out_Frame.notnull())].Out_Frame)\n",
    "    print(len(In_frame), name)\n",
    "    \n",
    "    print(name)\n",
    "    frames = FrameSequence(name, video)\n",
    "\n",
    "    start_frame = In_frame[0]-5\n",
    "    end_frame = Out_frame[0]+5\n",
    "    frameNum = frames[start_frame:end_frame]\n",
    "    contours = []\n",
    "    centroids_x = []\n",
    "    centroids_y = []\n",
    "    contours_hull = []\n",
    "    centroids_hull_x = []\n",
    "    centroids_hull_y = []\n",
    "    frame_ = []\n",
    "\n",
    "    df  = pd.read_csv(location + \"\\\\\" + name + \".csv\")\n",
    "\n",
    "    \n",
    "    for frame in frameNum:\n",
    "        cent_x = df[(df.index == frame)].Centroid_hull_x\n",
    "        cent_y = df[(df.index == frame)].Centroid_hull_y\n",
    "        centroids_hull_x.append(np.squeeze(np.asarray(cent_x)))\n",
    "        centroids_hull_y.append(np.squeeze(np.asarray(cent_y)))\n",
    "        frame_.append(frame)\n",
    "\n",
    "    new_df = (pd.DataFrame({'FrameNumber' : frame_, 'Name': name, 'X_position' : centroids_hull_x, \n",
    "                                'Y_position' : centroids_hull_y}))\n",
    "\n",
    "    new_df.to_csv(outpath + \"//\" + 'Centroids_Final_' + name + '.csv')"
   ]
  },
  {
   "cell_type": "code",
   "execution_count": null,
   "metadata": {},
   "outputs": [],
   "source": [
    "cent_x"
   ]
  },
  {
   "cell_type": "code",
   "execution_count": null,
   "metadata": {},
   "outputs": [],
   "source": [
    "second_last = ['L0.1_c-3_m10', 'L0.1_c-3_m12', 'L0.1_c-3_m20', 'L0.1_c-3_m21',\n",
    "       'L0.1_c-3_m22', 'L0.1_c-3_m23', 'L0.1_c-3_m24', 'L0.1_c-3_m25',\n",
    "       'L0.1_c-3_m27', 'L0.1_c-3_m2', 'L0.1_c-3_m32', 'L0.1_c-3_m34',\n",
    "       'L0.1_c-3_m37', 'L0.1_c-3_m38', 'L0.1_c-3_m39', 'L0.1_c-3_m40',\n",
    "       'L0.1_c-3_m41', 'L0.1_c-3_m43', 'L0.1_c-3_m44', 'L0.1_c-3_m5',\n",
    "       'L0.1_c-3_m8', 'L50_c-3_m10', 'L50_c-3_m12', 'L50_c-3_m13',\n",
    "       'L50_c-3_m14', 'L50_c-3_m15', 'L50_c-3_m21', 'L50_c-3_m22',\n",
    "       'L50_c-3_m24', 'L50_c-3_m25', 'L50_c-3_m26', 'L50_c-3_m2',\n",
    "       'L50_c-3_m30', 'L50_c-3_m32', 'L50_c-3_m33', 'L50_c-3_m34',\n",
    "       'L50_c-3_m35', 'L50_c-3_m37', 'L50_c-3_m38', 'L50_c-3_m39',\n",
    "       'L50_c-3_m45', 'L50_c-3_m6', 'L50_c-3_m9']"
   ]
  },
  {
   "cell_type": "code",
   "execution_count": null,
   "metadata": {},
   "outputs": [],
   "source": [
    "second_last = [('L0.1_c-3_m10', -2), ('L0.1_c-3_m12', -2), ('L0.1_c-3_m20', -1), ('L0.1_c-3_m21', -1),\n",
    "       ('L0.1_c-3_m22', -1), ('L0.1_c-3_m23', -2), ('L0.1_c-3_m25', -1), (\n",
    "       'L0.1_c-3_m27', -5), ('L0.1_c-3_m2', -1), ('L0.1_c-3_m32', -1), ('L0.1_c-3_m34', -2),\n",
    "       ('L0.1_c-3_m37', 2), ('L0.1_c-3_m38', -1), ('L0.1_c-3_m40', -2),\n",
    "       ('L0.1_c-3_m41', -2), ('L0.1_c-3_m43', -1), ('L0.1_c-3_m44', -1), ('L0.1_c-3_m45', -1),\n",
    "       ('L0.1_c-3_m46', -1), ('L0.1_c-3_m47', -1), ('L0.1_c-3_m48', -1), ('L0.1_c-3_m49', -1),\n",
    "       ('L0.1_c-3_m50', -1), ('L0.1_c-3_m54', -1), ('L0.1_c-3_m57', -1), ('L0.1_c-3_m5', -1),\n",
    "       ('L0.1_c-3_m8', 11), ('L50_c-3_m10', -1), ('L50_c-3_m12', -3), ('L50_c-3_m13', -1),\n",
    "       ('L50_c-3_m14', -1), ('L50_c-3_m15', -1), ('L50_c-3_m21', -1), ('L50_c-3_m22', -1),\n",
    "       ('L50_c-3_m26', -1), ('L50_c-3_m2', -1),\n",
    "       ('L50_c-3_m30', -2), ('L50_c-3_m32', -1), ('L50_c-3_m33', -1), ('L50_c-3_m34', -1),\n",
    "       ('L50_c-3_m35', -4), ('L50_c-3_m37', -2), ('L50_c-3_m38', 1),  ('L50_c-3_m39', -1),\n",
    "       ('L50_c-3_m45', -9), ('L50_c-3_m6', -1), ('L50_c-3_m9', -1), ('L50_c-3_m49', -1), ('L50_c-3_m50', -1), ('L50_c-3_m51', -1),\n",
    "       ('L50_c-3_m58',-1)]"
   ]
  },
  {
   "cell_type": "code",
   "execution_count": null,
   "metadata": {},
   "outputs": [],
   "source": [
    "second_last_names = []\n",
    "for element in second_last:\n",
    "    second_last_names.append(element[0])\n",
    "second_last_names"
   ]
  },
  {
   "cell_type": "code",
   "execution_count": null,
   "metadata": {},
   "outputs": [],
   "source": [
    "for name in second_last:\n",
    "    index = name[1]\n",
    "    name = name[0]\n",
    "    \n",
    "    In_frame = list(dFrame[(dFrame.name == name) & (dFrame.In_Frame.notnull())].In_Frame)\n",
    "    \n",
    "    Out_frame = list(dFrame[(dFrame.name == name) & (dFrame.Out_Frame.notnull())].Out_Frame)\n",
    "\n",
    "\n",
    "    print(name)\n",
    "    frames = FrameSequence(name, video)\n",
    "\n",
    "    start_frame = In_frame[index]+20\n",
    "    end_frame = Out_frame[index]-20\n",
    "    frameNum = frames[start_frame:end_frame]\n",
    "    contours = []\n",
    "    centroids_x = []\n",
    "    centroids_y = []\n",
    "    contours_hull = []\n",
    "    centroids_hull_x = []\n",
    "    centroids_hull_y = []\n",
    "    frame_ = []\n",
    "\n",
    "    \n",
    "    df  = pd.read_csv(r\"C:\\Users\\Daniellab\\Desktop\\Light_level_videos_second_batch\\Data\\Step1_Tanvi_Method\" + \"\\\\\" + name + \".csv\")\n",
    "\n",
    "    \n",
    "    for frame in frameNum:\n",
    "        cent_x = list(df[(df.index == frame)].Centroid_hull_x)\n",
    "        cent_y = list(df[(df.index == frame)].Centroid_hull_y)\n",
    "        centroids_hull_x.append(np.squeeze(np.asarray(cent_x)))\n",
    "        centroids_hull_y.append(np.squeeze(np.asarray(cent_y)))\n",
    "        frame_.append(frame)\n",
    "    new_df = (pd.DataFrame({'FrameNumber' : frame_, 'Name': name, 'X_position' : centroids_hull_x, \n",
    "                                'Y_position' : centroids_hull_y}))\n",
    "    second_last_outpath = r\"C:\\Users\\Daniellab\\Desktop\\Light_level_videos_second_batch\\Data\\Motion_Analysis\\First_Last_Centroids\\Second_Last\"\n",
    "    new_df.to_csv(outpath + \"//\" + 'Final_position_centroid_method_Last_SecondTrial_' + name + '.csv')"
   ]
  },
  {
   "cell_type": "code",
   "execution_count": null,
   "metadata": {},
   "outputs": [],
   "source": []
  }
 ],
 "metadata": {
  "kernelspec": {
   "display_name": "Python 3",
   "language": "python",
   "name": "python3"
  },
  "language_info": {
   "codemirror_mode": {
    "name": "ipython",
    "version": 3
   },
   "file_extension": ".py",
   "mimetype": "text/x-python",
   "name": "python",
   "nbconvert_exporter": "python",
   "pygments_lexer": "ipython3",
   "version": "3.6.5"
  }
 },
 "nbformat": 4,
 "nbformat_minor": 2
}
