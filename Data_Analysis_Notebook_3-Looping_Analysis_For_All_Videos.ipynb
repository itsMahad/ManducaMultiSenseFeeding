{
 "cells": [
  {
   "cell_type": "code",
   "execution_count": 1,
   "metadata": {},
   "outputs": [],
   "source": [
    "import time\n",
    "import numpy as np\n",
    "import cv2\n",
    "import pandas as pd\n",
    "import matplotlib.pyplot as plt\n",
    "from scipy import signal\n",
    "import os, errno"
   ]
  },
  {
   "cell_type": "code",
   "execution_count": 2,
   "metadata": {},
   "outputs": [],
   "source": [
    "def erodeimg(image):\n",
    "    kernel = np.ones((4,4), np.uint8)\n",
    "    erode = cv2.erode(image, kernel, iterations = 1)\n",
    "    return erode"
   ]
  },
  {
   "cell_type": "code",
   "execution_count": 3,
   "metadata": {},
   "outputs": [],
   "source": [
    "def dilateimg(image):\n",
    "    kernel = np.ones((3,3), np.uint8)\n",
    "    dilate = cv2.dilate(image, kernel, iterations = 1)\n",
    "    return dilate"
   ]
  },
  {
   "cell_type": "code",
   "execution_count": 4,
   "metadata": {},
   "outputs": [],
   "source": [
    "def MotionParameters(image):\n",
    "    eroded = erodeimg(image)\n",
    "    dilated = dilateimg(eroded)\n",
    "\n",
    "\n",
    "    mask = cv2.inRange(dilated, 5, 200)\n",
    "    kernel = np.ones((10,10), np.uint8)\n",
    "    close = cv2.morphologyEx(mask, cv2.MORPH_CLOSE, kernel)\n",
    "    _, contours, hierarchy = cv2.findContours(close, cv2.RETR_TREE, cv2.CHAIN_APPROX_SIMPLE)\n",
    "    areas = [cv2.contourArea(c) for c in contours]\n",
    "    \n",
    "    if (len(contours) >= 1) & np.any(areas):\n",
    "        max_i = np.argmax(areas)\n",
    "        contour_ = contours[max_i]\n",
    "        contour_h = cv2.convexHull(contour_)\n",
    "        \n",
    "        M = cv2.moments(contour_)\n",
    "        hM = cv2.moments(contour_h)\n",
    "        centroid_ = (int(M[\"m10\"]/M[\"m00\"])), (int(M[\"m01\"]/M[\"m00\"]))\n",
    "        centroid_h = (int(hM[\"m10\"]/hM[\"m00\"])), (int(hM[\"m01\"]/hM[\"m00\"]))\n",
    "    else:\n",
    "        contour_ = ()\n",
    "        contour_h = ()\n",
    "        centroid_ = (np.nan, np.nan)\n",
    "        centroid_h = (np.nan, np.nan)\n",
    "    return contour_, contour_h, centroid_, centroid_h"
   ]
  },
  {
   "cell_type": "code",
   "execution_count": 5,
   "metadata": {},
   "outputs": [],
   "source": [
    "def VideoList(path):\n",
    "    video_list = [(os.path.join(root, file), file[0:-4]) \n",
    "            for root, dirs, files in os.walk(path) \n",
    "            for file in files \n",
    "            if file.endswith('.mp4')]\n",
    "    return video_list"
   ]
  },
  {
   "cell_type": "code",
   "execution_count": 6,
   "metadata": {},
   "outputs": [],
   "source": [
    "def FrameSequence(file_name, path):\n",
    "    video = [(os.path.join(root, file), file[0:-4]) \n",
    "        for root, dirs, files in os.walk(path) \n",
    "        for file in files \n",
    "        if file.endswith(file_name + '.mp4')]\n",
    "    cam = cv2.VideoCapture(video[0][0])\n",
    "    cam.set(1,0)\n",
    "    frame_sequence = list(range(0,int(cam.get(cv2.CAP_PROP_FRAME_COUNT))))\n",
    "\n",
    "    return frame_sequence"
   ]
  },
  {
   "cell_type": "code",
   "execution_count": 7,
   "metadata": {},
   "outputs": [],
   "source": [
    "def VideoPull(back_frame, current_frame, file_name, path):\n",
    "    video = [(os.path.join(root, file), file[0:-4]) \n",
    "        for root, dirs, files in os.walk(path) \n",
    "        for file in files \n",
    "        if file.endswith(file_name + '.mp4')]\n",
    "    cam = cv2.VideoCapture(video[0][0])\n",
    "    cam.set(1,back_frame)\n",
    "    ret, f = cam.read(1)\n",
    "    background = cv2.cvtColor(f, cv2.COLOR_BGR2GRAY)\n",
    "    cam.set(1,current_frame)\n",
    "    ret, c = cam.read(1)\n",
    "    current = cv2.cvtColor(c, cv2.COLOR_BGR2GRAY)\n",
    "    difference = cv2.subtract(current,background)\n",
    "\n",
    "    return background, current, difference"
   ]
  },
  {
   "cell_type": "code",
   "execution_count": 8,
   "metadata": {},
   "outputs": [],
   "source": [
    "filename = 'c-3_m6'\n",
    "path = \"/Users/Mahad/Documents/PythonFolder/Videos\""
   ]
  },
  {
   "cell_type": "code",
   "execution_count": 9,
   "metadata": {},
   "outputs": [],
   "source": [
    "frames = FrameSequence(filename, path)\n",
    "start_frame = 0\n",
    "end_frame = 5\n",
    "frameNum = frames[start_frame:end_frame]"
   ]
  },
  {
   "cell_type": "code",
   "execution_count": 10,
   "metadata": {},
   "outputs": [],
   "source": [
    "video_list = VideoList(path)"
   ]
  },
  {
   "cell_type": "code",
   "execution_count": 11,
   "metadata": {},
   "outputs": [
    {
     "name": "stdout",
     "output_type": "stream",
     "text": [
      "did not read image\n"
     ]
    },
    {
     "data": {
      "image/png": "[encoded data removed]",
      "text/plain": [
       "<matplotlib.figure.Figure at 0x1c124f8da0>"
      ]
     },
     "metadata": {},
     "output_type": "display_data"
    }
   ],
   "source": [
    "for video in video_list:\n",
    "    cam_ = video[0]\n",
    "    name = video[1]\n",
    "    \n",
    "    cam = cv2.VideoCapture(cam_)\n",
    "    back_frame = 0\n",
    "    cam.set(1, back_frame)\n",
    "    ret, f = cam.read(1)\n",
    "    \n",
    "    if not ret:\n",
    "        print('did not read image')\n",
    "    else:\n",
    "    \n",
    "        contours = []\n",
    "        centroids_x = []\n",
    "        centroids_y = []\n",
    "        contours_hull = []\n",
    "        centroids_hull_x = []\n",
    "        centroids_hull_y = []\n",
    "        for frame in frameNum:\n",
    "            back, cur, diff = VideoPull(0,frame, name, path)\n",
    "            contour, contour_hull, centroid, centroid_hull = MotionParameters(diff)\n",
    "            if len(contour) >= 1:\n",
    "                contours.append(contour)\n",
    "                centroids_x.append(centroid[0])\n",
    "                centroids_y.append(centroid[1])\n",
    "                contours_hull.append(contour_hull)\n",
    "                centroids_hull_x.append(centroid_hull[0])\n",
    "                centroids_hull_y.append(centroid_hull[1])\n",
    "\n",
    "\n",
    "\n",
    "\n",
    "        gauss = signal.gaussian(3,3)\n",
    "\n",
    "\n",
    "        x_gauss = signal.convolve(centroids_hull_x, gauss, mode='same', method = 'direct') / gauss.sum()\n",
    "        y_gauss = signal.convolve(centroids_hull_y, gauss, mode = 'same', method = 'direct') / gauss.sum()\n",
    "        \n",
    "        i = 0\n",
    "\n",
    "\n",
    "\n",
    "        for frame in frameNum:\n",
    "            back, cur, diff = VideoPull(0,frame, name, path)\n",
    "            contour, contour_hull, centroid, centroid_hull = MotionParameters(diff)\n",
    "            if np.isnan(centroid[0]) == False and np.isnan(centroid_hull[0]) == False:\n",
    "                fig = plt.figure(figsize = (20,6))\n",
    "                plt.imshow(diff)\n",
    "                plt.plot(np.squeeze(contour_hull)[:,0],np.squeeze(contour_hull)[:,1],'orchid')\n",
    "                plt.plot(x_gauss[i],y_gauss[i], 'o', color='gold', markersize = 10)\n",
    "            else: \n",
    "                plt.imshow(diff)\n",
    "            i += 1\n",
    "            outPath_fig = r'/Users/Mahad/Documents/PythonFolder/ImageAnalysis-1/VideoFiles/FrameStills' + ' ' + name\n",
    "            try:\n",
    "                os.makedirs(outPath_fig)\n",
    "            except OSError as e:\n",
    "                if e.errno != errno.EEXIST:\n",
    "                    raise\n",
    "            plt.axis('off')\n",
    "            plt.savefig(outPath_fig + '/' + ' ' + name + \"frame number: {}\".format(frameNum[i-1]) + '.png')"
   ]
  },
  {
   "cell_type": "code",
   "execution_count": null,
   "metadata": {},
   "outputs": [],
   "source": []
  },
  {
   "cell_type": "code",
   "execution_count": null,
   "metadata": {},
   "outputs": [],
   "source": []
  }
 ],
 "metadata": {
  "kernelspec": {
   "display_name": "Python 3",
   "language": "python",
   "name": "python3"
  },
  "language_info": {
   "codemirror_mode": {
    "name": "ipython",
    "version": 3
   },
   "file_extension": ".py",
   "mimetype": "text/x-python",
   "name": "python",
   "nbconvert_exporter": "python",
   "pygments_lexer": "ipython3",
   "version": "3.6.4"
  }
 },
 "nbformat": 4,
 "nbformat_minor": 2
}
