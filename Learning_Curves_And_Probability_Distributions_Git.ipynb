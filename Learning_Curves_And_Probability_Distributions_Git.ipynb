{
 "cells": [
  {
   "cell_type": "code",
   "execution_count": 1,
   "metadata": {},
   "outputs": [],
   "source": [
    "import pandas as pd\n",
    "import matplotlib.pyplot as plt\n",
    "from matplotlib import style\n",
    "style.use(\"ggplot\")\n",
    "from scipy import stats\n",
    "import os\n",
    "import numpy as np\n",
    "import glob\n",
    "from scipy.stats import gaussian_kde\n",
    "plt.rcParams['font.sans-serif'] = \"Arial\"\n",
    "plt.rcParams['font.family'] = \"sans-serif\""
   ]
  },
  {
   "cell_type": "code",
   "execution_count": 2,
   "metadata": {},
   "outputs": [],
   "source": [
    "path = r'C:\\Users\\Daniellab\\Desktop\\Light_level_videos_second_batch\\Data\\Step6'"
   ]
  },
  {
   "cell_type": "code",
   "execution_count": 3,
   "metadata": {},
   "outputs": [
    {
     "data": {
      "text/html": [
       "<div>\n",
       "<style scoped>\n",
       "    .dataframe tbody tr th:only-of-type {\n",
       "        vertical-align: middle;\n",
       "    }\n",
       "\n",
       "    .dataframe tbody tr th {\n",
       "        vertical-align: top;\n",
       "    }\n",
       "\n",
       "    .dataframe thead th {\n",
       "        text-align: right;\n",
       "    }\n",
       "</style>\n",
       "<table border=\"1\" class=\"dataframe\">\n",
       "  <thead>\n",
       "    <tr style=\"text-align: right;\">\n",
       "      <th></th>\n",
       "      <th>Unnamed: 0</th>\n",
       "      <th>Unnamed: 0.1</th>\n",
       "      <th>In_Frame</th>\n",
       "      <th>Out_Frame</th>\n",
       "      <th>Proboscis</th>\n",
       "      <th>DiscoveryTime</th>\n",
       "      <th>trialNum</th>\n",
       "      <th>name</th>\n",
       "    </tr>\n",
       "  </thead>\n",
       "  <tbody>\n",
       "    <tr>\n",
       "      <th>0</th>\n",
       "      <td>0</td>\n",
       "      <td>0</td>\n",
       "      <td>20377</td>\n",
       "      <td>20713</td>\n",
       "      <td>NaN</td>\n",
       "      <td>NaN</td>\n",
       "      <td>0</td>\n",
       "      <td>L0.1_c-3_m10</td>\n",
       "    </tr>\n",
       "    <tr>\n",
       "      <th>1</th>\n",
       "      <td>1</td>\n",
       "      <td>1</td>\n",
       "      <td>39912</td>\n",
       "      <td>41054</td>\n",
       "      <td>NaN</td>\n",
       "      <td>NaN</td>\n",
       "      <td>1</td>\n",
       "      <td>L0.1_c-3_m10</td>\n",
       "    </tr>\n",
       "    <tr>\n",
       "      <th>2</th>\n",
       "      <td>2</td>\n",
       "      <td>2</td>\n",
       "      <td>67784</td>\n",
       "      <td>68084</td>\n",
       "      <td>NaN</td>\n",
       "      <td>NaN</td>\n",
       "      <td>2</td>\n",
       "      <td>L0.1_c-3_m10</td>\n",
       "    </tr>\n",
       "    <tr>\n",
       "      <th>3</th>\n",
       "      <td>3</td>\n",
       "      <td>3</td>\n",
       "      <td>68158</td>\n",
       "      <td>69028</td>\n",
       "      <td>NaN</td>\n",
       "      <td>NaN</td>\n",
       "      <td>3</td>\n",
       "      <td>L0.1_c-3_m10</td>\n",
       "    </tr>\n",
       "    <tr>\n",
       "      <th>4</th>\n",
       "      <td>4</td>\n",
       "      <td>4</td>\n",
       "      <td>26059</td>\n",
       "      <td>27412</td>\n",
       "      <td>NaN</td>\n",
       "      <td>NaN</td>\n",
       "      <td>0</td>\n",
       "      <td>L0.1_c-3_m12</td>\n",
       "    </tr>\n",
       "  </tbody>\n",
       "</table>\n",
       "</div>"
      ],
      "text/plain": [
       "   Unnamed: 0  Unnamed: 0.1  In_Frame  Out_Frame  Proboscis  DiscoveryTime  \\\n",
       "0           0             0     20377      20713        NaN            NaN   \n",
       "1           1             1     39912      41054        NaN            NaN   \n",
       "2           2             2     67784      68084        NaN            NaN   \n",
       "3           3             3     68158      69028        NaN            NaN   \n",
       "4           4             4     26059      27412        NaN            NaN   \n",
       "\n",
       "   trialNum          name  \n",
       "0         0  L0.1_c-3_m10  \n",
       "1         1  L0.1_c-3_m10  \n",
       "2         2  L0.1_c-3_m10  \n",
       "3         3  L0.1_c-3_m10  \n",
       "4         0  L0.1_c-3_m12  "
      ]
     },
     "execution_count": 3,
     "metadata": {},
     "output_type": "execute_result"
    }
   ],
   "source": [
    "AllData = pd.read_csv(path + \"\\\\\" + 'AllLight_EveryMoth.csv')\n",
    "AllData.head()"
   ]
  },
  {
   "cell_type": "code",
   "execution_count": 4,
   "metadata": {},
   "outputs": [
    {
     "data": {
      "text/plain": [
       "[<matplotlib.lines.Line2D at 0xa730908>]"
      ]
     },
     "execution_count": 4,
     "metadata": {},
     "output_type": "execute_result"
    },
    {
     "data": {
      "image/png": "[encoded data removed]",
      "text/plain": [
       "<Figure size 432x288 with 1 Axes>"
      ]
     },
     "metadata": {
      "needs_background": "light"
     },
     "output_type": "display_data"
    }
   ],
   "source": [
    "plt.plot(AllData.DiscoveryTime/100, 'o')"
   ]
  },
  {
   "cell_type": "code",
   "execution_count": 5,
   "metadata": {},
   "outputs": [
    {
     "name": "stderr",
     "output_type": "stream",
     "text": [
      "C:\\Users\\Daniellab\\Anaconda3\\lib\\site-packages\\ipykernel_launcher.py:6: SettingWithCopyWarning: \n",
      "A value is trying to be set on a copy of a slice from a DataFrame.\n",
      "Try using .loc[row_indexer,col_indexer] = value instead\n",
      "\n",
      "See the caveats in the documentation: http://pandas.pydata.org/pandas-docs/stable/indexing.html#indexing-view-versus-copy\n",
      "  \n",
      "C:\\Users\\Daniellab\\Anaconda3\\lib\\site-packages\\ipykernel_launcher.py:7: SettingWithCopyWarning: \n",
      "A value is trying to be set on a copy of a slice from a DataFrame.\n",
      "Try using .loc[row_indexer,col_indexer] = value instead\n",
      "\n",
      "See the caveats in the documentation: http://pandas.pydata.org/pandas-docs/stable/indexing.html#indexing-view-versus-copy\n",
      "  import sys\n"
     ]
    },
    {
     "data": {
      "image/png": "[encoded data removed]",
      "text/plain": [
       "<Figure size 432x288 with 1 Axes>"
      ]
     },
     "metadata": {
      "needs_background": "light"
     },
     "output_type": "display_data"
    }
   ],
   "source": [
    "AllData_notnull = AllData[AllData.DiscoveryTime.notnull()]\n",
    "z = np.abs(stats.zscore(AllData_notnull.DiscoveryTime.values))\n",
    "outlier_ID = z > 5\n",
    "plt.plot(z, 'o') \n",
    "\n",
    "AllData_notnull['zscore'] = z\n",
    "AllData_notnull['outlier_ID'] = outlier_ID"
   ]
  },
  {
   "cell_type": "code",
   "execution_count": 6,
   "metadata": {},
   "outputs": [
    {
     "data": {
      "text/plain": [
       "[<matplotlib.lines.Line2D at 0xa84d6d8>]"
      ]
     },
     "execution_count": 6,
     "metadata": {},
     "output_type": "execute_result"
    },
    {
     "data": {
      "image/png": "[encoded data removed]",
      "text/plain": [
       "<Figure size 432x288 with 1 Axes>"
      ]
     },
     "metadata": {
      "needs_background": "light"
     },
     "output_type": "display_data"
    }
   ],
   "source": [
    "plt.plot(AllData_notnull.DiscoveryTime[AllData_notnull.outlier_ID == True]/100, 'o', color = 'red')\n",
    "plt.plot(AllData_notnull.DiscoveryTime[AllData_notnull.outlier_ID == False]/100, 'o', color = 'blue')"
   ]
  },
  {
   "cell_type": "code",
   "execution_count": 7,
   "metadata": {},
   "outputs": [
    {
     "name": "stderr",
     "output_type": "stream",
     "text": [
      "C:\\Users\\Daniellab\\Anaconda3\\lib\\site-packages\\ipykernel_launcher.py:2: SettingWithCopyWarning: \n",
      "A value is trying to be set on a copy of a slice from a DataFrame.\n",
      "Try using .loc[row_indexer,col_indexer] = value instead\n",
      "\n",
      "See the caveats in the documentation: http://pandas.pydata.org/pandas-docs/stable/indexing.html#indexing-view-versus-copy\n",
      "  \n"
     ]
    },
    {
     "data": {
      "text/plain": [
       "[<matplotlib.lines.Line2D at 0xa800940>]"
      ]
     },
     "execution_count": 7,
     "metadata": {},
     "output_type": "execute_result"
    },
    {
     "data": {
      "image/png": "[encoded data removed]",
      "text/plain": [
       "<Figure size 432x288 with 1 Axes>"
      ]
     },
     "metadata": {
      "needs_background": "light"
     },
     "output_type": "display_data"
    }
   ],
   "source": [
    "notoutliers = AllData_notnull[AllData_notnull.outlier_ID == False]\n",
    "notoutliers['DiscoveryTime'] = notoutliers.DiscoveryTime.div(100, axis = 'index')\n",
    "plt.plot(notoutliers['DiscoveryTime'], 'o')"
   ]
  },
  {
   "cell_type": "code",
   "execution_count": 8,
   "metadata": {},
   "outputs": [
    {
     "data": {
      "text/plain": [
       "Text(0.5, 0, 'Occurance')"
      ]
     },
     "execution_count": 8,
     "metadata": {},
     "output_type": "execute_result"
    },
    {
     "data": {
      "image/png": "[encoded data removed]",
      "text/plain": [
       "<Figure size 1440x432 with 2 Axes>"
      ]
     },
     "metadata": {
      "needs_background": "light"
     },
     "output_type": "display_data"
    }
   ],
   "source": [
    "hist, bins = np.histogram(notoutliers.DiscoveryTime.values, bins = 30)\n",
    "\n",
    "fig, ax = plt.subplots(1,2, figsize = (20,6))\n",
    "ax = ax.ravel()\n",
    "\n",
    "ax[0].hist(notoutliers.DiscoveryTime.values, bins, histtype = 'bar', orientation='horizontal')\n",
    "ax[1].hist(notoutliers.DiscoveryTime[notoutliers.name.str.contains('L0.1_')].values, bins, \n",
    "          orientation='horizontal', alpha = 0.7, color = 'slateblue')\n",
    "ax[1].hist(notoutliers.DiscoveryTime[notoutliers.name.str.contains('L50_')].values, bins, \n",
    "          orientation='horizontal', alpha = 0.7, color = 'darkorange')\n",
    "ax[1].set_ylabel('ExplorationTime(second)')\n",
    "ax[1].set_xlabel('Occurance')"
   ]
  },
  {
   "cell_type": "code",
   "execution_count": 9,
   "metadata": {},
   "outputs": [
    {
     "data": {
      "text/plain": [
       "31"
      ]
     },
     "execution_count": 9,
     "metadata": {},
     "output_type": "execute_result"
    }
   ],
   "source": [
    "len(bins)"
   ]
  },
  {
   "cell_type": "code",
   "execution_count": 10,
   "metadata": {},
   "outputs": [
    {
     "data": {
      "text/plain": [
       "<matplotlib.legend.Legend at 0xb05d780>"
      ]
     },
     "execution_count": 10,
     "metadata": {},
     "output_type": "execute_result"
    },
    {
     "data": {
      "image/png": "[encoded data removed]",
      "text/plain": [
       "<Figure size 432x288 with 1 Axes>"
      ]
     },
     "metadata": {
      "needs_background": "light"
     },
     "output_type": "display_data"
    }
   ],
   "source": [
    "plt.plot(notoutliers[notoutliers.name.str.contains('L0.1')].trialNum, \n",
    "         notoutliers[notoutliers.name.str.contains('L0.1')].DiscoveryTime,\n",
    "         'o', color = 'slateblue', label = 'low light (0.1 lux)')\n",
    "plt.plot(notoutliers[notoutliers.name.str.contains('L50')].trialNum, \n",
    "         notoutliers[notoutliers.name.str.contains('L50')].DiscoveryTime, \n",
    "         'o', color = 'darkorange', label = 'bright light (50 lux)')\n",
    "plt.ylabel('Exploration Time (second)')\n",
    "plt.xlabel('Visit Number')\n",
    "plt.legend()\n",
    "\n",
    "# add exponential curves - color: L50 - chocolate or saddle brown, L0.1 - darkslateblue, or blue violet"
   ]
  },
  {
   "cell_type": "code",
   "execution_count": 11,
   "metadata": {},
   "outputs": [
    {
     "name": "stderr",
     "output_type": "stream",
     "text": [
      "C:\\Users\\Daniellab\\Anaconda3\\lib\\site-packages\\ipykernel_launcher.py:7: SettingWithCopyWarning: \n",
      "A value is trying to be set on a copy of a slice from a DataFrame.\n",
      "Try using .loc[row_indexer,col_indexer] = value instead\n",
      "\n",
      "See the caveats in the documentation: http://pandas.pydata.org/pandas-docs/stable/indexing.html#indexing-view-versus-copy\n",
      "  import sys\n",
      "C:\\Users\\Daniellab\\Anaconda3\\lib\\site-packages\\ipykernel_launcher.py:10: SettingWithCopyWarning: \n",
      "A value is trying to be set on a copy of a slice from a DataFrame.\n",
      "Try using .loc[row_indexer,col_indexer] = value instead\n",
      "\n",
      "See the caveats in the documentation: http://pandas.pydata.org/pandas-docs/stable/indexing.html#indexing-view-versus-copy\n",
      "  # Remove the CWD from sys.path while we load stuff.\n"
     ]
    },
    {
     "data": {
      "text/html": [
       "<div>\n",
       "<style scoped>\n",
       "    .dataframe tbody tr th:only-of-type {\n",
       "        vertical-align: middle;\n",
       "    }\n",
       "\n",
       "    .dataframe tbody tr th {\n",
       "        vertical-align: top;\n",
       "    }\n",
       "\n",
       "    .dataframe thead th {\n",
       "        text-align: right;\n",
       "    }\n",
       "</style>\n",
       "<table border=\"1\" class=\"dataframe\">\n",
       "  <thead>\n",
       "    <tr style=\"text-align: right;\">\n",
       "      <th></th>\n",
       "      <th>Unnamed: 0</th>\n",
       "      <th>Unnamed: 0.1</th>\n",
       "      <th>In_Frame</th>\n",
       "      <th>Out_Frame</th>\n",
       "      <th>Proboscis</th>\n",
       "      <th>DiscoveryTime</th>\n",
       "      <th>trialNum</th>\n",
       "      <th>name</th>\n",
       "      <th>zscore</th>\n",
       "      <th>outlier_ID</th>\n",
       "      <th>binLabel</th>\n",
       "      <th>lightLevel</th>\n",
       "    </tr>\n",
       "  </thead>\n",
       "  <tbody>\n",
       "    <tr>\n",
       "      <th>7</th>\n",
       "      <td>7</td>\n",
       "      <td>7</td>\n",
       "      <td>45940</td>\n",
       "      <td>52780</td>\n",
       "      <td>46222.0</td>\n",
       "      <td>2.82</td>\n",
       "      <td>0</td>\n",
       "      <td>L0.1_c-3_m20</td>\n",
       "      <td>0.181742</td>\n",
       "      <td>False</td>\n",
       "      <td>0-4</td>\n",
       "      <td>low</td>\n",
       "    </tr>\n",
       "    <tr>\n",
       "      <th>8</th>\n",
       "      <td>8</td>\n",
       "      <td>8</td>\n",
       "      <td>55058</td>\n",
       "      <td>60805</td>\n",
       "      <td>55341.0</td>\n",
       "      <td>2.83</td>\n",
       "      <td>1</td>\n",
       "      <td>L0.1_c-3_m20</td>\n",
       "      <td>0.179421</td>\n",
       "      <td>False</td>\n",
       "      <td>0-4</td>\n",
       "      <td>low</td>\n",
       "    </tr>\n",
       "    <tr>\n",
       "      <th>9</th>\n",
       "      <td>9</td>\n",
       "      <td>9</td>\n",
       "      <td>67612</td>\n",
       "      <td>69165</td>\n",
       "      <td>67744.0</td>\n",
       "      <td>1.32</td>\n",
       "      <td>2</td>\n",
       "      <td>L0.1_c-3_m20</td>\n",
       "      <td>0.529907</td>\n",
       "      <td>False</td>\n",
       "      <td>0-4</td>\n",
       "      <td>low</td>\n",
       "    </tr>\n",
       "    <tr>\n",
       "      <th>10</th>\n",
       "      <td>10</td>\n",
       "      <td>10</td>\n",
       "      <td>72461</td>\n",
       "      <td>74177</td>\n",
       "      <td>72606.0</td>\n",
       "      <td>1.45</td>\n",
       "      <td>3</td>\n",
       "      <td>L0.1_c-3_m20</td>\n",
       "      <td>0.499733</td>\n",
       "      <td>False</td>\n",
       "      <td>0-4</td>\n",
       "      <td>low</td>\n",
       "    </tr>\n",
       "    <tr>\n",
       "      <th>11</th>\n",
       "      <td>11</td>\n",
       "      <td>11</td>\n",
       "      <td>77368</td>\n",
       "      <td>78421</td>\n",
       "      <td>77499.0</td>\n",
       "      <td>1.31</td>\n",
       "      <td>4</td>\n",
       "      <td>L0.1_c-3_m20</td>\n",
       "      <td>0.532228</td>\n",
       "      <td>False</td>\n",
       "      <td>0-4</td>\n",
       "      <td>low</td>\n",
       "    </tr>\n",
       "  </tbody>\n",
       "</table>\n",
       "</div>"
      ],
      "text/plain": [
       "    Unnamed: 0  Unnamed: 0.1  In_Frame  Out_Frame  Proboscis  DiscoveryTime  \\\n",
       "7            7             7     45940      52780    46222.0           2.82   \n",
       "8            8             8     55058      60805    55341.0           2.83   \n",
       "9            9             9     67612      69165    67744.0           1.32   \n",
       "10          10            10     72461      74177    72606.0           1.45   \n",
       "11          11            11     77368      78421    77499.0           1.31   \n",
       "\n",
       "    trialNum          name    zscore  outlier_ID binLabel lightLevel  \n",
       "7          0  L0.1_c-3_m20  0.181742       False      0-4        low  \n",
       "8          1  L0.1_c-3_m20  0.179421       False      0-4        low  \n",
       "9          2  L0.1_c-3_m20  0.529907       False      0-4        low  \n",
       "10         3  L0.1_c-3_m20  0.499733       False      0-4        low  \n",
       "11         4  L0.1_c-3_m20  0.532228       False      0-4        low  "
      ]
     },
     "execution_count": 11,
     "metadata": {},
     "output_type": "execute_result"
    }
   ],
   "source": [
    "# BinnedDataSet\n",
    "# binsize = 10\n",
    "# new_column = binLabel \n",
    "\n",
    "notoutliers['binLabel'] = ['0-4' if value <=4 \n",
    "                           else ('5-19' if (value > 4) & (value <= 19) else '20-30' if (value > 19) & (value <= 29) else '30andAbove') \n",
    "                           for value in notoutliers['trialNum']]\n",
    "\n",
    "notoutliers['lightLevel'] = ['low' if 'L0.1' in value \n",
    "                           else 'high' for value in notoutliers['name']]\n",
    "\n",
    "notoutliers.head()"
   ]
  },
  {
   "cell_type": "code",
   "execution_count": 12,
   "metadata": {},
   "outputs": [
    {
     "data": {
      "text/plain": [
       "array(['L0.1_c-3_m20', 'L0.1_c-3_m21', 'L0.1_c-3_m22', 'L0.1_c-3_m25',\n",
       "       'L0.1_c-3_m2', 'L0.1_c-3_m32', 'L0.1_c-3_m34', 'L0.1_c-3_m38',\n",
       "       'L0.1_c-3_m40', 'L0.1_c-3_m41', 'L0.1_c-3_m43', 'L0.1_c-3_m44',\n",
       "       'L0.1_c-3_m45', 'L0.1_c-3_m46', 'L0.1_c-3_m47', 'L0.1_c-3_m49',\n",
       "       'L0.1_c-3_m50', 'L0.1_c-3_m54', 'L0.1_c-3_m57', 'L0.1_c-3_m5',\n",
       "       'L0.1_c-3_m8', 'L50_c-3_m10', 'L50_c-3_m12', 'L50_c-3_m13',\n",
       "       'L50_c-3_m14', 'L50_c-3_m15', 'L50_c-3_m21', 'L50_c-3_m22',\n",
       "       'L50_c-3_m26', 'L50_c-3_m32', 'L50_c-3_m37', 'L50_c-3_m39',\n",
       "       'L50_c-3_m45', 'L50_c-3_m49', 'L50_c-3_m51', 'L50_c-3_m6',\n",
       "       'L50_c-3_m9'], dtype=object)"
      ]
     },
     "execution_count": 12,
     "metadata": {},
     "output_type": "execute_result"
    }
   ],
   "source": [
    "notoutliers.name.unique()"
   ]
  },
  {
   "cell_type": "code",
   "execution_count": 13,
   "metadata": {},
   "outputs": [
    {
     "data": {
      "text/plain": [
       "array(['0-4', '5-19', '20-30', '30andAbove'], dtype=object)"
      ]
     },
     "execution_count": 13,
     "metadata": {},
     "output_type": "execute_result"
    }
   ],
   "source": [
    "notoutliers.binLabel.unique()"
   ]
  },
  {
   "cell_type": "code",
   "execution_count": 14,
   "metadata": {},
   "outputs": [],
   "source": [
    "first_3_low = len(notoutliers[(notoutliers.name.str.contains('L0.1')) & (notoutliers.trialNum >= 0) & (notoutliers.trialNum <= 9)].values)\n",
    "first_5_low = len(notoutliers[(notoutliers.name.str.contains('L0.1')) & (notoutliers.trialNum >= 4) & (notoutliers.trialNum <= 14)].values)\n",
    "first_10_low = len(notoutliers[(notoutliers.name.str.contains('L0.1')) & (notoutliers.trialNum >= 9) & (notoutliers.trialNum <= 19)].values)\n",
    "visits_15thru20_low = len(notoutliers[(notoutliers.name.str.contains('L0.1')) & (notoutliers.trialNum > 14) & (notoutliers.trialNum <= 24)].values)\n",
    "first_20_low = len(notoutliers[(notoutliers.name.str.contains('L0.1')) & (notoutliers.trialNum > 14) & (notoutliers.trialNum <= 24)].values)\n",
    "first_30_low = len(notoutliers[(notoutliers.name.str.contains('L0.1')) & (notoutliers.trialNum >= 19) & (notoutliers.trialNum <= 29)].values)\n",
    "all_low = len(notoutliers[(notoutliers.name.str.contains('L0.1')) & (notoutliers.trialNum >= 24) & (notoutliers.trialNum <= 34)].values)"
   ]
  },
  {
   "cell_type": "code",
   "execution_count": 15,
   "metadata": {},
   "outputs": [],
   "source": [
    "first_3_high = len(notoutliers[(notoutliers.name.str.contains('L50')) & (notoutliers.trialNum >= 0) & (notoutliers.trialNum <= 9)].values)\n",
    "first_5_high = len(notoutliers[(notoutliers.name.str.contains('L50')) & (notoutliers.trialNum >= 4) & (notoutliers.trialNum <= 14)].values)\n",
    "first_10_high = len(notoutliers[(notoutliers.name.str.contains('L50')) & (notoutliers.trialNum >= 9) & (notoutliers.trialNum <= 19)].values)\n",
    "visits_15thru20_high = len(notoutliers[(notoutliers.name.str.contains('L50')) & (notoutliers.trialNum > 14) & (notoutliers.trialNum <= 24)].values)\n",
    "first_20_high = len(notoutliers[(notoutliers.name.str.contains('L50')) & (notoutliers.trialNum > 14) & (notoutliers.trialNum <= 24)].values)\n",
    "first_30_high = len(notoutliers[(notoutliers.name.str.contains('L50')) & (notoutliers.trialNum >= 19) & (notoutliers.trialNum <= 29)].values)\n",
    "all_high = len(notoutliers[(notoutliers.name.str.contains('L50')) & (notoutliers.trialNum >= 24) & (notoutliers.trialNum <= 34)].values)"
   ]
  },
  {
   "cell_type": "code",
   "execution_count": 16,
   "metadata": {},
   "outputs": [
    {
     "name": "stdout",
     "output_type": "stream",
     "text": [
      "low visits 152\n",
      "high visits 88\n"
     ]
    },
    {
     "data": {
      "text/plain": [
       "(None, None)"
      ]
     },
     "execution_count": 16,
     "metadata": {},
     "output_type": "execute_result"
    }
   ],
   "source": [
    "#first 3 visits\n",
    "print('low visits',first_3_low), print('high visits',first_3_high)"
   ]
  },
  {
   "cell_type": "code",
   "execution_count": 17,
   "metadata": {},
   "outputs": [
    {
     "name": "stdout",
     "output_type": "stream",
     "text": [
      "low visits 159\n",
      "high visits 85\n"
     ]
    },
    {
     "data": {
      "text/plain": [
       "(None, None)"
      ]
     },
     "execution_count": 17,
     "metadata": {},
     "output_type": "execute_result"
    }
   ],
   "source": [
    "#first 5 visits\n",
    "print('low visits',first_5_low), print('high visits',first_5_high)"
   ]
  },
  {
   "cell_type": "code",
   "execution_count": 18,
   "metadata": {},
   "outputs": [
    {
     "name": "stdout",
     "output_type": "stream",
     "text": [
      "low visits 133\n",
      "high visits 70\n"
     ]
    },
    {
     "data": {
      "text/plain": [
       "(None, None)"
      ]
     },
     "execution_count": 18,
     "metadata": {},
     "output_type": "execute_result"
    }
   ],
   "source": [
    "#first 10 visits\n",
    "print('low visits',first_10_low), print('high visits',first_10_high)"
   ]
  },
  {
   "cell_type": "code",
   "execution_count": 19,
   "metadata": {},
   "outputs": [
    {
     "name": "stdout",
     "output_type": "stream",
     "text": [
      "low visits 92\n",
      "high visits 50\n"
     ]
    },
    {
     "data": {
      "text/plain": [
       "(None, None)"
      ]
     },
     "execution_count": 19,
     "metadata": {},
     "output_type": "execute_result"
    }
   ],
   "source": [
    "#Visits 15-25\n",
    "print('low visits',visits_15thru20_low), print('high visits',visits_15thru20_high)"
   ]
  },
  {
   "cell_type": "code",
   "execution_count": 20,
   "metadata": {},
   "outputs": [
    {
     "name": "stdout",
     "output_type": "stream",
     "text": [
      "low visits 92\n",
      "high visits 50\n"
     ]
    },
    {
     "data": {
      "text/plain": [
       "(None, None)"
      ]
     },
     "execution_count": 20,
     "metadata": {},
     "output_type": "execute_result"
    }
   ],
   "source": [
    "#first 20 visits\n",
    "print('low visits',first_20_low), print('high visits',first_20_high)"
   ]
  },
  {
   "cell_type": "code",
   "execution_count": 21,
   "metadata": {},
   "outputs": [
    {
     "name": "stdout",
     "output_type": "stream",
     "text": [
      "low visits 86\n",
      "high visits 37\n"
     ]
    },
    {
     "data": {
      "text/plain": [
       "(None, None)"
      ]
     },
     "execution_count": 21,
     "metadata": {},
     "output_type": "execute_result"
    }
   ],
   "source": [
    "#first 30 visits\n",
    "print('low visits',first_30_low), print('high visits',first_30_high)"
   ]
  },
  {
   "cell_type": "code",
   "execution_count": 22,
   "metadata": {},
   "outputs": [
    {
     "name": "stdout",
     "output_type": "stream",
     "text": [
      "low visits 78\n",
      "high visits 23\n"
     ]
    },
    {
     "data": {
      "text/plain": [
       "(None, None)"
      ]
     },
     "execution_count": 22,
     "metadata": {},
     "output_type": "execute_result"
    }
   ],
   "source": [
    "#all visits\n",
    "print('low visits',all_low), print('high visits',all_high)"
   ]
  },
  {
   "cell_type": "code",
   "execution_count": 23,
   "metadata": {},
   "outputs": [
    {
     "data": {
      "image/png": "[encoded data removed]",
      "text/plain": [
       "<Figure size 1440x432 with 2 Axes>"
      ]
     },
     "metadata": {
      "needs_background": "light"
     },
     "output_type": "display_data"
    }
   ],
   "source": [
    "fig, ax = plt.subplots(1,2, figsize = (20,6), sharex = True, sharey = True)\n",
    "ax = ax.ravel()\n",
    "\n",
    "\n",
    "hist_5_lowlight, _, _ = ax[0].hist(notoutliers.DiscoveryTime[(notoutliers.name.str.contains('L0.1_')) & \n",
    "                                     (notoutliers.trialNum <= 4)].values,\n",
    "           bins, orientation='horizontal', alpha = 0.7, color = 'slateblue', density = True)\n",
    "hist_5_Highlight, _, _ = ax[0].hist(notoutliers.DiscoveryTime[(notoutliers.name.str.contains('L50_')) & \n",
    "                                     (notoutliers.trialNum <= 4)].values, \n",
    "           bins, orientation='horizontal', alpha = 0.7, color = 'darkorange', density = True)\n",
    "ax[0].set_title('First 5 visits')\n",
    "ax[0].text(0.136, 19, 'Number of visits sampled =  ' + str(first_5_low))\n",
    "ax[0].text(0.136, 17, 'Number of visits sampled =  ' + str(first_5_high))\n",
    "ax[0].text(0.1335, 15, ' p = 0.055 (KS Test)', color = 'k' )\n",
    "ax[0].text(0.136, 13, 'Divergence value = 1.35 (KL Test)')\n",
    "\n",
    "hist_15to25_lowlight, _, _ = ax[1].hist(notoutliers.DiscoveryTime[(notoutliers.name.str.contains('L0.1_')) & \n",
    "                                      (notoutliers.trialNum > 14) & (notoutliers.trialNum <= 24)].values,\n",
    "           bins, orientation='horizontal', alpha = 0.7, color = 'slateblue', density = True)\n",
    "hist_15to25_highlight, _, _ = ax[1].hist(notoutliers.DiscoveryTime[(notoutliers.name.str.contains('L50_')) & \n",
    "                                     (notoutliers.trialNum > 14) & (notoutliers.trialNum <= 24)].values,\n",
    "           bins, orientation='horizontal', alpha = 0.7, color = 'darkorange', density = True)\n",
    "ax[1].set_title('15-25 visits')\n",
    "ax[1].text(0.15, 19, 'Number of visits sampled =  ' + str(visits_15thru20_low))\n",
    "ax[1].text(0.15, 17, 'Number of visits sampled =  ' + str(visits_15thru20_high))\n",
    "ax[1].text(0.147, 15, ' p = 0.026 (KS Test)', color = 'r', weight = 'bold' )\n",
    "ax[1].text(0.15, 13, 'Divergence value = 2.38 (KL Test)')\n",
    "\n",
    "# hist_all_lowlight,_, _ = ax[2].hist(notoutliers.DiscoveryTime[notoutliers.name.str.contains('L0.1_')].values, bins, \n",
    "#           orientation='horizontal', alpha = 0.7, color = 'slateblue', density = True)\n",
    "# hist_all_highlight, _, _ =ax[2].hist(notoutliers.DiscoveryTime[notoutliers.name.str.contains('L50_')].values, bins, \n",
    "#           orientation='horizontal', alpha = 0.7, color = 'darkorange', density = True)\n",
    "# ax[2].set_title('All visits')\n",
    "# ax[2].text(0.136, 15, ' p = 0.055 (KS Test)', color = 'r' )\n",
    "# ax[2].text(0.14, 13, 'Divergence value = 1.66 (KL Test)')\n",
    "\n",
    "ax[0].set_xlim(0, .5)\n",
    "ax[0].set_ylabel('ExplorationTime (s)')\n",
    "ax[0].set_xlabel('Probability')\n",
    "ax[1].set_xlabel('Probability')\n",
    "# ax[2].set_xlabel('Probability')\n",
    "outpath_figg = r'C:\\Users\\Daniellab\\Desktop\\Light_level_videos_second_batch\\Data\\Stats'\n",
    "# plt.savefig(outpath_figg + \"\\\\\" + 'Stats_Plot_First5Visits_vs_15-25Visits.png')\n",
    "# if the plots are normalized to the total number of hits for each window then the size difference in the 20+seconds bin is due to a larger proportion of each condition being from the lower time bins as the moths learn"
   ]
  },
  {
   "cell_type": "code",
   "execution_count": 24,
   "metadata": {},
   "outputs": [],
   "source": [
    "# fig, ax = plt.subplots(1,2, figsize = (20,6), sharex = True, sharey = True)\n",
    "# ax = ax.ravel()\n",
    "\n",
    "\n",
    "# hist_5_lowlight, _, _ = ax[0].hist(notoutliers.DiscoveryTime[(notoutliers.name.str.contains('L0.1_')) & \n",
    "#                                      (notoutliers.binLabel == '0-4')].values,\n",
    "#            bins, orientation='horizontal', alpha = 0.7, color = 'slateblue', density = True)\n",
    "# hist_5_Highlight, _, _ = ax[0].hist(notoutliers.DiscoveryTime[(notoutliers.name.str.contains('L50_')) & \n",
    "#                                      (notoutliers.binLabel == '0-4')].values, \n",
    "#            bins, orientation='horizontal', alpha = 0.7, color = 'darkorange', density = True)\n",
    "# ax[0].set_title('First 5 visits')\n",
    "# ax[0].text(0.1335, 15, ' p = 0.055 (KS Test)', color = 'k' )\n",
    "# ax[0].text(0.136, 13, 'Divergence value = 1.35 (KL Test)')\n",
    "# hist_20_lowlight, _, _ = ax[1].hist(notoutliers.DiscoveryTime[(notoutliers.name.str.contains('L0.1_')) & \n",
    "#                                       (notoutliers.binLabel != '20-30') & (notoutliers.binLabel != '30andAbove')].values,\n",
    "#            bins, orientation='horizontal', alpha = 0.7, color = 'slateblue', density = True)\n",
    "# hist_20_highlight, _, _ = ax[1].hist(notoutliers.DiscoveryTime[(notoutliers.name.str.contains('L50_')) & \n",
    "#                                      (notoutliers.binLabel != '20-30') & (notoutliers.binLabel != '30andAbove')].values, \n",
    "#            bins, orientation='horizontal', alpha = 0.7, color = 'darkorange', density = True)\n",
    "# ax[1].set_title('0-20 visits')\n",
    "# ax[1].text(0.147, 15, ' p = 0.20 (KS Test)', color = 'k' )\n",
    "# ax[1].text(0.15, 13, 'Divergence value = 1.38 (KL Test)')\n",
    "\n",
    "# # hist_all_lowlight,_, _ = ax[2].hist(notoutliers.DiscoveryTime[notoutliers.name.str.contains('L0.1_')].values, bins, \n",
    "# #           orientation='horizontal', alpha = 0.7, color = 'slateblue', density = True)\n",
    "# # hist_all_highlight, _, _ =ax[2].hist(notoutliers.DiscoveryTime[notoutliers.name.str.contains('L50_')].values, bins, \n",
    "# #           orientation='horizontal', alpha = 0.7, color = 'darkorange', density = True)\n",
    "# # ax[2].set_title('All visits')\n",
    "# # ax[2].text(0.136, 15, ' p = 0.055 (KS Test)', color = 'r' )\n",
    "# # ax[2].text(0.14, 13, 'Divergence value = 1.66 (KL Test)')\n",
    "\n",
    "# ax[0].set_xlim(0, .5)\n",
    "# ax[0].set_ylabel('ExplorationTime (s)')\n",
    "# ax[0].set_xlabel('Probability')\n",
    "# ax[1].set_xlabel('Probability')\n",
    "# # ax[2].set_xlabel('Probability')\n",
    "# outpath_figg = r'C:\\Users\\Daniellab\\Desktop\\Light_level_videos_second_batch\\Data\\Stats'\n",
    "# # plt.savefig(outpath_figg + \"\\\\\" + 'Stats_Plot_First5Visits_vs_0-20Visits.png')\n",
    "# # if the plots are normalized to the total number of hits for each window then the size difference in the 20+seconds bin is due to a larger proportion of each condition being from the lower time bins as the moths learn"
   ]
  },
  {
   "cell_type": "code",
   "execution_count": 28,
   "metadata": {},
   "outputs": [
    {
     "data": {
      "image/png": "[encoded data removed]",
      "text/plain": [
       "<Figure size 1440x360 with 5 Axes>"
      ]
     },
     "metadata": {
      "needs_background": "light"
     },
     "output_type": "display_data"
    }
   ],
   "source": [
    "fig, ax = plt.subplots(1,5, figsize = (20,5), sharex = True, sharey = True)\n",
    "ax = ax.ravel()\n",
    "\n",
    "\n",
    "hist_03_lowlight, _, _ = ax[0].hist(notoutliers.DiscoveryTime[(notoutliers.name.str.contains('L0.1_')) & \n",
    "                                     (notoutliers.trialNum >= 0) & (notoutliers.trialNum <= 9)].values,\n",
    "           bins, orientation='horizontal', alpha = 0.7, color = 'slateblue', density = True)\n",
    "hist_03_highlight, _, _ = ax[0].hist(notoutliers.DiscoveryTime[(notoutliers.name.str.contains('L50_')) & \n",
    "                                     (notoutliers.trialNum >= 0) & (notoutliers.trialNum <= 9)].values, \n",
    "           bins, orientation='horizontal', alpha = 0.7, color = 'darkorange', density = True)\n",
    "\n",
    "\n",
    "hist_05_lowlight, _, _ = ax[1].hist(notoutliers.DiscoveryTime[(notoutliers.name.str.contains('L0.1_')) & \n",
    "                                      (notoutliers.trialNum >= 4) & (notoutliers.trialNum <= 14)].values,\n",
    "           bins, orientation='horizontal', alpha = 0.7, color = 'slateblue', density = True)\n",
    "hist_05_highlight, _, _ = ax[1].hist(notoutliers.DiscoveryTime[(notoutliers.name.str.contains('L50_')) & \n",
    "                                      (notoutliers.trialNum >= 4) & (notoutliers.trialNum <= 14)].values, \n",
    "           bins, orientation='horizontal', alpha = 0.7, color = 'darkorange', density = True)\n",
    "\n",
    "\n",
    "hist_10_lowlight, _, _ = ax[2].hist(notoutliers.DiscoveryTime[(notoutliers.name.str.contains('L0.1_')) & \n",
    "                                     (notoutliers.trialNum >= 9) & (notoutliers.trialNum <= 19)].values,\n",
    "           bins, orientation='horizontal', alpha = 0.7, color = 'slateblue', density = True)\n",
    "hist_10_highlight, _, _ = ax[2].hist(notoutliers.DiscoveryTime[(notoutliers.name.str.contains('L50_')) & \n",
    "                                     (notoutliers.trialNum >= 9) & (notoutliers.trialNum <= 19)].values, \n",
    "           bins, orientation='horizontal', alpha = 0.7, color = 'darkorange', density = True)\n",
    "\n",
    "hist_20_lowlight, _, _ = ax[3].hist(notoutliers.DiscoveryTime[(notoutliers.name.str.contains('L0.1_')) & \n",
    "                                       (notoutliers.trialNum >= 14) & (notoutliers.trialNum <= 24)].values,\n",
    "           bins, orientation='horizontal', alpha = 0.7, color = 'slateblue', density = True)\n",
    "hist_20_highlight, _, _ = ax[3].hist(notoutliers.DiscoveryTime[(notoutliers.name.str.contains('L50_')) & \n",
    "                                      (notoutliers.trialNum >= 14) & (notoutliers.trialNum <= 24)].values, \n",
    "           bins, orientation='horizontal', alpha = 0.7, color = 'darkorange', density = True)\n",
    "\n",
    "\n",
    "# # hist_10to20_lowlight, _, _ = ax[0].hist(notoutliers.DiscoveryTime[(notoutliers.name.str.contains('L0.1_')) & \n",
    "# #                                       (notoutliers.trialNum > 9) & (notoutliers.trialNum <= 19)].values,\n",
    "# #            bins, orientation='horizontal', alpha = 0.7, color = 'slateblue', density = True)\n",
    "# # hist_10to20_highlight, _, _ = ax[0].hist(notoutliers.DiscoveryTime[(notoutliers.name.str.contains('L50_')) & \n",
    "# #                                      (notoutliers.trialNum > 9) & (notoutliers.trialNum <= 19)].values,\n",
    "# #            bins, orientation='horizontal', alpha = 0.7, color = 'darkorange', density = True)\n",
    "\n",
    "# # hist_15to25_lowlight, _, _ = ax[1].hist(notoutliers.DiscoveryTime[(notoutliers.name.str.contains('L0.1_')) & \n",
    "# #                                       (notoutliers.trialNum > 14) & (notoutliers.trialNum <= 24)].values,\n",
    "# #            bins, orientation='horizontal', alpha = 0.7, color = 'slateblue', density = True)\n",
    "# # hist_15to25_highlight, _, _ = ax[1].hist(notoutliers.DiscoveryTime[(notoutliers.name.str.contains('L50_')) & \n",
    "# #                                      (notoutliers.trialNum > 14) & (notoutliers.trialNum <= 24)].values,\n",
    "# #            bins, orientation='horizontal', alpha = 0.7, color = 'darkorange', density = True)\n",
    "\n",
    "# # hist_20to30_lowlight, _, _ = ax[2].hist(notoutliers.DiscoveryTime[(notoutliers.name.str.contains('L0.1_')) & \n",
    "# #                                       (notoutliers.trialNum > 19) & (notoutliers.trialNum <= 29)].values,\n",
    "# #            bins, orientation='horizontal', alpha = 0.7, color = 'slateblue', density = True)\n",
    "# # hist_20to30_highlight, _, _ = ax[2].hist(notoutliers.DiscoveryTime[(notoutliers.name.str.contains('L50_')) & \n",
    "# #                                      (notoutliers.trialNum > 19) & (notoutliers.trialNum <= 29)].values,\n",
    "# #            bins, orientation='horizontal', alpha = 0.7, color = 'darkorange', density = True)\n",
    "\n",
    "# # hist_25to35_lowlight, _, _ = ax[3].hist(notoutliers.DiscoveryTime[(notoutliers.name.str.contains('L0.1_')) & \n",
    "# #                                       (notoutliers.trialNum > 24) & (notoutliers.trialNum <= 34)].values,\n",
    "# #            bins, orientation='horizontal', alpha = 0.7, color = 'slateblue', density = True)\n",
    "# # hist_25to35_highlight, _, _ = ax[3].hist(notoutliers.DiscoveryTime[(notoutliers.name.str.contains('L50_')) & \n",
    "# #                                      (notoutliers.trialNum > 24) & (notoutliers.trialNum <= 34)].values,\n",
    "# #            bins, orientation='horizontal', alpha = 0.7, color = 'darkorange', density = True)\n",
    "\n",
    "         \n",
    "    \n",
    "hist_30_lowlight, _, _ = ax[4].hist(notoutliers.DiscoveryTime[(notoutliers.name.str.contains('L0.1_')) & \n",
    "                                     (notoutliers.trialNum >= 19) & (notoutliers.trialNum <= 29)].values,\n",
    "           bins, orientation='horizontal', alpha = 0.7, color = 'slateblue', density = True)\n",
    "hist_30_highlight, _, _ = ax[4].hist(notoutliers.DiscoveryTime[(notoutliers.name.str.contains('L50_')) & \n",
    "                                     (notoutliers.trialNum >= 19) & (notoutliers.trialNum <= 29)].values, \n",
    "           bins, orientation='horizontal', alpha = 0.7, color = 'darkorange', density = True)\n",
    "\n",
    "\n",
    "# hist_all_lowlight, _, _ = ax[5].hist(notoutliers.DiscoveryTime[(notoutliers.name.str.contains('L0.1_')) & \n",
    "#                                       (notoutliers.trialNum >= 24) & (notoutliers.trialNum <= 34)].values,\n",
    "#            bins, orientation='horizontal', alpha = 0.7, color = 'slateblue', density = True)\n",
    "# hist_all_highlight, _, _ = ax[5].hist(notoutliers.DiscoveryTime[(notoutliers.name.str.contains('L50_')) & \n",
    "#                                       (notoutliers.trialNum >= 24) & (notoutliers.trialNum <= 34)].values, \n",
    "#            bins, orientation='horizontal', alpha = 0.7, color = 'darkorange', density = True)\n",
    "\n",
    "ax[0].set_title('Visits 0-10', size = 25)\n",
    "ax[1].set_title('Visits 5-15', size = 25)\n",
    "ax[2].set_title('Visits 10-20', size = 25)\n",
    "ax[3].set_title('Visits 15-25', size = 25)\n",
    "ax[4].set_title('Visits 20-30', size = 25)\n",
    "# ax[5].set_title('Visits 25-35', size = 20)                                         \n",
    "\n",
    "\n",
    "\n",
    "ax[0].set_ylim(-2, 26)\n",
    "ax[0].set_ylabel('ExplorationTime (seconds)', size = 30, color = 'k')\n",
    "ax[0].set_xlim(0,.33)\n",
    "# ax[0].text(.86,-7,'Probability occurance', size = 20)\n",
    "ax[0].tick_params(labelsize = 25, labelcolor = 'k')\n",
    "ax[1].tick_params(labelsize = 25, labelcolor = 'k')\n",
    "ax[2].tick_params(labelsize = 25, labelcolor = 'k')\n",
    "ax[3].tick_params(labelsize = 25, labelcolor = 'k')\n",
    "ax[4].tick_params(labelsize = 25, labelcolor = 'k')\n",
    "# ax[5].tick_params(labelsize = 20, labelcolor = 'k')\n",
    "\n",
    "\n",
    "ax[0].text(0.067, 22, 'N =  ' + str(first_3_low), color = 'indigo', weight = 'bold', size = 22)\n",
    "ax[0].text(0.067, 19, 'N =  ' + str(first_3_high), color = 'orangered', weight = 'bold', size = 22)\n",
    "\n",
    "\n",
    "ax[1].text(0.067, 22, 'N =  ' + str(first_5_low), color = 'indigo', weight = 'bold', size = 22)\n",
    "ax[1].text(0.067, 19, 'N =  ' + str(first_5_high), color = 'orangered', weight = 'bold', size = 22)\n",
    "\n",
    "\n",
    "ax[2].text(0.067, 22, 'N =  ' + str(first_10_low),  color = 'indigo', weight = 'bold',size = 22)\n",
    "ax[2].text(0.067, 19, 'N =  ' + str(first_10_high), color = 'orangered', weight = 'bold', size = 22)\n",
    "\n",
    "\n",
    "ax[3].text(0.067, 22, 'N =  ' + str(first_20_low), color = 'indigo', weight = 'bold', size = 22)\n",
    "ax[3].text(0.067, 19, 'N =  ' + str(first_20_high), color = 'orangered', weight = 'bold', size = 22)\n",
    "\n",
    "\n",
    "ax[4].text(0.067, 22, 'N =  ' + str(first_30_low), color = 'indigo', weight = 'bold', size = 22)\n",
    "ax[4].text(0.067, 19, 'N =  ' + str(first_30_high), color = 'orangered', weight = 'bold', size = 22)\n",
    "\n",
    "\n",
    "# ax[5].text(0.067, 22, 'N =  ' + str(all_low), color = 'indigo', weight = 'bold', size = 15)\n",
    "# ax[5].text(0.067, 20, 'N =  ' + str(all_high), color = 'orangered', weight = 'bold', size = 15)\n",
    "# ax[5].text(0.067, 18, ' p = 0.005 (KS Test)', color = 'r', weight = 'bold', size = 15 )\n",
    "# ax[5].text(0.07, 16, 'Divergence = -0.01 (KL Test)', size = 15)\n",
    "                                         \n",
    "outpath_figg = r'C:\\Users\\Daniellab\\Desktop\\Light_level_videos_second_batch\\Data\\Stats'\n",
    "plt.savefig(outpath_figg + \"\\\\\" + 'Visits_0-30.png')\n",
    "# if the plots are normalized to the total number of hits for each window then the size difference in the 20+seconds bin is due to a larger proportion of each condition being from the lower time bins as the moths learn"
   ]
  },
  {
   "cell_type": "code",
   "execution_count": 26,
   "metadata": {},
   "outputs": [
    {
     "ename": "NameError",
     "evalue": "name 'asdf' is not defined",
     "output_type": "error",
     "traceback": [
      "\u001b[1;31m---------------------------------------------------------------------------\u001b[0m",
      "\u001b[1;31mNameError\u001b[0m                                 Traceback (most recent call last)",
      "\u001b[1;32m<ipython-input-26-7d97e98f8af7>\u001b[0m in \u001b[0;36m<module>\u001b[1;34m\u001b[0m\n\u001b[1;32m----> 1\u001b[1;33m \u001b[0masdf\u001b[0m\u001b[1;33m\u001b[0m\u001b[1;33m\u001b[0m\u001b[0m\n\u001b[0m",
      "\u001b[1;31mNameError\u001b[0m: name 'asdf' is not defined"
     ]
    }
   ],
   "source": [
    "asdf"
   ]
  },
  {
   "cell_type": "code",
   "execution_count": null,
   "metadata": {},
   "outputs": [],
   "source": [
    "hist_03_lowlight, _, _ = plt.hist(notoutliers.DiscoveryTime[(notoutliers.name.str.contains('L0.1_')) & \n",
    "                                     (notoutliers.trialNum >= 0) & (notoutliers.trialNum <= 9)].values,\n",
    "        bins, density=True, histtype='step', color = 'slateblue',\n",
    "        cumulative=True, label='lowLight', orientation = 'horizontal')\n",
    "\n",
    "hist_03_highlight, _, _ = plt.hist(notoutliers.DiscoveryTime[(notoutliers.name.str.contains('L50_')) & \n",
    "                                     (notoutliers.trialNum >= 0) & (notoutliers.trialNum <= 9)].values,\n",
    "        bins, density=True, histtype='step', color = 'darkorange',\n",
    "        cumulative=True, label='highLight', orientation = 'horizontal')\n",
    "\n",
    "\n",
    "hist_05_lowlight, _, _ = plt.hist(notoutliers.DiscoveryTime[(notoutliers.name.str.contains('L0.1_')) & \n",
    "                                     (notoutliers.trialNum >= 4) & (notoutliers.trialNum <= 14)].values,\n",
    "        bins, density=True, histtype='step', color = 'slateblue',\n",
    "        cumulative=True, label='lowLight', orientation = 'horizontal')\n",
    "\n",
    "hist_05_highlight, _, _ = plt.hist(notoutliers.DiscoveryTime[(notoutliers.name.str.contains('L50_')) & \n",
    "                                     (notoutliers.trialNum >= 4) & (notoutliers.trialNum <= 14)].values,\n",
    "        bins, density=True, histtype='step', color = 'darkorange',\n",
    "        cumulative=True, label='highLight', orientation = 'horizontal')\n",
    "\n",
    "hist_20_lowlight, _, _ = plt.hist(notoutliers.DiscoveryTime[(notoutliers.name.str.contains('L0.1')) & \n",
    "                                     (notoutliers.trialNum >= 9) & (notoutliers.trialNum <= 19)].values,\n",
    "        bins, density=True, histtype='step', color = 'slateblue',\n",
    "        cumulative=True, label='lowLight', orientation = 'horizontal')\n",
    "\n",
    "hist_20_highlight, _, _ = plt.hist(notoutliers.DiscoveryTime[(notoutliers.name.str.contains('L50_'))  & \n",
    "                                     (notoutliers.trialNum >= 9) & (notoutliers.trialNum <= 19)].values,\n",
    "        bins, density=True, histtype='step', color = 'darkorange',\n",
    "        cumulative=True, label='highLight', orientation = 'horizontal')\n",
    "\n",
    "hist_10_lowlight, _, _  = plt.hist(notoutliers.DiscoveryTime[(notoutliers.name.str.contains('L0.1')) & \n",
    "                                     (notoutliers.trialNum >= 14) & (notoutliers.trialNum <= 24)].values,\n",
    "        bins, density=True, histtype='step', color = 'slateblue',\n",
    "        cumulative=True, label='lowLight', orientation = 'horizontal')\n",
    "\n",
    "hist_10_highlight, _, _ = plt.hist(notoutliers.DiscoveryTime[(notoutliers.name.str.contains('L50_')) & \n",
    "                                     (notoutliers.trialNum >= 14) & (notoutliers.trialNum <= 24)].values,\n",
    "        bins, density=True, histtype='step', color = 'darkorange',\n",
    "        cumulative=True, label='highLight', orientation = 'horizontal')\n",
    "\n",
    "# hist_15to25_lowlight, _, _  = plt.hist(notoutliers.DiscoveryTime[(notoutliers.name.str.contains('L0.1')) & \n",
    "#                                      (notoutliers.trialNum >= 14) & (notoutliers.trialNum <= 24)].values,\n",
    "#         bins, density=True, histtype='step', color = 'slateblue',\n",
    "#         cumulative=True, label='lowLight', orientation = 'horizontal')\n",
    "\n",
    "# hist_15to25_highlight, _, _ = plt.hist(notoutliers.DiscoveryTime[(notoutliers.name.str.contains('L50_')) & \n",
    "#                                      (notoutliers.trialNum >= 14) & (notoutliers.trialNum <= 24)].values,\n",
    "#         bins, density=True, histtype='step', color = 'darkorange',\n",
    "#         cumulative=True, label='highLight', orientation = 'horizontal')\n",
    "\n",
    "# hist_20to30_lowlight, _, _  = plt.hist(notoutliers.DiscoveryTime[(notoutliers.name.str.contains('L0.1')) & \n",
    "#                                      (notoutliers.trialNum >= 19) & (notoutliers.trialNum <= 29)].values,\n",
    "#         bins, density=True, histtype='step', color = 'slateblue',\n",
    "#         cumulative=True, label='lowLight', orientation = 'horizontal')\n",
    "\n",
    "# hist_20to30_highlight, _, _ = plt.hist(notoutliers.DiscoveryTime[(notoutliers.name.str.contains('L50_')) & \n",
    "#                                      (notoutliers.trialNum >= 19) & (notoutliers.trialNum <= 29)].values,\n",
    "#         bins, density=True, histtype='step', color = 'darkorange',\n",
    "#         cumulative=True, label='highLight', orientation = 'horizontal')\n",
    "\n",
    "# hist_25to35_lowlight, _, _  = plt.hist(notoutliers.DiscoveryTime[(notoutliers.name.str.contains('L0.1')) & \n",
    "#                                      (notoutliers.trialNum >= 24) & (notoutliers.trialNum <= 34)].values,\n",
    "#         bins, density=True, histtype='step', color = 'slateblue',\n",
    "#         cumulative=True, label='lowLight', orientation = 'horizontal')\n",
    "\n",
    "# hist_25to35_highlight, _, _ = plt.hist(notoutliers.DiscoveryTime[(notoutliers.name.str.contains('L50_')) & \n",
    "#                                      (notoutliers.trialNum >= 24) & (notoutliers.trialNum <= 34)].values,\n",
    "#         bins, density=True, histtype='step', color = 'darkorange',\n",
    "#         cumulative=True, label='highLight', orientation = 'horizontal')\n",
    "\n",
    "hist_30_lowlight, _, _ = plt.hist(notoutliers.DiscoveryTime[(notoutliers.name.str.contains('L0.1')) & \n",
    "                                     (notoutliers.trialNum >= 19) & (notoutliers.trialNum <= 29)].values,\n",
    "        bins, density=True, histtype='step', color = 'slateblue',\n",
    "        cumulative=True, label='lowLight', orientation = 'horizontal')\n",
    "\n",
    "hist_30_highlight, _, _ = plt.hist(notoutliers.DiscoveryTime[(notoutliers.name.str.contains('L50_')) & \n",
    "                                     (notoutliers.trialNum >= 19) & (notoutliers.trialNum <= 29)].values,\n",
    "        bins, density=True, histtype='step', color = 'darkorange',\n",
    "        cumulative=True, label='highLight', orientation = 'horizontal')\n",
    "\n",
    "\n",
    "hist_all_lowlight, _, _ = plt.hist(notoutliers.DiscoveryTime[notoutliers.name.str.contains('L0.1_') & \n",
    "                                     (notoutliers.trialNum >= 24) & (notoutliers.trialNum <= 34)].values,\n",
    "        bins, density=True, histtype='step', color = 'slateblue',\n",
    "        cumulative=True, label='lowLight', orientation = 'horizontal')\n",
    "\n",
    "hist_all_highlight, _, _ = plt.hist(notoutliers.DiscoveryTime[notoutliers.name.str.contains('L50_') & \n",
    "                                     (notoutliers.trialNum >= 24) & (notoutliers.trialNum <= 34)].values,\n",
    "        bins, density=True, histtype='step', color = 'darkorange',\n",
    "        cumulative=True, label='highLight', orientation = 'horizontal')"
   ]
  },
  {
   "cell_type": "code",
   "execution_count": 70,
   "metadata": {},
   "outputs": [],
   "source": [
    "def KL(P,Q, epsilon):\n",
    "# \"\"\" Epsilon is used here to avoid conditional code for\n",
    "# checking that neither P nor Q is equal to 0. \"\"\"\n",
    "     epsilon = 1e-20\n",
    "# You may want to instead make copies to avoid changing the np arrays.\n",
    "     P = P+epsilon\n",
    "     Q = Q+epsilon\n",
    "     \n",
    "     divergence = np.sum(P*np.log(P/Q))\n",
    "      \n",
    "     return divergence"
   ]
  },
  {
   "cell_type": "code",
   "execution_count": null,
   "metadata": {},
   "outputs": [],
   "source": [
    "#Divergence for first 3 visits\n",
    "KL(hist_03_lowlight, hist_03_highlight, 1e-30)"
   ]
  },
  {
   "cell_type": "code",
   "execution_count": null,
   "metadata": {},
   "outputs": [],
   "source": [
    "#Divergence for first 5 visits\n",
    "KL(hist_05_lowlight, hist_05_highlight, 1e-30)"
   ]
  },
  {
   "cell_type": "code",
   "execution_count": null,
   "metadata": {},
   "outputs": [],
   "source": [
    "#Divergence for first 20 visits\n",
    "KL(hist_20_lowlight, hist_20_highlight, 1e-30)"
   ]
  },
  {
   "cell_type": "code",
   "execution_count": null,
   "metadata": {},
   "outputs": [],
   "source": [
    "#Divergence visits 0-10\n",
    "KL(hist_10_lowlight, hist_10_highlight, 1e-30)"
   ]
  },
  {
   "cell_type": "code",
   "execution_count": null,
   "metadata": {},
   "outputs": [],
   "source": [
    "#Divergence visits 15-25\n",
    "# KL(hist_15to25_lowlight, hist_15to25_highlight, 1e-30)"
   ]
  },
  {
   "cell_type": "code",
   "execution_count": null,
   "metadata": {},
   "outputs": [],
   "source": [
    "#Divergence visits 20-30\n",
    "# KL(hist_20to30_lowlight, hist_20to30_highlight, 1e-30)"
   ]
  },
  {
   "cell_type": "code",
   "execution_count": null,
   "metadata": {},
   "outputs": [],
   "source": [
    "#Divergence visits 25-35\n",
    "# KL(hist_25to35_lowlight, hist_25to35_highlight, 1e-30)"
   ]
  },
  {
   "cell_type": "code",
   "execution_count": null,
   "metadata": {},
   "outputs": [],
   "source": [
    "#Divergence for first 30 visits\n",
    "KL(hist_30_lowlight, hist_30_highlight, 1e-30)"
   ]
  },
  {
   "cell_type": "code",
   "execution_count": null,
   "metadata": {},
   "outputs": [],
   "source": [
    "#Divergence for all visits\n",
    "KL(hist_all_lowlight, hist_all_highlight, 1e-30)"
   ]
  },
  {
   "cell_type": "code",
   "execution_count": null,
   "metadata": {},
   "outputs": [],
   "source": [
    "#Significance for first 3 visits\n",
    "stats.ks_2samp(hist_03_highlight,hist_03_lowlight)"
   ]
  },
  {
   "cell_type": "code",
   "execution_count": null,
   "metadata": {},
   "outputs": [],
   "source": [
    "#Significance for first 5 visits\n",
    "stats.ks_2samp(hist_05_highlight,hist_05_lowlight)"
   ]
  },
  {
   "cell_type": "code",
   "execution_count": null,
   "metadata": {},
   "outputs": [],
   "source": [
    "#Significance for first 20 visits\n",
    "stats.ks_2samp(hist_20_highlight,hist_20_lowlight)"
   ]
  },
  {
   "cell_type": "code",
   "execution_count": null,
   "metadata": {},
   "outputs": [],
   "source": [
    "#Significance for visits 10\n",
    "stats.ks_2samp(hist_10_highlight,hist_10_lowlight)"
   ]
  },
  {
   "cell_type": "code",
   "execution_count": null,
   "metadata": {},
   "outputs": [],
   "source": [
    "#Significance for visits 15-25\n",
    "# stats.ks_2samp(hist_15to25_highlight,hist_15to25_lowlight)"
   ]
  },
  {
   "cell_type": "code",
   "execution_count": null,
   "metadata": {},
   "outputs": [],
   "source": [
    "#Significance for visits 20-30\n",
    "# stats.ks_2samp(hist_20to30_highlight,hist_20to30_lowlight)"
   ]
  },
  {
   "cell_type": "code",
   "execution_count": null,
   "metadata": {},
   "outputs": [],
   "source": [
    "#Significance for visits 25-35\n",
    "# stats.ks_2samp(hist_25to35_highlight,hist_25to35_lowlight)"
   ]
  },
  {
   "cell_type": "code",
   "execution_count": null,
   "metadata": {},
   "outputs": [],
   "source": [
    "#Significance for first 30 visits\n",
    "stats.ks_2samp(hist_30_highlight,hist_30_lowlight)"
   ]
  },
  {
   "cell_type": "code",
   "execution_count": null,
   "metadata": {},
   "outputs": [],
   "source": [
    "#Significance for all visits\n",
    "stats.ks_2samp(hist_all_highlight,hist_all_lowlight)"
   ]
  },
  {
   "cell_type": "code",
   "execution_count": null,
   "metadata": {},
   "outputs": [],
   "source": [
    "import seaborn as sns\n",
    "df = sns.load_dataset('tips')\n",
    " \n",
    "# Grouped boxplot\n",
    "sns.boxplot(x=\"lightLevel\", y=\"DiscoveryTime\", hue=\"binLabel\", data=notoutliers, palette=\"Set1\")\n",
    "# sns.plt.show()"
   ]
  },
  {
   "cell_type": "code",
   "execution_count": null,
   "metadata": {},
   "outputs": [],
   "source": [
    "test = notoutliers"
   ]
  },
  {
   "cell_type": "code",
   "execution_count": null,
   "metadata": {},
   "outputs": [],
   "source": [
    "First_3 = notoutliers[(notoutliers.trialNum >= 0) & (notoutliers.trialNum <= 9)]\n",
    "First_5 = notoutliers[(notoutliers.trialNum >= 4) & (notoutliers.trialNum <= 14)]\n",
    "First_10 = notoutliers[(notoutliers.trialNum >= 9) & (notoutliers.trialNum <= 19)]\n",
    "# Visits_15thru25 = notoutliers[(notoutliers.trialNum > 14) & (notoutliers.trialNum <= 24)]\n",
    "First_20 = notoutliers[(notoutliers.trialNum >= 14) & (notoutliers.trialNum <= 24)] \n",
    "First_30 = notoutliers[(notoutliers.trialNum >= 19) & (notoutliers.trialNum <= 29)]\n",
    "All = notoutliers[(notoutliers.trialNum >= 24) & (notoutliers.trialNum <= 34)]\n",
    "#look at data to see better lateTrial numbers"
   ]
  },
  {
   "cell_type": "code",
   "execution_count": null,
   "metadata": {},
   "outputs": [],
   "source": [
    "def kde_scipy(x):\n",
    "    \"\"\"Kernel Density Estimation with Scipy\"\"\"\n",
    "    kde = gaussian_kde(x)\n",
    "    return kde"
   ]
  },
  {
   "cell_type": "code",
   "execution_count": null,
   "metadata": {},
   "outputs": [],
   "source": [
    "alldata = First_3.DiscoveryTime/100\n",
    "_,bins = np.histogram(alldata, bins = 100, density = True)\n",
    "bin_center = 0.5*(bins[1:]+bins[:-1])\n",
    "bin_center = np.linspace(0,60,200)\n",
    "delta = np.diff(bin_center)[0]"
   ]
  },
  {
   "cell_type": "code",
   "execution_count": null,
   "metadata": {},
   "outputs": [],
   "source": [
    "for flower, df in First_3.groupby('lightLevel'):\n",
    "    plt.hist(df.DiscoveryTime/100, histtype='bar', label = flower, alpha = 0.5)\n",
    "    plt.legend()"
   ]
  },
  {
   "cell_type": "code",
   "execution_count": null,
   "metadata": {},
   "outputs": [],
   "source": [
    "for flower, df in First_5.groupby('lightLevel'):\n",
    "    plt.hist(df.DiscoveryTime/100, histtype='bar', label = flower, alpha = 0.5)\n",
    "    plt.legend()"
   ]
  },
  {
   "cell_type": "code",
   "execution_count": null,
   "metadata": {},
   "outputs": [],
   "source": [
    "# alldata = First_10.DiscoveryTime/100\n",
    "# _,bins = np.histogram(alldata, bins = 100, density = True)\n",
    "# bin_center = 0.5*(bins[1:]+bins[:-1])\n",
    "# bin_center = np.linspace(0,60,200)\n",
    "# delta = np.diff(bin_center)[0]"
   ]
  },
  {
   "cell_type": "code",
   "execution_count": null,
   "metadata": {},
   "outputs": [],
   "source": [
    "for flower, df in First_10.groupby('lightLevel'):\n",
    "    plt.hist(df.DiscoveryTime/100, histtype='bar', label = flower, alpha = 0.5)\n",
    "    plt.legend()"
   ]
  },
  {
   "cell_type": "code",
   "execution_count": null,
   "metadata": {},
   "outputs": [],
   "source": [
    "# for flower, df in Visits_15thru25.groupby('lightLevel'):\n",
    "#     plt.hist(df.DiscoveryTime/100, histtype='bar', label = flower, alpha = 0.5)\n",
    "#     plt.legend()"
   ]
  },
  {
   "cell_type": "code",
   "execution_count": null,
   "metadata": {},
   "outputs": [],
   "source": [
    "for flower, df in First_20.groupby('lightLevel'):\n",
    "    plt.hist(df.DiscoveryTime/100, histtype='bar', label = flower, alpha = 0.5)\n",
    "    plt.legend()"
   ]
  },
  {
   "cell_type": "code",
   "execution_count": null,
   "metadata": {},
   "outputs": [],
   "source": [
    "for flower, df in First_30.groupby('lightLevel'):\n",
    "    plt.hist(df.DiscoveryTime/100, histtype='bar', label = flower, alpha = 0.5)\n",
    "    plt.legend()"
   ]
  },
  {
   "cell_type": "code",
   "execution_count": null,
   "metadata": {},
   "outputs": [],
   "source": [
    "for flower, df in All.groupby('lightLevel'):\n",
    "    plt.hist(df.DiscoveryTime/100, histtype='bar', label = flower, alpha = 0.5)\n",
    "    plt.legend()"
   ]
  },
  {
   "cell_type": "code",
   "execution_count": null,
   "metadata": {},
   "outputs": [],
   "source": [
    "First_3_df = pd.DataFrame(index = bin_center, columns = ['Low', 'High'], dtype = 'float')\n",
    "First_5_df = pd.DataFrame(index = bin_center, columns = ['Low', 'High'], dtype = 'float')\n",
    "First_10_df = pd.DataFrame(index = bin_center, columns = ['Low', 'High'], dtype = 'float')\n",
    "# Visits_15thru25_df = pd.DataFrame(index = bin_center, columns = ['Low', 'High'], dtype = 'float')\n",
    "First_20_df = pd.DataFrame(index = bin_center, columns = ['Low', 'High'], dtype = 'float')\n",
    "First_30_df = pd.DataFrame(index = bin_center, columns = ['Low', 'High'], dtype = 'float')\n",
    "All_df = pd.DataFrame(index = bin_center, columns = ['Low', 'High'], dtype = 'float')\n",
    "SampleSize = pd.DataFrame(index = ['Low', 'High'], columns = ['3', '5', '10', '15-25', '20', '30', 'all'], dtype = 'float')"
   ]
  },
  {
   "cell_type": "code",
   "execution_count": null,
   "metadata": {},
   "outputs": [],
   "source": [
    "from scipy.stats import gaussian_kde\n",
    "\n",
    "plt.set_cmap('Spectral')\n",
    "# f1, ax1 = plt.subplots(1,2,sharex = True, sharey = True, figsize = (15,20))\n",
    "f2, ax2 = plt.subplots(1,5,sharex = True, sharey = True, figsize = (20,5))\n",
    "\n",
    "\n",
    "offset = 0\n",
    "for f, df in First_3.groupby('lightLevel', sort = True):\n",
    "    \n",
    "    data = df.DiscoveryTime   \n",
    "    SampleSize.loc[f,'3'] = len(data)\n",
    "    kde = kde_scipy(data)\n",
    "    \n",
    "    temp = kde.pdf(bin_center)\n",
    "    temp /= delta * np.sum(temp)\n",
    "    First_3_df.loc[:,f]=temp\n",
    "    \n",
    "    if f.startswith(\"low\"):\n",
    "        c = 'indigo'\n",
    "        \n",
    "        d = 'midnightblue'\n",
    "    elif f.startswith(\"high\"):\n",
    "        c = 'darkorange'\n",
    "        \n",
    "        \n",
    "        d = 'darkred'\n",
    "#     ax1[0].plot(bin_center, hist)\n",
    "    p = ax2[0].plot(temp, bin_center, label = f, color = c)\n",
    "    ax2[0].plot([-0.01 + offset]*len(data), data, 'o', ms = 2, color = c, mec = d, alpha = 0.35)\n",
    "    offset+=-0.01\n",
    "#     ax2[0].legend()\n",
    "    ax2[0].set_title('Visits 0-10')\n",
    "offset = 0\n",
    "for f, df in First_5.groupby('lightLevel', sort = True):\n",
    "\n",
    "    data = df.DiscoveryTime    \n",
    "    SampleSize.loc[f,'5'] = len(data)\n",
    "    kde = kde_scipy(data)\n",
    "    \n",
    "    temp = kde.pdf(bin_center)\n",
    "    temp /= delta * np.sum(temp)\n",
    "    First_5_df.loc[:,f]=temp\n",
    "    \n",
    "    if f.startswith(\"low\"):\n",
    "        c = 'indigo'\n",
    "        \n",
    "        d = 'midnightblue'\n",
    "    elif f.startswith(\"high\"):\n",
    "        c = 'darkorange'\n",
    "        \n",
    "        d = 'darkred'\n",
    "        \n",
    "#     ax1[1].plot(bin_center, hist)\n",
    "    p = ax2[1].plot(temp, bin_center,  label = f, color = c)\n",
    "    ax2[1].plot([-0.01 + offset]*len(data), data, 'o', ms = 2, color = c, mec = d, alpha = 0.35)\n",
    "    offset+=-0.01\n",
    "#     ax2[1].legend()\n",
    "    ax2[1].set_title('Visits 5-15')\n",
    "    \n",
    "offset = 0\n",
    "for f, df in First_10.groupby('lightLevel', sort = True):\n",
    "    \n",
    "    data = df.DiscoveryTime   \n",
    "    SampleSize.loc[f,'10'] = len(data)\n",
    "    kde = kde_scipy(data)\n",
    "    \n",
    "    temp = kde.pdf(bin_center)\n",
    "    temp /= delta * np.sum(temp)\n",
    "    First_10_df.loc[:,f]=temp\n",
    "    \n",
    "    if f.startswith(\"low\"):\n",
    "        c = 'indigo'\n",
    "        \n",
    "        d = 'midnightblue'\n",
    "    elif f.startswith(\"high\"):\n",
    "        c = 'darkorange'\n",
    "        \n",
    "        \n",
    "        d = 'darkred'\n",
    "#     ax1[0].plot(bin_center, hist)\n",
    "    p = ax2[2].plot(temp, bin_center, label = f, color = c)\n",
    "    ax2[2].plot([-0.01 + offset]*len(data), data, 'o', ms = 2, color = c, mec = d, alpha = 0.35)\n",
    "    offset+=-0.01\n",
    "#     ax2[2].legend()\n",
    "    ax2[2].set_title('Visits 10-20')\n",
    "offset = 0\n",
    "for f, df in First_20.groupby('lightLevel', sort = True):\n",
    "\n",
    "    data = df.DiscoveryTime    \n",
    "    SampleSize.loc[f,'20'] = len(data)\n",
    "    kde = kde_scipy(data)\n",
    "    \n",
    "    temp = kde.pdf(bin_center)\n",
    "    temp /= delta * np.sum(temp)\n",
    "    First_20_df.loc[:,f]=temp\n",
    "    \n",
    "    if f.startswith(\"low\"):\n",
    "        c = 'indigo'\n",
    "        \n",
    "        d = 'midnightblue'\n",
    "    elif f.startswith(\"high\"):\n",
    "        c = 'darkorange'\n",
    "        \n",
    "        d = 'darkred'\n",
    "        \n",
    "#     ax1[1].plot(bin_center, hist)\n",
    "    p = ax2[3].plot(temp, bin_center, label = f, color = c)\n",
    "    ax2[3].plot([-0.01 + offset]*len(data), data, 'o', ms = 2, color = c, mec = d, alpha = 0.35)\n",
    "    offset+=-0.01\n",
    "#     ax2[3].legend()\n",
    "    ax2[3].set_title('Visits 15-25')\n",
    "    \n",
    "offset = 0\n",
    "for f, df in First_30.groupby('lightLevel', sort = True):\n",
    "    \n",
    "    data = df.DiscoveryTime   \n",
    "    SampleSize.loc[f,'30'] = len(data)\n",
    "    kde = kde_scipy(data)\n",
    "    \n",
    "    temp = kde.pdf(bin_center)\n",
    "    temp /= delta * np.sum(temp)\n",
    "    First_30_df.loc[:,f]=temp\n",
    "    \n",
    "    if f.startswith(\"low\"):\n",
    "        c = 'indigo'\n",
    "        \n",
    "        d = 'midnightblue'\n",
    "    elif f.startswith(\"high\"):\n",
    "        c = 'darkorange'\n",
    "        \n",
    "        \n",
    "        d = 'darkred'\n",
    "#     ax1[0].plot(bin_center, hist)\n",
    "    p = ax2[4].plot(temp, bin_center, label = f, color = c)\n",
    "    ax2[4].plot([-0.01 + offset]*len(data), data, 'o', ms = 2, color = c, mec = d, alpha = 0.35)\n",
    "    offset+=-0.01\n",
    "#     ax2[4].legend()\n",
    "    ax2[4].set_title('Visits 20-30')\n",
    "offset = 0\n",
    "# for f, df in All.groupby('lightLevel', sort = True):\n",
    "\n",
    "#     data = df.DiscoveryTime    \n",
    "#     SampleSize.loc[f,'all'] = len(data)\n",
    "#     kde = kde_scipy(data)\n",
    "    \n",
    "#     temp = kde.pdf(bin_center)\n",
    "#     temp /= delta * np.sum(temp)\n",
    "#     All_df.loc[:,f]=temp\n",
    "    \n",
    "#     if f.startswith(\"low\"):\n",
    "#         c = 'indigo'\n",
    "        \n",
    "#         d = 'midnightblue'\n",
    "#     elif f.startswith(\"high\"):\n",
    "#         c = 'darkorange'\n",
    "        \n",
    "#         d = 'darkred'\n",
    "        \n",
    "# #     ax1[1].plot(bin_center, hist)\n",
    "#     p = ax2[5].plot(temp, bin_center, label = f, color = c)\n",
    "#     ax2[5].plot([-0.01 + offset]*len(data), data, 'o', ms = 2, color = c, mec = d, alpha = 0.35)\n",
    "#     offset+=-0.01\n",
    "# #     ax2[5].legend()\n",
    "#     ax2[5].set_title('Visits 25-35')\n",
    "\n",
    "ax2[0].set_ylabel('Exploration Time (seconds)', size = 30, color = 'k')\n",
    "ax2[0].set_ylim(-3,26)\n",
    "\n",
    "ax2[0].text(.645,-9,'Probability occurance', size = 30)\n",
    "ax2[0].tick_params(labelsize = 25, labelcolor = 'k')\n",
    "ax2[1].tick_params(labelsize = 25, labelcolor = 'k')\n",
    "ax2[2].tick_params(labelsize = 25, labelcolor = 'k')\n",
    "ax2[3].tick_params(labelsize = 25, labelcolor = 'k')\n",
    "ax2[4].tick_params(labelsize = 25, labelcolor = 'k')\n",
    "ax2[0].set_xlim(-.04,0.26)\n",
    "\n",
    "\n",
    "ax2[0].text(0.017, 22, ' p = 0.11 (KS Test)', color = 'k', weight = 'bold', size = 12 )\n",
    "ax2[0].text(0.02, 20, 'Divergence = 1.2 (KL Test)', size = 12)\n",
    "ax2[1].text(0.017, 22, ' p = 0.11 (KS Test)', color = 'k', weight = 'bold', size = 12 )\n",
    "ax2[1].text(0.02, 20, 'Divergence = 0.75 (KL Test)', size = 12)\n",
    "ax2[2].text(0.017, 22, ' p = 0.026 (KS Test)', color = 'r', weight = 'bold', size = 13 )\n",
    "ax2[2].text(0.02, 20, 'Divergence = 1.49 (KL Test)', size = 12)\n",
    "ax2[3].text(0.017, 22, ' p = 0.026 (KS Test)', color = 'r', weight = 'bold', size = 13 )\n",
    "ax2[3].text(0.02, 20, 'Divergence = 2.45 (KL Test)', size = 12)\n",
    "ax2[4].text(0.017, 22, ' p = 0.003 (KS Test)', color = 'r', weight = 'bold', size = 13)\n",
    "ax2[4].text(0.02, 20, 'Divergence = 1.46 (KL Test)', size = 12)\n",
    "\n",
    "# ax2[5].tick_params(labelsize = 14, labelcolor = 'k')\n",
    "# ax2[2].set_xlabel('Exploration Time (seconds)')\n",
    "# ax2[3].set_xlabel('Exploration Time (seconds)')\n",
    "# ax2[4].set_xlabel('Exploration Time (seconds)')\n",
    "# ax2[5].set_xlabel('Exploration Time (seconds)')\n",
    "\n",
    "plt.savefig(outpath_figg + \"\\\\\" + 'Visits0-30_Stats_Plot_PDE.png')"
   ]
  },
  {
   "cell_type": "code",
   "execution_count": 83,
   "metadata": {},
   "outputs": [
    {
     "data": {
      "image/png": "[encoded data removed]",
      "text/plain": [
       "<Figure size 432x288 with 1 Axes>"
      ]
     },
     "metadata": {
      "needs_background": "light"
     },
     "output_type": "display_data"
    }
   ],
   "source": [
    "#add a comparison between the early and late visits within a light level (one plot comparing two time points with similar N size maybe 0-10 vs 15-25?)\n",
    "hist_early_lowlight_stat, _, _ = plt.hist(notoutliers.DiscoveryTime[(notoutliers.name.str.contains('L0.1_')) & \n",
    "                                     (notoutliers.trialNum >= 0) & (notoutliers.trialNum <= 9)].values,\n",
    "        bins, density=True, histtype='step', color = 'slateblue',\n",
    "        cumulative=True, label='lowLight', orientation = 'horizontal')\n",
    "\n",
    "hist_late_lowlight_stat, _, _ = plt.hist(notoutliers.DiscoveryTime[(notoutliers.name.str.contains('L0.1_')) & \n",
    "                                     (notoutliers.trialNum >= 14) & (notoutliers.trialNum <= 24)].values,\n",
    "        bins, density=True, histtype='step', color = 'darkorange',\n",
    "        cumulative=True, label='highLight', orientation = 'horizontal')\n",
    "\n",
    "\n",
    "hist_early_highlight_stat, _, _ = plt.hist(notoutliers.DiscoveryTime[(notoutliers.name.str.contains('L50_')) & \n",
    "                                     (notoutliers.trialNum >= 0) & (notoutliers.trialNum <= 9)].values,\n",
    "        bins, density=True, histtype='step', color = 'slateblue',\n",
    "        cumulative=True, label='lowLight', orientation = 'horizontal')\n",
    "\n",
    "hist_late_highlight_stat, _, _ = plt.hist(notoutliers.DiscoveryTime[(notoutliers.name.str.contains('L50_')) & \n",
    "                                     (notoutliers.trialNum >= 14) & (notoutliers.trialNum <= 24)].values,\n",
    "        bins, density=True, histtype='step', color = 'darkorange',\n",
    "        cumulative=True, label='highLight', orientation = 'horizontal')"
   ]
  },
  {
   "cell_type": "code",
   "execution_count": 80,
   "metadata": {},
   "outputs": [
    {
     "data": {
      "text/plain": [
       "Text(0.067, 19, 'Late N =  50')"
      ]
     },
     "execution_count": 80,
     "metadata": {},
     "output_type": "execute_result"
    },
    {
     "data": {
      "image/png": "[encoded data removed]",
      "text/plain": [
       "<Figure size 1440x360 with 2 Axes>"
      ]
     },
     "metadata": {
      "needs_background": "light"
     },
     "output_type": "display_data"
    }
   ],
   "source": [
    "#add a comparison between the early and late visits within a light level (one plot comparing two time points with similar N size maybe 0-10 vs 15-25?)fig, ax = plt.subplots(1,2, figsize = (20,5), sharex = True, sharey = True)\n",
    "fig, ax = plt.subplots(1,2, figsize = (20,5), sharex = True, sharey = True)\n",
    "ax = ax.ravel()\n",
    "\n",
    "\n",
    "hist_early_lowlight, _, _ = ax[0].hist(notoutliers.DiscoveryTime[(notoutliers.name.str.contains('L0.1_')) & \n",
    "                                     (notoutliers.trialNum >= 0) & (notoutliers.trialNum <= 9)].values,\n",
    "           bins, orientation='horizontal', alpha = 0.7, color = 'steelblue', density = True)\n",
    "hist_late_lowlight, _, _ = ax[0].hist(notoutliers.DiscoveryTime[(notoutliers.name.str.contains('L0.1_')) & \n",
    "                                     (notoutliers.trialNum >= 14) & (notoutliers.trialNum <= 24)].values, \n",
    "           bins, orientation='horizontal', alpha = 0.7, color = 'slateblue', density = True)\n",
    "hist_early_highlight, _, _ = ax[1].hist(notoutliers.DiscoveryTime[(notoutliers.name.str.contains('L50')) & \n",
    "                                     (notoutliers.trialNum >= 0) & (notoutliers.trialNum <= 9)].values,\n",
    "           bins, orientation='horizontal', alpha = 0.7, color = 'lightcoral', density = True)\n",
    "hist_late_highlight, _, _ = ax[1].hist(notoutliers.DiscoveryTime[(notoutliers.name.str.contains('L50')) & \n",
    "                                     (notoutliers.trialNum >= 14) & (notoutliers.trialNum <= 24)].values, \n",
    "           bins, orientation='horizontal', alpha = 0.7, color = 'maroon', density = True)\n",
    "\n",
    "ax[0].set_title('Low Light', size = 25)\n",
    "ax[1].set_title('High Light', size = 25)\n",
    "                                      \n",
    "\n",
    "\n",
    "\n",
    "ax[0].set_ylim(-2, 26)\n",
    "ax[0].set_ylabel('ExplorationTime (seconds)', size = 30, color = 'k')\n",
    "ax[0].set_xlim(0,.33)\n",
    "ax[0].text(.26,-9,'Probability occurance', size = 30)\n",
    "ax[0].tick_params(labelsize = 25, labelcolor = 'k')\n",
    "ax[1].tick_params(labelsize = 25, labelcolor = 'k')\n",
    "\n",
    "\n",
    "\n",
    "ax[0].text(0.067, 22, 'Early N =  ' + str(first_3_low), color = 'steelblue', weight = 'bold', size = 22)\n",
    "ax[0].text(0.067, 19, 'Late N =  ' + str(first_20_low), color = 'slateblue', weight = 'bold', size = 22)\n",
    "\n",
    "\n",
    "ax[1].text(0.067, 22, 'Early N =  ' + str(first_3_high), color = 'lightcoral', weight = 'bold', size = 22)\n",
    "ax[1].text(0.067, 19, 'Late N =  ' + str(first_20_high), color = 'maroon', weight = 'bold', size = 22)\n"
   ]
  },
  {
   "cell_type": "code",
   "execution_count": 84,
   "metadata": {},
   "outputs": [
    {
     "data": {
      "text/plain": [
       "(-0.7592557544869052,\n",
       " Ks_2sampResult(statistic=0.5333333333333333, pvalue=0.00020211742020648208))"
      ]
     },
     "execution_count": 84,
     "metadata": {},
     "output_type": "execute_result"
    }
   ],
   "source": [
    "#learning comparing the early and later visits lower light. A negative value means the second thing is less ?? (that's how it is between light levels)\n",
    "KL(hist_early_lowlight_stat, hist_late_lowlight_stat, 1e-30), stats.ks_2samp(hist_early_lowlight_stat,hist_late_lowlight_stat)"
   ]
  },
  {
   "cell_type": "code",
   "execution_count": 85,
   "metadata": {},
   "outputs": [
    {
     "data": {
      "text/plain": [
       "(0.28535335096688713,\n",
       " Ks_2sampResult(statistic=0.19999999999999996, pvalue=0.5371995394073505))"
      ]
     },
     "execution_count": 85,
     "metadata": {},
     "output_type": "execute_result"
    }
   ],
   "source": [
    "#learning comparing the early and later visits higher light\n",
    "KL(hist_early_highlight_stat, hist_late_highlight_stat, 1e-30), stats.ks_2samp(hist_early_highlight_stat,hist_late_highlight_stat)"
   ]
  },
  {
   "cell_type": "code",
   "execution_count": null,
   "metadata": {},
   "outputs": [],
   "source": []
  }
 ],
 "metadata": {
  "kernelspec": {
   "display_name": "Python 3",
   "language": "python",
   "name": "python3"
  },
  "language_info": {
   "codemirror_mode": {
    "name": "ipython",
    "version": 3
   },
   "file_extension": ".py",
   "mimetype": "text/x-python",
   "name": "python",
   "nbconvert_exporter": "python",
   "pygments_lexer": "ipython3",
   "version": "3.7.1"
  }
 },
 "nbformat": 4,
 "nbformat_minor": 2
}
