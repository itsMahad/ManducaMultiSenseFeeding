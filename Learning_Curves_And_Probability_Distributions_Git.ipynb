{
 "cells": [
  {
   "cell_type": "code",
   "execution_count": 1,
   "metadata": {},
   "outputs": [],
   "source": [
    "import pandas as pd\n",
    "import matplotlib.pyplot as plt\n",
    "from matplotlib import style\n",
    "style.use(\"ggplot\")\n",
    "from scipy import stats\n",
    "import os\n",
    "import numpy as np\n",
    "import glob\n",
    "from scipy.stats import gaussian_kde\n",
    "plt.rcParams['font.sans-serif'] = \"Arial\"\n",
    "plt.rcParams['font.family'] = \"sans-serif\""
   ]
  },
  {
   "cell_type": "code",
   "execution_count": 2,
   "metadata": {},
   "outputs": [],
   "source": [
    "path = r'C:\\Users\\Daniellab\\Desktop\\Light_level_videos_second_batch\\Data\\Step6'"
   ]
  },
  {
   "cell_type": "code",
   "execution_count": 3,
   "metadata": {},
   "outputs": [
    {
     "data": {
      "text/html": [
       "<div>\n",
       "<style scoped>\n",
       "    .dataframe tbody tr th:only-of-type {\n",
       "        vertical-align: middle;\n",
       "    }\n",
       "\n",
       "    .dataframe tbody tr th {\n",
       "        vertical-align: top;\n",
       "    }\n",
       "\n",
       "    .dataframe thead th {\n",
       "        text-align: right;\n",
       "    }\n",
       "</style>\n",
       "<table border=\"1\" class=\"dataframe\">\n",
       "  <thead>\n",
       "    <tr style=\"text-align: right;\">\n",
       "      <th></th>\n",
       "      <th>Unnamed: 0</th>\n",
       "      <th>Unnamed: 0.1</th>\n",
       "      <th>In_Frame</th>\n",
       "      <th>Out_Frame</th>\n",
       "      <th>Proboscis</th>\n",
       "      <th>DiscoveryTime</th>\n",
       "      <th>trialNum</th>\n",
       "      <th>name</th>\n",
       "    </tr>\n",
       "  </thead>\n",
       "  <tbody>\n",
       "    <tr>\n",
       "      <th>0</th>\n",
       "      <td>0</td>\n",
       "      <td>0</td>\n",
       "      <td>20377</td>\n",
       "      <td>20713</td>\n",
       "      <td>NaN</td>\n",
       "      <td>NaN</td>\n",
       "      <td>0</td>\n",
       "      <td>L0.1_c-3_m10</td>\n",
       "    </tr>\n",
       "    <tr>\n",
       "      <th>1</th>\n",
       "      <td>1</td>\n",
       "      <td>1</td>\n",
       "      <td>39912</td>\n",
       "      <td>41054</td>\n",
       "      <td>NaN</td>\n",
       "      <td>NaN</td>\n",
       "      <td>1</td>\n",
       "      <td>L0.1_c-3_m10</td>\n",
       "    </tr>\n",
       "    <tr>\n",
       "      <th>2</th>\n",
       "      <td>2</td>\n",
       "      <td>2</td>\n",
       "      <td>67784</td>\n",
       "      <td>68084</td>\n",
       "      <td>NaN</td>\n",
       "      <td>NaN</td>\n",
       "      <td>2</td>\n",
       "      <td>L0.1_c-3_m10</td>\n",
       "    </tr>\n",
       "    <tr>\n",
       "      <th>3</th>\n",
       "      <td>3</td>\n",
       "      <td>3</td>\n",
       "      <td>68158</td>\n",
       "      <td>69028</td>\n",
       "      <td>NaN</td>\n",
       "      <td>NaN</td>\n",
       "      <td>3</td>\n",
       "      <td>L0.1_c-3_m10</td>\n",
       "    </tr>\n",
       "    <tr>\n",
       "      <th>4</th>\n",
       "      <td>4</td>\n",
       "      <td>4</td>\n",
       "      <td>26059</td>\n",
       "      <td>27412</td>\n",
       "      <td>NaN</td>\n",
       "      <td>NaN</td>\n",
       "      <td>0</td>\n",
       "      <td>L0.1_c-3_m12</td>\n",
       "    </tr>\n",
       "  </tbody>\n",
       "</table>\n",
       "</div>"
      ],
      "text/plain": [
       "   Unnamed: 0  Unnamed: 0.1  In_Frame  Out_Frame  Proboscis  DiscoveryTime  \\\n",
       "0           0             0     20377      20713        NaN            NaN   \n",
       "1           1             1     39912      41054        NaN            NaN   \n",
       "2           2             2     67784      68084        NaN            NaN   \n",
       "3           3             3     68158      69028        NaN            NaN   \n",
       "4           4             4     26059      27412        NaN            NaN   \n",
       "\n",
       "   trialNum          name  \n",
       "0         0  L0.1_c-3_m10  \n",
       "1         1  L0.1_c-3_m10  \n",
       "2         2  L0.1_c-3_m10  \n",
       "3         3  L0.1_c-3_m10  \n",
       "4         0  L0.1_c-3_m12  "
      ]
     },
     "execution_count": 3,
     "metadata": {},
     "output_type": "execute_result"
    }
   ],
   "source": [
    "AllData = pd.read_csv(path + \"\\\\\" + 'AllLight_EveryMoth.csv')\n",
    "AllData.head()"
   ]
  },
  {
   "cell_type": "code",
   "execution_count": 4,
   "metadata": {},
   "outputs": [
    {
     "data": {
      "text/plain": [
       "[<matplotlib.lines.Line2D at 0xa733978>]"
      ]
     },
     "execution_count": 4,
     "metadata": {},
     "output_type": "execute_result"
    },
    {
     "data": {
      "image/png": "[encoded data removed]",
      "text/plain": [
       "<Figure size 432x288 with 1 Axes>"
      ]
     },
     "metadata": {
      "needs_background": "light"
     },
     "output_type": "display_data"
    }
   ],
   "source": [
    "plt.plot(AllData.DiscoveryTime/100, 'o')"
   ]
  },
  {
   "cell_type": "code",
   "execution_count": 5,
   "metadata": {},
   "outputs": [
    {
     "name": "stderr",
     "output_type": "stream",
     "text": [
      "C:\\Users\\Daniellab\\Anaconda3\\lib\\site-packages\\ipykernel_launcher.py:6: SettingWithCopyWarning: \n",
      "A value is trying to be set on a copy of a slice from a DataFrame.\n",
      "Try using .loc[row_indexer,col_indexer] = value instead\n",
      "\n",
      "See the caveats in the documentation: http://pandas.pydata.org/pandas-docs/stable/indexing.html#indexing-view-versus-copy\n",
      "  \n",
      "C:\\Users\\Daniellab\\Anaconda3\\lib\\site-packages\\ipykernel_launcher.py:7: SettingWithCopyWarning: \n",
      "A value is trying to be set on a copy of a slice from a DataFrame.\n",
      "Try using .loc[row_indexer,col_indexer] = value instead\n",
      "\n",
      "See the caveats in the documentation: http://pandas.pydata.org/pandas-docs/stable/indexing.html#indexing-view-versus-copy\n",
      "  import sys\n"
     ]
    },
    {
     "data": {
      "image/png": "[encoded data removed]",
      "text/plain": [
       "<Figure size 432x288 with 1 Axes>"
      ]
     },
     "metadata": {
      "needs_background": "light"
     },
     "output_type": "display_data"
    }
   ],
   "source": [
    "AllData_notnull = AllData[AllData.DiscoveryTime.notnull()]\n",
    "z = np.abs(stats.zscore(AllData_notnull.DiscoveryTime.values))\n",
    "outlier_ID = z > 5\n",
    "plt.plot(z, 'o') \n",
    "\n",
    "AllData_notnull['zscore'] = z\n",
    "AllData_notnull['outlier_ID'] = outlier_ID"
   ]
  },
  {
   "cell_type": "code",
   "execution_count": 6,
   "metadata": {},
   "outputs": [
    {
     "data": {
      "text/plain": [
       "[<matplotlib.lines.Line2D at 0xac4b828>]"
      ]
     },
     "execution_count": 6,
     "metadata": {},
     "output_type": "execute_result"
    },
    {
     "data": {
      "image/png": "[encoded data removed]",
      "text/plain": [
       "<Figure size 432x288 with 1 Axes>"
      ]
     },
     "metadata": {
      "needs_background": "light"
     },
     "output_type": "display_data"
    }
   ],
   "source": [
    "plt.plot(AllData_notnull.DiscoveryTime[AllData_notnull.outlier_ID == True]/100, 'o', color = 'red')\n",
    "plt.plot(AllData_notnull.DiscoveryTime[AllData_notnull.outlier_ID == False]/100, 'o', color = 'blue')"
   ]
  },
  {
   "cell_type": "code",
   "execution_count": 7,
   "metadata": {},
   "outputs": [
    {
     "name": "stderr",
     "output_type": "stream",
     "text": [
      "C:\\Users\\Daniellab\\Anaconda3\\lib\\site-packages\\ipykernel_launcher.py:2: SettingWithCopyWarning: \n",
      "A value is trying to be set on a copy of a slice from a DataFrame.\n",
      "Try using .loc[row_indexer,col_indexer] = value instead\n",
      "\n",
      "See the caveats in the documentation: http://pandas.pydata.org/pandas-docs/stable/indexing.html#indexing-view-versus-copy\n",
      "  \n"
     ]
    },
    {
     "data": {
      "text/plain": [
       "[<matplotlib.lines.Line2D at 0xabb7dd8>]"
      ]
     },
     "execution_count": 7,
     "metadata": {},
     "output_type": "execute_result"
    },
    {
     "data": {
      "image/png": "[encoded data removed]",
      "text/plain": [
       "<Figure size 432x288 with 1 Axes>"
      ]
     },
     "metadata": {
      "needs_background": "light"
     },
     "output_type": "display_data"
    }
   ],
   "source": [
    "notoutliers = AllData_notnull[AllData_notnull.outlier_ID == False]\n",
    "notoutliers['DiscoveryTime'] = notoutliers.DiscoveryTime.div(100, axis = 'index')\n",
    "plt.plot(notoutliers['DiscoveryTime'], 'o')"
   ]
  },
  {
   "cell_type": "code",
   "execution_count": 8,
   "metadata": {},
   "outputs": [
    {
     "data": {
      "text/plain": [
       "Text(0.5, 0, 'Occurance')"
      ]
     },
     "execution_count": 8,
     "metadata": {},
     "output_type": "execute_result"
    },
    {
     "data": {
      "image/png": "[encoded data removed]",
      "text/plain": [
       "<Figure size 1440x432 with 2 Axes>"
      ]
     },
     "metadata": {
      "needs_background": "light"
     },
     "output_type": "display_data"
    }
   ],
   "source": [
    "hist, bins = np.histogram(notoutliers.DiscoveryTime.values, bins = 30)\n",
    "\n",
    "fig, ax = plt.subplots(1,2, figsize = (20,6))\n",
    "ax = ax.ravel()\n",
    "\n",
    "ax[0].hist(notoutliers.DiscoveryTime.values, bins, histtype = 'bar', orientation='horizontal')\n",
    "ax[1].hist(notoutliers.DiscoveryTime[notoutliers.name.str.contains('L0.1_')].values, bins, \n",
    "          orientation='horizontal', alpha = 0.7, color = 'slateblue')\n",
    "ax[1].hist(notoutliers.DiscoveryTime[notoutliers.name.str.contains('L50_')].values, bins, \n",
    "          orientation='horizontal', alpha = 0.7, color = 'darkorange')\n",
    "ax[1].set_ylabel('ExplorationTime(second)')\n",
    "ax[1].set_xlabel('Occurance')"
   ]
  },
  {
   "cell_type": "code",
   "execution_count": 9,
   "metadata": {},
   "outputs": [
    {
     "data": {
      "text/plain": [
       "31"
      ]
     },
     "execution_count": 9,
     "metadata": {},
     "output_type": "execute_result"
    }
   ],
   "source": [
    "len(bins)"
   ]
  },
  {
   "cell_type": "code",
   "execution_count": 10,
   "metadata": {},
   "outputs": [
    {
     "data": {
      "text/plain": [
       "<matplotlib.legend.Legend at 0xb414b70>"
      ]
     },
     "execution_count": 10,
     "metadata": {},
     "output_type": "execute_result"
    },
    {
     "data": {
      "image/png": "[encoded data removed]",
      "text/plain": [
       "<Figure size 432x288 with 1 Axes>"
      ]
     },
     "metadata": {
      "needs_background": "light"
     },
     "output_type": "display_data"
    }
   ],
   "source": [
    "plt.plot(notoutliers[notoutliers.name.str.contains('L0.1')].trialNum, \n",
    "         notoutliers[notoutliers.name.str.contains('L0.1')].DiscoveryTime,\n",
    "         'o', color = 'slateblue', label = 'low light (0.1 lux)')\n",
    "plt.plot(notoutliers[notoutliers.name.str.contains('L50')].trialNum, \n",
    "         notoutliers[notoutliers.name.str.contains('L50')].DiscoveryTime, \n",
    "         'o', color = 'darkorange', label = 'bright light (50 lux)')\n",
    "plt.ylabel('Exploration Time (second)')\n",
    "plt.xlabel('Visit Number')\n",
    "plt.legend()\n",
    "\n",
    "# add exponential curves - color: L50 - chocolate or saddle brown, L0.1 - darkslateblue, or blue violet"
   ]
  },
  {
   "cell_type": "code",
   "execution_count": 11,
   "metadata": {},
   "outputs": [
    {
     "name": "stderr",
     "output_type": "stream",
     "text": [
      "C:\\Users\\Daniellab\\Anaconda3\\lib\\site-packages\\ipykernel_launcher.py:2: SettingWithCopyWarning: \n",
      "A value is trying to be set on a copy of a slice from a DataFrame.\n",
      "Try using .loc[row_indexer,col_indexer] = value instead\n",
      "\n",
      "See the caveats in the documentation: http://pandas.pydata.org/pandas-docs/stable/indexing.html#indexing-view-versus-copy\n",
      "  \n"
     ]
    },
    {
     "data": {
      "text/plain": [
       "Index(['Unnamed: 0', 'Unnamed: 0.1', 'In_Frame', 'Out_Frame', 'Proboscis',\n",
       "       'DiscoveryTime', 'trialNum', 'name', 'zscore', 'outlier_ID',\n",
       "       'lightLevel'],\n",
       "      dtype='object')"
      ]
     },
     "execution_count": 11,
     "metadata": {},
     "output_type": "execute_result"
    }
   ],
   "source": [
    "notoutliers['lightLevel'] = ['low' if 'L0.1' in value \n",
    "                           else 'high' for value in notoutliers['name']]\n",
    "notoutliers.keys()"
   ]
  },
  {
   "cell_type": "code",
   "execution_count": 12,
   "metadata": {},
   "outputs": [],
   "source": [
    "first_0thru10_low = len(notoutliers[(notoutliers.name.str.contains('L0.1')) & (notoutliers.trialNum >= 0) & (notoutliers.trialNum <= 9)].values)\n",
    "first_5thru15_low = len(notoutliers[(notoutliers.name.str.contains('L0.1')) & (notoutliers.trialNum >= 5) & (notoutliers.trialNum <= 14)].values)\n",
    "first_10thru20_low = len(notoutliers[(notoutliers.name.str.contains('L0.1')) & (notoutliers.trialNum >= 9) & (notoutliers.trialNum <= 19)].values)\n",
    "first_15thru25_low = len(notoutliers[(notoutliers.name.str.contains('L0.1')) & (notoutliers.trialNum >= 14) & (notoutliers.trialNum <= 19)].values)\n",
    "first_20thru30_low = len(notoutliers[(notoutliers.name.str.contains('L0.1')) & (notoutliers.trialNum >= 19) & (notoutliers.trialNum <= 29)].values)"
   ]
  },
  {
   "cell_type": "code",
   "execution_count": 13,
   "metadata": {},
   "outputs": [],
   "source": [
    "first_0thru10_high = len(notoutliers[(notoutliers.name.str.contains('L50')) & (notoutliers.trialNum >= 0) & (notoutliers.trialNum <= 9)].values)\n",
    "first_5thru15_high = len(notoutliers[(notoutliers.name.str.contains('L50')) & (notoutliers.trialNum >= 4) & (notoutliers.trialNum <= 14)].values)\n",
    "first_10thru20_high = len(notoutliers[(notoutliers.name.str.contains('L50')) & (notoutliers.trialNum >= 9) & (notoutliers.trialNum <= 17)].values)\n",
    "first_15thru25_high = len(notoutliers[(notoutliers.name.str.contains('L50')) & (notoutliers.trialNum >= 14) & (notoutliers.trialNum <= 19)].values)\n",
    "first_20thru30_high = len(notoutliers[(notoutliers.name.str.contains('L50')) & (notoutliers.trialNum >= 19) & (notoutliers.trialNum <= 29)].values)"
   ]
  },
  {
   "cell_type": "code",
   "execution_count": 14,
   "metadata": {},
   "outputs": [
    {
     "name": "stdout",
     "output_type": "stream",
     "text": [
      "low visits 152\n",
      "high visits 88\n"
     ]
    },
    {
     "data": {
      "text/plain": [
       "(None, None)"
      ]
     },
     "execution_count": 14,
     "metadata": {},
     "output_type": "execute_result"
    }
   ],
   "source": [
    "#0thru10\n",
    "print('low visits',first_0thru10_low), print('high visits',first_0thru10_high)"
   ]
  },
  {
   "cell_type": "code",
   "execution_count": 15,
   "metadata": {},
   "outputs": [
    {
     "name": "stdout",
     "output_type": "stream",
     "text": [
      "low visits 144\n",
      "high visits 85\n"
     ]
    },
    {
     "data": {
      "text/plain": [
       "(None, None)"
      ]
     },
     "execution_count": 15,
     "metadata": {},
     "output_type": "execute_result"
    }
   ],
   "source": [
    "#5thru15\n",
    "print('low visits',first_5thru15_low), print('high visits',first_5thru15_high)"
   ]
  },
  {
   "cell_type": "code",
   "execution_count": 16,
   "metadata": {},
   "outputs": [
    {
     "name": "stdout",
     "output_type": "stream",
     "text": [
      "low visits 133\n",
      "high visits 61\n"
     ]
    },
    {
     "data": {
      "text/plain": [
       "(None, None)"
      ]
     },
     "execution_count": 16,
     "metadata": {},
     "output_type": "execute_result"
    }
   ],
   "source": [
    "#10thru20\n",
    "print('low visits',first_10thru20_low), print('high visits',first_10thru20_high)"
   ]
  },
  {
   "cell_type": "code",
   "execution_count": 17,
   "metadata": {},
   "outputs": [
    {
     "name": "stdout",
     "output_type": "stream",
     "text": [
      "low visits 63\n",
      "high visits 35\n"
     ]
    },
    {
     "data": {
      "text/plain": [
       "(None, None)"
      ]
     },
     "execution_count": 17,
     "metadata": {},
     "output_type": "execute_result"
    }
   ],
   "source": [
    "#15thru25\n",
    "print('low visits',first_15thru25_low), print('high visits',first_15thru25_high)"
   ]
  },
  {
   "cell_type": "code",
   "execution_count": 18,
   "metadata": {},
   "outputs": [
    {
     "name": "stdout",
     "output_type": "stream",
     "text": [
      "low visits 86\n",
      "high visits 37\n"
     ]
    },
    {
     "data": {
      "text/plain": [
       "(None, None)"
      ]
     },
     "execution_count": 18,
     "metadata": {},
     "output_type": "execute_result"
    }
   ],
   "source": [
    "#20thru30\n",
    "print('low visits',first_20thru30_low), print('high visits',first_20thru30_high)"
   ]
  },
  {
   "cell_type": "code",
   "execution_count": 19,
   "metadata": {},
   "outputs": [
    {
     "data": {
      "image/png": "[encoded data removed]",
      "text/plain": [
       "<Figure size 1440x360 with 5 Axes>"
      ]
     },
     "metadata": {
      "needs_background": "light"
     },
     "output_type": "display_data"
    }
   ],
   "source": [
    "fig, ax = plt.subplots(1,5, figsize = (20,5), sharex = True, sharey = True)\n",
    "ax = ax.ravel()\n",
    "\n",
    "\n",
    "hist_0thru10_lowlight, _, _ = ax[0].hist(notoutliers.DiscoveryTime[(notoutliers.name.str.contains('L0.1_')) & \n",
    "                                     (notoutliers.trialNum >= 0) & (notoutliers.trialNum <= 9)].values,\n",
    "           bins, orientation='horizontal', alpha = 0.7, color = 'slateblue', density = True)\n",
    "hist_0thru10_highlight, _, _ = ax[0].hist(notoutliers.DiscoveryTime[(notoutliers.name.str.contains('L50_')) & \n",
    "                                     (notoutliers.trialNum >= 0) & (notoutliers.trialNum <= 9)].values, \n",
    "           bins, orientation='horizontal', alpha = 0.7, color = 'darkorange', density = True)\n",
    "\n",
    "\n",
    "hist_5thru15_lowlight, _, _ = ax[1].hist(notoutliers.DiscoveryTime[(notoutliers.name.str.contains('L0.1_')) & \n",
    "                                      (notoutliers.trialNum >= 4) & (notoutliers.trialNum <= 14)].values,\n",
    "           bins, orientation='horizontal', alpha = 0.7, color = 'slateblue', density = True)\n",
    "hist_5thru15_highlight, _, _ = ax[1].hist(notoutliers.DiscoveryTime[(notoutliers.name.str.contains('L50_')) & \n",
    "                                      (notoutliers.trialNum >= 4) & (notoutliers.trialNum <= 14)].values, \n",
    "           bins, orientation='horizontal', alpha = 0.7, color = 'darkorange', density = True)\n",
    "\n",
    "\n",
    "hist_10thru20_lowlight, _, _ = ax[2].hist(notoutliers.DiscoveryTime[(notoutliers.name.str.contains('L0.1_')) & \n",
    "                                     (notoutliers.trialNum >= 9) & (notoutliers.trialNum <= 19)].values,\n",
    "           bins, orientation='horizontal', alpha = 0.7, color = 'slateblue', density = True)\n",
    "hist_10thru20_highlight, _, _ = ax[2].hist(notoutliers.DiscoveryTime[(notoutliers.name.str.contains('L50_')) & \n",
    "                                     (notoutliers.trialNum >= 9) & (notoutliers.trialNum <= 19)].values, \n",
    "           bins, orientation='horizontal', alpha = 0.7, color = 'darkorange', density = True)\n",
    "\n",
    "hist_15thru25_lowlight, _, _ = ax[3].hist(notoutliers.DiscoveryTime[(notoutliers.name.str.contains('L0.1_')) & \n",
    "                                       (notoutliers.trialNum >= 14) & (notoutliers.trialNum <= 24)].values,\n",
    "           bins, orientation='horizontal', alpha = 0.7, color = 'slateblue', density = True)\n",
    "hist_15thru25_highlight, _, _ = ax[3].hist(notoutliers.DiscoveryTime[(notoutliers.name.str.contains('L50_')) & \n",
    "                                      (notoutliers.trialNum >= 14) & (notoutliers.trialNum <= 24)].values, \n",
    "           bins, orientation='horizontal', alpha = 0.7, color = 'darkorange', density = True)\n",
    "\n",
    "\n",
    "\n",
    "         \n",
    "    \n",
    "hist_20thru30_lowlight, _, _ = ax[4].hist(notoutliers.DiscoveryTime[(notoutliers.name.str.contains('L0.1_')) & \n",
    "                                     (notoutliers.trialNum >= 19) & (notoutliers.trialNum <= 29)].values,\n",
    "           bins, orientation='horizontal', alpha = 0.7, color = 'slateblue', density = True)\n",
    "hist_20thru30_highlight, _, _ = ax[4].hist(notoutliers.DiscoveryTime[(notoutliers.name.str.contains('L50_')) & \n",
    "                                     (notoutliers.trialNum >= 19) & (notoutliers.trialNum <= 29)].values, \n",
    "           bins, orientation='horizontal', alpha = 0.7, color = 'darkorange', density = True)\n",
    "\n",
    "\n",
    "\n",
    "\n",
    "ax[0].set_title('Visits 0-10', size = 25)\n",
    "ax[1].set_title('Visits 5-15', size = 25)\n",
    "ax[2].set_title('Visits 10-20', size = 25)\n",
    "ax[3].set_title('Visits 15-25', size = 25)\n",
    "ax[4].set_title('Visits 20-30', size = 25)\n",
    "                                     \n",
    "\n",
    "\n",
    "\n",
    "ax[0].set_ylim(-2, 26)\n",
    "ax[0].set_ylabel('ExplorationTime (seconds)', size = 30, color = 'k')\n",
    "ax[0].set_xlim(0,.33)\n",
    "\n",
    "ax[0].tick_params(labelsize = 25, labelcolor = 'k')\n",
    "ax[1].tick_params(labelsize = 25, labelcolor = 'k')\n",
    "ax[2].tick_params(labelsize = 25, labelcolor = 'k')\n",
    "ax[3].tick_params(labelsize = 25, labelcolor = 'k')\n",
    "ax[4].tick_params(labelsize = 25, labelcolor = 'k')\n",
    "\n",
    "\n",
    "\n",
    "ax[0].text(0.067, 22, 'N =  ' + str(first_0thru10_low), color = 'indigo', weight = 'bold', size = 22)\n",
    "ax[0].text(0.067, 19, 'N =  ' + str(first_0thru10_high), color = 'orangered', weight = 'bold', size = 22)\n",
    "\n",
    "\n",
    "ax[1].text(0.067, 22, 'N =  ' + str(first_5thru15_low), color = 'indigo', weight = 'bold', size = 22)\n",
    "ax[1].text(0.067, 19, 'N =  ' + str(first_5thru15_high), color = 'orangered', weight = 'bold', size = 22)\n",
    "\n",
    "\n",
    "ax[2].text(0.067, 22, 'N =  ' + str(first_10thru20_low),  color = 'indigo', weight = 'bold',size = 22)\n",
    "ax[2].text(0.067, 19, 'N =  ' + str(first_10thru20_high), color = 'orangered', weight = 'bold', size = 22)\n",
    "\n",
    "\n",
    "ax[3].text(0.067, 22, 'N =  ' + str(first_15thru25_low), color = 'indigo', weight = 'bold', size = 22)\n",
    "ax[3].text(0.067, 19, 'N =  ' + str(first_15thru25_high), color = 'orangered', weight = 'bold', size = 22)\n",
    "\n",
    "\n",
    "ax[4].text(0.067, 22, 'N =  ' + str(first_20thru30_low), color = 'indigo', weight = 'bold', size = 22)\n",
    "ax[4].text(0.067, 19, 'N =  ' + str(first_20thru30_high), color = 'orangered', weight = 'bold', size = 22)\n",
    "\n",
    "\n",
    "\n",
    "                                         \n",
    "outpath_figg = r'C:\\Users\\Daniellab\\Desktop\\Light_level_videos_second_batch\\Data\\Stats'\n",
    "# plt.savefig(outpath_figg + \"\\\\\" + 'Visits_0-30.png')\n",
    "# if the plots are normalized to the total number of hits for each window then the size difference in the 20+seconds bin is due to a larger proportion of each condition being from the lower time bins as the moths learn"
   ]
  },
  {
   "cell_type": "code",
   "execution_count": 20,
   "metadata": {},
   "outputs": [],
   "source": [
    "def KL(P,Q, epsilon):\n",
    "# \"\"\" Epsilon is used here to avoid conditional code for\n",
    "# checking that neither P nor Q is equal to 0. \"\"\"\n",
    "     epsilon = 1e-20\n",
    "# You may want to instead make copies to avoid changing the np arrays.\n",
    "     P = P+epsilon\n",
    "     Q = Q+epsilon\n",
    "     \n",
    "     divergence = np.sum(P*np.log(P/Q))\n",
    "      \n",
    "     return divergence"
   ]
  },
  {
   "cell_type": "code",
   "execution_count": 21,
   "metadata": {},
   "outputs": [
    {
     "data": {
      "text/plain": [
       "1.2738979542135027"
      ]
     },
     "execution_count": 21,
     "metadata": {},
     "output_type": "execute_result"
    }
   ],
   "source": [
    "#Divergence for first 10 visits\n",
    "KL(hist_0thru10_lowlight, hist_0thru10_highlight, 1e-30)"
   ]
  },
  {
   "cell_type": "code",
   "execution_count": 22,
   "metadata": {},
   "outputs": [
    {
     "data": {
      "text/plain": [
       "0.18199006854473573"
      ]
     },
     "execution_count": 22,
     "metadata": {},
     "output_type": "execute_result"
    }
   ],
   "source": [
    "#Divergence for visits 5-15\n",
    "KL(hist_5thru15_lowlight, hist_5thru15_highlight, 1e-30)"
   ]
  },
  {
   "cell_type": "code",
   "execution_count": 23,
   "metadata": {},
   "outputs": [
    {
     "data": {
      "text/plain": [
       "1.6772614736208655"
      ]
     },
     "execution_count": 23,
     "metadata": {},
     "output_type": "execute_result"
    }
   ],
   "source": [
    "#Divergence for visits 10-20\n",
    "KL(hist_10thru20_lowlight, hist_10thru20_highlight, 1e-30)"
   ]
  },
  {
   "cell_type": "code",
   "execution_count": 24,
   "metadata": {},
   "outputs": [
    {
     "data": {
      "text/plain": [
       "2.838914476914114"
      ]
     },
     "execution_count": 24,
     "metadata": {},
     "output_type": "execute_result"
    }
   ],
   "source": [
    "#Divergence for visits 15-25\n",
    "KL(hist_15thru25_lowlight, hist_15thru25_highlight, 1e-30)"
   ]
  },
  {
   "cell_type": "code",
   "execution_count": 25,
   "metadata": {},
   "outputs": [
    {
     "data": {
      "text/plain": [
       "Ks_2sampResult(statistic=0.23333333333333334, pvalue=0.34203417981555007)"
      ]
     },
     "execution_count": 25,
     "metadata": {},
     "output_type": "execute_result"
    }
   ],
   "source": [
    "#Significance for first 10 visits\n",
    "stats.ks_2samp(hist_0thru10_lowlight,hist_0thru10_highlight)"
   ]
  },
  {
   "cell_type": "code",
   "execution_count": 26,
   "metadata": {},
   "outputs": [
    {
     "data": {
      "text/plain": [
       "Ks_2sampResult(statistic=0.16666666666666663, pvalue=0.7600465102607566)"
      ]
     },
     "execution_count": 26,
     "metadata": {},
     "output_type": "execute_result"
    }
   ],
   "source": [
    "#Significance for visits 5-15\n",
    "stats.ks_2samp(hist_5thru15_lowlight, hist_5thru15_highlight)"
   ]
  },
  {
   "cell_type": "code",
   "execution_count": 27,
   "metadata": {},
   "outputs": [
    {
     "data": {
      "text/plain": [
       "Ks_2sampResult(statistic=0.13333333333333341, pvalue=0.9360085851041476)"
      ]
     },
     "execution_count": 27,
     "metadata": {},
     "output_type": "execute_result"
    }
   ],
   "source": [
    "#Significance for visits 10-20\n",
    "stats.ks_2samp(hist_10thru20_lowlight,hist_10thru20_highlight)"
   ]
  },
  {
   "cell_type": "code",
   "execution_count": 28,
   "metadata": {},
   "outputs": [
    {
     "data": {
      "text/plain": [
       "Ks_2sampResult(statistic=0.16666666666666663, pvalue=0.7600465102607566)"
      ]
     },
     "execution_count": 28,
     "metadata": {},
     "output_type": "execute_result"
    }
   ],
   "source": [
    "#Significance for visits 15-25\n",
    "stats.ks_2samp(hist_15thru25_lowlight, hist_15thru25_highlight)"
   ]
  },
  {
   "cell_type": "code",
   "execution_count": 29,
   "metadata": {},
   "outputs": [
    {
     "data": {
      "text/html": [
       "<div>\n",
       "<style scoped>\n",
       "    .dataframe tbody tr th:only-of-type {\n",
       "        vertical-align: middle;\n",
       "    }\n",
       "\n",
       "    .dataframe tbody tr th {\n",
       "        vertical-align: top;\n",
       "    }\n",
       "\n",
       "    .dataframe thead th {\n",
       "        text-align: right;\n",
       "    }\n",
       "</style>\n",
       "<table border=\"1\" class=\"dataframe\">\n",
       "  <thead>\n",
       "    <tr style=\"text-align: right;\">\n",
       "      <th></th>\n",
       "      <th>Unnamed: 0</th>\n",
       "      <th>Unnamed: 0.1</th>\n",
       "      <th>In_Frame</th>\n",
       "      <th>Out_Frame</th>\n",
       "      <th>Proboscis</th>\n",
       "      <th>DiscoveryTime</th>\n",
       "      <th>trialNum</th>\n",
       "      <th>name</th>\n",
       "      <th>zscore</th>\n",
       "      <th>outlier_ID</th>\n",
       "      <th>lightLevel</th>\n",
       "    </tr>\n",
       "  </thead>\n",
       "  <tbody>\n",
       "    <tr>\n",
       "      <th>7</th>\n",
       "      <td>7</td>\n",
       "      <td>7</td>\n",
       "      <td>45940</td>\n",
       "      <td>52780</td>\n",
       "      <td>46222.0</td>\n",
       "      <td>2.82</td>\n",
       "      <td>0</td>\n",
       "      <td>L0.1_c-3_m20</td>\n",
       "      <td>0.181742</td>\n",
       "      <td>False</td>\n",
       "      <td>low</td>\n",
       "    </tr>\n",
       "    <tr>\n",
       "      <th>8</th>\n",
       "      <td>8</td>\n",
       "      <td>8</td>\n",
       "      <td>55058</td>\n",
       "      <td>60805</td>\n",
       "      <td>55341.0</td>\n",
       "      <td>2.83</td>\n",
       "      <td>1</td>\n",
       "      <td>L0.1_c-3_m20</td>\n",
       "      <td>0.179421</td>\n",
       "      <td>False</td>\n",
       "      <td>low</td>\n",
       "    </tr>\n",
       "    <tr>\n",
       "      <th>9</th>\n",
       "      <td>9</td>\n",
       "      <td>9</td>\n",
       "      <td>67612</td>\n",
       "      <td>69165</td>\n",
       "      <td>67744.0</td>\n",
       "      <td>1.32</td>\n",
       "      <td>2</td>\n",
       "      <td>L0.1_c-3_m20</td>\n",
       "      <td>0.529907</td>\n",
       "      <td>False</td>\n",
       "      <td>low</td>\n",
       "    </tr>\n",
       "    <tr>\n",
       "      <th>10</th>\n",
       "      <td>10</td>\n",
       "      <td>10</td>\n",
       "      <td>72461</td>\n",
       "      <td>74177</td>\n",
       "      <td>72606.0</td>\n",
       "      <td>1.45</td>\n",
       "      <td>3</td>\n",
       "      <td>L0.1_c-3_m20</td>\n",
       "      <td>0.499733</td>\n",
       "      <td>False</td>\n",
       "      <td>low</td>\n",
       "    </tr>\n",
       "    <tr>\n",
       "      <th>11</th>\n",
       "      <td>11</td>\n",
       "      <td>11</td>\n",
       "      <td>77368</td>\n",
       "      <td>78421</td>\n",
       "      <td>77499.0</td>\n",
       "      <td>1.31</td>\n",
       "      <td>4</td>\n",
       "      <td>L0.1_c-3_m20</td>\n",
       "      <td>0.532228</td>\n",
       "      <td>False</td>\n",
       "      <td>low</td>\n",
       "    </tr>\n",
       "    <tr>\n",
       "      <th>13</th>\n",
       "      <td>13</td>\n",
       "      <td>13</td>\n",
       "      <td>79366</td>\n",
       "      <td>79850</td>\n",
       "      <td>79549.0</td>\n",
       "      <td>1.83</td>\n",
       "      <td>6</td>\n",
       "      <td>L0.1_c-3_m20</td>\n",
       "      <td>0.411531</td>\n",
       "      <td>False</td>\n",
       "      <td>low</td>\n",
       "    </tr>\n",
       "    <tr>\n",
       "      <th>14</th>\n",
       "      <td>14</td>\n",
       "      <td>14</td>\n",
       "      <td>81797</td>\n",
       "      <td>83532</td>\n",
       "      <td>82035.0</td>\n",
       "      <td>2.38</td>\n",
       "      <td>7</td>\n",
       "      <td>L0.1_c-3_m20</td>\n",
       "      <td>0.283871</td>\n",
       "      <td>False</td>\n",
       "      <td>low</td>\n",
       "    </tr>\n",
       "    <tr>\n",
       "      <th>15</th>\n",
       "      <td>15</td>\n",
       "      <td>15</td>\n",
       "      <td>84740</td>\n",
       "      <td>86049</td>\n",
       "      <td>84899.0</td>\n",
       "      <td>1.59</td>\n",
       "      <td>8</td>\n",
       "      <td>L0.1_c-3_m20</td>\n",
       "      <td>0.467238</td>\n",
       "      <td>False</td>\n",
       "      <td>low</td>\n",
       "    </tr>\n",
       "    <tr>\n",
       "      <th>16</th>\n",
       "      <td>16</td>\n",
       "      <td>16</td>\n",
       "      <td>86097</td>\n",
       "      <td>86698</td>\n",
       "      <td>86265.0</td>\n",
       "      <td>1.68</td>\n",
       "      <td>9</td>\n",
       "      <td>L0.1_c-3_m20</td>\n",
       "      <td>0.446348</td>\n",
       "      <td>False</td>\n",
       "      <td>low</td>\n",
       "    </tr>\n",
       "    <tr>\n",
       "      <th>17</th>\n",
       "      <td>17</td>\n",
       "      <td>17</td>\n",
       "      <td>87508</td>\n",
       "      <td>88472</td>\n",
       "      <td>87835.0</td>\n",
       "      <td>3.27</td>\n",
       "      <td>10</td>\n",
       "      <td>L0.1_c-3_m20</td>\n",
       "      <td>0.077293</td>\n",
       "      <td>False</td>\n",
       "      <td>low</td>\n",
       "    </tr>\n",
       "    <tr>\n",
       "      <th>18</th>\n",
       "      <td>18</td>\n",
       "      <td>18</td>\n",
       "      <td>90422</td>\n",
       "      <td>91102</td>\n",
       "      <td>90596.0</td>\n",
       "      <td>1.74</td>\n",
       "      <td>11</td>\n",
       "      <td>L0.1_c-3_m20</td>\n",
       "      <td>0.432421</td>\n",
       "      <td>False</td>\n",
       "      <td>low</td>\n",
       "    </tr>\n",
       "    <tr>\n",
       "      <th>19</th>\n",
       "      <td>19</td>\n",
       "      <td>19</td>\n",
       "      <td>91591</td>\n",
       "      <td>91969</td>\n",
       "      <td>91724.0</td>\n",
       "      <td>1.33</td>\n",
       "      <td>12</td>\n",
       "      <td>L0.1_c-3_m20</td>\n",
       "      <td>0.527586</td>\n",
       "      <td>False</td>\n",
       "      <td>low</td>\n",
       "    </tr>\n",
       "    <tr>\n",
       "      <th>20</th>\n",
       "      <td>20</td>\n",
       "      <td>20</td>\n",
       "      <td>92356</td>\n",
       "      <td>92660</td>\n",
       "      <td>92524.0</td>\n",
       "      <td>1.68</td>\n",
       "      <td>13</td>\n",
       "      <td>L0.1_c-3_m20</td>\n",
       "      <td>0.446348</td>\n",
       "      <td>False</td>\n",
       "      <td>low</td>\n",
       "    </tr>\n",
       "    <tr>\n",
       "      <th>21</th>\n",
       "      <td>21</td>\n",
       "      <td>21</td>\n",
       "      <td>95593</td>\n",
       "      <td>96576</td>\n",
       "      <td>95862.0</td>\n",
       "      <td>2.69</td>\n",
       "      <td>14</td>\n",
       "      <td>L0.1_c-3_m20</td>\n",
       "      <td>0.211917</td>\n",
       "      <td>False</td>\n",
       "      <td>low</td>\n",
       "    </tr>\n",
       "    <tr>\n",
       "      <th>22</th>\n",
       "      <td>22</td>\n",
       "      <td>22</td>\n",
       "      <td>97948</td>\n",
       "      <td>98659</td>\n",
       "      <td>98128.0</td>\n",
       "      <td>1.80</td>\n",
       "      <td>15</td>\n",
       "      <td>L0.1_c-3_m20</td>\n",
       "      <td>0.418495</td>\n",
       "      <td>False</td>\n",
       "      <td>low</td>\n",
       "    </tr>\n",
       "    <tr>\n",
       "      <th>23</th>\n",
       "      <td>23</td>\n",
       "      <td>23</td>\n",
       "      <td>98969</td>\n",
       "      <td>99406</td>\n",
       "      <td>99173.0</td>\n",
       "      <td>2.04</td>\n",
       "      <td>16</td>\n",
       "      <td>L0.1_c-3_m20</td>\n",
       "      <td>0.362788</td>\n",
       "      <td>False</td>\n",
       "      <td>low</td>\n",
       "    </tr>\n",
       "    <tr>\n",
       "      <th>24</th>\n",
       "      <td>24</td>\n",
       "      <td>24</td>\n",
       "      <td>103248</td>\n",
       "      <td>104296</td>\n",
       "      <td>103369.0</td>\n",
       "      <td>1.21</td>\n",
       "      <td>17</td>\n",
       "      <td>L0.1_c-3_m20</td>\n",
       "      <td>0.555439</td>\n",
       "      <td>False</td>\n",
       "      <td>low</td>\n",
       "    </tr>\n",
       "    <tr>\n",
       "      <th>25</th>\n",
       "      <td>25</td>\n",
       "      <td>25</td>\n",
       "      <td>106914</td>\n",
       "      <td>107556</td>\n",
       "      <td>107084.0</td>\n",
       "      <td>1.70</td>\n",
       "      <td>18</td>\n",
       "      <td>L0.1_c-3_m20</td>\n",
       "      <td>0.441706</td>\n",
       "      <td>False</td>\n",
       "      <td>low</td>\n",
       "    </tr>\n",
       "    <tr>\n",
       "      <th>26</th>\n",
       "      <td>26</td>\n",
       "      <td>26</td>\n",
       "      <td>111635</td>\n",
       "      <td>112774</td>\n",
       "      <td>111869.0</td>\n",
       "      <td>2.34</td>\n",
       "      <td>19</td>\n",
       "      <td>L0.1_c-3_m20</td>\n",
       "      <td>0.293155</td>\n",
       "      <td>False</td>\n",
       "      <td>low</td>\n",
       "    </tr>\n",
       "    <tr>\n",
       "      <th>27</th>\n",
       "      <td>27</td>\n",
       "      <td>27</td>\n",
       "      <td>113473</td>\n",
       "      <td>114218</td>\n",
       "      <td>113848.0</td>\n",
       "      <td>3.75</td>\n",
       "      <td>20</td>\n",
       "      <td>L0.1_c-3_m20</td>\n",
       "      <td>0.034120</td>\n",
       "      <td>False</td>\n",
       "      <td>low</td>\n",
       "    </tr>\n",
       "    <tr>\n",
       "      <th>28</th>\n",
       "      <td>28</td>\n",
       "      <td>28</td>\n",
       "      <td>116800</td>\n",
       "      <td>117757</td>\n",
       "      <td>116903.0</td>\n",
       "      <td>1.03</td>\n",
       "      <td>21</td>\n",
       "      <td>L0.1_c-3_m20</td>\n",
       "      <td>0.597219</td>\n",
       "      <td>False</td>\n",
       "      <td>low</td>\n",
       "    </tr>\n",
       "    <tr>\n",
       "      <th>29</th>\n",
       "      <td>29</td>\n",
       "      <td>29</td>\n",
       "      <td>120663</td>\n",
       "      <td>121371</td>\n",
       "      <td>120800.0</td>\n",
       "      <td>1.37</td>\n",
       "      <td>22</td>\n",
       "      <td>L0.1_c-3_m20</td>\n",
       "      <td>0.518302</td>\n",
       "      <td>False</td>\n",
       "      <td>low</td>\n",
       "    </tr>\n",
       "    <tr>\n",
       "      <th>30</th>\n",
       "      <td>30</td>\n",
       "      <td>30</td>\n",
       "      <td>121765</td>\n",
       "      <td>122230</td>\n",
       "      <td>121859.0</td>\n",
       "      <td>0.94</td>\n",
       "      <td>23</td>\n",
       "      <td>L0.1_c-3_m20</td>\n",
       "      <td>0.618109</td>\n",
       "      <td>False</td>\n",
       "      <td>low</td>\n",
       "    </tr>\n",
       "    <tr>\n",
       "      <th>31</th>\n",
       "      <td>31</td>\n",
       "      <td>31</td>\n",
       "      <td>125471</td>\n",
       "      <td>126185</td>\n",
       "      <td>125673.0</td>\n",
       "      <td>2.02</td>\n",
       "      <td>24</td>\n",
       "      <td>L0.1_c-3_m20</td>\n",
       "      <td>0.367430</td>\n",
       "      <td>False</td>\n",
       "      <td>low</td>\n",
       "    </tr>\n",
       "    <tr>\n",
       "      <th>32</th>\n",
       "      <td>32</td>\n",
       "      <td>32</td>\n",
       "      <td>126396</td>\n",
       "      <td>126776</td>\n",
       "      <td>126531.0</td>\n",
       "      <td>1.35</td>\n",
       "      <td>25</td>\n",
       "      <td>L0.1_c-3_m20</td>\n",
       "      <td>0.522944</td>\n",
       "      <td>False</td>\n",
       "      <td>low</td>\n",
       "    </tr>\n",
       "    <tr>\n",
       "      <th>34</th>\n",
       "      <td>34</td>\n",
       "      <td>34</td>\n",
       "      <td>135246</td>\n",
       "      <td>136023</td>\n",
       "      <td>135611.0</td>\n",
       "      <td>3.65</td>\n",
       "      <td>27</td>\n",
       "      <td>L0.1_c-3_m20</td>\n",
       "      <td>0.010909</td>\n",
       "      <td>False</td>\n",
       "      <td>low</td>\n",
       "    </tr>\n",
       "    <tr>\n",
       "      <th>35</th>\n",
       "      <td>35</td>\n",
       "      <td>35</td>\n",
       "      <td>137250</td>\n",
       "      <td>138022</td>\n",
       "      <td>137571.0</td>\n",
       "      <td>3.21</td>\n",
       "      <td>28</td>\n",
       "      <td>L0.1_c-3_m20</td>\n",
       "      <td>0.091219</td>\n",
       "      <td>False</td>\n",
       "      <td>low</td>\n",
       "    </tr>\n",
       "    <tr>\n",
       "      <th>37</th>\n",
       "      <td>37</td>\n",
       "      <td>37</td>\n",
       "      <td>140498</td>\n",
       "      <td>141032</td>\n",
       "      <td>140580.0</td>\n",
       "      <td>0.82</td>\n",
       "      <td>30</td>\n",
       "      <td>L0.1_c-3_m20</td>\n",
       "      <td>0.645962</td>\n",
       "      <td>False</td>\n",
       "      <td>low</td>\n",
       "    </tr>\n",
       "    <tr>\n",
       "      <th>38</th>\n",
       "      <td>38</td>\n",
       "      <td>38</td>\n",
       "      <td>142582</td>\n",
       "      <td>143335</td>\n",
       "      <td>142889.0</td>\n",
       "      <td>3.07</td>\n",
       "      <td>31</td>\n",
       "      <td>L0.1_c-3_m20</td>\n",
       "      <td>0.123715</td>\n",
       "      <td>False</td>\n",
       "      <td>low</td>\n",
       "    </tr>\n",
       "    <tr>\n",
       "      <th>39</th>\n",
       "      <td>39</td>\n",
       "      <td>39</td>\n",
       "      <td>144005</td>\n",
       "      <td>144728</td>\n",
       "      <td>144197.0</td>\n",
       "      <td>1.92</td>\n",
       "      <td>32</td>\n",
       "      <td>L0.1_c-3_m20</td>\n",
       "      <td>0.390641</td>\n",
       "      <td>False</td>\n",
       "      <td>low</td>\n",
       "    </tr>\n",
       "    <tr>\n",
       "      <th>...</th>\n",
       "      <td>...</td>\n",
       "      <td>...</td>\n",
       "      <td>...</td>\n",
       "      <td>...</td>\n",
       "      <td>...</td>\n",
       "      <td>...</td>\n",
       "      <td>...</td>\n",
       "      <td>...</td>\n",
       "      <td>...</td>\n",
       "      <td>...</td>\n",
       "      <td>...</td>\n",
       "    </tr>\n",
       "    <tr>\n",
       "      <th>947</th>\n",
       "      <td>282</td>\n",
       "      <td>282</td>\n",
       "      <td>140921</td>\n",
       "      <td>141192</td>\n",
       "      <td>141000.0</td>\n",
       "      <td>0.79</td>\n",
       "      <td>29</td>\n",
       "      <td>L50_c-3_m39</td>\n",
       "      <td>0.652926</td>\n",
       "      <td>False</td>\n",
       "      <td>high</td>\n",
       "    </tr>\n",
       "    <tr>\n",
       "      <th>948</th>\n",
       "      <td>283</td>\n",
       "      <td>283</td>\n",
       "      <td>141924</td>\n",
       "      <td>142802</td>\n",
       "      <td>142281.0</td>\n",
       "      <td>3.57</td>\n",
       "      <td>30</td>\n",
       "      <td>L50_c-3_m39</td>\n",
       "      <td>0.007660</td>\n",
       "      <td>False</td>\n",
       "      <td>high</td>\n",
       "    </tr>\n",
       "    <tr>\n",
       "      <th>949</th>\n",
       "      <td>284</td>\n",
       "      <td>284</td>\n",
       "      <td>146433</td>\n",
       "      <td>147479</td>\n",
       "      <td>146602.0</td>\n",
       "      <td>1.69</td>\n",
       "      <td>31</td>\n",
       "      <td>L50_c-3_m39</td>\n",
       "      <td>0.444027</td>\n",
       "      <td>False</td>\n",
       "      <td>high</td>\n",
       "    </tr>\n",
       "    <tr>\n",
       "      <th>950</th>\n",
       "      <td>285</td>\n",
       "      <td>285</td>\n",
       "      <td>23064</td>\n",
       "      <td>24031</td>\n",
       "      <td>23285.0</td>\n",
       "      <td>2.21</td>\n",
       "      <td>0</td>\n",
       "      <td>L50_c-3_m45</td>\n",
       "      <td>0.323329</td>\n",
       "      <td>False</td>\n",
       "      <td>high</td>\n",
       "    </tr>\n",
       "    <tr>\n",
       "      <th>951</th>\n",
       "      <td>286</td>\n",
       "      <td>286</td>\n",
       "      <td>24243</td>\n",
       "      <td>25796</td>\n",
       "      <td>24456.0</td>\n",
       "      <td>2.13</td>\n",
       "      <td>1</td>\n",
       "      <td>L50_c-3_m45</td>\n",
       "      <td>0.341898</td>\n",
       "      <td>False</td>\n",
       "      <td>high</td>\n",
       "    </tr>\n",
       "    <tr>\n",
       "      <th>952</th>\n",
       "      <td>287</td>\n",
       "      <td>287</td>\n",
       "      <td>25863</td>\n",
       "      <td>27959</td>\n",
       "      <td>26441.0</td>\n",
       "      <td>5.78</td>\n",
       "      <td>2</td>\n",
       "      <td>L50_c-3_m45</td>\n",
       "      <td>0.505304</td>\n",
       "      <td>False</td>\n",
       "      <td>high</td>\n",
       "    </tr>\n",
       "    <tr>\n",
       "      <th>953</th>\n",
       "      <td>288</td>\n",
       "      <td>288</td>\n",
       "      <td>28363</td>\n",
       "      <td>29830</td>\n",
       "      <td>28491.0</td>\n",
       "      <td>1.28</td>\n",
       "      <td>3</td>\n",
       "      <td>L50_c-3_m45</td>\n",
       "      <td>0.539192</td>\n",
       "      <td>False</td>\n",
       "      <td>high</td>\n",
       "    </tr>\n",
       "    <tr>\n",
       "      <th>965</th>\n",
       "      <td>300</td>\n",
       "      <td>300</td>\n",
       "      <td>19189</td>\n",
       "      <td>24269</td>\n",
       "      <td>20794.0</td>\n",
       "      <td>16.05</td>\n",
       "      <td>1</td>\n",
       "      <td>L50_c-3_m49</td>\n",
       "      <td>2.889075</td>\n",
       "      <td>False</td>\n",
       "      <td>high</td>\n",
       "    </tr>\n",
       "    <tr>\n",
       "      <th>967</th>\n",
       "      <td>302</td>\n",
       "      <td>302</td>\n",
       "      <td>26969</td>\n",
       "      <td>29517</td>\n",
       "      <td>27452.0</td>\n",
       "      <td>4.83</td>\n",
       "      <td>3</td>\n",
       "      <td>L50_c-3_m49</td>\n",
       "      <td>0.284799</td>\n",
       "      <td>False</td>\n",
       "      <td>high</td>\n",
       "    </tr>\n",
       "    <tr>\n",
       "      <th>968</th>\n",
       "      <td>303</td>\n",
       "      <td>303</td>\n",
       "      <td>31654</td>\n",
       "      <td>32531</td>\n",
       "      <td>31785.0</td>\n",
       "      <td>1.31</td>\n",
       "      <td>4</td>\n",
       "      <td>L50_c-3_m49</td>\n",
       "      <td>0.532228</td>\n",
       "      <td>False</td>\n",
       "      <td>high</td>\n",
       "    </tr>\n",
       "    <tr>\n",
       "      <th>969</th>\n",
       "      <td>304</td>\n",
       "      <td>304</td>\n",
       "      <td>32565</td>\n",
       "      <td>33595</td>\n",
       "      <td>33311.0</td>\n",
       "      <td>7.46</td>\n",
       "      <td>5</td>\n",
       "      <td>L50_c-3_m49</td>\n",
       "      <td>0.895249</td>\n",
       "      <td>False</td>\n",
       "      <td>high</td>\n",
       "    </tr>\n",
       "    <tr>\n",
       "      <th>970</th>\n",
       "      <td>305</td>\n",
       "      <td>305</td>\n",
       "      <td>34545</td>\n",
       "      <td>36205</td>\n",
       "      <td>34762.0</td>\n",
       "      <td>2.17</td>\n",
       "      <td>6</td>\n",
       "      <td>L50_c-3_m49</td>\n",
       "      <td>0.332614</td>\n",
       "      <td>False</td>\n",
       "      <td>high</td>\n",
       "    </tr>\n",
       "    <tr>\n",
       "      <th>971</th>\n",
       "      <td>306</td>\n",
       "      <td>306</td>\n",
       "      <td>37207</td>\n",
       "      <td>38495</td>\n",
       "      <td>37248.0</td>\n",
       "      <td>0.41</td>\n",
       "      <td>7</td>\n",
       "      <td>L50_c-3_m49</td>\n",
       "      <td>0.741128</td>\n",
       "      <td>False</td>\n",
       "      <td>high</td>\n",
       "    </tr>\n",
       "    <tr>\n",
       "      <th>972</th>\n",
       "      <td>307</td>\n",
       "      <td>307</td>\n",
       "      <td>40542</td>\n",
       "      <td>41712</td>\n",
       "      <td>40774.0</td>\n",
       "      <td>2.32</td>\n",
       "      <td>8</td>\n",
       "      <td>L50_c-3_m49</td>\n",
       "      <td>0.297797</td>\n",
       "      <td>False</td>\n",
       "      <td>high</td>\n",
       "    </tr>\n",
       "    <tr>\n",
       "      <th>973</th>\n",
       "      <td>308</td>\n",
       "      <td>308</td>\n",
       "      <td>44167</td>\n",
       "      <td>45384</td>\n",
       "      <td>44714.0</td>\n",
       "      <td>5.47</td>\n",
       "      <td>9</td>\n",
       "      <td>L50_c-3_m49</td>\n",
       "      <td>0.433350</td>\n",
       "      <td>False</td>\n",
       "      <td>high</td>\n",
       "    </tr>\n",
       "    <tr>\n",
       "      <th>975</th>\n",
       "      <td>310</td>\n",
       "      <td>310</td>\n",
       "      <td>50772</td>\n",
       "      <td>51808</td>\n",
       "      <td>50908.0</td>\n",
       "      <td>1.36</td>\n",
       "      <td>11</td>\n",
       "      <td>L50_c-3_m49</td>\n",
       "      <td>0.520623</td>\n",
       "      <td>False</td>\n",
       "      <td>high</td>\n",
       "    </tr>\n",
       "    <tr>\n",
       "      <th>976</th>\n",
       "      <td>311</td>\n",
       "      <td>311</td>\n",
       "      <td>52583</td>\n",
       "      <td>53600</td>\n",
       "      <td>53034.0</td>\n",
       "      <td>4.51</td>\n",
       "      <td>12</td>\n",
       "      <td>L50_c-3_m49</td>\n",
       "      <td>0.210524</td>\n",
       "      <td>False</td>\n",
       "      <td>high</td>\n",
       "    </tr>\n",
       "    <tr>\n",
       "      <th>977</th>\n",
       "      <td>312</td>\n",
       "      <td>312</td>\n",
       "      <td>56293</td>\n",
       "      <td>57201</td>\n",
       "      <td>56358.0</td>\n",
       "      <td>0.65</td>\n",
       "      <td>13</td>\n",
       "      <td>L50_c-3_m49</td>\n",
       "      <td>0.685421</td>\n",
       "      <td>False</td>\n",
       "      <td>high</td>\n",
       "    </tr>\n",
       "    <tr>\n",
       "      <th>978</th>\n",
       "      <td>313</td>\n",
       "      <td>313</td>\n",
       "      <td>61878</td>\n",
       "      <td>63486</td>\n",
       "      <td>62514.0</td>\n",
       "      <td>6.36</td>\n",
       "      <td>14</td>\n",
       "      <td>L50_c-3_m49</td>\n",
       "      <td>0.639928</td>\n",
       "      <td>False</td>\n",
       "      <td>high</td>\n",
       "    </tr>\n",
       "    <tr>\n",
       "      <th>979</th>\n",
       "      <td>314</td>\n",
       "      <td>314</td>\n",
       "      <td>63574</td>\n",
       "      <td>63914</td>\n",
       "      <td>63759.0</td>\n",
       "      <td>1.85</td>\n",
       "      <td>15</td>\n",
       "      <td>L50_c-3_m49</td>\n",
       "      <td>0.406889</td>\n",
       "      <td>False</td>\n",
       "      <td>high</td>\n",
       "    </tr>\n",
       "    <tr>\n",
       "      <th>989</th>\n",
       "      <td>324</td>\n",
       "      <td>324</td>\n",
       "      <td>13149</td>\n",
       "      <td>14779</td>\n",
       "      <td>13649.0</td>\n",
       "      <td>5.00</td>\n",
       "      <td>2</td>\n",
       "      <td>L50_c-3_m51</td>\n",
       "      <td>0.324258</td>\n",
       "      <td>False</td>\n",
       "      <td>high</td>\n",
       "    </tr>\n",
       "    <tr>\n",
       "      <th>1004</th>\n",
       "      <td>339</td>\n",
       "      <td>339</td>\n",
       "      <td>35112</td>\n",
       "      <td>39778</td>\n",
       "      <td>35507.0</td>\n",
       "      <td>3.95</td>\n",
       "      <td>2</td>\n",
       "      <td>L50_c-3_m6</td>\n",
       "      <td>0.080542</td>\n",
       "      <td>False</td>\n",
       "      <td>high</td>\n",
       "    </tr>\n",
       "    <tr>\n",
       "      <th>1005</th>\n",
       "      <td>340</td>\n",
       "      <td>340</td>\n",
       "      <td>39814</td>\n",
       "      <td>48702</td>\n",
       "      <td>42043.0</td>\n",
       "      <td>22.29</td>\n",
       "      <td>3</td>\n",
       "      <td>L50_c-3_m6</td>\n",
       "      <td>4.337442</td>\n",
       "      <td>False</td>\n",
       "      <td>high</td>\n",
       "    </tr>\n",
       "    <tr>\n",
       "      <th>1006</th>\n",
       "      <td>341</td>\n",
       "      <td>341</td>\n",
       "      <td>53299</td>\n",
       "      <td>62635</td>\n",
       "      <td>53678.0</td>\n",
       "      <td>3.79</td>\n",
       "      <td>4</td>\n",
       "      <td>L50_c-3_m6</td>\n",
       "      <td>0.043405</td>\n",
       "      <td>False</td>\n",
       "      <td>high</td>\n",
       "    </tr>\n",
       "    <tr>\n",
       "      <th>1007</th>\n",
       "      <td>342</td>\n",
       "      <td>342</td>\n",
       "      <td>62807</td>\n",
       "      <td>64004</td>\n",
       "      <td>62907.0</td>\n",
       "      <td>1.00</td>\n",
       "      <td>5</td>\n",
       "      <td>L50_c-3_m6</td>\n",
       "      <td>0.604183</td>\n",
       "      <td>False</td>\n",
       "      <td>high</td>\n",
       "    </tr>\n",
       "    <tr>\n",
       "      <th>1008</th>\n",
       "      <td>343</td>\n",
       "      <td>343</td>\n",
       "      <td>67264</td>\n",
       "      <td>73591</td>\n",
       "      <td>68835.0</td>\n",
       "      <td>15.71</td>\n",
       "      <td>6</td>\n",
       "      <td>L50_c-3_m6</td>\n",
       "      <td>2.810157</td>\n",
       "      <td>False</td>\n",
       "      <td>high</td>\n",
       "    </tr>\n",
       "    <tr>\n",
       "      <th>1009</th>\n",
       "      <td>344</td>\n",
       "      <td>344</td>\n",
       "      <td>73630</td>\n",
       "      <td>74462</td>\n",
       "      <td>73799.0</td>\n",
       "      <td>1.69</td>\n",
       "      <td>7</td>\n",
       "      <td>L50_c-3_m6</td>\n",
       "      <td>0.444027</td>\n",
       "      <td>False</td>\n",
       "      <td>high</td>\n",
       "    </tr>\n",
       "    <tr>\n",
       "      <th>1010</th>\n",
       "      <td>345</td>\n",
       "      <td>345</td>\n",
       "      <td>34638</td>\n",
       "      <td>36456</td>\n",
       "      <td>35273.0</td>\n",
       "      <td>6.35</td>\n",
       "      <td>0</td>\n",
       "      <td>L50_c-3_m9</td>\n",
       "      <td>0.637606</td>\n",
       "      <td>False</td>\n",
       "      <td>high</td>\n",
       "    </tr>\n",
       "    <tr>\n",
       "      <th>1011</th>\n",
       "      <td>346</td>\n",
       "      <td>346</td>\n",
       "      <td>39710</td>\n",
       "      <td>40417</td>\n",
       "      <td>39782.0</td>\n",
       "      <td>0.72</td>\n",
       "      <td>1</td>\n",
       "      <td>L50_c-3_m9</td>\n",
       "      <td>0.669173</td>\n",
       "      <td>False</td>\n",
       "      <td>high</td>\n",
       "    </tr>\n",
       "    <tr>\n",
       "      <th>1013</th>\n",
       "      <td>348</td>\n",
       "      <td>348</td>\n",
       "      <td>42157</td>\n",
       "      <td>42902</td>\n",
       "      <td>42414.0</td>\n",
       "      <td>2.57</td>\n",
       "      <td>3</td>\n",
       "      <td>L50_c-3_m9</td>\n",
       "      <td>0.239770</td>\n",
       "      <td>False</td>\n",
       "      <td>high</td>\n",
       "    </tr>\n",
       "  </tbody>\n",
       "</table>\n",
       "<p>666 rows × 11 columns</p>\n",
       "</div>"
      ],
      "text/plain": [
       "      Unnamed: 0  Unnamed: 0.1  In_Frame  Out_Frame  Proboscis  DiscoveryTime  \\\n",
       "7              7             7     45940      52780    46222.0           2.82   \n",
       "8              8             8     55058      60805    55341.0           2.83   \n",
       "9              9             9     67612      69165    67744.0           1.32   \n",
       "10            10            10     72461      74177    72606.0           1.45   \n",
       "11            11            11     77368      78421    77499.0           1.31   \n",
       "13            13            13     79366      79850    79549.0           1.83   \n",
       "14            14            14     81797      83532    82035.0           2.38   \n",
       "15            15            15     84740      86049    84899.0           1.59   \n",
       "16            16            16     86097      86698    86265.0           1.68   \n",
       "17            17            17     87508      88472    87835.0           3.27   \n",
       "18            18            18     90422      91102    90596.0           1.74   \n",
       "19            19            19     91591      91969    91724.0           1.33   \n",
       "20            20            20     92356      92660    92524.0           1.68   \n",
       "21            21            21     95593      96576    95862.0           2.69   \n",
       "22            22            22     97948      98659    98128.0           1.80   \n",
       "23            23            23     98969      99406    99173.0           2.04   \n",
       "24            24            24    103248     104296   103369.0           1.21   \n",
       "25            25            25    106914     107556   107084.0           1.70   \n",
       "26            26            26    111635     112774   111869.0           2.34   \n",
       "27            27            27    113473     114218   113848.0           3.75   \n",
       "28            28            28    116800     117757   116903.0           1.03   \n",
       "29            29            29    120663     121371   120800.0           1.37   \n",
       "30            30            30    121765     122230   121859.0           0.94   \n",
       "31            31            31    125471     126185   125673.0           2.02   \n",
       "32            32            32    126396     126776   126531.0           1.35   \n",
       "34            34            34    135246     136023   135611.0           3.65   \n",
       "35            35            35    137250     138022   137571.0           3.21   \n",
       "37            37            37    140498     141032   140580.0           0.82   \n",
       "38            38            38    142582     143335   142889.0           3.07   \n",
       "39            39            39    144005     144728   144197.0           1.92   \n",
       "...          ...           ...       ...        ...        ...            ...   \n",
       "947          282           282    140921     141192   141000.0           0.79   \n",
       "948          283           283    141924     142802   142281.0           3.57   \n",
       "949          284           284    146433     147479   146602.0           1.69   \n",
       "950          285           285     23064      24031    23285.0           2.21   \n",
       "951          286           286     24243      25796    24456.0           2.13   \n",
       "952          287           287     25863      27959    26441.0           5.78   \n",
       "953          288           288     28363      29830    28491.0           1.28   \n",
       "965          300           300     19189      24269    20794.0          16.05   \n",
       "967          302           302     26969      29517    27452.0           4.83   \n",
       "968          303           303     31654      32531    31785.0           1.31   \n",
       "969          304           304     32565      33595    33311.0           7.46   \n",
       "970          305           305     34545      36205    34762.0           2.17   \n",
       "971          306           306     37207      38495    37248.0           0.41   \n",
       "972          307           307     40542      41712    40774.0           2.32   \n",
       "973          308           308     44167      45384    44714.0           5.47   \n",
       "975          310           310     50772      51808    50908.0           1.36   \n",
       "976          311           311     52583      53600    53034.0           4.51   \n",
       "977          312           312     56293      57201    56358.0           0.65   \n",
       "978          313           313     61878      63486    62514.0           6.36   \n",
       "979          314           314     63574      63914    63759.0           1.85   \n",
       "989          324           324     13149      14779    13649.0           5.00   \n",
       "1004         339           339     35112      39778    35507.0           3.95   \n",
       "1005         340           340     39814      48702    42043.0          22.29   \n",
       "1006         341           341     53299      62635    53678.0           3.79   \n",
       "1007         342           342     62807      64004    62907.0           1.00   \n",
       "1008         343           343     67264      73591    68835.0          15.71   \n",
       "1009         344           344     73630      74462    73799.0           1.69   \n",
       "1010         345           345     34638      36456    35273.0           6.35   \n",
       "1011         346           346     39710      40417    39782.0           0.72   \n",
       "1013         348           348     42157      42902    42414.0           2.57   \n",
       "\n",
       "      trialNum          name    zscore  outlier_ID lightLevel  \n",
       "7            0  L0.1_c-3_m20  0.181742       False        low  \n",
       "8            1  L0.1_c-3_m20  0.179421       False        low  \n",
       "9            2  L0.1_c-3_m20  0.529907       False        low  \n",
       "10           3  L0.1_c-3_m20  0.499733       False        low  \n",
       "11           4  L0.1_c-3_m20  0.532228       False        low  \n",
       "13           6  L0.1_c-3_m20  0.411531       False        low  \n",
       "14           7  L0.1_c-3_m20  0.283871       False        low  \n",
       "15           8  L0.1_c-3_m20  0.467238       False        low  \n",
       "16           9  L0.1_c-3_m20  0.446348       False        low  \n",
       "17          10  L0.1_c-3_m20  0.077293       False        low  \n",
       "18          11  L0.1_c-3_m20  0.432421       False        low  \n",
       "19          12  L0.1_c-3_m20  0.527586       False        low  \n",
       "20          13  L0.1_c-3_m20  0.446348       False        low  \n",
       "21          14  L0.1_c-3_m20  0.211917       False        low  \n",
       "22          15  L0.1_c-3_m20  0.418495       False        low  \n",
       "23          16  L0.1_c-3_m20  0.362788       False        low  \n",
       "24          17  L0.1_c-3_m20  0.555439       False        low  \n",
       "25          18  L0.1_c-3_m20  0.441706       False        low  \n",
       "26          19  L0.1_c-3_m20  0.293155       False        low  \n",
       "27          20  L0.1_c-3_m20  0.034120       False        low  \n",
       "28          21  L0.1_c-3_m20  0.597219       False        low  \n",
       "29          22  L0.1_c-3_m20  0.518302       False        low  \n",
       "30          23  L0.1_c-3_m20  0.618109       False        low  \n",
       "31          24  L0.1_c-3_m20  0.367430       False        low  \n",
       "32          25  L0.1_c-3_m20  0.522944       False        low  \n",
       "34          27  L0.1_c-3_m20  0.010909       False        low  \n",
       "35          28  L0.1_c-3_m20  0.091219       False        low  \n",
       "37          30  L0.1_c-3_m20  0.645962       False        low  \n",
       "38          31  L0.1_c-3_m20  0.123715       False        low  \n",
       "39          32  L0.1_c-3_m20  0.390641       False        low  \n",
       "...        ...           ...       ...         ...        ...  \n",
       "947         29   L50_c-3_m39  0.652926       False       high  \n",
       "948         30   L50_c-3_m39  0.007660       False       high  \n",
       "949         31   L50_c-3_m39  0.444027       False       high  \n",
       "950          0   L50_c-3_m45  0.323329       False       high  \n",
       "951          1   L50_c-3_m45  0.341898       False       high  \n",
       "952          2   L50_c-3_m45  0.505304       False       high  \n",
       "953          3   L50_c-3_m45  0.539192       False       high  \n",
       "965          1   L50_c-3_m49  2.889075       False       high  \n",
       "967          3   L50_c-3_m49  0.284799       False       high  \n",
       "968          4   L50_c-3_m49  0.532228       False       high  \n",
       "969          5   L50_c-3_m49  0.895249       False       high  \n",
       "970          6   L50_c-3_m49  0.332614       False       high  \n",
       "971          7   L50_c-3_m49  0.741128       False       high  \n",
       "972          8   L50_c-3_m49  0.297797       False       high  \n",
       "973          9   L50_c-3_m49  0.433350       False       high  \n",
       "975         11   L50_c-3_m49  0.520623       False       high  \n",
       "976         12   L50_c-3_m49  0.210524       False       high  \n",
       "977         13   L50_c-3_m49  0.685421       False       high  \n",
       "978         14   L50_c-3_m49  0.639928       False       high  \n",
       "979         15   L50_c-3_m49  0.406889       False       high  \n",
       "989          2   L50_c-3_m51  0.324258       False       high  \n",
       "1004         2    L50_c-3_m6  0.080542       False       high  \n",
       "1005         3    L50_c-3_m6  4.337442       False       high  \n",
       "1006         4    L50_c-3_m6  0.043405       False       high  \n",
       "1007         5    L50_c-3_m6  0.604183       False       high  \n",
       "1008         6    L50_c-3_m6  2.810157       False       high  \n",
       "1009         7    L50_c-3_m6  0.444027       False       high  \n",
       "1010         0    L50_c-3_m9  0.637606       False       high  \n",
       "1011         1    L50_c-3_m9  0.669173       False       high  \n",
       "1013         3    L50_c-3_m9  0.239770       False       high  \n",
       "\n",
       "[666 rows x 11 columns]"
      ]
     },
     "execution_count": 29,
     "metadata": {},
     "output_type": "execute_result"
    }
   ],
   "source": [
    "notoutliers"
   ]
  },
  {
   "cell_type": "code",
   "execution_count": 30,
   "metadata": {},
   "outputs": [
    {
     "data": {
      "text/plain": [
       "<matplotlib.axes._subplots.AxesSubplot at 0xc3e7390>"
      ]
     },
     "execution_count": 30,
     "metadata": {},
     "output_type": "execute_result"
    },
    {
     "data": {
      "image/png": "[encoded data removed]",
      "text/plain": [
       "<Figure size 432x288 with 1 Axes>"
      ]
     },
     "metadata": {
      "needs_background": "light"
     },
     "output_type": "display_data"
    }
   ],
   "source": [
    "import seaborn as sns\n",
    "df = sns.load_dataset('tips')\n",
    " \n",
    "# Grouped boxplot\n",
    "sns.boxplot(x=\"lightLevel\", y=\"DiscoveryTime\", data=notoutliers, palette=\"Set1\")\n",
    "# sns.plt.show()"
   ]
  },
  {
   "cell_type": "code",
   "execution_count": 31,
   "metadata": {},
   "outputs": [],
   "source": [
    "test = notoutliers"
   ]
  },
  {
   "cell_type": "code",
   "execution_count": 32,
   "metadata": {},
   "outputs": [],
   "source": [
    "First_3 = notoutliers[(notoutliers.trialNum >= 0) & (notoutliers.trialNum <= 3)]\n",
    "First_5 = notoutliers[(notoutliers.trialNum >= 4) & (notoutliers.trialNum <= 14)]\n",
    "First_10 = notoutliers[(notoutliers.trialNum >= 9) & (notoutliers.trialNum <= 19)]\n",
    "# Visits_15thru25 = notoutliers[(notoutliers.trialNum > 14) & (notoutliers.trialNum <= 24)]\n",
    "First_20 = notoutliers[(notoutliers.trialNum >= 14) & (notoutliers.trialNum <= 19)] \n",
    "First_30 = notoutliers[(notoutliers.trialNum >= 19) & (notoutliers.trialNum <= 29)]\n",
    "All = notoutliers[(notoutliers.trialNum >= 24) & (notoutliers.trialNum <= 34)]\n",
    "#look at data to see better lateTrial numbers"
   ]
  },
  {
   "cell_type": "code",
   "execution_count": 33,
   "metadata": {},
   "outputs": [],
   "source": [
    "def kde_scipy(x):\n",
    "    \"\"\"Kernel Density Estimation with Scipy\"\"\"\n",
    "    kde = gaussian_kde(x)\n",
    "    return kde"
   ]
  },
  {
   "cell_type": "code",
   "execution_count": 34,
   "metadata": {},
   "outputs": [],
   "source": [
    "alldata = First_3.DiscoveryTime/100\n",
    "_,bins = np.histogram(alldata, bins = 100, density = True)\n",
    "bin_center = 0.5*(bins[1:]+bins[:-1])\n",
    "bin_center = np.linspace(0,60,200)\n",
    "delta = np.diff(bin_center)[0]"
   ]
  },
  {
   "cell_type": "code",
   "execution_count": 35,
   "metadata": {},
   "outputs": [
    {
     "data": {
      "image/png": "[encoded data removed]",
      "text/plain": [
       "<Figure size 432x288 with 1 Axes>"
      ]
     },
     "metadata": {
      "needs_background": "light"
     },
     "output_type": "display_data"
    }
   ],
   "source": [
    "for flower, df in First_3.groupby('lightLevel'):\n",
    "    plt.hist(df.DiscoveryTime/100, histtype='bar', label = flower, alpha = 0.5)\n",
    "    plt.legend()"
   ]
  },
  {
   "cell_type": "code",
   "execution_count": 36,
   "metadata": {},
   "outputs": [
    {
     "data": {
      "image/png": "[encoded data removed]",
      "text/plain": [
       "<Figure size 432x288 with 1 Axes>"
      ]
     },
     "metadata": {
      "needs_background": "light"
     },
     "output_type": "display_data"
    }
   ],
   "source": [
    "for flower, df in First_5.groupby('lightLevel'):\n",
    "    plt.hist(df.DiscoveryTime/100, histtype='bar', label = flower, alpha = 0.5)\n",
    "    plt.legend()"
   ]
  },
  {
   "cell_type": "code",
   "execution_count": 37,
   "metadata": {},
   "outputs": [],
   "source": [
    "# alldata = First_10.DiscoveryTime/100\n",
    "# _,bins = np.histogram(alldata, bins = 100, density = True)\n",
    "# bin_center = 0.5*(bins[1:]+bins[:-1])\n",
    "# bin_center = np.linspace(0,60,200)\n",
    "# delta = np.diff(bin_center)[0]"
   ]
  },
  {
   "cell_type": "code",
   "execution_count": 38,
   "metadata": {},
   "outputs": [
    {
     "data": {
      "image/png": "[encoded data removed]",
      "text/plain": [
       "<Figure size 432x288 with 1 Axes>"
      ]
     },
     "metadata": {
      "needs_background": "light"
     },
     "output_type": "display_data"
    }
   ],
   "source": [
    "for flower, df in First_10.groupby('lightLevel'):\n",
    "    plt.hist(df.DiscoveryTime/100, histtype='bar', label = flower, alpha = 0.5)\n",
    "    plt.legend()"
   ]
  },
  {
   "cell_type": "code",
   "execution_count": 39,
   "metadata": {},
   "outputs": [],
   "source": [
    "# for flower, df in Visits_15thru25.groupby('lightLevel'):\n",
    "#     plt.hist(df.DiscoveryTime/100, histtype='bar', label = flower, alpha = 0.5)\n",
    "#     plt.legend()"
   ]
  },
  {
   "cell_type": "code",
   "execution_count": 40,
   "metadata": {},
   "outputs": [
    {
     "data": {
      "image/png": "[encoded data removed]",
      "text/plain": [
       "<Figure size 432x288 with 1 Axes>"
      ]
     },
     "metadata": {
      "needs_background": "light"
     },
     "output_type": "display_data"
    }
   ],
   "source": [
    "for flower, df in First_20.groupby('lightLevel'):\n",
    "    plt.hist(df.DiscoveryTime/100, histtype='bar', label = flower, alpha = 0.5)\n",
    "    plt.legend()"
   ]
  },
  {
   "cell_type": "code",
   "execution_count": 41,
   "metadata": {},
   "outputs": [
    {
     "data": {
      "image/png": "[encoded data removed]",
      "text/plain": [
       "<Figure size 432x288 with 1 Axes>"
      ]
     },
     "metadata": {
      "needs_background": "light"
     },
     "output_type": "display_data"
    }
   ],
   "source": [
    "for flower, df in First_30.groupby('lightLevel'):\n",
    "    plt.hist(df.DiscoveryTime/100, histtype='bar', label = flower, alpha = 0.5)\n",
    "    plt.legend()"
   ]
  },
  {
   "cell_type": "code",
   "execution_count": 42,
   "metadata": {},
   "outputs": [
    {
     "data": {
      "image/png": "[encoded data removed]",
      "text/plain": [
       "<Figure size 432x288 with 1 Axes>"
      ]
     },
     "metadata": {
      "needs_background": "light"
     },
     "output_type": "display_data"
    }
   ],
   "source": [
    "for flower, df in All.groupby('lightLevel'):\n",
    "    plt.hist(df.DiscoveryTime/100, histtype='bar', label = flower, alpha = 0.5)\n",
    "    plt.legend()"
   ]
  },
  {
   "cell_type": "code",
   "execution_count": 43,
   "metadata": {},
   "outputs": [],
   "source": [
    "First_3_df = pd.DataFrame(index = bin_center, columns = ['Low', 'High'], dtype = 'float')\n",
    "First_5_df = pd.DataFrame(index = bin_center, columns = ['Low', 'High'], dtype = 'float')\n",
    "First_10_df = pd.DataFrame(index = bin_center, columns = ['Low', 'High'], dtype = 'float')\n",
    "# Visits_15thru25_df = pd.DataFrame(index = bin_center, columns = ['Low', 'High'], dtype = 'float')\n",
    "First_20_df = pd.DataFrame(index = bin_center, columns = ['Low', 'High'], dtype = 'float')\n",
    "First_30_df = pd.DataFrame(index = bin_center, columns = ['Low', 'High'], dtype = 'float')\n",
    "All_df = pd.DataFrame(index = bin_center, columns = ['Low', 'High'], dtype = 'float')\n",
    "SampleSize = pd.DataFrame(index = ['low', 'high'], columns = ['3', '5', '10', '15-25', '20', '30', 'all'], dtype = 'float')"
   ]
  },
  {
   "cell_type": "code",
   "execution_count": 44,
   "metadata": {},
   "outputs": [
    {
     "data": {
      "text/html": [
       "<div>\n",
       "<style scoped>\n",
       "    .dataframe tbody tr th:only-of-type {\n",
       "        vertical-align: middle;\n",
       "    }\n",
       "\n",
       "    .dataframe tbody tr th {\n",
       "        vertical-align: top;\n",
       "    }\n",
       "\n",
       "    .dataframe thead th {\n",
       "        text-align: right;\n",
       "    }\n",
       "</style>\n",
       "<table border=\"1\" class=\"dataframe\">\n",
       "  <thead>\n",
       "    <tr style=\"text-align: right;\">\n",
       "      <th></th>\n",
       "      <th>3</th>\n",
       "      <th>5</th>\n",
       "      <th>10</th>\n",
       "      <th>15-25</th>\n",
       "      <th>20</th>\n",
       "      <th>30</th>\n",
       "      <th>all</th>\n",
       "    </tr>\n",
       "  </thead>\n",
       "  <tbody>\n",
       "    <tr>\n",
       "      <th>low</th>\n",
       "      <td>NaN</td>\n",
       "      <td>NaN</td>\n",
       "      <td>NaN</td>\n",
       "      <td>NaN</td>\n",
       "      <td>NaN</td>\n",
       "      <td>NaN</td>\n",
       "      <td>NaN</td>\n",
       "    </tr>\n",
       "    <tr>\n",
       "      <th>high</th>\n",
       "      <td>NaN</td>\n",
       "      <td>NaN</td>\n",
       "      <td>NaN</td>\n",
       "      <td>NaN</td>\n",
       "      <td>NaN</td>\n",
       "      <td>NaN</td>\n",
       "      <td>NaN</td>\n",
       "    </tr>\n",
       "  </tbody>\n",
       "</table>\n",
       "</div>"
      ],
      "text/plain": [
       "       3   5  10  15-25  20  30  all\n",
       "low  NaN NaN NaN    NaN NaN NaN  NaN\n",
       "high NaN NaN NaN    NaN NaN NaN  NaN"
      ]
     },
     "execution_count": 44,
     "metadata": {},
     "output_type": "execute_result"
    }
   ],
   "source": [
    "SampleSize"
   ]
  },
  {
   "cell_type": "code",
   "execution_count": 45,
   "metadata": {},
   "outputs": [],
   "source": [
    "# len(data)"
   ]
  },
  {
   "cell_type": "code",
   "execution_count": 46,
   "metadata": {},
   "outputs": [
    {
     "name": "stdout",
     "output_type": "stream",
     "text": [
      "high\n",
      "low\n",
      "high\n",
      "low\n"
     ]
    },
    {
     "data": {
      "text/plain": [
       "<Figure size 432x288 with 0 Axes>"
      ]
     },
     "metadata": {},
     "output_type": "display_data"
    },
    {
     "data": {
      "image/png": "[encoded data removed]",
      "text/plain": [
       "<Figure size 1440x360 with 5 Axes>"
      ]
     },
     "metadata": {
      "needs_background": "light"
     },
     "output_type": "display_data"
    }
   ],
   "source": [
    "from scipy.stats import gaussian_kde\n",
    "\n",
    "plt.set_cmap('Spectral')\n",
    "f2, ax2 = plt.subplots(1,5,sharex = True, sharey = True, figsize = (20,5))\n",
    "\n",
    "\n",
    "offset = 0\n",
    "\n",
    "V_0thru10_low = []\n",
    "V_0thru10_high = []\n",
    "for f, df in First_3.groupby('lightLevel', sort = True):\n",
    "    print(f)\n",
    "    data = df.DiscoveryTime   \n",
    "    SampleSize.loc[f,'3'] = len(data)\n",
    "    kde = kde_scipy(data)\n",
    "    \n",
    "    temp = kde.pdf(bin_center)\n",
    "    temp /= delta * np.sum(temp)\n",
    "    First_3_df.loc[:,f]=temp\n",
    "    if f.startswith(\"low\"):\n",
    "        c = 'indigo'\n",
    "        V_0thru10_low.extend(temp)\n",
    "        d = 'midnightblue'\n",
    "    elif f.startswith(\"high\"):\n",
    "        c = 'darkorange'\n",
    "        V_0thru10_high.extend(temp)\n",
    "        \n",
    "        d = 'darkred'\n",
    "\n",
    "    p = ax2[0].plot(temp, bin_center, label = f, color = c)\n",
    "    ax2[0].plot([-0.01 + offset]*len(data), data, 'o', ms = 2, color = c, mec = d, alpha = 0.35)\n",
    "    offset+=-0.01\n",
    "\n",
    "    ax2[0].set_title('Visits 0-10')\n",
    "offset = 0\n",
    "V_5thru15_low = []\n",
    "V_5thru15_high = []\n",
    "for f, df in First_5.groupby('lightLevel', sort = True):\n",
    "\n",
    "    data = df.DiscoveryTime    \n",
    "    SampleSize.loc[f,'5'] = len(data)\n",
    "    kde = kde_scipy(data)\n",
    "    \n",
    "    temp = kde.pdf(bin_center)\n",
    "    temp /= delta * np.sum(temp)\n",
    "    First_5_df.loc[:,f]=temp\n",
    "    \n",
    "    if f.startswith(\"low\"):\n",
    "        c = 'indigo'\n",
    "        V_5thru15_low.extend(temp)\n",
    "        d = 'midnightblue'\n",
    "    elif f.startswith(\"high\"):\n",
    "        c = 'darkorange'\n",
    "        V_5thru15_high.extend(temp)\n",
    "        d = 'darkred'\n",
    "        \n",
    "\n",
    "    p = ax2[1].plot(temp, bin_center,  label = f, color = c)\n",
    "    ax2[1].plot([-0.01 + offset]*len(data), data, 'o', ms = 2, color = c, mec = d, alpha = 0.35)\n",
    "    offset+=-0.01\n",
    "\n",
    "    ax2[1].set_title('Visits 5-15')\n",
    "    \n",
    "offset = 0\n",
    "V_10thru20_low = []\n",
    "V_10thru20_high = []\n",
    "for f, df in First_10.groupby('lightLevel', sort = True):\n",
    "    \n",
    "    data = df.DiscoveryTime   \n",
    "    SampleSize.loc[f,'10'] = len(data)\n",
    "    kde = kde_scipy(data)\n",
    "    \n",
    "    temp = kde.pdf(bin_center)\n",
    "    temp /= delta * np.sum(temp)\n",
    "    First_10_df.loc[:,f]=temp\n",
    "    \n",
    "    if f.startswith(\"low\"):\n",
    "        c = 'indigo'\n",
    "        V_10thru20_low.extend(temp)\n",
    "        d = 'midnightblue'\n",
    "    elif f.startswith(\"high\"):\n",
    "        c = 'darkorange'\n",
    "        \n",
    "        V_10thru20_high.extend(temp)\n",
    "        d = 'darkred'\n",
    "\n",
    "    p = ax2[2].plot(temp, bin_center, label = f, color = c)\n",
    "    ax2[2].plot([-0.01 + offset]*len(data), data, 'o', ms = 2, color = c, mec = d, alpha = 0.35)\n",
    "    offset+=-0.01\n",
    "\n",
    "    ax2[2].set_title('Visits 10-20')\n",
    "offset = 0\n",
    "V_15thru25_low = []\n",
    "V_15thru25_high = []\n",
    "for f, df in First_20.groupby('lightLevel', sort = True):\n",
    "\n",
    "    data = df.DiscoveryTime    \n",
    "    SampleSize.loc[f,'20'] = len(data)\n",
    "    kde = kde_scipy(data)\n",
    "    \n",
    "    temp = kde.pdf(bin_center)\n",
    "    temp /= delta * np.sum(temp)\n",
    "    First_20_df.loc[:,f]=temp\n",
    "    \n",
    "    if f.startswith(\"low\"):\n",
    "        c = 'indigo'\n",
    "        V_15thru25_low.extend(temp)\n",
    "        d = 'midnightblue'\n",
    "    elif f.startswith(\"high\"):\n",
    "        c = 'darkorange'\n",
    "        V_15thru25_high.extend(temp)\n",
    "        d = 'darkred'\n",
    "        \n",
    "#     ax1[1].plot(bin_center, hist)\n",
    "    p = ax2[3].plot(temp, bin_center, label = f, color = c)\n",
    "    ax2[3].plot([-0.01 + offset]*len(data), data, 'o', ms = 2, color = c, mec = d, alpha = 0.35)\n",
    "    offset+=-0.01\n",
    "#     ax2[3].legend()\n",
    "    ax2[3].set_title('Visits 15-25')\n",
    "    \n",
    "offset = 0\n",
    "V_20thru30_low = []\n",
    "V_20thru30_high = []\n",
    "for f, df in First_30.groupby('lightLevel', sort = True):\n",
    "    print(f)\n",
    "    data = df.DiscoveryTime   \n",
    "    SampleSize.loc[f,'30'] = len(data)\n",
    "    kde = kde_scipy(data)\n",
    "    \n",
    "    temp = kde.pdf(bin_center)\n",
    "    temp /= delta * np.sum(temp)\n",
    "    First_30_df.loc[:,f]=temp\n",
    "    \n",
    "    if f.startswith(\"low\"):\n",
    "        c = 'indigo'\n",
    "        V_20thru30_low.extend(temp)\n",
    "        d = 'midnightblue'\n",
    "    elif f.startswith(\"high\"):\n",
    "        c = 'darkorange'\n",
    "        \n",
    "        V_20thru30_high.extend(temp)\n",
    "        d = 'darkred'\n",
    "#     ax1[0].plot(bin_center, hist)\n",
    "    p = ax2[4].plot(temp, bin_center, label = f, color = c)\n",
    "    ax2[4].plot([-0.01 + offset]*len(data), data, 'o', ms = 2, color = c, mec = d, alpha = 0.35)\n",
    "    offset+=-0.01\n",
    "#     ax2[4].legend()\n",
    "    ax2[4].set_title('Visits 20-30')\n",
    "\n",
    "ax2[0].set_ylabel('Exploration Time (seconds)', size = 30, color = 'k')\n",
    "ax2[0].set_ylim(-3,26)\n",
    "\n",
    "ax2[0].text(.645,-9,'Probability occurance', size = 30)\n",
    "ax2[0].tick_params(labelsize = 25, labelcolor = 'k')\n",
    "ax2[1].tick_params(labelsize = 25, labelcolor = 'k')\n",
    "ax2[2].tick_params(labelsize = 25, labelcolor = 'k')\n",
    "ax2[3].tick_params(labelsize = 25, labelcolor = 'k')\n",
    "ax2[4].tick_params(labelsize = 25, labelcolor = 'k')\n",
    "ax2[0].set_xlim(-.04,0.26)\n",
    "\n",
    "\n",
    "ax2[0].text(0.017, 22, ' p = 0.014 (KS Test)', color = 'r', weight = 'bold', size = 12 )\n",
    "ax2[0].text(0.02, 20, 'Divergence =  0.362 (KL Test)', size = 11)\n",
    "ax2[1].text(0.017, 22, ' p = 1.10e-6 (KS Test)', color = 'r', weight = 'bold', size = 12 )\n",
    "ax2[1].text(0.02, 20, 'Divergence = 0.170 (KL Test)', size = 11)\n",
    "ax2[2].text(0.017, 22, ' p = 7.66e-10 (KS Test)', color = 'r', weight = 'bold', size = 13 )\n",
    "ax2[2].text(0.02, 20, 'Divergence = 0.415 (KL Test)', size = 11)\n",
    "ax2[3].text(0.017, 22, ' p = 2.40e-11 (KS Test)', color = 'r', weight = 'bold', size = 13 )\n",
    "ax2[3].text(0.02, 20, 'Divergence = 0.691 (KL Test)', size = 11)\n",
    "ax2[4].text(0.017, 22, ' p = 2.70e-17 (KS Test)', color = 'r', weight = 'bold', size = 13)\n",
    "ax2[4].text(0.02, 20, 'Divergence = 0.452 (KL Test)', size = 11)\n",
    "\n",
    "\n",
    "plt.savefig(outpath_figg + \"\\\\\" + 'Visits0-30_Stats_Plot_PDE.png')"
   ]
  },
  {
   "cell_type": "code",
   "execution_count": 47,
   "metadata": {},
   "outputs": [
    {
     "data": {
      "text/plain": [
       "(0.3619765581515092,\n",
       " Ks_2sampResult(statistic=0.155, pvalue=0.01442822702641025))"
      ]
     },
     "execution_count": 47,
     "metadata": {},
     "output_type": "execute_result"
    }
   ],
   "source": [
    "#first ten visits\n",
    "KL(np.asarray(V_0thru10_low),np.asarray(V_0thru10_high), 1e-30), stats.ks_2samp(V_0thru10_low,V_0thru10_high)"
   ]
  },
  {
   "cell_type": "code",
   "execution_count": 48,
   "metadata": {},
   "outputs": [
    {
     "data": {
      "text/plain": [
       "(0.169893547021974,\n",
       " Ks_2sampResult(statistic=0.265, pvalue=1.0977564170421088e-06))"
      ]
     },
     "execution_count": 48,
     "metadata": {},
     "output_type": "execute_result"
    }
   ],
   "source": [
    "#visits 5-15\n",
    "KL(np.asarray(V_5thru15_low),np.asarray(V_5thru15_high), 1e-30), stats.ks_2samp(V_5thru15_low,V_5thru15_high)"
   ]
  },
  {
   "cell_type": "code",
   "execution_count": 49,
   "metadata": {},
   "outputs": [
    {
     "data": {
      "text/plain": [
       "(0.41477587110693076,\n",
       " Ks_2sampResult(statistic=0.325, pvalue=7.6667887362236e-10))"
      ]
     },
     "execution_count": 49,
     "metadata": {},
     "output_type": "execute_result"
    }
   ],
   "source": [
    "#visits 10-20\n",
    "KL(np.asarray(V_10thru20_low),np.asarray(V_10thru20_high), 1e-30), stats.ks_2samp(V_10thru20_low,V_10thru20_high)"
   ]
  },
  {
   "cell_type": "code",
   "execution_count": 50,
   "metadata": {},
   "outputs": [
    {
     "data": {
      "text/plain": [
       "(0.6911419672115056,\n",
       " Ks_2sampResult(statistic=0.35, pvalue=2.4000240508578517e-11))"
      ]
     },
     "execution_count": 50,
     "metadata": {},
     "output_type": "execute_result"
    }
   ],
   "source": [
    "#visits 15-25\n",
    "KL(np.asarray(V_15thru25_low),np.asarray(V_15thru25_high), 1e-30), stats.ks_2samp(V_15thru25_low,V_15thru25_high)"
   ]
  },
  {
   "cell_type": "code",
   "execution_count": 51,
   "metadata": {},
   "outputs": [
    {
     "data": {
      "text/plain": [
       "(0.4523598547107846,\n",
       " Ks_2sampResult(statistic=0.435, pvalue=2.702183584090294e-17))"
      ]
     },
     "execution_count": 51,
     "metadata": {},
     "output_type": "execute_result"
    }
   ],
   "source": [
    "#visits 20-30 (although sample size is pretty low)\n",
    "KL(np.asarray(V_20thru30_low),np.asarray(V_20thru30_high), 1e-30), stats.ks_2samp(V_20thru30_low,V_20thru30_high)"
   ]
  },
  {
   "cell_type": "code",
   "execution_count": 52,
   "metadata": {},
   "outputs": [],
   "source": [
    "first_3_low = len(notoutliers[(notoutliers.name.str.contains('L0.1')) & (notoutliers.trialNum >= 0) & (notoutliers.trialNum <= 3)].values)\n",
    "first_3_high = len(notoutliers[(notoutliers.name.str.contains('L50')) & (notoutliers.trialNum >= 0) & (notoutliers.trialNum <= 3)].values)\n",
    "V_14thru19_low = len(notoutliers[(notoutliers.name.str.contains('L0.1')) & (notoutliers.trialNum >= 14) & (notoutliers.trialNum <= 19)].values)\n",
    "V_14thru19_high = len(notoutliers[(notoutliers.name.str.contains('L50')) & (notoutliers.trialNum >= 14) & (notoutliers.trialNum <= 19)].values)"
   ]
  },
  {
   "cell_type": "code",
   "execution_count": 53,
   "metadata": {},
   "outputs": [
    {
     "data": {
      "image/png": "[encoded data removed]",
      "text/plain": [
       "<Figure size 1440x360 with 2 Axes>"
      ]
     },
     "metadata": {
      "needs_background": "light"
     },
     "output_type": "display_data"
    }
   ],
   "source": [
    "#add a comparison between the early and late visits within a light level (one plot comparing two time points with similar N size maybe 0-10 vs 15-25?)fig, ax = plt.subplots(1,2, figsize = (20,5), sharex = True, sharey = True)\n",
    "fig, ax = plt.subplots(1,2, figsize = (20,5), sharex = True, sharey = True)\n",
    "ax = ax.ravel()\n",
    "\n",
    "\n",
    "hist_early_lowlight, _, _ = ax[0].hist(notoutliers.DiscoveryTime[(notoutliers.name.str.contains('L0.1_')) & \n",
    "                                     (notoutliers.trialNum >= 0) & (notoutliers.trialNum <= 3)].values,\n",
    "            orientation='horizontal', alpha = 0.7, color = 'steelblue', density = True)\n",
    "hist_late_lowlight, _, _ = ax[0].hist(notoutliers.DiscoveryTime[(notoutliers.name.str.contains('L0.1_')) & \n",
    "                                     (notoutliers.trialNum >= 14) & (notoutliers.trialNum <= 19)].values, \n",
    "            orientation='horizontal', alpha = 0.7, color = 'slateblue', density = True)\n",
    "hist_early_highlight, _, _ = ax[1].hist(notoutliers.DiscoveryTime[(notoutliers.name.str.contains('L50')) & \n",
    "                                     (notoutliers.trialNum >= 0) & (notoutliers.trialNum <= 3)].values, orientation='horizontal', alpha = 0.7, color = 'lightcoral', density = True)\n",
    "hist_late_highlight, _, _ = ax[1].hist(notoutliers.DiscoveryTime[(notoutliers.name.str.contains('L50')) & \n",
    "                                     (notoutliers.trialNum >= 14) & (notoutliers.trialNum <= 19)].values, orientation='horizontal', alpha = 0.7, color = 'maroon', density = True)\n",
    "\n",
    "ax[0].set_title('Low Light', size = 25)\n",
    "ax[1].set_title('High Light', size = 25)\n",
    "                                      \n",
    "\n",
    "\n",
    "\n",
    "ax[0].set_ylim(-2, 26)\n",
    "ax[0].set_ylabel('ExplorationTime (seconds)', size = 20, color = 'k')\n",
    "ax[0].set_xlim(0,.33)\n",
    "# ax[0].text(.35,-9,'Probability occurance', size = 24)\n",
    "ax[0].tick_params(labelsize = 15, labelcolor = 'k')\n",
    "ax[1].tick_params(labelsize = 15, labelcolor = 'k')\n",
    "\n",
    "\n",
    "\n",
    "ax[0].text(0.067, 22, 'Early (0-3) N =  ' + str(first_3_low), color = 'steelblue', weight = 'bold', size = 22)\n",
    "ax[0].text(0.067, 19, 'Late (14-19) N =  ' + str(V_14thru19_low), color = 'slateblue', weight = 'bold', size = 22)\n",
    "ax[0].text(0.2, 22, 'p = 1.75e-5', color = 'r', weight = 'bold', size = 22)\n",
    "\n",
    "\n",
    "ax[1].text(0.067, 22, 'Early (0-3) N =  ' + str(first_3_high), color = 'lightcoral', weight = 'bold', size = 22)\n",
    "ax[1].text(0.067, 19, 'Late (14-19) N =  ' + str(V_14thru19_high), color = 'maroon', weight = 'bold', size = 22)\n",
    "ax[1].text(0.2, 22, 'p = 0.055', color = 'k', weight = 'bold', size = 22)\n",
    "plt.tight_layout()\n",
    "# plt.savefig(outpath_figg + \"\\\\\" + 'Early_0thru3_Late_14thru17_Comparison_AcrossLights.png')"
   ]
  },
  {
   "cell_type": "code",
   "execution_count": 54,
   "metadata": {},
   "outputs": [
    {
     "data": {
      "text/plain": [
       "(-0.1384383751712867,\n",
       " Ks_2sampResult(statistic=0.30000000000000004, pvalue=0.6750781537165951))"
      ]
     },
     "execution_count": 54,
     "metadata": {},
     "output_type": "execute_result"
    }
   ],
   "source": [
    "#learning comparing the early and later visits lower light. A negative value means the second thing is less ?? (that's how it is between light levels)\n",
    "KL(hist_early_lowlight, hist_late_lowlight, 1e-30), stats.ks_2samp(hist_early_lowlight,hist_late_lowlight)"
   ]
  },
  {
   "cell_type": "code",
   "execution_count": 55,
   "metadata": {},
   "outputs": [
    {
     "data": {
      "text/plain": [
       "(0.5374233928535578,\n",
       " Ks_2sampResult(statistic=0.39999999999999997, pvalue=0.312852676016956))"
      ]
     },
     "execution_count": 55,
     "metadata": {},
     "output_type": "execute_result"
    }
   ],
   "source": [
    "#learning comparing the early and later visits higher light\n",
    "KL(hist_early_highlight, hist_late_highlight, 1e-30), stats.ks_2samp(hist_early_highlight,hist_late_highlight)"
   ]
  },
  {
   "cell_type": "markdown",
   "metadata": {},
   "source": [
    "notoutliers.keys()"
   ]
  },
  {
   "cell_type": "code",
   "execution_count": 56,
   "metadata": {},
   "outputs": [],
   "source": [
    "low = notoutliers[(notoutliers.name.str.contains('L0.1_')) & (notoutliers.trialNum >= 0) & (notoutliers.trialNum <= 3)| (notoutliers.name.str.contains('L0.1_')) & (notoutliers.trialNum >= 14) & (notoutliers.trialNum <= 19)]\n",
    "high = notoutliers[(notoutliers.name.str.contains('L50_')) & (notoutliers.trialNum >= 0) & (notoutliers.trialNum <= 3)| (notoutliers.name.str.contains('L50_')) & (notoutliers.trialNum >= 14) & (notoutliers.trialNum <= 19)]"
   ]
  },
  {
   "cell_type": "code",
   "execution_count": 57,
   "metadata": {},
   "outputs": [
    {
     "data": {
      "text/plain": [
       "array([ 0,  1,  2,  3, 14, 15, 16, 17, 18, 19,  0,  1,  2, 14, 15, 16, 17,\n",
       "       18, 19,  0,  1,  2,  3, 14, 15, 16, 17, 19,  1,  0,  1,  1,  2,  3,\n",
       "       14, 15, 16, 17,  0,  1,  2,  3, 14, 15, 17, 18, 19,  1,  2,  3,  0,\n",
       "        1,  2, 14, 15, 16, 17, 18, 19,  0,  1,  2,  0,  1,  2,  3,  0,  1,\n",
       "        2,  3, 14, 15, 16, 17, 18, 19,  3, 14, 16, 18, 19,  0,  1,  2,  3,\n",
       "       14, 19,  0,  1,  2,  3, 15, 16, 19,  2,  3, 14, 15, 16, 17, 18, 19,\n",
       "        1,  2,  3, 14, 16, 17, 18, 19,  0,  1,  2,  3, 15, 16, 17, 18, 19,\n",
       "        2,  3], dtype=int64)"
      ]
     },
     "execution_count": 57,
     "metadata": {},
     "output_type": "execute_result"
    }
   ],
   "source": [
    "low.trialNum.values"
   ]
  },
  {
   "cell_type": "code",
   "execution_count": 58,
   "metadata": {},
   "outputs": [
    {
     "data": {
      "text/plain": [
       "['early',\n",
       " 'early',\n",
       " 'early',\n",
       " 'early',\n",
       " 'late',\n",
       " 'late',\n",
       " 'late',\n",
       " 'late',\n",
       " 'late',\n",
       " 'late',\n",
       " 'early',\n",
       " 'early',\n",
       " 'early',\n",
       " 'late',\n",
       " 'late',\n",
       " 'late',\n",
       " 'late',\n",
       " 'late',\n",
       " 'late',\n",
       " 'early',\n",
       " 'early',\n",
       " 'early',\n",
       " 'early',\n",
       " 'late',\n",
       " 'late',\n",
       " 'late',\n",
       " 'late',\n",
       " 'late',\n",
       " 'early',\n",
       " 'early',\n",
       " 'early',\n",
       " 'early',\n",
       " 'early',\n",
       " 'early',\n",
       " 'late',\n",
       " 'late',\n",
       " 'late',\n",
       " 'late',\n",
       " 'early',\n",
       " 'early',\n",
       " 'early',\n",
       " 'early',\n",
       " 'late',\n",
       " 'late',\n",
       " 'late',\n",
       " 'late',\n",
       " 'late',\n",
       " 'early',\n",
       " 'early',\n",
       " 'early',\n",
       " 'early',\n",
       " 'early',\n",
       " 'early',\n",
       " 'late',\n",
       " 'late',\n",
       " 'late',\n",
       " 'late',\n",
       " 'late',\n",
       " 'late',\n",
       " 'early',\n",
       " 'early',\n",
       " 'early',\n",
       " 'early',\n",
       " 'early',\n",
       " 'early',\n",
       " 'early',\n",
       " 'early',\n",
       " 'early',\n",
       " 'early',\n",
       " 'early',\n",
       " 'late',\n",
       " 'late',\n",
       " 'late',\n",
       " 'late',\n",
       " 'late',\n",
       " 'late',\n",
       " 'early',\n",
       " 'late',\n",
       " 'late',\n",
       " 'late',\n",
       " 'late',\n",
       " 'early',\n",
       " 'early',\n",
       " 'early',\n",
       " 'early',\n",
       " 'late',\n",
       " 'late',\n",
       " 'early',\n",
       " 'early',\n",
       " 'early',\n",
       " 'early',\n",
       " 'late',\n",
       " 'late',\n",
       " 'late',\n",
       " 'early',\n",
       " 'early',\n",
       " 'late',\n",
       " 'late',\n",
       " 'late',\n",
       " 'late',\n",
       " 'late',\n",
       " 'late',\n",
       " 'early',\n",
       " 'early',\n",
       " 'early',\n",
       " 'late',\n",
       " 'late',\n",
       " 'late',\n",
       " 'late',\n",
       " 'late',\n",
       " 'early',\n",
       " 'early',\n",
       " 'early',\n",
       " 'early',\n",
       " 'late',\n",
       " 'late',\n",
       " 'late',\n",
       " 'late',\n",
       " 'late',\n",
       " 'early',\n",
       " 'early']"
      ]
     },
     "execution_count": 58,
     "metadata": {},
     "output_type": "execute_result"
    }
   ],
   "source": [
    "visit_epoch = []\n",
    "for element in low.trialNum.values:\n",
    "    if element < 10:\n",
    "        visit_epoch.append(\"early\")\n",
    "    else:\n",
    "        visit_epoch.append(\"late\")\n",
    "visit_epoch"
   ]
  },
  {
   "cell_type": "code",
   "execution_count": 59,
   "metadata": {},
   "outputs": [
    {
     "data": {
      "text/plain": [
       "['early',\n",
       " 'early',\n",
       " 'early',\n",
       " 'late',\n",
       " 'late',\n",
       " 'late',\n",
       " 'late',\n",
       " 'late',\n",
       " 'late',\n",
       " 'late',\n",
       " 'late',\n",
       " 'early',\n",
       " 'early',\n",
       " 'early',\n",
       " 'early',\n",
       " 'early',\n",
       " 'late',\n",
       " 'late',\n",
       " 'late',\n",
       " 'late',\n",
       " 'late',\n",
       " 'late',\n",
       " 'early',\n",
       " 'late',\n",
       " 'late',\n",
       " 'late',\n",
       " 'late',\n",
       " 'late',\n",
       " 'early',\n",
       " 'early',\n",
       " 'early',\n",
       " 'late',\n",
       " 'late',\n",
       " 'late',\n",
       " 'late',\n",
       " 'early',\n",
       " 'early',\n",
       " 'early',\n",
       " 'early',\n",
       " 'early',\n",
       " 'early',\n",
       " 'late',\n",
       " 'late',\n",
       " 'late',\n",
       " 'late',\n",
       " 'late',\n",
       " 'late',\n",
       " 'early',\n",
       " 'early',\n",
       " 'early',\n",
       " 'early',\n",
       " 'early',\n",
       " 'early',\n",
       " 'late',\n",
       " 'late',\n",
       " 'late',\n",
       " 'late',\n",
       " 'early',\n",
       " 'early',\n",
       " 'early',\n",
       " 'early',\n",
       " 'early',\n",
       " 'early',\n",
       " 'late',\n",
       " 'late',\n",
       " 'early',\n",
       " 'early',\n",
       " 'early',\n",
       " 'early',\n",
       " 'early',\n",
       " 'early']"
      ]
     },
     "execution_count": 59,
     "metadata": {},
     "output_type": "execute_result"
    }
   ],
   "source": [
    "high_visit_epoch = []\n",
    "for element in high.trialNum.values:\n",
    "    if element < 10:\n",
    "        high_visit_epoch.append(\"early\")\n",
    "    else:\n",
    "        high_visit_epoch.append(\"late\")\n",
    "high_visit_epoch"
   ]
  },
  {
   "cell_type": "code",
   "execution_count": 60,
   "metadata": {},
   "outputs": [],
   "source": [
    "visit_chunk = pd.DataFrame(data = visit_epoch, columns = [\"visit_chunk\"])\n",
    "high_visit_chunk = pd.DataFrame(data = high_visit_epoch, columns = [\"visit_chunk\"])"
   ]
  },
  {
   "cell_type": "code",
   "execution_count": 61,
   "metadata": {},
   "outputs": [],
   "source": [
    "low = low.drop(['Unnamed: 0', 'Unnamed: 0.1'], axis = 1)\n",
    "low.reset_index(drop=True, inplace=True)\n",
    "high = high.drop(['Unnamed: 0', 'Unnamed: 0.1'], axis = 1)\n",
    "high.reset_index(drop=True, inplace=True)"
   ]
  },
  {
   "cell_type": "code",
   "execution_count": 62,
   "metadata": {},
   "outputs": [],
   "source": [
    "low = pd.concat([low, visit_chunk], axis = 1)\n",
    "high = pd.concat([high, high_visit_chunk], axis = 1)"
   ]
  },
  {
   "cell_type": "code",
   "execution_count": 63,
   "metadata": {},
   "outputs": [
    {
     "data": {
      "text/plain": [
       "Index(['In_Frame', 'Out_Frame', 'Proboscis', 'DiscoveryTime', 'trialNum',\n",
       "       'name', 'zscore', 'outlier_ID', 'lightLevel', 'visit_chunk'],\n",
       "      dtype='object')"
      ]
     },
     "execution_count": 63,
     "metadata": {},
     "output_type": "execute_result"
    }
   ],
   "source": [
    "high.keys()"
   ]
  },
  {
   "cell_type": "code",
   "execution_count": 64,
   "metadata": {},
   "outputs": [],
   "source": [
    "alldata = low.DiscoveryTime/100\n",
    "_,bins = np.histogram(alldata, bins = 100, density = True)\n",
    "bin_center = 0.5*(bins[1:]+bins[:-1])\n",
    "bin_center = np.linspace(0,60,200)\n",
    "delta = np.diff(bin_center)[0]"
   ]
  },
  {
   "cell_type": "code",
   "execution_count": 65,
   "metadata": {},
   "outputs": [],
   "source": [
    "low_df = pd.DataFrame(index = bin_center, columns = ['early', 'late'], dtype = 'float')\n",
    "high_df = pd.DataFrame(index = bin_center, columns = ['early', 'late'], dtype = 'float')\n",
    "light_level = pd.DataFrame(index = ['early', 'late'], columns = ['low', 'high'], dtype = 'float')"
   ]
  },
  {
   "cell_type": "code",
   "execution_count": 66,
   "metadata": {},
   "outputs": [
    {
     "data": {
      "text/html": [
       "<div>\n",
       "<style scoped>\n",
       "    .dataframe tbody tr th:only-of-type {\n",
       "        vertical-align: middle;\n",
       "    }\n",
       "\n",
       "    .dataframe tbody tr th {\n",
       "        vertical-align: top;\n",
       "    }\n",
       "\n",
       "    .dataframe thead th {\n",
       "        text-align: right;\n",
       "    }\n",
       "</style>\n",
       "<table border=\"1\" class=\"dataframe\">\n",
       "  <thead>\n",
       "    <tr style=\"text-align: right;\">\n",
       "      <th></th>\n",
       "      <th>low</th>\n",
       "      <th>high</th>\n",
       "    </tr>\n",
       "  </thead>\n",
       "  <tbody>\n",
       "    <tr>\n",
       "      <th>early</th>\n",
       "      <td>NaN</td>\n",
       "      <td>NaN</td>\n",
       "    </tr>\n",
       "    <tr>\n",
       "      <th>late</th>\n",
       "      <td>NaN</td>\n",
       "      <td>NaN</td>\n",
       "    </tr>\n",
       "  </tbody>\n",
       "</table>\n",
       "</div>"
      ],
      "text/plain": [
       "       low  high\n",
       "early  NaN   NaN\n",
       "late   NaN   NaN"
      ]
     },
     "execution_count": 66,
     "metadata": {},
     "output_type": "execute_result"
    }
   ],
   "source": [
    "light_level"
   ]
  },
  {
   "cell_type": "code",
   "execution_count": 70,
   "metadata": {},
   "outputs": [
    {
     "name": "stdout",
     "output_type": "stream",
     "text": [
      "58\n",
      "63\n"
     ]
    },
    {
     "data": {
      "text/plain": [
       "<Figure size 432x288 with 0 Axes>"
      ]
     },
     "metadata": {},
     "output_type": "display_data"
    },
    {
     "data": {
      "image/png": "[encoded data removed]",
      "text/plain": [
       "<Figure size 1440x360 with 2 Axes>"
      ]
     },
     "metadata": {
      "needs_background": "light"
     },
     "output_type": "display_data"
    }
   ],
   "source": [
    "from scipy.stats import gaussian_kde\n",
    "\n",
    "plt.set_cmap('Spectral')\n",
    "f2, ax2 = plt.subplots(1,2,sharex = True, sharey = True, figsize = (20,5))\n",
    "\n",
    "\n",
    "offset = 0\n",
    "t_l_e = []\n",
    "t_l_l = []\n",
    "\n",
    "for f, df in low.groupby('visit_chunk', sort = True):\n",
    "    \n",
    "    data = df.DiscoveryTime   \n",
    "    light_level.loc[f,'low'] = len(data)\n",
    "    print(len(data))\n",
    "    kde = kde_scipy(data)\n",
    "    \n",
    "    \n",
    "    temp = kde.pdf(bin_center)\n",
    "    temp /= delta * np.sum(temp)\n",
    "    low_df.loc[:,f] = temp\n",
    "    \n",
    "    \n",
    "    if f.startswith(\"early\"):\n",
    "        c = 'steelblue'\n",
    "        t_l_e.extend(temp)\n",
    "        d = 'steelblue'\n",
    "    elif f.startswith(\"late\"):\n",
    "        c = 'indigo'\n",
    "        t_l_l.extend(temp)\n",
    "        \n",
    "        d = 'indigo'\n",
    "\n",
    "    p = ax2[0].plot(temp, bin_center, label = f, color = c)\n",
    "    ax2[0].plot([-0.01 + offset]*len(data), data, 'o', ms = 2, color = c, mec = d, alpha = 0.35)\n",
    "    offset+=-0.01\n",
    "\n",
    "    ax2[0].set_title('Low', size = 20)\n",
    "offset = 0\n",
    "t_h_e = []\n",
    "t_h_l = []\n",
    "\n",
    "for f, df in high.groupby('visit_chunk', sort = True):\n",
    "    \n",
    "    data = df.DiscoveryTime   \n",
    "    light_level.loc[f,'high'] = len(data)\n",
    "    kde = kde_scipy(data)\n",
    "    \n",
    "    temp = kde.pdf(bin_center)\n",
    "    temp /= delta * np.sum(temp)\n",
    "    high_df.loc[:,f]=temp\n",
    "    \n",
    "    \n",
    "    if f.startswith(\"early\"):\n",
    "        \n",
    "        c = 'lightcoral'\n",
    "        t_h_e.extend(temp)\n",
    "        d = 'lightcoral'\n",
    "    elif f.startswith(\"late\"):\n",
    "        t_h_l.extend(temp)\n",
    "        c = 'maroon'\n",
    "        \n",
    "        \n",
    "        d = 'maroon'\n",
    "    p = ax2[1].plot(temp, bin_center, label = f, color = c)\n",
    "    ax2[1].plot([-0.01 + offset]*len(data), data, 'o', ms = 2, color = c, mec = d, alpha = 0.35)\n",
    "    offset+=-0.01\n",
    "\n",
    "    ax2[1].set_title('High', size = 20)\n",
    "ax2[0].set_ylim(-2, 26)\n",
    "ax2[0].set_ylabel('ExplorationTime (seconds)', size = 20, color = 'k')\n",
    "ax2[0].set_xlim(-.03, .33)\n",
    "ax2[0].tick_params(labelsize = 15, labelcolor = 'k')\n",
    "ax2[1].tick_params(labelsize = 15, labelcolor = 'k')\n",
    "ax2[0].text(0.15, 20, ' p = 2.46e-14 (KS Test)', color = 'r', weight = 'bold', size = 17 )\n",
    "ax2[1].text(0.15, 20, ' p = 2.39e-5 (KS Test)', color = 'r', weight = 'bold', size = 17 )\n",
    "plt.tight_layout()\n",
    "# plt.savefig(outpath_figg + \"\\\\\" + 'Early_Late_Comparison_AcrossLights_PDE.png')"
   ]
  },
  {
   "cell_type": "code",
   "execution_count": 68,
   "metadata": {},
   "outputs": [
    {
     "data": {
      "text/plain": [
       "Ks_2sampResult(statistic=0.395, pvalue=2.463079490391511e-14)"
      ]
     },
     "execution_count": 68,
     "metadata": {},
     "output_type": "execute_result"
    }
   ],
   "source": [
    "#low light early vs. late comparison\n",
    "stats.ks_2samp(t_l_e,t_l_l)"
   ]
  },
  {
   "cell_type": "code",
   "execution_count": 69,
   "metadata": {},
   "outputs": [
    {
     "data": {
      "text/plain": [
       "Ks_2sampResult(statistic=0.235, pvalue=2.3864292547270545e-05)"
      ]
     },
     "execution_count": 69,
     "metadata": {},
     "output_type": "execute_result"
    }
   ],
   "source": [
    "#high light early vs. late comparison\n",
    "stats.ks_2samp(t_h_e,t_h_l)"
   ]
  },
  {
   "cell_type": "code",
   "execution_count": null,
   "metadata": {},
   "outputs": [],
   "source": [
    "#is there a way to just measure low exploration time bins?"
   ]
  }
 ],
 "metadata": {
  "kernelspec": {
   "display_name": "Python 3",
   "language": "python",
   "name": "python3"
  },
  "language_info": {
   "codemirror_mode": {
    "name": "ipython",
    "version": 3
   },
   "file_extension": ".py",
   "mimetype": "text/x-python",
   "name": "python",
   "nbconvert_exporter": "python",
   "pygments_lexer": "ipython3",
   "version": "3.7.1"
  }
 },
 "nbformat": 4,
 "nbformat_minor": 2
}
