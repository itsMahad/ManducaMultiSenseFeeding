{
 "cells": [
  {
   "cell_type": "code",
   "execution_count": 1,
   "metadata": {},
   "outputs": [],
   "source": [
    "import pandas as pd\n",
    "import matplotlib.pyplot as plt\n",
    "from matplotlib import style\n",
    "from scipy import stats\n",
    "import os\n",
    "import numpy as np\n",
    "import glob\n",
    "from scipy.stats import gaussian_kde\n",
    "plt.rcParams['font.sans-serif'] = \"Arial\"\n",
    "plt.rcParams['font.family'] = \"sans-serif\""
   ]
  },
  {
   "cell_type": "code",
   "execution_count": 2,
   "metadata": {},
   "outputs": [],
   "source": [
    "path = r'/Users/Mahad/Downloads/Step6'\n",
    "outpath_figg = r'/Users/Mahad/Downloads/HistogramFigure'"
   ]
  },
  {
   "cell_type": "code",
   "execution_count": 3,
   "metadata": {},
   "outputs": [
    {
     "data": {
      "text/html": [
       "<div>\n",
       "<style scoped>\n",
       "    .dataframe tbody tr th:only-of-type {\n",
       "        vertical-align: middle;\n",
       "    }\n",
       "\n",
       "    .dataframe tbody tr th {\n",
       "        vertical-align: top;\n",
       "    }\n",
       "\n",
       "    .dataframe thead th {\n",
       "        text-align: right;\n",
       "    }\n",
       "</style>\n",
       "<table border=\"1\" class=\"dataframe\">\n",
       "  <thead>\n",
       "    <tr style=\"text-align: right;\">\n",
       "      <th></th>\n",
       "      <th>Unnamed: 0</th>\n",
       "      <th>Unnamed: 0.1</th>\n",
       "      <th>In_Frame</th>\n",
       "      <th>Out_Frame</th>\n",
       "      <th>Proboscis</th>\n",
       "      <th>DiscoveryTime</th>\n",
       "      <th>trialNum</th>\n",
       "      <th>name</th>\n",
       "    </tr>\n",
       "  </thead>\n",
       "  <tbody>\n",
       "    <tr>\n",
       "      <th>0</th>\n",
       "      <td>0</td>\n",
       "      <td>0</td>\n",
       "      <td>20377</td>\n",
       "      <td>20713</td>\n",
       "      <td>NaN</td>\n",
       "      <td>NaN</td>\n",
       "      <td>0</td>\n",
       "      <td>L0.1_c-3_m10</td>\n",
       "    </tr>\n",
       "    <tr>\n",
       "      <th>1</th>\n",
       "      <td>1</td>\n",
       "      <td>1</td>\n",
       "      <td>39912</td>\n",
       "      <td>41054</td>\n",
       "      <td>NaN</td>\n",
       "      <td>NaN</td>\n",
       "      <td>1</td>\n",
       "      <td>L0.1_c-3_m10</td>\n",
       "    </tr>\n",
       "    <tr>\n",
       "      <th>2</th>\n",
       "      <td>2</td>\n",
       "      <td>2</td>\n",
       "      <td>67784</td>\n",
       "      <td>68084</td>\n",
       "      <td>NaN</td>\n",
       "      <td>NaN</td>\n",
       "      <td>2</td>\n",
       "      <td>L0.1_c-3_m10</td>\n",
       "    </tr>\n",
       "    <tr>\n",
       "      <th>3</th>\n",
       "      <td>3</td>\n",
       "      <td>3</td>\n",
       "      <td>68158</td>\n",
       "      <td>69028</td>\n",
       "      <td>NaN</td>\n",
       "      <td>NaN</td>\n",
       "      <td>3</td>\n",
       "      <td>L0.1_c-3_m10</td>\n",
       "    </tr>\n",
       "    <tr>\n",
       "      <th>4</th>\n",
       "      <td>4</td>\n",
       "      <td>4</td>\n",
       "      <td>26059</td>\n",
       "      <td>27412</td>\n",
       "      <td>NaN</td>\n",
       "      <td>NaN</td>\n",
       "      <td>0</td>\n",
       "      <td>L0.1_c-3_m12</td>\n",
       "    </tr>\n",
       "  </tbody>\n",
       "</table>\n",
       "</div>"
      ],
      "text/plain": [
       "   Unnamed: 0  Unnamed: 0.1  In_Frame  Out_Frame  Proboscis  DiscoveryTime  \\\n",
       "0           0             0     20377      20713        NaN            NaN   \n",
       "1           1             1     39912      41054        NaN            NaN   \n",
       "2           2             2     67784      68084        NaN            NaN   \n",
       "3           3             3     68158      69028        NaN            NaN   \n",
       "4           4             4     26059      27412        NaN            NaN   \n",
       "\n",
       "   trialNum          name  \n",
       "0         0  L0.1_c-3_m10  \n",
       "1         1  L0.1_c-3_m10  \n",
       "2         2  L0.1_c-3_m10  \n",
       "3         3  L0.1_c-3_m10  \n",
       "4         0  L0.1_c-3_m12  "
      ]
     },
     "execution_count": 3,
     "metadata": {},
     "output_type": "execute_result"
    }
   ],
   "source": [
    "AllData = pd.read_csv(path + \"//\" + 'AllLight_EveryMoth.csv')\n",
    "AllData.head()"
   ]
  },
  {
   "cell_type": "code",
   "execution_count": 4,
   "metadata": {},
   "outputs": [
    {
     "data": {
      "text/plain": [
       "[<matplotlib.lines.Line2D at 0x1a0fb7f8d0>]"
      ]
     },
     "execution_count": 4,
     "metadata": {},
     "output_type": "execute_result"
    },
    {
     "data": {
      "image/png": "[encoded data removed]",
      "text/plain": [
       "<matplotlib.figure.Figure at 0x10aa428d0>"
      ]
     },
     "metadata": {},
     "output_type": "display_data"
    }
   ],
   "source": [
    "plt.plot(AllData.DiscoveryTime/100, 'o')"
   ]
  },
  {
   "cell_type": "code",
   "execution_count": 6,
   "metadata": {},
   "outputs": [
    {
     "name": "stderr",
     "output_type": "stream",
     "text": [
      "/Users/Mahad/anaconda3/lib/python3.6/site-packages/ipykernel_launcher.py:6: SettingWithCopyWarning: \n",
      "A value is trying to be set on a copy of a slice from a DataFrame.\n",
      "Try using .loc[row_indexer,col_indexer] = value instead\n",
      "\n",
      "See the caveats in the documentation: http://pandas.pydata.org/pandas-docs/stable/indexing.html#indexing-view-versus-copy\n",
      "  \n",
      "/Users/Mahad/anaconda3/lib/python3.6/site-packages/ipykernel_launcher.py:7: SettingWithCopyWarning: \n",
      "A value is trying to be set on a copy of a slice from a DataFrame.\n",
      "Try using .loc[row_indexer,col_indexer] = value instead\n",
      "\n",
      "See the caveats in the documentation: http://pandas.pydata.org/pandas-docs/stable/indexing.html#indexing-view-versus-copy\n",
      "  import sys\n"
     ]
    },
    {
     "data": {
      "image/png": "[encoded data removed]",
      "text/plain": [
       "<matplotlib.figure.Figure at 0x1a18a714a8>"
      ]
     },
     "metadata": {},
     "output_type": "display_data"
    }
   ],
   "source": [
    "AllData_notnull = AllData[AllData.DiscoveryTime.notnull()]\n",
    "z = np.abs(stats.zscore(AllData_notnull.DiscoveryTime.values))\n",
    "outlier_ID = z > 5\n",
    "plt.plot(z, 'o') \n",
    "\n",
    "AllData_notnull['zscore'] = z\n",
    "AllData_notnull['outlier_ID'] = outlier_ID"
   ]
  },
  {
   "cell_type": "code",
   "execution_count": null,
   "metadata": {},
   "outputs": [],
   "source": [
    "AllData_notnull[AllData_notnull.outlier_ID == True]"
   ]
  },
  {
   "cell_type": "code",
   "execution_count": 7,
   "metadata": {},
   "outputs": [
    {
     "data": {
      "text/plain": [
       "[<matplotlib.lines.Line2D at 0x1a18a710f0>]"
      ]
     },
     "execution_count": 7,
     "metadata": {},
     "output_type": "execute_result"
    },
    {
     "data": {
      "image/png": "[encoded data removed]",
      "text/plain": [
       "<matplotlib.figure.Figure at 0x1a18a715c0>"
      ]
     },
     "metadata": {},
     "output_type": "display_data"
    }
   ],
   "source": [
    "plt.plot(AllData_notnull.DiscoveryTime[AllData_notnull.outlier_ID == True]/100, 'o', color = 'red')\n",
    "plt.plot(AllData_notnull.DiscoveryTime[AllData_notnull.outlier_ID == False]/100, 'o', color = 'blue')"
   ]
  },
  {
   "cell_type": "code",
   "execution_count": 8,
   "metadata": {},
   "outputs": [
    {
     "name": "stderr",
     "output_type": "stream",
     "text": [
      "/Users/Mahad/anaconda3/lib/python3.6/site-packages/ipykernel_launcher.py:2: SettingWithCopyWarning: \n",
      "A value is trying to be set on a copy of a slice from a DataFrame.\n",
      "Try using .loc[row_indexer,col_indexer] = value instead\n",
      "\n",
      "See the caveats in the documentation: http://pandas.pydata.org/pandas-docs/stable/indexing.html#indexing-view-versus-copy\n",
      "  \n"
     ]
    },
    {
     "data": {
      "text/plain": [
       "[<matplotlib.lines.Line2D at 0x1a189a3080>]"
      ]
     },
     "execution_count": 8,
     "metadata": {},
     "output_type": "execute_result"
    },
    {
     "data": {
      "image/png": "[encoded data removed]",
      "text/plain": [
       "<matplotlib.figure.Figure at 0x1a0fbbb358>"
      ]
     },
     "metadata": {},
     "output_type": "display_data"
    }
   ],
   "source": [
    "notoutliers = AllData_notnull[AllData_notnull.outlier_ID == False]\n",
    "notoutliers['DiscoveryTime'] = notoutliers.DiscoveryTime.div(100, axis = 'index')\n",
    "plt.plot(notoutliers['DiscoveryTime'], 'o')"
   ]
  },
  {
   "cell_type": "code",
   "execution_count": 9,
   "metadata": {},
   "outputs": [
    {
     "data": {
      "text/plain": [
       "Text(0.5,0,'Occurance')"
      ]
     },
     "execution_count": 9,
     "metadata": {},
     "output_type": "execute_result"
    },
    {
     "data": {
      "image/png": "[encoded data removed]",
      "text/plain": [
       "<matplotlib.figure.Figure at 0x1a18a567f0>"
      ]
     },
     "metadata": {},
     "output_type": "display_data"
    }
   ],
   "source": [
    "hist, bins = np.histogram(notoutliers.DiscoveryTime.values, bins = 30)\n",
    "\n",
    "fig, ax = plt.subplots(1,2, figsize = (20,6))\n",
    "ax = ax.ravel()\n",
    "\n",
    "ax[0].hist(notoutliers.DiscoveryTime.values, bins, histtype = 'bar', orientation='horizontal')\n",
    "ax[1].hist(notoutliers.DiscoveryTime[notoutliers.name.str.contains('L0.1_')].values, bins, \n",
    "          orientation='horizontal', alpha = 0.7, color = 'slateblue')\n",
    "ax[1].hist(notoutliers.DiscoveryTime[notoutliers.name.str.contains('L50_')].values, bins, \n",
    "          orientation='horizontal', alpha = 0.7, color = 'darkorange')\n",
    "ax[1].set_ylabel('ExplorationTime(second)')\n",
    "ax[1].set_xlabel('Occurance')"
   ]
  },
  {
   "cell_type": "code",
   "execution_count": 10,
   "metadata": {},
   "outputs": [
    {
     "data": {
      "text/plain": [
       "31"
      ]
     },
     "execution_count": 10,
     "metadata": {},
     "output_type": "execute_result"
    }
   ],
   "source": [
    "len(bins)"
   ]
  },
  {
   "cell_type": "code",
   "execution_count": 11,
   "metadata": {},
   "outputs": [
    {
     "data": {
      "text/plain": [
       "<matplotlib.legend.Legend at 0x1a18ff54a8>"
      ]
     },
     "execution_count": 11,
     "metadata": {},
     "output_type": "execute_result"
    },
    {
     "data": {
      "image/png": "[encoded data removed]",
      "text/plain": [
       "<matplotlib.figure.Figure at 0x1a18c3ccf8>"
      ]
     },
     "metadata": {},
     "output_type": "display_data"
    }
   ],
   "source": [
    "plt.plot(notoutliers[notoutliers.name.str.contains('L0.1')].trialNum, \n",
    "         notoutliers[notoutliers.name.str.contains('L0.1')].DiscoveryTime,\n",
    "         'o', color = 'slateblue', label = 'low light (0.1 lux)')\n",
    "plt.plot(notoutliers[notoutliers.name.str.contains('L50')].trialNum, \n",
    "         notoutliers[notoutliers.name.str.contains('L50')].DiscoveryTime, \n",
    "         'o', color = 'darkorange', label = 'bright light (50 lux)')\n",
    "plt.ylabel('Exploration Time (second)')\n",
    "plt.xlabel('Visit Number')\n",
    "plt.legend()\n",
    "\n",
    "# add exponential curves - color: L50 - chocolate or saddle brown, L0.1 - darkslateblue, or blue violet"
   ]
  },
  {
   "cell_type": "code",
   "execution_count": 12,
   "metadata": {},
   "outputs": [
    {
     "name": "stderr",
     "output_type": "stream",
     "text": [
      "/Users/Mahad/anaconda3/lib/python3.6/site-packages/ipykernel_launcher.py:2: SettingWithCopyWarning: \n",
      "A value is trying to be set on a copy of a slice from a DataFrame.\n",
      "Try using .loc[row_indexer,col_indexer] = value instead\n",
      "\n",
      "See the caveats in the documentation: http://pandas.pydata.org/pandas-docs/stable/indexing.html#indexing-view-versus-copy\n",
      "  \n"
     ]
    },
    {
     "data": {
      "text/plain": [
       "Index(['Unnamed: 0', 'Unnamed: 0.1', 'In_Frame', 'Out_Frame', 'Proboscis',\n",
       "       'DiscoveryTime', 'trialNum', 'name', 'zscore', 'outlier_ID',\n",
       "       'lightLevel'],\n",
       "      dtype='object')"
      ]
     },
     "execution_count": 12,
     "metadata": {},
     "output_type": "execute_result"
    }
   ],
   "source": [
    "notoutliers['lightLevel'] = ['low' if 'L0.1' in value \n",
    "                           else 'high' for value in notoutliers['name']]\n",
    "notoutliers.keys()"
   ]
  },
  {
   "cell_type": "code",
   "execution_count": 13,
   "metadata": {},
   "outputs": [],
   "source": [
    "first_0thru10_low = len(notoutliers[(notoutliers.name.str.contains('L0.1')) & (notoutliers.trialNum >= 0) & (notoutliers.trialNum <= 9)].values)\n",
    "first_5thru15_low = len(notoutliers[(notoutliers.name.str.contains('L0.1')) & (notoutliers.trialNum >= 5) & (notoutliers.trialNum <= 14)].values)\n",
    "first_10thru20_low = len(notoutliers[(notoutliers.name.str.contains('L0.1')) & (notoutliers.trialNum >= 9) & (notoutliers.trialNum <= 19)].values)\n",
    "first_15thru25_low = len(notoutliers[(notoutliers.name.str.contains('L0.1')) & (notoutliers.trialNum >= 14) & (notoutliers.trialNum <= 19)].values)\n",
    "first_20thru30_low = len(notoutliers[(notoutliers.name.str.contains('L0.1')) & (notoutliers.trialNum >= 19) & (notoutliers.trialNum <= 29)].values)"
   ]
  },
  {
   "cell_type": "code",
   "execution_count": 14,
   "metadata": {},
   "outputs": [],
   "source": [
    "first_0thru10_high = len(notoutliers[(notoutliers.name.str.contains('L50')) & (notoutliers.trialNum >= 0) & (notoutliers.trialNum <= 9)].values)\n",
    "first_5thru15_high = len(notoutliers[(notoutliers.name.str.contains('L50')) & (notoutliers.trialNum >= 4) & (notoutliers.trialNum <= 14)].values)\n",
    "first_10thru20_high = len(notoutliers[(notoutliers.name.str.contains('L50')) & (notoutliers.trialNum >= 9) & (notoutliers.trialNum <= 17)].values)\n",
    "first_15thru25_high = len(notoutliers[(notoutliers.name.str.contains('L50')) & (notoutliers.trialNum >= 14) & (notoutliers.trialNum <= 19)].values)\n",
    "first_20thru30_high = len(notoutliers[(notoutliers.name.str.contains('L50')) & (notoutliers.trialNum >= 19) & (notoutliers.trialNum <= 29)].values)"
   ]
  },
  {
   "cell_type": "code",
   "execution_count": 15,
   "metadata": {},
   "outputs": [
    {
     "name": "stdout",
     "output_type": "stream",
     "text": [
      "low visits 152\n",
      "high visits 88\n"
     ]
    },
    {
     "data": {
      "text/plain": [
       "(None, None)"
      ]
     },
     "execution_count": 15,
     "metadata": {},
     "output_type": "execute_result"
    }
   ],
   "source": [
    "#0thru10\n",
    "print('low visits',first_0thru10_low), print('high visits',first_0thru10_high)"
   ]
  },
  {
   "cell_type": "code",
   "execution_count": 16,
   "metadata": {},
   "outputs": [
    {
     "name": "stdout",
     "output_type": "stream",
     "text": [
      "low visits 144\n",
      "high visits 85\n"
     ]
    },
    {
     "data": {
      "text/plain": [
       "(None, None)"
      ]
     },
     "execution_count": 16,
     "metadata": {},
     "output_type": "execute_result"
    }
   ],
   "source": [
    "#5thru15\n",
    "print('low visits',first_5thru15_low), print('high visits',first_5thru15_high)"
   ]
  },
  {
   "cell_type": "code",
   "execution_count": 17,
   "metadata": {},
   "outputs": [
    {
     "name": "stdout",
     "output_type": "stream",
     "text": [
      "low visits 133\n",
      "high visits 61\n"
     ]
    },
    {
     "data": {
      "text/plain": [
       "(None, None)"
      ]
     },
     "execution_count": 17,
     "metadata": {},
     "output_type": "execute_result"
    }
   ],
   "source": [
    "#10thru20\n",
    "print('low visits',first_10thru20_low), print('high visits',first_10thru20_high)"
   ]
  },
  {
   "cell_type": "code",
   "execution_count": 18,
   "metadata": {},
   "outputs": [
    {
     "name": "stdout",
     "output_type": "stream",
     "text": [
      "low visits 63\n",
      "high visits 35\n"
     ]
    },
    {
     "data": {
      "text/plain": [
       "(None, None)"
      ]
     },
     "execution_count": 18,
     "metadata": {},
     "output_type": "execute_result"
    }
   ],
   "source": [
    "#15thru25\n",
    "print('low visits',first_15thru25_low), print('high visits',first_15thru25_high)"
   ]
  },
  {
   "cell_type": "code",
   "execution_count": 19,
   "metadata": {},
   "outputs": [
    {
     "name": "stdout",
     "output_type": "stream",
     "text": [
      "low visits 86\n",
      "high visits 37\n"
     ]
    },
    {
     "data": {
      "text/plain": [
       "(None, None)"
      ]
     },
     "execution_count": 19,
     "metadata": {},
     "output_type": "execute_result"
    }
   ],
   "source": [
    "#20thru30\n",
    "print('low visits',first_20thru30_low), print('high visits',first_20thru30_high)"
   ]
  },
  {
   "cell_type": "code",
   "execution_count": null,
   "metadata": {},
   "outputs": [],
   "source": [
    "a,b, _ = plt.hist(notoutliers.DiscoveryTime[(notoutliers.name.str.contains('L0.1_')) & \n",
    "                                     (notoutliers.trialNum >= 0) & (notoutliers.trialNum <= 9)].values,\n",
    "           bins, orientation='horizontal', alpha = 0.7, color = 'slateblue', density = True)\n",
    "plt.plot(a+1e-10,b[1:]+1e-10,'-o')"
   ]
  },
  {
   "cell_type": "code",
   "execution_count": null,
   "metadata": {},
   "outputs": [],
   "source": [
    "fig, ax = plt.subplots(1,5, figsize = (20,5), sharex = True, sharey = True)\n",
    "ax = ax.ravel()\n",
    "\n",
    "\n",
    "hist_0thru10_lowlight, _, _ = ax[0].hist(notoutliers.DiscoveryTime[(notoutliers.name.str.contains('L0.1_')) & \n",
    "                                     (notoutliers.trialNum >= 0) & (notoutliers.trialNum <= 9)].values,\n",
    "           bins, orientation='horizontal', alpha = 0.7, color = 'slateblue', density = True)\n",
    "hist_0thru10_highlight, _, _ = ax[0].hist(notoutliers.DiscoveryTime[(notoutliers.name.str.contains('L50_')) & \n",
    "                                     (notoutliers.trialNum >= 0) & (notoutliers.trialNum <= 9)].values,  \n",
    "           bins, orientation='horizontal', alpha = 0.7, color = 'darkorange', density = True)\n",
    "\n",
    "\n",
    "hist_5thru15_lowlight, _, _ = ax[1].hist(notoutliers.DiscoveryTime[(notoutliers.name.str.contains('L0.1_')) & \n",
    "                                      (notoutliers.trialNum >= 4) & (notoutliers.trialNum <= 14)].values,\n",
    "           bins, orientation='horizontal', alpha = 0.7, color = 'slateblue', density = True)\n",
    "hist_5thru15_highlight, _, _ = ax[1].hist(notoutliers.DiscoveryTime[(notoutliers.name.str.contains('L50_')) & \n",
    "                                      (notoutliers.trialNum >= 4) & (notoutliers.trialNum <= 14)].values, \n",
    "           bins, orientation='horizontal', alpha = 0.7, color = 'darkorange', density = True)\n",
    "\n",
    "\n",
    "hist_10thru20_lowlight, _, _ = ax[2].hist(notoutliers.DiscoveryTime[(notoutliers.name.str.contains('L0.1_')) & \n",
    "                                     (notoutliers.trialNum >= 9) & (notoutliers.trialNum <= 19)].values,\n",
    "           bins, orientation='horizontal', alpha = 0.7, color = 'slateblue', density = True)\n",
    "hist_10thru20_highlight, _, _ = ax[2].hist(notoutliers.DiscoveryTime[(notoutliers.name.str.contains('L50_')) & \n",
    "                                     (notoutliers.trialNum >= 9) & (notoutliers.trialNum <= 19)].values, \n",
    "           bins, orientation='horizontal', alpha = 0.7, color = 'darkorange', density = True)\n",
    "\n",
    "hist_15thru25_lowlight, _, _ = ax[3].hist(notoutliers.DiscoveryTime[(notoutliers.name.str.contains('L0.1_')) & \n",
    "                                       (notoutliers.trialNum >= 14) & (notoutliers.trialNum <= 24)].values,\n",
    "           bins, orientation='horizontal', alpha = 0.7, color = 'slateblue', density = True)\n",
    "hist_15thru25_highlight, _, _ = ax[3].hist(notoutliers.DiscoveryTime[(notoutliers.name.str.contains('L50_')) & \n",
    "                                      (notoutliers.trialNum >= 14) & (notoutliers.trialNum <= 24)].values, \n",
    "           bins, orientation='horizontal', alpha = 0.7, color = 'darkorange', density = True)\n",
    "\n",
    "\n",
    "\n",
    "         \n",
    "    \n",
    "hist_20thru30_lowlight, _, _ = ax[4].hist(notoutliers.DiscoveryTime[(notoutliers.name.str.contains('L0.1_')) & \n",
    "                                     (notoutliers.trialNum >= 19) & (notoutliers.trialNum <= 29)].values,\n",
    "           bins, orientation='horizontal', alpha = 0.7, color = 'slateblue', density = True)\n",
    "hist_20thru30_highlight, _, _ = ax[4].hist(notoutliers.DiscoveryTime[(notoutliers.name.str.contains('L50_')) & \n",
    "                                     (notoutliers.trialNum >= 19) & (notoutliers.trialNum <= 29)].values, \n",
    "           bins, orientation='horizontal', alpha = 0.7, color = 'darkorange', density = True)\n",
    "\n",
    "\n",
    "\n",
    "\n",
    "ax[0].set_title('Visits 0-10', size = 25)\n",
    "ax[1].set_title('Visits 5-15', size = 25)\n",
    "ax[2].set_title('Visits 10-20', size = 25)\n",
    "ax[3].set_title('Visits 15-25', size = 25)\n",
    "ax[4].set_title('Visits 20-30', size = 25)\n",
    "                                     \n",
    "\n",
    "\n",
    "\n",
    "ax[0].set_ylim(-2, 26)\n",
    "# ax[0].set_ylabel('ExplorationTime (seconds)', size = 30, color = 'k')\n",
    "ax[0].set_xlim(0,.33)\n",
    "\n",
    "ax[0].tick_params(labelsize = 25, labelcolor = 'k')\n",
    "ax[1].tick_params(labelsize = 25, labelcolor = 'k')\n",
    "ax[2].tick_params(labelsize = 25, labelcolor = 'k')\n",
    "ax[3].tick_params(labelsize = 25, labelcolor = 'k')\n",
    "ax[4].tick_params(labelsize = 25, labelcolor = 'k')\n",
    "\n",
    "\n",
    "\n",
    "ax[0].text(0.05, 22, 'Successful visits =  ' + str(first_0thru10_low), color = 'indigo', weight = 'bold', size = 14)\n",
    "ax[0].text(0.05, 19, 'Successful visits =  ' + str(first_0thru10_high), color = 'orangered', weight = 'bold', size = 14)\n",
    "\n",
    "\n",
    "ax[1].text(0.05, 22, 'Successful visits =  ' + str(first_5thru15_low), color = 'indigo', weight = 'bold', size = 14)\n",
    "ax[1].text(0.05, 19, 'Successful visits =  ' + str(first_5thru15_high), color = 'orangered', weight = 'bold', size = 14)\n",
    "\n",
    "\n",
    "ax[2].text(0.05, 22, 'Successful visits =  ' + str(first_10thru20_low),  color = 'indigo', weight = 'bold',size = 14)\n",
    "ax[2].text(0.05, 19, 'Successful visits =  ' + str(first_10thru20_high), color = 'orangered', weight = 'bold', size = 14)\n",
    "\n",
    "\n",
    "ax[3].text(0.05, 22, 'Successful visits =  ' + str(first_15thru25_low), color = 'indigo', weight = 'bold', size = 14)\n",
    "ax[3].text(0.05, 19, 'Successful visits =  ' + str(first_15thru25_high), color = 'orangered', weight = 'bold', size = 14)\n",
    "\n",
    "\n",
    "ax[4].text(0.05, 22, 'Successful visits =  ' + str(first_20thru30_low), color = 'indigo', weight = 'bold', size = 14)\n",
    "ax[4].text(0.05, 19, 'Successful visits =  ' + str(first_20thru30_high), color = 'orangered', weight = 'bold', size = 14)\n",
    "\n",
    "\n",
    "\n",
    "                                         \n",
    "outpath_figg = r'/Users/Mahad/Downloads/HistogramFigure'\n",
    "plt.savefig(outpath_figg + \"//\" + 'Visits_0-30.png')\n",
    "# if the plots are normalized to the total number of hits for each window then the size difference in the 20+seconds bin is due to a larger proportion of each condition being from the lower time bins as the moths learn"
   ]
  },
  {
   "cell_type": "code",
   "execution_count": null,
   "metadata": {},
   "outputs": [],
   "source": [
    "def KL(P,Q, epsilon):\n",
    "# \"\"\" Epsilon is used here to avoid conditional code for\n",
    "# checking that neither P nor Q is equal to 0. \"\"\"\n",
    "     epsilon = 1e-20\n",
    "# You may want to instead make copies to avoid changing the np arrays.\n",
    "     P = P+epsilon\n",
    "     Q = Q+epsilon\n",
    "     \n",
    "     divergence = np.sum(P*np.log(P/Q))\n",
    "      \n",
    "     return divergence"
   ]
  },
  {
   "cell_type": "code",
   "execution_count": null,
   "metadata": {},
   "outputs": [],
   "source": [
    "#Divergence for first 10 visits\n",
    "KL(hist_0thru10_lowlight, hist_0thru10_highlight, 1e-30)"
   ]
  },
  {
   "cell_type": "code",
   "execution_count": null,
   "metadata": {},
   "outputs": [],
   "source": [
    "#Divergence for visits 5-15\n",
    "KL(hist_5thru15_lowlight, hist_5thru15_highlight, 1e-30)"
   ]
  },
  {
   "cell_type": "code",
   "execution_count": null,
   "metadata": {},
   "outputs": [],
   "source": [
    "#Divergence for visits 10-20\n",
    "KL(hist_10thru20_lowlight, hist_10thru20_highlight, 1e-30)"
   ]
  },
  {
   "cell_type": "code",
   "execution_count": null,
   "metadata": {},
   "outputs": [],
   "source": [
    "#Divergence for visits 15-25\n",
    "KL(hist_15thru25_lowlight, hist_15thru25_highlight, 1e-30)"
   ]
  },
  {
   "cell_type": "code",
   "execution_count": null,
   "metadata": {},
   "outputs": [],
   "source": [
    "hist_0thru10_lowlight, hist_0thru10_lowlight + 1e-20, hist_0thru10_lowlight + 1e2"
   ]
  },
  {
   "cell_type": "code",
   "execution_count": null,
   "metadata": {},
   "outputs": [],
   "source": [
    "#Significance for first 10 visits\n",
    "stats.ks_2samp(hist_0thru10_lowlight,\n",
    "hist_0thru10_highlight), stats.ks_2samp(hist_0thru10_lowlight+1e-20,\n",
    "                                        hist_0thru10_highlight+1e-20), stats.ks_2samp(hist_0thru10_lowlight+1e2,\n",
    "                                                                                      hist_0thru10_highlight+1e2)"
   ]
  },
  {
   "cell_type": "code",
   "execution_count": null,
   "metadata": {},
   "outputs": [],
   "source": [
    "#Significance for visits 5-15\n",
    "stats.ks_2samp(hist_5thru15_lowlight, hist_5thru15_highlight)"
   ]
  },
  {
   "cell_type": "code",
   "execution_count": null,
   "metadata": {},
   "outputs": [],
   "source": [
    "#Significance for visits 10-20\n",
    "stats.ks_2samp(hist_10thru20_lowlight,hist_10thru20_highlight)"
   ]
  },
  {
   "cell_type": "code",
   "execution_count": null,
   "metadata": {},
   "outputs": [],
   "source": [
    "#Significance for visits 15-25\n",
    "stats.ks_2samp(hist_15thru25_lowlight, hist_15thru25_highlight)"
   ]
  },
  {
   "cell_type": "code",
   "execution_count": null,
   "metadata": {},
   "outputs": [],
   "source": [
    "import seaborn as sns\n",
    "df = sns.load_dataset('tips')\n",
    " \n",
    "# Grouped boxplot\n",
    "sns.boxplot(x=\"lightLevel\", y=\"DiscoveryTime\", data=notoutliers, palette=\"Set1\")\n",
    "# sns.plt.show()"
   ]
  },
  {
   "cell_type": "code",
   "execution_count": null,
   "metadata": {},
   "outputs": [],
   "source": [
    "test = notoutliers"
   ]
  },
  {
   "cell_type": "code",
   "execution_count": null,
   "metadata": {},
   "outputs": [],
   "source": [
    "First_3 = notoutliers[(notoutliers.trialNum >= 0) & (notoutliers.trialNum <= 3)]\n",
    "First_5 = notoutliers[(notoutliers.trialNum >= 4) & (notoutliers.trialNum <= 14)]\n",
    "First_10 = notoutliers[(notoutliers.trialNum >= 9) & (notoutliers.trialNum <= 19)]\n",
    "# Visits_15thru25 = notoutliers[(notoutliers.trialNum > 14) & (notoutliers.trialNum <= 24)]\n",
    "First_20 = notoutliers[(notoutliers.trialNum >= 14) & (notoutliers.trialNum <= 19)] \n",
    "First_30 = notoutliers[(notoutliers.trialNum >= 19) & (notoutliers.trialNum <= 29)]\n",
    "All = notoutliers[(notoutliers.trialNum >= 24) & (notoutliers.trialNum <= 34)]\n",
    "#look at data to see better lateTrial numbers"
   ]
  },
  {
   "cell_type": "code",
   "execution_count": null,
   "metadata": {},
   "outputs": [],
   "source": [
    "def kde_scipy(x):\n",
    "    \"\"\"Kernel Density Estimation with Scipy\"\"\"\n",
    "    kde = gaussian_kde(x)\n",
    "    return kde"
   ]
  },
  {
   "cell_type": "code",
   "execution_count": null,
   "metadata": {},
   "outputs": [],
   "source": [
    "alldata = First_3.DiscoveryTime/100\n",
    "_,bins = np.histogram(alldata, bins = 100, density = True)\n",
    "bin_center = 0.5*(bins[1:]+bins[:-1])\n",
    "bin_center = np.linspace(0,60,200)\n",
    "delta = np.diff(bin_center)[0]"
   ]
  },
  {
   "cell_type": "code",
   "execution_count": null,
   "metadata": {},
   "outputs": [],
   "source": [
    "for flower, df in First_3.groupby('lightLevel'):\n",
    "    plt.hist(df.DiscoveryTime/100, histtype='bar', label = flower, alpha = 0.5)\n",
    "    plt.legend()"
   ]
  },
  {
   "cell_type": "code",
   "execution_count": null,
   "metadata": {},
   "outputs": [],
   "source": [
    "for flower, df in First_5.groupby('lightLevel'):\n",
    "    plt.hist(df.DiscoveryTime/100, histtype='bar', label = flower, alpha = 0.5)\n",
    "    plt.legend()"
   ]
  },
  {
   "cell_type": "code",
   "execution_count": null,
   "metadata": {},
   "outputs": [],
   "source": [
    "# alldata = First_10.DiscoveryTime/100\n",
    "# _,bins = np.histogram(alldata, bins = 100, density = True)\n",
    "# bin_center = 0.5*(bins[1:]+bins[:-1])\n",
    "# bin_center = np.linspace(0,60,200)\n",
    "# delta = np.diff(bin_center)[0]"
   ]
  },
  {
   "cell_type": "code",
   "execution_count": null,
   "metadata": {},
   "outputs": [],
   "source": [
    "for flower, df in First_10.groupby('lightLevel'):\n",
    "    plt.hist(df.DiscoveryTime/100, histtype='bar', label = flower, alpha = 0.5)\n",
    "    plt.legend()"
   ]
  },
  {
   "cell_type": "code",
   "execution_count": null,
   "metadata": {},
   "outputs": [],
   "source": [
    "# for flower, df in Visits_15thru25.groupby('lightLevel'):\n",
    "#     plt.hist(df.DiscoveryTime/100, histtype='bar', label = flower, alpha = 0.5)\n",
    "#     plt.legend()"
   ]
  },
  {
   "cell_type": "code",
   "execution_count": null,
   "metadata": {},
   "outputs": [],
   "source": [
    "for flower, df in First_20.groupby('lightLevel'):\n",
    "    plt.hist(df.DiscoveryTime/100, histtype='bar', label = flower, alpha = 0.5)\n",
    "    plt.legend()"
   ]
  },
  {
   "cell_type": "code",
   "execution_count": null,
   "metadata": {},
   "outputs": [],
   "source": [
    "for flower, df in First_30.groupby('lightLevel'):\n",
    "    plt.hist(df.DiscoveryTime/100, histtype='bar', label = flower, alpha = 0.5)\n",
    "    plt.legend()"
   ]
  },
  {
   "cell_type": "code",
   "execution_count": null,
   "metadata": {},
   "outputs": [],
   "source": [
    "for flower, df in All.groupby('lightLevel'):\n",
    "    plt.hist(df.DiscoveryTime/100, histtype='bar', label = flower, alpha = 0.5)\n",
    "    plt.legend()"
   ]
  },
  {
   "cell_type": "code",
   "execution_count": null,
   "metadata": {},
   "outputs": [],
   "source": [
    "First_3_df = pd.DataFrame(index = bin_center, columns = ['Low', 'High'], dtype = 'float')\n",
    "First_5_df = pd.DataFrame(index = bin_center, columns = ['Low', 'High'], dtype = 'float')\n",
    "First_10_df = pd.DataFrame(index = bin_center, columns = ['Low', 'High'], dtype = 'float')\n",
    "# Visits_15thru25_df = pd.DataFrame(index = bin_center, columns = ['Low', 'High'], dtype = 'float')\n",
    "First_20_df = pd.DataFrame(index = bin_center, columns = ['Low', 'High'], dtype = 'float')\n",
    "First_30_df = pd.DataFrame(index = bin_center, columns = ['Low', 'High'], dtype = 'float')\n",
    "All_df = pd.DataFrame(index = bin_center, columns = ['Low', 'High'], dtype = 'float')\n",
    "SampleSize = pd.DataFrame(index = ['low', 'high'], columns = ['3', '5', '10', '15-25', '20', '30', 'all'], dtype = 'float')"
   ]
  },
  {
   "cell_type": "code",
   "execution_count": null,
   "metadata": {},
   "outputs": [],
   "source": [
    "from scipy.stats import gaussian_kde\n",
    "\n",
    "plt.set_cmap('Spectral')\n",
    "f2, ax2 = plt.subplots(1,5,sharex = True, sharey = True, figsize = (20,5))\n",
    "\n",
    "\n",
    "offset = 0\n",
    "\n",
    "V_0thru10_low = []\n",
    "V_0thru10_high = []\n",
    "for f, df in First_3.groupby('lightLevel', sort = True):\n",
    "    print(f)\n",
    "    data = df.DiscoveryTime   \n",
    "    SampleSize.loc[f,'3'] = len(data)\n",
    "    kde = kde_scipy(data)\n",
    "    \n",
    "    temp = kde.pdf(bin_center)\n",
    "    temp /= delta * np.sum(temp)\n",
    "    First_3_df.loc[:,f]=temp\n",
    "    if f.startswith(\"low\"):\n",
    "        c = 'indigo'\n",
    "        V_0thru10_low.extend(temp)\n",
    "        d = 'midnightblue'\n",
    "    elif f.startswith(\"high\"):\n",
    "        c = 'darkorange'\n",
    "        V_0thru10_high.extend(temp)\n",
    "        \n",
    "        d = 'darkred'\n",
    "\n",
    "    p = ax2[0].plot(temp, bin_center, label = f, color = c)\n",
    "    ax2[0].plot([-0.01 + offset]*len(data), data, 'o', ms = 2, color = c, mec = d, alpha = 0.35)\n",
    "    offset+=-0.01\n",
    "\n",
    "    ax2[0].set_title('Visits 0-10')\n",
    "offset = 0\n",
    "V_5thru15_low = []\n",
    "V_5thru15_high = []\n",
    "for f, df in First_5.groupby('lightLevel', sort = True):\n",
    "\n",
    "    data = df.DiscoveryTime    \n",
    "    SampleSize.loc[f,'5'] = len(data)\n",
    "    kde = kde_scipy(data)\n",
    "    \n",
    "    temp = kde.pdf(bin_center)\n",
    "    temp /= delta * np.sum(temp)\n",
    "    First_5_df.loc[:,f]=temp\n",
    "    \n",
    "    if f.startswith(\"low\"):\n",
    "        c = 'indigo'\n",
    "        V_5thru15_low.extend(temp)\n",
    "        d = 'midnightblue'\n",
    "    elif f.startswith(\"high\"):\n",
    "        c = 'darkorange'\n",
    "        V_5thru15_high.extend(temp)\n",
    "        d = 'darkred'\n",
    "        \n",
    "\n",
    "    p = ax2[1].plot(temp, bin_center,  label = f, color = c)\n",
    "    ax2[1].plot([-0.01 + offset]*len(data), data, 'o', ms = 2, color = c, mec = d, alpha = 0.35)\n",
    "    offset+=-0.01\n",
    "\n",
    "    ax2[1].set_title('Visits 5-15')\n",
    "    \n",
    "offset = 0\n",
    "V_10thru20_low = []\n",
    "V_10thru20_high = []\n",
    "for f, df in First_10.groupby('lightLevel', sort = True):\n",
    "    \n",
    "    data = df.DiscoveryTime   \n",
    "    SampleSize.loc[f,'10'] = len(data)\n",
    "    kde = kde_scipy(data)\n",
    "    \n",
    "    temp = kde.pdf(bin_center)\n",
    "    temp /= delta * np.sum(temp)\n",
    "    First_10_df.loc[:,f]=temp\n",
    "    \n",
    "    if f.startswith(\"low\"):\n",
    "        c = 'indigo'\n",
    "        V_10thru20_low.extend(temp)\n",
    "        d = 'midnightblue'\n",
    "    elif f.startswith(\"high\"):\n",
    "        c = 'darkorange'\n",
    "        \n",
    "        V_10thru20_high.extend(temp)\n",
    "        d = 'darkred'\n",
    "\n",
    "    p = ax2[2].plot(temp, bin_center, label = f, color = c)\n",
    "    ax2[2].plot([-0.01 + offset]*len(data), data, 'o', ms = 2, color = c, mec = d, alpha = 0.35)\n",
    "    offset+=-0.01\n",
    "\n",
    "    ax2[2].set_title('Visits 10-20')\n",
    "offset = 0\n",
    "V_15thru25_low = []\n",
    "V_15thru25_high = []\n",
    "for f, df in First_20.groupby('lightLevel', sort = True):\n",
    "\n",
    "    data = df.DiscoveryTime    \n",
    "    SampleSize.loc[f,'20'] = len(data)\n",
    "    kde = kde_scipy(data)\n",
    "    \n",
    "    temp = kde.pdf(bin_center)\n",
    "    temp /= delta * np.sum(temp)\n",
    "    First_20_df.loc[:,f]=temp\n",
    "    \n",
    "    if f.startswith(\"low\"):\n",
    "        c = 'indigo'\n",
    "        V_15thru25_low.extend(temp)\n",
    "        d = 'midnightblue'\n",
    "    elif f.startswith(\"high\"):\n",
    "        c = 'darkorange'\n",
    "        V_15thru25_high.extend(temp)\n",
    "        d = 'darkred'\n",
    "        \n",
    "#     ax1[1].plot(bin_center, hist)\n",
    "    p = ax2[3].plot(temp, bin_center, label = f, color = c)\n",
    "    ax2[3].plot([-0.01 + offset]*len(data), data, 'o', ms = 2, color = c, mec = d, alpha = 0.35)\n",
    "    offset+=-0.01\n",
    "#     ax2[3].legend()\n",
    "    ax2[3].set_title('Visits 15-25')\n",
    "    \n",
    "offset = 0\n",
    "V_20thru30_low = []\n",
    "V_20thru30_high = []\n",
    "for f, df in First_30.groupby('lightLevel', sort = True):\n",
    "    print(f)\n",
    "    data = df.DiscoveryTime   \n",
    "    SampleSize.loc[f,'30'] = len(data)\n",
    "    kde = kde_scipy(data)\n",
    "    \n",
    "    temp = kde.pdf(bin_center)\n",
    "    temp /= delta * np.sum(temp)\n",
    "    First_30_df.loc[:,f]=temp\n",
    "    \n",
    "    if f.startswith(\"low\"):\n",
    "        c = 'indigo'\n",
    "        V_20thru30_low.extend(temp)\n",
    "        d = 'midnightblue'\n",
    "    elif f.startswith(\"high\"):\n",
    "        c = 'darkorange'\n",
    "        \n",
    "        V_20thru30_high.extend(temp)\n",
    "        d = 'darkred'\n",
    "#     ax1[0].plot(bin_center, hist)\n",
    "    p = ax2[4].plot(temp, bin_center, label = f, color = c)\n",
    "    ax2[4].plot([-0.01 + offset]*len(data), data, 'o', ms = 2, color = c, mec = d, alpha = 0.35)\n",
    "    offset+=-0.01\n",
    "#     ax2[4].legend()\n",
    "    ax2[4].set_title('Visits 20-30')\n",
    "\n",
    "ax2[0].set_ylabel('Exploration Time (seconds)', size = 30, color = 'k')\n",
    "ax2[0].set_ylim(-3,26)\n",
    "\n",
    "ax2[0].text(.645,-9,'Probability Density', size = 30)\n",
    "ax2[0].tick_params(labelsize = 25, labelcolor = 'k')\n",
    "ax2[1].tick_params(labelsize = 25, labelcolor = 'k')\n",
    "ax2[2].tick_params(labelsize = 25, labelcolor = 'k')\n",
    "ax2[3].tick_params(labelsize = 25, labelcolor = 'k')\n",
    "ax2[4].tick_params(labelsize = 25, labelcolor = 'k')\n",
    "ax2[0].set_xlim(-.04,0.26)\n",
    "\n",
    "\n",
    "ax2[0].text(0.017, 23, ' p = 0.014 (KS Test)', color = 'r', weight = 'bold', size = 16 )\n",
    "ax2[0].text(0.021, 20, 'D =  0.362 (KL Test)', size = 15)\n",
    "ax2[1].text(0.017, 23, ' p = 1.10e-6 (KS Test)', color = 'r', weight = 'bold', size = 16 )\n",
    "ax2[1].text(0.021, 20, 'D = 0.170 (KL Test)', size = 15)\n",
    "ax2[2].text(0.017, 23, ' p = 7.66e-10 (KS Test)', color = 'r', weight = 'bold', size = 16 )\n",
    "ax2[2].text(0.021, 20, 'D = 0.415 (KL Test)', size = 15)\n",
    "ax2[3].text(0.017, 23, ' p = 2.40e-11 (KS Test)', color = 'r', weight = 'bold', size = 16 )\n",
    "ax2[3].text(0.021, 20, 'D = 0.691 (KL Test)', size = 15)\n",
    "ax2[4].text(0.017, 23, ' p = 2.70e-17 (KS Test)', color = 'r', weight = 'bold', size = 16)\n",
    "ax2[4].text(0.021, 20, 'D = 0.452 (KL Test)', size = 15)\n",
    "\n",
    "plt.tight_layout()\n",
    "plt.savefig(outpath_figg + \"//\" + 'Visits0-30_Stats_Plot_PDE.png')\n"
   ]
  },
  {
   "cell_type": "code",
   "execution_count": null,
   "metadata": {},
   "outputs": [],
   "source": [
    "#first ten visits\n",
    "KL(np.asarray(V_0thru10_low),np.asarray(V_0thru10_high), 1e-30), stats.ks_2samp(V_0thru10_low,V_0thru10_high)"
   ]
  },
  {
   "cell_type": "code",
   "execution_count": null,
   "metadata": {},
   "outputs": [],
   "source": [
    "#visits 5-15\n",
    "KL(np.asarray(V_5thru15_low),np.asarray(V_5thru15_high), 1e-30), stats.ks_2samp(V_5thru15_low,V_5thru15_high)"
   ]
  },
  {
   "cell_type": "code",
   "execution_count": null,
   "metadata": {},
   "outputs": [],
   "source": [
    "#visits 10-20\n",
    "KL(np.asarray(V_10thru20_low),np.asarray(V_10thru20_high), 1e-30), stats.ks_2samp(V_10thru20_low,V_10thru20_high)"
   ]
  },
  {
   "cell_type": "code",
   "execution_count": null,
   "metadata": {},
   "outputs": [],
   "source": [
    "#visits 15-25\n",
    "KL(np.asarray(V_15thru25_low),np.asarray(V_15thru25_high), 1e-30), stats.ks_2samp(V_15thru25_low,V_15thru25_high)"
   ]
  },
  {
   "cell_type": "code",
   "execution_count": null,
   "metadata": {},
   "outputs": [],
   "source": [
    "#visits 20-30 (although sample size is pretty low)\n",
    "KL(np.asarray(V_20thru30_low),np.asarray(V_20thru30_high), 1e-30), stats.ks_2samp(V_20thru30_low,V_20thru30_high)"
   ]
  },
  {
   "cell_type": "code",
   "execution_count": 20,
   "metadata": {},
   "outputs": [],
   "source": [
    "first_3_low = len(notoutliers[(notoutliers.name.str.contains('L0.1')) & (notoutliers.trialNum >= 0) & (notoutliers.trialNum <= 3)].values)\n",
    "first_3_high = len(notoutliers[(notoutliers.name.str.contains('L50')) & (notoutliers.trialNum >= 0) & (notoutliers.trialNum <= 3)].values)\n",
    "V_14thru19_low = len(notoutliers[(notoutliers.name.str.contains('L0.1')) & (notoutliers.trialNum >= 14) & (notoutliers.trialNum <= 19)].values)\n",
    "V_14thru19_high = len(notoutliers[(notoutliers.name.str.contains('L50')) & (notoutliers.trialNum >= 14) & (notoutliers.trialNum <= 19)].values)"
   ]
  },
  {
   "cell_type": "code",
   "execution_count": 24,
   "metadata": {},
   "outputs": [
    {
     "data": {
      "image/png": "[encoded data removed]",
      "text/plain": [
       "<matplotlib.figure.Figure at 0x1a196e3f60>"
      ]
     },
     "metadata": {},
     "output_type": "display_data"
    }
   ],
   "source": [
    "#add a comparison between the early and late visits within a light level (one plot comparing two time points with similar N size maybe 0-10 vs 15-25?)fig, ax = plt.subplots(1,2, figsize = (20,5), sharex = True, sharey = True)\n",
    "fig, ax = plt.subplots(1,2, figsize = (20,5), sharex = True, sharey = True)\n",
    "ax = ax.ravel()\n",
    "\n",
    "\n",
    "hist_early_lowlight, _, _ = ax[0].hist(notoutliers.DiscoveryTime[(notoutliers.name.str.contains('L0.1_')) & \n",
    "                                     (notoutliers.trialNum >= 0) & (notoutliers.trialNum <= 3)].values,\n",
    "            orientation='horizontal', alpha = 0.7, color = 'steelblue', density = True)\n",
    "hist_late_lowlight, _, _ = ax[0].hist(notoutliers.DiscoveryTime[(notoutliers.name.str.contains('L0.1_')) & \n",
    "                                     (notoutliers.trialNum >= 14) & (notoutliers.trialNum <= 19)].values, \n",
    "            orientation='horizontal', alpha = 0.7, color = 'slateblue', density = True)\n",
    "hist_early_highlight, _, _ = ax[1].hist(notoutliers.DiscoveryTime[(notoutliers.name.str.contains('L50')) & \n",
    "                                     (notoutliers.trialNum >= 0) & (notoutliers.trialNum <= 3)].values, orientation='horizontal', alpha = 0.7, color = 'lightcoral', density = True)\n",
    "hist_late_highlight, _, _ = ax[1].hist(notoutliers.DiscoveryTime[(notoutliers.name.str.contains('L50')) & \n",
    "                                     (notoutliers.trialNum >= 14) & (notoutliers.trialNum <= 19)].values, orientation='horizontal', alpha = 0.7, color = 'maroon', density = True)\n",
    "\n",
    "ax[0].set_title('Low Light', size = 25)\n",
    "ax[1].set_title('High Light', size = 25)\n",
    "                                      \n",
    "\n",
    "\n",
    "\n",
    "ax[0].set_ylim(-2, 26)\n",
    "ax[0].set_ylabel('ExplorationTime (seconds)', size = 20, color = 'k')\n",
    "ax[0].set_xlim(0,.33)\n",
    "# ax[0].text(.35,-9,'Probability occurance', size = 24)\n",
    "ax[0].tick_params(labelsize = 15, labelcolor = 'k')\n",
    "ax[1].tick_params(labelsize = 15, labelcolor = 'k')\n",
    "\n",
    "\n",
    "\n",
    "ax[0].text(0.067, 22, 'Early (0-3) Successful visits = ' + str(first_3_low), color = 'steelblue', weight = 'bold', size = 22)\n",
    "ax[0].text(0.067, 19, 'Late (14-19) Successful visits = ' + str(V_14thru19_low), color = 'slateblue', weight = 'bold', size = 22)\n",
    "# ax[0].text(0.2, 22, color = 'r', weight = 'bold', size = 22)\n",
    "\n",
    "\n",
    "ax[1].text(0.067, 22, 'Early (0-3) Successful visits = ' + str(first_3_high), color = 'lightcoral', weight = 'bold', size = 22)\n",
    "ax[1].text(0.067, 19, 'Late (14-19) Successful visits = ' + str(V_14thru19_high), color = 'maroon', weight = 'bold', size = 22)\n",
    "# ax[1].text(0.2, 22, color = 'k', weight = 'bold', size = 22)\n",
    "plt.tight_layout()\n",
    "# plt.savefig(outpath_figg + \"//\" + 'Early_0thru3_Late_14thru19_Comparison_AcrossLights.png')"
   ]
  },
  {
   "cell_type": "code",
   "execution_count": null,
   "metadata": {},
   "outputs": [],
   "source": [
    "#learning comparing the early and later visits lower light. A negative value means the second thing is less ?? (that's how it is between light levels)\n",
    "KL(hist_early_lowlight, hist_late_lowlight, 1e-30), stats.ks_2samp(hist_early_lowlight,hist_late_lowlight)"
   ]
  },
  {
   "cell_type": "code",
   "execution_count": null,
   "metadata": {},
   "outputs": [],
   "source": [
    "#learning comparing the early and later visits higher light\n",
    "KL(hist_early_highlight, hist_late_highlight, 1e-30), stats.ks_2samp(hist_early_highlight,hist_late_highlight)"
   ]
  },
  {
   "cell_type": "markdown",
   "metadata": {},
   "source": [
    "notoutliers.keys()"
   ]
  },
  {
   "cell_type": "code",
   "execution_count": null,
   "metadata": {},
   "outputs": [],
   "source": [
    "low = notoutliers[(notoutliers.name.str.contains('L0.1_')) & (notoutliers.trialNum >= 0) & (notoutliers.trialNum <= 3)| (notoutliers.name.str.contains('L0.1_')) & (notoutliers.trialNum >= 14) & (notoutliers.trialNum <= 19)]\n",
    "high = notoutliers[(notoutliers.name.str.contains('L50_')) & (notoutliers.trialNum >= 0) & (notoutliers.trialNum <= 3)| (notoutliers.name.str.contains('L50_')) & (notoutliers.trialNum >= 14) & (notoutliers.trialNum <= 19)]"
   ]
  },
  {
   "cell_type": "code",
   "execution_count": null,
   "metadata": {},
   "outputs": [],
   "source": [
    "low.trialNum.values"
   ]
  },
  {
   "cell_type": "code",
   "execution_count": null,
   "metadata": {},
   "outputs": [],
   "source": [
    "visit_epoch = []\n",
    "for element in low.trialNum.values:\n",
    "    if element < 10:\n",
    "        visit_epoch.append(\"early\")\n",
    "    else:\n",
    "        visit_epoch.append(\"late\")\n",
    "visit_epoch"
   ]
  },
  {
   "cell_type": "code",
   "execution_count": null,
   "metadata": {},
   "outputs": [],
   "source": [
    "element"
   ]
  },
  {
   "cell_type": "code",
   "execution_count": null,
   "metadata": {},
   "outputs": [],
   "source": [
    "high_visit_epoch = []\n",
    "for element in high.trialNum.values:\n",
    "    if element < 10:\n",
    "        high_visit_epoch.append(\"early\")\n",
    "    else:\n",
    "        high_visit_epoch.append(\"late\")\n",
    "high_visit_epoch"
   ]
  },
  {
   "cell_type": "code",
   "execution_count": null,
   "metadata": {},
   "outputs": [],
   "source": [
    "visit_chunk = pd.DataFrame(data = visit_epoch, columns = [\"visit_chunk\"])\n",
    "high_visit_chunk = pd.DataFrame(data = high_visit_epoch, columns = [\"visit_chunk\"])"
   ]
  },
  {
   "cell_type": "code",
   "execution_count": null,
   "metadata": {},
   "outputs": [],
   "source": [
    "low = low.drop(['Unnamed: 0', 'Unnamed: 0.1'], axis = 1)\n",
    "low.reset_index(drop=True, inplace=True)\n",
    "high = high.drop(['Unnamed: 0', 'Unnamed: 0.1'], axis = 1)\n",
    "high.reset_index(drop=True, inplace=True)"
   ]
  },
  {
   "cell_type": "code",
   "execution_count": null,
   "metadata": {},
   "outputs": [],
   "source": [
    "low = pd.concat([low, visit_chunk], axis = 1)\n",
    "high = pd.concat([high, high_visit_chunk], axis = 1)"
   ]
  },
  {
   "cell_type": "code",
   "execution_count": null,
   "metadata": {},
   "outputs": [],
   "source": [
    "high.keys()"
   ]
  },
  {
   "cell_type": "code",
   "execution_count": null,
   "metadata": {},
   "outputs": [],
   "source": [
    "alldata = low.DiscoveryTime/100\n",
    "_,bins = np.histogram(alldata, bins = 100, density = True)\n",
    "bin_center = 0.5*(bins[1:]+bins[:-1])\n",
    "bin_center = np.linspace(0,60,200)\n",
    "delta = np.diff(bin_center)[0]"
   ]
  },
  {
   "cell_type": "code",
   "execution_count": null,
   "metadata": {},
   "outputs": [],
   "source": [
    "low_df = pd.DataFrame(index = bin_center, columns = ['early', 'late'], dtype = 'float')\n",
    "high_df = pd.DataFrame(index = bin_center, columns = ['early', 'late'], dtype = 'float')\n",
    "light_level = pd.DataFrame(index = ['early', 'late'], columns = ['low', 'high'], dtype = 'float')"
   ]
  },
  {
   "cell_type": "code",
   "execution_count": null,
   "metadata": {},
   "outputs": [],
   "source": [
    "light_level"
   ]
  },
  {
   "cell_type": "code",
   "execution_count": null,
   "metadata": {},
   "outputs": [],
   "source": [
    "from scipy.stats import gaussian_kde\n",
    "\n",
    "plt.set_cmap('Spectral')\n",
    "f2, ax2 = plt.subplots(1,2,sharex = True, sharey = True, figsize = (20,5))\n",
    "\n",
    "\n",
    "offset = 0\n",
    "t_l_e = []\n",
    "t_l_l = []\n",
    "\n",
    "for f, df in low.groupby('visit_chunk', sort = True):\n",
    "    \n",
    "    data = df.DiscoveryTime   \n",
    "    light_level.loc[f,'low'] = len(data)\n",
    "    print(len(data))\n",
    "    kde = kde_scipy(data)\n",
    "    \n",
    "    \n",
    "    temp = kde.pdf(bin_center)\n",
    "    temp /= delta * np.sum(temp)\n",
    "    low_df.loc[:,f] = temp\n",
    "    \n",
    "    \n",
    "    if f.startswith(\"early\"):\n",
    "        c = 'steelblue'\n",
    "        t_l_e.extend(temp)\n",
    "        d = 'steelblue'\n",
    "    elif f.startswith(\"late\"):\n",
    "        c = 'indigo'\n",
    "        t_l_l.extend(temp)\n",
    "        \n",
    "        d = 'indigo'\n",
    "\n",
    "    p = ax2[0].plot(temp, bin_center, label = f, color = c)\n",
    "    ax2[0].plot([-0.01 + offset]*len(data), data, 'o', ms = 2, color = c, mec = d, alpha = 0.35)\n",
    "    offset+=-0.01\n",
    "\n",
    "    ax2[0].set_title('Low', size = 20)\n",
    "offset = 0\n",
    "t_h_e = []\n",
    "t_h_l = []\n",
    "\n",
    "for f, df in high.groupby('visit_chunk', sort = True):\n",
    "    \n",
    "    data = df.DiscoveryTime   \n",
    "    light_level.loc[f,'high'] = len(data)\n",
    "    kde = kde_scipy(data)\n",
    "    \n",
    "    temp = kde.pdf(bin_center)\n",
    "    temp /= delta * np.sum(temp)\n",
    "    high_df.loc[:,f]=temp\n",
    "    \n",
    "    \n",
    "    if f.startswith(\"early\"):\n",
    "        \n",
    "        c = 'lightcoral'\n",
    "        t_h_e.extend(temp)\n",
    "        d = 'lightcoral'\n",
    "    elif f.startswith(\"late\"):\n",
    "        t_h_l.extend(temp)\n",
    "        c = 'maroon'\n",
    "        \n",
    "        \n",
    "        d = 'maroon'\n",
    "    p = ax2[1].plot(temp, bin_center, label = f, color = c)\n",
    "    ax2[1].plot([-0.01 + offset]*len(data), data, 'o', ms = 2, color = c, mec = d, alpha = 0.35)\n",
    "    offset+=-0.01\n",
    "\n",
    "    ax2[1].set_title('High', size = 20)\n",
    "ax2[0].set_ylim(-2, 26)\n",
    "ax2[0].set_ylabel('ExplorationTime (seconds)', size = 20, color = 'k')\n",
    "ax2[0].set_xlim(-.03, .33)\n",
    "ax2[0].tick_params(labelsize = 15, labelcolor = 'k')\n",
    "ax2[1].tick_params(labelsize = 15, labelcolor = 'k')\n",
    "ax2[0].text(0.15, 20, ' p = 2.46e-14 (KS Test)', color = 'r', weight = 'bold', size = 17 )\n",
    "ax2[1].text(0.15, 20, ' p = 2.39e-5 (KS Test)', color = 'r', weight = 'bold', size = 17 )\n",
    "plt.tight_layout()\n",
    "plt.savefig(outpath_figg + \"//\" + 'Early_Late_Comparison_AcrossLights_PDE.png')"
   ]
  },
  {
   "cell_type": "code",
   "execution_count": null,
   "metadata": {},
   "outputs": [],
   "source": [
    "#low light early vs. late comparison\n",
    "stats.ks_2samp(t_l_e,t_l_l)"
   ]
  },
  {
   "cell_type": "code",
   "execution_count": null,
   "metadata": {},
   "outputs": [],
   "source": [
    "#high light early vs. late comparison\n",
    "stats.ks_2samp(t_h_e,t_h_l)"
   ]
  },
  {
   "cell_type": "code",
   "execution_count": null,
   "metadata": {},
   "outputs": [],
   "source": [
    "#is there a way to just measure low exploration time bins?"
   ]
  }
 ],
 "metadata": {
  "kernelspec": {
   "display_name": "Python 3",
   "language": "python",
   "name": "python3"
  },
  "language_info": {
   "codemirror_mode": {
    "name": "ipython",
    "version": 3
   },
   "file_extension": ".py",
   "mimetype": "text/x-python",
   "name": "python",
   "nbconvert_exporter": "python",
   "pygments_lexer": "ipython3",
   "version": "3.6.4"
  }
 },
 "nbformat": 4,
 "nbformat_minor": 2
}
