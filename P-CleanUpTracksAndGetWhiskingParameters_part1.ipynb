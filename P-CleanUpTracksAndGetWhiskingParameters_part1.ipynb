{
 "cells": [
  {
   "cell_type": "code",
   "execution_count": 1,
   "metadata": {},
   "outputs": [],
   "source": [
    "import numpy as np\n",
    "import pandas as pd\n",
    "import glob\n",
    "import os\n",
    "import matplotlib.pyplot as plt\n",
    "from scipy import signal\n",
    "import sys"
   ]
  },
  {
   "cell_type": "code",
   "execution_count": 2,
   "metadata": {},
   "outputs": [],
   "source": [
    "def GetRMSE(x2, y2, x1, y1):\n",
    "    from scipy.spatial.distance import pdist\n",
    "\n",
    "    er = []\n",
    "    for idx in range(len(x2)):\n",
    "        X = np.asarray([[x1[idx], y1[idx]], \n",
    "                         [x2[idx], y2[idx]]])\n",
    "        temp_er = pdist(X,metric = 'euclidean')\n",
    "        er.append(temp_er[0])\n",
    "    er = np.asarray(er)\n",
    "    return(er)"
   ]
  },
  {
   "cell_type": "code",
   "execution_count": 3,
   "metadata": {},
   "outputs": [],
   "source": [
    "# Do this for all the raw data..\n",
    "\n",
    "# [### check list for video annotation - mannually or automated \n",
    "#### If frames are manually annotated, then read them directly and add to next folder.\n",
    "#### If automated via Deeplabcut, filter them based on filtering parameters.]"
   ]
  },
  {
   "cell_type": "code",
   "execution_count": 4,
   "metadata": {},
   "outputs": [],
   "source": [
    "# parameters used to filter data\n",
    "\n",
    "cutoff = 24\n",
    "\n",
    "interpol_order = 3 # order for polynomial interpolation\n",
    "\n",
    "# win_gauss = signal.gaussian(10,3) # gaussian kernal for smoothening interpolated data\n",
    "\n",
    "# parameters for the savitzky-golay filter\n",
    "savgol_win = 11\n",
    "savgol_polyorder = 3\n",
    "\n",
    "# window_length=7, polyorder=2,\n",
    "\n",
    "# ROLLING_WINDOW = [11, 21, 31][0]"
   ]
  },
  {
   "cell_type": "markdown",
   "metadata": {},
   "source": [
    "### remove x y points based on threshold ( of rmse distance from previous frame ) "
   ]
  },
  {
   "cell_type": "code",
   "execution_count": 5,
   "metadata": {},
   "outputs": [],
   "source": [
    "circ_parameters_path = glob.glob('../dataFolders/PaperPipelineOutput/CircleParameters/' + '*.csv')\n",
    "circ_parameters = pd.read_csv(circ_parameters_path[0])"
   ]
  },
  {
   "cell_type": "code",
   "execution_count": 6,
   "metadata": {},
   "outputs": [],
   "source": [
    "direc = r\"../dataFolders/PaperPipelineOutput/v3/RawTracks/\"\n",
    "visitnum = ['FirstVisit/', 'Later7thVisit/','Later20thVisit/']"
   ]
  },
  {
   "cell_type": "code",
   "execution_count": 7,
   "metadata": {},
   "outputs": [
    {
     "name": "stdout",
     "output_type": "stream",
     "text": [
      "../dataFolders/PaperPipelineOutput/v3/FilteredTracks/FirstVisit/\n",
      "../dataFolders/PaperPipelineOutput/Figures/v3/FilteredTracks/FirstVisit/\n",
      "../dataFolders/PaperPipelineOutput/v3/FilteredTracks/Later7thVisit/\n",
      "../dataFolders/PaperPipelineOutput/Figures/v3/FilteredTracks/Later7thVisit/\n",
      "../dataFolders/PaperPipelineOutput/v3/FilteredTracks/Later20thVisit/\n",
      "../dataFolders/PaperPipelineOutput/Figures/v3/FilteredTracks/Later20thVisit/\n"
     ]
    }
   ],
   "source": [
    "for visit in visitnum:\n",
    "    outpath = os.path.join('../dataFolders/PaperPipelineOutput/v3/FilteredTracks/', visit)\n",
    "    print(outpath)\n",
    "    if not os.path.exists(outpath):\n",
    "        try:\n",
    "            os.mkdir(outpath)\n",
    "        except OSError:\n",
    "            print (\"Creation of the directory %s failed\" % outpath)\n",
    "\n",
    "    outpathfig = os.path.join('../dataFolders/PaperPipelineOutput/Figures/v3/FilteredTracks/', visit)\n",
    "    print(outpathfig)\n",
    "    if not os.path.exists(outpathfig):\n",
    "        try:\n",
    "            os.mkdir(outpathfig)\n",
    "        except OSError:\n",
    "            print (\"Creation of the directory %s failed\" % outpathfig)"
   ]
  },
  {
   "cell_type": "code",
   "execution_count": 8,
   "metadata": {},
   "outputs": [],
   "source": [
    "def removelist(visit):\n",
    "    if visit == 'FirstVisit/':\n",
    "        newlist = ['c-1_m2', 'c-2_m2']\n",
    "    elif visit == 'Later7thVisit/':\n",
    "        newlist = ['c-10_m2_visit_6', 'c-1_m1_visit_6']\n",
    "    elif visit == 'Later20thVisit/':\n",
    "        newlist = ['c-1_m1_visit_19', 'c-2_m2_visit_19']\n",
    "\n",
    "    return(newlist)"
   ]
  },
  {
   "cell_type": "code",
   "execution_count": 9,
   "metadata": {},
   "outputs": [
    {
     "name": "stdout",
     "output_type": "stream",
     "text": [
      "working on c-10_m10_visit_0\n",
      "(260, 3)\n"
     ]
    },
    {
     "name": "stderr",
     "output_type": "stream",
     "text": [
      "C:\\Users\\Tanvi\\AppData\\Local\\Continuum\\anaconda3\\lib\\site-packages\\ipykernel_launcher.py:60: RuntimeWarning: invalid value encountered in greater\n",
      "C:\\Users\\Tanvi\\AppData\\Local\\Continuum\\anaconda3\\lib\\site-packages\\ipykernel_launcher.py:61: RuntimeWarning: invalid value encountered in greater\n"
     ]
    },
    {
     "name": "stdout",
     "output_type": "stream",
     "text": [
      "working on c-10_m11_visit_0\n",
      "(1389, 3)\n"
     ]
    },
    {
     "name": "stderr",
     "output_type": "stream",
     "text": [
      "C:\\Users\\Tanvi\\AppData\\Local\\Continuum\\anaconda3\\lib\\site-packages\\ipykernel_launcher.py:60: RuntimeWarning: invalid value encountered in greater\n",
      "C:\\Users\\Tanvi\\AppData\\Local\\Continuum\\anaconda3\\lib\\site-packages\\ipykernel_launcher.py:61: RuntimeWarning: invalid value encountered in greater\n"
     ]
    },
    {
     "name": "stdout",
     "output_type": "stream",
     "text": [
      "working on c-10_m12_visit_0\n"
     ]
    },
    {
     "name": "stderr",
     "output_type": "stream",
     "text": [
      "C:\\Users\\Tanvi\\AppData\\Local\\Continuum\\anaconda3\\lib\\site-packages\\ipykernel_launcher.py:60: RuntimeWarning: invalid value encountered in greater\n",
      "C:\\Users\\Tanvi\\AppData\\Local\\Continuum\\anaconda3\\lib\\site-packages\\ipykernel_launcher.py:61: RuntimeWarning: invalid value encountered in greater\n"
     ]
    },
    {
     "name": "stdout",
     "output_type": "stream",
     "text": [
      "(3853, 3)\n",
      "working on c-10_m13_visit_0\n",
      "(148, 3)\n"
     ]
    },
    {
     "name": "stderr",
     "output_type": "stream",
     "text": [
      "C:\\Users\\Tanvi\\AppData\\Local\\Continuum\\anaconda3\\lib\\site-packages\\ipykernel_launcher.py:60: RuntimeWarning: invalid value encountered in greater\n",
      "C:\\Users\\Tanvi\\AppData\\Local\\Continuum\\anaconda3\\lib\\site-packages\\ipykernel_launcher.py:61: RuntimeWarning: invalid value encountered in greater\n"
     ]
    },
    {
     "name": "stdout",
     "output_type": "stream",
     "text": [
      "working on c-10_m15_visit_0\n",
      "(165, 3)\n",
      "working on c-10_m16_cropped_visit_0\n",
      "(173, 3)\n",
      "working on c-10_m17_cropped_visit_0\n",
      "(1002, 3)\n"
     ]
    },
    {
     "name": "stderr",
     "output_type": "stream",
     "text": [
      "C:\\Users\\Tanvi\\AppData\\Local\\Continuum\\anaconda3\\lib\\site-packages\\ipykernel_launcher.py:60: RuntimeWarning: invalid value encountered in greater\n",
      "C:\\Users\\Tanvi\\AppData\\Local\\Continuum\\anaconda3\\lib\\site-packages\\ipykernel_launcher.py:61: RuntimeWarning: invalid value encountered in greater\n"
     ]
    },
    {
     "name": "stdout",
     "output_type": "stream",
     "text": [
      "working on c-10_m18_cropped_visit_0\n"
     ]
    },
    {
     "name": "stderr",
     "output_type": "stream",
     "text": [
      "C:\\Users\\Tanvi\\AppData\\Local\\Continuum\\anaconda3\\lib\\site-packages\\ipykernel_launcher.py:60: RuntimeWarning: invalid value encountered in greater\n",
      "C:\\Users\\Tanvi\\AppData\\Local\\Continuum\\anaconda3\\lib\\site-packages\\ipykernel_launcher.py:61: RuntimeWarning: invalid value encountered in greater\n"
     ]
    },
    {
     "name": "stdout",
     "output_type": "stream",
     "text": [
      "(3533, 3)\n",
      "working on c-10_m19_cropped_visit_0\n",
      "(912, 3)\n"
     ]
    },
    {
     "name": "stderr",
     "output_type": "stream",
     "text": [
      "C:\\Users\\Tanvi\\AppData\\Local\\Continuum\\anaconda3\\lib\\site-packages\\ipykernel_launcher.py:60: RuntimeWarning: invalid value encountered in greater\n",
      "C:\\Users\\Tanvi\\AppData\\Local\\Continuum\\anaconda3\\lib\\site-packages\\ipykernel_launcher.py:61: RuntimeWarning: invalid value encountered in greater\n"
     ]
    },
    {
     "name": "stdout",
     "output_type": "stream",
     "text": [
      "working on c-10_m1_visit_0\n",
      "(1859, 3)"
     ]
    },
    {
     "name": "stderr",
     "output_type": "stream",
     "text": [
      "C:\\Users\\Tanvi\\AppData\\Local\\Continuum\\anaconda3\\lib\\site-packages\\ipykernel_launcher.py:60: RuntimeWarning: invalid value encountered in greater\n",
      "C:\\Users\\Tanvi\\AppData\\Local\\Continuum\\anaconda3\\lib\\site-packages\\ipykernel_launcher.py:61: RuntimeWarning: invalid value encountered in greater\n"
     ]
    },
    {
     "name": "stdout",
     "output_type": "stream",
     "text": [
      "\n",
      "working on c-10_m20_cropped_visit_0\n",
      "(697, 3)\n"
     ]
    },
    {
     "name": "stderr",
     "output_type": "stream",
     "text": [
      "C:\\Users\\Tanvi\\AppData\\Local\\Continuum\\anaconda3\\lib\\site-packages\\ipykernel_launcher.py:60: RuntimeWarning: invalid value encountered in greater\n",
      "C:\\Users\\Tanvi\\AppData\\Local\\Continuum\\anaconda3\\lib\\site-packages\\ipykernel_launcher.py:61: RuntimeWarning: invalid value encountered in greater\n"
     ]
    },
    {
     "name": "stdout",
     "output_type": "stream",
     "text": [
      "working on c-10_m21_cropped_visit_0\n",
      "(1096, 3)\n"
     ]
    },
    {
     "name": "stderr",
     "output_type": "stream",
     "text": [
      "C:\\Users\\Tanvi\\AppData\\Local\\Continuum\\anaconda3\\lib\\site-packages\\ipykernel_launcher.py:60: RuntimeWarning: invalid value encountered in greater\n",
      "C:\\Users\\Tanvi\\AppData\\Local\\Continuum\\anaconda3\\lib\\site-packages\\ipykernel_launcher.py:61: RuntimeWarning: invalid value encountered in greater\n"
     ]
    },
    {
     "name": "stdout",
     "output_type": "stream",
     "text": [
      "working on c-10_m22_cropped_visit_0\n",
      "(306, 3)\n"
     ]
    },
    {
     "name": "stderr",
     "output_type": "stream",
     "text": [
      "C:\\Users\\Tanvi\\AppData\\Local\\Continuum\\anaconda3\\lib\\site-packages\\ipykernel_launcher.py:60: RuntimeWarning: invalid value encountered in greater\n",
      "C:\\Users\\Tanvi\\AppData\\Local\\Continuum\\anaconda3\\lib\\site-packages\\ipykernel_launcher.py:61: RuntimeWarning: invalid value encountered in greater\n"
     ]
    },
    {
     "name": "stdout",
     "output_type": "stream",
     "text": [
      "working on c-10_m23_cropped_visit_0\n"
     ]
    },
    {
     "name": "stderr",
     "output_type": "stream",
     "text": [
      "C:\\Users\\Tanvi\\AppData\\Local\\Continuum\\anaconda3\\lib\\site-packages\\ipykernel_launcher.py:60: RuntimeWarning: invalid value encountered in greater\n",
      "C:\\Users\\Tanvi\\AppData\\Local\\Continuum\\anaconda3\\lib\\site-packages\\ipykernel_launcher.py:61: RuntimeWarning: invalid value encountered in greater\n"
     ]
    },
    {
     "name": "stdout",
     "output_type": "stream",
     "text": [
      "(7732, 3)\n",
      "working on c-10_m24_cropped_visit_0\n",
      "(1253, 3)\n"
     ]
    },
    {
     "name": "stderr",
     "output_type": "stream",
     "text": [
      "C:\\Users\\Tanvi\\AppData\\Local\\Continuum\\anaconda3\\lib\\site-packages\\ipykernel_launcher.py:60: RuntimeWarning: invalid value encountered in greater\n",
      "C:\\Users\\Tanvi\\AppData\\Local\\Continuum\\anaconda3\\lib\\site-packages\\ipykernel_launcher.py:61: RuntimeWarning: invalid value encountered in greater\n"
     ]
    },
    {
     "name": "stdout",
     "output_type": "stream",
     "text": [
      "working on c-10_m25_visit_0\n",
      "(349, 3)\n"
     ]
    },
    {
     "name": "stderr",
     "output_type": "stream",
     "text": [
      "C:\\Users\\Tanvi\\AppData\\Local\\Continuum\\anaconda3\\lib\\site-packages\\ipykernel_launcher.py:60: RuntimeWarning: invalid value encountered in greater\n",
      "C:\\Users\\Tanvi\\AppData\\Local\\Continuum\\anaconda3\\lib\\site-packages\\ipykernel_launcher.py:61: RuntimeWarning: invalid value encountered in greater\n"
     ]
    },
    {
     "name": "stdout",
     "output_type": "stream",
     "text": [
      "working on c-10_m2_visit_0\n",
      "(137, 3)\n"
     ]
    },
    {
     "name": "stderr",
     "output_type": "stream",
     "text": [
      "C:\\Users\\Tanvi\\AppData\\Local\\Continuum\\anaconda3\\lib\\site-packages\\ipykernel_launcher.py:60: RuntimeWarning: invalid value encountered in greater\n",
      "C:\\Users\\Tanvi\\AppData\\Local\\Continuum\\anaconda3\\lib\\site-packages\\ipykernel_launcher.py:61: RuntimeWarning: invalid value encountered in greater\n"
     ]
    },
    {
     "name": "stdout",
     "output_type": "stream",
     "text": [
      "working on c-10_m3_visit_0\n",
      "(264, 3)\n"
     ]
    },
    {
     "name": "stderr",
     "output_type": "stream",
     "text": [
      "C:\\Users\\Tanvi\\AppData\\Local\\Continuum\\anaconda3\\lib\\site-packages\\ipykernel_launcher.py:60: RuntimeWarning: invalid value encountered in greater\n",
      "C:\\Users\\Tanvi\\AppData\\Local\\Continuum\\anaconda3\\lib\\site-packages\\ipykernel_launcher.py:61: RuntimeWarning: invalid value encountered in greater\n"
     ]
    },
    {
     "name": "stdout",
     "output_type": "stream",
     "text": [
      "working on c-10_m6_visit_0\n",
      "(208, 3)\n",
      "working on c-10_m7_visit_0\n",
      "(713, 3)\n"
     ]
    },
    {
     "name": "stderr",
     "output_type": "stream",
     "text": [
      "C:\\Users\\Tanvi\\AppData\\Local\\Continuum\\anaconda3\\lib\\site-packages\\ipykernel_launcher.py:60: RuntimeWarning: invalid value encountered in greater\n",
      "C:\\Users\\Tanvi\\AppData\\Local\\Continuum\\anaconda3\\lib\\site-packages\\ipykernel_launcher.py:61: RuntimeWarning: invalid value encountered in greater\n"
     ]
    },
    {
     "name": "stdout",
     "output_type": "stream",
     "text": [
      "working on c-10_m8_visit_0\n"
     ]
    },
    {
     "name": "stderr",
     "output_type": "stream",
     "text": [
      "C:\\Users\\Tanvi\\AppData\\Local\\Continuum\\anaconda3\\lib\\site-packages\\ipykernel_launcher.py:60: RuntimeWarning: invalid value encountered in greater\n",
      "C:\\Users\\Tanvi\\AppData\\Local\\Continuum\\anaconda3\\lib\\site-packages\\ipykernel_launcher.py:61: RuntimeWarning: invalid value encountered in greater\n"
     ]
    },
    {
     "name": "stdout",
     "output_type": "stream",
     "text": [
      "(4079, 3)\n",
      "working on c-10_m9_visit_0\n",
      "(1537, 3)"
     ]
    },
    {
     "name": "stderr",
     "output_type": "stream",
     "text": [
      "C:\\Users\\Tanvi\\AppData\\Local\\Continuum\\anaconda3\\lib\\site-packages\\ipykernel_launcher.py:60: RuntimeWarning: invalid value encountered in greater\n",
      "C:\\Users\\Tanvi\\AppData\\Local\\Continuum\\anaconda3\\lib\\site-packages\\ipykernel_launcher.py:61: RuntimeWarning: invalid value encountered in greater\n"
     ]
    },
    {
     "name": "stdout",
     "output_type": "stream",
     "text": [
      "\n",
      "working on c-1_m10_visit_0\n",
      "(313, 3)\n",
      "working on c-1_m11_visit_0\n"
     ]
    },
    {
     "name": "stderr",
     "output_type": "stream",
     "text": [
      "C:\\Users\\Tanvi\\AppData\\Local\\Continuum\\anaconda3\\lib\\site-packages\\ipykernel_launcher.py:60: RuntimeWarning: invalid value encountered in greater\n",
      "C:\\Users\\Tanvi\\AppData\\Local\\Continuum\\anaconda3\\lib\\site-packages\\ipykernel_launcher.py:61: RuntimeWarning: invalid value encountered in greater\n"
     ]
    },
    {
     "name": "stdout",
     "output_type": "stream",
     "text": [
      "(10398, 3)\n",
      "working on c-1_m13_visit_0\n"
     ]
    },
    {
     "name": "stderr",
     "output_type": "stream",
     "text": [
      "C:\\Users\\Tanvi\\AppData\\Local\\Continuum\\anaconda3\\lib\\site-packages\\ipykernel_launcher.py:60: RuntimeWarning: invalid value encountered in greater\n",
      "C:\\Users\\Tanvi\\AppData\\Local\\Continuum\\anaconda3\\lib\\site-packages\\ipykernel_launcher.py:61: RuntimeWarning: invalid value encountered in greater\n"
     ]
    },
    {
     "name": "stdout",
     "output_type": "stream",
     "text": [
      "(757, 3)\n",
      "working on c-1_m14_visit_0\n",
      "(410, 3)\n",
      "working on c-1_m16_visit_0\n",
      "(375, 3)\n"
     ]
    },
    {
     "name": "stderr",
     "output_type": "stream",
     "text": [
      "C:\\Users\\Tanvi\\AppData\\Local\\Continuum\\anaconda3\\lib\\site-packages\\ipykernel_launcher.py:60: RuntimeWarning: invalid value encountered in greater\n",
      "C:\\Users\\Tanvi\\AppData\\Local\\Continuum\\anaconda3\\lib\\site-packages\\ipykernel_launcher.py:61: RuntimeWarning: invalid value encountered in greater\n"
     ]
    },
    {
     "name": "stdout",
     "output_type": "stream",
     "text": [
      "working on c-1_m17_visit_0\n",
      "(146, 3)\n"
     ]
    },
    {
     "name": "stderr",
     "output_type": "stream",
     "text": [
      "C:\\Users\\Tanvi\\AppData\\Local\\Continuum\\anaconda3\\lib\\site-packages\\ipykernel_launcher.py:60: RuntimeWarning: invalid value encountered in greater\n",
      "C:\\Users\\Tanvi\\AppData\\Local\\Continuum\\anaconda3\\lib\\site-packages\\ipykernel_launcher.py:61: RuntimeWarning: invalid value encountered in greater\n"
     ]
    },
    {
     "name": "stdout",
     "output_type": "stream",
     "text": [
      "working on c-1_m18_cropped_visit_0\n",
      "(540, 3)\n"
     ]
    },
    {
     "name": "stderr",
     "output_type": "stream",
     "text": [
      "C:\\Users\\Tanvi\\AppData\\Local\\Continuum\\anaconda3\\lib\\site-packages\\ipykernel_launcher.py:60: RuntimeWarning: invalid value encountered in greater\n",
      "C:\\Users\\Tanvi\\AppData\\Local\\Continuum\\anaconda3\\lib\\site-packages\\ipykernel_launcher.py:61: RuntimeWarning: invalid value encountered in greater\n"
     ]
    },
    {
     "name": "stdout",
     "output_type": "stream",
     "text": [
      "working on c-1_m19_visit_0\n",
      "(345, 3)\n"
     ]
    },
    {
     "name": "stderr",
     "output_type": "stream",
     "text": [
      "C:\\Users\\Tanvi\\AppData\\Local\\Continuum\\anaconda3\\lib\\site-packages\\ipykernel_launcher.py:60: RuntimeWarning: invalid value encountered in greater\n",
      "C:\\Users\\Tanvi\\AppData\\Local\\Continuum\\anaconda3\\lib\\site-packages\\ipykernel_launcher.py:61: RuntimeWarning: invalid value encountered in greater\n"
     ]
    },
    {
     "name": "stdout",
     "output_type": "stream",
     "text": [
      "working on c-1_m1_visit_0\n",
      "(1887, 3)\n"
     ]
    },
    {
     "name": "stderr",
     "output_type": "stream",
     "text": [
      "C:\\Users\\Tanvi\\AppData\\Local\\Continuum\\anaconda3\\lib\\site-packages\\ipykernel_launcher.py:60: RuntimeWarning: invalid value encountered in greater\n",
      "C:\\Users\\Tanvi\\AppData\\Local\\Continuum\\anaconda3\\lib\\site-packages\\ipykernel_launcher.py:61: RuntimeWarning: invalid value encountered in greater\n"
     ]
    },
    {
     "name": "stdout",
     "output_type": "stream",
     "text": [
      "working on c-1_m20_visit_0\n"
     ]
    },
    {
     "name": "stderr",
     "output_type": "stream",
     "text": [
      "C:\\Users\\Tanvi\\AppData\\Local\\Continuum\\anaconda3\\lib\\site-packages\\ipykernel_launcher.py:60: RuntimeWarning: invalid value encountered in greater\n",
      "C:\\Users\\Tanvi\\AppData\\Local\\Continuum\\anaconda3\\lib\\site-packages\\ipykernel_launcher.py:61: RuntimeWarning: invalid value encountered in greater\n"
     ]
    },
    {
     "name": "stdout",
     "output_type": "stream",
     "text": [
      "(9326, 3)\n",
      "working on c-1_m21_visit_0\n",
      "(1321, 3)\n"
     ]
    },
    {
     "name": "stderr",
     "output_type": "stream",
     "text": [
      "C:\\Users\\Tanvi\\AppData\\Local\\Continuum\\anaconda3\\lib\\site-packages\\ipykernel_launcher.py:60: RuntimeWarning: invalid value encountered in greater\n",
      "C:\\Users\\Tanvi\\AppData\\Local\\Continuum\\anaconda3\\lib\\site-packages\\ipykernel_launcher.py:61: RuntimeWarning: invalid value encountered in greater\n"
     ]
    },
    {
     "name": "stdout",
     "output_type": "stream",
     "text": [
      "working on c-1_m22_visit_0\n",
      "(172, 3)\n"
     ]
    },
    {
     "name": "stderr",
     "output_type": "stream",
     "text": [
      "C:\\Users\\Tanvi\\AppData\\Local\\Continuum\\anaconda3\\lib\\site-packages\\ipykernel_launcher.py:60: RuntimeWarning: invalid value encountered in greater\n",
      "C:\\Users\\Tanvi\\AppData\\Local\\Continuum\\anaconda3\\lib\\site-packages\\ipykernel_launcher.py:61: RuntimeWarning: invalid value encountered in greater\n"
     ]
    },
    {
     "name": "stdout",
     "output_type": "stream",
     "text": [
      "working on c-1_m23_visit_0\n",
      "(1604, 3)\n"
     ]
    },
    {
     "name": "stderr",
     "output_type": "stream",
     "text": [
      "C:\\Users\\Tanvi\\AppData\\Local\\Continuum\\anaconda3\\lib\\site-packages\\ipykernel_launcher.py:60: RuntimeWarning: invalid value encountered in greater\n",
      "C:\\Users\\Tanvi\\AppData\\Local\\Continuum\\anaconda3\\lib\\site-packages\\ipykernel_launcher.py:61: RuntimeWarning: invalid value encountered in greater\n"
     ]
    },
    {
     "name": "stdout",
     "output_type": "stream",
     "text": [
      "working on c-1_m24_cropped_visit_0\n",
      "(127, 3)\n"
     ]
    },
    {
     "name": "stderr",
     "output_type": "stream",
     "text": [
      "C:\\Users\\Tanvi\\AppData\\Local\\Continuum\\anaconda3\\lib\\site-packages\\ipykernel_launcher.py:60: RuntimeWarning: invalid value encountered in greater\n",
      "C:\\Users\\Tanvi\\AppData\\Local\\Continuum\\anaconda3\\lib\\site-packages\\ipykernel_launcher.py:61: RuntimeWarning: invalid value encountered in greater\n"
     ]
    },
    {
     "name": "stdout",
     "output_type": "stream",
     "text": [
      "working on c-1_m2_visit_0\n",
      "(91, 3)\n"
     ]
    },
    {
     "name": "stderr",
     "output_type": "stream",
     "text": [
      "C:\\Users\\Tanvi\\AppData\\Local\\Continuum\\anaconda3\\lib\\site-packages\\ipykernel_launcher.py:60: RuntimeWarning: invalid value encountered in greater\n",
      "C:\\Users\\Tanvi\\AppData\\Local\\Continuum\\anaconda3\\lib\\site-packages\\ipykernel_launcher.py:61: RuntimeWarning: invalid value encountered in greater\n"
     ]
    },
    {
     "name": "stdout",
     "output_type": "stream",
     "text": [
      "working on c-1_m3_visit_0\n",
      "(376, 3)\n"
     ]
    },
    {
     "name": "stderr",
     "output_type": "stream",
     "text": [
      "C:\\Users\\Tanvi\\AppData\\Local\\Continuum\\anaconda3\\lib\\site-packages\\ipykernel_launcher.py:60: RuntimeWarning: invalid value encountered in greater\n",
      "C:\\Users\\Tanvi\\AppData\\Local\\Continuum\\anaconda3\\lib\\site-packages\\ipykernel_launcher.py:61: RuntimeWarning: invalid value encountered in greater\n"
     ]
    },
    {
     "name": "stdout",
     "output_type": "stream",
     "text": [
      "working on c-1_m4_visit_0\n",
      "(1024, 3)\n",
      "working on c-1_m6_visit_0\n",
      "(443, 3)\n"
     ]
    },
    {
     "name": "stderr",
     "output_type": "stream",
     "text": [
      "C:\\Users\\Tanvi\\AppData\\Local\\Continuum\\anaconda3\\lib\\site-packages\\ipykernel_launcher.py:60: RuntimeWarning: invalid value encountered in greater\n",
      "C:\\Users\\Tanvi\\AppData\\Local\\Continuum\\anaconda3\\lib\\site-packages\\ipykernel_launcher.py:61: RuntimeWarning: invalid value encountered in greater\n"
     ]
    },
    {
     "name": "stdout",
     "output_type": "stream",
     "text": [
      "working on c-1_m8_visit_0\n",
      "(462, 3)\n",
      "working on c-2_m10_visit_0\n",
      "(255, 3)\n"
     ]
    },
    {
     "name": "stderr",
     "output_type": "stream",
     "text": [
      "C:\\Users\\Tanvi\\AppData\\Local\\Continuum\\anaconda3\\lib\\site-packages\\ipykernel_launcher.py:60: RuntimeWarning: invalid value encountered in greater\n",
      "C:\\Users\\Tanvi\\AppData\\Local\\Continuum\\anaconda3\\lib\\site-packages\\ipykernel_launcher.py:61: RuntimeWarning: invalid value encountered in greater\n"
     ]
    },
    {
     "name": "stdout",
     "output_type": "stream",
     "text": [
      "working on c-2_m11_visit_0\n",
      "(942, 3)\n"
     ]
    },
    {
     "name": "stderr",
     "output_type": "stream",
     "text": [
      "C:\\Users\\Tanvi\\AppData\\Local\\Continuum\\anaconda3\\lib\\site-packages\\ipykernel_launcher.py:60: RuntimeWarning: invalid value encountered in greater\n",
      "C:\\Users\\Tanvi\\AppData\\Local\\Continuum\\anaconda3\\lib\\site-packages\\ipykernel_launcher.py:61: RuntimeWarning: invalid value encountered in greater\n"
     ]
    },
    {
     "name": "stdout",
     "output_type": "stream",
     "text": [
      "working on c-2_m12_visit_0\n",
      "(902, 3)\n"
     ]
    },
    {
     "name": "stderr",
     "output_type": "stream",
     "text": [
      "C:\\Users\\Tanvi\\AppData\\Local\\Continuum\\anaconda3\\lib\\site-packages\\ipykernel_launcher.py:60: RuntimeWarning: invalid value encountered in greater\n",
      "C:\\Users\\Tanvi\\AppData\\Local\\Continuum\\anaconda3\\lib\\site-packages\\ipykernel_launcher.py:61: RuntimeWarning: invalid value encountered in greater\n"
     ]
    },
    {
     "name": "stdout",
     "output_type": "stream",
     "text": [
      "working on c-2_m13_cropped_visit_0\n"
     ]
    },
    {
     "name": "stderr",
     "output_type": "stream",
     "text": [
      "C:\\Users\\Tanvi\\AppData\\Local\\Continuum\\anaconda3\\lib\\site-packages\\ipykernel_launcher.py:60: RuntimeWarning: invalid value encountered in greater\n",
      "C:\\Users\\Tanvi\\AppData\\Local\\Continuum\\anaconda3\\lib\\site-packages\\ipykernel_launcher.py:61: RuntimeWarning: invalid value encountered in greater\n"
     ]
    },
    {
     "name": "stdout",
     "output_type": "stream",
     "text": [
      "(5579, 3)\n",
      "working on c-2_m14_cropped_visit_0\n",
      "(317, 3)\n"
     ]
    },
    {
     "name": "stderr",
     "output_type": "stream",
     "text": [
      "C:\\Users\\Tanvi\\AppData\\Local\\Continuum\\anaconda3\\lib\\site-packages\\ipykernel_launcher.py:60: RuntimeWarning: invalid value encountered in greater\n",
      "C:\\Users\\Tanvi\\AppData\\Local\\Continuum\\anaconda3\\lib\\site-packages\\ipykernel_launcher.py:61: RuntimeWarning: invalid value encountered in greater\n"
     ]
    },
    {
     "name": "stdout",
     "output_type": "stream",
     "text": [
      "working on c-2_m15_visit_0\n",
      "(1896, 3)\n"
     ]
    },
    {
     "name": "stderr",
     "output_type": "stream",
     "text": [
      "C:\\Users\\Tanvi\\AppData\\Local\\Continuum\\anaconda3\\lib\\site-packages\\ipykernel_launcher.py:60: RuntimeWarning: invalid value encountered in greater\n",
      "C:\\Users\\Tanvi\\AppData\\Local\\Continuum\\anaconda3\\lib\\site-packages\\ipykernel_launcher.py:61: RuntimeWarning: invalid value encountered in greater\n"
     ]
    },
    {
     "name": "stdout",
     "output_type": "stream",
     "text": [
      "working on c-2_m16_cropped_visit_0\n",
      "(1869, 3)\n"
     ]
    },
    {
     "name": "stderr",
     "output_type": "stream",
     "text": [
      "C:\\Users\\Tanvi\\AppData\\Local\\Continuum\\anaconda3\\lib\\site-packages\\ipykernel_launcher.py:60: RuntimeWarning: invalid value encountered in greater\n",
      "C:\\Users\\Tanvi\\AppData\\Local\\Continuum\\anaconda3\\lib\\site-packages\\ipykernel_launcher.py:61: RuntimeWarning: invalid value encountered in greater\n"
     ]
    },
    {
     "name": "stdout",
     "output_type": "stream",
     "text": [
      "working on c-2_m17_visit_0\n",
      "(824, 3)\n",
      "working on c-2_m1_visit_0\n",
      "(186, 3)\n",
      "working on c-2_m20_visit_0\n",
      "(684, 3)\n"
     ]
    },
    {
     "name": "stderr",
     "output_type": "stream",
     "text": [
      "C:\\Users\\Tanvi\\AppData\\Local\\Continuum\\anaconda3\\lib\\site-packages\\ipykernel_launcher.py:60: RuntimeWarning: invalid value encountered in greater\n",
      "C:\\Users\\Tanvi\\AppData\\Local\\Continuum\\anaconda3\\lib\\site-packages\\ipykernel_launcher.py:61: RuntimeWarning: invalid value encountered in greater\n"
     ]
    },
    {
     "name": "stdout",
     "output_type": "stream",
     "text": [
      "working on c-2_m21_cropped_visit_0\n",
      "(80, 3)\n",
      "working on c-2_m22_visit_0\n"
     ]
    },
    {
     "name": "stderr",
     "output_type": "stream",
     "text": [
      "C:\\Users\\Tanvi\\AppData\\Local\\Continuum\\anaconda3\\lib\\site-packages\\ipykernel_launcher.py:60: RuntimeWarning: invalid value encountered in greater\n",
      "C:\\Users\\Tanvi\\AppData\\Local\\Continuum\\anaconda3\\lib\\site-packages\\ipykernel_launcher.py:61: RuntimeWarning: invalid value encountered in greater\n"
     ]
    },
    {
     "name": "stdout",
     "output_type": "stream",
     "text": [
      "(2316, 3)\n",
      "working on c-2_m23_visit_0\n",
      "(202, 3)\n"
     ]
    },
    {
     "name": "stderr",
     "output_type": "stream",
     "text": [
      "C:\\Users\\Tanvi\\AppData\\Local\\Continuum\\anaconda3\\lib\\site-packages\\ipykernel_launcher.py:60: RuntimeWarning: invalid value encountered in greater\n",
      "C:\\Users\\Tanvi\\AppData\\Local\\Continuum\\anaconda3\\lib\\site-packages\\ipykernel_launcher.py:61: RuntimeWarning: invalid value encountered in greater\n"
     ]
    },
    {
     "name": "stdout",
     "output_type": "stream",
     "text": [
      "working on c-2_m2_visit_0\n",
      "(157, 3)\n"
     ]
    },
    {
     "name": "stderr",
     "output_type": "stream",
     "text": [
      "C:\\Users\\Tanvi\\AppData\\Local\\Continuum\\anaconda3\\lib\\site-packages\\ipykernel_launcher.py:60: RuntimeWarning: invalid value encountered in greater\n",
      "C:\\Users\\Tanvi\\AppData\\Local\\Continuum\\anaconda3\\lib\\site-packages\\ipykernel_launcher.py:61: RuntimeWarning: invalid value encountered in greater\n"
     ]
    },
    {
     "name": "stdout",
     "output_type": "stream",
     "text": [
      "working on c-2_m3_visit_0\n",
      "(680, 3)\n",
      "working on c-2_m4_visit_0\n",
      "(166, 3)\n"
     ]
    },
    {
     "name": "stderr",
     "output_type": "stream",
     "text": [
      "C:\\Users\\Tanvi\\AppData\\Local\\Continuum\\anaconda3\\lib\\site-packages\\ipykernel_launcher.py:60: RuntimeWarning: invalid value encountered in greater\n",
      "C:\\Users\\Tanvi\\AppData\\Local\\Continuum\\anaconda3\\lib\\site-packages\\ipykernel_launcher.py:61: RuntimeWarning: invalid value encountered in greater\n"
     ]
    },
    {
     "name": "stdout",
     "output_type": "stream",
     "text": [
      "working on c-2_m6_visit_0\n",
      "(880, 3)\n"
     ]
    },
    {
     "name": "stderr",
     "output_type": "stream",
     "text": [
      "C:\\Users\\Tanvi\\AppData\\Local\\Continuum\\anaconda3\\lib\\site-packages\\ipykernel_launcher.py:60: RuntimeWarning: invalid value encountered in greater\n",
      "C:\\Users\\Tanvi\\AppData\\Local\\Continuum\\anaconda3\\lib\\site-packages\\ipykernel_launcher.py:61: RuntimeWarning: invalid value encountered in greater\n"
     ]
    },
    {
     "name": "stdout",
     "output_type": "stream",
     "text": [
      "working on c-2_m7_visit_0\n",
      "(189, 3)\n",
      "working on c-2_m9_visit_0\n",
      "(501, 3)\n",
      "working on c-3_m10_visit_0\n",
      "(1074, 3)\n"
     ]
    },
    {
     "name": "stderr",
     "output_type": "stream",
     "text": [
      "C:\\Users\\Tanvi\\AppData\\Local\\Continuum\\anaconda3\\lib\\site-packages\\ipykernel_launcher.py:60: RuntimeWarning: invalid value encountered in greater\n",
      "C:\\Users\\Tanvi\\AppData\\Local\\Continuum\\anaconda3\\lib\\site-packages\\ipykernel_launcher.py:61: RuntimeWarning: invalid value encountered in greater\n"
     ]
    },
    {
     "name": "stdout",
     "output_type": "stream",
     "text": [
      "working on c-3_m11_visit_0\n",
      "(565, 3)\n"
     ]
    },
    {
     "name": "stderr",
     "output_type": "stream",
     "text": [
      "C:\\Users\\Tanvi\\AppData\\Local\\Continuum\\anaconda3\\lib\\site-packages\\ipykernel_launcher.py:60: RuntimeWarning: invalid value encountered in greater\n",
      "C:\\Users\\Tanvi\\AppData\\Local\\Continuum\\anaconda3\\lib\\site-packages\\ipykernel_launcher.py:61: RuntimeWarning: invalid value encountered in greater\n"
     ]
    },
    {
     "name": "stdout",
     "output_type": "stream",
     "text": [
      "working on c-3_m13_visit_0\n",
      "(435, 3)\n"
     ]
    },
    {
     "name": "stderr",
     "output_type": "stream",
     "text": [
      "C:\\Users\\Tanvi\\AppData\\Local\\Continuum\\anaconda3\\lib\\site-packages\\ipykernel_launcher.py:60: RuntimeWarning: invalid value encountered in greater\n",
      "C:\\Users\\Tanvi\\AppData\\Local\\Continuum\\anaconda3\\lib\\site-packages\\ipykernel_launcher.py:61: RuntimeWarning: invalid value encountered in greater\n"
     ]
    },
    {
     "name": "stdout",
     "output_type": "stream",
     "text": [
      "working on c-3_m14_cropped_visit_0\n",
      "(661, 3)\n",
      "working on c-3_m15_visit_0\n"
     ]
    },
    {
     "name": "stderr",
     "output_type": "stream",
     "text": [
      "C:\\Users\\Tanvi\\AppData\\Local\\Continuum\\anaconda3\\lib\\site-packages\\ipykernel_launcher.py:60: RuntimeWarning: invalid value encountered in greater\n",
      "C:\\Users\\Tanvi\\AppData\\Local\\Continuum\\anaconda3\\lib\\site-packages\\ipykernel_launcher.py:61: RuntimeWarning: invalid value encountered in greater\n"
     ]
    },
    {
     "name": "stdout",
     "output_type": "stream",
     "text": [
      "(23821, 3)\n",
      "working on c-3_m16_visit_0\n",
      "(656, 3)\n"
     ]
    },
    {
     "name": "stderr",
     "output_type": "stream",
     "text": [
      "C:\\Users\\Tanvi\\AppData\\Local\\Continuum\\anaconda3\\lib\\site-packages\\ipykernel_launcher.py:60: RuntimeWarning: invalid value encountered in greater\n",
      "C:\\Users\\Tanvi\\AppData\\Local\\Continuum\\anaconda3\\lib\\site-packages\\ipykernel_launcher.py:61: RuntimeWarning: invalid value encountered in greater\n"
     ]
    },
    {
     "name": "stdout",
     "output_type": "stream",
     "text": [
      "working on c-3_m17_visit_0\n",
      "(261, 3)\n",
      "working on c-3_m18_visit_0\n",
      "(1040, 3)\n"
     ]
    },
    {
     "name": "stderr",
     "output_type": "stream",
     "text": [
      "C:\\Users\\Tanvi\\AppData\\Local\\Continuum\\anaconda3\\lib\\site-packages\\ipykernel_launcher.py:60: RuntimeWarning: invalid value encountered in greater\n",
      "C:\\Users\\Tanvi\\AppData\\Local\\Continuum\\anaconda3\\lib\\site-packages\\ipykernel_launcher.py:61: RuntimeWarning: invalid value encountered in greater\n"
     ]
    },
    {
     "name": "stdout",
     "output_type": "stream",
     "text": [
      "working on c-3_m19_cropped_visit_0\n",
      "(176, 3)\n"
     ]
    },
    {
     "name": "stderr",
     "output_type": "stream",
     "text": [
      "C:\\Users\\Tanvi\\AppData\\Local\\Continuum\\anaconda3\\lib\\site-packages\\ipykernel_launcher.py:60: RuntimeWarning: invalid value encountered in greater\n",
      "C:\\Users\\Tanvi\\AppData\\Local\\Continuum\\anaconda3\\lib\\site-packages\\ipykernel_launcher.py:61: RuntimeWarning: invalid value encountered in greater\n"
     ]
    },
    {
     "name": "stdout",
     "output_type": "stream",
     "text": [
      "working on c-3_m1_visit_0\n",
      "(757, 3)\n"
     ]
    },
    {
     "name": "stderr",
     "output_type": "stream",
     "text": [
      "C:\\Users\\Tanvi\\AppData\\Local\\Continuum\\anaconda3\\lib\\site-packages\\ipykernel_launcher.py:60: RuntimeWarning: invalid value encountered in greater\n",
      "C:\\Users\\Tanvi\\AppData\\Local\\Continuum\\anaconda3\\lib\\site-packages\\ipykernel_launcher.py:61: RuntimeWarning: invalid value encountered in greater\n"
     ]
    },
    {
     "name": "stdout",
     "output_type": "stream",
     "text": [
      "working on c-3_m20_visit_0\n"
     ]
    },
    {
     "name": "stderr",
     "output_type": "stream",
     "text": [
      "C:\\Users\\Tanvi\\AppData\\Local\\Continuum\\anaconda3\\lib\\site-packages\\ipykernel_launcher.py:60: RuntimeWarning: invalid value encountered in greater\n",
      "C:\\Users\\Tanvi\\AppData\\Local\\Continuum\\anaconda3\\lib\\site-packages\\ipykernel_launcher.py:61: RuntimeWarning: invalid value encountered in greater\n"
     ]
    },
    {
     "name": "stdout",
     "output_type": "stream",
     "text": [
      "(4065, 3)\n",
      "working on c-3_m21_cropped_visit_0\n",
      "(645, 3)\n",
      "working on c-3_m22_visit_0\n",
      "(860, 3)\n",
      "working on c-3_m23_cropped_visit_0\n",
      "(574, 3)\n"
     ]
    },
    {
     "name": "stderr",
     "output_type": "stream",
     "text": [
      "C:\\Users\\Tanvi\\AppData\\Local\\Continuum\\anaconda3\\lib\\site-packages\\ipykernel_launcher.py:60: RuntimeWarning: invalid value encountered in greater\n",
      "C:\\Users\\Tanvi\\AppData\\Local\\Continuum\\anaconda3\\lib\\site-packages\\ipykernel_launcher.py:61: RuntimeWarning: invalid value encountered in greater\n"
     ]
    },
    {
     "name": "stdout",
     "output_type": "stream",
     "text": [
      "working on c-3_m24_visit_0\n",
      "(301, 3)\n",
      "working on c-3_m25_visit_0\n",
      "(1469, 3)\n"
     ]
    },
    {
     "name": "stderr",
     "output_type": "stream",
     "text": [
      "C:\\Users\\Tanvi\\AppData\\Local\\Continuum\\anaconda3\\lib\\site-packages\\ipykernel_launcher.py:60: RuntimeWarning: invalid value encountered in greater\n",
      "C:\\Users\\Tanvi\\AppData\\Local\\Continuum\\anaconda3\\lib\\site-packages\\ipykernel_launcher.py:61: RuntimeWarning: invalid value encountered in greater\n"
     ]
    },
    {
     "name": "stdout",
     "output_type": "stream",
     "text": [
      "working on c-3_m2_visit_0\n"
     ]
    },
    {
     "name": "stderr",
     "output_type": "stream",
     "text": [
      "C:\\Users\\Tanvi\\AppData\\Local\\Continuum\\anaconda3\\lib\\site-packages\\ipykernel_launcher.py:60: RuntimeWarning: invalid value encountered in greater\n",
      "C:\\Users\\Tanvi\\AppData\\Local\\Continuum\\anaconda3\\lib\\site-packages\\ipykernel_launcher.py:61: RuntimeWarning: invalid value encountered in greater\n"
     ]
    },
    {
     "name": "stdout",
     "output_type": "stream",
     "text": [
      "(2776, 3)\n",
      "working on c-3_m3_visit_0\n",
      "(272, 3)\n"
     ]
    },
    {
     "name": "stderr",
     "output_type": "stream",
     "text": [
      "C:\\Users\\Tanvi\\AppData\\Local\\Continuum\\anaconda3\\lib\\site-packages\\ipykernel_launcher.py:60: RuntimeWarning: invalid value encountered in greater\n",
      "C:\\Users\\Tanvi\\AppData\\Local\\Continuum\\anaconda3\\lib\\site-packages\\ipykernel_launcher.py:61: RuntimeWarning: invalid value encountered in greater\n"
     ]
    },
    {
     "name": "stdout",
     "output_type": "stream",
     "text": [
      "working on c-3_m4_visit_0\n",
      "(483, 3)\n"
     ]
    },
    {
     "name": "stderr",
     "output_type": "stream",
     "text": [
      "C:\\Users\\Tanvi\\AppData\\Local\\Continuum\\anaconda3\\lib\\site-packages\\ipykernel_launcher.py:60: RuntimeWarning: invalid value encountered in greater\n",
      "C:\\Users\\Tanvi\\AppData\\Local\\Continuum\\anaconda3\\lib\\site-packages\\ipykernel_launcher.py:61: RuntimeWarning: invalid value encountered in greater\n"
     ]
    },
    {
     "name": "stdout",
     "output_type": "stream",
     "text": [
      "working on c-3_m5_visit_0\n",
      "(197, 3)\n"
     ]
    },
    {
     "name": "stderr",
     "output_type": "stream",
     "text": [
      "C:\\Users\\Tanvi\\AppData\\Local\\Continuum\\anaconda3\\lib\\site-packages\\ipykernel_launcher.py:60: RuntimeWarning: invalid value encountered in greater\n",
      "C:\\Users\\Tanvi\\AppData\\Local\\Continuum\\anaconda3\\lib\\site-packages\\ipykernel_launcher.py:61: RuntimeWarning: invalid value encountered in greater\n"
     ]
    },
    {
     "name": "stdout",
     "output_type": "stream",
     "text": [
      "working on c-3_m6_visit_0\n",
      "(1824, 3)\n"
     ]
    },
    {
     "name": "stderr",
     "output_type": "stream",
     "text": [
      "C:\\Users\\Tanvi\\AppData\\Local\\Continuum\\anaconda3\\lib\\site-packages\\ipykernel_launcher.py:60: RuntimeWarning: invalid value encountered in greater\n",
      "C:\\Users\\Tanvi\\AppData\\Local\\Continuum\\anaconda3\\lib\\site-packages\\ipykernel_launcher.py:61: RuntimeWarning: invalid value encountered in greater\n"
     ]
    },
    {
     "name": "stdout",
     "output_type": "stream",
     "text": [
      "working on c-3_m7_visit_0\n",
      "(1169, 3)\n"
     ]
    },
    {
     "name": "stderr",
     "output_type": "stream",
     "text": [
      "C:\\Users\\Tanvi\\AppData\\Local\\Continuum\\anaconda3\\lib\\site-packages\\ipykernel_launcher.py:60: RuntimeWarning: invalid value encountered in greater\n",
      "C:\\Users\\Tanvi\\AppData\\Local\\Continuum\\anaconda3\\lib\\site-packages\\ipykernel_launcher.py:61: RuntimeWarning: invalid value encountered in greater\n"
     ]
    },
    {
     "name": "stdout",
     "output_type": "stream",
     "text": [
      "working on c-3_m8_visit_0\n",
      "(941, 3)\n",
      "working on c-3_m9_visit_0\n",
      "(1147, 3)\n"
     ]
    },
    {
     "name": "stderr",
     "output_type": "stream",
     "text": [
      "C:\\Users\\Tanvi\\AppData\\Local\\Continuum\\anaconda3\\lib\\site-packages\\ipykernel_launcher.py:60: RuntimeWarning: invalid value encountered in greater\n",
      "C:\\Users\\Tanvi\\AppData\\Local\\Continuum\\anaconda3\\lib\\site-packages\\ipykernel_launcher.py:61: RuntimeWarning: invalid value encountered in greater\n"
     ]
    },
    {
     "name": "stdout",
     "output_type": "stream",
     "text": [
      "working on c-10_m11_visit_6\n",
      "(299, 3)\n"
     ]
    },
    {
     "name": "stderr",
     "output_type": "stream",
     "text": [
      "C:\\Users\\Tanvi\\AppData\\Local\\Continuum\\anaconda3\\lib\\site-packages\\ipykernel_launcher.py:60: RuntimeWarning: invalid value encountered in greater\n",
      "C:\\Users\\Tanvi\\AppData\\Local\\Continuum\\anaconda3\\lib\\site-packages\\ipykernel_launcher.py:61: RuntimeWarning: invalid value encountered in greater\n"
     ]
    },
    {
     "name": "stdout",
     "output_type": "stream",
     "text": [
      "working on c-10_m12_visit_6\n",
      "(1087, 3)\n"
     ]
    },
    {
     "name": "stderr",
     "output_type": "stream",
     "text": [
      "C:\\Users\\Tanvi\\AppData\\Local\\Continuum\\anaconda3\\lib\\site-packages\\ipykernel_launcher.py:60: RuntimeWarning: invalid value encountered in greater\n",
      "C:\\Users\\Tanvi\\AppData\\Local\\Continuum\\anaconda3\\lib\\site-packages\\ipykernel_launcher.py:61: RuntimeWarning: invalid value encountered in greater\n"
     ]
    },
    {
     "name": "stdout",
     "output_type": "stream",
     "text": [
      "working on c-10_m13_visit_6\n",
      "(278, 3)\n"
     ]
    },
    {
     "name": "stderr",
     "output_type": "stream",
     "text": [
      "C:\\Users\\Tanvi\\AppData\\Local\\Continuum\\anaconda3\\lib\\site-packages\\ipykernel_launcher.py:60: RuntimeWarning: invalid value encountered in greater\n",
      "C:\\Users\\Tanvi\\AppData\\Local\\Continuum\\anaconda3\\lib\\site-packages\\ipykernel_launcher.py:61: RuntimeWarning: invalid value encountered in greater\n"
     ]
    },
    {
     "name": "stdout",
     "output_type": "stream",
     "text": [
      "working on c-10_m15_visit_6\n",
      "(972, 3)\n"
     ]
    },
    {
     "name": "stderr",
     "output_type": "stream",
     "text": [
      "C:\\Users\\Tanvi\\AppData\\Local\\Continuum\\anaconda3\\lib\\site-packages\\ipykernel_launcher.py:60: RuntimeWarning: invalid value encountered in greater\n",
      "C:\\Users\\Tanvi\\AppData\\Local\\Continuum\\anaconda3\\lib\\site-packages\\ipykernel_launcher.py:61: RuntimeWarning: invalid value encountered in greater\n"
     ]
    },
    {
     "name": "stdout",
     "output_type": "stream",
     "text": [
      "working on c-10_m16_cropped_visit_6\n",
      "(1960, 3)\n"
     ]
    },
    {
     "name": "stderr",
     "output_type": "stream",
     "text": [
      "C:\\Users\\Tanvi\\AppData\\Local\\Continuum\\anaconda3\\lib\\site-packages\\ipykernel_launcher.py:60: RuntimeWarning: invalid value encountered in greater\n",
      "C:\\Users\\Tanvi\\AppData\\Local\\Continuum\\anaconda3\\lib\\site-packages\\ipykernel_launcher.py:61: RuntimeWarning: invalid value encountered in greater\n"
     ]
    },
    {
     "name": "stdout",
     "output_type": "stream",
     "text": [
      "working on c-10_m17_cropped_visit_6\n"
     ]
    },
    {
     "name": "stderr",
     "output_type": "stream",
     "text": [
      "C:\\Users\\Tanvi\\AppData\\Local\\Continuum\\anaconda3\\lib\\site-packages\\ipykernel_launcher.py:60: RuntimeWarning: invalid value encountered in greater\n",
      "C:\\Users\\Tanvi\\AppData\\Local\\Continuum\\anaconda3\\lib\\site-packages\\ipykernel_launcher.py:61: RuntimeWarning: invalid value encountered in greater\n"
     ]
    },
    {
     "name": "stdout",
     "output_type": "stream",
     "text": [
      "(5584, 3)\n",
      "working on c-10_m19_cropped_visit_6\n",
      "(887, 3)\n"
     ]
    },
    {
     "name": "stderr",
     "output_type": "stream",
     "text": [
      "C:\\Users\\Tanvi\\AppData\\Local\\Continuum\\anaconda3\\lib\\site-packages\\ipykernel_launcher.py:60: RuntimeWarning: invalid value encountered in greater\n",
      "C:\\Users\\Tanvi\\AppData\\Local\\Continuum\\anaconda3\\lib\\site-packages\\ipykernel_launcher.py:61: RuntimeWarning: invalid value encountered in greater\n"
     ]
    },
    {
     "name": "stdout",
     "output_type": "stream",
     "text": [
      "working on c-10_m20_cropped_visit_6\n",
      "(203, 3)\n"
     ]
    },
    {
     "name": "stderr",
     "output_type": "stream",
     "text": [
      "C:\\Users\\Tanvi\\AppData\\Local\\Continuum\\anaconda3\\lib\\site-packages\\ipykernel_launcher.py:60: RuntimeWarning: invalid value encountered in greater\n",
      "C:\\Users\\Tanvi\\AppData\\Local\\Continuum\\anaconda3\\lib\\site-packages\\ipykernel_launcher.py:61: RuntimeWarning: invalid value encountered in greater\n"
     ]
    },
    {
     "name": "stdout",
     "output_type": "stream",
     "text": [
      "working on c-10_m21_cropped_visit_6\n",
      "(514, 3)\n"
     ]
    },
    {
     "name": "stderr",
     "output_type": "stream",
     "text": [
      "C:\\Users\\Tanvi\\AppData\\Local\\Continuum\\anaconda3\\lib\\site-packages\\ipykernel_launcher.py:60: RuntimeWarning: invalid value encountered in greater\n",
      "C:\\Users\\Tanvi\\AppData\\Local\\Continuum\\anaconda3\\lib\\site-packages\\ipykernel_launcher.py:61: RuntimeWarning: invalid value encountered in greater\n"
     ]
    },
    {
     "name": "stdout",
     "output_type": "stream",
     "text": [
      "working on c-10_m22_cropped_visit_6\n",
      "(421, 3)\n"
     ]
    },
    {
     "name": "stderr",
     "output_type": "stream",
     "text": [
      "C:\\Users\\Tanvi\\AppData\\Local\\Continuum\\anaconda3\\lib\\site-packages\\ipykernel_launcher.py:60: RuntimeWarning: invalid value encountered in greater\n",
      "C:\\Users\\Tanvi\\AppData\\Local\\Continuum\\anaconda3\\lib\\site-packages\\ipykernel_launcher.py:61: RuntimeWarning: invalid value encountered in greater\n"
     ]
    },
    {
     "name": "stdout",
     "output_type": "stream",
     "text": [
      "working on c-10_m23_cropped_visit_6\n",
      "(296, 3)\n"
     ]
    },
    {
     "name": "stderr",
     "output_type": "stream",
     "text": [
      "C:\\Users\\Tanvi\\AppData\\Local\\Continuum\\anaconda3\\lib\\site-packages\\ipykernel_launcher.py:60: RuntimeWarning: invalid value encountered in greater\n",
      "C:\\Users\\Tanvi\\AppData\\Local\\Continuum\\anaconda3\\lib\\site-packages\\ipykernel_launcher.py:61: RuntimeWarning: invalid value encountered in greater\n"
     ]
    },
    {
     "name": "stdout",
     "output_type": "stream",
     "text": [
      "working on c-10_m24_cropped_visit_6\n",
      "(500, 3)\n"
     ]
    },
    {
     "name": "stderr",
     "output_type": "stream",
     "text": [
      "C:\\Users\\Tanvi\\AppData\\Local\\Continuum\\anaconda3\\lib\\site-packages\\ipykernel_launcher.py:60: RuntimeWarning: invalid value encountered in greater\n",
      "C:\\Users\\Tanvi\\AppData\\Local\\Continuum\\anaconda3\\lib\\site-packages\\ipykernel_launcher.py:61: RuntimeWarning: invalid value encountered in greater\n"
     ]
    },
    {
     "name": "stdout",
     "output_type": "stream",
     "text": [
      "working on c-10_m25_visit_6\n",
      "(439, 3)\n"
     ]
    },
    {
     "name": "stderr",
     "output_type": "stream",
     "text": [
      "C:\\Users\\Tanvi\\AppData\\Local\\Continuum\\anaconda3\\lib\\site-packages\\ipykernel_launcher.py:60: RuntimeWarning: invalid value encountered in greater\n",
      "C:\\Users\\Tanvi\\AppData\\Local\\Continuum\\anaconda3\\lib\\site-packages\\ipykernel_launcher.py:61: RuntimeWarning: invalid value encountered in greater\n"
     ]
    },
    {
     "name": "stdout",
     "output_type": "stream",
     "text": [
      "working on c-10_m2_visit_6\n",
      "(207, 3)\n"
     ]
    },
    {
     "name": "stderr",
     "output_type": "stream",
     "text": [
      "C:\\Users\\Tanvi\\AppData\\Local\\Continuum\\anaconda3\\lib\\site-packages\\ipykernel_launcher.py:60: RuntimeWarning: invalid value encountered in greater\n",
      "C:\\Users\\Tanvi\\AppData\\Local\\Continuum\\anaconda3\\lib\\site-packages\\ipykernel_launcher.py:61: RuntimeWarning: invalid value encountered in greater\n"
     ]
    },
    {
     "name": "stdout",
     "output_type": "stream",
     "text": [
      "working on c-10_m3_visit_6\n",
      "(1722, 3)\n"
     ]
    },
    {
     "name": "stderr",
     "output_type": "stream",
     "text": [
      "C:\\Users\\Tanvi\\AppData\\Local\\Continuum\\anaconda3\\lib\\site-packages\\ipykernel_launcher.py:60: RuntimeWarning: invalid value encountered in greater\n",
      "C:\\Users\\Tanvi\\AppData\\Local\\Continuum\\anaconda3\\lib\\site-packages\\ipykernel_launcher.py:61: RuntimeWarning: invalid value encountered in greater\n"
     ]
    },
    {
     "name": "stdout",
     "output_type": "stream",
     "text": [
      "working on c-10_m6_visit_6\n",
      "(539, 3)\n"
     ]
    },
    {
     "name": "stderr",
     "output_type": "stream",
     "text": [
      "C:\\Users\\Tanvi\\AppData\\Local\\Continuum\\anaconda3\\lib\\site-packages\\ipykernel_launcher.py:60: RuntimeWarning: invalid value encountered in greater\n",
      "C:\\Users\\Tanvi\\AppData\\Local\\Continuum\\anaconda3\\lib\\site-packages\\ipykernel_launcher.py:61: RuntimeWarning: invalid value encountered in greater\n"
     ]
    },
    {
     "name": "stdout",
     "output_type": "stream",
     "text": [
      "working on c-10_m8_visit_6\n",
      "(487, 3)\n"
     ]
    },
    {
     "name": "stderr",
     "output_type": "stream",
     "text": [
      "C:\\Users\\Tanvi\\AppData\\Local\\Continuum\\anaconda3\\lib\\site-packages\\ipykernel_launcher.py:60: RuntimeWarning: invalid value encountered in greater\n",
      "C:\\Users\\Tanvi\\AppData\\Local\\Continuum\\anaconda3\\lib\\site-packages\\ipykernel_launcher.py:61: RuntimeWarning: invalid value encountered in greater\n"
     ]
    },
    {
     "name": "stdout",
     "output_type": "stream",
     "text": [
      "working on c-10_m9_visit_6\n",
      "(47, 3)\n"
     ]
    },
    {
     "name": "stderr",
     "output_type": "stream",
     "text": [
      "C:\\Users\\Tanvi\\AppData\\Local\\Continuum\\anaconda3\\lib\\site-packages\\ipykernel_launcher.py:60: RuntimeWarning: invalid value encountered in greater\n",
      "C:\\Users\\Tanvi\\AppData\\Local\\Continuum\\anaconda3\\lib\\site-packages\\ipykernel_launcher.py:61: RuntimeWarning: invalid value encountered in greater\n"
     ]
    },
    {
     "name": "stdout",
     "output_type": "stream",
     "text": [
      "working on c-1_m10_visit_6\n",
      "(109, 3)\n",
      "working on c-1_m11_visit_6\n",
      "(1869, 3)\n"
     ]
    },
    {
     "name": "stderr",
     "output_type": "stream",
     "text": [
      "C:\\Users\\Tanvi\\AppData\\Local\\Continuum\\anaconda3\\lib\\site-packages\\ipykernel_launcher.py:60: RuntimeWarning: invalid value encountered in greater\n",
      "C:\\Users\\Tanvi\\AppData\\Local\\Continuum\\anaconda3\\lib\\site-packages\\ipykernel_launcher.py:61: RuntimeWarning: invalid value encountered in greater\n"
     ]
    },
    {
     "name": "stdout",
     "output_type": "stream",
     "text": [
      "working on c-1_m13_visit_6\n",
      "(352, 3)\n",
      "working on c-1_m14_visit_6\n",
      "(58, 3)\n"
     ]
    },
    {
     "name": "stderr",
     "output_type": "stream",
     "text": [
      "C:\\Users\\Tanvi\\AppData\\Local\\Continuum\\anaconda3\\lib\\site-packages\\ipykernel_launcher.py:60: RuntimeWarning: invalid value encountered in greater\n",
      "C:\\Users\\Tanvi\\AppData\\Local\\Continuum\\anaconda3\\lib\\site-packages\\ipykernel_launcher.py:61: RuntimeWarning: invalid value encountered in greater\n"
     ]
    },
    {
     "name": "stdout",
     "output_type": "stream",
     "text": [
      "working on c-1_m17_visit_6\n",
      "(398, 3)\n",
      "working on c-1_m18_cropped_visit_6\n",
      "(234, 3)\n",
      "working on c-1_m19_visit_6\n",
      "(183, 3)\n",
      "working on c-1_m1_visit_6\n",
      "(472, 3)\n",
      "working on c-1_m21_visit_6\n",
      "(169, 3)\n",
      "working on c-1_m23_visit_6\n",
      "(245, 3)\n",
      "working on c-1_m24_cropped_visit_6\n",
      "(471, 3)\n"
     ]
    },
    {
     "name": "stderr",
     "output_type": "stream",
     "text": [
      "C:\\Users\\Tanvi\\AppData\\Local\\Continuum\\anaconda3\\lib\\site-packages\\ipykernel_launcher.py:60: RuntimeWarning: invalid value encountered in greater\n",
      "C:\\Users\\Tanvi\\AppData\\Local\\Continuum\\anaconda3\\lib\\site-packages\\ipykernel_launcher.py:61: RuntimeWarning: invalid value encountered in greater\n"
     ]
    },
    {
     "name": "stdout",
     "output_type": "stream",
     "text": [
      "working on c-1_m3_visit_6\n",
      "(214, 3)\n",
      "working on c-1_m4_visit_6\n",
      "(58, 3)\n"
     ]
    },
    {
     "name": "stderr",
     "output_type": "stream",
     "text": [
      "C:\\Users\\Tanvi\\AppData\\Local\\Continuum\\anaconda3\\lib\\site-packages\\ipykernel_launcher.py:60: RuntimeWarning: invalid value encountered in greater\n",
      "C:\\Users\\Tanvi\\AppData\\Local\\Continuum\\anaconda3\\lib\\site-packages\\ipykernel_launcher.py:61: RuntimeWarning: invalid value encountered in greater\n"
     ]
    },
    {
     "name": "stdout",
     "output_type": "stream",
     "text": [
      "working on c-1_m6_visit_6\n",
      "(195, 3)\n",
      "working on c-1_m8_visit_6\n",
      "(148, 3)\n",
      "working on c-2_m10_visit_6\n",
      "(213, 3)\n"
     ]
    },
    {
     "name": "stderr",
     "output_type": "stream",
     "text": [
      "C:\\Users\\Tanvi\\AppData\\Local\\Continuum\\anaconda3\\lib\\site-packages\\ipykernel_launcher.py:60: RuntimeWarning: invalid value encountered in greater\n",
      "C:\\Users\\Tanvi\\AppData\\Local\\Continuum\\anaconda3\\lib\\site-packages\\ipykernel_launcher.py:61: RuntimeWarning: invalid value encountered in greater\n"
     ]
    },
    {
     "name": "stdout",
     "output_type": "stream",
     "text": [
      "working on c-2_m11_visit_6\n",
      "(202, 3)\n",
      "working on c-2_m12_visit_6\n",
      "(176, 3)\n"
     ]
    },
    {
     "name": "stderr",
     "output_type": "stream",
     "text": [
      "C:\\Users\\Tanvi\\AppData\\Local\\Continuum\\anaconda3\\lib\\site-packages\\ipykernel_launcher.py:60: RuntimeWarning: invalid value encountered in greater\n",
      "C:\\Users\\Tanvi\\AppData\\Local\\Continuum\\anaconda3\\lib\\site-packages\\ipykernel_launcher.py:61: RuntimeWarning: invalid value encountered in greater\n"
     ]
    },
    {
     "name": "stdout",
     "output_type": "stream",
     "text": [
      "working on c-2_m13_cropped_visit_6\n",
      "(665, 3)\n",
      "working on c-2_m15_visit_6\n",
      "(195, 3)\n",
      "working on c-2_m16_cropped_visit_6\n",
      "(210, 3)\n"
     ]
    },
    {
     "name": "stderr",
     "output_type": "stream",
     "text": [
      "C:\\Users\\Tanvi\\AppData\\Local\\Continuum\\anaconda3\\lib\\site-packages\\ipykernel_launcher.py:60: RuntimeWarning: invalid value encountered in greater\n",
      "C:\\Users\\Tanvi\\AppData\\Local\\Continuum\\anaconda3\\lib\\site-packages\\ipykernel_launcher.py:61: RuntimeWarning: invalid value encountered in greater\n"
     ]
    },
    {
     "name": "stdout",
     "output_type": "stream",
     "text": [
      "working on c-2_m1_visit_6\n",
      "(350, 3)\n"
     ]
    },
    {
     "name": "stderr",
     "output_type": "stream",
     "text": [
      "C:\\Users\\Tanvi\\AppData\\Local\\Continuum\\anaconda3\\lib\\site-packages\\ipykernel_launcher.py:60: RuntimeWarning: invalid value encountered in greater\n",
      "C:\\Users\\Tanvi\\AppData\\Local\\Continuum\\anaconda3\\lib\\site-packages\\ipykernel_launcher.py:61: RuntimeWarning: invalid value encountered in greater\n"
     ]
    },
    {
     "name": "stdout",
     "output_type": "stream",
     "text": [
      "working on c-2_m20_visit_6\n",
      "(929, 3)\n",
      "working on c-2_m21_cropped_visit_6\n",
      "(138, 3)\n",
      "working on c-2_m22_visit_6\n",
      "(723, 3)\n"
     ]
    },
    {
     "name": "stderr",
     "output_type": "stream",
     "text": [
      "C:\\Users\\Tanvi\\AppData\\Local\\Continuum\\anaconda3\\lib\\site-packages\\ipykernel_launcher.py:60: RuntimeWarning: invalid value encountered in greater\n",
      "C:\\Users\\Tanvi\\AppData\\Local\\Continuum\\anaconda3\\lib\\site-packages\\ipykernel_launcher.py:61: RuntimeWarning: invalid value encountered in greater\n"
     ]
    },
    {
     "name": "stdout",
     "output_type": "stream",
     "text": [
      "working on c-2_m23_visit_6\n",
      "(26, 3)\n",
      "working on c-2_m3_visit_6\n",
      "(267, 3)\n"
     ]
    },
    {
     "name": "stderr",
     "output_type": "stream",
     "text": [
      "C:\\Users\\Tanvi\\AppData\\Local\\Continuum\\anaconda3\\lib\\site-packages\\ipykernel_launcher.py:60: RuntimeWarning: invalid value encountered in greater\n",
      "C:\\Users\\Tanvi\\AppData\\Local\\Continuum\\anaconda3\\lib\\site-packages\\ipykernel_launcher.py:61: RuntimeWarning: invalid value encountered in greater\n"
     ]
    },
    {
     "name": "stdout",
     "output_type": "stream",
     "text": [
      "working on c-2_m4_visit_6\n",
      "(533, 3)\n"
     ]
    },
    {
     "name": "stderr",
     "output_type": "stream",
     "text": [
      "C:\\Users\\Tanvi\\AppData\\Local\\Continuum\\anaconda3\\lib\\site-packages\\ipykernel_launcher.py:60: RuntimeWarning: invalid value encountered in greater\n",
      "C:\\Users\\Tanvi\\AppData\\Local\\Continuum\\anaconda3\\lib\\site-packages\\ipykernel_launcher.py:61: RuntimeWarning: invalid value encountered in greater\n"
     ]
    },
    {
     "name": "stdout",
     "output_type": "stream",
     "text": [
      "working on c-2_m6_visit_6\n",
      "(432, 3)\n",
      "working on c-2_m7_visit_6\n",
      "(251, 3)\n"
     ]
    },
    {
     "name": "stderr",
     "output_type": "stream",
     "text": [
      "C:\\Users\\Tanvi\\AppData\\Local\\Continuum\\anaconda3\\lib\\site-packages\\ipykernel_launcher.py:60: RuntimeWarning: invalid value encountered in greater\n",
      "C:\\Users\\Tanvi\\AppData\\Local\\Continuum\\anaconda3\\lib\\site-packages\\ipykernel_launcher.py:61: RuntimeWarning: invalid value encountered in greater\n"
     ]
    },
    {
     "name": "stdout",
     "output_type": "stream",
     "text": [
      "working on c-2_m9_visit_6\n",
      "(387, 3)\n"
     ]
    },
    {
     "name": "stderr",
     "output_type": "stream",
     "text": [
      "C:\\Users\\Tanvi\\AppData\\Local\\Continuum\\anaconda3\\lib\\site-packages\\ipykernel_launcher.py:60: RuntimeWarning: invalid value encountered in greater\n",
      "C:\\Users\\Tanvi\\AppData\\Local\\Continuum\\anaconda3\\lib\\site-packages\\ipykernel_launcher.py:61: RuntimeWarning: invalid value encountered in greater\n"
     ]
    },
    {
     "name": "stdout",
     "output_type": "stream",
     "text": [
      "working on c-3_m10_visit_6\n",
      "(263, 3)\n"
     ]
    },
    {
     "name": "stderr",
     "output_type": "stream",
     "text": [
      "C:\\Users\\Tanvi\\AppData\\Local\\Continuum\\anaconda3\\lib\\site-packages\\ipykernel_launcher.py:60: RuntimeWarning: invalid value encountered in greater\n",
      "C:\\Users\\Tanvi\\AppData\\Local\\Continuum\\anaconda3\\lib\\site-packages\\ipykernel_launcher.py:61: RuntimeWarning: invalid value encountered in greater\n"
     ]
    },
    {
     "name": "stdout",
     "output_type": "stream",
     "text": [
      "working on c-3_m11_visit_6\n",
      "(127, 3)\n"
     ]
    },
    {
     "name": "stderr",
     "output_type": "stream",
     "text": [
      "C:\\Users\\Tanvi\\AppData\\Local\\Continuum\\anaconda3\\lib\\site-packages\\ipykernel_launcher.py:60: RuntimeWarning: invalid value encountered in greater\n",
      "C:\\Users\\Tanvi\\AppData\\Local\\Continuum\\anaconda3\\lib\\site-packages\\ipykernel_launcher.py:61: RuntimeWarning: invalid value encountered in greater\n"
     ]
    },
    {
     "name": "stdout",
     "output_type": "stream",
     "text": [
      "working on c-3_m13_visit_6\n",
      "(179, 3)\n"
     ]
    },
    {
     "name": "stderr",
     "output_type": "stream",
     "text": [
      "C:\\Users\\Tanvi\\AppData\\Local\\Continuum\\anaconda3\\lib\\site-packages\\ipykernel_launcher.py:60: RuntimeWarning: invalid value encountered in greater\n",
      "C:\\Users\\Tanvi\\AppData\\Local\\Continuum\\anaconda3\\lib\\site-packages\\ipykernel_launcher.py:61: RuntimeWarning: invalid value encountered in greater\n"
     ]
    },
    {
     "name": "stdout",
     "output_type": "stream",
     "text": [
      "working on c-3_m16_visit_6\n",
      "(1007, 3)\n"
     ]
    },
    {
     "name": "stderr",
     "output_type": "stream",
     "text": [
      "C:\\Users\\Tanvi\\AppData\\Local\\Continuum\\anaconda3\\lib\\site-packages\\ipykernel_launcher.py:60: RuntimeWarning: invalid value encountered in greater\n",
      "C:\\Users\\Tanvi\\AppData\\Local\\Continuum\\anaconda3\\lib\\site-packages\\ipykernel_launcher.py:61: RuntimeWarning: invalid value encountered in greater\n"
     ]
    },
    {
     "name": "stdout",
     "output_type": "stream",
     "text": [
      "working on c-3_m17_visit_6\n",
      "(948, 3)\n"
     ]
    },
    {
     "name": "stderr",
     "output_type": "stream",
     "text": [
      "C:\\Users\\Tanvi\\AppData\\Local\\Continuum\\anaconda3\\lib\\site-packages\\ipykernel_launcher.py:60: RuntimeWarning: invalid value encountered in greater\n",
      "C:\\Users\\Tanvi\\AppData\\Local\\Continuum\\anaconda3\\lib\\site-packages\\ipykernel_launcher.py:61: RuntimeWarning: invalid value encountered in greater\n"
     ]
    },
    {
     "name": "stdout",
     "output_type": "stream",
     "text": [
      "working on c-3_m18_visit_6\n"
     ]
    },
    {
     "name": "stderr",
     "output_type": "stream",
     "text": [
      "C:\\Users\\Tanvi\\AppData\\Local\\Continuum\\anaconda3\\lib\\site-packages\\ipykernel_launcher.py:60: RuntimeWarning: invalid value encountered in greater\n",
      "C:\\Users\\Tanvi\\AppData\\Local\\Continuum\\anaconda3\\lib\\site-packages\\ipykernel_launcher.py:61: RuntimeWarning: invalid value encountered in greater\n"
     ]
    },
    {
     "name": "stdout",
     "output_type": "stream",
     "text": [
      "(3122, 3)\n",
      "working on c-3_m1_visit_6\n",
      "(119, 3)\n"
     ]
    },
    {
     "name": "stderr",
     "output_type": "stream",
     "text": [
      "C:\\Users\\Tanvi\\AppData\\Local\\Continuum\\anaconda3\\lib\\site-packages\\ipykernel_launcher.py:60: RuntimeWarning: invalid value encountered in greater\n",
      "C:\\Users\\Tanvi\\AppData\\Local\\Continuum\\anaconda3\\lib\\site-packages\\ipykernel_launcher.py:61: RuntimeWarning: invalid value encountered in greater\n"
     ]
    },
    {
     "name": "stdout",
     "output_type": "stream",
     "text": [
      "working on c-3_m21_cropped_visit_6\n",
      "(530, 3)\n",
      "working on c-3_m22_visit_6\n",
      "(808, 3)\n",
      "working on c-3_m23_cropped_visit_6\n",
      "(165, 3)\n",
      "working on c-3_m24_visit_6\n",
      "(865, 3)\n",
      "working on c-3_m25_visit_6\n",
      "(970, 3)\n"
     ]
    },
    {
     "name": "stderr",
     "output_type": "stream",
     "text": [
      "C:\\Users\\Tanvi\\AppData\\Local\\Continuum\\anaconda3\\lib\\site-packages\\ipykernel_launcher.py:60: RuntimeWarning: invalid value encountered in greater\n",
      "C:\\Users\\Tanvi\\AppData\\Local\\Continuum\\anaconda3\\lib\\site-packages\\ipykernel_launcher.py:61: RuntimeWarning: invalid value encountered in greater\n"
     ]
    },
    {
     "name": "stdout",
     "output_type": "stream",
     "text": [
      "working on c-3_m2_visit_6\n",
      "(810, 3)\n"
     ]
    },
    {
     "name": "stderr",
     "output_type": "stream",
     "text": [
      "C:\\Users\\Tanvi\\AppData\\Local\\Continuum\\anaconda3\\lib\\site-packages\\ipykernel_launcher.py:60: RuntimeWarning: invalid value encountered in greater\n",
      "C:\\Users\\Tanvi\\AppData\\Local\\Continuum\\anaconda3\\lib\\site-packages\\ipykernel_launcher.py:61: RuntimeWarning: invalid value encountered in greater\n"
     ]
    },
    {
     "name": "stdout",
     "output_type": "stream",
     "text": [
      "working on c-3_m3_visit_6\n",
      "(126, 3)\n",
      "working on c-3_m4_visit_6\n"
     ]
    },
    {
     "name": "stderr",
     "output_type": "stream",
     "text": [
      "C:\\Users\\Tanvi\\AppData\\Local\\Continuum\\anaconda3\\lib\\site-packages\\ipykernel_launcher.py:60: RuntimeWarning: invalid value encountered in greater\n",
      "C:\\Users\\Tanvi\\AppData\\Local\\Continuum\\anaconda3\\lib\\site-packages\\ipykernel_launcher.py:61: RuntimeWarning: invalid value encountered in greater\n"
     ]
    },
    {
     "name": "stdout",
     "output_type": "stream",
     "text": [
      "(2664, 3)\n",
      "working on c-3_m5_visit_6\n",
      "(756, 3)\n"
     ]
    },
    {
     "name": "stderr",
     "output_type": "stream",
     "text": [
      "C:\\Users\\Tanvi\\AppData\\Local\\Continuum\\anaconda3\\lib\\site-packages\\ipykernel_launcher.py:60: RuntimeWarning: invalid value encountered in greater\n",
      "C:\\Users\\Tanvi\\AppData\\Local\\Continuum\\anaconda3\\lib\\site-packages\\ipykernel_launcher.py:61: RuntimeWarning: invalid value encountered in greater\n"
     ]
    },
    {
     "name": "stdout",
     "output_type": "stream",
     "text": [
      "working on c-3_m6_visit_6\n",
      "(251, 3)\n",
      "working on c-3_m7_visit_6\n",
      "(192, 3)\n"
     ]
    },
    {
     "name": "stderr",
     "output_type": "stream",
     "text": [
      "C:\\Users\\Tanvi\\AppData\\Local\\Continuum\\anaconda3\\lib\\site-packages\\ipykernel_launcher.py:60: RuntimeWarning: invalid value encountered in greater\n",
      "C:\\Users\\Tanvi\\AppData\\Local\\Continuum\\anaconda3\\lib\\site-packages\\ipykernel_launcher.py:61: RuntimeWarning: invalid value encountered in greater\n"
     ]
    },
    {
     "name": "stdout",
     "output_type": "stream",
     "text": [
      "working on c-3_m8_visit_6\n",
      "(334, 3)\n",
      "working on c-3_m9_visit_6\n",
      "(1082, 3)\n",
      "working on c-10_m11_visit_19\n",
      "(282, 3)\n"
     ]
    },
    {
     "name": "stderr",
     "output_type": "stream",
     "text": [
      "C:\\Users\\Tanvi\\AppData\\Local\\Continuum\\anaconda3\\lib\\site-packages\\ipykernel_launcher.py:60: RuntimeWarning: invalid value encountered in greater\n",
      "C:\\Users\\Tanvi\\AppData\\Local\\Continuum\\anaconda3\\lib\\site-packages\\ipykernel_launcher.py:61: RuntimeWarning: invalid value encountered in greater\n"
     ]
    },
    {
     "name": "stdout",
     "output_type": "stream",
     "text": [
      "working on c-10_m12_visit_19\n",
      "(265, 3)\n"
     ]
    },
    {
     "name": "stderr",
     "output_type": "stream",
     "text": [
      "C:\\Users\\Tanvi\\AppData\\Local\\Continuum\\anaconda3\\lib\\site-packages\\ipykernel_launcher.py:60: RuntimeWarning: invalid value encountered in greater\n",
      "C:\\Users\\Tanvi\\AppData\\Local\\Continuum\\anaconda3\\lib\\site-packages\\ipykernel_launcher.py:61: RuntimeWarning: invalid value encountered in greater\n"
     ]
    },
    {
     "name": "stdout",
     "output_type": "stream",
     "text": [
      "working on c-10_m15_visit_19\n",
      "(87, 3)\n"
     ]
    },
    {
     "name": "stderr",
     "output_type": "stream",
     "text": [
      "C:\\Users\\Tanvi\\AppData\\Local\\Continuum\\anaconda3\\lib\\site-packages\\ipykernel_launcher.py:60: RuntimeWarning: invalid value encountered in greater\n",
      "C:\\Users\\Tanvi\\AppData\\Local\\Continuum\\anaconda3\\lib\\site-packages\\ipykernel_launcher.py:61: RuntimeWarning: invalid value encountered in greater\n"
     ]
    },
    {
     "name": "stdout",
     "output_type": "stream",
     "text": [
      "working on c-10_m16_cropped_visit_19\n",
      "(571, 3)\n"
     ]
    },
    {
     "name": "stderr",
     "output_type": "stream",
     "text": [
      "C:\\Users\\Tanvi\\AppData\\Local\\Continuum\\anaconda3\\lib\\site-packages\\ipykernel_launcher.py:60: RuntimeWarning: invalid value encountered in greater\n",
      "C:\\Users\\Tanvi\\AppData\\Local\\Continuum\\anaconda3\\lib\\site-packages\\ipykernel_launcher.py:61: RuntimeWarning: invalid value encountered in greater\n"
     ]
    },
    {
     "name": "stdout",
     "output_type": "stream",
     "text": [
      "working on c-10_m17_cropped_visit_19\n",
      "(661, 3)\n"
     ]
    },
    {
     "name": "stderr",
     "output_type": "stream",
     "text": [
      "C:\\Users\\Tanvi\\AppData\\Local\\Continuum\\anaconda3\\lib\\site-packages\\ipykernel_launcher.py:60: RuntimeWarning: invalid value encountered in greater\n",
      "C:\\Users\\Tanvi\\AppData\\Local\\Continuum\\anaconda3\\lib\\site-packages\\ipykernel_launcher.py:61: RuntimeWarning: invalid value encountered in greater\n"
     ]
    },
    {
     "name": "stdout",
     "output_type": "stream",
     "text": [
      "working on c-10_m19_cropped_visit_19\n",
      "(339, 3)\n"
     ]
    },
    {
     "name": "stderr",
     "output_type": "stream",
     "text": [
      "C:\\Users\\Tanvi\\AppData\\Local\\Continuum\\anaconda3\\lib\\site-packages\\ipykernel_launcher.py:60: RuntimeWarning: invalid value encountered in greater\n",
      "C:\\Users\\Tanvi\\AppData\\Local\\Continuum\\anaconda3\\lib\\site-packages\\ipykernel_launcher.py:61: RuntimeWarning: invalid value encountered in greater\n"
     ]
    },
    {
     "name": "stdout",
     "output_type": "stream",
     "text": [
      "working on c-10_m22_cropped_visit_19\n",
      "(418, 3)\n"
     ]
    },
    {
     "name": "stderr",
     "output_type": "stream",
     "text": [
      "C:\\Users\\Tanvi\\AppData\\Local\\Continuum\\anaconda3\\lib\\site-packages\\ipykernel_launcher.py:60: RuntimeWarning: invalid value encountered in greater\n",
      "C:\\Users\\Tanvi\\AppData\\Local\\Continuum\\anaconda3\\lib\\site-packages\\ipykernel_launcher.py:61: RuntimeWarning: invalid value encountered in greater\n"
     ]
    },
    {
     "name": "stdout",
     "output_type": "stream",
     "text": [
      "working on c-10_m23_cropped_visit_19\n",
      "(1286, 3)\n",
      "working on c-10_m24_cropped_visit_19\n",
      "(176, 3)\n"
     ]
    },
    {
     "name": "stderr",
     "output_type": "stream",
     "text": [
      "C:\\Users\\Tanvi\\AppData\\Local\\Continuum\\anaconda3\\lib\\site-packages\\ipykernel_launcher.py:60: RuntimeWarning: invalid value encountered in greater\n",
      "C:\\Users\\Tanvi\\AppData\\Local\\Continuum\\anaconda3\\lib\\site-packages\\ipykernel_launcher.py:61: RuntimeWarning: invalid value encountered in greater\n"
     ]
    },
    {
     "name": "stdout",
     "output_type": "stream",
     "text": [
      "working on c-10_m25_visit_19\n",
      "(972, 3)\n"
     ]
    },
    {
     "name": "stderr",
     "output_type": "stream",
     "text": [
      "C:\\Users\\Tanvi\\AppData\\Local\\Continuum\\anaconda3\\lib\\site-packages\\ipykernel_launcher.py:60: RuntimeWarning: invalid value encountered in greater\n",
      "C:\\Users\\Tanvi\\AppData\\Local\\Continuum\\anaconda3\\lib\\site-packages\\ipykernel_launcher.py:61: RuntimeWarning: invalid value encountered in greater\n"
     ]
    },
    {
     "name": "stdout",
     "output_type": "stream",
     "text": [
      "working on c-10_m3_visit_19\n",
      "(1662, 3)\n"
     ]
    },
    {
     "name": "stderr",
     "output_type": "stream",
     "text": [
      "C:\\Users\\Tanvi\\AppData\\Local\\Continuum\\anaconda3\\lib\\site-packages\\ipykernel_launcher.py:60: RuntimeWarning: invalid value encountered in greater\n",
      "C:\\Users\\Tanvi\\AppData\\Local\\Continuum\\anaconda3\\lib\\site-packages\\ipykernel_launcher.py:61: RuntimeWarning: invalid value encountered in greater\n"
     ]
    },
    {
     "name": "stdout",
     "output_type": "stream",
     "text": [
      "working on c-10_m6_visit_19\n",
      "(321, 3)\n"
     ]
    },
    {
     "name": "stderr",
     "output_type": "stream",
     "text": [
      "C:\\Users\\Tanvi\\AppData\\Local\\Continuum\\anaconda3\\lib\\site-packages\\ipykernel_launcher.py:60: RuntimeWarning: invalid value encountered in greater\n",
      "C:\\Users\\Tanvi\\AppData\\Local\\Continuum\\anaconda3\\lib\\site-packages\\ipykernel_launcher.py:61: RuntimeWarning: invalid value encountered in greater\n"
     ]
    },
    {
     "name": "stdout",
     "output_type": "stream",
     "text": [
      "working on c-10_m8_visit_19\n",
      "(241, 3)\n"
     ]
    },
    {
     "name": "stderr",
     "output_type": "stream",
     "text": [
      "C:\\Users\\Tanvi\\AppData\\Local\\Continuum\\anaconda3\\lib\\site-packages\\ipykernel_launcher.py:60: RuntimeWarning: invalid value encountered in greater\n",
      "C:\\Users\\Tanvi\\AppData\\Local\\Continuum\\anaconda3\\lib\\site-packages\\ipykernel_launcher.py:61: RuntimeWarning: invalid value encountered in greater\n"
     ]
    },
    {
     "name": "stdout",
     "output_type": "stream",
     "text": [
      "working on c-1_m10_visit_19\n",
      "(76, 3)\n",
      "working on c-1_m11_visit_19\n",
      "(902, 3)\n"
     ]
    },
    {
     "name": "stderr",
     "output_type": "stream",
     "text": [
      "C:\\Users\\Tanvi\\AppData\\Local\\Continuum\\anaconda3\\lib\\site-packages\\ipykernel_launcher.py:60: RuntimeWarning: invalid value encountered in greater\n",
      "C:\\Users\\Tanvi\\AppData\\Local\\Continuum\\anaconda3\\lib\\site-packages\\ipykernel_launcher.py:61: RuntimeWarning: invalid value encountered in greater\n"
     ]
    },
    {
     "name": "stdout",
     "output_type": "stream",
     "text": [
      "working on c-1_m14_visit_19\n",
      "(496, 3)\n"
     ]
    },
    {
     "name": "stderr",
     "output_type": "stream",
     "text": [
      "C:\\Users\\Tanvi\\AppData\\Local\\Continuum\\anaconda3\\lib\\site-packages\\ipykernel_launcher.py:60: RuntimeWarning: invalid value encountered in greater\n",
      "C:\\Users\\Tanvi\\AppData\\Local\\Continuum\\anaconda3\\lib\\site-packages\\ipykernel_launcher.py:61: RuntimeWarning: invalid value encountered in greater\n"
     ]
    },
    {
     "name": "stdout",
     "output_type": "stream",
     "text": [
      "working on c-1_m17_visit_19\n",
      "(279, 3)\n"
     ]
    },
    {
     "name": "stderr",
     "output_type": "stream",
     "text": [
      "C:\\Users\\Tanvi\\AppData\\Local\\Continuum\\anaconda3\\lib\\site-packages\\ipykernel_launcher.py:60: RuntimeWarning: invalid value encountered in greater\n",
      "C:\\Users\\Tanvi\\AppData\\Local\\Continuum\\anaconda3\\lib\\site-packages\\ipykernel_launcher.py:61: RuntimeWarning: invalid value encountered in greater\n"
     ]
    },
    {
     "name": "stdout",
     "output_type": "stream",
     "text": [
      "working on c-1_m18_cropped_visit_19\n",
      "(305, 3)\n",
      "working on c-1_m1_visit_19\n",
      "(425, 3)\n"
     ]
    },
    {
     "name": "stderr",
     "output_type": "stream",
     "text": [
      "C:\\Users\\Tanvi\\AppData\\Local\\Continuum\\anaconda3\\lib\\site-packages\\ipykernel_launcher.py:60: RuntimeWarning: invalid value encountered in greater\n",
      "C:\\Users\\Tanvi\\AppData\\Local\\Continuum\\anaconda3\\lib\\site-packages\\ipykernel_launcher.py:61: RuntimeWarning: invalid value encountered in greater\n"
     ]
    },
    {
     "name": "stdout",
     "output_type": "stream",
     "text": [
      "working on c-1_m24_cropped_visit_19\n",
      "(405, 3)\n"
     ]
    },
    {
     "name": "stderr",
     "output_type": "stream",
     "text": [
      "C:\\Users\\Tanvi\\AppData\\Local\\Continuum\\anaconda3\\lib\\site-packages\\ipykernel_launcher.py:60: RuntimeWarning: invalid value encountered in greater\n",
      "C:\\Users\\Tanvi\\AppData\\Local\\Continuum\\anaconda3\\lib\\site-packages\\ipykernel_launcher.py:61: RuntimeWarning: invalid value encountered in greater\n"
     ]
    },
    {
     "name": "stdout",
     "output_type": "stream",
     "text": [
      "working on c-1_m6_visit_19\n",
      "(232, 3)\n"
     ]
    },
    {
     "name": "stderr",
     "output_type": "stream",
     "text": [
      "C:\\Users\\Tanvi\\AppData\\Local\\Continuum\\anaconda3\\lib\\site-packages\\ipykernel_launcher.py:60: RuntimeWarning: invalid value encountered in greater\n",
      "C:\\Users\\Tanvi\\AppData\\Local\\Continuum\\anaconda3\\lib\\site-packages\\ipykernel_launcher.py:61: RuntimeWarning: invalid value encountered in greater\n"
     ]
    },
    {
     "name": "stdout",
     "output_type": "stream",
     "text": [
      "working on c-1_m8_visit_19\n",
      "(20, 3)\n",
      "working on c-2_m11_visit_19\n",
      "(260, 3)\n"
     ]
    },
    {
     "name": "stderr",
     "output_type": "stream",
     "text": [
      "C:\\Users\\Tanvi\\AppData\\Local\\Continuum\\anaconda3\\lib\\site-packages\\ipykernel_launcher.py:60: RuntimeWarning: invalid value encountered in greater\n",
      "C:\\Users\\Tanvi\\AppData\\Local\\Continuum\\anaconda3\\lib\\site-packages\\ipykernel_launcher.py:61: RuntimeWarning: invalid value encountered in greater\n"
     ]
    },
    {
     "name": "stdout",
     "output_type": "stream",
     "text": [
      "working on c-2_m12_visit_19\n",
      "(234, 3)\n",
      "working on c-2_m20_visit_19\n",
      "(1144, 3)\n"
     ]
    },
    {
     "name": "stderr",
     "output_type": "stream",
     "text": [
      "C:\\Users\\Tanvi\\AppData\\Local\\Continuum\\anaconda3\\lib\\site-packages\\ipykernel_launcher.py:60: RuntimeWarning: invalid value encountered in greater\n",
      "C:\\Users\\Tanvi\\AppData\\Local\\Continuum\\anaconda3\\lib\\site-packages\\ipykernel_launcher.py:61: RuntimeWarning: invalid value encountered in greater\n"
     ]
    },
    {
     "name": "stdout",
     "output_type": "stream",
     "text": [
      "working on c-2_m21_cropped_visit_19\n",
      "(29, 3)\n",
      "working on c-2_m3_visit_19\n",
      "(161, 3)\n"
     ]
    },
    {
     "name": "stderr",
     "output_type": "stream",
     "text": [
      "C:\\Users\\Tanvi\\AppData\\Local\\Continuum\\anaconda3\\lib\\site-packages\\ipykernel_launcher.py:60: RuntimeWarning: invalid value encountered in greater\n",
      "C:\\Users\\Tanvi\\AppData\\Local\\Continuum\\anaconda3\\lib\\site-packages\\ipykernel_launcher.py:61: RuntimeWarning: invalid value encountered in greater\n"
     ]
    },
    {
     "name": "stdout",
     "output_type": "stream",
     "text": [
      "working on c-3_m10_visit_19\n",
      "(383, 3)\n",
      "working on c-3_m11_visit_19\n",
      "(191, 3)\n",
      "working on c-3_m13_visit_19\n",
      "(953, 3)\n"
     ]
    },
    {
     "name": "stderr",
     "output_type": "stream",
     "text": [
      "C:\\Users\\Tanvi\\AppData\\Local\\Continuum\\anaconda3\\lib\\site-packages\\ipykernel_launcher.py:60: RuntimeWarning: invalid value encountered in greater\n",
      "C:\\Users\\Tanvi\\AppData\\Local\\Continuum\\anaconda3\\lib\\site-packages\\ipykernel_launcher.py:61: RuntimeWarning: invalid value encountered in greater\n"
     ]
    },
    {
     "name": "stdout",
     "output_type": "stream",
     "text": [
      "working on c-3_m21_cropped_visit_19\n",
      "(1142, 3)\n"
     ]
    },
    {
     "name": "stderr",
     "output_type": "stream",
     "text": [
      "C:\\Users\\Tanvi\\AppData\\Local\\Continuum\\anaconda3\\lib\\site-packages\\ipykernel_launcher.py:60: RuntimeWarning: invalid value encountered in greater\n",
      "C:\\Users\\Tanvi\\AppData\\Local\\Continuum\\anaconda3\\lib\\site-packages\\ipykernel_launcher.py:61: RuntimeWarning: invalid value encountered in greater\n"
     ]
    },
    {
     "name": "stdout",
     "output_type": "stream",
     "text": [
      "working on c-3_m22_visit_19\n",
      "(276, 3)\n"
     ]
    },
    {
     "name": "stderr",
     "output_type": "stream",
     "text": [
      "C:\\Users\\Tanvi\\AppData\\Local\\Continuum\\anaconda3\\lib\\site-packages\\ipykernel_launcher.py:60: RuntimeWarning: invalid value encountered in greater\n",
      "C:\\Users\\Tanvi\\AppData\\Local\\Continuum\\anaconda3\\lib\\site-packages\\ipykernel_launcher.py:61: RuntimeWarning: invalid value encountered in greater\n"
     ]
    },
    {
     "name": "stdout",
     "output_type": "stream",
     "text": [
      "working on c-3_m23_cropped_visit_19\n",
      "(111, 3)\n",
      "working on c-3_m24_visit_19\n",
      "(85, 3)\n",
      "working on c-3_m25_visit_19\n",
      "(482, 3)\n"
     ]
    },
    {
     "name": "stderr",
     "output_type": "stream",
     "text": [
      "C:\\Users\\Tanvi\\AppData\\Local\\Continuum\\anaconda3\\lib\\site-packages\\ipykernel_launcher.py:60: RuntimeWarning: invalid value encountered in greater\n",
      "C:\\Users\\Tanvi\\AppData\\Local\\Continuum\\anaconda3\\lib\\site-packages\\ipykernel_launcher.py:61: RuntimeWarning: invalid value encountered in greater\n"
     ]
    },
    {
     "name": "stdout",
     "output_type": "stream",
     "text": [
      "working on c-3_m3_visit_19\n",
      "(1029, 3)\n"
     ]
    },
    {
     "name": "stderr",
     "output_type": "stream",
     "text": [
      "C:\\Users\\Tanvi\\AppData\\Local\\Continuum\\anaconda3\\lib\\site-packages\\ipykernel_launcher.py:60: RuntimeWarning: invalid value encountered in greater\n",
      "C:\\Users\\Tanvi\\AppData\\Local\\Continuum\\anaconda3\\lib\\site-packages\\ipykernel_launcher.py:61: RuntimeWarning: invalid value encountered in greater\n"
     ]
    },
    {
     "name": "stdout",
     "output_type": "stream",
     "text": [
      "working on c-3_m8_visit_19\n",
      "(444, 3)\n"
     ]
    },
    {
     "name": "stderr",
     "output_type": "stream",
     "text": [
      "C:\\Users\\Tanvi\\AppData\\Local\\Continuum\\anaconda3\\lib\\site-packages\\ipykernel_launcher.py:60: RuntimeWarning: invalid value encountered in greater\n",
      "C:\\Users\\Tanvi\\AppData\\Local\\Continuum\\anaconda3\\lib\\site-packages\\ipykernel_launcher.py:61: RuntimeWarning: invalid value encountered in greater\n"
     ]
    }
   ],
   "source": [
    "for visit in visitnum:\n",
    "    path = os.path.join(direc, visit)\n",
    "    trackslist = glob.glob(path + '*.csv')\n",
    "    \n",
    "#     # remove problem cases\n",
    "#     n_remove = removelist(visit)\n",
    "#     newlist = []\n",
    "#     for n in trackslist:\n",
    "#         m_temp = os.path.basename(n)[:-4]\n",
    "#         a = m_temp.split('_')[0]\n",
    "#         b = m_temp.split('_')[1]\n",
    "#         m = a+'_'+b\n",
    "#         m in n_remove\n",
    "#         if m not in n_remove:\n",
    "#             newlist.append(n)\n",
    "    \n",
    "    newlist = trackslist\n",
    "    outpath = os.path.join('../dataFolders/PaperPipelineOutput/v3/FilteredTracks/', visit)\n",
    "    outpathfig = os.path.join('../dataFolders/PaperPipelineOutput/Figures/v3/FilteredTracks/', visit)\n",
    "    \n",
    "    for data in newlist:\n",
    "#     data = trackslist[0]\n",
    "        name = os.path.basename(data)[:-4]\n",
    "        print('working on ' + name)\n",
    "\n",
    "\n",
    "        file = pd.read_csv(data)\n",
    "        x = file.x.values\n",
    "        y = file.y.values\n",
    "        p = file.likelihood\n",
    "\n",
    "        x_notinView = x <=5\n",
    "        y_notinView = y <=5\n",
    "\n",
    "        x[x_notinView & y_notinView]=np.nan\n",
    "        y[x_notinView & y_notinView]=np.nan\n",
    "\n",
    "\n",
    "        # add filter for DLC likelihood\n",
    "        med = file['likelihood'].rolling(11).median()\n",
    "        x[med < 0.6] = np.nan\n",
    "        y[med < 0.6] = np.nan\n",
    "\n",
    "        if x.size == 0 or y.size == 0:\n",
    "            print(name + 'has emtpy x y tracks')\n",
    "            continue\n",
    "\n",
    "        mothname = [n for n in circ_parameters.name if n + '_' in data][0]\n",
    "\n",
    "        circ_x = circ_parameters.loc[circ_parameters.name == mothname, 'circ_x'].values\n",
    "        circ_y = circ_parameters.loc[circ_parameters.name == mothname, 'circ_y'].values\n",
    "        circ_radii = circ_parameters.loc[circ_parameters.name == mothname, 'circ_radii'].values\n",
    "\n",
    "        # get rmse values for subsequent frames\n",
    "        rmse = GetRMSE(x[1:], y[1:], x[:-1], y[:-1])\n",
    "\n",
    "        filtered_x = np.copy(x[1:])\n",
    "        filtered_y = np.copy(y[1:])\n",
    "\n",
    "        filtered_x[(rmse > cutoff) | (rmse == np.nan)] = np.nan\n",
    "        filtered_y[(rmse > cutoff) | (rmse == np.nan)] = np.nan\n",
    "\n",
    "        filtered_r = np.linalg.norm([filtered_x - circ_x, filtered_y - circ_y], axis = 0)\n",
    "        filtered_r = filtered_r/circ_radii\n",
    "        filt_trajectory = pd.DataFrame([filtered_x, filtered_y, filtered_r]).T\n",
    "        filt_trajectory.columns = ['x', 'y', 'r']\n",
    "\n",
    "        t = (pd.Series(filtered_x).rolling(30).median(center=True))\n",
    "        t_reverse = t[::-1]\n",
    "        t_reverse\n",
    "        s = np.argmax([ ~np.isnan(t) for t in t_reverse ] )\n",
    "        trim = len(t)-s\n",
    "\n",
    "        # Apply filters\n",
    "\n",
    "        trajectory = filt_trajectory.copy()\n",
    "        trajectory = trajectory.loc[0:trim, :]\n",
    "        print(trajectory.shape)\n",
    "\n",
    "        for colname in trajectory.columns:\n",
    "    #         print(colname)\n",
    "            trajectory.loc[:, colname] = signal.medfilt(trajectory.loc[:, colname], kernel_size=11)\n",
    "            trajectory.loc[:, colname] = trajectory.loc[:, colname].interpolate(method = 'polynomial'\n",
    "                                                                                ,order = 3, limit = 40)\n",
    "\n",
    "            nans = trajectory.loc[:,colname].isnull()\n",
    "            trajectory.loc[:,colname] = trajectory.loc[:,colname].interpolate(method = 'pad')\n",
    "            trajectory.loc[:, colname] = signal.savgol_filter(trajectory.loc[:, colname],\n",
    "                                                              window_length=savgol_win,\n",
    "                                                              polyorder=savgol_polyorder,\n",
    "                                                              axis=0)\n",
    "            trajectory.loc[nans, colname]= np.nan\n",
    "\n",
    "        trajectory_r = np.linalg.norm([trajectory.loc[:,'x'].values - circ_x, trajectory.loc[:,'y'].values - circ_y], axis = 0)\n",
    "        trajectory['r'] = trajectory_r/circ_radii\n",
    "\n",
    "    #     fig = plt.figure()\n",
    "        axes = pd.concat([filt_trajectory, trajectory], axis = 1).plot(subplots = True, figsize = (15,8))\n",
    "        fig = plt.gcf()\n",
    "    #     .get_figure()\n",
    "        fig.savefig(outpathfig + mothname + '_' + visit[:-1] + '.pdf')\n",
    "        plt.close() \n",
    "\n",
    "        trajectory.to_csv(outpath + mothname + '_' + visit[:-1] + '.csv')"
   ]
  },
  {
   "cell_type": "code",
   "execution_count": null,
   "metadata": {},
   "outputs": [],
   "source": []
  }
 ],
 "metadata": {
  "kernelspec": {
   "display_name": "Python 3",
   "language": "python",
   "name": "python3"
  },
  "language_info": {
   "codemirror_mode": {
    "name": "ipython",
    "version": 3
   },
   "file_extension": ".py",
   "mimetype": "text/x-python",
   "name": "python",
   "nbconvert_exporter": "python",
   "pygments_lexer": "ipython3",
   "version": "3.6.5"
  }
 },
 "nbformat": 4,
 "nbformat_minor": 2
}
