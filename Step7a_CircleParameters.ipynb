{
 "cells": [
  {
   "cell_type": "markdown",
   "metadata": {},
   "source": [
    "# create the circle parameters for each moth"
   ]
  },
  {
   "cell_type": "code",
   "execution_count": 1,
   "metadata": {},
   "outputs": [
    {
     "name": "stdout",
     "output_type": "stream",
     "text": [
      "4.2.0\n"
     ]
    }
   ],
   "source": [
    "import pandas as pd\n",
    "import glob\n",
    "import os\n",
    "import matplotlib.pyplot as plt\n",
    "import cv2\n",
    "print(cv2.__version__)\n",
    "import numpy as np\n",
    "\n",
    "from skimage.draw import circle_perimeter, circle\n",
    "from skimage import color"
   ]
  },
  {
   "cell_type": "code",
   "execution_count": 2,
   "metadata": {},
   "outputs": [],
   "source": [
    "# load image and get radius and center of image, save as separate csv file\n",
    "\n",
    "def GetCircle(img):\n",
    "    \n",
    "    from skimage.feature import canny\n",
    "#     from skimage import feature, io\n",
    "    from skimage.transform import hough_circle, hough_circle_peaks\n",
    "    \n",
    "    # img - input has to be a grayscale image\n",
    "    blurred = cv2.GaussianBlur(img, (5,5), 0)\n",
    "    # Get the edges\n",
    "    edges = canny(blurred, sigma=5) \n",
    "    # perform the hough transform to get circles of radii close to 100\n",
    "    hough_radii = np.arange(50, 150, 1)\n",
    "    hough_res = hough_circle(edges, hough_radii)\n",
    "\n",
    "    # Select the most prominent circles\n",
    "    accums, cx, cy, radii = hough_circle_peaks(hough_res, hough_radii,\n",
    "                                               total_num_peaks=1)\n",
    "    return(cx[0], cy[0], radii[0])"
   ]
  },
  {
   "cell_type": "code",
   "execution_count": 3,
   "metadata": {},
   "outputs": [],
   "source": [
    "direc = r\"E:\\Downloads\\ManducaMultiSenseData\\Step1\\\\\"\n",
    "datalist = glob.glob(direc + '*.csv')"
   ]
  },
  {
   "cell_type": "code",
   "execution_count": 4,
   "metadata": {},
   "outputs": [
    {
     "name": "stdout",
     "output_type": "stream",
     "text": [
      "True\n",
      "True\n",
      "True\n",
      "True\n",
      "True\n",
      "True\n",
      "True\n",
      "True\n",
      "True\n",
      "True\n",
      "True\n",
      "True\n",
      "True\n",
      "True\n",
      "True\n",
      "True\n",
      "True\n",
      "True\n",
      "True\n",
      "True\n",
      "True\n",
      "True\n",
      "True\n",
      "True\n",
      "True\n",
      "True\n",
      "True\n",
      "True\n",
      "True\n",
      "True\n",
      "True\n",
      "True\n",
      "True\n",
      "True\n",
      "True\n",
      "True\n",
      "True\n",
      "True\n",
      "True\n",
      "True\n",
      "True\n",
      "True\n",
      "True\n",
      "True\n",
      "True\n",
      "True\n",
      "True\n",
      "True\n",
      "True\n",
      "True\n",
      "True\n",
      "True\n",
      "True\n",
      "True\n",
      "True\n"
     ]
    }
   ],
   "source": [
    "# get the bckgrnd image for each moth and store it\n",
    "\n",
    "pathForVideo = r\"E:\\Downloads\\ManducaMultiSenseData\\Videos\\RawVideos\\\\\"\n",
    "\n",
    "for file in datalist:\n",
    "    xx = os.path.basename(file)\n",
    "    name = xx[:-4]\n",
    "    name\n",
    "    \n",
    "    \n",
    "    videopath = glob.glob(pathForVideo + name + \".mp4\", recursive=True)\n",
    "    \n",
    "    vid = cv2.VideoCapture(videopath[0])\n",
    "\n",
    "    ret = vid.set(1,1)\n",
    "    print(ret)\n",
    "\n",
    "    ret, frame = vid.read(1)\n",
    "    \n",
    "    # write the frame\n",
    "    \n",
    "    cv2.imwrite(r\"E:\\Downloads\\ManducaMultiSenseData\\v3\\Centroids_v3\\FlowerImage\\\\\" + name + '_bckgrnd_Img.png',frame)"
   ]
  },
  {
   "cell_type": "code",
   "execution_count": 5,
   "metadata": {},
   "outputs": [],
   "source": [
    "from skimage.draw import circle_perimeter, circle\n",
    "from skimage import color, io"
   ]
  },
  {
   "cell_type": "code",
   "execution_count": 6,
   "metadata": {},
   "outputs": [],
   "source": [
    "# get the circ parameters and save as a single csv\n",
    "\n",
    "Name = []\n",
    "circle_x= []\n",
    "circle_y = []\n",
    "circle_radius = []\n",
    "\n",
    "for name in datalist:\n",
    "    mothID = os.path.basename(name)[:-4]\n",
    "    pathForImage = glob.glob(r\"E:\\Downloads\\ManducaMultiSenseData\\v3\\Centroids_v3\\FlowerImage\\\\\" + mothID + '_bckgrnd_Img.png')\n",
    "    img = io.imread(pathForImage[0],as_gray = True)\n",
    "    circ_x, circ_y, circ_radii = GetCircle(img)\n",
    "    \n",
    "    Name.extend([mothID])\n",
    "    circle_x.extend([circ_x])\n",
    "    circle_y.extend([circ_y])\n",
    "    circle_radius.extend([circ_radii])\n",
    "\n",
    "    # Draw the circle on the image to confirm you have the right thing\n",
    "    bckgrnd_tmp = color.gray2rgb(img)\n",
    "    circy, circx = circle_perimeter(circ_y, circ_x, circ_radii)\n",
    "    bckgrnd_tmp[circ_y-2:circ_y+2, circ_x-2:circ_x+2] = (20, 220, 20)\n",
    "    bckgrnd_tmp[circy, circx] = (20, 220, 20)\n",
    "    cv2.imwrite(r\"E:\\Downloads\\ManducaMultiSenseData\\v3\\Centroids_v3\\FlowerImage\\\\\" + mothID + '_DetectedCircle.png', bckgrnd_tmp)\n",
    "#     plt.imshow(bckgrnd_tmp, cmap='gray')\n",
    "\n",
    "circle_params = pd.DataFrame({'name': Name, 'circ_x' : circle_x, 'circ_y': circle_y, 'circ_radii': circle_radius})\n",
    "circle_params.to_csv(r\"E:\\Downloads\\ManducaMultiSenseData\\v3\\Centroids_v3\\FlowerImage\\\\circle_params.csv\")"
   ]
  },
  {
   "cell_type": "code",
   "execution_count": null,
   "metadata": {},
   "outputs": [],
   "source": []
  }
 ],
 "metadata": {
  "kernelspec": {
   "display_name": "Python 3",
   "language": "python",
   "name": "python3"
  },
  "language_info": {
   "codemirror_mode": {
    "name": "ipython",
    "version": 3
   },
   "file_extension": ".py",
   "mimetype": "text/x-python",
   "name": "python",
   "nbconvert_exporter": "python",
   "pygments_lexer": "ipython3",
   "version": "3.7.6"
  }
 },
 "nbformat": 4,
 "nbformat_minor": 2
}
